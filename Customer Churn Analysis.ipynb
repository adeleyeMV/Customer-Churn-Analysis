{
 "cells": [
  {
   "cell_type": "markdown",
   "id": "e9afc40b",
   "metadata": {
    "papermill": {
     "duration": 0.014506,
     "end_time": "2023-11-14T14:42:17.941961",
     "exception": false,
     "start_time": "2023-11-14T14:42:17.927455",
     "status": "completed"
    },
    "tags": []
   },
   "source": [
    "# <p style=\"padding:10px;background-color:#E28F6B;margin:0;color:white;font-family:newtimeroman;font-size:200%;text-align:center;border-radius: 50px;font-family: Verdana; overflow:hidden;font-weight:500\">Customer Churn Analysis</p>\n",
    "\n",
    "<p style=\"text-align:center; \">\n",
    "<img src=\"https://newsdailyarticles.com/wp-content/uploads/2020/09/5-Effective-Tips-To-Reduce-Customer-Churn.jpg\" style='width: 500px; height: 350px;'>\n",
    "</p>\n"
   ]
  },
  {
   "cell_type": "markdown",
   "id": "a14e7f3a",
   "metadata": {
    "papermill": {
     "duration": 0.013886,
     "end_time": "2023-11-14T14:42:17.970516",
     "exception": false,
     "start_time": "2023-11-14T14:42:17.956630",
     "status": "completed"
    },
    "tags": []
   },
   "source": [
    "**`Customer churn`** is a major problem for businesses, as it leads to a loss of revenue and customers. Customer churn (or customer attrition) refers to the loss of customers or subscribers for any reason at all. Businesses measure and track churn as a percentage of lost customers compared to the total number of customers over a given time period. This metric is usually tracked monthly and reported at the end of the month. Therefore, it is important to identify the customers who are likely to churn and take appropriate action to retain them. we will use logistic regression to predict customer churn using a telecommunications dataset."
   ]
  },
  {
   "cell_type": "code",
   "execution_count": 1,
   "id": "93919bac",
   "metadata": {
    "execution": {
     "iopub.execute_input": "2023-11-14T14:42:18.002707Z",
     "iopub.status.busy": "2023-11-14T14:42:18.002074Z",
     "iopub.status.idle": "2023-11-14T14:42:20.341641Z",
     "shell.execute_reply": "2023-11-14T14:42:20.340632Z"
    },
    "papermill": {
     "duration": 2.358877,
     "end_time": "2023-11-14T14:42:20.344151",
     "exception": false,
     "start_time": "2023-11-14T14:42:17.985274",
     "status": "completed"
    },
    "tags": []
   },
   "outputs": [],
   "source": [
    "import pandas as pd \n",
    "import numpy as np\n",
    "import matplotlib.pyplot as plt\n",
    "import seaborn as sns \n",
    "import plotly.express as px\n",
    "import warnings\n",
    "warnings.filterwarnings('ignore')"
   ]
  },
  {
   "cell_type": "code",
   "execution_count": 2,
   "id": "d71ec2ad",
   "metadata": {
    "execution": {
     "iopub.execute_input": "2023-11-14T14:42:20.376076Z",
     "iopub.status.busy": "2023-11-14T14:42:20.375458Z",
     "iopub.status.idle": "2023-11-14T14:42:23.902721Z",
     "shell.execute_reply": "2023-11-14T14:42:23.901288Z"
    },
    "papermill": {
     "duration": 3.545603,
     "end_time": "2023-11-14T14:42:23.904940",
     "exception": false,
     "start_time": "2023-11-14T14:42:20.359337",
     "status": "completed"
    },
    "tags": []
   },
   "outputs": [
    {
     "data": {
      "text/html": [
       "<div>\n",
       "<style scoped>\n",
       "    .dataframe tbody tr th:only-of-type {\n",
       "        vertical-align: middle;\n",
       "    }\n",
       "\n",
       "    .dataframe tbody tr th {\n",
       "        vertical-align: top;\n",
       "    }\n",
       "\n",
       "    .dataframe thead th {\n",
       "        text-align: right;\n",
       "    }\n",
       "</style>\n",
       "<table border=\"1\" class=\"dataframe\">\n",
       "  <thead>\n",
       "    <tr style=\"text-align: right;\">\n",
       "      <th></th>\n",
       "      <th>CustomerID</th>\n",
       "      <th>Count</th>\n",
       "      <th>Country</th>\n",
       "      <th>State</th>\n",
       "      <th>City</th>\n",
       "      <th>Zip Code</th>\n",
       "      <th>Lat Long</th>\n",
       "      <th>Latitude</th>\n",
       "      <th>Longitude</th>\n",
       "      <th>Gender</th>\n",
       "      <th>...</th>\n",
       "      <th>Contract</th>\n",
       "      <th>Paperless Billing</th>\n",
       "      <th>Payment Method</th>\n",
       "      <th>Monthly Charges</th>\n",
       "      <th>Total Charges</th>\n",
       "      <th>Churn Label</th>\n",
       "      <th>Churn Value</th>\n",
       "      <th>Churn Score</th>\n",
       "      <th>CLTV</th>\n",
       "      <th>Churn Reason</th>\n",
       "    </tr>\n",
       "  </thead>\n",
       "  <tbody>\n",
       "    <tr>\n",
       "      <th>0</th>\n",
       "      <td>3668-QPYBK</td>\n",
       "      <td>1</td>\n",
       "      <td>United States</td>\n",
       "      <td>California</td>\n",
       "      <td>Los Angeles</td>\n",
       "      <td>90003</td>\n",
       "      <td>33.964131, -118.272783</td>\n",
       "      <td>33.964131</td>\n",
       "      <td>-118.272783</td>\n",
       "      <td>Male</td>\n",
       "      <td>...</td>\n",
       "      <td>Month-to-month</td>\n",
       "      <td>Yes</td>\n",
       "      <td>Mailed check</td>\n",
       "      <td>53.85</td>\n",
       "      <td>108.15</td>\n",
       "      <td>Yes</td>\n",
       "      <td>1</td>\n",
       "      <td>86</td>\n",
       "      <td>3239</td>\n",
       "      <td>Competitor made better offer</td>\n",
       "    </tr>\n",
       "    <tr>\n",
       "      <th>1</th>\n",
       "      <td>9237-HQITU</td>\n",
       "      <td>1</td>\n",
       "      <td>United States</td>\n",
       "      <td>California</td>\n",
       "      <td>Los Angeles</td>\n",
       "      <td>90005</td>\n",
       "      <td>34.059281, -118.30742</td>\n",
       "      <td>34.059281</td>\n",
       "      <td>-118.307420</td>\n",
       "      <td>Female</td>\n",
       "      <td>...</td>\n",
       "      <td>Month-to-month</td>\n",
       "      <td>Yes</td>\n",
       "      <td>Electronic check</td>\n",
       "      <td>70.70</td>\n",
       "      <td>151.65</td>\n",
       "      <td>Yes</td>\n",
       "      <td>1</td>\n",
       "      <td>67</td>\n",
       "      <td>2701</td>\n",
       "      <td>Moved</td>\n",
       "    </tr>\n",
       "    <tr>\n",
       "      <th>2</th>\n",
       "      <td>9305-CDSKC</td>\n",
       "      <td>1</td>\n",
       "      <td>United States</td>\n",
       "      <td>California</td>\n",
       "      <td>Los Angeles</td>\n",
       "      <td>90006</td>\n",
       "      <td>34.048013, -118.293953</td>\n",
       "      <td>34.048013</td>\n",
       "      <td>-118.293953</td>\n",
       "      <td>Female</td>\n",
       "      <td>...</td>\n",
       "      <td>Month-to-month</td>\n",
       "      <td>Yes</td>\n",
       "      <td>Electronic check</td>\n",
       "      <td>99.65</td>\n",
       "      <td>820.5</td>\n",
       "      <td>Yes</td>\n",
       "      <td>1</td>\n",
       "      <td>86</td>\n",
       "      <td>5372</td>\n",
       "      <td>Moved</td>\n",
       "    </tr>\n",
       "    <tr>\n",
       "      <th>3</th>\n",
       "      <td>7892-POOKP</td>\n",
       "      <td>1</td>\n",
       "      <td>United States</td>\n",
       "      <td>California</td>\n",
       "      <td>Los Angeles</td>\n",
       "      <td>90010</td>\n",
       "      <td>34.062125, -118.315709</td>\n",
       "      <td>34.062125</td>\n",
       "      <td>-118.315709</td>\n",
       "      <td>Female</td>\n",
       "      <td>...</td>\n",
       "      <td>Month-to-month</td>\n",
       "      <td>Yes</td>\n",
       "      <td>Electronic check</td>\n",
       "      <td>104.80</td>\n",
       "      <td>3046.05</td>\n",
       "      <td>Yes</td>\n",
       "      <td>1</td>\n",
       "      <td>84</td>\n",
       "      <td>5003</td>\n",
       "      <td>Moved</td>\n",
       "    </tr>\n",
       "    <tr>\n",
       "      <th>4</th>\n",
       "      <td>0280-XJGEX</td>\n",
       "      <td>1</td>\n",
       "      <td>United States</td>\n",
       "      <td>California</td>\n",
       "      <td>Los Angeles</td>\n",
       "      <td>90015</td>\n",
       "      <td>34.039224, -118.266293</td>\n",
       "      <td>34.039224</td>\n",
       "      <td>-118.266293</td>\n",
       "      <td>Male</td>\n",
       "      <td>...</td>\n",
       "      <td>Month-to-month</td>\n",
       "      <td>Yes</td>\n",
       "      <td>Bank transfer (automatic)</td>\n",
       "      <td>103.70</td>\n",
       "      <td>5036.3</td>\n",
       "      <td>Yes</td>\n",
       "      <td>1</td>\n",
       "      <td>89</td>\n",
       "      <td>5340</td>\n",
       "      <td>Competitor had better devices</td>\n",
       "    </tr>\n",
       "  </tbody>\n",
       "</table>\n",
       "<p>5 rows × 33 columns</p>\n",
       "</div>"
      ],
      "text/plain": [
       "   CustomerID  Count        Country       State         City  Zip Code  \\\n",
       "0  3668-QPYBK      1  United States  California  Los Angeles     90003   \n",
       "1  9237-HQITU      1  United States  California  Los Angeles     90005   \n",
       "2  9305-CDSKC      1  United States  California  Los Angeles     90006   \n",
       "3  7892-POOKP      1  United States  California  Los Angeles     90010   \n",
       "4  0280-XJGEX      1  United States  California  Los Angeles     90015   \n",
       "\n",
       "                 Lat Long   Latitude   Longitude  Gender  ...        Contract  \\\n",
       "0  33.964131, -118.272783  33.964131 -118.272783    Male  ...  Month-to-month   \n",
       "1   34.059281, -118.30742  34.059281 -118.307420  Female  ...  Month-to-month   \n",
       "2  34.048013, -118.293953  34.048013 -118.293953  Female  ...  Month-to-month   \n",
       "3  34.062125, -118.315709  34.062125 -118.315709  Female  ...  Month-to-month   \n",
       "4  34.039224, -118.266293  34.039224 -118.266293    Male  ...  Month-to-month   \n",
       "\n",
       "  Paperless Billing             Payment Method  Monthly Charges Total Charges  \\\n",
       "0               Yes               Mailed check            53.85        108.15   \n",
       "1               Yes           Electronic check            70.70        151.65   \n",
       "2               Yes           Electronic check            99.65         820.5   \n",
       "3               Yes           Electronic check           104.80       3046.05   \n",
       "4               Yes  Bank transfer (automatic)           103.70        5036.3   \n",
       "\n",
       "  Churn Label Churn Value Churn Score  CLTV                   Churn Reason  \n",
       "0         Yes           1          86  3239   Competitor made better offer  \n",
       "1         Yes           1          67  2701                          Moved  \n",
       "2         Yes           1          86  5372                          Moved  \n",
       "3         Yes           1          84  5003                          Moved  \n",
       "4         Yes           1          89  5340  Competitor had better devices  \n",
       "\n",
       "[5 rows x 33 columns]"
      ]
     },
     "execution_count": 2,
     "metadata": {},
     "output_type": "execute_result"
    }
   ],
   "source": [
    "df = pd.read_excel('/kaggle/input/telco-customer-churn-ibm-dataset/Telco_customer_churn.xlsx')\n",
    "df.head()"
   ]
  },
  {
   "cell_type": "markdown",
   "id": "b391edaf",
   "metadata": {
    "papermill": {
     "duration": 0.01501,
     "end_time": "2023-11-14T14:42:23.935332",
     "exception": false,
     "start_time": "2023-11-14T14:42:23.920322",
     "status": "completed"
    },
    "tags": []
   },
   "source": [
    "# Data Review and Cleaning"
   ]
  },
  {
   "cell_type": "code",
   "execution_count": 3,
   "id": "c09ca204",
   "metadata": {
    "execution": {
     "iopub.execute_input": "2023-11-14T14:42:23.968248Z",
     "iopub.status.busy": "2023-11-14T14:42:23.966844Z",
     "iopub.status.idle": "2023-11-14T14:42:24.000424Z",
     "shell.execute_reply": "2023-11-14T14:42:23.998568Z"
    },
    "papermill": {
     "duration": 0.051888,
     "end_time": "2023-11-14T14:42:24.002301",
     "exception": false,
     "start_time": "2023-11-14T14:42:23.950413",
     "status": "completed"
    },
    "tags": []
   },
   "outputs": [
    {
     "name": "stdout",
     "output_type": "stream",
     "text": [
      "<class 'pandas.core.frame.DataFrame'>\n",
      "RangeIndex: 7043 entries, 0 to 7042\n",
      "Data columns (total 33 columns):\n",
      " #   Column             Non-Null Count  Dtype  \n",
      "---  ------             --------------  -----  \n",
      " 0   CustomerID         7043 non-null   object \n",
      " 1   Count              7043 non-null   int64  \n",
      " 2   Country            7043 non-null   object \n",
      " 3   State              7043 non-null   object \n",
      " 4   City               7043 non-null   object \n",
      " 5   Zip Code           7043 non-null   int64  \n",
      " 6   Lat Long           7043 non-null   object \n",
      " 7   Latitude           7043 non-null   float64\n",
      " 8   Longitude          7043 non-null   float64\n",
      " 9   Gender             7043 non-null   object \n",
      " 10  Senior Citizen     7043 non-null   object \n",
      " 11  Partner            7043 non-null   object \n",
      " 12  Dependents         7043 non-null   object \n",
      " 13  Tenure Months      7043 non-null   int64  \n",
      " 14  Phone Service      7043 non-null   object \n",
      " 15  Multiple Lines     7043 non-null   object \n",
      " 16  Internet Service   7043 non-null   object \n",
      " 17  Online Security    7043 non-null   object \n",
      " 18  Online Backup      7043 non-null   object \n",
      " 19  Device Protection  7043 non-null   object \n",
      " 20  Tech Support       7043 non-null   object \n",
      " 21  Streaming TV       7043 non-null   object \n",
      " 22  Streaming Movies   7043 non-null   object \n",
      " 23  Contract           7043 non-null   object \n",
      " 24  Paperless Billing  7043 non-null   object \n",
      " 25  Payment Method     7043 non-null   object \n",
      " 26  Monthly Charges    7043 non-null   float64\n",
      " 27  Total Charges      7043 non-null   object \n",
      " 28  Churn Label        7043 non-null   object \n",
      " 29  Churn Value        7043 non-null   int64  \n",
      " 30  Churn Score        7043 non-null   int64  \n",
      " 31  CLTV               7043 non-null   int64  \n",
      " 32  Churn Reason       1869 non-null   object \n",
      "dtypes: float64(3), int64(6), object(24)\n",
      "memory usage: 1.8+ MB\n"
     ]
    }
   ],
   "source": [
    "df.info()"
   ]
  },
  {
   "cell_type": "markdown",
   "id": "347d64e5",
   "metadata": {
    "papermill": {
     "duration": 0.014868,
     "end_time": "2023-11-14T14:42:24.038227",
     "exception": false,
     "start_time": "2023-11-14T14:42:24.023359",
     "status": "completed"
    },
    "tags": []
   },
   "source": [
    "**Notice: `Total Charges` column has a object data type but it is numerical data, so let's change data type for this column.**"
   ]
  },
  {
   "cell_type": "code",
   "execution_count": 4,
   "id": "01bb96ff",
   "metadata": {
    "execution": {
     "iopub.execute_input": "2023-11-14T14:42:24.120043Z",
     "iopub.status.busy": "2023-11-14T14:42:24.118813Z",
     "iopub.status.idle": "2023-11-14T14:42:24.125938Z",
     "shell.execute_reply": "2023-11-14T14:42:24.124880Z"
    },
    "papermill": {
     "duration": 0.074953,
     "end_time": "2023-11-14T14:42:24.128195",
     "exception": false,
     "start_time": "2023-11-14T14:42:24.053242",
     "status": "completed"
    },
    "tags": []
   },
   "outputs": [],
   "source": [
    "df['Total Charges'] = pd.to_numeric(df['Total Charges'], errors='coerce')"
   ]
  },
  {
   "cell_type": "code",
   "execution_count": 5,
   "id": "7709a40e",
   "metadata": {
    "execution": {
     "iopub.execute_input": "2023-11-14T14:42:24.160551Z",
     "iopub.status.busy": "2023-11-14T14:42:24.160142Z",
     "iopub.status.idle": "2023-11-14T14:42:24.171970Z",
     "shell.execute_reply": "2023-11-14T14:42:24.170993Z"
    },
    "papermill": {
     "duration": 0.030545,
     "end_time": "2023-11-14T14:42:24.174031",
     "exception": false,
     "start_time": "2023-11-14T14:42:24.143486",
     "status": "completed"
    },
    "tags": []
   },
   "outputs": [
    {
     "name": "stdout",
     "output_type": "stream",
     "text": [
      "Number of:\n",
      "\n",
      "float features: 4\n",
      "int features: 6\n",
      "object features: 23\n",
      "\n"
     ]
    }
   ],
   "source": [
    "# Get the number of columns of each data type\n",
    "print(f\"\"\"Number of:\n",
    "\n",
    "float features: {len(df.select_dtypes('float').columns)}\n",
    "int features: {len(df.select_dtypes('int').columns)}\n",
    "object features: {len(df.select_dtypes('object').columns)}\n",
    "\"\"\")  "
   ]
  },
  {
   "cell_type": "code",
   "execution_count": 6,
   "id": "869a2b92",
   "metadata": {
    "execution": {
     "iopub.execute_input": "2023-11-14T14:42:24.206601Z",
     "iopub.status.busy": "2023-11-14T14:42:24.205331Z",
     "iopub.status.idle": "2023-11-14T14:42:24.227418Z",
     "shell.execute_reply": "2023-11-14T14:42:24.226472Z"
    },
    "papermill": {
     "duration": 0.040199,
     "end_time": "2023-11-14T14:42:24.229267",
     "exception": false,
     "start_time": "2023-11-14T14:42:24.189068",
     "status": "completed"
    },
    "tags": []
   },
   "outputs": [
    {
     "data": {
      "text/html": [
       "<div>\n",
       "<style scoped>\n",
       "    .dataframe tbody tr th:only-of-type {\n",
       "        vertical-align: middle;\n",
       "    }\n",
       "\n",
       "    .dataframe tbody tr th {\n",
       "        vertical-align: top;\n",
       "    }\n",
       "\n",
       "    .dataframe thead th {\n",
       "        text-align: right;\n",
       "    }\n",
       "</style>\n",
       "<table border=\"1\" class=\"dataframe\">\n",
       "  <thead>\n",
       "    <tr style=\"text-align: right;\">\n",
       "      <th></th>\n",
       "      <th>mean of nulls</th>\n",
       "      <th>number of nulls</th>\n",
       "    </tr>\n",
       "  </thead>\n",
       "  <tbody>\n",
       "    <tr>\n",
       "      <th>Churn Reason</th>\n",
       "      <td>0.734630</td>\n",
       "      <td>5174</td>\n",
       "    </tr>\n",
       "    <tr>\n",
       "      <th>Total Charges</th>\n",
       "      <td>0.001562</td>\n",
       "      <td>11</td>\n",
       "    </tr>\n",
       "  </tbody>\n",
       "</table>\n",
       "</div>"
      ],
      "text/plain": [
       "               mean of nulls  number of nulls\n",
       "Churn Reason        0.734630             5174\n",
       "Total Charges       0.001562               11"
      ]
     },
     "execution_count": 6,
     "metadata": {},
     "output_type": "execute_result"
    }
   ],
   "source": [
    "data_na = (df.isnull().sum() / len(df)) \n",
    "data_na = data_na.drop(data_na[data_na == 0].index).sort_values(ascending=False)\n",
    "missing_data = pd.DataFrame({'mean of nulls' :data_na, \"number of nulls\" : df[data_na.index].isna().sum()})\n",
    "missing_data"
   ]
  },
  {
   "cell_type": "markdown",
   "id": "ee8f1a18",
   "metadata": {
    "papermill": {
     "duration": 0.014602,
     "end_time": "2023-11-14T14:42:24.259280",
     "exception": false,
     "start_time": "2023-11-14T14:42:24.244678",
     "status": "completed"
    },
    "tags": []
   },
   "source": [
    "## The reason of nulls and how to handle them?"
   ]
  },
  {
   "cell_type": "markdown",
   "id": "fb1e6051",
   "metadata": {
    "papermill": {
     "duration": 0.014542,
     "end_time": "2023-11-14T14:42:24.288566",
     "exception": false,
     "start_time": "2023-11-14T14:42:24.274024",
     "status": "completed"
    },
    "tags": []
   },
   "source": [
    "**Churn Reason column**"
   ]
  },
  {
   "cell_type": "markdown",
   "id": "baf6689a",
   "metadata": {
    "papermill": {
     "duration": 0.014324,
     "end_time": "2023-11-14T14:42:24.319202",
     "exception": false,
     "start_time": "2023-11-14T14:42:24.304878",
     "status": "completed"
    },
    "tags": []
   },
   "source": [
    "About `73%`(5174) of Churn Reason column is missing data, But why?"
   ]
  },
  {
   "cell_type": "code",
   "execution_count": 7,
   "id": "d603d823",
   "metadata": {
    "execution": {
     "iopub.execute_input": "2023-11-14T14:42:24.351293Z",
     "iopub.status.busy": "2023-11-14T14:42:24.350638Z",
     "iopub.status.idle": "2023-11-14T14:42:24.358191Z",
     "shell.execute_reply": "2023-11-14T14:42:24.357247Z"
    },
    "papermill": {
     "duration": 0.026242,
     "end_time": "2023-11-14T14:42:24.360408",
     "exception": false,
     "start_time": "2023-11-14T14:42:24.334166",
     "status": "completed"
    },
    "tags": []
   },
   "outputs": [
    {
     "data": {
      "text/plain": [
       "Churn Label\n",
       "No     0.73463\n",
       "Yes    0.26537\n",
       "Name: proportion, dtype: float64"
      ]
     },
     "execution_count": 7,
     "metadata": {},
     "output_type": "execute_result"
    }
   ],
   "source": [
    "df['Churn Label'].value_counts(normalize=True)"
   ]
  },
  {
   "cell_type": "markdown",
   "id": "749a6c98",
   "metadata": {
    "papermill": {
     "duration": 0.015151,
     "end_time": "2023-11-14T14:42:24.391270",
     "exception": false,
     "start_time": "2023-11-14T14:42:24.376119",
     "status": "completed"
    },
    "tags": []
   },
   "source": [
    "You can see about `73%` of customers have a Churn Label = No, so they don't need to have some Churn Reason.\n",
    "\n",
    "**We will drop this column becouse a general rule is that, if more than half of the data in a column is missing, it's better to drop.**"
   ]
  },
  {
   "cell_type": "markdown",
   "id": "e9b63f81",
   "metadata": {
    "papermill": {
     "duration": 0.015336,
     "end_time": "2023-11-14T14:42:24.422873",
     "exception": false,
     "start_time": "2023-11-14T14:42:24.407537",
     "status": "completed"
    },
    "tags": []
   },
   "source": [
    "**Total Charges column**"
   ]
  },
  {
   "cell_type": "code",
   "execution_count": 8,
   "id": "1fd916a3",
   "metadata": {
    "execution": {
     "iopub.execute_input": "2023-11-14T14:42:24.454733Z",
     "iopub.status.busy": "2023-11-14T14:42:24.453731Z",
     "iopub.status.idle": "2023-11-14T14:42:24.476017Z",
     "shell.execute_reply": "2023-11-14T14:42:24.475149Z"
    },
    "papermill": {
     "duration": 0.040694,
     "end_time": "2023-11-14T14:42:24.478436",
     "exception": false,
     "start_time": "2023-11-14T14:42:24.437742",
     "status": "completed"
    },
    "tags": []
   },
   "outputs": [
    {
     "data": {
      "text/html": [
       "<div>\n",
       "<style scoped>\n",
       "    .dataframe tbody tr th:only-of-type {\n",
       "        vertical-align: middle;\n",
       "    }\n",
       "\n",
       "    .dataframe tbody tr th {\n",
       "        vertical-align: top;\n",
       "    }\n",
       "\n",
       "    .dataframe thead th {\n",
       "        text-align: right;\n",
       "    }\n",
       "</style>\n",
       "<table border=\"1\" class=\"dataframe\">\n",
       "  <thead>\n",
       "    <tr style=\"text-align: right;\">\n",
       "      <th></th>\n",
       "      <th>CustomerID</th>\n",
       "      <th>Count</th>\n",
       "      <th>Country</th>\n",
       "      <th>State</th>\n",
       "      <th>City</th>\n",
       "      <th>Zip Code</th>\n",
       "      <th>Lat Long</th>\n",
       "      <th>Latitude</th>\n",
       "      <th>Longitude</th>\n",
       "      <th>Gender</th>\n",
       "      <th>...</th>\n",
       "      <th>Contract</th>\n",
       "      <th>Paperless Billing</th>\n",
       "      <th>Payment Method</th>\n",
       "      <th>Monthly Charges</th>\n",
       "      <th>Total Charges</th>\n",
       "      <th>Churn Label</th>\n",
       "      <th>Churn Value</th>\n",
       "      <th>Churn Score</th>\n",
       "      <th>CLTV</th>\n",
       "      <th>Churn Reason</th>\n",
       "    </tr>\n",
       "  </thead>\n",
       "  <tbody>\n",
       "    <tr>\n",
       "      <th>2234</th>\n",
       "      <td>4472-LVYGI</td>\n",
       "      <td>1</td>\n",
       "      <td>United States</td>\n",
       "      <td>California</td>\n",
       "      <td>San Bernardino</td>\n",
       "      <td>92408</td>\n",
       "      <td>34.084909, -117.258107</td>\n",
       "      <td>34.084909</td>\n",
       "      <td>-117.258107</td>\n",
       "      <td>Female</td>\n",
       "      <td>...</td>\n",
       "      <td>Two year</td>\n",
       "      <td>Yes</td>\n",
       "      <td>Bank transfer (automatic)</td>\n",
       "      <td>52.55</td>\n",
       "      <td>NaN</td>\n",
       "      <td>No</td>\n",
       "      <td>0</td>\n",
       "      <td>36</td>\n",
       "      <td>2578</td>\n",
       "      <td>NaN</td>\n",
       "    </tr>\n",
       "    <tr>\n",
       "      <th>2438</th>\n",
       "      <td>3115-CZMZD</td>\n",
       "      <td>1</td>\n",
       "      <td>United States</td>\n",
       "      <td>California</td>\n",
       "      <td>Independence</td>\n",
       "      <td>93526</td>\n",
       "      <td>36.869584, -118.189241</td>\n",
       "      <td>36.869584</td>\n",
       "      <td>-118.189241</td>\n",
       "      <td>Male</td>\n",
       "      <td>...</td>\n",
       "      <td>Two year</td>\n",
       "      <td>No</td>\n",
       "      <td>Mailed check</td>\n",
       "      <td>20.25</td>\n",
       "      <td>NaN</td>\n",
       "      <td>No</td>\n",
       "      <td>0</td>\n",
       "      <td>68</td>\n",
       "      <td>5504</td>\n",
       "      <td>NaN</td>\n",
       "    </tr>\n",
       "    <tr>\n",
       "      <th>2568</th>\n",
       "      <td>5709-LVOEQ</td>\n",
       "      <td>1</td>\n",
       "      <td>United States</td>\n",
       "      <td>California</td>\n",
       "      <td>San Mateo</td>\n",
       "      <td>94401</td>\n",
       "      <td>37.590421, -122.306467</td>\n",
       "      <td>37.590421</td>\n",
       "      <td>-122.306467</td>\n",
       "      <td>Female</td>\n",
       "      <td>...</td>\n",
       "      <td>Two year</td>\n",
       "      <td>No</td>\n",
       "      <td>Mailed check</td>\n",
       "      <td>80.85</td>\n",
       "      <td>NaN</td>\n",
       "      <td>No</td>\n",
       "      <td>0</td>\n",
       "      <td>45</td>\n",
       "      <td>2048</td>\n",
       "      <td>NaN</td>\n",
       "    </tr>\n",
       "    <tr>\n",
       "      <th>2667</th>\n",
       "      <td>4367-NUYAO</td>\n",
       "      <td>1</td>\n",
       "      <td>United States</td>\n",
       "      <td>California</td>\n",
       "      <td>Cupertino</td>\n",
       "      <td>95014</td>\n",
       "      <td>37.306612, -122.080621</td>\n",
       "      <td>37.306612</td>\n",
       "      <td>-122.080621</td>\n",
       "      <td>Male</td>\n",
       "      <td>...</td>\n",
       "      <td>Two year</td>\n",
       "      <td>No</td>\n",
       "      <td>Mailed check</td>\n",
       "      <td>25.75</td>\n",
       "      <td>NaN</td>\n",
       "      <td>No</td>\n",
       "      <td>0</td>\n",
       "      <td>48</td>\n",
       "      <td>4950</td>\n",
       "      <td>NaN</td>\n",
       "    </tr>\n",
       "    <tr>\n",
       "      <th>2856</th>\n",
       "      <td>1371-DWPAZ</td>\n",
       "      <td>1</td>\n",
       "      <td>United States</td>\n",
       "      <td>California</td>\n",
       "      <td>Redcrest</td>\n",
       "      <td>95569</td>\n",
       "      <td>40.363446, -123.835041</td>\n",
       "      <td>40.363446</td>\n",
       "      <td>-123.835041</td>\n",
       "      <td>Female</td>\n",
       "      <td>...</td>\n",
       "      <td>Two year</td>\n",
       "      <td>No</td>\n",
       "      <td>Credit card (automatic)</td>\n",
       "      <td>56.05</td>\n",
       "      <td>NaN</td>\n",
       "      <td>No</td>\n",
       "      <td>0</td>\n",
       "      <td>30</td>\n",
       "      <td>4740</td>\n",
       "      <td>NaN</td>\n",
       "    </tr>\n",
       "    <tr>\n",
       "      <th>4331</th>\n",
       "      <td>7644-OMVMY</td>\n",
       "      <td>1</td>\n",
       "      <td>United States</td>\n",
       "      <td>California</td>\n",
       "      <td>Los Angeles</td>\n",
       "      <td>90029</td>\n",
       "      <td>34.089953, -118.294824</td>\n",
       "      <td>34.089953</td>\n",
       "      <td>-118.294824</td>\n",
       "      <td>Male</td>\n",
       "      <td>...</td>\n",
       "      <td>Two year</td>\n",
       "      <td>No</td>\n",
       "      <td>Mailed check</td>\n",
       "      <td>19.85</td>\n",
       "      <td>NaN</td>\n",
       "      <td>No</td>\n",
       "      <td>0</td>\n",
       "      <td>53</td>\n",
       "      <td>2019</td>\n",
       "      <td>NaN</td>\n",
       "    </tr>\n",
       "    <tr>\n",
       "      <th>4687</th>\n",
       "      <td>3213-VVOLG</td>\n",
       "      <td>1</td>\n",
       "      <td>United States</td>\n",
       "      <td>California</td>\n",
       "      <td>Sun City</td>\n",
       "      <td>92585</td>\n",
       "      <td>33.739412, -117.173334</td>\n",
       "      <td>33.739412</td>\n",
       "      <td>-117.173334</td>\n",
       "      <td>Male</td>\n",
       "      <td>...</td>\n",
       "      <td>Two year</td>\n",
       "      <td>No</td>\n",
       "      <td>Mailed check</td>\n",
       "      <td>25.35</td>\n",
       "      <td>NaN</td>\n",
       "      <td>No</td>\n",
       "      <td>0</td>\n",
       "      <td>49</td>\n",
       "      <td>2299</td>\n",
       "      <td>NaN</td>\n",
       "    </tr>\n",
       "    <tr>\n",
       "      <th>5104</th>\n",
       "      <td>2520-SGTTA</td>\n",
       "      <td>1</td>\n",
       "      <td>United States</td>\n",
       "      <td>California</td>\n",
       "      <td>Ben Lomond</td>\n",
       "      <td>95005</td>\n",
       "      <td>37.078873, -122.090386</td>\n",
       "      <td>37.078873</td>\n",
       "      <td>-122.090386</td>\n",
       "      <td>Female</td>\n",
       "      <td>...</td>\n",
       "      <td>Two year</td>\n",
       "      <td>No</td>\n",
       "      <td>Mailed check</td>\n",
       "      <td>20.00</td>\n",
       "      <td>NaN</td>\n",
       "      <td>No</td>\n",
       "      <td>0</td>\n",
       "      <td>27</td>\n",
       "      <td>3763</td>\n",
       "      <td>NaN</td>\n",
       "    </tr>\n",
       "    <tr>\n",
       "      <th>5719</th>\n",
       "      <td>2923-ARZLG</td>\n",
       "      <td>1</td>\n",
       "      <td>United States</td>\n",
       "      <td>California</td>\n",
       "      <td>La Verne</td>\n",
       "      <td>91750</td>\n",
       "      <td>34.144703, -117.770299</td>\n",
       "      <td>34.144703</td>\n",
       "      <td>-117.770299</td>\n",
       "      <td>Male</td>\n",
       "      <td>...</td>\n",
       "      <td>One year</td>\n",
       "      <td>Yes</td>\n",
       "      <td>Mailed check</td>\n",
       "      <td>19.70</td>\n",
       "      <td>NaN</td>\n",
       "      <td>No</td>\n",
       "      <td>0</td>\n",
       "      <td>69</td>\n",
       "      <td>4890</td>\n",
       "      <td>NaN</td>\n",
       "    </tr>\n",
       "    <tr>\n",
       "      <th>6772</th>\n",
       "      <td>4075-WKNIU</td>\n",
       "      <td>1</td>\n",
       "      <td>United States</td>\n",
       "      <td>California</td>\n",
       "      <td>Bell</td>\n",
       "      <td>90201</td>\n",
       "      <td>33.970343, -118.171368</td>\n",
       "      <td>33.970343</td>\n",
       "      <td>-118.171368</td>\n",
       "      <td>Female</td>\n",
       "      <td>...</td>\n",
       "      <td>Two year</td>\n",
       "      <td>No</td>\n",
       "      <td>Mailed check</td>\n",
       "      <td>73.35</td>\n",
       "      <td>NaN</td>\n",
       "      <td>No</td>\n",
       "      <td>0</td>\n",
       "      <td>44</td>\n",
       "      <td>2342</td>\n",
       "      <td>NaN</td>\n",
       "    </tr>\n",
       "    <tr>\n",
       "      <th>6840</th>\n",
       "      <td>2775-SEFEE</td>\n",
       "      <td>1</td>\n",
       "      <td>United States</td>\n",
       "      <td>California</td>\n",
       "      <td>Wilmington</td>\n",
       "      <td>90744</td>\n",
       "      <td>33.782068, -118.262263</td>\n",
       "      <td>33.782068</td>\n",
       "      <td>-118.262263</td>\n",
       "      <td>Male</td>\n",
       "      <td>...</td>\n",
       "      <td>Two year</td>\n",
       "      <td>Yes</td>\n",
       "      <td>Bank transfer (automatic)</td>\n",
       "      <td>61.90</td>\n",
       "      <td>NaN</td>\n",
       "      <td>No</td>\n",
       "      <td>0</td>\n",
       "      <td>65</td>\n",
       "      <td>5188</td>\n",
       "      <td>NaN</td>\n",
       "    </tr>\n",
       "  </tbody>\n",
       "</table>\n",
       "<p>11 rows × 33 columns</p>\n",
       "</div>"
      ],
      "text/plain": [
       "      CustomerID  Count        Country       State            City  Zip Code  \\\n",
       "2234  4472-LVYGI      1  United States  California  San Bernardino     92408   \n",
       "2438  3115-CZMZD      1  United States  California    Independence     93526   \n",
       "2568  5709-LVOEQ      1  United States  California       San Mateo     94401   \n",
       "2667  4367-NUYAO      1  United States  California       Cupertino     95014   \n",
       "2856  1371-DWPAZ      1  United States  California        Redcrest     95569   \n",
       "4331  7644-OMVMY      1  United States  California     Los Angeles     90029   \n",
       "4687  3213-VVOLG      1  United States  California        Sun City     92585   \n",
       "5104  2520-SGTTA      1  United States  California      Ben Lomond     95005   \n",
       "5719  2923-ARZLG      1  United States  California        La Verne     91750   \n",
       "6772  4075-WKNIU      1  United States  California            Bell     90201   \n",
       "6840  2775-SEFEE      1  United States  California      Wilmington     90744   \n",
       "\n",
       "                    Lat Long   Latitude   Longitude  Gender  ...  Contract  \\\n",
       "2234  34.084909, -117.258107  34.084909 -117.258107  Female  ...  Two year   \n",
       "2438  36.869584, -118.189241  36.869584 -118.189241    Male  ...  Two year   \n",
       "2568  37.590421, -122.306467  37.590421 -122.306467  Female  ...  Two year   \n",
       "2667  37.306612, -122.080621  37.306612 -122.080621    Male  ...  Two year   \n",
       "2856  40.363446, -123.835041  40.363446 -123.835041  Female  ...  Two year   \n",
       "4331  34.089953, -118.294824  34.089953 -118.294824    Male  ...  Two year   \n",
       "4687  33.739412, -117.173334  33.739412 -117.173334    Male  ...  Two year   \n",
       "5104  37.078873, -122.090386  37.078873 -122.090386  Female  ...  Two year   \n",
       "5719  34.144703, -117.770299  34.144703 -117.770299    Male  ...  One year   \n",
       "6772  33.970343, -118.171368  33.970343 -118.171368  Female  ...  Two year   \n",
       "6840  33.782068, -118.262263  33.782068 -118.262263    Male  ...  Two year   \n",
       "\n",
       "     Paperless Billing             Payment Method  Monthly Charges  \\\n",
       "2234               Yes  Bank transfer (automatic)            52.55   \n",
       "2438                No               Mailed check            20.25   \n",
       "2568                No               Mailed check            80.85   \n",
       "2667                No               Mailed check            25.75   \n",
       "2856                No    Credit card (automatic)            56.05   \n",
       "4331                No               Mailed check            19.85   \n",
       "4687                No               Mailed check            25.35   \n",
       "5104                No               Mailed check            20.00   \n",
       "5719               Yes               Mailed check            19.70   \n",
       "6772                No               Mailed check            73.35   \n",
       "6840               Yes  Bank transfer (automatic)            61.90   \n",
       "\n",
       "     Total Charges Churn Label Churn Value Churn Score  CLTV Churn Reason  \n",
       "2234           NaN          No           0          36  2578          NaN  \n",
       "2438           NaN          No           0          68  5504          NaN  \n",
       "2568           NaN          No           0          45  2048          NaN  \n",
       "2667           NaN          No           0          48  4950          NaN  \n",
       "2856           NaN          No           0          30  4740          NaN  \n",
       "4331           NaN          No           0          53  2019          NaN  \n",
       "4687           NaN          No           0          49  2299          NaN  \n",
       "5104           NaN          No           0          27  3763          NaN  \n",
       "5719           NaN          No           0          69  4890          NaN  \n",
       "6772           NaN          No           0          44  2342          NaN  \n",
       "6840           NaN          No           0          65  5188          NaN  \n",
       "\n",
       "[11 rows x 33 columns]"
      ]
     },
     "execution_count": 8,
     "metadata": {},
     "output_type": "execute_result"
    }
   ],
   "source": [
    "df[df['Total Charges'].isna()]"
   ]
  },
  {
   "cell_type": "markdown",
   "id": "45949503",
   "metadata": {
    "papermill": {
     "duration": 0.01586,
     "end_time": "2023-11-14T14:42:24.510331",
     "exception": false,
     "start_time": "2023-11-14T14:42:24.494471",
     "status": "completed"
    },
    "tags": []
   },
   "source": [
    "**we have the number of months that the customer uses the service, `Tenure Months`, and `Monthly Charges`.**\n",
    "**we can replace null values with those calculated by `monthly charges * tenure months`**\n"
   ]
  },
  {
   "cell_type": "code",
   "execution_count": 9,
   "id": "bf994cb6",
   "metadata": {
    "execution": {
     "iopub.execute_input": "2023-11-14T14:42:24.544631Z",
     "iopub.status.busy": "2023-11-14T14:42:24.544218Z",
     "iopub.status.idle": "2023-11-14T14:42:24.550627Z",
     "shell.execute_reply": "2023-11-14T14:42:24.549252Z"
    },
    "papermill": {
     "duration": 0.025934,
     "end_time": "2023-11-14T14:42:24.552556",
     "exception": false,
     "start_time": "2023-11-14T14:42:24.526622",
     "status": "completed"
    },
    "tags": []
   },
   "outputs": [],
   "source": [
    "df['Total Charges'].fillna(df['Monthly Charges'] * df['Tenure Months'], inplace=True)"
   ]
  },
  {
   "cell_type": "markdown",
   "id": "b16e60ea",
   "metadata": {
    "papermill": {
     "duration": 0.015185,
     "end_time": "2023-11-14T14:42:24.583796",
     "exception": false,
     "start_time": "2023-11-14T14:42:24.568611",
     "status": "completed"
    },
    "tags": []
   },
   "source": [
    "## The problem of Low and High Cardinality"
   ]
  },
  {
   "cell_type": "markdown",
   "id": "03eb18e4",
   "metadata": {
    "papermill": {
     "duration": 0.016416,
     "end_time": "2023-11-14T14:42:24.615446",
     "exception": false,
     "start_time": "2023-11-14T14:42:24.599030",
     "status": "completed"
    },
    "tags": []
   },
   "source": [
    "* **Low cordinality/Constant Column**: A column that has the same value for every row in a dataset is often considered uninformative and can be a problem in data analysis or machine learning, as it doesn't provide any information.\n",
    "\n",
    "\n",
    "* **High Cardinality**: When each row in a dataset has a unique value. High cardinality features can present challenges for modeling, as they can lead to a large number of unique categories, which can make the data more difficult to work with."
   ]
  },
  {
   "cell_type": "code",
   "execution_count": 10,
   "id": "1242d5e8",
   "metadata": {
    "execution": {
     "iopub.execute_input": "2023-11-14T14:42:24.648841Z",
     "iopub.status.busy": "2023-11-14T14:42:24.648424Z",
     "iopub.status.idle": "2023-11-14T14:42:24.671064Z",
     "shell.execute_reply": "2023-11-14T14:42:24.670027Z"
    },
    "papermill": {
     "duration": 0.042706,
     "end_time": "2023-11-14T14:42:24.673407",
     "exception": false,
     "start_time": "2023-11-14T14:42:24.630701",
     "status": "completed"
    },
    "tags": []
   },
   "outputs": [
    {
     "data": {
      "text/plain": [
       "CustomerID           7043\n",
       "Count                   1\n",
       "Country                 1\n",
       "State                   1\n",
       "City                 1129\n",
       "Zip Code             1652\n",
       "Lat Long             1652\n",
       "Latitude             1652\n",
       "Longitude            1651\n",
       "Gender                  2\n",
       "Senior Citizen          2\n",
       "Partner                 2\n",
       "Dependents              2\n",
       "Tenure Months          73\n",
       "Phone Service           2\n",
       "Multiple Lines          3\n",
       "Internet Service        3\n",
       "Online Security         3\n",
       "Online Backup           3\n",
       "Device Protection       3\n",
       "Tech Support            3\n",
       "Streaming TV            3\n",
       "Streaming Movies        3\n",
       "Contract                3\n",
       "Paperless Billing       2\n",
       "Payment Method          4\n",
       "Monthly Charges      1585\n",
       "Total Charges        6531\n",
       "Churn Label             2\n",
       "Churn Value             2\n",
       "Churn Score            85\n",
       "CLTV                 3438\n",
       "Churn Reason           20\n",
       "dtype: int64"
      ]
     },
     "execution_count": 10,
     "metadata": {},
     "output_type": "execute_result"
    }
   ],
   "source": [
    "df.nunique()"
   ]
  },
  {
   "cell_type": "markdown",
   "id": "01f36441",
   "metadata": {
    "papermill": {
     "duration": 0.015916,
     "end_time": "2023-11-14T14:42:24.705608",
     "exception": false,
     "start_time": "2023-11-14T14:42:24.689692",
     "status": "completed"
    },
    "tags": []
   },
   "source": [
    "**The data has many constant features and columns with high cardinality problem.**\n",
    "\n",
    "Low cordinality columns:\n",
    "* `Count` column \n",
    "* `Country` column \n",
    "* `State` column \n",
    "\n",
    "High cordinality columns:\n",
    "* `CustomerID ` column.\n",
    "* `Zip Code` column."
   ]
  },
  {
   "cell_type": "markdown",
   "id": "250dd6fc",
   "metadata": {
    "papermill": {
     "duration": 0.015887,
     "end_time": "2023-11-14T14:42:24.737477",
     "exception": false,
     "start_time": "2023-11-14T14:42:24.721590",
     "status": "completed"
    },
    "tags": []
   },
   "source": [
    "**We will drop them later.**"
   ]
  },
  {
   "cell_type": "code",
   "execution_count": 11,
   "id": "31343ccf",
   "metadata": {
    "execution": {
     "iopub.execute_input": "2023-11-14T14:42:24.771310Z",
     "iopub.status.busy": "2023-11-14T14:42:24.770898Z",
     "iopub.status.idle": "2023-11-14T14:42:24.781922Z",
     "shell.execute_reply": "2023-11-14T14:42:24.780911Z"
    },
    "papermill": {
     "duration": 0.030807,
     "end_time": "2023-11-14T14:42:24.784335",
     "exception": false,
     "start_time": "2023-11-14T14:42:24.753528",
     "status": "completed"
    },
    "tags": []
   },
   "outputs": [
    {
     "data": {
      "text/plain": [
       "Country        State     \n",
       "United States  California    7043\n",
       "dtype: int64"
      ]
     },
     "execution_count": 11,
     "metadata": {},
     "output_type": "execute_result"
    }
   ],
   "source": [
    "df.groupby(['Country','State']).size()"
   ]
  },
  {
   "cell_type": "markdown",
   "id": "966aa21a",
   "metadata": {
    "papermill": {
     "duration": 0.015651,
     "end_time": "2023-11-14T14:42:24.816203",
     "exception": false,
     "start_time": "2023-11-14T14:42:24.800552",
     "status": "completed"
    },
    "tags": []
   },
   "source": [
    "**All of our customers are from the United States of America, California.**"
   ]
  },
  {
   "cell_type": "markdown",
   "id": "d042b33b",
   "metadata": {
    "papermill": {
     "duration": 0.015557,
     "end_time": "2023-11-14T14:42:24.847556",
     "exception": false,
     "start_time": "2023-11-14T14:42:24.831999",
     "status": "completed"
    },
    "tags": []
   },
   "source": [
    "# Data Visualization"
   ]
  },
  {
   "cell_type": "code",
   "execution_count": 12,
   "id": "c107903c",
   "metadata": {
    "execution": {
     "iopub.execute_input": "2023-11-14T14:42:24.880938Z",
     "iopub.status.busy": "2023-11-14T14:42:24.879849Z",
     "iopub.status.idle": "2023-11-14T14:42:26.625673Z",
     "shell.execute_reply": "2023-11-14T14:42:26.624776Z"
    },
    "papermill": {
     "duration": 1.764921,
     "end_time": "2023-11-14T14:42:26.627908",
     "exception": false,
     "start_time": "2023-11-14T14:42:24.862987",
     "status": "completed"
    },
    "tags": []
   },
   "outputs": [
    {
     "data": {
      "text/html": [
       "        <script type=\"text/javascript\">\n",
       "        window.PlotlyConfig = {MathJaxConfig: 'local'};\n",
       "        if (window.MathJax && window.MathJax.Hub && window.MathJax.Hub.Config) {window.MathJax.Hub.Config({SVG: {font: \"STIX-Web\"}});}\n",
       "        if (typeof require !== 'undefined') {\n",
       "        require.undef(\"plotly\");\n",
       "        requirejs.config({\n",
       "            paths: {\n",
       "                'plotly': ['https://cdn.plot.ly/plotly-2.25.2.min']\n",
       "            }\n",
       "        });\n",
       "        require(['plotly'], function(Plotly) {\n",
       "            window._Plotly = Plotly;\n",
       "        });\n",
       "        }\n",
       "        </script>\n",
       "        "
      ]
     },
     "metadata": {},
     "output_type": "display_data"
    },
    {
     "data": {
      "text/html": [
       "<div>                            <div id=\"ff05458e-2633-4851-ab9e-eca542f56055\" class=\"plotly-graph-div\" style=\"height:525px; width:100%;\"></div>            <script type=\"text/javascript\">                require([\"plotly\"], function(Plotly) {                    window.PLOTLYENV=window.PLOTLYENV || {};                                    if (document.getElementById(\"ff05458e-2633-4851-ab9e-eca542f56055\")) {                    Plotly.newPlot(                        \"ff05458e-2633-4851-ab9e-eca542f56055\",                        [{\"domain\":{\"x\":[0.0,1.0],\"y\":[0.0,1.0]},\"hovertemplate\":\"label=%{label}\\u003cbr\\u003evalue=%{value}\\u003cextra\\u003e\\u003c\\u002fextra\\u003e\",\"labels\":[\"No\",\"Yes\"],\"legendgroup\":\"\",\"name\":\"\",\"showlegend\":true,\"values\":[5174,1869],\"type\":\"pie\"}],                        {\"template\":{\"data\":{\"histogram2dcontour\":[{\"type\":\"histogram2dcontour\",\"colorbar\":{\"outlinewidth\":0,\"ticks\":\"\"},\"colorscale\":[[0.0,\"#0d0887\"],[0.1111111111111111,\"#46039f\"],[0.2222222222222222,\"#7201a8\"],[0.3333333333333333,\"#9c179e\"],[0.4444444444444444,\"#bd3786\"],[0.5555555555555556,\"#d8576b\"],[0.6666666666666666,\"#ed7953\"],[0.7777777777777778,\"#fb9f3a\"],[0.8888888888888888,\"#fdca26\"],[1.0,\"#f0f921\"]]}],\"choropleth\":[{\"type\":\"choropleth\",\"colorbar\":{\"outlinewidth\":0,\"ticks\":\"\"}}],\"histogram2d\":[{\"type\":\"histogram2d\",\"colorbar\":{\"outlinewidth\":0,\"ticks\":\"\"},\"colorscale\":[[0.0,\"#0d0887\"],[0.1111111111111111,\"#46039f\"],[0.2222222222222222,\"#7201a8\"],[0.3333333333333333,\"#9c179e\"],[0.4444444444444444,\"#bd3786\"],[0.5555555555555556,\"#d8576b\"],[0.6666666666666666,\"#ed7953\"],[0.7777777777777778,\"#fb9f3a\"],[0.8888888888888888,\"#fdca26\"],[1.0,\"#f0f921\"]]}],\"heatmap\":[{\"type\":\"heatmap\",\"colorbar\":{\"outlinewidth\":0,\"ticks\":\"\"},\"colorscale\":[[0.0,\"#0d0887\"],[0.1111111111111111,\"#46039f\"],[0.2222222222222222,\"#7201a8\"],[0.3333333333333333,\"#9c179e\"],[0.4444444444444444,\"#bd3786\"],[0.5555555555555556,\"#d8576b\"],[0.6666666666666666,\"#ed7953\"],[0.7777777777777778,\"#fb9f3a\"],[0.8888888888888888,\"#fdca26\"],[1.0,\"#f0f921\"]]}],\"heatmapgl\":[{\"type\":\"heatmapgl\",\"colorbar\":{\"outlinewidth\":0,\"ticks\":\"\"},\"colorscale\":[[0.0,\"#0d0887\"],[0.1111111111111111,\"#46039f\"],[0.2222222222222222,\"#7201a8\"],[0.3333333333333333,\"#9c179e\"],[0.4444444444444444,\"#bd3786\"],[0.5555555555555556,\"#d8576b\"],[0.6666666666666666,\"#ed7953\"],[0.7777777777777778,\"#fb9f3a\"],[0.8888888888888888,\"#fdca26\"],[1.0,\"#f0f921\"]]}],\"contourcarpet\":[{\"type\":\"contourcarpet\",\"colorbar\":{\"outlinewidth\":0,\"ticks\":\"\"}}],\"contour\":[{\"type\":\"contour\",\"colorbar\":{\"outlinewidth\":0,\"ticks\":\"\"},\"colorscale\":[[0.0,\"#0d0887\"],[0.1111111111111111,\"#46039f\"],[0.2222222222222222,\"#7201a8\"],[0.3333333333333333,\"#9c179e\"],[0.4444444444444444,\"#bd3786\"],[0.5555555555555556,\"#d8576b\"],[0.6666666666666666,\"#ed7953\"],[0.7777777777777778,\"#fb9f3a\"],[0.8888888888888888,\"#fdca26\"],[1.0,\"#f0f921\"]]}],\"surface\":[{\"type\":\"surface\",\"colorbar\":{\"outlinewidth\":0,\"ticks\":\"\"},\"colorscale\":[[0.0,\"#0d0887\"],[0.1111111111111111,\"#46039f\"],[0.2222222222222222,\"#7201a8\"],[0.3333333333333333,\"#9c179e\"],[0.4444444444444444,\"#bd3786\"],[0.5555555555555556,\"#d8576b\"],[0.6666666666666666,\"#ed7953\"],[0.7777777777777778,\"#fb9f3a\"],[0.8888888888888888,\"#fdca26\"],[1.0,\"#f0f921\"]]}],\"mesh3d\":[{\"type\":\"mesh3d\",\"colorbar\":{\"outlinewidth\":0,\"ticks\":\"\"}}],\"scatter\":[{\"fillpattern\":{\"fillmode\":\"overlay\",\"size\":10,\"solidity\":0.2},\"type\":\"scatter\"}],\"parcoords\":[{\"type\":\"parcoords\",\"line\":{\"colorbar\":{\"outlinewidth\":0,\"ticks\":\"\"}}}],\"scatterpolargl\":[{\"type\":\"scatterpolargl\",\"marker\":{\"colorbar\":{\"outlinewidth\":0,\"ticks\":\"\"}}}],\"bar\":[{\"error_x\":{\"color\":\"#2a3f5f\"},\"error_y\":{\"color\":\"#2a3f5f\"},\"marker\":{\"line\":{\"color\":\"#E5ECF6\",\"width\":0.5},\"pattern\":{\"fillmode\":\"overlay\",\"size\":10,\"solidity\":0.2}},\"type\":\"bar\"}],\"scattergeo\":[{\"type\":\"scattergeo\",\"marker\":{\"colorbar\":{\"outlinewidth\":0,\"ticks\":\"\"}}}],\"scatterpolar\":[{\"type\":\"scatterpolar\",\"marker\":{\"colorbar\":{\"outlinewidth\":0,\"ticks\":\"\"}}}],\"histogram\":[{\"marker\":{\"pattern\":{\"fillmode\":\"overlay\",\"size\":10,\"solidity\":0.2}},\"type\":\"histogram\"}],\"scattergl\":[{\"type\":\"scattergl\",\"marker\":{\"colorbar\":{\"outlinewidth\":0,\"ticks\":\"\"}}}],\"scatter3d\":[{\"type\":\"scatter3d\",\"line\":{\"colorbar\":{\"outlinewidth\":0,\"ticks\":\"\"}},\"marker\":{\"colorbar\":{\"outlinewidth\":0,\"ticks\":\"\"}}}],\"scattermapbox\":[{\"type\":\"scattermapbox\",\"marker\":{\"colorbar\":{\"outlinewidth\":0,\"ticks\":\"\"}}}],\"scatterternary\":[{\"type\":\"scatterternary\",\"marker\":{\"colorbar\":{\"outlinewidth\":0,\"ticks\":\"\"}}}],\"scattercarpet\":[{\"type\":\"scattercarpet\",\"marker\":{\"colorbar\":{\"outlinewidth\":0,\"ticks\":\"\"}}}],\"carpet\":[{\"aaxis\":{\"endlinecolor\":\"#2a3f5f\",\"gridcolor\":\"white\",\"linecolor\":\"white\",\"minorgridcolor\":\"white\",\"startlinecolor\":\"#2a3f5f\"},\"baxis\":{\"endlinecolor\":\"#2a3f5f\",\"gridcolor\":\"white\",\"linecolor\":\"white\",\"minorgridcolor\":\"white\",\"startlinecolor\":\"#2a3f5f\"},\"type\":\"carpet\"}],\"table\":[{\"cells\":{\"fill\":{\"color\":\"#EBF0F8\"},\"line\":{\"color\":\"white\"}},\"header\":{\"fill\":{\"color\":\"#C8D4E3\"},\"line\":{\"color\":\"white\"}},\"type\":\"table\"}],\"barpolar\":[{\"marker\":{\"line\":{\"color\":\"#E5ECF6\",\"width\":0.5},\"pattern\":{\"fillmode\":\"overlay\",\"size\":10,\"solidity\":0.2}},\"type\":\"barpolar\"}],\"pie\":[{\"automargin\":true,\"type\":\"pie\"}]},\"layout\":{\"autotypenumbers\":\"strict\",\"colorway\":[\"#636efa\",\"#EF553B\",\"#00cc96\",\"#ab63fa\",\"#FFA15A\",\"#19d3f3\",\"#FF6692\",\"#B6E880\",\"#FF97FF\",\"#FECB52\"],\"font\":{\"color\":\"#2a3f5f\"},\"hovermode\":\"closest\",\"hoverlabel\":{\"align\":\"left\"},\"paper_bgcolor\":\"white\",\"plot_bgcolor\":\"#E5ECF6\",\"polar\":{\"bgcolor\":\"#E5ECF6\",\"angularaxis\":{\"gridcolor\":\"white\",\"linecolor\":\"white\",\"ticks\":\"\"},\"radialaxis\":{\"gridcolor\":\"white\",\"linecolor\":\"white\",\"ticks\":\"\"}},\"ternary\":{\"bgcolor\":\"#E5ECF6\",\"aaxis\":{\"gridcolor\":\"white\",\"linecolor\":\"white\",\"ticks\":\"\"},\"baxis\":{\"gridcolor\":\"white\",\"linecolor\":\"white\",\"ticks\":\"\"},\"caxis\":{\"gridcolor\":\"white\",\"linecolor\":\"white\",\"ticks\":\"\"}},\"coloraxis\":{\"colorbar\":{\"outlinewidth\":0,\"ticks\":\"\"}},\"colorscale\":{\"sequential\":[[0.0,\"#0d0887\"],[0.1111111111111111,\"#46039f\"],[0.2222222222222222,\"#7201a8\"],[0.3333333333333333,\"#9c179e\"],[0.4444444444444444,\"#bd3786\"],[0.5555555555555556,\"#d8576b\"],[0.6666666666666666,\"#ed7953\"],[0.7777777777777778,\"#fb9f3a\"],[0.8888888888888888,\"#fdca26\"],[1.0,\"#f0f921\"]],\"sequentialminus\":[[0.0,\"#0d0887\"],[0.1111111111111111,\"#46039f\"],[0.2222222222222222,\"#7201a8\"],[0.3333333333333333,\"#9c179e\"],[0.4444444444444444,\"#bd3786\"],[0.5555555555555556,\"#d8576b\"],[0.6666666666666666,\"#ed7953\"],[0.7777777777777778,\"#fb9f3a\"],[0.8888888888888888,\"#fdca26\"],[1.0,\"#f0f921\"]],\"diverging\":[[0,\"#8e0152\"],[0.1,\"#c51b7d\"],[0.2,\"#de77ae\"],[0.3,\"#f1b6da\"],[0.4,\"#fde0ef\"],[0.5,\"#f7f7f7\"],[0.6,\"#e6f5d0\"],[0.7,\"#b8e186\"],[0.8,\"#7fbc41\"],[0.9,\"#4d9221\"],[1,\"#276419\"]]},\"xaxis\":{\"gridcolor\":\"white\",\"linecolor\":\"white\",\"ticks\":\"\",\"title\":{\"standoff\":15},\"zerolinecolor\":\"white\",\"automargin\":true,\"zerolinewidth\":2},\"yaxis\":{\"gridcolor\":\"white\",\"linecolor\":\"white\",\"ticks\":\"\",\"title\":{\"standoff\":15},\"zerolinecolor\":\"white\",\"automargin\":true,\"zerolinewidth\":2},\"scene\":{\"xaxis\":{\"backgroundcolor\":\"#E5ECF6\",\"gridcolor\":\"white\",\"linecolor\":\"white\",\"showbackground\":true,\"ticks\":\"\",\"zerolinecolor\":\"white\",\"gridwidth\":2},\"yaxis\":{\"backgroundcolor\":\"#E5ECF6\",\"gridcolor\":\"white\",\"linecolor\":\"white\",\"showbackground\":true,\"ticks\":\"\",\"zerolinecolor\":\"white\",\"gridwidth\":2},\"zaxis\":{\"backgroundcolor\":\"#E5ECF6\",\"gridcolor\":\"white\",\"linecolor\":\"white\",\"showbackground\":true,\"ticks\":\"\",\"zerolinecolor\":\"white\",\"gridwidth\":2}},\"shapedefaults\":{\"line\":{\"color\":\"#2a3f5f\"}},\"annotationdefaults\":{\"arrowcolor\":\"#2a3f5f\",\"arrowhead\":0,\"arrowwidth\":1},\"geo\":{\"bgcolor\":\"white\",\"landcolor\":\"#E5ECF6\",\"subunitcolor\":\"white\",\"showland\":true,\"showlakes\":true,\"lakecolor\":\"white\"},\"title\":{\"x\":0.05},\"mapbox\":{\"style\":\"light\"}}},\"legend\":{\"tracegroupgap\":0},\"title\":{\"text\":\"Churn Label Distribution\"}},                        {\"responsive\": true}                    ).then(function(){\n",
       "                            \n",
       "var gd = document.getElementById('ff05458e-2633-4851-ab9e-eca542f56055');\n",
       "var x = new MutationObserver(function (mutations, observer) {{\n",
       "        var display = window.getComputedStyle(gd).display;\n",
       "        if (!display || display === 'none') {{\n",
       "            console.log([gd, 'removed!']);\n",
       "            Plotly.purge(gd);\n",
       "            observer.disconnect();\n",
       "        }}\n",
       "}});\n",
       "\n",
       "// Listen for the removal of the full notebook cells\n",
       "var notebookContainer = gd.closest('#notebook-container');\n",
       "if (notebookContainer) {{\n",
       "    x.observe(notebookContainer, {childList: true});\n",
       "}}\n",
       "\n",
       "// Listen for the clearing of the current output cell\n",
       "var outputEl = gd.closest('.output');\n",
       "if (outputEl) {{\n",
       "    x.observe(outputEl, {childList: true});\n",
       "}}\n",
       "\n",
       "                        })                };                });            </script>        </div>"
      ]
     },
     "metadata": {},
     "output_type": "display_data"
    }
   ],
   "source": [
    "Churn_Label_counts= df['Churn Label'].value_counts()\n",
    "fig2 = px.pie(names= Churn_Label_counts.keys(), values= Churn_Label_counts.values, title='Churn Label Distribution')\n",
    "fig2.show()"
   ]
  },
  {
   "cell_type": "markdown",
   "id": "c3a4a108",
   "metadata": {
    "papermill": {
     "duration": 0.015441,
     "end_time": "2023-11-14T14:42:26.659643",
     "exception": false,
     "start_time": "2023-11-14T14:42:26.644202",
     "status": "completed"
    },
    "tags": []
   },
   "source": [
    "**`26.5%` of customers have stopped using our service, Our task is to know which type of customers are more likely to stop using our service and what actions we can take.**"
   ]
  },
  {
   "cell_type": "code",
   "execution_count": 13,
   "id": "f8f043ac",
   "metadata": {
    "execution": {
     "iopub.execute_input": "2023-11-14T14:42:26.693147Z",
     "iopub.status.busy": "2023-11-14T14:42:26.692750Z",
     "iopub.status.idle": "2023-11-14T14:42:26.813210Z",
     "shell.execute_reply": "2023-11-14T14:42:26.811853Z"
    },
    "papermill": {
     "duration": 0.140815,
     "end_time": "2023-11-14T14:42:26.816042",
     "exception": false,
     "start_time": "2023-11-14T14:42:26.675227",
     "status": "completed"
    },
    "tags": []
   },
   "outputs": [
    {
     "data": {
      "text/html": [
       "<div>                            <div id=\"989b6dcf-fe5c-4b56-bf74-0fc72283ca0f\" class=\"plotly-graph-div\" style=\"height:525px; width:100%;\"></div>            <script type=\"text/javascript\">                require([\"plotly\"], function(Plotly) {                    window.PLOTLYENV=window.PLOTLYENV || {};                                    if (document.getElementById(\"989b6dcf-fe5c-4b56-bf74-0fc72283ca0f\")) {                    Plotly.newPlot(                        \"989b6dcf-fe5c-4b56-bf74-0fc72283ca0f\",                        [{\"alignmentgroup\":\"True\",\"hovertemplate\":\"x=%{x}\\u003cbr\\u003ey=%{y}\\u003cbr\\u003etext=%{text}\\u003cbr\\u003ecolor=%{marker.color}\\u003cextra\\u003e\\u003c\\u002fextra\\u003e\",\"legendgroup\":\"\",\"marker\":{\"color\":[192,189,162,154,140,135,130,103,102,98,89,88,57,53,44,44,44,20,19,6],\"coloraxis\":\"coloraxis\",\"pattern\":{\"shape\":\"\"}},\"name\":\"\",\"offsetgroup\":\"\",\"orientation\":\"v\",\"showlegend\":false,\"text\":[192.0,189.0,162.0,154.0,140.0,135.0,130.0,103.0,102.0,98.0,89.0,88.0,57.0,53.0,44.0,44.0,44.0,20.0,19.0,6.0],\"textposition\":\"auto\",\"x\":[\"Attitude of support person\",\"Competitor offered higher download speeds\",\"Competitor offered more data\",\"Don't know\",\"Competitor made better offer\",\"Attitude of service provider\",\"Competitor had better devices\",\"Network reliability\",\"Product dissatisfaction\",\"Price too high\",\"Service dissatisfaction\",\"Lack of self-service on Website\",\"Extra data charges\",\"Moved\",\"Limited range of services\",\"Long distance charges\",\"Lack of affordable download\\u002fupload speed\",\"Poor expertise of phone support\",\"Poor expertise of online support\",\"Deceased\"],\"xaxis\":\"x\",\"y\":[192,189,162,154,140,135,130,103,102,98,89,88,57,53,44,44,44,20,19,6],\"yaxis\":\"y\",\"type\":\"bar\"}],                        {\"template\":{\"data\":{\"histogram2dcontour\":[{\"type\":\"histogram2dcontour\",\"colorbar\":{\"outlinewidth\":0,\"ticks\":\"\"},\"colorscale\":[[0.0,\"#0d0887\"],[0.1111111111111111,\"#46039f\"],[0.2222222222222222,\"#7201a8\"],[0.3333333333333333,\"#9c179e\"],[0.4444444444444444,\"#bd3786\"],[0.5555555555555556,\"#d8576b\"],[0.6666666666666666,\"#ed7953\"],[0.7777777777777778,\"#fb9f3a\"],[0.8888888888888888,\"#fdca26\"],[1.0,\"#f0f921\"]]}],\"choropleth\":[{\"type\":\"choropleth\",\"colorbar\":{\"outlinewidth\":0,\"ticks\":\"\"}}],\"histogram2d\":[{\"type\":\"histogram2d\",\"colorbar\":{\"outlinewidth\":0,\"ticks\":\"\"},\"colorscale\":[[0.0,\"#0d0887\"],[0.1111111111111111,\"#46039f\"],[0.2222222222222222,\"#7201a8\"],[0.3333333333333333,\"#9c179e\"],[0.4444444444444444,\"#bd3786\"],[0.5555555555555556,\"#d8576b\"],[0.6666666666666666,\"#ed7953\"],[0.7777777777777778,\"#fb9f3a\"],[0.8888888888888888,\"#fdca26\"],[1.0,\"#f0f921\"]]}],\"heatmap\":[{\"type\":\"heatmap\",\"colorbar\":{\"outlinewidth\":0,\"ticks\":\"\"},\"colorscale\":[[0.0,\"#0d0887\"],[0.1111111111111111,\"#46039f\"],[0.2222222222222222,\"#7201a8\"],[0.3333333333333333,\"#9c179e\"],[0.4444444444444444,\"#bd3786\"],[0.5555555555555556,\"#d8576b\"],[0.6666666666666666,\"#ed7953\"],[0.7777777777777778,\"#fb9f3a\"],[0.8888888888888888,\"#fdca26\"],[1.0,\"#f0f921\"]]}],\"heatmapgl\":[{\"type\":\"heatmapgl\",\"colorbar\":{\"outlinewidth\":0,\"ticks\":\"\"},\"colorscale\":[[0.0,\"#0d0887\"],[0.1111111111111111,\"#46039f\"],[0.2222222222222222,\"#7201a8\"],[0.3333333333333333,\"#9c179e\"],[0.4444444444444444,\"#bd3786\"],[0.5555555555555556,\"#d8576b\"],[0.6666666666666666,\"#ed7953\"],[0.7777777777777778,\"#fb9f3a\"],[0.8888888888888888,\"#fdca26\"],[1.0,\"#f0f921\"]]}],\"contourcarpet\":[{\"type\":\"contourcarpet\",\"colorbar\":{\"outlinewidth\":0,\"ticks\":\"\"}}],\"contour\":[{\"type\":\"contour\",\"colorbar\":{\"outlinewidth\":0,\"ticks\":\"\"},\"colorscale\":[[0.0,\"#0d0887\"],[0.1111111111111111,\"#46039f\"],[0.2222222222222222,\"#7201a8\"],[0.3333333333333333,\"#9c179e\"],[0.4444444444444444,\"#bd3786\"],[0.5555555555555556,\"#d8576b\"],[0.6666666666666666,\"#ed7953\"],[0.7777777777777778,\"#fb9f3a\"],[0.8888888888888888,\"#fdca26\"],[1.0,\"#f0f921\"]]}],\"surface\":[{\"type\":\"surface\",\"colorbar\":{\"outlinewidth\":0,\"ticks\":\"\"},\"colorscale\":[[0.0,\"#0d0887\"],[0.1111111111111111,\"#46039f\"],[0.2222222222222222,\"#7201a8\"],[0.3333333333333333,\"#9c179e\"],[0.4444444444444444,\"#bd3786\"],[0.5555555555555556,\"#d8576b\"],[0.6666666666666666,\"#ed7953\"],[0.7777777777777778,\"#fb9f3a\"],[0.8888888888888888,\"#fdca26\"],[1.0,\"#f0f921\"]]}],\"mesh3d\":[{\"type\":\"mesh3d\",\"colorbar\":{\"outlinewidth\":0,\"ticks\":\"\"}}],\"scatter\":[{\"fillpattern\":{\"fillmode\":\"overlay\",\"size\":10,\"solidity\":0.2},\"type\":\"scatter\"}],\"parcoords\":[{\"type\":\"parcoords\",\"line\":{\"colorbar\":{\"outlinewidth\":0,\"ticks\":\"\"}}}],\"scatterpolargl\":[{\"type\":\"scatterpolargl\",\"marker\":{\"colorbar\":{\"outlinewidth\":0,\"ticks\":\"\"}}}],\"bar\":[{\"error_x\":{\"color\":\"#2a3f5f\"},\"error_y\":{\"color\":\"#2a3f5f\"},\"marker\":{\"line\":{\"color\":\"#E5ECF6\",\"width\":0.5},\"pattern\":{\"fillmode\":\"overlay\",\"size\":10,\"solidity\":0.2}},\"type\":\"bar\"}],\"scattergeo\":[{\"type\":\"scattergeo\",\"marker\":{\"colorbar\":{\"outlinewidth\":0,\"ticks\":\"\"}}}],\"scatterpolar\":[{\"type\":\"scatterpolar\",\"marker\":{\"colorbar\":{\"outlinewidth\":0,\"ticks\":\"\"}}}],\"histogram\":[{\"marker\":{\"pattern\":{\"fillmode\":\"overlay\",\"size\":10,\"solidity\":0.2}},\"type\":\"histogram\"}],\"scattergl\":[{\"type\":\"scattergl\",\"marker\":{\"colorbar\":{\"outlinewidth\":0,\"ticks\":\"\"}}}],\"scatter3d\":[{\"type\":\"scatter3d\",\"line\":{\"colorbar\":{\"outlinewidth\":0,\"ticks\":\"\"}},\"marker\":{\"colorbar\":{\"outlinewidth\":0,\"ticks\":\"\"}}}],\"scattermapbox\":[{\"type\":\"scattermapbox\",\"marker\":{\"colorbar\":{\"outlinewidth\":0,\"ticks\":\"\"}}}],\"scatterternary\":[{\"type\":\"scatterternary\",\"marker\":{\"colorbar\":{\"outlinewidth\":0,\"ticks\":\"\"}}}],\"scattercarpet\":[{\"type\":\"scattercarpet\",\"marker\":{\"colorbar\":{\"outlinewidth\":0,\"ticks\":\"\"}}}],\"carpet\":[{\"aaxis\":{\"endlinecolor\":\"#2a3f5f\",\"gridcolor\":\"white\",\"linecolor\":\"white\",\"minorgridcolor\":\"white\",\"startlinecolor\":\"#2a3f5f\"},\"baxis\":{\"endlinecolor\":\"#2a3f5f\",\"gridcolor\":\"white\",\"linecolor\":\"white\",\"minorgridcolor\":\"white\",\"startlinecolor\":\"#2a3f5f\"},\"type\":\"carpet\"}],\"table\":[{\"cells\":{\"fill\":{\"color\":\"#EBF0F8\"},\"line\":{\"color\":\"white\"}},\"header\":{\"fill\":{\"color\":\"#C8D4E3\"},\"line\":{\"color\":\"white\"}},\"type\":\"table\"}],\"barpolar\":[{\"marker\":{\"line\":{\"color\":\"#E5ECF6\",\"width\":0.5},\"pattern\":{\"fillmode\":\"overlay\",\"size\":10,\"solidity\":0.2}},\"type\":\"barpolar\"}],\"pie\":[{\"automargin\":true,\"type\":\"pie\"}]},\"layout\":{\"autotypenumbers\":\"strict\",\"colorway\":[\"#636efa\",\"#EF553B\",\"#00cc96\",\"#ab63fa\",\"#FFA15A\",\"#19d3f3\",\"#FF6692\",\"#B6E880\",\"#FF97FF\",\"#FECB52\"],\"font\":{\"color\":\"#2a3f5f\"},\"hovermode\":\"closest\",\"hoverlabel\":{\"align\":\"left\"},\"paper_bgcolor\":\"white\",\"plot_bgcolor\":\"#E5ECF6\",\"polar\":{\"bgcolor\":\"#E5ECF6\",\"angularaxis\":{\"gridcolor\":\"white\",\"linecolor\":\"white\",\"ticks\":\"\"},\"radialaxis\":{\"gridcolor\":\"white\",\"linecolor\":\"white\",\"ticks\":\"\"}},\"ternary\":{\"bgcolor\":\"#E5ECF6\",\"aaxis\":{\"gridcolor\":\"white\",\"linecolor\":\"white\",\"ticks\":\"\"},\"baxis\":{\"gridcolor\":\"white\",\"linecolor\":\"white\",\"ticks\":\"\"},\"caxis\":{\"gridcolor\":\"white\",\"linecolor\":\"white\",\"ticks\":\"\"}},\"coloraxis\":{\"colorbar\":{\"outlinewidth\":0,\"ticks\":\"\"}},\"colorscale\":{\"sequential\":[[0.0,\"#0d0887\"],[0.1111111111111111,\"#46039f\"],[0.2222222222222222,\"#7201a8\"],[0.3333333333333333,\"#9c179e\"],[0.4444444444444444,\"#bd3786\"],[0.5555555555555556,\"#d8576b\"],[0.6666666666666666,\"#ed7953\"],[0.7777777777777778,\"#fb9f3a\"],[0.8888888888888888,\"#fdca26\"],[1.0,\"#f0f921\"]],\"sequentialminus\":[[0.0,\"#0d0887\"],[0.1111111111111111,\"#46039f\"],[0.2222222222222222,\"#7201a8\"],[0.3333333333333333,\"#9c179e\"],[0.4444444444444444,\"#bd3786\"],[0.5555555555555556,\"#d8576b\"],[0.6666666666666666,\"#ed7953\"],[0.7777777777777778,\"#fb9f3a\"],[0.8888888888888888,\"#fdca26\"],[1.0,\"#f0f921\"]],\"diverging\":[[0,\"#8e0152\"],[0.1,\"#c51b7d\"],[0.2,\"#de77ae\"],[0.3,\"#f1b6da\"],[0.4,\"#fde0ef\"],[0.5,\"#f7f7f7\"],[0.6,\"#e6f5d0\"],[0.7,\"#b8e186\"],[0.8,\"#7fbc41\"],[0.9,\"#4d9221\"],[1,\"#276419\"]]},\"xaxis\":{\"gridcolor\":\"white\",\"linecolor\":\"white\",\"ticks\":\"\",\"title\":{\"standoff\":15},\"zerolinecolor\":\"white\",\"automargin\":true,\"zerolinewidth\":2},\"yaxis\":{\"gridcolor\":\"white\",\"linecolor\":\"white\",\"ticks\":\"\",\"title\":{\"standoff\":15},\"zerolinecolor\":\"white\",\"automargin\":true,\"zerolinewidth\":2},\"scene\":{\"xaxis\":{\"backgroundcolor\":\"#E5ECF6\",\"gridcolor\":\"white\",\"linecolor\":\"white\",\"showbackground\":true,\"ticks\":\"\",\"zerolinecolor\":\"white\",\"gridwidth\":2},\"yaxis\":{\"backgroundcolor\":\"#E5ECF6\",\"gridcolor\":\"white\",\"linecolor\":\"white\",\"showbackground\":true,\"ticks\":\"\",\"zerolinecolor\":\"white\",\"gridwidth\":2},\"zaxis\":{\"backgroundcolor\":\"#E5ECF6\",\"gridcolor\":\"white\",\"linecolor\":\"white\",\"showbackground\":true,\"ticks\":\"\",\"zerolinecolor\":\"white\",\"gridwidth\":2}},\"shapedefaults\":{\"line\":{\"color\":\"#2a3f5f\"}},\"annotationdefaults\":{\"arrowcolor\":\"#2a3f5f\",\"arrowhead\":0,\"arrowwidth\":1},\"geo\":{\"bgcolor\":\"white\",\"landcolor\":\"#E5ECF6\",\"subunitcolor\":\"white\",\"showland\":true,\"showlakes\":true,\"lakecolor\":\"white\"},\"title\":{\"x\":0.05},\"mapbox\":{\"style\":\"light\"}}},\"xaxis\":{\"anchor\":\"y\",\"domain\":[0.0,1.0],\"title\":{\"text\":\"Count\"}},\"yaxis\":{\"anchor\":\"x\",\"domain\":[0.0,1.0],\"title\":{\"text\":\"Churn Reason\"}},\"coloraxis\":{\"colorbar\":{\"title\":{\"text\":\"color\"}},\"colorscale\":[[0.0,\"#0d0887\"],[0.1111111111111111,\"#46039f\"],[0.2222222222222222,\"#7201a8\"],[0.3333333333333333,\"#9c179e\"],[0.4444444444444444,\"#bd3786\"],[0.5555555555555556,\"#d8576b\"],[0.6666666666666666,\"#ed7953\"],[0.7777777777777778,\"#fb9f3a\"],[0.8888888888888888,\"#fdca26\"],[1.0,\"#f0f921\"]]},\"legend\":{\"tracegroupgap\":0},\"margin\":{\"t\":60},\"barmode\":\"relative\"},                        {\"responsive\": true}                    ).then(function(){\n",
       "                            \n",
       "var gd = document.getElementById('989b6dcf-fe5c-4b56-bf74-0fc72283ca0f');\n",
       "var x = new MutationObserver(function (mutations, observer) {{\n",
       "        var display = window.getComputedStyle(gd).display;\n",
       "        if (!display || display === 'none') {{\n",
       "            console.log([gd, 'removed!']);\n",
       "            Plotly.purge(gd);\n",
       "            observer.disconnect();\n",
       "        }}\n",
       "}});\n",
       "\n",
       "// Listen for the removal of the full notebook cells\n",
       "var notebookContainer = gd.closest('#notebook-container');\n",
       "if (notebookContainer) {{\n",
       "    x.observe(notebookContainer, {childList: true});\n",
       "}}\n",
       "\n",
       "// Listen for the clearing of the current output cell\n",
       "var outputEl = gd.closest('.output');\n",
       "if (outputEl) {{\n",
       "    x.observe(outputEl, {childList: true});\n",
       "}}\n",
       "\n",
       "                        })                };                });            </script>        </div>"
      ]
     },
     "metadata": {},
     "output_type": "display_data"
    }
   ],
   "source": [
    "values= df['Churn Reason'].value_counts(ascending=False).values\n",
    "keys= df['Churn Reason'].value_counts(ascending=False).keys()\n",
    "\n",
    "fig = px.bar(x=keys, y=values, color = values, text = values)\n",
    "\n",
    "fig.update_layout(\n",
    "    yaxis_title=\"Churn Reason\",\n",
    "    xaxis_title=\"Count\"\n",
    ")\n",
    "fig.show()"
   ]
  },
  {
   "cell_type": "markdown",
   "id": "cd8bd43c",
   "metadata": {
    "papermill": {
     "duration": 0.015943,
     "end_time": "2023-11-14T14:42:26.848728",
     "exception": false,
     "start_time": "2023-11-14T14:42:26.832785",
     "status": "completed"
    },
    "tags": []
   },
   "source": [
    "**The graph shows that churn reasons can be divided into two main categories:**\n",
    "\n",
    "* **internal :-** Internal churn reasons are those that are within the company's control, such as **product quality**, **service quality**, and **price.**.\n",
    "\n",
    "* **external :-** External churn reasons are those that are outside of the company's control, such as **competitor **offerings and **network reliability**.\n",
    "\n",
    "**Actions that should to take :-**\n",
    "\n",
    "* The focus should be on **improving product** and **service quality**, and **reducing prices**, in order to address the top three churn reasons.\n",
    "* It is also important to **improve customer support**, as this is major churn driver.\n",
    "* The company should **monitor competitor offerings** and **network reliability**, and make adjustments as needed."
   ]
  },
  {
   "cell_type": "markdown",
   "id": "99b47ad3",
   "metadata": {
    "papermill": {
     "duration": 0.015959,
     "end_time": "2023-11-14T14:42:26.880974",
     "exception": false,
     "start_time": "2023-11-14T14:42:26.865015",
     "status": "completed"
    },
    "tags": []
   },
   "source": [
    "## City"
   ]
  },
  {
   "cell_type": "code",
   "execution_count": 14,
   "id": "2ec1046c",
   "metadata": {
    "execution": {
     "iopub.execute_input": "2023-11-14T14:42:26.914317Z",
     "iopub.status.busy": "2023-11-14T14:42:26.913936Z",
     "iopub.status.idle": "2023-11-14T14:42:26.921652Z",
     "shell.execute_reply": "2023-11-14T14:42:26.920105Z"
    },
    "papermill": {
     "duration": 0.026815,
     "end_time": "2023-11-14T14:42:26.923616",
     "exception": false,
     "start_time": "2023-11-14T14:42:26.896801",
     "status": "completed"
    },
    "tags": []
   },
   "outputs": [
    {
     "data": {
      "text/plain": [
       "1129"
      ]
     },
     "execution_count": 14,
     "metadata": {},
     "output_type": "execute_result"
    }
   ],
   "source": [
    "df['City'].nunique()"
   ]
  },
  {
   "cell_type": "markdown",
   "id": "8323ad6c",
   "metadata": {
    "papermill": {
     "duration": 0.016293,
     "end_time": "2023-11-14T14:42:26.956635",
     "exception": false,
     "start_time": "2023-11-14T14:42:26.940342",
     "status": "completed"
    },
    "tags": []
   },
   "source": [
    "There are `1129` unique cities in dataset."
   ]
  },
  {
   "cell_type": "code",
   "execution_count": 15,
   "id": "38fc3eaf",
   "metadata": {
    "execution": {
     "iopub.execute_input": "2023-11-14T14:42:26.991671Z",
     "iopub.status.busy": "2023-11-14T14:42:26.991347Z",
     "iopub.status.idle": "2023-11-14T14:42:27.022939Z",
     "shell.execute_reply": "2023-11-14T14:42:27.021857Z"
    },
    "papermill": {
     "duration": 0.051746,
     "end_time": "2023-11-14T14:42:27.025085",
     "exception": false,
     "start_time": "2023-11-14T14:42:26.973339",
     "status": "completed"
    },
    "tags": []
   },
   "outputs": [
    {
     "data": {
      "text/html": [
       "<div>\n",
       "<style scoped>\n",
       "    .dataframe tbody tr th:only-of-type {\n",
       "        vertical-align: middle;\n",
       "    }\n",
       "\n",
       "    .dataframe tbody tr th {\n",
       "        vertical-align: top;\n",
       "    }\n",
       "\n",
       "    .dataframe thead th {\n",
       "        text-align: right;\n",
       "    }\n",
       "</style>\n",
       "<table border=\"1\" class=\"dataframe\">\n",
       "  <thead>\n",
       "    <tr style=\"text-align: right;\">\n",
       "      <th></th>\n",
       "      <th>City</th>\n",
       "      <th>churn_rate</th>\n",
       "      <th>count</th>\n",
       "    </tr>\n",
       "  </thead>\n",
       "  <tbody>\n",
       "    <tr>\n",
       "      <th>976</th>\n",
       "      <td>Los Angeles</td>\n",
       "      <td>0.30</td>\n",
       "      <td>305</td>\n",
       "    </tr>\n",
       "    <tr>\n",
       "      <th>1502</th>\n",
       "      <td>San Diego</td>\n",
       "      <td>0.33</td>\n",
       "      <td>150</td>\n",
       "    </tr>\n",
       "    <tr>\n",
       "      <th>1518</th>\n",
       "      <td>San Jose</td>\n",
       "      <td>0.26</td>\n",
       "      <td>112</td>\n",
       "    </tr>\n",
       "    <tr>\n",
       "      <th>1479</th>\n",
       "      <td>Sacramento</td>\n",
       "      <td>0.24</td>\n",
       "      <td>108</td>\n",
       "    </tr>\n",
       "    <tr>\n",
       "      <th>1508</th>\n",
       "      <td>San Francisco</td>\n",
       "      <td>0.30</td>\n",
       "      <td>104</td>\n",
       "    </tr>\n",
       "  </tbody>\n",
       "</table>\n",
       "</div>"
      ],
      "text/plain": [
       "               City  churn_rate  count\n",
       "976     Los Angeles        0.30    305\n",
       "1502      San Diego        0.33    150\n",
       "1518       San Jose        0.26    112\n",
       "1479     Sacramento        0.24    108\n",
       "1508  San Francisco        0.30    104"
      ]
     },
     "execution_count": 15,
     "metadata": {},
     "output_type": "execute_result"
    }
   ],
   "source": [
    "# Group by 'City' and 'Churn Label' and count the occurrences\n",
    "grouped = df.groupby(['City', 'Churn Label'])['CustomerID'].count()\n",
    "total_counts = grouped.groupby('City').transform('sum')\n",
    "churn_rate = round(grouped / total_counts, 2)\n",
    "City_ChurnLabel = pd.DataFrame({'churn_rate': churn_rate}).reset_index()\n",
    "\n",
    "# Create a DataFrame with the total count per city\n",
    "city_counts = df.groupby('City')['CustomerID'].count().reset_index()\n",
    "city_counts.rename(columns={'CustomerID': 'count'}, inplace=True)\n",
    "\n",
    "# Merge the City_ChurnLabel and city_counts DataFrames\n",
    "City_ChurnLabel = City_ChurnLabel.merge(city_counts, on='City')\n",
    "\n",
    "# Filter out the rows where 'Churn Label' is 'No' and sort dataframe by count\n",
    "City_ChurnLabel = City_ChurnLabel[City_ChurnLabel['Churn Label'] == 'Yes']\n",
    "City_ChurnLabel = City_ChurnLabel.sort_values(by='count', ascending=False)\n",
    "City_ChurnLabel.drop(columns='Churn Label', inplace=True)\n",
    "\n",
    "City_ChurnLabel.head()"
   ]
  },
  {
   "cell_type": "code",
   "execution_count": 16,
   "id": "3b325ceb",
   "metadata": {
    "execution": {
     "iopub.execute_input": "2023-11-14T14:42:27.061337Z",
     "iopub.status.busy": "2023-11-14T14:42:27.060939Z",
     "iopub.status.idle": "2023-11-14T14:42:27.113853Z",
     "shell.execute_reply": "2023-11-14T14:42:27.112805Z"
    },
    "papermill": {
     "duration": 0.073245,
     "end_time": "2023-11-14T14:42:27.115958",
     "exception": false,
     "start_time": "2023-11-14T14:42:27.042713",
     "status": "completed"
    },
    "tags": []
   },
   "outputs": [
    {
     "data": {
      "text/html": [
       "<div>                            <div id=\"fbb7adee-11b0-43e2-bae5-0ba162cfc286\" class=\"plotly-graph-div\" style=\"height:525px; width:100%;\"></div>            <script type=\"text/javascript\">                require([\"plotly\"], function(Plotly) {                    window.PLOTLYENV=window.PLOTLYENV || {};                                    if (document.getElementById(\"fbb7adee-11b0-43e2-bae5-0ba162cfc286\")) {                    Plotly.newPlot(                        \"fbb7adee-11b0-43e2-bae5-0ba162cfc286\",                        [{\"alignmentgroup\":\"True\",\"hovertemplate\":\"City=%{x}\\u003cbr\\u003ecount=%{text}\\u003cextra\\u003e\\u003c\\u002fextra\\u003e\",\"legendgroup\":\"\",\"marker\":{\"color\":\"#636efa\",\"pattern\":{\"shape\":\"\"}},\"name\":\"\",\"offsetgroup\":\"\",\"orientation\":\"v\",\"showlegend\":false,\"text\":[305.0,150.0,112.0,108.0,104.0,64.0,60.0,52.0,44.0,40.0,40.0,32.0,32.0,30.0,30.0,28.0,28.0,28.0,28.0,28.0],\"textposition\":\"auto\",\"x\":[\"Los Angeles\",\"San Diego\",\"San Jose\",\"Sacramento\",\"San Francisco\",\"Fresno\",\"Long Beach\",\"Oakland\",\"Stockton\",\"Bakersfield\",\"Glendale\",\"Berkeley\",\"Riverside\",\"Pasadena\",\"Whittier\",\"Irvine\",\"Santa Barbara\",\"Anaheim\",\"San Bernardino\",\"Modesto\"],\"xaxis\":\"x\",\"y\":[305,150,112,108,104,64,60,52,44,40,40,32,32,30,30,28,28,28,28,28],\"yaxis\":\"y\",\"type\":\"bar\"}],                        {\"template\":{\"data\":{\"histogram2dcontour\":[{\"type\":\"histogram2dcontour\",\"colorbar\":{\"outlinewidth\":0,\"ticks\":\"\"},\"colorscale\":[[0.0,\"#0d0887\"],[0.1111111111111111,\"#46039f\"],[0.2222222222222222,\"#7201a8\"],[0.3333333333333333,\"#9c179e\"],[0.4444444444444444,\"#bd3786\"],[0.5555555555555556,\"#d8576b\"],[0.6666666666666666,\"#ed7953\"],[0.7777777777777778,\"#fb9f3a\"],[0.8888888888888888,\"#fdca26\"],[1.0,\"#f0f921\"]]}],\"choropleth\":[{\"type\":\"choropleth\",\"colorbar\":{\"outlinewidth\":0,\"ticks\":\"\"}}],\"histogram2d\":[{\"type\":\"histogram2d\",\"colorbar\":{\"outlinewidth\":0,\"ticks\":\"\"},\"colorscale\":[[0.0,\"#0d0887\"],[0.1111111111111111,\"#46039f\"],[0.2222222222222222,\"#7201a8\"],[0.3333333333333333,\"#9c179e\"],[0.4444444444444444,\"#bd3786\"],[0.5555555555555556,\"#d8576b\"],[0.6666666666666666,\"#ed7953\"],[0.7777777777777778,\"#fb9f3a\"],[0.8888888888888888,\"#fdca26\"],[1.0,\"#f0f921\"]]}],\"heatmap\":[{\"type\":\"heatmap\",\"colorbar\":{\"outlinewidth\":0,\"ticks\":\"\"},\"colorscale\":[[0.0,\"#0d0887\"],[0.1111111111111111,\"#46039f\"],[0.2222222222222222,\"#7201a8\"],[0.3333333333333333,\"#9c179e\"],[0.4444444444444444,\"#bd3786\"],[0.5555555555555556,\"#d8576b\"],[0.6666666666666666,\"#ed7953\"],[0.7777777777777778,\"#fb9f3a\"],[0.8888888888888888,\"#fdca26\"],[1.0,\"#f0f921\"]]}],\"heatmapgl\":[{\"type\":\"heatmapgl\",\"colorbar\":{\"outlinewidth\":0,\"ticks\":\"\"},\"colorscale\":[[0.0,\"#0d0887\"],[0.1111111111111111,\"#46039f\"],[0.2222222222222222,\"#7201a8\"],[0.3333333333333333,\"#9c179e\"],[0.4444444444444444,\"#bd3786\"],[0.5555555555555556,\"#d8576b\"],[0.6666666666666666,\"#ed7953\"],[0.7777777777777778,\"#fb9f3a\"],[0.8888888888888888,\"#fdca26\"],[1.0,\"#f0f921\"]]}],\"contourcarpet\":[{\"type\":\"contourcarpet\",\"colorbar\":{\"outlinewidth\":0,\"ticks\":\"\"}}],\"contour\":[{\"type\":\"contour\",\"colorbar\":{\"outlinewidth\":0,\"ticks\":\"\"},\"colorscale\":[[0.0,\"#0d0887\"],[0.1111111111111111,\"#46039f\"],[0.2222222222222222,\"#7201a8\"],[0.3333333333333333,\"#9c179e\"],[0.4444444444444444,\"#bd3786\"],[0.5555555555555556,\"#d8576b\"],[0.6666666666666666,\"#ed7953\"],[0.7777777777777778,\"#fb9f3a\"],[0.8888888888888888,\"#fdca26\"],[1.0,\"#f0f921\"]]}],\"surface\":[{\"type\":\"surface\",\"colorbar\":{\"outlinewidth\":0,\"ticks\":\"\"},\"colorscale\":[[0.0,\"#0d0887\"],[0.1111111111111111,\"#46039f\"],[0.2222222222222222,\"#7201a8\"],[0.3333333333333333,\"#9c179e\"],[0.4444444444444444,\"#bd3786\"],[0.5555555555555556,\"#d8576b\"],[0.6666666666666666,\"#ed7953\"],[0.7777777777777778,\"#fb9f3a\"],[0.8888888888888888,\"#fdca26\"],[1.0,\"#f0f921\"]]}],\"mesh3d\":[{\"type\":\"mesh3d\",\"colorbar\":{\"outlinewidth\":0,\"ticks\":\"\"}}],\"scatter\":[{\"fillpattern\":{\"fillmode\":\"overlay\",\"size\":10,\"solidity\":0.2},\"type\":\"scatter\"}],\"parcoords\":[{\"type\":\"parcoords\",\"line\":{\"colorbar\":{\"outlinewidth\":0,\"ticks\":\"\"}}}],\"scatterpolargl\":[{\"type\":\"scatterpolargl\",\"marker\":{\"colorbar\":{\"outlinewidth\":0,\"ticks\":\"\"}}}],\"bar\":[{\"error_x\":{\"color\":\"#2a3f5f\"},\"error_y\":{\"color\":\"#2a3f5f\"},\"marker\":{\"line\":{\"color\":\"#E5ECF6\",\"width\":0.5},\"pattern\":{\"fillmode\":\"overlay\",\"size\":10,\"solidity\":0.2}},\"type\":\"bar\"}],\"scattergeo\":[{\"type\":\"scattergeo\",\"marker\":{\"colorbar\":{\"outlinewidth\":0,\"ticks\":\"\"}}}],\"scatterpolar\":[{\"type\":\"scatterpolar\",\"marker\":{\"colorbar\":{\"outlinewidth\":0,\"ticks\":\"\"}}}],\"histogram\":[{\"marker\":{\"pattern\":{\"fillmode\":\"overlay\",\"size\":10,\"solidity\":0.2}},\"type\":\"histogram\"}],\"scattergl\":[{\"type\":\"scattergl\",\"marker\":{\"colorbar\":{\"outlinewidth\":0,\"ticks\":\"\"}}}],\"scatter3d\":[{\"type\":\"scatter3d\",\"line\":{\"colorbar\":{\"outlinewidth\":0,\"ticks\":\"\"}},\"marker\":{\"colorbar\":{\"outlinewidth\":0,\"ticks\":\"\"}}}],\"scattermapbox\":[{\"type\":\"scattermapbox\",\"marker\":{\"colorbar\":{\"outlinewidth\":0,\"ticks\":\"\"}}}],\"scatterternary\":[{\"type\":\"scatterternary\",\"marker\":{\"colorbar\":{\"outlinewidth\":0,\"ticks\":\"\"}}}],\"scattercarpet\":[{\"type\":\"scattercarpet\",\"marker\":{\"colorbar\":{\"outlinewidth\":0,\"ticks\":\"\"}}}],\"carpet\":[{\"aaxis\":{\"endlinecolor\":\"#2a3f5f\",\"gridcolor\":\"white\",\"linecolor\":\"white\",\"minorgridcolor\":\"white\",\"startlinecolor\":\"#2a3f5f\"},\"baxis\":{\"endlinecolor\":\"#2a3f5f\",\"gridcolor\":\"white\",\"linecolor\":\"white\",\"minorgridcolor\":\"white\",\"startlinecolor\":\"#2a3f5f\"},\"type\":\"carpet\"}],\"table\":[{\"cells\":{\"fill\":{\"color\":\"#EBF0F8\"},\"line\":{\"color\":\"white\"}},\"header\":{\"fill\":{\"color\":\"#C8D4E3\"},\"line\":{\"color\":\"white\"}},\"type\":\"table\"}],\"barpolar\":[{\"marker\":{\"line\":{\"color\":\"#E5ECF6\",\"width\":0.5},\"pattern\":{\"fillmode\":\"overlay\",\"size\":10,\"solidity\":0.2}},\"type\":\"barpolar\"}],\"pie\":[{\"automargin\":true,\"type\":\"pie\"}]},\"layout\":{\"autotypenumbers\":\"strict\",\"colorway\":[\"#636efa\",\"#EF553B\",\"#00cc96\",\"#ab63fa\",\"#FFA15A\",\"#19d3f3\",\"#FF6692\",\"#B6E880\",\"#FF97FF\",\"#FECB52\"],\"font\":{\"color\":\"#2a3f5f\"},\"hovermode\":\"closest\",\"hoverlabel\":{\"align\":\"left\"},\"paper_bgcolor\":\"white\",\"plot_bgcolor\":\"#E5ECF6\",\"polar\":{\"bgcolor\":\"#E5ECF6\",\"angularaxis\":{\"gridcolor\":\"white\",\"linecolor\":\"white\",\"ticks\":\"\"},\"radialaxis\":{\"gridcolor\":\"white\",\"linecolor\":\"white\",\"ticks\":\"\"}},\"ternary\":{\"bgcolor\":\"#E5ECF6\",\"aaxis\":{\"gridcolor\":\"white\",\"linecolor\":\"white\",\"ticks\":\"\"},\"baxis\":{\"gridcolor\":\"white\",\"linecolor\":\"white\",\"ticks\":\"\"},\"caxis\":{\"gridcolor\":\"white\",\"linecolor\":\"white\",\"ticks\":\"\"}},\"coloraxis\":{\"colorbar\":{\"outlinewidth\":0,\"ticks\":\"\"}},\"colorscale\":{\"sequential\":[[0.0,\"#0d0887\"],[0.1111111111111111,\"#46039f\"],[0.2222222222222222,\"#7201a8\"],[0.3333333333333333,\"#9c179e\"],[0.4444444444444444,\"#bd3786\"],[0.5555555555555556,\"#d8576b\"],[0.6666666666666666,\"#ed7953\"],[0.7777777777777778,\"#fb9f3a\"],[0.8888888888888888,\"#fdca26\"],[1.0,\"#f0f921\"]],\"sequentialminus\":[[0.0,\"#0d0887\"],[0.1111111111111111,\"#46039f\"],[0.2222222222222222,\"#7201a8\"],[0.3333333333333333,\"#9c179e\"],[0.4444444444444444,\"#bd3786\"],[0.5555555555555556,\"#d8576b\"],[0.6666666666666666,\"#ed7953\"],[0.7777777777777778,\"#fb9f3a\"],[0.8888888888888888,\"#fdca26\"],[1.0,\"#f0f921\"]],\"diverging\":[[0,\"#8e0152\"],[0.1,\"#c51b7d\"],[0.2,\"#de77ae\"],[0.3,\"#f1b6da\"],[0.4,\"#fde0ef\"],[0.5,\"#f7f7f7\"],[0.6,\"#e6f5d0\"],[0.7,\"#b8e186\"],[0.8,\"#7fbc41\"],[0.9,\"#4d9221\"],[1,\"#276419\"]]},\"xaxis\":{\"gridcolor\":\"white\",\"linecolor\":\"white\",\"ticks\":\"\",\"title\":{\"standoff\":15},\"zerolinecolor\":\"white\",\"automargin\":true,\"zerolinewidth\":2},\"yaxis\":{\"gridcolor\":\"white\",\"linecolor\":\"white\",\"ticks\":\"\",\"title\":{\"standoff\":15},\"zerolinecolor\":\"white\",\"automargin\":true,\"zerolinewidth\":2},\"scene\":{\"xaxis\":{\"backgroundcolor\":\"#E5ECF6\",\"gridcolor\":\"white\",\"linecolor\":\"white\",\"showbackground\":true,\"ticks\":\"\",\"zerolinecolor\":\"white\",\"gridwidth\":2},\"yaxis\":{\"backgroundcolor\":\"#E5ECF6\",\"gridcolor\":\"white\",\"linecolor\":\"white\",\"showbackground\":true,\"ticks\":\"\",\"zerolinecolor\":\"white\",\"gridwidth\":2},\"zaxis\":{\"backgroundcolor\":\"#E5ECF6\",\"gridcolor\":\"white\",\"linecolor\":\"white\",\"showbackground\":true,\"ticks\":\"\",\"zerolinecolor\":\"white\",\"gridwidth\":2}},\"shapedefaults\":{\"line\":{\"color\":\"#2a3f5f\"}},\"annotationdefaults\":{\"arrowcolor\":\"#2a3f5f\",\"arrowhead\":0,\"arrowwidth\":1},\"geo\":{\"bgcolor\":\"white\",\"landcolor\":\"#E5ECF6\",\"subunitcolor\":\"white\",\"showland\":true,\"showlakes\":true,\"lakecolor\":\"white\"},\"title\":{\"x\":0.05},\"mapbox\":{\"style\":\"light\"}}},\"xaxis\":{\"anchor\":\"y\",\"domain\":[0.0,1.0],\"title\":{\"text\":\"Name of city\"}},\"yaxis\":{\"anchor\":\"x\",\"domain\":[0.0,1.0],\"title\":{\"text\":\"Count\"}},\"legend\":{\"tracegroupgap\":0},\"title\":{\"text\":\"City Counts\"},\"barmode\":\"relative\"},                        {\"responsive\": true}                    ).then(function(){\n",
       "                            \n",
       "var gd = document.getElementById('fbb7adee-11b0-43e2-bae5-0ba162cfc286');\n",
       "var x = new MutationObserver(function (mutations, observer) {{\n",
       "        var display = window.getComputedStyle(gd).display;\n",
       "        if (!display || display === 'none') {{\n",
       "            console.log([gd, 'removed!']);\n",
       "            Plotly.purge(gd);\n",
       "            observer.disconnect();\n",
       "        }}\n",
       "}});\n",
       "\n",
       "// Listen for the removal of the full notebook cells\n",
       "var notebookContainer = gd.closest('#notebook-container');\n",
       "if (notebookContainer) {{\n",
       "    x.observe(notebookContainer, {childList: true});\n",
       "}}\n",
       "\n",
       "// Listen for the clearing of the current output cell\n",
       "var outputEl = gd.closest('.output');\n",
       "if (outputEl) {{\n",
       "    x.observe(outputEl, {childList: true});\n",
       "}}\n",
       "\n",
       "                        })                };                });            </script>        </div>"
      ]
     },
     "metadata": {},
     "output_type": "display_data"
    }
   ],
   "source": [
    "fig = px.bar(City_ChurnLabel.head(20), x='City', y= 'count', title='City Counts', text ='count')\n",
    "fig.update_layout(\n",
    "    xaxis_title=\"Name of city\",\n",
    "    yaxis_title=\"Count\"\n",
    ")\n",
    "fig.show()"
   ]
  },
  {
   "cell_type": "markdown",
   "id": "43129439",
   "metadata": {
    "papermill": {
     "duration": 0.0175,
     "end_time": "2023-11-14T14:42:27.150667",
     "exception": false,
     "start_time": "2023-11-14T14:42:27.133167",
     "status": "completed"
    },
    "tags": []
   },
   "source": [
    "**We see the largest number of customers in the Los Angeles counted `305`, then San Diego counted `150`.**"
   ]
  },
  {
   "cell_type": "code",
   "execution_count": 17,
   "id": "18e051d1",
   "metadata": {
    "execution": {
     "iopub.execute_input": "2023-11-14T14:42:27.187352Z",
     "iopub.status.busy": "2023-11-14T14:42:27.186978Z",
     "iopub.status.idle": "2023-11-14T14:42:27.245503Z",
     "shell.execute_reply": "2023-11-14T14:42:27.244094Z"
    },
    "papermill": {
     "duration": 0.079779,
     "end_time": "2023-11-14T14:42:27.247988",
     "exception": false,
     "start_time": "2023-11-14T14:42:27.168209",
     "status": "completed"
    },
    "tags": []
   },
   "outputs": [
    {
     "data": {
      "text/html": [
       "<div>                            <div id=\"3ed0df86-deaf-4405-beb4-9793720baee3\" class=\"plotly-graph-div\" style=\"height:525px; width:100%;\"></div>            <script type=\"text/javascript\">                require([\"plotly\"], function(Plotly) {                    window.PLOTLYENV=window.PLOTLYENV || {};                                    if (document.getElementById(\"3ed0df86-deaf-4405-beb4-9793720baee3\")) {                    Plotly.newPlot(                        \"3ed0df86-deaf-4405-beb4-9793720baee3\",                        [{\"alignmentgroup\":\"True\",\"hovertemplate\":\"City=%{x}\\u003cbr\\u003echurn_rate=%{marker.color}\\u003cextra\\u003e\\u003c\\u002fextra\\u003e\",\"legendgroup\":\"\",\"marker\":{\"color\":[0.07,0.07,0.08,0.08,0.1,0.1,0.1,0.1,0.1,0.1,0.1,0.1,0.12,0.12,0.12,0.12,0.12,0.12,0.12,0.12,0.12,0.12,0.12,0.13,0.15,0.17,0.17,0.17,0.17,0.18],\"coloraxis\":\"coloraxis\",\"pattern\":{\"shape\":\"\"}},\"name\":\"\",\"offsetgroup\":\"\",\"orientation\":\"v\",\"showlegend\":false,\"text\":[0.07,0.07,0.08,0.08,0.1,0.1,0.1,0.1,0.1,0.1,0.1,0.1,0.12,0.12,0.12,0.12,0.12,0.12,0.12,0.12,0.12,0.12,0.12,0.13,0.15,0.17,0.17,0.17,0.17,0.18],\"textposition\":\"auto\",\"x\":[\"Gardena\",\"Beverly Hills\",\"San Leandro\",\"Bakersfield\",\"Monterey Park\",\"Encino\",\"Arcadia\",\"Rancho Santa Fe\",\"Redondo Beach\",\"Woodland Hills\",\"Corona\",\"La Mesa\",\"Fullerton\",\"Citrus Heights\",\"Vacaville\",\"Mission Viejo\",\"West Sacramento\",\"Castro Valley\",\"Los Altos\",\"Tustin\",\"Frazier Park\",\"Simi Valley\",\"Danville\",\"Compton\",\"Orange\",\"Hemet\",\"Sunnyvale\",\"Whittier\",\"Redding\",\"Irvine\"],\"xaxis\":\"x\",\"y\":[0.07,0.07,0.08,0.08,0.1,0.1,0.1,0.1,0.1,0.1,0.1,0.1,0.12,0.12,0.12,0.12,0.12,0.12,0.12,0.12,0.12,0.12,0.12,0.13,0.15,0.17,0.17,0.17,0.17,0.18],\"yaxis\":\"y\",\"type\":\"bar\"}],                        {\"template\":{\"data\":{\"histogram2dcontour\":[{\"type\":\"histogram2dcontour\",\"colorbar\":{\"outlinewidth\":0,\"ticks\":\"\"},\"colorscale\":[[0.0,\"#0d0887\"],[0.1111111111111111,\"#46039f\"],[0.2222222222222222,\"#7201a8\"],[0.3333333333333333,\"#9c179e\"],[0.4444444444444444,\"#bd3786\"],[0.5555555555555556,\"#d8576b\"],[0.6666666666666666,\"#ed7953\"],[0.7777777777777778,\"#fb9f3a\"],[0.8888888888888888,\"#fdca26\"],[1.0,\"#f0f921\"]]}],\"choropleth\":[{\"type\":\"choropleth\",\"colorbar\":{\"outlinewidth\":0,\"ticks\":\"\"}}],\"histogram2d\":[{\"type\":\"histogram2d\",\"colorbar\":{\"outlinewidth\":0,\"ticks\":\"\"},\"colorscale\":[[0.0,\"#0d0887\"],[0.1111111111111111,\"#46039f\"],[0.2222222222222222,\"#7201a8\"],[0.3333333333333333,\"#9c179e\"],[0.4444444444444444,\"#bd3786\"],[0.5555555555555556,\"#d8576b\"],[0.6666666666666666,\"#ed7953\"],[0.7777777777777778,\"#fb9f3a\"],[0.8888888888888888,\"#fdca26\"],[1.0,\"#f0f921\"]]}],\"heatmap\":[{\"type\":\"heatmap\",\"colorbar\":{\"outlinewidth\":0,\"ticks\":\"\"},\"colorscale\":[[0.0,\"#0d0887\"],[0.1111111111111111,\"#46039f\"],[0.2222222222222222,\"#7201a8\"],[0.3333333333333333,\"#9c179e\"],[0.4444444444444444,\"#bd3786\"],[0.5555555555555556,\"#d8576b\"],[0.6666666666666666,\"#ed7953\"],[0.7777777777777778,\"#fb9f3a\"],[0.8888888888888888,\"#fdca26\"],[1.0,\"#f0f921\"]]}],\"heatmapgl\":[{\"type\":\"heatmapgl\",\"colorbar\":{\"outlinewidth\":0,\"ticks\":\"\"},\"colorscale\":[[0.0,\"#0d0887\"],[0.1111111111111111,\"#46039f\"],[0.2222222222222222,\"#7201a8\"],[0.3333333333333333,\"#9c179e\"],[0.4444444444444444,\"#bd3786\"],[0.5555555555555556,\"#d8576b\"],[0.6666666666666666,\"#ed7953\"],[0.7777777777777778,\"#fb9f3a\"],[0.8888888888888888,\"#fdca26\"],[1.0,\"#f0f921\"]]}],\"contourcarpet\":[{\"type\":\"contourcarpet\",\"colorbar\":{\"outlinewidth\":0,\"ticks\":\"\"}}],\"contour\":[{\"type\":\"contour\",\"colorbar\":{\"outlinewidth\":0,\"ticks\":\"\"},\"colorscale\":[[0.0,\"#0d0887\"],[0.1111111111111111,\"#46039f\"],[0.2222222222222222,\"#7201a8\"],[0.3333333333333333,\"#9c179e\"],[0.4444444444444444,\"#bd3786\"],[0.5555555555555556,\"#d8576b\"],[0.6666666666666666,\"#ed7953\"],[0.7777777777777778,\"#fb9f3a\"],[0.8888888888888888,\"#fdca26\"],[1.0,\"#f0f921\"]]}],\"surface\":[{\"type\":\"surface\",\"colorbar\":{\"outlinewidth\":0,\"ticks\":\"\"},\"colorscale\":[[0.0,\"#0d0887\"],[0.1111111111111111,\"#46039f\"],[0.2222222222222222,\"#7201a8\"],[0.3333333333333333,\"#9c179e\"],[0.4444444444444444,\"#bd3786\"],[0.5555555555555556,\"#d8576b\"],[0.6666666666666666,\"#ed7953\"],[0.7777777777777778,\"#fb9f3a\"],[0.8888888888888888,\"#fdca26\"],[1.0,\"#f0f921\"]]}],\"mesh3d\":[{\"type\":\"mesh3d\",\"colorbar\":{\"outlinewidth\":0,\"ticks\":\"\"}}],\"scatter\":[{\"fillpattern\":{\"fillmode\":\"overlay\",\"size\":10,\"solidity\":0.2},\"type\":\"scatter\"}],\"parcoords\":[{\"type\":\"parcoords\",\"line\":{\"colorbar\":{\"outlinewidth\":0,\"ticks\":\"\"}}}],\"scatterpolargl\":[{\"type\":\"scatterpolargl\",\"marker\":{\"colorbar\":{\"outlinewidth\":0,\"ticks\":\"\"}}}],\"bar\":[{\"error_x\":{\"color\":\"#2a3f5f\"},\"error_y\":{\"color\":\"#2a3f5f\"},\"marker\":{\"line\":{\"color\":\"#E5ECF6\",\"width\":0.5},\"pattern\":{\"fillmode\":\"overlay\",\"size\":10,\"solidity\":0.2}},\"type\":\"bar\"}],\"scattergeo\":[{\"type\":\"scattergeo\",\"marker\":{\"colorbar\":{\"outlinewidth\":0,\"ticks\":\"\"}}}],\"scatterpolar\":[{\"type\":\"scatterpolar\",\"marker\":{\"colorbar\":{\"outlinewidth\":0,\"ticks\":\"\"}}}],\"histogram\":[{\"marker\":{\"pattern\":{\"fillmode\":\"overlay\",\"size\":10,\"solidity\":0.2}},\"type\":\"histogram\"}],\"scattergl\":[{\"type\":\"scattergl\",\"marker\":{\"colorbar\":{\"outlinewidth\":0,\"ticks\":\"\"}}}],\"scatter3d\":[{\"type\":\"scatter3d\",\"line\":{\"colorbar\":{\"outlinewidth\":0,\"ticks\":\"\"}},\"marker\":{\"colorbar\":{\"outlinewidth\":0,\"ticks\":\"\"}}}],\"scattermapbox\":[{\"type\":\"scattermapbox\",\"marker\":{\"colorbar\":{\"outlinewidth\":0,\"ticks\":\"\"}}}],\"scatterternary\":[{\"type\":\"scatterternary\",\"marker\":{\"colorbar\":{\"outlinewidth\":0,\"ticks\":\"\"}}}],\"scattercarpet\":[{\"type\":\"scattercarpet\",\"marker\":{\"colorbar\":{\"outlinewidth\":0,\"ticks\":\"\"}}}],\"carpet\":[{\"aaxis\":{\"endlinecolor\":\"#2a3f5f\",\"gridcolor\":\"white\",\"linecolor\":\"white\",\"minorgridcolor\":\"white\",\"startlinecolor\":\"#2a3f5f\"},\"baxis\":{\"endlinecolor\":\"#2a3f5f\",\"gridcolor\":\"white\",\"linecolor\":\"white\",\"minorgridcolor\":\"white\",\"startlinecolor\":\"#2a3f5f\"},\"type\":\"carpet\"}],\"table\":[{\"cells\":{\"fill\":{\"color\":\"#EBF0F8\"},\"line\":{\"color\":\"white\"}},\"header\":{\"fill\":{\"color\":\"#C8D4E3\"},\"line\":{\"color\":\"white\"}},\"type\":\"table\"}],\"barpolar\":[{\"marker\":{\"line\":{\"color\":\"#E5ECF6\",\"width\":0.5},\"pattern\":{\"fillmode\":\"overlay\",\"size\":10,\"solidity\":0.2}},\"type\":\"barpolar\"}],\"pie\":[{\"automargin\":true,\"type\":\"pie\"}]},\"layout\":{\"autotypenumbers\":\"strict\",\"colorway\":[\"#636efa\",\"#EF553B\",\"#00cc96\",\"#ab63fa\",\"#FFA15A\",\"#19d3f3\",\"#FF6692\",\"#B6E880\",\"#FF97FF\",\"#FECB52\"],\"font\":{\"color\":\"#2a3f5f\"},\"hovermode\":\"closest\",\"hoverlabel\":{\"align\":\"left\"},\"paper_bgcolor\":\"white\",\"plot_bgcolor\":\"#E5ECF6\",\"polar\":{\"bgcolor\":\"#E5ECF6\",\"angularaxis\":{\"gridcolor\":\"white\",\"linecolor\":\"white\",\"ticks\":\"\"},\"radialaxis\":{\"gridcolor\":\"white\",\"linecolor\":\"white\",\"ticks\":\"\"}},\"ternary\":{\"bgcolor\":\"#E5ECF6\",\"aaxis\":{\"gridcolor\":\"white\",\"linecolor\":\"white\",\"ticks\":\"\"},\"baxis\":{\"gridcolor\":\"white\",\"linecolor\":\"white\",\"ticks\":\"\"},\"caxis\":{\"gridcolor\":\"white\",\"linecolor\":\"white\",\"ticks\":\"\"}},\"coloraxis\":{\"colorbar\":{\"outlinewidth\":0,\"ticks\":\"\"}},\"colorscale\":{\"sequential\":[[0.0,\"#0d0887\"],[0.1111111111111111,\"#46039f\"],[0.2222222222222222,\"#7201a8\"],[0.3333333333333333,\"#9c179e\"],[0.4444444444444444,\"#bd3786\"],[0.5555555555555556,\"#d8576b\"],[0.6666666666666666,\"#ed7953\"],[0.7777777777777778,\"#fb9f3a\"],[0.8888888888888888,\"#fdca26\"],[1.0,\"#f0f921\"]],\"sequentialminus\":[[0.0,\"#0d0887\"],[0.1111111111111111,\"#46039f\"],[0.2222222222222222,\"#7201a8\"],[0.3333333333333333,\"#9c179e\"],[0.4444444444444444,\"#bd3786\"],[0.5555555555555556,\"#d8576b\"],[0.6666666666666666,\"#ed7953\"],[0.7777777777777778,\"#fb9f3a\"],[0.8888888888888888,\"#fdca26\"],[1.0,\"#f0f921\"]],\"diverging\":[[0,\"#8e0152\"],[0.1,\"#c51b7d\"],[0.2,\"#de77ae\"],[0.3,\"#f1b6da\"],[0.4,\"#fde0ef\"],[0.5,\"#f7f7f7\"],[0.6,\"#e6f5d0\"],[0.7,\"#b8e186\"],[0.8,\"#7fbc41\"],[0.9,\"#4d9221\"],[1,\"#276419\"]]},\"xaxis\":{\"gridcolor\":\"white\",\"linecolor\":\"white\",\"ticks\":\"\",\"title\":{\"standoff\":15},\"zerolinecolor\":\"white\",\"automargin\":true,\"zerolinewidth\":2},\"yaxis\":{\"gridcolor\":\"white\",\"linecolor\":\"white\",\"ticks\":\"\",\"title\":{\"standoff\":15},\"zerolinecolor\":\"white\",\"automargin\":true,\"zerolinewidth\":2},\"scene\":{\"xaxis\":{\"backgroundcolor\":\"#E5ECF6\",\"gridcolor\":\"white\",\"linecolor\":\"white\",\"showbackground\":true,\"ticks\":\"\",\"zerolinecolor\":\"white\",\"gridwidth\":2},\"yaxis\":{\"backgroundcolor\":\"#E5ECF6\",\"gridcolor\":\"white\",\"linecolor\":\"white\",\"showbackground\":true,\"ticks\":\"\",\"zerolinecolor\":\"white\",\"gridwidth\":2},\"zaxis\":{\"backgroundcolor\":\"#E5ECF6\",\"gridcolor\":\"white\",\"linecolor\":\"white\",\"showbackground\":true,\"ticks\":\"\",\"zerolinecolor\":\"white\",\"gridwidth\":2}},\"shapedefaults\":{\"line\":{\"color\":\"#2a3f5f\"}},\"annotationdefaults\":{\"arrowcolor\":\"#2a3f5f\",\"arrowhead\":0,\"arrowwidth\":1},\"geo\":{\"bgcolor\":\"white\",\"landcolor\":\"#E5ECF6\",\"subunitcolor\":\"white\",\"showland\":true,\"showlakes\":true,\"lakecolor\":\"white\"},\"title\":{\"x\":0.05},\"mapbox\":{\"style\":\"light\"}}},\"xaxis\":{\"anchor\":\"y\",\"domain\":[0.0,1.0],\"title\":{\"text\":\"Name of city\"}},\"yaxis\":{\"anchor\":\"x\",\"domain\":[0.0,1.0],\"title\":{\"text\":\"churn rate\"}},\"coloraxis\":{\"colorbar\":{\"title\":{\"text\":\"churn_rate\"}},\"colorscale\":[[0.0,\"#0d0887\"],[0.1111111111111111,\"#46039f\"],[0.2222222222222222,\"#7201a8\"],[0.3333333333333333,\"#9c179e\"],[0.4444444444444444,\"#bd3786\"],[0.5555555555555556,\"#d8576b\"],[0.6666666666666666,\"#ed7953\"],[0.7777777777777778,\"#fb9f3a\"],[0.8888888888888888,\"#fdca26\"],[1.0,\"#f0f921\"]]},\"legend\":{\"tracegroupgap\":0},\"title\":{\"text\":\"churn rate by city\"},\"barmode\":\"relative\"},                        {\"responsive\": true}                    ).then(function(){\n",
       "                            \n",
       "var gd = document.getElementById('3ed0df86-deaf-4405-beb4-9793720baee3');\n",
       "var x = new MutationObserver(function (mutations, observer) {{\n",
       "        var display = window.getComputedStyle(gd).display;\n",
       "        if (!display || display === 'none') {{\n",
       "            console.log([gd, 'removed!']);\n",
       "            Plotly.purge(gd);\n",
       "            observer.disconnect();\n",
       "        }}\n",
       "}});\n",
       "\n",
       "// Listen for the removal of the full notebook cells\n",
       "var notebookContainer = gd.closest('#notebook-container');\n",
       "if (notebookContainer) {{\n",
       "    x.observe(notebookContainer, {childList: true});\n",
       "}}\n",
       "\n",
       "// Listen for the clearing of the current output cell\n",
       "var outputEl = gd.closest('.output');\n",
       "if (outputEl) {{\n",
       "    x.observe(outputEl, {childList: true});\n",
       "}}\n",
       "\n",
       "                        })                };                });            </script>        </div>"
      ]
     },
     "metadata": {},
     "output_type": "display_data"
    }
   ],
   "source": [
    "fig = px.bar(City_ChurnLabel.sort_values(by='churn_rate', ascending=True).head(30),\n",
    "             x='City', y= 'churn_rate', title='churn rate by city', text ='churn_rate', color='churn_rate')\n",
    "fig.update_layout(\n",
    "    xaxis_title=\"Name of city\",\n",
    "    yaxis_title=\"churn rate\"\n",
    ")\n",
    "fig.show()"
   ]
  },
  {
   "cell_type": "code",
   "execution_count": 18,
   "id": "67270223",
   "metadata": {
    "execution": {
     "iopub.execute_input": "2023-11-14T14:42:27.285578Z",
     "iopub.status.busy": "2023-11-14T14:42:27.284258Z",
     "iopub.status.idle": "2023-11-14T14:42:27.343597Z",
     "shell.execute_reply": "2023-11-14T14:42:27.342847Z"
    },
    "papermill": {
     "duration": 0.079991,
     "end_time": "2023-11-14T14:42:27.345373",
     "exception": false,
     "start_time": "2023-11-14T14:42:27.265382",
     "status": "completed"
    },
    "tags": []
   },
   "outputs": [
    {
     "data": {
      "text/html": [
       "<div>                            <div id=\"e82d1700-6b17-442c-8dba-f12552f3b213\" class=\"plotly-graph-div\" style=\"height:525px; width:100%;\"></div>            <script type=\"text/javascript\">                require([\"plotly\"], function(Plotly) {                    window.PLOTLYENV=window.PLOTLYENV || {};                                    if (document.getElementById(\"e82d1700-6b17-442c-8dba-f12552f3b213\")) {                    Plotly.newPlot(                        \"e82d1700-6b17-442c-8dba-f12552f3b213\",                        [{\"alignmentgroup\":\"True\",\"hovertemplate\":\"City=%{x}\\u003cbr\\u003echurn_rate=%{marker.color}\\u003cextra\\u003e\\u003c\\u002fextra\\u003e\",\"legendgroup\":\"\",\"marker\":{\"color\":[1.0,1.0,1.0,1.0,1.0,1.0,1.0,1.0,1.0,1.0,1.0,1.0,0.8,0.8,0.8,0.8,0.75,0.75,0.75,0.75,0.75,0.75,0.75,0.75,0.75,0.75,0.75,0.75,0.75,0.75],\"coloraxis\":\"coloraxis\",\"pattern\":{\"shape\":\"\"}},\"name\":\"\",\"offsetgroup\":\"\",\"orientation\":\"v\",\"showlegend\":false,\"text\":[1.0,1.0,1.0,1.0,1.0,1.0,1.0,1.0,1.0,1.0,1.0,1.0,0.8,0.8,0.8,0.8,0.75,0.75,0.75,0.75,0.75,0.75,0.75,0.75,0.75,0.75,0.75,0.75,0.75,0.75],\"textposition\":\"auto\",\"x\":[\"Johannesburg\",\"Fort Jones\",\"Tipton\",\"Truckee\",\"South Lake Tahoe\",\"Riverbank\",\"Boulder Creek\",\"Wrightwood\",\"Smith River\",\"Twain\",\"Maricopa\",\"Eldridge\",\"Indian Wells\",\"Panorama City\",\"San Dimas\",\"Seeley\",\"Grimes\",\"Ludlow\",\"Grizzly Flats\",\"Orangevale\",\"Delhi\",\"Jackson\",\"Corona Del Mar\",\"Sierra City\",\"Keene\",\"Summerland\",\"Dinuba\",\"Lewiston\",\"Quincy\",\"Comptche\"],\"xaxis\":\"x\",\"y\":[1.0,1.0,1.0,1.0,1.0,1.0,1.0,1.0,1.0,1.0,1.0,1.0,0.8,0.8,0.8,0.8,0.75,0.75,0.75,0.75,0.75,0.75,0.75,0.75,0.75,0.75,0.75,0.75,0.75,0.75],\"yaxis\":\"y\",\"type\":\"bar\"}],                        {\"template\":{\"data\":{\"histogram2dcontour\":[{\"type\":\"histogram2dcontour\",\"colorbar\":{\"outlinewidth\":0,\"ticks\":\"\"},\"colorscale\":[[0.0,\"#0d0887\"],[0.1111111111111111,\"#46039f\"],[0.2222222222222222,\"#7201a8\"],[0.3333333333333333,\"#9c179e\"],[0.4444444444444444,\"#bd3786\"],[0.5555555555555556,\"#d8576b\"],[0.6666666666666666,\"#ed7953\"],[0.7777777777777778,\"#fb9f3a\"],[0.8888888888888888,\"#fdca26\"],[1.0,\"#f0f921\"]]}],\"choropleth\":[{\"type\":\"choropleth\",\"colorbar\":{\"outlinewidth\":0,\"ticks\":\"\"}}],\"histogram2d\":[{\"type\":\"histogram2d\",\"colorbar\":{\"outlinewidth\":0,\"ticks\":\"\"},\"colorscale\":[[0.0,\"#0d0887\"],[0.1111111111111111,\"#46039f\"],[0.2222222222222222,\"#7201a8\"],[0.3333333333333333,\"#9c179e\"],[0.4444444444444444,\"#bd3786\"],[0.5555555555555556,\"#d8576b\"],[0.6666666666666666,\"#ed7953\"],[0.7777777777777778,\"#fb9f3a\"],[0.8888888888888888,\"#fdca26\"],[1.0,\"#f0f921\"]]}],\"heatmap\":[{\"type\":\"heatmap\",\"colorbar\":{\"outlinewidth\":0,\"ticks\":\"\"},\"colorscale\":[[0.0,\"#0d0887\"],[0.1111111111111111,\"#46039f\"],[0.2222222222222222,\"#7201a8\"],[0.3333333333333333,\"#9c179e\"],[0.4444444444444444,\"#bd3786\"],[0.5555555555555556,\"#d8576b\"],[0.6666666666666666,\"#ed7953\"],[0.7777777777777778,\"#fb9f3a\"],[0.8888888888888888,\"#fdca26\"],[1.0,\"#f0f921\"]]}],\"heatmapgl\":[{\"type\":\"heatmapgl\",\"colorbar\":{\"outlinewidth\":0,\"ticks\":\"\"},\"colorscale\":[[0.0,\"#0d0887\"],[0.1111111111111111,\"#46039f\"],[0.2222222222222222,\"#7201a8\"],[0.3333333333333333,\"#9c179e\"],[0.4444444444444444,\"#bd3786\"],[0.5555555555555556,\"#d8576b\"],[0.6666666666666666,\"#ed7953\"],[0.7777777777777778,\"#fb9f3a\"],[0.8888888888888888,\"#fdca26\"],[1.0,\"#f0f921\"]]}],\"contourcarpet\":[{\"type\":\"contourcarpet\",\"colorbar\":{\"outlinewidth\":0,\"ticks\":\"\"}}],\"contour\":[{\"type\":\"contour\",\"colorbar\":{\"outlinewidth\":0,\"ticks\":\"\"},\"colorscale\":[[0.0,\"#0d0887\"],[0.1111111111111111,\"#46039f\"],[0.2222222222222222,\"#7201a8\"],[0.3333333333333333,\"#9c179e\"],[0.4444444444444444,\"#bd3786\"],[0.5555555555555556,\"#d8576b\"],[0.6666666666666666,\"#ed7953\"],[0.7777777777777778,\"#fb9f3a\"],[0.8888888888888888,\"#fdca26\"],[1.0,\"#f0f921\"]]}],\"surface\":[{\"type\":\"surface\",\"colorbar\":{\"outlinewidth\":0,\"ticks\":\"\"},\"colorscale\":[[0.0,\"#0d0887\"],[0.1111111111111111,\"#46039f\"],[0.2222222222222222,\"#7201a8\"],[0.3333333333333333,\"#9c179e\"],[0.4444444444444444,\"#bd3786\"],[0.5555555555555556,\"#d8576b\"],[0.6666666666666666,\"#ed7953\"],[0.7777777777777778,\"#fb9f3a\"],[0.8888888888888888,\"#fdca26\"],[1.0,\"#f0f921\"]]}],\"mesh3d\":[{\"type\":\"mesh3d\",\"colorbar\":{\"outlinewidth\":0,\"ticks\":\"\"}}],\"scatter\":[{\"fillpattern\":{\"fillmode\":\"overlay\",\"size\":10,\"solidity\":0.2},\"type\":\"scatter\"}],\"parcoords\":[{\"type\":\"parcoords\",\"line\":{\"colorbar\":{\"outlinewidth\":0,\"ticks\":\"\"}}}],\"scatterpolargl\":[{\"type\":\"scatterpolargl\",\"marker\":{\"colorbar\":{\"outlinewidth\":0,\"ticks\":\"\"}}}],\"bar\":[{\"error_x\":{\"color\":\"#2a3f5f\"},\"error_y\":{\"color\":\"#2a3f5f\"},\"marker\":{\"line\":{\"color\":\"#E5ECF6\",\"width\":0.5},\"pattern\":{\"fillmode\":\"overlay\",\"size\":10,\"solidity\":0.2}},\"type\":\"bar\"}],\"scattergeo\":[{\"type\":\"scattergeo\",\"marker\":{\"colorbar\":{\"outlinewidth\":0,\"ticks\":\"\"}}}],\"scatterpolar\":[{\"type\":\"scatterpolar\",\"marker\":{\"colorbar\":{\"outlinewidth\":0,\"ticks\":\"\"}}}],\"histogram\":[{\"marker\":{\"pattern\":{\"fillmode\":\"overlay\",\"size\":10,\"solidity\":0.2}},\"type\":\"histogram\"}],\"scattergl\":[{\"type\":\"scattergl\",\"marker\":{\"colorbar\":{\"outlinewidth\":0,\"ticks\":\"\"}}}],\"scatter3d\":[{\"type\":\"scatter3d\",\"line\":{\"colorbar\":{\"outlinewidth\":0,\"ticks\":\"\"}},\"marker\":{\"colorbar\":{\"outlinewidth\":0,\"ticks\":\"\"}}}],\"scattermapbox\":[{\"type\":\"scattermapbox\",\"marker\":{\"colorbar\":{\"outlinewidth\":0,\"ticks\":\"\"}}}],\"scatterternary\":[{\"type\":\"scatterternary\",\"marker\":{\"colorbar\":{\"outlinewidth\":0,\"ticks\":\"\"}}}],\"scattercarpet\":[{\"type\":\"scattercarpet\",\"marker\":{\"colorbar\":{\"outlinewidth\":0,\"ticks\":\"\"}}}],\"carpet\":[{\"aaxis\":{\"endlinecolor\":\"#2a3f5f\",\"gridcolor\":\"white\",\"linecolor\":\"white\",\"minorgridcolor\":\"white\",\"startlinecolor\":\"#2a3f5f\"},\"baxis\":{\"endlinecolor\":\"#2a3f5f\",\"gridcolor\":\"white\",\"linecolor\":\"white\",\"minorgridcolor\":\"white\",\"startlinecolor\":\"#2a3f5f\"},\"type\":\"carpet\"}],\"table\":[{\"cells\":{\"fill\":{\"color\":\"#EBF0F8\"},\"line\":{\"color\":\"white\"}},\"header\":{\"fill\":{\"color\":\"#C8D4E3\"},\"line\":{\"color\":\"white\"}},\"type\":\"table\"}],\"barpolar\":[{\"marker\":{\"line\":{\"color\":\"#E5ECF6\",\"width\":0.5},\"pattern\":{\"fillmode\":\"overlay\",\"size\":10,\"solidity\":0.2}},\"type\":\"barpolar\"}],\"pie\":[{\"automargin\":true,\"type\":\"pie\"}]},\"layout\":{\"autotypenumbers\":\"strict\",\"colorway\":[\"#636efa\",\"#EF553B\",\"#00cc96\",\"#ab63fa\",\"#FFA15A\",\"#19d3f3\",\"#FF6692\",\"#B6E880\",\"#FF97FF\",\"#FECB52\"],\"font\":{\"color\":\"#2a3f5f\"},\"hovermode\":\"closest\",\"hoverlabel\":{\"align\":\"left\"},\"paper_bgcolor\":\"white\",\"plot_bgcolor\":\"#E5ECF6\",\"polar\":{\"bgcolor\":\"#E5ECF6\",\"angularaxis\":{\"gridcolor\":\"white\",\"linecolor\":\"white\",\"ticks\":\"\"},\"radialaxis\":{\"gridcolor\":\"white\",\"linecolor\":\"white\",\"ticks\":\"\"}},\"ternary\":{\"bgcolor\":\"#E5ECF6\",\"aaxis\":{\"gridcolor\":\"white\",\"linecolor\":\"white\",\"ticks\":\"\"},\"baxis\":{\"gridcolor\":\"white\",\"linecolor\":\"white\",\"ticks\":\"\"},\"caxis\":{\"gridcolor\":\"white\",\"linecolor\":\"white\",\"ticks\":\"\"}},\"coloraxis\":{\"colorbar\":{\"outlinewidth\":0,\"ticks\":\"\"}},\"colorscale\":{\"sequential\":[[0.0,\"#0d0887\"],[0.1111111111111111,\"#46039f\"],[0.2222222222222222,\"#7201a8\"],[0.3333333333333333,\"#9c179e\"],[0.4444444444444444,\"#bd3786\"],[0.5555555555555556,\"#d8576b\"],[0.6666666666666666,\"#ed7953\"],[0.7777777777777778,\"#fb9f3a\"],[0.8888888888888888,\"#fdca26\"],[1.0,\"#f0f921\"]],\"sequentialminus\":[[0.0,\"#0d0887\"],[0.1111111111111111,\"#46039f\"],[0.2222222222222222,\"#7201a8\"],[0.3333333333333333,\"#9c179e\"],[0.4444444444444444,\"#bd3786\"],[0.5555555555555556,\"#d8576b\"],[0.6666666666666666,\"#ed7953\"],[0.7777777777777778,\"#fb9f3a\"],[0.8888888888888888,\"#fdca26\"],[1.0,\"#f0f921\"]],\"diverging\":[[0,\"#8e0152\"],[0.1,\"#c51b7d\"],[0.2,\"#de77ae\"],[0.3,\"#f1b6da\"],[0.4,\"#fde0ef\"],[0.5,\"#f7f7f7\"],[0.6,\"#e6f5d0\"],[0.7,\"#b8e186\"],[0.8,\"#7fbc41\"],[0.9,\"#4d9221\"],[1,\"#276419\"]]},\"xaxis\":{\"gridcolor\":\"white\",\"linecolor\":\"white\",\"ticks\":\"\",\"title\":{\"standoff\":15},\"zerolinecolor\":\"white\",\"automargin\":true,\"zerolinewidth\":2},\"yaxis\":{\"gridcolor\":\"white\",\"linecolor\":\"white\",\"ticks\":\"\",\"title\":{\"standoff\":15},\"zerolinecolor\":\"white\",\"automargin\":true,\"zerolinewidth\":2},\"scene\":{\"xaxis\":{\"backgroundcolor\":\"#E5ECF6\",\"gridcolor\":\"white\",\"linecolor\":\"white\",\"showbackground\":true,\"ticks\":\"\",\"zerolinecolor\":\"white\",\"gridwidth\":2},\"yaxis\":{\"backgroundcolor\":\"#E5ECF6\",\"gridcolor\":\"white\",\"linecolor\":\"white\",\"showbackground\":true,\"ticks\":\"\",\"zerolinecolor\":\"white\",\"gridwidth\":2},\"zaxis\":{\"backgroundcolor\":\"#E5ECF6\",\"gridcolor\":\"white\",\"linecolor\":\"white\",\"showbackground\":true,\"ticks\":\"\",\"zerolinecolor\":\"white\",\"gridwidth\":2}},\"shapedefaults\":{\"line\":{\"color\":\"#2a3f5f\"}},\"annotationdefaults\":{\"arrowcolor\":\"#2a3f5f\",\"arrowhead\":0,\"arrowwidth\":1},\"geo\":{\"bgcolor\":\"white\",\"landcolor\":\"#E5ECF6\",\"subunitcolor\":\"white\",\"showland\":true,\"showlakes\":true,\"lakecolor\":\"white\"},\"title\":{\"x\":0.05},\"mapbox\":{\"style\":\"light\"}}},\"xaxis\":{\"anchor\":\"y\",\"domain\":[0.0,1.0],\"title\":{\"text\":\"Name of city\"}},\"yaxis\":{\"anchor\":\"x\",\"domain\":[0.0,1.0],\"title\":{\"text\":\"churn rate\"}},\"coloraxis\":{\"colorbar\":{\"title\":{\"text\":\"churn_rate\"}},\"colorscale\":[[0.0,\"#0d0887\"],[0.1111111111111111,\"#46039f\"],[0.2222222222222222,\"#7201a8\"],[0.3333333333333333,\"#9c179e\"],[0.4444444444444444,\"#bd3786\"],[0.5555555555555556,\"#d8576b\"],[0.6666666666666666,\"#ed7953\"],[0.7777777777777778,\"#fb9f3a\"],[0.8888888888888888,\"#fdca26\"],[1.0,\"#f0f921\"]]},\"legend\":{\"tracegroupgap\":0},\"title\":{\"text\":\"churn rate by city\"},\"barmode\":\"relative\"},                        {\"responsive\": true}                    ).then(function(){\n",
       "                            \n",
       "var gd = document.getElementById('e82d1700-6b17-442c-8dba-f12552f3b213');\n",
       "var x = new MutationObserver(function (mutations, observer) {{\n",
       "        var display = window.getComputedStyle(gd).display;\n",
       "        if (!display || display === 'none') {{\n",
       "            console.log([gd, 'removed!']);\n",
       "            Plotly.purge(gd);\n",
       "            observer.disconnect();\n",
       "        }}\n",
       "}});\n",
       "\n",
       "// Listen for the removal of the full notebook cells\n",
       "var notebookContainer = gd.closest('#notebook-container');\n",
       "if (notebookContainer) {{\n",
       "    x.observe(notebookContainer, {childList: true});\n",
       "}}\n",
       "\n",
       "// Listen for the clearing of the current output cell\n",
       "var outputEl = gd.closest('.output');\n",
       "if (outputEl) {{\n",
       "    x.observe(outputEl, {childList: true});\n",
       "}}\n",
       "\n",
       "                        })                };                });            </script>        </div>"
      ]
     },
     "metadata": {},
     "output_type": "display_data"
    }
   ],
   "source": [
    "fig = px.bar(City_ChurnLabel.sort_values(by='churn_rate', ascending=False).head(30),\n",
    "             x='City', y= 'churn_rate', title='churn rate by city', text ='churn_rate', color='churn_rate')\n",
    "fig.update_layout(\n",
    "    xaxis_title=\"Name of city\",\n",
    "    yaxis_title=\"churn rate\"\n",
    ")\n",
    "fig.show()"
   ]
  },
  {
   "cell_type": "markdown",
   "id": "67f5ee75",
   "metadata": {
    "papermill": {
     "duration": 0.017456,
     "end_time": "2023-11-14T14:42:27.380417",
     "exception": false,
     "start_time": "2023-11-14T14:42:27.362961",
     "status": "completed"
    },
    "tags": []
   },
   "source": [
    "**There are 12 city have no churned costumers**"
   ]
  },
  {
   "cell_type": "code",
   "execution_count": 19,
   "id": "5ff2ad7a",
   "metadata": {
    "execution": {
     "iopub.execute_input": "2023-11-14T14:42:27.417121Z",
     "iopub.status.busy": "2023-11-14T14:42:27.416747Z",
     "iopub.status.idle": "2023-11-14T14:42:27.500773Z",
     "shell.execute_reply": "2023-11-14T14:42:27.499618Z"
    },
    "papermill": {
     "duration": 0.10488,
     "end_time": "2023-11-14T14:42:27.502734",
     "exception": false,
     "start_time": "2023-11-14T14:42:27.397854",
     "status": "completed"
    },
    "tags": []
   },
   "outputs": [
    {
     "data": {
      "text/html": [
       "<div>                            <div id=\"160148c2-a0ee-4ea3-a5ac-75fe8958b53a\" class=\"plotly-graph-div\" style=\"height:525px; width:100%;\"></div>            <script type=\"text/javascript\">                require([\"plotly\"], function(Plotly) {                    window.PLOTLYENV=window.PLOTLYENV || {};                                    if (document.getElementById(\"160148c2-a0ee-4ea3-a5ac-75fe8958b53a\")) {                    Plotly.newPlot(                        \"160148c2-a0ee-4ea3-a5ac-75fe8958b53a\",                        [{\"hovertemplate\":\"count=%{x}\\u003cbr\\u003echurn_rate=%{marker.color}\\u003cextra\\u003e\\u003c\\u002fextra\\u003e\",\"legendgroup\":\"\",\"marker\":{\"color\":[0.3,0.33,0.26,0.24,0.3,0.25,0.25,0.25,0.27,0.08,0.32,0.28,0.25,0.3,0.17,0.18,0.36,0.25,0.29,0.43,0.2,0.24,0.2,0.32,0.2,0.25,0.46,0.15,0.2,0.2,0.2,0.1,0.45,0.2,0.2,0.19,0.19,0.44,0.25,0.31,0.12,0.38,0.31,0.31,0.25,0.31,0.25,0.38,0.2,0.33,0.13,0.2,0.07,0.2,0.07,0.2,0.27,0.33,0.4,0.25,0.25,0.33,0.33,0.5,0.25,0.17,0.33,0.33,0.17,0.33,0.42,0.08,0.25,0.25,0.33,0.17,0.5,0.25,0.2,0.3,0.4,0.1,0.6,0.3,0.3,0.4,0.3,0.2,0.2,0.2,0.3,0.6,0.3,0.1,0.7,0.3,0.1,0.1,0.2,0.1,0.4,0.1,0.2,0.2,0.2,0.4,0.3,0.4,0.1,0.3,0.25,0.62,0.38,0.38,0.12,0.38,0.25,0.25,0.38,0.25,0.38,0.25,0.62,0.12,0.5,0.25,0.12,0.12,0.5,0.25,0.5,0.12,0.25,0.25,0.5,0.25,0.38,0.38,0.12,0.25,0.12,0.38,0.5,0.25,0.12,0.38,0.38,0.25,0.12,0.12,0.5,0.4,0.2,0.4,0.2,0.4,0.4,0.2,0.8,0.6,0.4,0.4,0.2,0.6,0.4,0.2,0.4,0.4,0.4,0.2,0.4,0.2,0.4,0.8,0.2,0.2,0.2,0.2,0.2,0.2,0.4,0.6,0.2,0.2,0.2,0.2,0.2,0.6,0.4,0.4,0.4,0.2,0.8,0.4,0.2,0.4,0.2,0.2,0.4,0.2,0.6,0.4,0.2,0.2,0.2,0.4,0.2,0.2,0.6,0.2,0.6,0.6,0.2,0.4,0.4,0.4,0.2,0.2,0.4,0.4,0.2,0.6,0.2,0.4,0.2,0.6,0.4,0.4,0.4,0.6,0.4,0.2,0.2,0.4,0.2,0.2,0.2,0.2,0.6,0.2,0.6,0.2,0.4,0.6,0.2,0.2,0.4,0.4,0.2,0.4,0.4,0.2,0.4,0.2,0.4,0.4,0.2,0.4,0.2,0.2,0.4,0.4,0.4,0.2,0.2,0.4,0.6,0.6,0.4,0.2,0.2,0.4,0.4,0.2,0.2,0.2,0.2,0.4,0.6,0.6,0.4,0.8,0.25,0.25,0.75,0.25,0.5,0.25,0.25,0.5,0.25,0.25,0.5,0.25,0.25,0.25,0.5,0.25,0.5,0.5,0.25,0.25,0.5,0.5,0.25,0.5,0.25,0.25,0.25,0.25,0.25,0.25,0.5,0.25,0.5,0.25,0.25,0.25,0.5,0.25,0.25,0.25,0.75,0.25,0.25,0.75,1.0,0.25,0.5,0.25,0.25,0.5,0.25,0.25,0.75,0.5,0.75,0.25,0.25,0.5,0.25,0.25,0.5,0.25,0.75,0.25,0.25,0.75,0.5,0.5,0.25,0.5,0.25,0.25,0.25,0.25,0.5,0.25,0.5,0.25,0.75,0.25,0.5,0.25,0.25,0.5,0.5,1.0,0.5,0.5,0.5,0.5,0.75,0.25,0.25,0.5,0.25,0.5,0.5,0.25,0.25,0.25,0.5,0.25,0.5,0.5,0.5,0.5,0.75,0.5,0.5,0.5,0.25,0.25,0.25,0.5,0.25,0.25,0.5,0.5,0.25,0.5,0.25,0.25,0.5,0.25,0.75,0.25,0.25,0.75,0.25,0.5,0.5,0.25,0.25,0.5,0.25,0.25,0.5,1.0,0.25,0.5,1.0,0.25,0.75,0.5,1.0,0.25,0.25,0.5,0.25,0.25,0.25,0.25,0.5,0.5,0.25,0.5,0.25,0.25,0.25,0.25,0.5,0.25,0.5,0.25,0.5,0.25,0.25,0.25,0.25,0.25,0.75,0.5,0.25,0.25,0.25,0.25,0.25,1.0,0.25,0.25,0.25,0.25,0.25,0.25,0.25,1.0,0.5,0.25,0.25,0.5,0.5,0.25,0.25,0.25,0.5,0.25,0.25,0.5,0.25,0.25,0.5,0.25,0.5,0.75,0.25,0.5,0.25,0.25,0.5,0.75,0.25,0.25,0.25,0.25,0.25,0.5,0.25,0.75,0.25,0.25,0.75,0.5,0.25,0.5,0.25,0.25,0.5,0.25,0.5,0.5,0.5,0.25,0.25,0.25,0.25,0.25,0.5,0.5,0.25,0.25,0.5,0.25,0.5,0.25,0.25,0.5,0.25,0.5,0.25,0.5,0.5,0.25,0.25,0.25,0.25,0.5,0.25,0.25,0.25,0.25,0.25,1.0,0.25,0.5,0.25,0.5,0.5,0.25,0.25,0.75,0.5,0.5,0.25,0.5,0.25,0.5,0.25,0.5,0.5,0.25,0.5,0.5,0.75,0.25,0.5,0.75,0.25,0.5,0.25,0.5,0.25,0.25,0.5,0.25,0.25,0.25,0.25,0.5,0.25,0.5,0.5,0.75,0.25,0.25,0.25,0.25,0.25,0.5,0.25,0.5,0.25,0.25,0.25,0.25,0.25,0.25,0.25,0.5,0.25,0.25,0.5,0.25,0.25,0.5,0.25,0.75,0.25,0.25,0.75,0.5,0.5,0.25,0.25,0.5,0.5,0.5,0.25,0.5,0.5,0.25,0.5,0.5,0.25,0.25,0.5,0.75,0.25,0.25,0.25,0.25,0.25,0.25,0.5,0.25,0.25,0.25,0.25,0.25,0.5,0.25,0.5,0.25,0.25,0.25,0.75,0.25,0.25,0.5,0.5,0.25,0.75,0.25,0.25,1.0,0.5,0.5,0.75,0.25,0.25,0.25,0.75,0.25,0.25,0.25,0.25,0.25,0.25,0.25,0.5,0.25,0.5,0.25,0.25,0.25,0.5,0.25,0.25,0.5,0.25,0.5,0.75,0.25,0.25,0.75,0.25,0.25,0.25,0.25,0.25,0.25,0.25,0.75,0.5,0.5,0.25,0.25,0.5,0.5,0.25,0.25,0.25,0.5,0.25,0.25,0.25,0.25,0.5,0.25,0.75,0.5,0.75,0.5,0.5,0.5,0.25,0.5,0.25,0.25,0.25,0.25,0.25,0.25,0.5,0.25,0.25,0.25,0.25,0.25,1.0,0.75,0.5,0.5,0.5,0.5,0.25,0.5,0.25,0.5,0.25,0.5,0.5,0.25,0.25,0.25,0.25,0.25,0.5,0.25,0.5,0.25,0.5,0.25,0.25,0.5,0.25,0.25,0.25,0.25,0.25,0.75,0.75,0.25,0.25,0.25,0.25,0.5,0.25,0.25,0.25,0.5,0.25,0.25,0.25,0.5,0.25,0.5,0.5,0.25,0.25,0.25,0.5,1.0,0.25,0.25,0.25,0.25,0.5,0.25,0.25,0.25,0.5,0.5,0.25,0.25,0.25,0.5,0.25,0.25,0.75,0.25,0.25,1.0,0.5,0.75,0.25,0.25,0.25,0.25,0.25,0.25,0.5,0.5,0.5,0.5,0.75,0.25,0.25,0.25,0.5,0.25,0.25,0.25,0.5,0.5,0.25,0.25,0.25,0.25,0.25,0.5,0.25],\"coloraxis\":\"coloraxis\",\"size\":[0.3,0.33,0.26,0.24,0.3,0.25,0.25,0.25,0.27,0.08,0.32,0.28,0.25,0.3,0.17,0.18,0.36,0.25,0.29,0.43,0.2,0.24,0.2,0.32,0.2,0.25,0.46,0.15,0.2,0.2,0.2,0.1,0.45,0.2,0.2,0.19,0.19,0.44,0.25,0.31,0.12,0.38,0.31,0.31,0.25,0.31,0.25,0.38,0.2,0.33,0.13,0.2,0.07,0.2,0.07,0.2,0.27,0.33,0.4,0.25,0.25,0.33,0.33,0.5,0.25,0.17,0.33,0.33,0.17,0.33,0.42,0.08,0.25,0.25,0.33,0.17,0.5,0.25,0.2,0.3,0.4,0.1,0.6,0.3,0.3,0.4,0.3,0.2,0.2,0.2,0.3,0.6,0.3,0.1,0.7,0.3,0.1,0.1,0.2,0.1,0.4,0.1,0.2,0.2,0.2,0.4,0.3,0.4,0.1,0.3,0.25,0.62,0.38,0.38,0.12,0.38,0.25,0.25,0.38,0.25,0.38,0.25,0.62,0.12,0.5,0.25,0.12,0.12,0.5,0.25,0.5,0.12,0.25,0.25,0.5,0.25,0.38,0.38,0.12,0.25,0.12,0.38,0.5,0.25,0.12,0.38,0.38,0.25,0.12,0.12,0.5,0.4,0.2,0.4,0.2,0.4,0.4,0.2,0.8,0.6,0.4,0.4,0.2,0.6,0.4,0.2,0.4,0.4,0.4,0.2,0.4,0.2,0.4,0.8,0.2,0.2,0.2,0.2,0.2,0.2,0.4,0.6,0.2,0.2,0.2,0.2,0.2,0.6,0.4,0.4,0.4,0.2,0.8,0.4,0.2,0.4,0.2,0.2,0.4,0.2,0.6,0.4,0.2,0.2,0.2,0.4,0.2,0.2,0.6,0.2,0.6,0.6,0.2,0.4,0.4,0.4,0.2,0.2,0.4,0.4,0.2,0.6,0.2,0.4,0.2,0.6,0.4,0.4,0.4,0.6,0.4,0.2,0.2,0.4,0.2,0.2,0.2,0.2,0.6,0.2,0.6,0.2,0.4,0.6,0.2,0.2,0.4,0.4,0.2,0.4,0.4,0.2,0.4,0.2,0.4,0.4,0.2,0.4,0.2,0.2,0.4,0.4,0.4,0.2,0.2,0.4,0.6,0.6,0.4,0.2,0.2,0.4,0.4,0.2,0.2,0.2,0.2,0.4,0.6,0.6,0.4,0.8,0.25,0.25,0.75,0.25,0.5,0.25,0.25,0.5,0.25,0.25,0.5,0.25,0.25,0.25,0.5,0.25,0.5,0.5,0.25,0.25,0.5,0.5,0.25,0.5,0.25,0.25,0.25,0.25,0.25,0.25,0.5,0.25,0.5,0.25,0.25,0.25,0.5,0.25,0.25,0.25,0.75,0.25,0.25,0.75,1.0,0.25,0.5,0.25,0.25,0.5,0.25,0.25,0.75,0.5,0.75,0.25,0.25,0.5,0.25,0.25,0.5,0.25,0.75,0.25,0.25,0.75,0.5,0.5,0.25,0.5,0.25,0.25,0.25,0.25,0.5,0.25,0.5,0.25,0.75,0.25,0.5,0.25,0.25,0.5,0.5,1.0,0.5,0.5,0.5,0.5,0.75,0.25,0.25,0.5,0.25,0.5,0.5,0.25,0.25,0.25,0.5,0.25,0.5,0.5,0.5,0.5,0.75,0.5,0.5,0.5,0.25,0.25,0.25,0.5,0.25,0.25,0.5,0.5,0.25,0.5,0.25,0.25,0.5,0.25,0.75,0.25,0.25,0.75,0.25,0.5,0.5,0.25,0.25,0.5,0.25,0.25,0.5,1.0,0.25,0.5,1.0,0.25,0.75,0.5,1.0,0.25,0.25,0.5,0.25,0.25,0.25,0.25,0.5,0.5,0.25,0.5,0.25,0.25,0.25,0.25,0.5,0.25,0.5,0.25,0.5,0.25,0.25,0.25,0.25,0.25,0.75,0.5,0.25,0.25,0.25,0.25,0.25,1.0,0.25,0.25,0.25,0.25,0.25,0.25,0.25,1.0,0.5,0.25,0.25,0.5,0.5,0.25,0.25,0.25,0.5,0.25,0.25,0.5,0.25,0.25,0.5,0.25,0.5,0.75,0.25,0.5,0.25,0.25,0.5,0.75,0.25,0.25,0.25,0.25,0.25,0.5,0.25,0.75,0.25,0.25,0.75,0.5,0.25,0.5,0.25,0.25,0.5,0.25,0.5,0.5,0.5,0.25,0.25,0.25,0.25,0.25,0.5,0.5,0.25,0.25,0.5,0.25,0.5,0.25,0.25,0.5,0.25,0.5,0.25,0.5,0.5,0.25,0.25,0.25,0.25,0.5,0.25,0.25,0.25,0.25,0.25,1.0,0.25,0.5,0.25,0.5,0.5,0.25,0.25,0.75,0.5,0.5,0.25,0.5,0.25,0.5,0.25,0.5,0.5,0.25,0.5,0.5,0.75,0.25,0.5,0.75,0.25,0.5,0.25,0.5,0.25,0.25,0.5,0.25,0.25,0.25,0.25,0.5,0.25,0.5,0.5,0.75,0.25,0.25,0.25,0.25,0.25,0.5,0.25,0.5,0.25,0.25,0.25,0.25,0.25,0.25,0.25,0.5,0.25,0.25,0.5,0.25,0.25,0.5,0.25,0.75,0.25,0.25,0.75,0.5,0.5,0.25,0.25,0.5,0.5,0.5,0.25,0.5,0.5,0.25,0.5,0.5,0.25,0.25,0.5,0.75,0.25,0.25,0.25,0.25,0.25,0.25,0.5,0.25,0.25,0.25,0.25,0.25,0.5,0.25,0.5,0.25,0.25,0.25,0.75,0.25,0.25,0.5,0.5,0.25,0.75,0.25,0.25,1.0,0.5,0.5,0.75,0.25,0.25,0.25,0.75,0.25,0.25,0.25,0.25,0.25,0.25,0.25,0.5,0.25,0.5,0.25,0.25,0.25,0.5,0.25,0.25,0.5,0.25,0.5,0.75,0.25,0.25,0.75,0.25,0.25,0.25,0.25,0.25,0.25,0.25,0.75,0.5,0.5,0.25,0.25,0.5,0.5,0.25,0.25,0.25,0.5,0.25,0.25,0.25,0.25,0.5,0.25,0.75,0.5,0.75,0.5,0.5,0.5,0.25,0.5,0.25,0.25,0.25,0.25,0.25,0.25,0.5,0.25,0.25,0.25,0.25,0.25,1.0,0.75,0.5,0.5,0.5,0.5,0.25,0.5,0.25,0.5,0.25,0.5,0.5,0.25,0.25,0.25,0.25,0.25,0.5,0.25,0.5,0.25,0.5,0.25,0.25,0.5,0.25,0.25,0.25,0.25,0.25,0.75,0.75,0.25,0.25,0.25,0.25,0.5,0.25,0.25,0.25,0.5,0.25,0.25,0.25,0.5,0.25,0.5,0.5,0.25,0.25,0.25,0.5,1.0,0.25,0.25,0.25,0.25,0.5,0.25,0.25,0.25,0.5,0.5,0.25,0.25,0.25,0.5,0.25,0.25,0.75,0.25,0.25,1.0,0.5,0.75,0.25,0.25,0.25,0.25,0.25,0.25,0.5,0.5,0.5,0.5,0.75,0.25,0.25,0.25,0.5,0.25,0.25,0.25,0.5,0.5,0.25,0.25,0.25,0.25,0.25,0.5,0.25],\"sizemode\":\"area\",\"sizeref\":0.0025,\"symbol\":\"circle\"},\"mode\":\"markers\",\"name\":\"\",\"orientation\":\"v\",\"showlegend\":false,\"x\":[305,150,112,108,104,64,60,52,44,40,40,32,32,30,30,28,28,28,28,28,25,25,25,25,25,24,24,20,20,20,20,20,20,20,20,16,16,16,16,16,16,16,16,16,16,16,16,16,15,15,15,15,15,15,15,15,15,15,15,12,12,12,12,12,12,12,12,12,12,12,12,12,12,12,12,12,12,12,10,10,10,10,10,10,10,10,10,10,10,10,10,10,10,10,10,10,10,10,10,10,10,10,10,10,10,10,10,10,10,10,8,8,8,8,8,8,8,8,8,8,8,8,8,8,8,8,8,8,8,8,8,8,8,8,8,8,8,8,8,8,8,8,8,8,8,8,8,8,8,8,8,5,5,5,5,5,5,5,5,5,5,5,5,5,5,5,5,5,5,5,5,5,5,5,5,5,5,5,5,5,5,5,5,5,5,5,5,5,5,5,5,5,5,5,5,5,5,5,5,5,5,5,5,5,5,5,5,5,5,5,5,5,5,5,5,5,5,5,5,5,5,5,5,5,5,5,5,5,5,5,5,5,5,5,5,5,5,5,5,5,5,5,5,5,5,5,5,5,5,5,5,5,5,5,5,5,5,5,5,5,5,5,5,5,5,5,5,5,5,5,5,5,5,5,5,5,5,5,5,5,5,5,4,4,4,4,4,4,4,4,4,4,4,4,4,4,4,4,4,4,4,4,4,4,4,4,4,4,4,4,4,4,4,4,4,4,4,4,4,4,4,4,4,4,4,4,4,4,4,4,4,4,4,4,4,4,4,4,4,4,4,4,4,4,4,4,4,4,4,4,4,4,4,4,4,4,4,4,4,4,4,4,4,4,4,4,4,4,4,4,4,4,4,4,4,4,4,4,4,4,4,4,4,4,4,4,4,4,4,4,4,4,4,4,4,4,4,4,4,4,4,4,4,4,4,4,4,4,4,4,4,4,4,4,4,4,4,4,4,4,4,4,4,4,4,4,4,4,4,4,4,4,4,4,4,4,4,4,4,4,4,4,4,4,4,4,4,4,4,4,4,4,4,4,4,4,4,4,4,4,4,4,4,4,4,4,4,4,4,4,4,4,4,4,4,4,4,4,4,4,4,4,4,4,4,4,4,4,4,4,4,4,4,4,4,4,4,4,4,4,4,4,4,4,4,4,4,4,4,4,4,4,4,4,4,4,4,4,4,4,4,4,4,4,4,4,4,4,4,4,4,4,4,4,4,4,4,4,4,4,4,4,4,4,4,4,4,4,4,4,4,4,4,4,4,4,4,4,4,4,4,4,4,4,4,4,4,4,4,4,4,4,4,4,4,4,4,4,4,4,4,4,4,4,4,4,4,4,4,4,4,4,4,4,4,4,4,4,4,4,4,4,4,4,4,4,4,4,4,4,4,4,4,4,4,4,4,4,4,4,4,4,4,4,4,4,4,4,4,4,4,4,4,4,4,4,4,4,4,4,4,4,4,4,4,4,4,4,4,4,4,4,4,4,4,4,4,4,4,4,4,4,4,4,4,4,4,4,4,4,4,4,4,4,4,4,4,4,4,4,4,4,4,4,4,4,4,4,4,4,4,4,4,4,4,4,4,4,4,4,4,4,4,4,4,4,4,4,4,4,4,4,4,4,4,4,4,4,4,4,4,4,4,4,4,4,4,4,4,4,4,4,4,4,4,4,4,4,4,4,4,4,4,4,4,4,4,4,4,4,4,4,4,4,4,4,4,4,4,4,4,4,4,4,4,4,4,4,4,4,4,4,4,4,4,4,4,4,4,4,4,4,4,4,4,4,4,4,4,4,4,4,4,4,4,4,4,4,4,4,4,4,4,4,4,4,4,4,4,4,4,4,4,4,4,4,4,4,4,4,4,4,4,4,4,4,4,4,4,4,4,4,4],\"xaxis\":\"x\",\"y\":[0.3,0.33,0.26,0.24,0.3,0.25,0.25,0.25,0.27,0.08,0.32,0.28,0.25,0.3,0.17,0.18,0.36,0.25,0.29,0.43,0.2,0.24,0.2,0.32,0.2,0.25,0.46,0.15,0.2,0.2,0.2,0.1,0.45,0.2,0.2,0.19,0.19,0.44,0.25,0.31,0.12,0.38,0.31,0.31,0.25,0.31,0.25,0.38,0.2,0.33,0.13,0.2,0.07,0.2,0.07,0.2,0.27,0.33,0.4,0.25,0.25,0.33,0.33,0.5,0.25,0.17,0.33,0.33,0.17,0.33,0.42,0.08,0.25,0.25,0.33,0.17,0.5,0.25,0.2,0.3,0.4,0.1,0.6,0.3,0.3,0.4,0.3,0.2,0.2,0.2,0.3,0.6,0.3,0.1,0.7,0.3,0.1,0.1,0.2,0.1,0.4,0.1,0.2,0.2,0.2,0.4,0.3,0.4,0.1,0.3,0.25,0.62,0.38,0.38,0.12,0.38,0.25,0.25,0.38,0.25,0.38,0.25,0.62,0.12,0.5,0.25,0.12,0.12,0.5,0.25,0.5,0.12,0.25,0.25,0.5,0.25,0.38,0.38,0.12,0.25,0.12,0.38,0.5,0.25,0.12,0.38,0.38,0.25,0.12,0.12,0.5,0.4,0.2,0.4,0.2,0.4,0.4,0.2,0.8,0.6,0.4,0.4,0.2,0.6,0.4,0.2,0.4,0.4,0.4,0.2,0.4,0.2,0.4,0.8,0.2,0.2,0.2,0.2,0.2,0.2,0.4,0.6,0.2,0.2,0.2,0.2,0.2,0.6,0.4,0.4,0.4,0.2,0.8,0.4,0.2,0.4,0.2,0.2,0.4,0.2,0.6,0.4,0.2,0.2,0.2,0.4,0.2,0.2,0.6,0.2,0.6,0.6,0.2,0.4,0.4,0.4,0.2,0.2,0.4,0.4,0.2,0.6,0.2,0.4,0.2,0.6,0.4,0.4,0.4,0.6,0.4,0.2,0.2,0.4,0.2,0.2,0.2,0.2,0.6,0.2,0.6,0.2,0.4,0.6,0.2,0.2,0.4,0.4,0.2,0.4,0.4,0.2,0.4,0.2,0.4,0.4,0.2,0.4,0.2,0.2,0.4,0.4,0.4,0.2,0.2,0.4,0.6,0.6,0.4,0.2,0.2,0.4,0.4,0.2,0.2,0.2,0.2,0.4,0.6,0.6,0.4,0.8,0.25,0.25,0.75,0.25,0.5,0.25,0.25,0.5,0.25,0.25,0.5,0.25,0.25,0.25,0.5,0.25,0.5,0.5,0.25,0.25,0.5,0.5,0.25,0.5,0.25,0.25,0.25,0.25,0.25,0.25,0.5,0.25,0.5,0.25,0.25,0.25,0.5,0.25,0.25,0.25,0.75,0.25,0.25,0.75,1.0,0.25,0.5,0.25,0.25,0.5,0.25,0.25,0.75,0.5,0.75,0.25,0.25,0.5,0.25,0.25,0.5,0.25,0.75,0.25,0.25,0.75,0.5,0.5,0.25,0.5,0.25,0.25,0.25,0.25,0.5,0.25,0.5,0.25,0.75,0.25,0.5,0.25,0.25,0.5,0.5,1.0,0.5,0.5,0.5,0.5,0.75,0.25,0.25,0.5,0.25,0.5,0.5,0.25,0.25,0.25,0.5,0.25,0.5,0.5,0.5,0.5,0.75,0.5,0.5,0.5,0.25,0.25,0.25,0.5,0.25,0.25,0.5,0.5,0.25,0.5,0.25,0.25,0.5,0.25,0.75,0.25,0.25,0.75,0.25,0.5,0.5,0.25,0.25,0.5,0.25,0.25,0.5,1.0,0.25,0.5,1.0,0.25,0.75,0.5,1.0,0.25,0.25,0.5,0.25,0.25,0.25,0.25,0.5,0.5,0.25,0.5,0.25,0.25,0.25,0.25,0.5,0.25,0.5,0.25,0.5,0.25,0.25,0.25,0.25,0.25,0.75,0.5,0.25,0.25,0.25,0.25,0.25,1.0,0.25,0.25,0.25,0.25,0.25,0.25,0.25,1.0,0.5,0.25,0.25,0.5,0.5,0.25,0.25,0.25,0.5,0.25,0.25,0.5,0.25,0.25,0.5,0.25,0.5,0.75,0.25,0.5,0.25,0.25,0.5,0.75,0.25,0.25,0.25,0.25,0.25,0.5,0.25,0.75,0.25,0.25,0.75,0.5,0.25,0.5,0.25,0.25,0.5,0.25,0.5,0.5,0.5,0.25,0.25,0.25,0.25,0.25,0.5,0.5,0.25,0.25,0.5,0.25,0.5,0.25,0.25,0.5,0.25,0.5,0.25,0.5,0.5,0.25,0.25,0.25,0.25,0.5,0.25,0.25,0.25,0.25,0.25,1.0,0.25,0.5,0.25,0.5,0.5,0.25,0.25,0.75,0.5,0.5,0.25,0.5,0.25,0.5,0.25,0.5,0.5,0.25,0.5,0.5,0.75,0.25,0.5,0.75,0.25,0.5,0.25,0.5,0.25,0.25,0.5,0.25,0.25,0.25,0.25,0.5,0.25,0.5,0.5,0.75,0.25,0.25,0.25,0.25,0.25,0.5,0.25,0.5,0.25,0.25,0.25,0.25,0.25,0.25,0.25,0.5,0.25,0.25,0.5,0.25,0.25,0.5,0.25,0.75,0.25,0.25,0.75,0.5,0.5,0.25,0.25,0.5,0.5,0.5,0.25,0.5,0.5,0.25,0.5,0.5,0.25,0.25,0.5,0.75,0.25,0.25,0.25,0.25,0.25,0.25,0.5,0.25,0.25,0.25,0.25,0.25,0.5,0.25,0.5,0.25,0.25,0.25,0.75,0.25,0.25,0.5,0.5,0.25,0.75,0.25,0.25,1.0,0.5,0.5,0.75,0.25,0.25,0.25,0.75,0.25,0.25,0.25,0.25,0.25,0.25,0.25,0.5,0.25,0.5,0.25,0.25,0.25,0.5,0.25,0.25,0.5,0.25,0.5,0.75,0.25,0.25,0.75,0.25,0.25,0.25,0.25,0.25,0.25,0.25,0.75,0.5,0.5,0.25,0.25,0.5,0.5,0.25,0.25,0.25,0.5,0.25,0.25,0.25,0.25,0.5,0.25,0.75,0.5,0.75,0.5,0.5,0.5,0.25,0.5,0.25,0.25,0.25,0.25,0.25,0.25,0.5,0.25,0.25,0.25,0.25,0.25,1.0,0.75,0.5,0.5,0.5,0.5,0.25,0.5,0.25,0.5,0.25,0.5,0.5,0.25,0.25,0.25,0.25,0.25,0.5,0.25,0.5,0.25,0.5,0.25,0.25,0.5,0.25,0.25,0.25,0.25,0.25,0.75,0.75,0.25,0.25,0.25,0.25,0.5,0.25,0.25,0.25,0.5,0.25,0.25,0.25,0.5,0.25,0.5,0.5,0.25,0.25,0.25,0.5,1.0,0.25,0.25,0.25,0.25,0.5,0.25,0.25,0.25,0.5,0.5,0.25,0.25,0.25,0.5,0.25,0.25,0.75,0.25,0.25,1.0,0.5,0.75,0.25,0.25,0.25,0.25,0.25,0.25,0.5,0.5,0.5,0.5,0.75,0.25,0.25,0.25,0.5,0.25,0.25,0.25,0.5,0.5,0.25,0.25,0.25,0.25,0.25,0.5,0.25],\"yaxis\":\"y\",\"type\":\"scatter\"}],                        {\"template\":{\"data\":{\"histogram2dcontour\":[{\"type\":\"histogram2dcontour\",\"colorbar\":{\"outlinewidth\":0,\"ticks\":\"\"},\"colorscale\":[[0.0,\"#0d0887\"],[0.1111111111111111,\"#46039f\"],[0.2222222222222222,\"#7201a8\"],[0.3333333333333333,\"#9c179e\"],[0.4444444444444444,\"#bd3786\"],[0.5555555555555556,\"#d8576b\"],[0.6666666666666666,\"#ed7953\"],[0.7777777777777778,\"#fb9f3a\"],[0.8888888888888888,\"#fdca26\"],[1.0,\"#f0f921\"]]}],\"choropleth\":[{\"type\":\"choropleth\",\"colorbar\":{\"outlinewidth\":0,\"ticks\":\"\"}}],\"histogram2d\":[{\"type\":\"histogram2d\",\"colorbar\":{\"outlinewidth\":0,\"ticks\":\"\"},\"colorscale\":[[0.0,\"#0d0887\"],[0.1111111111111111,\"#46039f\"],[0.2222222222222222,\"#7201a8\"],[0.3333333333333333,\"#9c179e\"],[0.4444444444444444,\"#bd3786\"],[0.5555555555555556,\"#d8576b\"],[0.6666666666666666,\"#ed7953\"],[0.7777777777777778,\"#fb9f3a\"],[0.8888888888888888,\"#fdca26\"],[1.0,\"#f0f921\"]]}],\"heatmap\":[{\"type\":\"heatmap\",\"colorbar\":{\"outlinewidth\":0,\"ticks\":\"\"},\"colorscale\":[[0.0,\"#0d0887\"],[0.1111111111111111,\"#46039f\"],[0.2222222222222222,\"#7201a8\"],[0.3333333333333333,\"#9c179e\"],[0.4444444444444444,\"#bd3786\"],[0.5555555555555556,\"#d8576b\"],[0.6666666666666666,\"#ed7953\"],[0.7777777777777778,\"#fb9f3a\"],[0.8888888888888888,\"#fdca26\"],[1.0,\"#f0f921\"]]}],\"heatmapgl\":[{\"type\":\"heatmapgl\",\"colorbar\":{\"outlinewidth\":0,\"ticks\":\"\"},\"colorscale\":[[0.0,\"#0d0887\"],[0.1111111111111111,\"#46039f\"],[0.2222222222222222,\"#7201a8\"],[0.3333333333333333,\"#9c179e\"],[0.4444444444444444,\"#bd3786\"],[0.5555555555555556,\"#d8576b\"],[0.6666666666666666,\"#ed7953\"],[0.7777777777777778,\"#fb9f3a\"],[0.8888888888888888,\"#fdca26\"],[1.0,\"#f0f921\"]]}],\"contourcarpet\":[{\"type\":\"contourcarpet\",\"colorbar\":{\"outlinewidth\":0,\"ticks\":\"\"}}],\"contour\":[{\"type\":\"contour\",\"colorbar\":{\"outlinewidth\":0,\"ticks\":\"\"},\"colorscale\":[[0.0,\"#0d0887\"],[0.1111111111111111,\"#46039f\"],[0.2222222222222222,\"#7201a8\"],[0.3333333333333333,\"#9c179e\"],[0.4444444444444444,\"#bd3786\"],[0.5555555555555556,\"#d8576b\"],[0.6666666666666666,\"#ed7953\"],[0.7777777777777778,\"#fb9f3a\"],[0.8888888888888888,\"#fdca26\"],[1.0,\"#f0f921\"]]}],\"surface\":[{\"type\":\"surface\",\"colorbar\":{\"outlinewidth\":0,\"ticks\":\"\"},\"colorscale\":[[0.0,\"#0d0887\"],[0.1111111111111111,\"#46039f\"],[0.2222222222222222,\"#7201a8\"],[0.3333333333333333,\"#9c179e\"],[0.4444444444444444,\"#bd3786\"],[0.5555555555555556,\"#d8576b\"],[0.6666666666666666,\"#ed7953\"],[0.7777777777777778,\"#fb9f3a\"],[0.8888888888888888,\"#fdca26\"],[1.0,\"#f0f921\"]]}],\"mesh3d\":[{\"type\":\"mesh3d\",\"colorbar\":{\"outlinewidth\":0,\"ticks\":\"\"}}],\"scatter\":[{\"fillpattern\":{\"fillmode\":\"overlay\",\"size\":10,\"solidity\":0.2},\"type\":\"scatter\"}],\"parcoords\":[{\"type\":\"parcoords\",\"line\":{\"colorbar\":{\"outlinewidth\":0,\"ticks\":\"\"}}}],\"scatterpolargl\":[{\"type\":\"scatterpolargl\",\"marker\":{\"colorbar\":{\"outlinewidth\":0,\"ticks\":\"\"}}}],\"bar\":[{\"error_x\":{\"color\":\"#2a3f5f\"},\"error_y\":{\"color\":\"#2a3f5f\"},\"marker\":{\"line\":{\"color\":\"#E5ECF6\",\"width\":0.5},\"pattern\":{\"fillmode\":\"overlay\",\"size\":10,\"solidity\":0.2}},\"type\":\"bar\"}],\"scattergeo\":[{\"type\":\"scattergeo\",\"marker\":{\"colorbar\":{\"outlinewidth\":0,\"ticks\":\"\"}}}],\"scatterpolar\":[{\"type\":\"scatterpolar\",\"marker\":{\"colorbar\":{\"outlinewidth\":0,\"ticks\":\"\"}}}],\"histogram\":[{\"marker\":{\"pattern\":{\"fillmode\":\"overlay\",\"size\":10,\"solidity\":0.2}},\"type\":\"histogram\"}],\"scattergl\":[{\"type\":\"scattergl\",\"marker\":{\"colorbar\":{\"outlinewidth\":0,\"ticks\":\"\"}}}],\"scatter3d\":[{\"type\":\"scatter3d\",\"line\":{\"colorbar\":{\"outlinewidth\":0,\"ticks\":\"\"}},\"marker\":{\"colorbar\":{\"outlinewidth\":0,\"ticks\":\"\"}}}],\"scattermapbox\":[{\"type\":\"scattermapbox\",\"marker\":{\"colorbar\":{\"outlinewidth\":0,\"ticks\":\"\"}}}],\"scatterternary\":[{\"type\":\"scatterternary\",\"marker\":{\"colorbar\":{\"outlinewidth\":0,\"ticks\":\"\"}}}],\"scattercarpet\":[{\"type\":\"scattercarpet\",\"marker\":{\"colorbar\":{\"outlinewidth\":0,\"ticks\":\"\"}}}],\"carpet\":[{\"aaxis\":{\"endlinecolor\":\"#2a3f5f\",\"gridcolor\":\"white\",\"linecolor\":\"white\",\"minorgridcolor\":\"white\",\"startlinecolor\":\"#2a3f5f\"},\"baxis\":{\"endlinecolor\":\"#2a3f5f\",\"gridcolor\":\"white\",\"linecolor\":\"white\",\"minorgridcolor\":\"white\",\"startlinecolor\":\"#2a3f5f\"},\"type\":\"carpet\"}],\"table\":[{\"cells\":{\"fill\":{\"color\":\"#EBF0F8\"},\"line\":{\"color\":\"white\"}},\"header\":{\"fill\":{\"color\":\"#C8D4E3\"},\"line\":{\"color\":\"white\"}},\"type\":\"table\"}],\"barpolar\":[{\"marker\":{\"line\":{\"color\":\"#E5ECF6\",\"width\":0.5},\"pattern\":{\"fillmode\":\"overlay\",\"size\":10,\"solidity\":0.2}},\"type\":\"barpolar\"}],\"pie\":[{\"automargin\":true,\"type\":\"pie\"}]},\"layout\":{\"autotypenumbers\":\"strict\",\"colorway\":[\"#636efa\",\"#EF553B\",\"#00cc96\",\"#ab63fa\",\"#FFA15A\",\"#19d3f3\",\"#FF6692\",\"#B6E880\",\"#FF97FF\",\"#FECB52\"],\"font\":{\"color\":\"#2a3f5f\"},\"hovermode\":\"closest\",\"hoverlabel\":{\"align\":\"left\"},\"paper_bgcolor\":\"white\",\"plot_bgcolor\":\"#E5ECF6\",\"polar\":{\"bgcolor\":\"#E5ECF6\",\"angularaxis\":{\"gridcolor\":\"white\",\"linecolor\":\"white\",\"ticks\":\"\"},\"radialaxis\":{\"gridcolor\":\"white\",\"linecolor\":\"white\",\"ticks\":\"\"}},\"ternary\":{\"bgcolor\":\"#E5ECF6\",\"aaxis\":{\"gridcolor\":\"white\",\"linecolor\":\"white\",\"ticks\":\"\"},\"baxis\":{\"gridcolor\":\"white\",\"linecolor\":\"white\",\"ticks\":\"\"},\"caxis\":{\"gridcolor\":\"white\",\"linecolor\":\"white\",\"ticks\":\"\"}},\"coloraxis\":{\"colorbar\":{\"outlinewidth\":0,\"ticks\":\"\"}},\"colorscale\":{\"sequential\":[[0.0,\"#0d0887\"],[0.1111111111111111,\"#46039f\"],[0.2222222222222222,\"#7201a8\"],[0.3333333333333333,\"#9c179e\"],[0.4444444444444444,\"#bd3786\"],[0.5555555555555556,\"#d8576b\"],[0.6666666666666666,\"#ed7953\"],[0.7777777777777778,\"#fb9f3a\"],[0.8888888888888888,\"#fdca26\"],[1.0,\"#f0f921\"]],\"sequentialminus\":[[0.0,\"#0d0887\"],[0.1111111111111111,\"#46039f\"],[0.2222222222222222,\"#7201a8\"],[0.3333333333333333,\"#9c179e\"],[0.4444444444444444,\"#bd3786\"],[0.5555555555555556,\"#d8576b\"],[0.6666666666666666,\"#ed7953\"],[0.7777777777777778,\"#fb9f3a\"],[0.8888888888888888,\"#fdca26\"],[1.0,\"#f0f921\"]],\"diverging\":[[0,\"#8e0152\"],[0.1,\"#c51b7d\"],[0.2,\"#de77ae\"],[0.3,\"#f1b6da\"],[0.4,\"#fde0ef\"],[0.5,\"#f7f7f7\"],[0.6,\"#e6f5d0\"],[0.7,\"#b8e186\"],[0.8,\"#7fbc41\"],[0.9,\"#4d9221\"],[1,\"#276419\"]]},\"xaxis\":{\"gridcolor\":\"white\",\"linecolor\":\"white\",\"ticks\":\"\",\"title\":{\"standoff\":15},\"zerolinecolor\":\"white\",\"automargin\":true,\"zerolinewidth\":2},\"yaxis\":{\"gridcolor\":\"white\",\"linecolor\":\"white\",\"ticks\":\"\",\"title\":{\"standoff\":15},\"zerolinecolor\":\"white\",\"automargin\":true,\"zerolinewidth\":2},\"scene\":{\"xaxis\":{\"backgroundcolor\":\"#E5ECF6\",\"gridcolor\":\"white\",\"linecolor\":\"white\",\"showbackground\":true,\"ticks\":\"\",\"zerolinecolor\":\"white\",\"gridwidth\":2},\"yaxis\":{\"backgroundcolor\":\"#E5ECF6\",\"gridcolor\":\"white\",\"linecolor\":\"white\",\"showbackground\":true,\"ticks\":\"\",\"zerolinecolor\":\"white\",\"gridwidth\":2},\"zaxis\":{\"backgroundcolor\":\"#E5ECF6\",\"gridcolor\":\"white\",\"linecolor\":\"white\",\"showbackground\":true,\"ticks\":\"\",\"zerolinecolor\":\"white\",\"gridwidth\":2}},\"shapedefaults\":{\"line\":{\"color\":\"#2a3f5f\"}},\"annotationdefaults\":{\"arrowcolor\":\"#2a3f5f\",\"arrowhead\":0,\"arrowwidth\":1},\"geo\":{\"bgcolor\":\"white\",\"landcolor\":\"#E5ECF6\",\"subunitcolor\":\"white\",\"showland\":true,\"showlakes\":true,\"lakecolor\":\"white\"},\"title\":{\"x\":0.05},\"mapbox\":{\"style\":\"light\"}}},\"xaxis\":{\"anchor\":\"y\",\"domain\":[0.0,1.0],\"title\":{\"text\":\"count\"}},\"yaxis\":{\"anchor\":\"x\",\"domain\":[0.0,1.0],\"title\":{\"text\":\"churn_rate\"}},\"coloraxis\":{\"colorbar\":{\"title\":{\"text\":\"churn_rate\"}},\"colorscale\":[[0.0,\"#0d0887\"],[0.1111111111111111,\"#46039f\"],[0.2222222222222222,\"#7201a8\"],[0.3333333333333333,\"#9c179e\"],[0.4444444444444444,\"#bd3786\"],[0.5555555555555556,\"#d8576b\"],[0.6666666666666666,\"#ed7953\"],[0.7777777777777778,\"#fb9f3a\"],[0.8888888888888888,\"#fdca26\"],[1.0,\"#f0f921\"]]},\"legend\":{\"tracegroupgap\":0,\"itemsizing\":\"constant\"},\"margin\":{\"t\":60}},                        {\"responsive\": true}                    ).then(function(){\n",
       "                            \n",
       "var gd = document.getElementById('160148c2-a0ee-4ea3-a5ac-75fe8958b53a');\n",
       "var x = new MutationObserver(function (mutations, observer) {{\n",
       "        var display = window.getComputedStyle(gd).display;\n",
       "        if (!display || display === 'none') {{\n",
       "            console.log([gd, 'removed!']);\n",
       "            Plotly.purge(gd);\n",
       "            observer.disconnect();\n",
       "        }}\n",
       "}});\n",
       "\n",
       "// Listen for the removal of the full notebook cells\n",
       "var notebookContainer = gd.closest('#notebook-container');\n",
       "if (notebookContainer) {{\n",
       "    x.observe(notebookContainer, {childList: true});\n",
       "}}\n",
       "\n",
       "// Listen for the clearing of the current output cell\n",
       "var outputEl = gd.closest('.output');\n",
       "if (outputEl) {{\n",
       "    x.observe(outputEl, {childList: true});\n",
       "}}\n",
       "\n",
       "                        })                };                });            </script>        </div>"
      ]
     },
     "metadata": {},
     "output_type": "display_data"
    }
   ],
   "source": [
    "fig = px.scatter(City_ChurnLabel, x=\"count\",\n",
    "                 y=\"churn_rate\", \n",
    "                 size = 'churn_rate', labels='City',\n",
    "                 color = 'churn_rate')\n",
    "fig.show()"
   ]
  },
  {
   "cell_type": "markdown",
   "id": "31cbfef9",
   "metadata": {
    "papermill": {
     "duration": 0.01732,
     "end_time": "2023-11-14T14:42:27.537541",
     "exception": false,
     "start_time": "2023-11-14T14:42:27.520221",
     "status": "completed"
    },
    "tags": []
   },
   "source": [
    "**We observe the churn rate above `40%` only, where we had a small number of customers.**"
   ]
  },
  {
   "cell_type": "markdown",
   "id": "66bb90fe",
   "metadata": {
    "papermill": {
     "duration": 0.017684,
     "end_time": "2023-11-14T14:42:27.572795",
     "exception": false,
     "start_time": "2023-11-14T14:42:27.555111",
     "status": "completed"
    },
    "tags": []
   },
   "source": [
    "## Latitude and Longitude"
   ]
  },
  {
   "cell_type": "code",
   "execution_count": 20,
   "id": "a83cd8ab",
   "metadata": {
    "execution": {
     "iopub.execute_input": "2023-11-14T14:42:27.609595Z",
     "iopub.status.busy": "2023-11-14T14:42:27.609280Z",
     "iopub.status.idle": "2023-11-14T14:42:27.637101Z",
     "shell.execute_reply": "2023-11-14T14:42:27.636226Z"
    },
    "papermill": {
     "duration": 0.048116,
     "end_time": "2023-11-14T14:42:27.638864",
     "exception": false,
     "start_time": "2023-11-14T14:42:27.590748",
     "status": "completed"
    },
    "tags": []
   },
   "outputs": [
    {
     "data": {
      "text/html": [
       "<div>\n",
       "<style scoped>\n",
       "    .dataframe tbody tr th:only-of-type {\n",
       "        vertical-align: middle;\n",
       "    }\n",
       "\n",
       "    .dataframe tbody tr th {\n",
       "        vertical-align: top;\n",
       "    }\n",
       "\n",
       "    .dataframe thead th {\n",
       "        text-align: right;\n",
       "    }\n",
       "</style>\n",
       "<table border=\"1\" class=\"dataframe\">\n",
       "  <thead>\n",
       "    <tr style=\"text-align: right;\">\n",
       "      <th></th>\n",
       "      <th>Latitude</th>\n",
       "      <th>Longitude</th>\n",
       "      <th>churn_rate</th>\n",
       "      <th>count</th>\n",
       "    </tr>\n",
       "  </thead>\n",
       "  <tbody>\n",
       "    <tr>\n",
       "      <th>1</th>\n",
       "      <td>32.555828</td>\n",
       "      <td>-117.040073</td>\n",
       "      <td>0.2</td>\n",
       "      <td>5</td>\n",
       "    </tr>\n",
       "    <tr>\n",
       "      <th>672</th>\n",
       "      <td>34.038983</td>\n",
       "      <td>-117.991372</td>\n",
       "      <td>0.6</td>\n",
       "      <td>5</td>\n",
       "    </tr>\n",
       "    <tr>\n",
       "      <th>698</th>\n",
       "      <td>34.050198</td>\n",
       "      <td>-118.210946</td>\n",
       "      <td>0.2</td>\n",
       "      <td>5</td>\n",
       "    </tr>\n",
       "    <tr>\n",
       "      <th>696</th>\n",
       "      <td>34.049841</td>\n",
       "      <td>-118.338460</td>\n",
       "      <td>0.2</td>\n",
       "      <td>5</td>\n",
       "    </tr>\n",
       "    <tr>\n",
       "      <th>690</th>\n",
       "      <td>34.048013</td>\n",
       "      <td>-118.293953</td>\n",
       "      <td>0.2</td>\n",
       "      <td>5</td>\n",
       "    </tr>\n",
       "  </tbody>\n",
       "</table>\n",
       "</div>"
      ],
      "text/plain": [
       "      Latitude   Longitude  churn_rate  count\n",
       "1    32.555828 -117.040073         0.2      5\n",
       "672  34.038983 -117.991372         0.6      5\n",
       "698  34.050198 -118.210946         0.2      5\n",
       "696  34.049841 -118.338460         0.2      5\n",
       "690  34.048013 -118.293953         0.2      5"
      ]
     },
     "execution_count": 20,
     "metadata": {},
     "output_type": "execute_result"
    }
   ],
   "source": [
    "# Group by Latitude', 'Longitude' and 'Churn Label' and count the occurrences\n",
    "grouped = df.groupby(['Latitude','Longitude', 'Churn Label'])['CustomerID'].count()\n",
    "total_counts = grouped.groupby(['Latitude','Longitude']).transform('sum')\n",
    "churn_rate = round(grouped / total_counts, 2)\n",
    "loc_ChurnLabel = pd.DataFrame({'churn_rate': churn_rate}).reset_index()\n",
    "\n",
    "# Create a DataFrame with the total count \n",
    "loc_counts = df.groupby(['Latitude','Longitude'])['CustomerID'].count().reset_index()\n",
    "loc_counts.rename(columns={'CustomerID': 'count'}, inplace=True)\n",
    "\n",
    "# Merge the City_ChurnLabel and city_counts DataFrames\n",
    "loc_ChurnLabel = loc_ChurnLabel.merge(loc_counts, on=['Latitude','Longitude'])\n",
    "\n",
    "# Filter out the rows where 'Churn Label' is 'No' and sort dataframe by count\n",
    "loc_ChurnLabel = loc_ChurnLabel[loc_ChurnLabel['Churn Label'] == 'Yes']\n",
    "loc_ChurnLabel = loc_ChurnLabel.sort_values(by='count', ascending=False)\n",
    "loc_ChurnLabel.drop(columns='Churn Label', inplace=True)\n",
    "\n",
    "loc_ChurnLabel.head()"
   ]
  },
  {
   "cell_type": "code",
   "execution_count": 21,
   "id": "0b737494",
   "metadata": {
    "execution": {
     "iopub.execute_input": "2023-11-14T14:42:27.676455Z",
     "iopub.status.busy": "2023-11-14T14:42:27.675251Z",
     "iopub.status.idle": "2023-11-14T14:42:27.766494Z",
     "shell.execute_reply": "2023-11-14T14:42:27.765064Z"
    },
    "papermill": {
     "duration": 0.112056,
     "end_time": "2023-11-14T14:42:27.768523",
     "exception": false,
     "start_time": "2023-11-14T14:42:27.656467",
     "status": "completed"
    },
    "tags": []
   },
   "outputs": [
    {
     "data": {
      "text/html": [
       "<div>                            <div id=\"6fda1bef-96a7-4a3c-bccb-be539d3e27e0\" class=\"plotly-graph-div\" style=\"height:525px; width:100%;\"></div>            <script type=\"text/javascript\">                require([\"plotly\"], function(Plotly) {                    window.PLOTLYENV=window.PLOTLYENV || {};                                    if (document.getElementById(\"6fda1bef-96a7-4a3c-bccb-be539d3e27e0\")) {                    Plotly.newPlot(                        \"6fda1bef-96a7-4a3c-bccb-be539d3e27e0\",                        [{\"customdata\":[[5],[5],[5],[5],[5],[5],[5],[5],[5],[5],[5],[5],[5],[5],[5],[5],[5],[5],[5],[5],[5],[5],[5],[5],[5],[5],[5],[5],[5],[5],[5],[5],[5],[5],[5],[5],[5],[5],[5],[5],[5],[5],[5],[5],[5],[5],[5],[5],[5],[5],[5],[5],[5],[5],[5],[5],[5],[5],[5],[5],[5],[5],[5],[5],[5],[5],[5],[5],[5],[5],[5],[5],[5],[5],[5],[5],[5],[5],[5],[5],[5],[5],[5],[5],[5],[5],[5],[5],[5],[5],[5],[5],[5],[5],[5],[5],[5],[5],[5],[5],[5],[5],[5],[5],[5],[5],[5],[5],[5],[5],[5],[5],[5],[5],[5],[5],[5],[5],[5],[5],[5],[5],[5],[5],[5],[5],[5],[5],[5],[5],[5],[5],[5],[5],[5],[5],[5],[5],[5],[5],[5],[5],[5],[5],[5],[5],[5],[5],[5],[5],[5],[5],[5],[5],[5],[5],[5],[5],[5],[5],[5],[5],[5],[5],[5],[5],[5],[5],[5],[5],[5],[5],[5],[5],[5],[5],[5],[5],[5],[5],[5],[5],[5],[5],[5],[5],[5],[5],[5],[5],[5],[5],[5],[5],[5],[5],[5],[5],[5],[5],[5],[5],[5],[5],[5],[5],[5],[5],[5],[5],[5],[5],[5],[5],[5],[5],[5],[5],[5],[5],[5],[5],[5],[5],[5],[5],[5],[5],[5],[5],[5],[5],[5],[5],[5],[5],[5],[5],[5],[5],[5],[5],[5],[5],[5],[5],[5],[5],[5],[5],[5],[5],[5],[5],[5],[5],[5],[5],[5],[5],[5],[5],[5],[5],[5],[5],[5],[5],[5],[5],[5],[5],[5],[5],[5],[5],[5],[5],[5],[5],[5],[5],[5],[5],[5],[5],[5],[5],[5],[5],[5],[5],[5],[5],[5],[5],[5],[5],[5],[5],[5],[5],[5],[5],[5],[5],[5],[5],[5],[5],[5],[5],[5],[5],[5],[5],[5],[5],[5],[5],[5],[5],[5],[5],[5],[5],[5],[5],[5],[5],[5],[5],[5],[5],[5],[5],[5],[5],[5],[5],[5],[5],[4],[4],[4],[4],[4],[4],[4],[4],[4],[4],[4],[4],[4],[4],[4],[4],[4],[4],[4],[4],[4],[4],[4],[4],[4],[4],[4],[4],[4],[4],[4],[4],[4],[4],[4],[4],[4],[4],[4],[4],[4],[4],[4],[4],[4],[4],[4],[4],[4],[4],[4],[4],[4],[4],[4],[4],[4],[4],[4],[4],[4],[4],[4],[4],[4],[4],[4],[4],[4],[4],[4],[4],[4],[4],[4],[4],[4],[4],[4],[4],[4],[4],[4],[4],[4],[4],[4],[4],[4],[4],[4],[4],[4],[4],[4],[4],[4],[4],[4],[4],[4],[4],[4],[4],[4],[4],[4],[4],[4],[4],[4],[4],[4],[4],[4],[4],[4],[4],[4],[4],[4],[4],[4],[4],[4],[4],[4],[4],[4],[4],[4],[4],[4],[4],[4],[4],[4],[4],[4],[4],[4],[4],[4],[4],[4],[4],[4],[4],[4],[4],[4],[4],[4],[4],[4],[4],[4],[4],[4],[4],[4],[4],[4],[4],[4],[4],[4],[4],[4],[4],[4],[4],[4],[4],[4],[4],[4],[4],[4],[4],[4],[4],[4],[4],[4],[4],[4],[4],[4],[4],[4],[4],[4],[4],[4],[4],[4],[4],[4],[4],[4],[4],[4],[4],[4],[4],[4],[4],[4],[4],[4],[4],[4],[4],[4],[4],[4],[4],[4],[4],[4],[4],[4],[4],[4],[4],[4],[4],[4],[4],[4],[4],[4],[4],[4],[4],[4],[4],[4],[4],[4],[4],[4],[4],[4],[4],[4],[4],[4],[4],[4],[4],[4],[4],[4],[4],[4],[4],[4],[4],[4],[4],[4],[4],[4],[4],[4],[4],[4],[4],[4],[4],[4],[4],[4],[4],[4],[4],[4],[4],[4],[4],[4],[4],[4],[4],[4],[4],[4],[4],[4],[4],[4],[4],[4],[4],[4],[4],[4],[4],[4],[4],[4],[4],[4],[4],[4],[4],[4],[4],[4],[4],[4],[4],[4],[4],[4],[4],[4],[4],[4],[4],[4],[4],[4],[4],[4],[4],[4],[4],[4],[4],[4],[4],[4],[4],[4],[4],[4],[4],[4],[4],[4],[4],[4],[4],[4],[4],[4],[4],[4],[4],[4],[4],[4],[4],[4],[4],[4],[4],[4],[4],[4],[4],[4],[4],[4],[4],[4],[4],[4],[4],[4],[4],[4],[4],[4],[4],[4],[4],[4],[4],[4],[4],[4],[4],[4],[4],[4],[4],[4],[4],[4],[4],[4],[4],[4],[4],[4],[4],[4],[4],[4],[4],[4],[4],[4],[4],[4],[4],[4],[4],[4],[4],[4],[4],[4],[4],[4],[4],[4],[4],[4],[4],[4],[4],[4],[4],[4],[4],[4],[4],[4],[4],[4],[4],[4],[4],[4],[4],[4],[4],[4],[4],[4],[4],[4],[4],[4],[4],[4],[4],[4],[4],[4],[4],[4],[4],[4],[4],[4],[4],[4],[4],[4],[4],[4],[4],[4],[4],[4],[4],[4],[4],[4],[4],[4],[4],[4],[4],[4],[4],[4],[4],[4],[4],[4],[4],[4],[4],[4],[4],[4],[4],[4],[4],[4],[4],[4],[4],[4],[4],[4],[4],[4],[4],[4],[4],[4],[4],[4],[4],[4],[4],[4],[4],[4],[4],[4],[4],[4],[4],[4],[4],[4],[4],[4],[4],[4],[4],[4],[4],[4],[4],[4],[4],[4],[4],[4],[4],[4],[4],[4],[4],[4],[4],[4],[4],[4],[4],[4],[4],[4],[4],[4],[4],[4],[4],[4],[4],[4],[4],[4],[4],[4],[4],[4],[4],[4],[4],[4],[4],[4],[4],[4],[4],[4],[4],[4],[4],[4],[4],[4],[4],[4],[4],[4],[4],[4],[4],[4],[4],[4],[4],[4],[4],[4],[4],[4],[4],[4],[4],[4],[4],[4],[4],[4],[4],[4],[4],[4],[4],[4],[4],[4],[4],[4],[4],[4],[4],[4],[4],[4],[4],[4],[4],[4],[4],[4],[4],[4],[4],[4],[4],[4],[4],[4],[4],[4],[4],[4],[4],[4],[4],[4],[4],[4],[4],[4],[4],[4],[4],[4],[4],[4],[4],[4],[4],[4],[4],[4],[4],[4],[4],[4],[4],[4],[4],[4],[4],[4],[4],[4],[4],[4],[4],[4],[4],[4],[4],[4],[4],[4],[4],[4],[4],[4],[4],[4],[4],[4],[4],[4],[4],[4],[4],[4],[4],[4],[4],[4],[4],[4],[4],[4],[4],[4],[4],[4],[4],[4],[4],[4],[4],[4],[4],[4],[4],[4],[4],[4],[4],[4],[4],[4],[4],[4],[4],[4],[4],[4],[4],[4],[4],[4],[4],[4],[4],[4],[4],[4],[4],[4],[4],[4],[4],[4],[4],[4],[4],[4],[4],[4],[4],[4],[4],[4],[4],[4],[4],[4],[4],[4],[4],[4],[4],[4],[4],[4],[4],[4],[4],[4],[4],[4],[4],[4],[4],[4],[4],[4],[4],[4],[4],[4],[4],[4],[4],[4],[4],[4],[4],[4],[4],[4],[4],[4],[4],[4],[4],[4],[4],[4],[4],[4],[4],[4],[4],[4],[4],[4],[4],[4],[4],[4],[4],[4],[4],[4],[4],[4],[4],[4],[4],[4],[4],[4],[4],[4],[4],[4],[4],[4],[4],[4],[4],[4],[4],[4],[4],[4],[4],[4],[4],[4],[4],[4],[4]],\"hovertemplate\":\"Latitude=%{lat}\\u003cbr\\u003eLongitude=%{lon}\\u003cbr\\u003ecount=%{marker.color}\\u003cextra\\u003e\\u003c\\u002fextra\\u003e\",\"lat\":[32.555828,34.038983,34.050198,34.049841,34.048013,34.04622,34.046174,34.044639,34.044271,34.043144,34.042286,34.039224,34.037037,34.052842,34.035849,34.035602,34.031529,34.031441,34.028331,34.027337,34.024405,34.02381,34.019323,34.018354,34.050322,34.052917,34.015217,34.070291,34.079449,34.078991,34.078821,34.076259,34.074736,34.074572,34.074492,34.074087,34.072945,34.072121,34.067932,34.057256,34.066964,34.066367,34.066303,34.065875,34.065108,34.063947,34.062125,34.061918,34.061634,34.059281,34.017697,34.00709,33.885811,33.933565,33.952714,33.949255,33.948558,33.946982,33.945318,33.940884,33.940619,33.936827,33.936298,33.936291,33.929812,33.956228,33.927254,33.923573,33.921793,33.92128,33.917145,33.914775,33.906496,33.897122,33.889605,33.88856,33.954017,33.956445,34.005439,33.988543,34.003553,34.002642,34.002028,34.001617,33.999992,33.998471,33.993991,33.991782,33.990646,33.989524,33.987945,33.958149,33.97803,33.977468,33.976753,33.976678,33.975332,33.973616,33.972293,33.972119,33.964131,33.960891,34.079934,34.083086,34.084747,34.209532,34.238802,34.238208,34.236683,34.234912,34.231053,34.224377,34.223768,34.214054,34.213049,34.2112,34.207295,34.255442,34.200175,34.19829,34.196837,34.195386,34.191842,34.188339,34.187599,34.182378,34.178483,34.17847,34.245289,34.264124,34.085807,34.422519,32.578103,34.667815,34.559882,34.55082,34.506627,34.502432,34.457829,34.457005,34.43987,34.424926,34.370378,34.266389,34.364153,34.341737,34.321621,34.296574,34.294142,34.291273,34.286131,34.282704,34.281911,34.273872,34.178068,34.177267,34.174493,34.110444,34.129058,34.128284,34.127621,34.127194,34.122671,34.119363,34.11572,34.115192,34.114772,34.110845,34.108833,34.17211,34.102119,34.10097,34.099869,34.097345,34.093781,34.091829,34.090925,34.089953,34.089927,34.088017,34.130992,34.133809,34.136306,34.13658,34.1692,34.168686,34.167926,34.1678,34.167465,34.167236,34.165783,34.162515,34.159007,34.157137,34.153338,34.1528,34.150354,34.147149,34.146957,34.14649,34.145695,34.13946,34.139402,34.137412,34.137411,33.887676,34.165383,33.000269,33.098018,33.215251,33.200369,33.194742,33.17494,33.162624,33.148116,33.143826,33.141265,33.119028,32.68674,33.22784,33.079834,33.054579,33.044541,33.03933,33.03679,33.017518,33.015866,32.688506,33.001813,33.21846,33.25283,33.713891,32.67117,33.680031,33.674583,32.605012,32.726627,32.622999,32.636792,33.537646,33.53604,32.649787,32.673483,33.254497,32.677097,33.391181,33.384345,32.677716,33.362575,33.345825,33.313828,33.309852,33.290907,32.99356,32.984395,32.980678,32.697098,32.790282,32.695681,32.787836,32.785165,32.782501,32.774046,32.770393,32.765299,32.76501,32.698964,32.961064,32.762506,32.747484,32.741859,32.741499,32.707892,32.730583,32.71346,32.716007,32.72523,32.79697,32.802959,32.805518,32.807867,32.957195,32.948262,32.909873,32.898613,32.886925,32.858595,32.857946,32.85723,32.853743,32.852947,32.847336,32.832706,32.830852,32.827238,32.827184,32.825086,32.811001,32.808814,32.690654,33.695532,32.730264,33.783047,33.847755,33.840524,33.736387,33.840399,33.744119,33.839989,33.798266,33.833699,33.745746,33.833181,33.832799,33.752524,33.75462,33.830453,32.579134,33.830431,33.762759,33.830099,33.763678,33.823943,33.771612,33.778436,33.781086,33.822295,33.819814,33.807882,33.801869,33.794209,33.845706,33.79499,33.867257,33.719221,33.850504,33.864622,33.849263,33.876482,33.86532,33.874224,33.8681,38.631489,38.672708,38.674276,38.683605,38.685069,38.592745,38.687367,38.602723,38.591134,38.688764,38.240769,38.590035,38.244806,38.585826,38.689174,38.691607,38.200231,38.208336,38.608405,38.618347,38.625096,38.626128,38.672638,38.224869,38.240419,38.233879,38.232389,38.652065,38.646096,38.227285,38.636102,38.636052,38.63153,38.629618,38.475465,38.584505,38.581354,38.493888,38.34719,38.489789,38.348884,38.349195,38.35363,38.358464,38.368744,38.375325,38.489273,38.384648,38.392559,38.488431,38.392821,38.394091,38.400264,38.419088,38.41935,38.431407,38.432145,38.434138,38.486938,38.486502,38.434362,38.439696,38.460517,38.468893,38.339996,38.336216,38.494832,38.542532,38.578604,38.567594,38.556306,38.470423,38.554383,38.550722,38.549822,38.549185,38.25485,38.264262,38.546999,38.544002,38.542448,38.505995,38.265899,38.53508,38.526941,38.52576,38.522328,38.274451,38.287136,38.313447,38.517295,38.32153,38.508735,38.326215,38.377165,40.448632,38.192608,37.84551,37.848641,37.858898,37.862128,37.863843,37.871416,37.872902,37.873283,37.873916,37.878554,37.881842,37.890145,37.890274,37.897743,37.897753,37.900662,37.901371,37.902422,37.902968,37.907777,37.916648,37.921034,37.921137,37.924014,37.937082,37.939768,37.84771,37.83726,37.943087,37.834341,37.766556,37.768881,37.770533,37.776523,37.776718,37.7795,37.785033,37.786031,37.787186,37.789168,37.791222,37.791998,37.792489,37.794487,37.797526,37.800254,37.803883,37.80707,37.80821,37.815459,37.818589,37.820894,37.827946,37.828416,37.83323,37.941456,37.945288,38.184914,38.049457,38.055562,38.060264,38.065359,38.067204,38.071327,38.085839,38.099323,38.104705,38.109125,38.112166,38.69508,38.121601,38.123544,38.128087,38.129308,38.135897,38.140719,38.147852,38.148862,38.154823,38.156971,38.157794,38.161321,38.166791,38.169605,38.052209,38.049292,37.946617,38.047746,37.95338,37.959706,37.963995,37.971421,37.972662,37.974498,37.980057,37.980269,37.990118,37.990574,37.99272,37.996462,37.999406,38.002125,38.005839,38.006047,38.010092,38.013825,38.014457,38.018065,38.027218,38.029729,38.033219,38.035707,38.044523,38.694081,39.23754,38.696659,40.965011,41.5837,41.572813,41.528541,41.486953,41.468877,41.444606,41.405193,41.388397,41.280341,41.266008,41.212695,41.171578,41.163637,41.162295,41.121108,41.10831,40.077028,41.096569,41.083464,40.080342,41.082472,41.081847,41.027281,41.701223,41.729079,41.750354,40.022184,39.84784,39.884395,39.913777,39.933852,37.758085,39.937017,39.955164,39.955587,39.971228,40.012675,40.053159,40.059385,40.053684,40.057784,41.950683,41.949216,41.932207,41.924174,41.867908,41.831901,41.816595,41.759864,41.017282,40.142256,39.806141,40.946785,40.656287,40.637105,40.617614,40.587919,40.271535,40.586588,40.582399,40.559177,40.557314,40.547857,40.274302,40.331975,40.336392,40.342928,40.343213,40.345949,40.527834,40.367964,40.524535,40.372532,40.497441,40.485849,40.408796,40.267158,40.665952,40.689243,40.171312,40.94338,40.936285,40.166028,40.923558,40.89866,40.883853,40.170357,40.854512,40.845738,40.825486,40.809636,40.692523,40.796621,40.789799,40.7666,40.759401,40.186772,40.737431,40.210895,40.726949,40.722733,40.704293,39.83307,39.786755,38.715498,39.108252,38.888351,38.911299,38.911577,38.921333,38.931425,38.93706,38.954144,38.965804,38.982373,38.983388,38.984756,38.99003,39.003358,39.00978,39.033058,39.043387,39.061227,39.07116,39.075694,39.080469,39.082568,39.084645,39.094102,38.883224,38.880622,38.875508,38.788898,38.71967,38.724322,38.731055,38.733908,38.734997,38.736685,38.748316,38.749466,38.759751,38.766036,38.801936,38.859093,38.803731,38.809175,38.809804,38.815515,38.830739,38.833554,38.838088,38.848082,38.851842,38.852544,39.099204,39.117018,39.783747,39.117537,39.381174,39.396585,39.424957,39.432127,39.435756,39.440687,39.449794,39.461768,39.473896,39.493991,39.531028,39.53222,39.559709,39.562239,39.578792,39.58458,39.600599,39.681488,39.710591,39.724433,39.732767,39.745712,39.748037,39.361283,39.346898,39.342498,39.227434,39.12334,39.125311,39.134075,39.141934,39.172777,39.178337,39.182916,39.197215,39.222323,39.225634,40.4785,39.333737,39.239818,39.24124,39.246654,39.258746,39.273096,39.279068,39.281194,39.292334,39.298065,39.305545,37.760412,36.625114,37.750021,34.508417,34.557711,34.567058,34.581308,34.598221,34.601055,34.613476,34.624399,34.631362,34.647959,34.659579,34.702766,34.712708,34.727529,34.737031,34.741406,34.757477,34.758699,34.845861,34.866032,34.875144,34.89326,34.903052,34.907911,34.536232,34.486835,37.746699,34.457541,34.243088,34.244411,34.248061,34.255203,34.269449,34.274846,34.278967,34.279221,34.297628,34.312945,34.358321,34.360261,34.39583,34.402343,34.404544,34.419203,34.420998,34.432843,34.437945,34.438581,34.441123,34.441398,34.445239,34.936,34.956577,34.95703,34.965648,35.536115,35.603913,35.652242,35.676978,35.690535,35.710244,35.74837,35.772244,35.809921,35.824572,35.842889,35.846067,35.852892,35.858054,35.861928,35.865795,35.869626,35.916943,35.924252,35.930782,35.939068,35.989792,36.008958,35.523991,35.490705,35.451402,35.214982,34.966777,34.983808,35.013299,35.050345,35.059695,35.073777,35.097323,35.16207,35.165668,35.184837,35.215731,35.449881,35.233745,35.236549,35.279984,35.28952,35.358953,35.363339,35.369553,35.38381,35.392599,35.405722,34.238162,34.227846,34.223244,33.787298,33.679659,33.698728,33.69887,33.703976,33.705836,33.707483,33.714829,33.716136,33.720359,33.723579,33.735802,33.739415,33.744439,33.748478,33.755039,33.761894,33.762351,33.764018,33.765893,33.766004,33.766476,33.782346,33.782955,33.678591,33.666301,33.655421,33.600987,33.458754,33.475493,33.477923,33.482243,33.507255,33.527605,33.540604,33.569186,33.570023,33.581045,33.601309,33.645672,33.603282,33.606336,33.60693,33.62251,33.624654,33.631119,33.634626,33.643095,33.644585,33.644849,33.786738,33.787796,34.205504,33.792791,33.970661,33.982787,34.003243,34.004379,34.030915,34.037342,34.04597,34.049671,34.059722,34.064073,34.084909,34.103578,34.105935,34.106922,34.110124,34.122501,34.129677,34.136367,34.142747,34.156758,34.183286,34.18454,34.186211,33.930931,33.930199,33.925833,33.850452,33.796568,33.806708,33.818,33.819385,33.82769,33.828289,33.828779,33.830209,33.83796,33.848733,33.877639,33.924143,33.879983,33.881158,33.88274,33.884073,33.885499,33.888323,33.890046,33.897253,33.907361,33.920907,36.041315,36.04533,36.047414,37.509366,37.393554,37.394411,37.40122,37.410236,37.410567,37.416159,37.419725,37.421299,37.421633,37.422961,37.424655,37.42765,37.435664,37.441931,37.449537,37.454924,37.45567,37.45809,37.458367,37.461251,37.4695,37.474396,37.499411,37.387027,37.386978,37.380662,37.329725,37.28682,37.294926,37.304681,37.305622,37.306612,37.311088,37.316146,37.316807,37.321233,37.327069,37.333851,37.378541,37.343827,37.343846,37.34667,37.350284,37.351214,37.352911,37.361987,37.369709,37.375156,37.375816,37.505768,37.516791,37.279689,37.521708,37.656695,37.666587,37.669516,37.670526,37.671806,37.672906,37.674002,37.676249,37.680844,37.684694,37.685052,37.687264,37.691561,37.704267,37.708327,37.713152,37.713926,37.716186,37.720498,37.722302,37.734971,37.736535,37.739113,37.654436,37.653947,37.648647,37.590421,37.524721,37.526791,37.529656,37.538309,37.546007,37.555473,37.556634,37.57028,37.571748,37.587494,37.5923,37.639215,37.59485,37.601248,37.605926,37.609095,37.612612,37.621458,37.624436,37.62984,37.633361,37.639029,37.284265,37.277592,36.057458,36.727418,36.497895,36.520537,36.523619,36.527243,36.545322,36.554618,36.587497,36.590415,36.596271,36.600185,36.600193,36.618337,36.622237,36.624338,36.625792,36.635661,36.64152,36.64545,36.654614,36.687292,36.689582,36.696759,36.719141,36.488056,36.478239,36.462671,36.296851,36.092975,36.125529,36.141319,36.175255,36.185471,36.186867,36.205465,36.217864,36.220761,36.248708,36.29878,36.460611,36.301689,36.303666,36.303793,36.315979,36.37559,36.385818,36.397745,36.414611,36.452211,36.456091,36.722898,36.732694,37.270938,36.739385,37.007238,37.013471,37.027663,37.031404,37.03889,37.078873,37.084697,37.089111,37.114335,37.147198,37.161544,37.171727,37.17277,37.186141,37.218705,37.222842,37.223,37.22565,37.233034,37.238758,37.244307,37.245505,37.266388,37.004068,36.993666,36.993451,36.833002,36.768774,36.78724,36.789213,36.78979,36.793601,36.798882,36.807595,36.810568,36.814539,36.819628,36.841655,36.977025,36.863303,36.869584,36.875409,36.878364,36.878709,36.902954,36.931654,36.936228,36.959731,36.974575,41.962127],\"legendgroup\":\"\",\"lon\":[-117.040073,-117.991372,-118.210946,-118.33846,-118.293953,-118.053753,-118.446333,-118.240413,-118.185237,-118.251977,-117.756106,-118.266293,-118.705803,-118.264495,-118.503508,-117.591528,-118.491156,-117.936436,-118.354338,-118.28515,-117.898722,-118.156582,-118.391902,-117.85492,-118.147037,-118.255178,-118.109962,-118.349191,-118.548306,-118.263804,-118.177576,-118.310715,-118.145959,-118.831181,-118.01462,-117.605618,-118.37267,-117.698319,-117.785168,-117.667677,-117.937007,-118.309868,-118.435479,-118.238728,-118.082791,-118.383001,-118.315709,-118.277939,-117.893169,-118.30742,-118.200577,-118.258681,-118.206459,-118.062611,-118.292061,-118.246978,-116.516976,-116.977672,-117.992066,-118.128628,-117.9513,-118.359824,-116.849577,-118.332639,-116.76058,-118.120993,-118.249826,-118.200669,-118.140588,-118.274186,-118.401554,-118.348083,-116.569499,-118.164432,-115.257009,-118.351813,-118.402447,-118.358634,-118.477507,-118.334081,-118.308933,-118.287596,-118.430656,-118.222274,-117.535395,-117.973758,-118.39704,-118.479229,-117.663025,-118.089299,-118.370442,-118.308441,-118.217141,-118.445475,-117.897367,-118.065875,-118.355252,-118.24902,-116.654195,-118.020188,-118.272783,-118.032222,-118.046695,-117.737997,-117.886844,-118.577563,-118.482296,-118.55029,-118.517588,-118.153729,-118.338307,-118.632656,-118.445461,-118.88109,-118.317651,-118.230625,-118.400022,-118.421314,-118.540958,-118.602203,-118.142236,-118.238508,-118.822796,-118.300942,-118.387125,-118.262922,-118.431791,-118.459472,-117.642503,-114.717964,-118.206617,-118.420717,-117.012975,-117.536183,-115.637164,-117.122396,-118.699048,-118.41459,-116.139589,-118.573726,-118.644609,-117.184503,-118.504118,-118.459744,-118.615583,-116.539416,-118.399841,-118.244839,-118.603883,-118.505104,-118.435969,-118.312929,-118.556218,-114.192901,-118.615714,-118.31003,-117.87068,-118.156957,-118.759788,-118.047732,-117.717863,-118.295647,-118.112911,-117.855059,-118.192754,-118.61017,-118.089431,-118.259595,-118.229715,-115.769773,-117.815532,-117.57882,-118.326843,-117.906736,-118.381061,-118.491244,-118.128164,-118.294824,-118.095645,-118.327168,-118.894673,-117.523724,-118.26036,-118.245839,-118.372498,-118.057505,-118.267539,-116.86433,-118.165327,-116.281511,-118.399795,-118.203869,-118.087353,-118.548511,-118.262974,-118.000482,-118.518292,-118.463365,-118.432138,-117.849815,-117.95982,-118.166649,-118.128658,-118.207607,-118.328915,-118.127289,-118.123752,-117.072093,-117.258203,-116.53633,-116.192313,-117.29032,-117.242761,-117.170863,-117.306043,-115.497485,-116.967221,-117.166036,-117.186612,-117.200024,-117.134275,-117.25665,-116.833922,-115.191857,-115.60503,-117.118456,-117.272254,-116.938632,-117.263628,-117.116916,-116.986079,-116.237257,-117.00232,-116.171678,-114.71612,-116.97595,-116.994608,-116.687855,-117.054989,-116.291089,-116.119222,-116.2237,-116.472863,-117.285879,-116.304991,-118.421305,-117.072619,-117.047666,-117.299644,-115.596574,-116.940501,-116.823091,-117.202895,-117.207121,-117.013454,-116.262854,-117.116587,-115.689559,-116.798386,-117.232376,-116.862648,-117.01611,-117.142454,-115.60915,-117.122565,-117.19938,-115.886656,-117.134917,-117.07245,-117.166877,-117.090353,-117.127409,-117.05512,-115.501083,-117.236378,-117.117462,-117.171346,-116.969082,-117.027095,-117.169052,-117.060993,-117.202542,-117.256086,-116.906774,-117.202937,-117.152162,-115.662709,-116.561917,-117.209774,-117.25034,-114.850784,-116.997605,-116.873258,-116.444601,-117.089287,-116.703729,-117.199424,-115.152865,-117.134694,-115.431225,-116.310571,-116.950963,-118.1486,-118.112532,-118.148403,-118.284363,-118.353714,-118.31448,-116.659215,-118.300237,-118.314387,-116.514215,-118.292062,-116.250973,-118.210737,-118.071128,-118.384565,-117.119009,-118.074071,-116.324817,-118.182239,-116.429928,-118.111335,-118.143866,-118.118648,-118.199049,-118.26411,-118.222416,-118.347957,-117.995068,-118.317354,-118.012204,-118.065591,-118.330794,-118.073596,-118.039892,-118.179626,-116.382778,-118.284077,-118.396336,-117.993368,-118.067402,-120.015167,-122.403219,-121.961866,-120.811852,-121.543709,-121.540036,-121.34848,-121.279913,-121.161585,-121.457596,-122.901041,-121.412455,-120.417301,-121.376263,-121.218435,-121.602284,-121.235034,-120.339938,-121.449942,-122.908422,-121.383658,-121.328011,-121.147403,-119.755729,-121.587535,-120.861666,-122.324944,-121.25441,-121.442433,-121.02789,-120.522149,-119.489162,-120.842609,-122.593216,-121.443625,-121.491956,-122.296283,-122.777141,-122.697822,-122.27011,-122.51699,-121.902943,-121.44195,-120.579304,-122.522642,-121.507935,-120.891614,-121.578701,-121.225093,-122.752839,-121.799917,-122.739814,-120.641274,-122.024568,-120.469545,-120.8421,-120.77069,-121.30587,-121.395805,-121.334051,-122.86891,-122.668817,-122.790335,-122.580539,-122.935056,-120.76901,-121.529447,-121.378826,-122.024579,-121.437507,-121.495817,-121.114897,-122.474773,-121.457314,-121.266725,-121.328386,-122.461799,-120.515133,-120.271114,-121.685559,-122.419923,-123.187019,-121.939461,-121.444144,-122.709096,-123.013347,-122.97932,-121.259201,-122.02711,-121.123886,-121.439819,-120.236358,-121.678813,-122.718742,-123.037957,-122.306657,-120.957842,-122.235181,-122.515692,-122.240512,-122.075197,-122.275684,-122.246597,-122.303708,-121.292034,-122.20522,-122.26609,-121.848111,-119.184087,-122.295192,-122.263124,-122.279391,-122.052782,-122.572024,-121.440029,-119.667544,-122.127161,-122.008483,-122.341798,-122.657562,-122.511694,-122.532369,-120.188002,-120.486589,-122.287648,-122.72379,-122.26437,-121.976784,-122.395521,-122.445121,-122.219268,-122.495781,-122.419233,-120.776141,-122.437301,-122.14633,-122.395009,-122.402241,-122.408653,-122.244314,-122.42227,-122.464531,-122.436975,-122.208417,-122.297401,-121.308401,-121.977203,-120.256995,-122.369725,-122.107185,-122.216005,-121.601461,-122.320968,-122.383941,-120.364085,-121.21653,-120.456298,-122.830646,-122.665566,-122.524004,-120.632221,-120.37855,-122.945723,-122.247387,-120.078597,-122.634384,-121.271616,-120.133915,-121.159078,-121.4078,-122.834815,-122.563683,-121.838298,-120.440124,-121.737696,-121.601358,-120.849231,-121.520223,-122.271588,-121.14207,-121.310964,-122.775567,-122.228415,-122.563571,-121.030499,-122.076886,-121.287669,-122.288296,-121.971504,-122.491452,-121.319568,-121.801599,-122.342635,-122.012188,-120.261821,-122.575026,-122.293716,-121.686241,-121.324979,-122.638155,-121.916834,-122.689442,-122.039144,-122.115432,-122.546024,-122.23463,-121.387999,-121.297433,-122.196821,-121.348048,-121.694431,-120.720196,-123.436861,-124.015255,-122.935922,-124.035011,-122.955018,-120.913975,-120.54229,-123.471895,-123.008567,-122.794636,-120.150381,-120.490731,-122.392067,-120.913161,-123.704841,-124.027381,-122.336613,-121.360362,-121.494168,-121.879082,-121.107929,-120.957805,-121.195215,-122.700545,-120.669427,-124.003393,-120.225025,-120.403885,-121.062384,-122.544556,-122.587513,-122.289984,-121.584371,-122.434801,-121.058043,-122.018567,-123.681175,-121.041166,-120.101857,-123.995867,-122.091481,-120.743116,-123.679461,-124.097094,-122.050062,-120.135941,-123.260788,-123.794144,-123.487478,-122.948287,-122.379175,-121.468945,-123.852927,-123.531098,-121.719489,-121.428965,-121.906949,-122.512861,-122.464732,-121.018087,-122.903677,-122.195512,-120.612113,-124.081662,-123.187265,-124.210902,-121.460674,-122.448533,-124.063329,-121.815412,-120.081187,-122.318749,-122.937379,-122.647172,-123.525626,-121.827524,-124.163234,-121.579609,-123.805913,-124.240051,-122.037023,-121.120605,-123.831799,-121.572692,-123.584144,-122.059933,-123.539754,-122.418258,-123.417298,-123.450097,-120.322219,-124.049485,-124.189977,-122.369876,-124.15428,-121.474529,-123.80458,-122.939337,-122.388361,-124.108897,-123.86,-124.217378,-122.109666,-122.803899,-123.178765,-120.445626,-121.363411,-123.645121,-123.239647,-123.609588,-120.106169,-120.897718,-121.946081,-123.118111,-121.482536,-122.631779,-122.047751,-120.988814,-121.345074,-121.114408,-121.022539,-120.978273,-121.895718,-121.409837,-120.179546,-122.598542,-121.70606,-122.955176,-121.55325,-120.894014,-123.500853,-121.15918,-120.973865,-121.765866,-121.608624,-121.862416,-120.991237,-123.316553,-120.453416,-121.463719,-121.251984,-120.675512,-121.184196,-121.288545,-120.209673,-122.938935,-121.182872,-121.043799,-121.171375,-122.241383,-120.916997,-122.196202,-121.498102,-122.73203,-123.50608,-120.076204,-120.837669,-121.137962,-120.212535,-120.661032,-122.284654,-121.21191,-121.38029,-122.039307,-121.099287,-121.552071,-121.263583,-121.936372,-121.195825,-121.415927,-122.286363,-121.24807,-122.594879,-120.345639,-121.14836,-120.780786,-121.093256,-120.636358,-121.83721,-123.682799,-123.767578,-122.042298,-121.84333,-122.302169,-123.784599,-121.759537,-120.247127,-120.091806,-122.838198,-121.392283,-123.23422,-122.770679,-121.805845,-120.162806,-123.552571,-120.83679,-122.985488,-121.156163,-124.301372,-120.858667,-123.565432,-120.054765,-120.029273,-121.77697,-122.050763,-120.414275,-122.226568,-121.320597,-123.25211,-123.743697,-122.484966,-121.823565,-122.415201,-116.856103,-118.029441,-117.362329,-118.931948,-117.79593,-120.382917,-118.256358,-120.137875,-120.238218,-117.296957,-118.584212,-116.093376,-117.889656,-118.153098,-119.460557,-118.38111,-120.550507,-120.275839,-118.885163,-120.536546,-116.821698,-116.505958,-118.411251,-119.234281,-118.082935,-117.362274,-122.442833,-119.631072,-116.830015,-117.072654,-117.29028,-117.175654,-118.768471,-116.937581,-116.773825,-119.221437,-119.014627,-118.858169,-117.618263,-119.306383,-117.734568,-119.094824,-119.302118,-119.710008,-119.60137,-118.730106,-119.77191,-119.685368,-117.537886,-119.513163,-117.894868,-120.594655,-119.750142,-117.73045,-117.001509,-120.739231,-117.67828,-119.4464,-118.101378,-118.552784,-118.881679,-117.384948,-119.209689,-119.127437,-116.274755,-121.004862,-119.004073,-118.397782,-119.305858,-118.636698,-118.69759,-119.498771,-120.129921,-116.188668,-121.189757,-119.043666,-121.055933,-118.891593,-118.400432,-119.286833,-119.488413,-118.59049,-117.961179,-117.239306,-116.834092,-120.489599,-120.604741,-118.652112,-118.171288,-119.194488,-120.655842,-119.402525,-119.57013,-118.841442,-120.626442,-120.727344,-120.824288,-116.092214,-118.527064,-117.637641,-120.763864,-119.730885,-119.245341,-117.773354,-117.534306,-119.079903,-119.18012,-117.320676,-118.016195,-117.67768,-117.25071,-117.824172,-117.318204,-117.200006,-117.872941,-117.752574,-117.733655,-118.005441,-117.818805,-116.968339,-117.98588,-117.858918,-116.741796,-117.120868,-117.488725,-117.931507,-117.881533,-117.786763,-117.969795,-117.635263,-118.026456,-117.905471,-117.969501,-117.391751,-117.862734,-117.665104,-117.219551,-117.705314,-116.827173,-117.029473,-116.666551,-117.10909,-117.640055,-117.773669,-117.14719,-117.902304,-117.922613,-117.821841,-117.893042,-117.644253,-117.927024,-117.611733,-117.567346,-117.874882,-117.810896,-116.871544,-117.684254,-117.982564,-117.875928,-118.993111,-117.789749,-117.255039,-117.057627,-117.138286,-117.447864,-117.273201,-119.80079,-117.011825,-117.468896,-117.39104,-117.166158,-117.258107,-117.04054,-117.2914,-117.297553,-119.100972,-117.320138,-117.154277,-117.460803,-117.300864,-117.404686,-117.221722,-119.224666,-117.07683,-117.361788,-117.862898,-117.559639,-117.726668,-116.924723,-117.02007,-117.974404,-117.600213,-117.102244,-117.201666,-117.848299,-117.906099,-117.870494,-117.788357,-117.961212,-117.79387,-117.895482,-117.854783,-117.224878,-117.732197,-117.324959,-117.277533,-117.455583,-117.792202,-117.109972,-117.489426,-118.188235,-119.532424,-119.344304,-122.306132,-121.965114,-120.127262,-120.514191,-121.320337,-122.297152,-122.131337,-122.062947,-120.599587,-122.009613,-120.765493,-121.74841,-121.945416,-121.049056,-121.878502,-121.994813,-122.203168,-122.407992,-122.115398,-119.345011,-122.235414,-120.672724,-120.875917,-122.196318,-121.897775,-122.177746,-122.086022,-120.306399,-121.723877,-121.894763,-121.809955,-122.000887,-122.080621,-121.961786,-121.936285,-120.855753,-120.656354,-121.916819,-121.891147,-122.020456,-121.883119,-121.039391,-121.910019,-121.852855,-121.952417,-122.093002,-120.748394,-122.215844,-121.795867,-119.739935,-121.962472,-121.899117,-121.954567,-120.426843,-122.048361,-120.411517,-120.626964,-120.877572,-121.007575,-120.946594,-122.076796,-122.132415,-122.48131,-122.40712,-121.912061,-122.15728,-122.445202,-119.607001,-122.083473,-121.08739,-121.928425,-121.025836,-122.443119,-122.491129,-120.954271,-122.45732,-122.175602,-122.426468,-118.231443,-119.231447,-122.306467,-120.757977,-119.99437,-120.854357,-122.305109,-121.28257,-122.080312,-122.317723,-122.365778,-121.659562,-121.862856,-120.853288,-122.037554,-122.051521,-122.403099,-120.69955,-121.263381,-121.108568,-121.012295,-122.430661,-122.120843,-121.862395,-120.964772,-121.827673,-121.986477,-118.591951,-120.123526,-119.285484,-120.118055,-119.386868,-118.594938,-119.642281,-121.922239,-121.944815,-118.073839,-121.442274,-119.175655,-120.153393,-121.926417,-119.521126,-121.615669,-119.672483,-120.288644,-121.622188,-118.924982,-119.903674,-120.437354,-121.758398,-119.024051,-119.202677,-120.407691,-119.52137,-118.997291,-117.865469,-121.549826,-120.864443,-119.129075,-119.813805,-119.375243,-120.387793,-119.085807,-120.080117,-120.980777,-121.386617,-119.201028,-121.852507,-119.018233,-119.825657,-119.375646,-119.710852,-119.211689,-119.224243,-120.119911,-121.6386,-119.94575,-119.486225,-121.633648,-119.783786,-121.851046,-119.753649,-119.505661,-121.877877,-119.69056,-121.981865,-121.528955,-122.090386,-121.606417,-122.062213,-122.237162,-121.120161,-121.649371,-122.142961,-119.2997,-121.843554,-121.762429,-121.988727,-119.001021,-122.297533,-121.947427,-121.828375,-119.470256,-118.062943,-122.26308,-119.930027,-119.348267,-122.098858,-119.82947,-119.762633,-119.827813,-119.140338,-119.929894,-119.761131,-120.019511,-118.901544,-121.503022,-119.711868,-119.440414,-119.797113,-121.952864,-121.781632,-118.189241,-121.279679,-121.629781,-119.7645,-120.194274,-121.752383,-121.785559,-120.653519,-121.991149,-122.527696],\"marker\":{\"color\":[5,5,5,5,5,5,5,5,5,5,5,5,5,5,5,5,5,5,5,5,5,5,5,5,5,5,5,5,5,5,5,5,5,5,5,5,5,5,5,5,5,5,5,5,5,5,5,5,5,5,5,5,5,5,5,5,5,5,5,5,5,5,5,5,5,5,5,5,5,5,5,5,5,5,5,5,5,5,5,5,5,5,5,5,5,5,5,5,5,5,5,5,5,5,5,5,5,5,5,5,5,5,5,5,5,5,5,5,5,5,5,5,5,5,5,5,5,5,5,5,5,5,5,5,5,5,5,5,5,5,5,5,5,5,5,5,5,5,5,5,5,5,5,5,5,5,5,5,5,5,5,5,5,5,5,5,5,5,5,5,5,5,5,5,5,5,5,5,5,5,5,5,5,5,5,5,5,5,5,5,5,5,5,5,5,5,5,5,5,5,5,5,5,5,5,5,5,5,5,5,5,5,5,5,5,5,5,5,5,5,5,5,5,5,5,5,5,5,5,5,5,5,5,5,5,5,5,5,5,5,5,5,5,5,5,5,5,5,5,5,5,5,5,5,5,5,5,5,5,5,5,5,5,5,5,5,5,5,5,5,5,5,5,5,5,5,5,5,5,5,5,5,5,5,5,5,5,5,5,5,5,5,5,5,5,5,5,5,5,5,5,5,5,5,5,5,5,5,5,5,5,5,5,5,5,5,5,5,5,5,5,5,5,5,5,5,5,5,5,5,5,5,5,5,5,5,5,5,5,5,5,5,5,5,5,5,5,5,5,5,5,5,4,4,4,4,4,4,4,4,4,4,4,4,4,4,4,4,4,4,4,4,4,4,4,4,4,4,4,4,4,4,4,4,4,4,4,4,4,4,4,4,4,4,4,4,4,4,4,4,4,4,4,4,4,4,4,4,4,4,4,4,4,4,4,4,4,4,4,4,4,4,4,4,4,4,4,4,4,4,4,4,4,4,4,4,4,4,4,4,4,4,4,4,4,4,4,4,4,4,4,4,4,4,4,4,4,4,4,4,4,4,4,4,4,4,4,4,4,4,4,4,4,4,4,4,4,4,4,4,4,4,4,4,4,4,4,4,4,4,4,4,4,4,4,4,4,4,4,4,4,4,4,4,4,4,4,4,4,4,4,4,4,4,4,4,4,4,4,4,4,4,4,4,4,4,4,4,4,4,4,4,4,4,4,4,4,4,4,4,4,4,4,4,4,4,4,4,4,4,4,4,4,4,4,4,4,4,4,4,4,4,4,4,4,4,4,4,4,4,4,4,4,4,4,4,4,4,4,4,4,4,4,4,4,4,4,4,4,4,4,4,4,4,4,4,4,4,4,4,4,4,4,4,4,4,4,4,4,4,4,4,4,4,4,4,4,4,4,4,4,4,4,4,4,4,4,4,4,4,4,4,4,4,4,4,4,4,4,4,4,4,4,4,4,4,4,4,4,4,4,4,4,4,4,4,4,4,4,4,4,4,4,4,4,4,4,4,4,4,4,4,4,4,4,4,4,4,4,4,4,4,4,4,4,4,4,4,4,4,4,4,4,4,4,4,4,4,4,4,4,4,4,4,4,4,4,4,4,4,4,4,4,4,4,4,4,4,4,4,4,4,4,4,4,4,4,4,4,4,4,4,4,4,4,4,4,4,4,4,4,4,4,4,4,4,4,4,4,4,4,4,4,4,4,4,4,4,4,4,4,4,4,4,4,4,4,4,4,4,4,4,4,4,4,4,4,4,4,4,4,4,4,4,4,4,4,4,4,4,4,4,4,4,4,4,4,4,4,4,4,4,4,4,4,4,4,4,4,4,4,4,4,4,4,4,4,4,4,4,4,4,4,4,4,4,4,4,4,4,4,4,4,4,4,4,4,4,4,4,4,4,4,4,4,4,4,4,4,4,4,4,4,4,4,4,4,4,4,4,4,4,4,4,4,4,4,4,4,4,4,4,4,4,4,4,4,4,4,4,4,4,4,4,4,4,4,4,4,4,4,4,4,4,4,4,4,4,4,4,4,4,4,4,4,4,4,4,4,4,4,4,4,4,4,4,4,4,4,4,4,4,4,4,4,4,4,4,4,4,4,4,4,4,4,4,4,4,4,4,4,4,4,4,4,4,4,4,4,4,4,4,4,4,4,4,4,4,4,4,4,4,4,4,4,4,4,4,4,4,4,4,4,4,4,4,4,4,4,4,4,4,4,4,4,4,4,4,4,4,4,4,4,4,4,4,4,4,4,4,4,4,4,4,4,4,4,4,4,4,4,4,4,4,4,4,4,4,4,4,4,4,4,4,4,4,4,4,4,4,4,4,4,4,4,4,4,4,4,4,4,4,4,4,4,4,4,4,4,4,4,4,4,4,4,4,4,4,4,4,4,4,4,4,4,4,4,4,4,4,4,4,4,4,4,4,4,4,4,4,4,4,4,4,4,4,4,4,4,4,4,4,4,4,4,4,4,4,4,4,4,4,4,4,4,4,4,4,4,4,4,4,4,4,4,4,4,4,4,4,4,4,4,4,4,4,4,4,4,4,4,4,4,4,4,4,4,4,4,4,4,4,4,4,4,4,4,4,4,4,4,4,4,4,4,4,4,4,4,4,4,4,4,4,4,4,4,4,4,4,4,4,4,4,4,4,4,4,4,4,4,4,4,4,4,4,4,4,4,4,4,4,4,4,4,4,4,4,4,4],\"coloraxis\":\"coloraxis\"},\"mode\":\"markers\",\"name\":\"\",\"showlegend\":false,\"subplot\":\"mapbox\",\"type\":\"scattermapbox\"}],                        {\"template\":{\"data\":{\"histogram2dcontour\":[{\"type\":\"histogram2dcontour\",\"colorbar\":{\"outlinewidth\":0,\"ticks\":\"\"},\"colorscale\":[[0.0,\"#0d0887\"],[0.1111111111111111,\"#46039f\"],[0.2222222222222222,\"#7201a8\"],[0.3333333333333333,\"#9c179e\"],[0.4444444444444444,\"#bd3786\"],[0.5555555555555556,\"#d8576b\"],[0.6666666666666666,\"#ed7953\"],[0.7777777777777778,\"#fb9f3a\"],[0.8888888888888888,\"#fdca26\"],[1.0,\"#f0f921\"]]}],\"choropleth\":[{\"type\":\"choropleth\",\"colorbar\":{\"outlinewidth\":0,\"ticks\":\"\"}}],\"histogram2d\":[{\"type\":\"histogram2d\",\"colorbar\":{\"outlinewidth\":0,\"ticks\":\"\"},\"colorscale\":[[0.0,\"#0d0887\"],[0.1111111111111111,\"#46039f\"],[0.2222222222222222,\"#7201a8\"],[0.3333333333333333,\"#9c179e\"],[0.4444444444444444,\"#bd3786\"],[0.5555555555555556,\"#d8576b\"],[0.6666666666666666,\"#ed7953\"],[0.7777777777777778,\"#fb9f3a\"],[0.8888888888888888,\"#fdca26\"],[1.0,\"#f0f921\"]]}],\"heatmap\":[{\"type\":\"heatmap\",\"colorbar\":{\"outlinewidth\":0,\"ticks\":\"\"},\"colorscale\":[[0.0,\"#0d0887\"],[0.1111111111111111,\"#46039f\"],[0.2222222222222222,\"#7201a8\"],[0.3333333333333333,\"#9c179e\"],[0.4444444444444444,\"#bd3786\"],[0.5555555555555556,\"#d8576b\"],[0.6666666666666666,\"#ed7953\"],[0.7777777777777778,\"#fb9f3a\"],[0.8888888888888888,\"#fdca26\"],[1.0,\"#f0f921\"]]}],\"heatmapgl\":[{\"type\":\"heatmapgl\",\"colorbar\":{\"outlinewidth\":0,\"ticks\":\"\"},\"colorscale\":[[0.0,\"#0d0887\"],[0.1111111111111111,\"#46039f\"],[0.2222222222222222,\"#7201a8\"],[0.3333333333333333,\"#9c179e\"],[0.4444444444444444,\"#bd3786\"],[0.5555555555555556,\"#d8576b\"],[0.6666666666666666,\"#ed7953\"],[0.7777777777777778,\"#fb9f3a\"],[0.8888888888888888,\"#fdca26\"],[1.0,\"#f0f921\"]]}],\"contourcarpet\":[{\"type\":\"contourcarpet\",\"colorbar\":{\"outlinewidth\":0,\"ticks\":\"\"}}],\"contour\":[{\"type\":\"contour\",\"colorbar\":{\"outlinewidth\":0,\"ticks\":\"\"},\"colorscale\":[[0.0,\"#0d0887\"],[0.1111111111111111,\"#46039f\"],[0.2222222222222222,\"#7201a8\"],[0.3333333333333333,\"#9c179e\"],[0.4444444444444444,\"#bd3786\"],[0.5555555555555556,\"#d8576b\"],[0.6666666666666666,\"#ed7953\"],[0.7777777777777778,\"#fb9f3a\"],[0.8888888888888888,\"#fdca26\"],[1.0,\"#f0f921\"]]}],\"surface\":[{\"type\":\"surface\",\"colorbar\":{\"outlinewidth\":0,\"ticks\":\"\"},\"colorscale\":[[0.0,\"#0d0887\"],[0.1111111111111111,\"#46039f\"],[0.2222222222222222,\"#7201a8\"],[0.3333333333333333,\"#9c179e\"],[0.4444444444444444,\"#bd3786\"],[0.5555555555555556,\"#d8576b\"],[0.6666666666666666,\"#ed7953\"],[0.7777777777777778,\"#fb9f3a\"],[0.8888888888888888,\"#fdca26\"],[1.0,\"#f0f921\"]]}],\"mesh3d\":[{\"type\":\"mesh3d\",\"colorbar\":{\"outlinewidth\":0,\"ticks\":\"\"}}],\"scatter\":[{\"fillpattern\":{\"fillmode\":\"overlay\",\"size\":10,\"solidity\":0.2},\"type\":\"scatter\"}],\"parcoords\":[{\"type\":\"parcoords\",\"line\":{\"colorbar\":{\"outlinewidth\":0,\"ticks\":\"\"}}}],\"scatterpolargl\":[{\"type\":\"scatterpolargl\",\"marker\":{\"colorbar\":{\"outlinewidth\":0,\"ticks\":\"\"}}}],\"bar\":[{\"error_x\":{\"color\":\"#2a3f5f\"},\"error_y\":{\"color\":\"#2a3f5f\"},\"marker\":{\"line\":{\"color\":\"#E5ECF6\",\"width\":0.5},\"pattern\":{\"fillmode\":\"overlay\",\"size\":10,\"solidity\":0.2}},\"type\":\"bar\"}],\"scattergeo\":[{\"type\":\"scattergeo\",\"marker\":{\"colorbar\":{\"outlinewidth\":0,\"ticks\":\"\"}}}],\"scatterpolar\":[{\"type\":\"scatterpolar\",\"marker\":{\"colorbar\":{\"outlinewidth\":0,\"ticks\":\"\"}}}],\"histogram\":[{\"marker\":{\"pattern\":{\"fillmode\":\"overlay\",\"size\":10,\"solidity\":0.2}},\"type\":\"histogram\"}],\"scattergl\":[{\"type\":\"scattergl\",\"marker\":{\"colorbar\":{\"outlinewidth\":0,\"ticks\":\"\"}}}],\"scatter3d\":[{\"type\":\"scatter3d\",\"line\":{\"colorbar\":{\"outlinewidth\":0,\"ticks\":\"\"}},\"marker\":{\"colorbar\":{\"outlinewidth\":0,\"ticks\":\"\"}}}],\"scattermapbox\":[{\"type\":\"scattermapbox\",\"marker\":{\"colorbar\":{\"outlinewidth\":0,\"ticks\":\"\"}}}],\"scatterternary\":[{\"type\":\"scatterternary\",\"marker\":{\"colorbar\":{\"outlinewidth\":0,\"ticks\":\"\"}}}],\"scattercarpet\":[{\"type\":\"scattercarpet\",\"marker\":{\"colorbar\":{\"outlinewidth\":0,\"ticks\":\"\"}}}],\"carpet\":[{\"aaxis\":{\"endlinecolor\":\"#2a3f5f\",\"gridcolor\":\"white\",\"linecolor\":\"white\",\"minorgridcolor\":\"white\",\"startlinecolor\":\"#2a3f5f\"},\"baxis\":{\"endlinecolor\":\"#2a3f5f\",\"gridcolor\":\"white\",\"linecolor\":\"white\",\"minorgridcolor\":\"white\",\"startlinecolor\":\"#2a3f5f\"},\"type\":\"carpet\"}],\"table\":[{\"cells\":{\"fill\":{\"color\":\"#EBF0F8\"},\"line\":{\"color\":\"white\"}},\"header\":{\"fill\":{\"color\":\"#C8D4E3\"},\"line\":{\"color\":\"white\"}},\"type\":\"table\"}],\"barpolar\":[{\"marker\":{\"line\":{\"color\":\"#E5ECF6\",\"width\":0.5},\"pattern\":{\"fillmode\":\"overlay\",\"size\":10,\"solidity\":0.2}},\"type\":\"barpolar\"}],\"pie\":[{\"automargin\":true,\"type\":\"pie\"}]},\"layout\":{\"autotypenumbers\":\"strict\",\"colorway\":[\"#636efa\",\"#EF553B\",\"#00cc96\",\"#ab63fa\",\"#FFA15A\",\"#19d3f3\",\"#FF6692\",\"#B6E880\",\"#FF97FF\",\"#FECB52\"],\"font\":{\"color\":\"#2a3f5f\"},\"hovermode\":\"closest\",\"hoverlabel\":{\"align\":\"left\"},\"paper_bgcolor\":\"white\",\"plot_bgcolor\":\"#E5ECF6\",\"polar\":{\"bgcolor\":\"#E5ECF6\",\"angularaxis\":{\"gridcolor\":\"white\",\"linecolor\":\"white\",\"ticks\":\"\"},\"radialaxis\":{\"gridcolor\":\"white\",\"linecolor\":\"white\",\"ticks\":\"\"}},\"ternary\":{\"bgcolor\":\"#E5ECF6\",\"aaxis\":{\"gridcolor\":\"white\",\"linecolor\":\"white\",\"ticks\":\"\"},\"baxis\":{\"gridcolor\":\"white\",\"linecolor\":\"white\",\"ticks\":\"\"},\"caxis\":{\"gridcolor\":\"white\",\"linecolor\":\"white\",\"ticks\":\"\"}},\"coloraxis\":{\"colorbar\":{\"outlinewidth\":0,\"ticks\":\"\"}},\"colorscale\":{\"sequential\":[[0.0,\"#0d0887\"],[0.1111111111111111,\"#46039f\"],[0.2222222222222222,\"#7201a8\"],[0.3333333333333333,\"#9c179e\"],[0.4444444444444444,\"#bd3786\"],[0.5555555555555556,\"#d8576b\"],[0.6666666666666666,\"#ed7953\"],[0.7777777777777778,\"#fb9f3a\"],[0.8888888888888888,\"#fdca26\"],[1.0,\"#f0f921\"]],\"sequentialminus\":[[0.0,\"#0d0887\"],[0.1111111111111111,\"#46039f\"],[0.2222222222222222,\"#7201a8\"],[0.3333333333333333,\"#9c179e\"],[0.4444444444444444,\"#bd3786\"],[0.5555555555555556,\"#d8576b\"],[0.6666666666666666,\"#ed7953\"],[0.7777777777777778,\"#fb9f3a\"],[0.8888888888888888,\"#fdca26\"],[1.0,\"#f0f921\"]],\"diverging\":[[0,\"#8e0152\"],[0.1,\"#c51b7d\"],[0.2,\"#de77ae\"],[0.3,\"#f1b6da\"],[0.4,\"#fde0ef\"],[0.5,\"#f7f7f7\"],[0.6,\"#e6f5d0\"],[0.7,\"#b8e186\"],[0.8,\"#7fbc41\"],[0.9,\"#4d9221\"],[1,\"#276419\"]]},\"xaxis\":{\"gridcolor\":\"white\",\"linecolor\":\"white\",\"ticks\":\"\",\"title\":{\"standoff\":15},\"zerolinecolor\":\"white\",\"automargin\":true,\"zerolinewidth\":2},\"yaxis\":{\"gridcolor\":\"white\",\"linecolor\":\"white\",\"ticks\":\"\",\"title\":{\"standoff\":15},\"zerolinecolor\":\"white\",\"automargin\":true,\"zerolinewidth\":2},\"scene\":{\"xaxis\":{\"backgroundcolor\":\"#E5ECF6\",\"gridcolor\":\"white\",\"linecolor\":\"white\",\"showbackground\":true,\"ticks\":\"\",\"zerolinecolor\":\"white\",\"gridwidth\":2},\"yaxis\":{\"backgroundcolor\":\"#E5ECF6\",\"gridcolor\":\"white\",\"linecolor\":\"white\",\"showbackground\":true,\"ticks\":\"\",\"zerolinecolor\":\"white\",\"gridwidth\":2},\"zaxis\":{\"backgroundcolor\":\"#E5ECF6\",\"gridcolor\":\"white\",\"linecolor\":\"white\",\"showbackground\":true,\"ticks\":\"\",\"zerolinecolor\":\"white\",\"gridwidth\":2}},\"shapedefaults\":{\"line\":{\"color\":\"#2a3f5f\"}},\"annotationdefaults\":{\"arrowcolor\":\"#2a3f5f\",\"arrowhead\":0,\"arrowwidth\":1},\"geo\":{\"bgcolor\":\"white\",\"landcolor\":\"#E5ECF6\",\"subunitcolor\":\"white\",\"showland\":true,\"showlakes\":true,\"lakecolor\":\"white\"},\"title\":{\"x\":0.05},\"mapbox\":{\"style\":\"light\"}}},\"mapbox\":{\"domain\":{\"x\":[0.0,1.0],\"y\":[0.0,1.0]},\"center\":{\"lat\":36.366390878991595,\"lon\":-119.87218649831932},\"zoom\":8,\"style\":\"open-street-map\"},\"coloraxis\":{\"colorbar\":{\"title\":{\"text\":\"count\"}},\"colorscale\":[[0.0,\"#0d0887\"],[0.1111111111111111,\"#46039f\"],[0.2222222222222222,\"#7201a8\"],[0.3333333333333333,\"#9c179e\"],[0.4444444444444444,\"#bd3786\"],[0.5555555555555556,\"#d8576b\"],[0.6666666666666666,\"#ed7953\"],[0.7777777777777778,\"#fb9f3a\"],[0.8888888888888888,\"#fdca26\"],[1.0,\"#f0f921\"]]},\"legend\":{\"tracegroupgap\":0},\"margin\":{\"t\":60}},                        {\"responsive\": true}                    ).then(function(){\n",
       "                            \n",
       "var gd = document.getElementById('6fda1bef-96a7-4a3c-bccb-be539d3e27e0');\n",
       "var x = new MutationObserver(function (mutations, observer) {{\n",
       "        var display = window.getComputedStyle(gd).display;\n",
       "        if (!display || display === 'none') {{\n",
       "            console.log([gd, 'removed!']);\n",
       "            Plotly.purge(gd);\n",
       "            observer.disconnect();\n",
       "        }}\n",
       "}});\n",
       "\n",
       "// Listen for the removal of the full notebook cells\n",
       "var notebookContainer = gd.closest('#notebook-container');\n",
       "if (notebookContainer) {{\n",
       "    x.observe(notebookContainer, {childList: true});\n",
       "}}\n",
       "\n",
       "// Listen for the clearing of the current output cell\n",
       "var outputEl = gd.closest('.output');\n",
       "if (outputEl) {{\n",
       "    x.observe(outputEl, {childList: true});\n",
       "}}\n",
       "\n",
       "                        })                };                });            </script>        </div>"
      ]
     },
     "metadata": {},
     "output_type": "display_data"
    }
   ],
   "source": [
    "fig = px.scatter_mapbox(loc_ChurnLabel,\n",
    "                        lat=\"Latitude\", lon='Longitude',\n",
    "                        hover_data= ['count'], mapbox_style='open-street-map',\n",
    "                        color=\"count\"\n",
    "        )\n",
    "fig.show()"
   ]
  },
  {
   "cell_type": "code",
   "execution_count": 22,
   "id": "9305ac68",
   "metadata": {
    "execution": {
     "iopub.execute_input": "2023-11-14T14:42:27.807073Z",
     "iopub.status.busy": "2023-11-14T14:42:27.806681Z",
     "iopub.status.idle": "2023-11-14T14:42:27.862232Z",
     "shell.execute_reply": "2023-11-14T14:42:27.861354Z"
    },
    "papermill": {
     "duration": 0.077272,
     "end_time": "2023-11-14T14:42:27.864271",
     "exception": false,
     "start_time": "2023-11-14T14:42:27.786999",
     "status": "completed"
    },
    "tags": []
   },
   "outputs": [
    {
     "data": {
      "text/html": [
       "<div>                            <div id=\"996f5b8e-bb55-420b-86f1-146aa29c988d\" class=\"plotly-graph-div\" style=\"height:525px; width:100%;\"></div>            <script type=\"text/javascript\">                require([\"plotly\"], function(Plotly) {                    window.PLOTLYENV=window.PLOTLYENV || {};                                    if (document.getElementById(\"996f5b8e-bb55-420b-86f1-146aa29c988d\")) {                    Plotly.newPlot(                        \"996f5b8e-bb55-420b-86f1-146aa29c988d\",                        [{\"customdata\":[[0.2],[0.6],[0.2],[0.2],[0.2],[0.2],[0.2],[0.4],[0.4],[0.4],[0.2],[0.2],[0.2],[0.4],[0.2],[0.2],[0.4],[0.8],[0.4],[0.4],[0.2],[0.2],[0.2],[0.4],[0.2],[0.4],[0.2],[0.2],[0.4],[0.2],[0.2],[0.4],[0.4],[0.2],[0.6],[0.4],[0.4],[0.2],[0.4],[0.2],[0.2],[1.0],[0.6],[0.2],[0.6],[0.2],[0.6],[0.2],[0.2],[0.6],[0.4],[0.2],[0.4],[0.2],[0.2],[0.2],[0.2],[0.2],[0.2],[0.2],[0.4],[0.2],[0.2],[0.4],[0.2],[0.2],[0.6],[0.4],[0.2],[0.2],[0.2],[0.2],[0.6],[0.2],[0.4],[0.4],[0.2],[0.2],[0.4],[0.2],[0.6],[0.4],[0.4],[0.4],[0.2],[0.2],[0.4],[0.2],[0.4],[0.4],[0.6],[0.2],[0.6],[0.6],[0.6],[0.2],[0.2],[0.4],[0.4],[0.4],[0.2],[0.2],[0.6],[0.4],[0.2],[0.2],[0.2],[0.2],[0.2],[0.2],[0.2],[0.4],[0.8],[0.2],[0.2],[0.2],[0.8],[0.4],[0.4],[0.2],[0.2],[0.2],[0.2],[0.6],[0.2],[0.4],[0.2],[0.6],[0.4],[0.4],[0.2],[0.4],[0.4],[0.2],[0.2],[0.8],[0.4],[0.4],[0.2],[0.2],[0.4],[0.4],[0.2],[0.4],[0.4],[0.2],[0.2],[0.6],[0.2],[0.2],[0.2],[0.2],[0.2],[0.2],[0.2],[0.4],[0.2],[0.6],[0.4],[0.2],[0.4],[0.4],[0.4],[0.2],[0.4],[0.2],[0.4],[0.4],[0.2],[0.4],[0.8],[0.2],[0.8],[0.4],[0.2],[0.4],[0.4],[0.4],[0.2],[0.2],[0.2],[0.2],[0.4],[0.2],[0.8],[0.2],[0.4],[0.4],[0.4],[0.2],[0.2],[0.6],[0.6],[0.4],[0.4],[0.2],[0.2],[0.2],[0.6],[0.2],[0.4],[0.4],[0.2],[0.4],[0.2],[0.4],[0.2],[0.2],[0.4],[0.2],[0.4],[0.4],[0.2],[0.2],[0.4],[0.2],[0.2],[0.4],[0.4],[0.2],[0.4],[0.4],[0.2],[0.2],[0.4],[0.2],[0.2],[0.2],[0.4],[0.2],[0.4],[0.6],[0.4],[0.2],[0.2],[0.4],[0.2],[0.2],[0.4],[0.8],[0.4],[0.6],[0.6],[0.6],[0.4],[0.4],[0.4],[0.2],[0.4],[0.4],[0.6],[0.6],[0.4],[0.2],[0.2],[0.4],[0.4],[0.8],[0.4],[0.4],[0.2],[0.2],[0.6],[0.2],[0.2],[0.4],[0.4],[0.8],[0.4],[0.6],[0.6],[0.6],[0.2],[0.4],[0.4],[0.2],[0.2],[0.2],[0.2],[0.4],[0.2],[0.6],[0.6],[0.2],[0.4],[0.2],[0.4],[0.6],[0.4],[0.2],[0.2],[0.4],[0.2],[0.6],[0.2],[0.6],[0.2],[0.6],[0.2],[0.2],[0.2],[0.2],[0.4],[0.4],[0.8],[0.2],[0.2],[0.2],[0.4],[0.4],[0.4],[0.2],[0.4],[0.4],[0.4],[0.4],[0.2],[0.4],[0.2],[0.8],[0.4],[0.4],[0.4],[0.2],[0.2],[0.2],[0.4],[0.6],[0.2],[0.2],[0.4],[0.4],[0.2],[0.4],[0.4],[0.6],[0.2],[0.2],[0.2],[0.6],[0.4],[0.2],[0.25],[0.75],[0.25],[0.5],[0.5],[0.25],[0.25],[0.25],[0.5],[0.25],[0.25],[0.25],[0.5],[0.25],[0.75],[0.25],[0.75],[0.25],[0.5],[0.25],[0.25],[0.5],[0.5],[0.5],[0.5],[0.25],[0.25],[0.5],[0.75],[0.25],[0.75],[0.25],[0.25],[0.25],[0.25],[0.25],[0.5],[0.5],[0.25],[0.5],[1.0],[0.5],[0.5],[0.5],[0.25],[0.25],[0.5],[0.5],[0.25],[0.25],[0.25],[0.5],[0.25],[0.25],[0.25],[0.75],[0.25],[0.5],[0.5],[0.25],[0.25],[0.5],[0.5],[0.5],[0.25],[0.75],[0.5],[0.25],[0.5],[0.25],[0.25],[0.5],[0.5],[0.25],[0.5],[0.25],[0.25],[0.25],[0.25],[0.5],[0.25],[0.25],[0.5],[0.25],[0.5],[0.25],[0.25],[0.25],[0.5],[0.25],[0.25],[0.25],[0.5],[0.5],[0.25],[0.5],[0.25],[0.25],[0.75],[0.25],[0.25],[0.5],[0.5],[0.25],[0.25],[0.25],[0.25],[0.25],[0.25],[0.5],[0.25],[0.25],[0.5],[0.25],[0.25],[0.25],[0.25],[0.25],[0.25],[0.25],[0.25],[0.5],[0.25],[0.25],[0.5],[0.25],[0.25],[0.25],[0.25],[0.5],[0.75],[0.25],[0.25],[0.5],[0.25],[0.25],[0.5],[0.5],[0.5],[0.25],[0.25],[0.25],[0.5],[0.5],[0.25],[0.5],[0.25],[0.5],[0.75],[0.5],[0.5],[0.75],[0.5],[0.25],[0.5],[0.5],[0.5],[0.25],[0.25],[0.5],[0.5],[0.5],[0.25],[0.5],[0.25],[0.25],[0.25],[0.25],[0.5],[0.25],[0.5],[0.75],[0.25],[0.25],[0.25],[0.25],[0.25],[0.5],[0.25],[0.25],[0.25],[0.25],[0.5],[0.25],[0.25],[0.25],[0.5],[0.25],[0.5],[0.5],[0.25],[0.5],[0.25],[0.25],[0.5],[0.5],[0.5],[0.25],[0.25],[0.25],[0.25],[0.25],[0.75],[0.5],[0.5],[0.5],[0.25],[0.25],[0.5],[0.75],[0.5],[0.25],[0.5],[0.5],[1.0],[0.25],[0.25],[0.25],[0.25],[0.25],[0.25],[0.25],[0.5],[0.25],[0.25],[0.5],[0.25],[0.5],[0.5],[0.25],[0.25],[0.5],[0.25],[0.25],[0.25],[0.5],[0.25],[0.5],[0.75],[0.25],[1.0],[0.25],[0.75],[0.25],[0.25],[0.75],[0.25],[0.5],[0.25],[0.75],[0.25],[0.5],[0.25],[0.25],[0.25],[1.0],[0.25],[0.5],[0.5],[0.25],[0.5],[0.5],[0.75],[0.25],[0.25],[0.25],[0.5],[0.75],[0.25],[0.25],[0.25],[0.5],[0.5],[0.5],[0.5],[0.5],[0.75],[0.25],[0.25],[0.25],[0.25],[0.25],[0.25],[0.25],[0.25],[0.25],[0.75],[0.25],[0.75],[0.5],[0.25],[0.25],[0.5],[0.5],[0.5],[0.25],[0.25],[0.25],[0.25],[0.25],[0.25],[0.25],[0.25],[0.5],[0.25],[0.25],[0.25],[0.5],[0.25],[0.5],[0.5],[0.25],[0.75],[0.25],[0.25],[0.75],[0.25],[0.25],[0.5],[0.25],[0.25],[0.25],[1.0],[0.5],[0.5],[0.25],[0.25],[0.5],[0.25],[0.25],[0.25],[0.5],[0.5],[0.25],[0.75],[0.75],[0.5],[0.5],[0.5],[0.25],[0.25],[0.25],[0.25],[0.25],[0.25],[0.25],[0.25],[0.25],[0.25],[0.25],[0.25],[0.5],[0.25],[0.25],[0.25],[0.5],[0.25],[0.25],[0.25],[0.25],[0.25],[0.25],[0.5],[0.5],[0.5],[0.25],[0.25],[0.25],[0.5],[0.5],[0.5],[0.25],[0.5],[0.5],[0.5],[0.5],[0.25],[0.25],[0.25],[0.25],[0.5],[0.5],[0.25],[0.25],[0.25],[0.5],[0.25],[0.25],[0.5],[0.75],[0.5],[0.5],[0.25],[0.25],[0.25],[0.25],[0.5],[0.25],[1.0],[0.5],[0.5],[0.25],[0.25],[0.25],[0.25],[0.25],[0.25],[0.5],[0.25],[0.5],[0.25],[0.25],[0.75],[0.5],[0.25],[0.25],[0.25],[0.5],[0.25],[0.25],[0.25],[0.5],[0.5],[0.5],[0.25],[0.5],[0.25],[0.25],[0.25],[0.75],[0.5],[0.25],[0.25],[0.5],[0.25],[0.5],[0.75],[0.5],[0.25],[1.0],[0.5],[0.75],[0.5],[0.25],[0.25],[0.25],[0.5],[0.25],[0.25],[0.25],[0.25],[0.25],[0.5],[0.25],[0.5],[0.5],[0.25],[0.25],[0.25],[0.5],[0.5],[0.5],[0.5],[1.0],[0.5],[0.25],[0.5],[0.25],[0.5],[0.75],[0.75],[1.0],[0.25],[0.5],[0.25],[0.75],[0.25],[0.25],[0.25],[0.25],[0.75],[0.5],[0.25],[0.5],[0.25],[0.5],[0.5],[0.5],[0.25],[0.5],[0.5],[0.25],[0.25],[0.25],[0.25],[0.25],[0.75],[0.75],[0.25],[0.5],[0.25],[0.5],[0.25],[0.75],[0.5],[0.5],[0.75],[0.25],[0.25],[0.25],[0.5],[0.5],[0.25],[0.5],[0.25],[0.5],[0.5],[0.75],[0.25],[0.5],[0.25],[0.25],[0.25],[0.25],[1.0],[0.25],[0.5],[0.25],[0.25],[0.25],[0.75],[0.5],[0.25],[0.5],[0.5],[0.25],[0.25],[0.25],[0.5],[0.5],[0.5],[0.25],[0.25],[0.25],[0.25],[0.25],[0.25],[0.25],[0.5],[0.25],[0.25],[0.25],[0.5],[0.25],[0.5],[0.25],[0.25],[0.25],[0.25],[0.75],[0.25],[0.5],[0.5],[0.25],[0.5],[0.5],[0.5],[0.25],[0.25],[0.5],[0.5],[0.5],[0.25],[0.25],[0.25],[0.25],[0.25],[0.5],[0.25],[0.25],[0.25],[0.5],[0.25],[0.25],[0.25],[0.25],[0.5],[0.25],[0.5],[0.5],[0.25],[0.25],[0.25],[0.5],[0.5],[0.5],[0.5],[0.25],[0.5],[0.25],[0.25],[0.25],[0.25],[0.25],[0.25],[0.5],[0.25],[0.25],[0.75],[0.5],[0.5],[0.25],[0.25],[0.25],[0.25],[0.25],[0.25],[0.25],[0.25],[0.25],[0.5],[0.25],[0.5],[0.25],[0.5],[0.25],[0.25],[0.25],[0.5],[0.25],[0.5],[0.5],[0.25],[0.5],[0.25],[0.5],[0.25],[1.0],[0.25],[0.25],[0.25],[0.5],[0.25],[0.25],[0.25],[0.5],[0.25],[0.25],[0.75],[0.25],[0.25],[0.25],[0.25],[0.25],[0.5],[0.25],[0.25],[0.25],[0.25],[0.25],[0.25],[0.25],[0.25],[0.5],[0.5],[0.5],[0.75],[0.25],[0.5],[0.5],[0.5],[0.25],[0.25],[0.25],[0.5],[0.25],[0.25],[0.25],[0.25],[0.25],[0.5],[0.5],[0.5],[0.25],[0.25],[0.25],[0.75],[0.25],[0.5],[0.75],[0.25],[0.5],[0.25],[0.25],[0.5],[0.25],[0.75],[0.5],[0.25],[0.25],[0.25],[0.25],[0.5],[0.25],[1.0],[0.5],[0.25],[0.25],[0.5],[0.5],[0.25],[0.5],[1.0],[0.5],[0.25],[0.5],[0.25],[0.25],[0.25],[0.25],[0.5],[0.5],[0.25],[0.5],[0.5],[0.75],[0.5],[0.25],[0.25],[0.5],[0.25],[0.5],[0.25],[0.5],[0.5],[0.5],[0.25],[0.25],[0.5],[0.25],[0.25],[0.25],[0.25],[0.5],[0.25],[0.25],[0.25],[0.75],[0.25],[0.5],[0.25],[0.25],[0.25],[0.25],[0.5],[0.25],[0.25],[0.25],[0.25],[0.25],[0.5],[0.5],[0.25],[0.5],[0.25],[0.75],[0.25],[0.5],[0.25],[0.25],[0.5],[0.25],[0.25],[0.5],[0.25],[0.25],[0.25],[0.5],[0.25],[0.5],[0.25],[0.25],[0.25],[0.25],[0.75],[0.25],[0.5],[0.5],[0.5],[0.25],[0.5],[0.25],[0.25],[0.25],[0.25],[0.25],[0.25],[0.75],[0.25],[0.25],[0.25],[0.25],[0.25],[0.25],[0.25],[0.25],[0.5],[0.25],[0.5],[1.0],[0.25],[0.25],[0.25],[0.5],[0.5],[0.25],[0.5],[0.25],[0.25],[0.25],[0.5],[0.5],[0.25],[0.5],[1.0],[0.25],[0.25],[0.25],[0.25],[0.25],[0.75],[0.5],[0.25],[0.5],[0.25],[0.25],[0.25],[0.25],[0.25],[0.25],[0.25],[0.25],[0.25],[0.25],[0.25],[0.75],[0.25],[0.25]],\"hovertemplate\":\"Latitude=%{lat}\\u003cbr\\u003eLongitude=%{lon}\\u003cbr\\u003echurn_rate=%{marker.color}\\u003cextra\\u003e\\u003c\\u002fextra\\u003e\",\"lat\":[32.555828,34.038983,34.050198,34.049841,34.048013,34.04622,34.046174,34.044639,34.044271,34.043144,34.042286,34.039224,34.037037,34.052842,34.035849,34.035602,34.031529,34.031441,34.028331,34.027337,34.024405,34.02381,34.019323,34.018354,34.050322,34.052917,34.015217,34.070291,34.079449,34.078991,34.078821,34.076259,34.074736,34.074572,34.074492,34.074087,34.072945,34.072121,34.067932,34.057256,34.066964,34.066367,34.066303,34.065875,34.065108,34.063947,34.062125,34.061918,34.061634,34.059281,34.017697,34.00709,33.885811,33.933565,33.952714,33.949255,33.948558,33.946982,33.945318,33.940884,33.940619,33.936827,33.936298,33.936291,33.929812,33.956228,33.927254,33.923573,33.921793,33.92128,33.917145,33.914775,33.906496,33.897122,33.889605,33.88856,33.954017,33.956445,34.005439,33.988543,34.003553,34.002642,34.002028,34.001617,33.999992,33.998471,33.993991,33.991782,33.990646,33.989524,33.987945,33.958149,33.97803,33.977468,33.976753,33.976678,33.975332,33.973616,33.972293,33.972119,33.964131,33.960891,34.079934,34.083086,34.084747,34.209532,34.238802,34.238208,34.236683,34.234912,34.231053,34.224377,34.223768,34.214054,34.213049,34.2112,34.207295,34.255442,34.200175,34.19829,34.196837,34.195386,34.191842,34.188339,34.187599,34.182378,34.178483,34.17847,34.245289,34.264124,34.085807,34.422519,32.578103,34.667815,34.559882,34.55082,34.506627,34.502432,34.457829,34.457005,34.43987,34.424926,34.370378,34.266389,34.364153,34.341737,34.321621,34.296574,34.294142,34.291273,34.286131,34.282704,34.281911,34.273872,34.178068,34.177267,34.174493,34.110444,34.129058,34.128284,34.127621,34.127194,34.122671,34.119363,34.11572,34.115192,34.114772,34.110845,34.108833,34.17211,34.102119,34.10097,34.099869,34.097345,34.093781,34.091829,34.090925,34.089953,34.089927,34.088017,34.130992,34.133809,34.136306,34.13658,34.1692,34.168686,34.167926,34.1678,34.167465,34.167236,34.165783,34.162515,34.159007,34.157137,34.153338,34.1528,34.150354,34.147149,34.146957,34.14649,34.145695,34.13946,34.139402,34.137412,34.137411,33.887676,34.165383,33.000269,33.098018,33.215251,33.200369,33.194742,33.17494,33.162624,33.148116,33.143826,33.141265,33.119028,32.68674,33.22784,33.079834,33.054579,33.044541,33.03933,33.03679,33.017518,33.015866,32.688506,33.001813,33.21846,33.25283,33.713891,32.67117,33.680031,33.674583,32.605012,32.726627,32.622999,32.636792,33.537646,33.53604,32.649787,32.673483,33.254497,32.677097,33.391181,33.384345,32.677716,33.362575,33.345825,33.313828,33.309852,33.290907,32.99356,32.984395,32.980678,32.697098,32.790282,32.695681,32.787836,32.785165,32.782501,32.774046,32.770393,32.765299,32.76501,32.698964,32.961064,32.762506,32.747484,32.741859,32.741499,32.707892,32.730583,32.71346,32.716007,32.72523,32.79697,32.802959,32.805518,32.807867,32.957195,32.948262,32.909873,32.898613,32.886925,32.858595,32.857946,32.85723,32.853743,32.852947,32.847336,32.832706,32.830852,32.827238,32.827184,32.825086,32.811001,32.808814,32.690654,33.695532,32.730264,33.783047,33.847755,33.840524,33.736387,33.840399,33.744119,33.839989,33.798266,33.833699,33.745746,33.833181,33.832799,33.752524,33.75462,33.830453,32.579134,33.830431,33.762759,33.830099,33.763678,33.823943,33.771612,33.778436,33.781086,33.822295,33.819814,33.807882,33.801869,33.794209,33.845706,33.79499,33.867257,33.719221,33.850504,33.864622,33.849263,33.876482,33.86532,33.874224,33.8681,38.631489,38.672708,38.674276,38.683605,38.685069,38.592745,38.687367,38.602723,38.591134,38.688764,38.240769,38.590035,38.244806,38.585826,38.689174,38.691607,38.200231,38.208336,38.608405,38.618347,38.625096,38.626128,38.672638,38.224869,38.240419,38.233879,38.232389,38.652065,38.646096,38.227285,38.636102,38.636052,38.63153,38.629618,38.475465,38.584505,38.581354,38.493888,38.34719,38.489789,38.348884,38.349195,38.35363,38.358464,38.368744,38.375325,38.489273,38.384648,38.392559,38.488431,38.392821,38.394091,38.400264,38.419088,38.41935,38.431407,38.432145,38.434138,38.486938,38.486502,38.434362,38.439696,38.460517,38.468893,38.339996,38.336216,38.494832,38.542532,38.578604,38.567594,38.556306,38.470423,38.554383,38.550722,38.549822,38.549185,38.25485,38.264262,38.546999,38.544002,38.542448,38.505995,38.265899,38.53508,38.526941,38.52576,38.522328,38.274451,38.287136,38.313447,38.517295,38.32153,38.508735,38.326215,38.377165,40.448632,38.192608,37.84551,37.848641,37.858898,37.862128,37.863843,37.871416,37.872902,37.873283,37.873916,37.878554,37.881842,37.890145,37.890274,37.897743,37.897753,37.900662,37.901371,37.902422,37.902968,37.907777,37.916648,37.921034,37.921137,37.924014,37.937082,37.939768,37.84771,37.83726,37.943087,37.834341,37.766556,37.768881,37.770533,37.776523,37.776718,37.7795,37.785033,37.786031,37.787186,37.789168,37.791222,37.791998,37.792489,37.794487,37.797526,37.800254,37.803883,37.80707,37.80821,37.815459,37.818589,37.820894,37.827946,37.828416,37.83323,37.941456,37.945288,38.184914,38.049457,38.055562,38.060264,38.065359,38.067204,38.071327,38.085839,38.099323,38.104705,38.109125,38.112166,38.69508,38.121601,38.123544,38.128087,38.129308,38.135897,38.140719,38.147852,38.148862,38.154823,38.156971,38.157794,38.161321,38.166791,38.169605,38.052209,38.049292,37.946617,38.047746,37.95338,37.959706,37.963995,37.971421,37.972662,37.974498,37.980057,37.980269,37.990118,37.990574,37.99272,37.996462,37.999406,38.002125,38.005839,38.006047,38.010092,38.013825,38.014457,38.018065,38.027218,38.029729,38.033219,38.035707,38.044523,38.694081,39.23754,38.696659,40.965011,41.5837,41.572813,41.528541,41.486953,41.468877,41.444606,41.405193,41.388397,41.280341,41.266008,41.212695,41.171578,41.163637,41.162295,41.121108,41.10831,40.077028,41.096569,41.083464,40.080342,41.082472,41.081847,41.027281,41.701223,41.729079,41.750354,40.022184,39.84784,39.884395,39.913777,39.933852,37.758085,39.937017,39.955164,39.955587,39.971228,40.012675,40.053159,40.059385,40.053684,40.057784,41.950683,41.949216,41.932207,41.924174,41.867908,41.831901,41.816595,41.759864,41.017282,40.142256,39.806141,40.946785,40.656287,40.637105,40.617614,40.587919,40.271535,40.586588,40.582399,40.559177,40.557314,40.547857,40.274302,40.331975,40.336392,40.342928,40.343213,40.345949,40.527834,40.367964,40.524535,40.372532,40.497441,40.485849,40.408796,40.267158,40.665952,40.689243,40.171312,40.94338,40.936285,40.166028,40.923558,40.89866,40.883853,40.170357,40.854512,40.845738,40.825486,40.809636,40.692523,40.796621,40.789799,40.7666,40.759401,40.186772,40.737431,40.210895,40.726949,40.722733,40.704293,39.83307,39.786755,38.715498,39.108252,38.888351,38.911299,38.911577,38.921333,38.931425,38.93706,38.954144,38.965804,38.982373,38.983388,38.984756,38.99003,39.003358,39.00978,39.033058,39.043387,39.061227,39.07116,39.075694,39.080469,39.082568,39.084645,39.094102,38.883224,38.880622,38.875508,38.788898,38.71967,38.724322,38.731055,38.733908,38.734997,38.736685,38.748316,38.749466,38.759751,38.766036,38.801936,38.859093,38.803731,38.809175,38.809804,38.815515,38.830739,38.833554,38.838088,38.848082,38.851842,38.852544,39.099204,39.117018,39.783747,39.117537,39.381174,39.396585,39.424957,39.432127,39.435756,39.440687,39.449794,39.461768,39.473896,39.493991,39.531028,39.53222,39.559709,39.562239,39.578792,39.58458,39.600599,39.681488,39.710591,39.724433,39.732767,39.745712,39.748037,39.361283,39.346898,39.342498,39.227434,39.12334,39.125311,39.134075,39.141934,39.172777,39.178337,39.182916,39.197215,39.222323,39.225634,40.4785,39.333737,39.239818,39.24124,39.246654,39.258746,39.273096,39.279068,39.281194,39.292334,39.298065,39.305545,37.760412,36.625114,37.750021,34.508417,34.557711,34.567058,34.581308,34.598221,34.601055,34.613476,34.624399,34.631362,34.647959,34.659579,34.702766,34.712708,34.727529,34.737031,34.741406,34.757477,34.758699,34.845861,34.866032,34.875144,34.89326,34.903052,34.907911,34.536232,34.486835,37.746699,34.457541,34.243088,34.244411,34.248061,34.255203,34.269449,34.274846,34.278967,34.279221,34.297628,34.312945,34.358321,34.360261,34.39583,34.402343,34.404544,34.419203,34.420998,34.432843,34.437945,34.438581,34.441123,34.441398,34.445239,34.936,34.956577,34.95703,34.965648,35.536115,35.603913,35.652242,35.676978,35.690535,35.710244,35.74837,35.772244,35.809921,35.824572,35.842889,35.846067,35.852892,35.858054,35.861928,35.865795,35.869626,35.916943,35.924252,35.930782,35.939068,35.989792,36.008958,35.523991,35.490705,35.451402,35.214982,34.966777,34.983808,35.013299,35.050345,35.059695,35.073777,35.097323,35.16207,35.165668,35.184837,35.215731,35.449881,35.233745,35.236549,35.279984,35.28952,35.358953,35.363339,35.369553,35.38381,35.392599,35.405722,34.238162,34.227846,34.223244,33.787298,33.679659,33.698728,33.69887,33.703976,33.705836,33.707483,33.714829,33.716136,33.720359,33.723579,33.735802,33.739415,33.744439,33.748478,33.755039,33.761894,33.762351,33.764018,33.765893,33.766004,33.766476,33.782346,33.782955,33.678591,33.666301,33.655421,33.600987,33.458754,33.475493,33.477923,33.482243,33.507255,33.527605,33.540604,33.569186,33.570023,33.581045,33.601309,33.645672,33.603282,33.606336,33.60693,33.62251,33.624654,33.631119,33.634626,33.643095,33.644585,33.644849,33.786738,33.787796,34.205504,33.792791,33.970661,33.982787,34.003243,34.004379,34.030915,34.037342,34.04597,34.049671,34.059722,34.064073,34.084909,34.103578,34.105935,34.106922,34.110124,34.122501,34.129677,34.136367,34.142747,34.156758,34.183286,34.18454,34.186211,33.930931,33.930199,33.925833,33.850452,33.796568,33.806708,33.818,33.819385,33.82769,33.828289,33.828779,33.830209,33.83796,33.848733,33.877639,33.924143,33.879983,33.881158,33.88274,33.884073,33.885499,33.888323,33.890046,33.897253,33.907361,33.920907,36.041315,36.04533,36.047414,37.509366,37.393554,37.394411,37.40122,37.410236,37.410567,37.416159,37.419725,37.421299,37.421633,37.422961,37.424655,37.42765,37.435664,37.441931,37.449537,37.454924,37.45567,37.45809,37.458367,37.461251,37.4695,37.474396,37.499411,37.387027,37.386978,37.380662,37.329725,37.28682,37.294926,37.304681,37.305622,37.306612,37.311088,37.316146,37.316807,37.321233,37.327069,37.333851,37.378541,37.343827,37.343846,37.34667,37.350284,37.351214,37.352911,37.361987,37.369709,37.375156,37.375816,37.505768,37.516791,37.279689,37.521708,37.656695,37.666587,37.669516,37.670526,37.671806,37.672906,37.674002,37.676249,37.680844,37.684694,37.685052,37.687264,37.691561,37.704267,37.708327,37.713152,37.713926,37.716186,37.720498,37.722302,37.734971,37.736535,37.739113,37.654436,37.653947,37.648647,37.590421,37.524721,37.526791,37.529656,37.538309,37.546007,37.555473,37.556634,37.57028,37.571748,37.587494,37.5923,37.639215,37.59485,37.601248,37.605926,37.609095,37.612612,37.621458,37.624436,37.62984,37.633361,37.639029,37.284265,37.277592,36.057458,36.727418,36.497895,36.520537,36.523619,36.527243,36.545322,36.554618,36.587497,36.590415,36.596271,36.600185,36.600193,36.618337,36.622237,36.624338,36.625792,36.635661,36.64152,36.64545,36.654614,36.687292,36.689582,36.696759,36.719141,36.488056,36.478239,36.462671,36.296851,36.092975,36.125529,36.141319,36.175255,36.185471,36.186867,36.205465,36.217864,36.220761,36.248708,36.29878,36.460611,36.301689,36.303666,36.303793,36.315979,36.37559,36.385818,36.397745,36.414611,36.452211,36.456091,36.722898,36.732694,37.270938,36.739385,37.007238,37.013471,37.027663,37.031404,37.03889,37.078873,37.084697,37.089111,37.114335,37.147198,37.161544,37.171727,37.17277,37.186141,37.218705,37.222842,37.223,37.22565,37.233034,37.238758,37.244307,37.245505,37.266388,37.004068,36.993666,36.993451,36.833002,36.768774,36.78724,36.789213,36.78979,36.793601,36.798882,36.807595,36.810568,36.814539,36.819628,36.841655,36.977025,36.863303,36.869584,36.875409,36.878364,36.878709,36.902954,36.931654,36.936228,36.959731,36.974575,41.962127],\"legendgroup\":\"\",\"lon\":[-117.040073,-117.991372,-118.210946,-118.33846,-118.293953,-118.053753,-118.446333,-118.240413,-118.185237,-118.251977,-117.756106,-118.266293,-118.705803,-118.264495,-118.503508,-117.591528,-118.491156,-117.936436,-118.354338,-118.28515,-117.898722,-118.156582,-118.391902,-117.85492,-118.147037,-118.255178,-118.109962,-118.349191,-118.548306,-118.263804,-118.177576,-118.310715,-118.145959,-118.831181,-118.01462,-117.605618,-118.37267,-117.698319,-117.785168,-117.667677,-117.937007,-118.309868,-118.435479,-118.238728,-118.082791,-118.383001,-118.315709,-118.277939,-117.893169,-118.30742,-118.200577,-118.258681,-118.206459,-118.062611,-118.292061,-118.246978,-116.516976,-116.977672,-117.992066,-118.128628,-117.9513,-118.359824,-116.849577,-118.332639,-116.76058,-118.120993,-118.249826,-118.200669,-118.140588,-118.274186,-118.401554,-118.348083,-116.569499,-118.164432,-115.257009,-118.351813,-118.402447,-118.358634,-118.477507,-118.334081,-118.308933,-118.287596,-118.430656,-118.222274,-117.535395,-117.973758,-118.39704,-118.479229,-117.663025,-118.089299,-118.370442,-118.308441,-118.217141,-118.445475,-117.897367,-118.065875,-118.355252,-118.24902,-116.654195,-118.020188,-118.272783,-118.032222,-118.046695,-117.737997,-117.886844,-118.577563,-118.482296,-118.55029,-118.517588,-118.153729,-118.338307,-118.632656,-118.445461,-118.88109,-118.317651,-118.230625,-118.400022,-118.421314,-118.540958,-118.602203,-118.142236,-118.238508,-118.822796,-118.300942,-118.387125,-118.262922,-118.431791,-118.459472,-117.642503,-114.717964,-118.206617,-118.420717,-117.012975,-117.536183,-115.637164,-117.122396,-118.699048,-118.41459,-116.139589,-118.573726,-118.644609,-117.184503,-118.504118,-118.459744,-118.615583,-116.539416,-118.399841,-118.244839,-118.603883,-118.505104,-118.435969,-118.312929,-118.556218,-114.192901,-118.615714,-118.31003,-117.87068,-118.156957,-118.759788,-118.047732,-117.717863,-118.295647,-118.112911,-117.855059,-118.192754,-118.61017,-118.089431,-118.259595,-118.229715,-115.769773,-117.815532,-117.57882,-118.326843,-117.906736,-118.381061,-118.491244,-118.128164,-118.294824,-118.095645,-118.327168,-118.894673,-117.523724,-118.26036,-118.245839,-118.372498,-118.057505,-118.267539,-116.86433,-118.165327,-116.281511,-118.399795,-118.203869,-118.087353,-118.548511,-118.262974,-118.000482,-118.518292,-118.463365,-118.432138,-117.849815,-117.95982,-118.166649,-118.128658,-118.207607,-118.328915,-118.127289,-118.123752,-117.072093,-117.258203,-116.53633,-116.192313,-117.29032,-117.242761,-117.170863,-117.306043,-115.497485,-116.967221,-117.166036,-117.186612,-117.200024,-117.134275,-117.25665,-116.833922,-115.191857,-115.60503,-117.118456,-117.272254,-116.938632,-117.263628,-117.116916,-116.986079,-116.237257,-117.00232,-116.171678,-114.71612,-116.97595,-116.994608,-116.687855,-117.054989,-116.291089,-116.119222,-116.2237,-116.472863,-117.285879,-116.304991,-118.421305,-117.072619,-117.047666,-117.299644,-115.596574,-116.940501,-116.823091,-117.202895,-117.207121,-117.013454,-116.262854,-117.116587,-115.689559,-116.798386,-117.232376,-116.862648,-117.01611,-117.142454,-115.60915,-117.122565,-117.19938,-115.886656,-117.134917,-117.07245,-117.166877,-117.090353,-117.127409,-117.05512,-115.501083,-117.236378,-117.117462,-117.171346,-116.969082,-117.027095,-117.169052,-117.060993,-117.202542,-117.256086,-116.906774,-117.202937,-117.152162,-115.662709,-116.561917,-117.209774,-117.25034,-114.850784,-116.997605,-116.873258,-116.444601,-117.089287,-116.703729,-117.199424,-115.152865,-117.134694,-115.431225,-116.310571,-116.950963,-118.1486,-118.112532,-118.148403,-118.284363,-118.353714,-118.31448,-116.659215,-118.300237,-118.314387,-116.514215,-118.292062,-116.250973,-118.210737,-118.071128,-118.384565,-117.119009,-118.074071,-116.324817,-118.182239,-116.429928,-118.111335,-118.143866,-118.118648,-118.199049,-118.26411,-118.222416,-118.347957,-117.995068,-118.317354,-118.012204,-118.065591,-118.330794,-118.073596,-118.039892,-118.179626,-116.382778,-118.284077,-118.396336,-117.993368,-118.067402,-120.015167,-122.403219,-121.961866,-120.811852,-121.543709,-121.540036,-121.34848,-121.279913,-121.161585,-121.457596,-122.901041,-121.412455,-120.417301,-121.376263,-121.218435,-121.602284,-121.235034,-120.339938,-121.449942,-122.908422,-121.383658,-121.328011,-121.147403,-119.755729,-121.587535,-120.861666,-122.324944,-121.25441,-121.442433,-121.02789,-120.522149,-119.489162,-120.842609,-122.593216,-121.443625,-121.491956,-122.296283,-122.777141,-122.697822,-122.27011,-122.51699,-121.902943,-121.44195,-120.579304,-122.522642,-121.507935,-120.891614,-121.578701,-121.225093,-122.752839,-121.799917,-122.739814,-120.641274,-122.024568,-120.469545,-120.8421,-120.77069,-121.30587,-121.395805,-121.334051,-122.86891,-122.668817,-122.790335,-122.580539,-122.935056,-120.76901,-121.529447,-121.378826,-122.024579,-121.437507,-121.495817,-121.114897,-122.474773,-121.457314,-121.266725,-121.328386,-122.461799,-120.515133,-120.271114,-121.685559,-122.419923,-123.187019,-121.939461,-121.444144,-122.709096,-123.013347,-122.97932,-121.259201,-122.02711,-121.123886,-121.439819,-120.236358,-121.678813,-122.718742,-123.037957,-122.306657,-120.957842,-122.235181,-122.515692,-122.240512,-122.075197,-122.275684,-122.246597,-122.303708,-121.292034,-122.20522,-122.26609,-121.848111,-119.184087,-122.295192,-122.263124,-122.279391,-122.052782,-122.572024,-121.440029,-119.667544,-122.127161,-122.008483,-122.341798,-122.657562,-122.511694,-122.532369,-120.188002,-120.486589,-122.287648,-122.72379,-122.26437,-121.976784,-122.395521,-122.445121,-122.219268,-122.495781,-122.419233,-120.776141,-122.437301,-122.14633,-122.395009,-122.402241,-122.408653,-122.244314,-122.42227,-122.464531,-122.436975,-122.208417,-122.297401,-121.308401,-121.977203,-120.256995,-122.369725,-122.107185,-122.216005,-121.601461,-122.320968,-122.383941,-120.364085,-121.21653,-120.456298,-122.830646,-122.665566,-122.524004,-120.632221,-120.37855,-122.945723,-122.247387,-120.078597,-122.634384,-121.271616,-120.133915,-121.159078,-121.4078,-122.834815,-122.563683,-121.838298,-120.440124,-121.737696,-121.601358,-120.849231,-121.520223,-122.271588,-121.14207,-121.310964,-122.775567,-122.228415,-122.563571,-121.030499,-122.076886,-121.287669,-122.288296,-121.971504,-122.491452,-121.319568,-121.801599,-122.342635,-122.012188,-120.261821,-122.575026,-122.293716,-121.686241,-121.324979,-122.638155,-121.916834,-122.689442,-122.039144,-122.115432,-122.546024,-122.23463,-121.387999,-121.297433,-122.196821,-121.348048,-121.694431,-120.720196,-123.436861,-124.015255,-122.935922,-124.035011,-122.955018,-120.913975,-120.54229,-123.471895,-123.008567,-122.794636,-120.150381,-120.490731,-122.392067,-120.913161,-123.704841,-124.027381,-122.336613,-121.360362,-121.494168,-121.879082,-121.107929,-120.957805,-121.195215,-122.700545,-120.669427,-124.003393,-120.225025,-120.403885,-121.062384,-122.544556,-122.587513,-122.289984,-121.584371,-122.434801,-121.058043,-122.018567,-123.681175,-121.041166,-120.101857,-123.995867,-122.091481,-120.743116,-123.679461,-124.097094,-122.050062,-120.135941,-123.260788,-123.794144,-123.487478,-122.948287,-122.379175,-121.468945,-123.852927,-123.531098,-121.719489,-121.428965,-121.906949,-122.512861,-122.464732,-121.018087,-122.903677,-122.195512,-120.612113,-124.081662,-123.187265,-124.210902,-121.460674,-122.448533,-124.063329,-121.815412,-120.081187,-122.318749,-122.937379,-122.647172,-123.525626,-121.827524,-124.163234,-121.579609,-123.805913,-124.240051,-122.037023,-121.120605,-123.831799,-121.572692,-123.584144,-122.059933,-123.539754,-122.418258,-123.417298,-123.450097,-120.322219,-124.049485,-124.189977,-122.369876,-124.15428,-121.474529,-123.80458,-122.939337,-122.388361,-124.108897,-123.86,-124.217378,-122.109666,-122.803899,-123.178765,-120.445626,-121.363411,-123.645121,-123.239647,-123.609588,-120.106169,-120.897718,-121.946081,-123.118111,-121.482536,-122.631779,-122.047751,-120.988814,-121.345074,-121.114408,-121.022539,-120.978273,-121.895718,-121.409837,-120.179546,-122.598542,-121.70606,-122.955176,-121.55325,-120.894014,-123.500853,-121.15918,-120.973865,-121.765866,-121.608624,-121.862416,-120.991237,-123.316553,-120.453416,-121.463719,-121.251984,-120.675512,-121.184196,-121.288545,-120.209673,-122.938935,-121.182872,-121.043799,-121.171375,-122.241383,-120.916997,-122.196202,-121.498102,-122.73203,-123.50608,-120.076204,-120.837669,-121.137962,-120.212535,-120.661032,-122.284654,-121.21191,-121.38029,-122.039307,-121.099287,-121.552071,-121.263583,-121.936372,-121.195825,-121.415927,-122.286363,-121.24807,-122.594879,-120.345639,-121.14836,-120.780786,-121.093256,-120.636358,-121.83721,-123.682799,-123.767578,-122.042298,-121.84333,-122.302169,-123.784599,-121.759537,-120.247127,-120.091806,-122.838198,-121.392283,-123.23422,-122.770679,-121.805845,-120.162806,-123.552571,-120.83679,-122.985488,-121.156163,-124.301372,-120.858667,-123.565432,-120.054765,-120.029273,-121.77697,-122.050763,-120.414275,-122.226568,-121.320597,-123.25211,-123.743697,-122.484966,-121.823565,-122.415201,-116.856103,-118.029441,-117.362329,-118.931948,-117.79593,-120.382917,-118.256358,-120.137875,-120.238218,-117.296957,-118.584212,-116.093376,-117.889656,-118.153098,-119.460557,-118.38111,-120.550507,-120.275839,-118.885163,-120.536546,-116.821698,-116.505958,-118.411251,-119.234281,-118.082935,-117.362274,-122.442833,-119.631072,-116.830015,-117.072654,-117.29028,-117.175654,-118.768471,-116.937581,-116.773825,-119.221437,-119.014627,-118.858169,-117.618263,-119.306383,-117.734568,-119.094824,-119.302118,-119.710008,-119.60137,-118.730106,-119.77191,-119.685368,-117.537886,-119.513163,-117.894868,-120.594655,-119.750142,-117.73045,-117.001509,-120.739231,-117.67828,-119.4464,-118.101378,-118.552784,-118.881679,-117.384948,-119.209689,-119.127437,-116.274755,-121.004862,-119.004073,-118.397782,-119.305858,-118.636698,-118.69759,-119.498771,-120.129921,-116.188668,-121.189757,-119.043666,-121.055933,-118.891593,-118.400432,-119.286833,-119.488413,-118.59049,-117.961179,-117.239306,-116.834092,-120.489599,-120.604741,-118.652112,-118.171288,-119.194488,-120.655842,-119.402525,-119.57013,-118.841442,-120.626442,-120.727344,-120.824288,-116.092214,-118.527064,-117.637641,-120.763864,-119.730885,-119.245341,-117.773354,-117.534306,-119.079903,-119.18012,-117.320676,-118.016195,-117.67768,-117.25071,-117.824172,-117.318204,-117.200006,-117.872941,-117.752574,-117.733655,-118.005441,-117.818805,-116.968339,-117.98588,-117.858918,-116.741796,-117.120868,-117.488725,-117.931507,-117.881533,-117.786763,-117.969795,-117.635263,-118.026456,-117.905471,-117.969501,-117.391751,-117.862734,-117.665104,-117.219551,-117.705314,-116.827173,-117.029473,-116.666551,-117.10909,-117.640055,-117.773669,-117.14719,-117.902304,-117.922613,-117.821841,-117.893042,-117.644253,-117.927024,-117.611733,-117.567346,-117.874882,-117.810896,-116.871544,-117.684254,-117.982564,-117.875928,-118.993111,-117.789749,-117.255039,-117.057627,-117.138286,-117.447864,-117.273201,-119.80079,-117.011825,-117.468896,-117.39104,-117.166158,-117.258107,-117.04054,-117.2914,-117.297553,-119.100972,-117.320138,-117.154277,-117.460803,-117.300864,-117.404686,-117.221722,-119.224666,-117.07683,-117.361788,-117.862898,-117.559639,-117.726668,-116.924723,-117.02007,-117.974404,-117.600213,-117.102244,-117.201666,-117.848299,-117.906099,-117.870494,-117.788357,-117.961212,-117.79387,-117.895482,-117.854783,-117.224878,-117.732197,-117.324959,-117.277533,-117.455583,-117.792202,-117.109972,-117.489426,-118.188235,-119.532424,-119.344304,-122.306132,-121.965114,-120.127262,-120.514191,-121.320337,-122.297152,-122.131337,-122.062947,-120.599587,-122.009613,-120.765493,-121.74841,-121.945416,-121.049056,-121.878502,-121.994813,-122.203168,-122.407992,-122.115398,-119.345011,-122.235414,-120.672724,-120.875917,-122.196318,-121.897775,-122.177746,-122.086022,-120.306399,-121.723877,-121.894763,-121.809955,-122.000887,-122.080621,-121.961786,-121.936285,-120.855753,-120.656354,-121.916819,-121.891147,-122.020456,-121.883119,-121.039391,-121.910019,-121.852855,-121.952417,-122.093002,-120.748394,-122.215844,-121.795867,-119.739935,-121.962472,-121.899117,-121.954567,-120.426843,-122.048361,-120.411517,-120.626964,-120.877572,-121.007575,-120.946594,-122.076796,-122.132415,-122.48131,-122.40712,-121.912061,-122.15728,-122.445202,-119.607001,-122.083473,-121.08739,-121.928425,-121.025836,-122.443119,-122.491129,-120.954271,-122.45732,-122.175602,-122.426468,-118.231443,-119.231447,-122.306467,-120.757977,-119.99437,-120.854357,-122.305109,-121.28257,-122.080312,-122.317723,-122.365778,-121.659562,-121.862856,-120.853288,-122.037554,-122.051521,-122.403099,-120.69955,-121.263381,-121.108568,-121.012295,-122.430661,-122.120843,-121.862395,-120.964772,-121.827673,-121.986477,-118.591951,-120.123526,-119.285484,-120.118055,-119.386868,-118.594938,-119.642281,-121.922239,-121.944815,-118.073839,-121.442274,-119.175655,-120.153393,-121.926417,-119.521126,-121.615669,-119.672483,-120.288644,-121.622188,-118.924982,-119.903674,-120.437354,-121.758398,-119.024051,-119.202677,-120.407691,-119.52137,-118.997291,-117.865469,-121.549826,-120.864443,-119.129075,-119.813805,-119.375243,-120.387793,-119.085807,-120.080117,-120.980777,-121.386617,-119.201028,-121.852507,-119.018233,-119.825657,-119.375646,-119.710852,-119.211689,-119.224243,-120.119911,-121.6386,-119.94575,-119.486225,-121.633648,-119.783786,-121.851046,-119.753649,-119.505661,-121.877877,-119.69056,-121.981865,-121.528955,-122.090386,-121.606417,-122.062213,-122.237162,-121.120161,-121.649371,-122.142961,-119.2997,-121.843554,-121.762429,-121.988727,-119.001021,-122.297533,-121.947427,-121.828375,-119.470256,-118.062943,-122.26308,-119.930027,-119.348267,-122.098858,-119.82947,-119.762633,-119.827813,-119.140338,-119.929894,-119.761131,-120.019511,-118.901544,-121.503022,-119.711868,-119.440414,-119.797113,-121.952864,-121.781632,-118.189241,-121.279679,-121.629781,-119.7645,-120.194274,-121.752383,-121.785559,-120.653519,-121.991149,-122.527696],\"marker\":{\"color\":[0.2,0.6,0.2,0.2,0.2,0.2,0.2,0.4,0.4,0.4,0.2,0.2,0.2,0.4,0.2,0.2,0.4,0.8,0.4,0.4,0.2,0.2,0.2,0.4,0.2,0.4,0.2,0.2,0.4,0.2,0.2,0.4,0.4,0.2,0.6,0.4,0.4,0.2,0.4,0.2,0.2,1.0,0.6,0.2,0.6,0.2,0.6,0.2,0.2,0.6,0.4,0.2,0.4,0.2,0.2,0.2,0.2,0.2,0.2,0.2,0.4,0.2,0.2,0.4,0.2,0.2,0.6,0.4,0.2,0.2,0.2,0.2,0.6,0.2,0.4,0.4,0.2,0.2,0.4,0.2,0.6,0.4,0.4,0.4,0.2,0.2,0.4,0.2,0.4,0.4,0.6,0.2,0.6,0.6,0.6,0.2,0.2,0.4,0.4,0.4,0.2,0.2,0.6,0.4,0.2,0.2,0.2,0.2,0.2,0.2,0.2,0.4,0.8,0.2,0.2,0.2,0.8,0.4,0.4,0.2,0.2,0.2,0.2,0.6,0.2,0.4,0.2,0.6,0.4,0.4,0.2,0.4,0.4,0.2,0.2,0.8,0.4,0.4,0.2,0.2,0.4,0.4,0.2,0.4,0.4,0.2,0.2,0.6,0.2,0.2,0.2,0.2,0.2,0.2,0.2,0.4,0.2,0.6,0.4,0.2,0.4,0.4,0.4,0.2,0.4,0.2,0.4,0.4,0.2,0.4,0.8,0.2,0.8,0.4,0.2,0.4,0.4,0.4,0.2,0.2,0.2,0.2,0.4,0.2,0.8,0.2,0.4,0.4,0.4,0.2,0.2,0.6,0.6,0.4,0.4,0.2,0.2,0.2,0.6,0.2,0.4,0.4,0.2,0.4,0.2,0.4,0.2,0.2,0.4,0.2,0.4,0.4,0.2,0.2,0.4,0.2,0.2,0.4,0.4,0.2,0.4,0.4,0.2,0.2,0.4,0.2,0.2,0.2,0.4,0.2,0.4,0.6,0.4,0.2,0.2,0.4,0.2,0.2,0.4,0.8,0.4,0.6,0.6,0.6,0.4,0.4,0.4,0.2,0.4,0.4,0.6,0.6,0.4,0.2,0.2,0.4,0.4,0.8,0.4,0.4,0.2,0.2,0.6,0.2,0.2,0.4,0.4,0.8,0.4,0.6,0.6,0.6,0.2,0.4,0.4,0.2,0.2,0.2,0.2,0.4,0.2,0.6,0.6,0.2,0.4,0.2,0.4,0.6,0.4,0.2,0.2,0.4,0.2,0.6,0.2,0.6,0.2,0.6,0.2,0.2,0.2,0.2,0.4,0.4,0.8,0.2,0.2,0.2,0.4,0.4,0.4,0.2,0.4,0.4,0.4,0.4,0.2,0.4,0.2,0.8,0.4,0.4,0.4,0.2,0.2,0.2,0.4,0.6,0.2,0.2,0.4,0.4,0.2,0.4,0.4,0.6,0.2,0.2,0.2,0.6,0.4,0.2,0.25,0.75,0.25,0.5,0.5,0.25,0.25,0.25,0.5,0.25,0.25,0.25,0.5,0.25,0.75,0.25,0.75,0.25,0.5,0.25,0.25,0.5,0.5,0.5,0.5,0.25,0.25,0.5,0.75,0.25,0.75,0.25,0.25,0.25,0.25,0.25,0.5,0.5,0.25,0.5,1.0,0.5,0.5,0.5,0.25,0.25,0.5,0.5,0.25,0.25,0.25,0.5,0.25,0.25,0.25,0.75,0.25,0.5,0.5,0.25,0.25,0.5,0.5,0.5,0.25,0.75,0.5,0.25,0.5,0.25,0.25,0.5,0.5,0.25,0.5,0.25,0.25,0.25,0.25,0.5,0.25,0.25,0.5,0.25,0.5,0.25,0.25,0.25,0.5,0.25,0.25,0.25,0.5,0.5,0.25,0.5,0.25,0.25,0.75,0.25,0.25,0.5,0.5,0.25,0.25,0.25,0.25,0.25,0.25,0.5,0.25,0.25,0.5,0.25,0.25,0.25,0.25,0.25,0.25,0.25,0.25,0.5,0.25,0.25,0.5,0.25,0.25,0.25,0.25,0.5,0.75,0.25,0.25,0.5,0.25,0.25,0.5,0.5,0.5,0.25,0.25,0.25,0.5,0.5,0.25,0.5,0.25,0.5,0.75,0.5,0.5,0.75,0.5,0.25,0.5,0.5,0.5,0.25,0.25,0.5,0.5,0.5,0.25,0.5,0.25,0.25,0.25,0.25,0.5,0.25,0.5,0.75,0.25,0.25,0.25,0.25,0.25,0.5,0.25,0.25,0.25,0.25,0.5,0.25,0.25,0.25,0.5,0.25,0.5,0.5,0.25,0.5,0.25,0.25,0.5,0.5,0.5,0.25,0.25,0.25,0.25,0.25,0.75,0.5,0.5,0.5,0.25,0.25,0.5,0.75,0.5,0.25,0.5,0.5,1.0,0.25,0.25,0.25,0.25,0.25,0.25,0.25,0.5,0.25,0.25,0.5,0.25,0.5,0.5,0.25,0.25,0.5,0.25,0.25,0.25,0.5,0.25,0.5,0.75,0.25,1.0,0.25,0.75,0.25,0.25,0.75,0.25,0.5,0.25,0.75,0.25,0.5,0.25,0.25,0.25,1.0,0.25,0.5,0.5,0.25,0.5,0.5,0.75,0.25,0.25,0.25,0.5,0.75,0.25,0.25,0.25,0.5,0.5,0.5,0.5,0.5,0.75,0.25,0.25,0.25,0.25,0.25,0.25,0.25,0.25,0.25,0.75,0.25,0.75,0.5,0.25,0.25,0.5,0.5,0.5,0.25,0.25,0.25,0.25,0.25,0.25,0.25,0.25,0.5,0.25,0.25,0.25,0.5,0.25,0.5,0.5,0.25,0.75,0.25,0.25,0.75,0.25,0.25,0.5,0.25,0.25,0.25,1.0,0.5,0.5,0.25,0.25,0.5,0.25,0.25,0.25,0.5,0.5,0.25,0.75,0.75,0.5,0.5,0.5,0.25,0.25,0.25,0.25,0.25,0.25,0.25,0.25,0.25,0.25,0.25,0.25,0.5,0.25,0.25,0.25,0.5,0.25,0.25,0.25,0.25,0.25,0.25,0.5,0.5,0.5,0.25,0.25,0.25,0.5,0.5,0.5,0.25,0.5,0.5,0.5,0.5,0.25,0.25,0.25,0.25,0.5,0.5,0.25,0.25,0.25,0.5,0.25,0.25,0.5,0.75,0.5,0.5,0.25,0.25,0.25,0.25,0.5,0.25,1.0,0.5,0.5,0.25,0.25,0.25,0.25,0.25,0.25,0.5,0.25,0.5,0.25,0.25,0.75,0.5,0.25,0.25,0.25,0.5,0.25,0.25,0.25,0.5,0.5,0.5,0.25,0.5,0.25,0.25,0.25,0.75,0.5,0.25,0.25,0.5,0.25,0.5,0.75,0.5,0.25,1.0,0.5,0.75,0.5,0.25,0.25,0.25,0.5,0.25,0.25,0.25,0.25,0.25,0.5,0.25,0.5,0.5,0.25,0.25,0.25,0.5,0.5,0.5,0.5,1.0,0.5,0.25,0.5,0.25,0.5,0.75,0.75,1.0,0.25,0.5,0.25,0.75,0.25,0.25,0.25,0.25,0.75,0.5,0.25,0.5,0.25,0.5,0.5,0.5,0.25,0.5,0.5,0.25,0.25,0.25,0.25,0.25,0.75,0.75,0.25,0.5,0.25,0.5,0.25,0.75,0.5,0.5,0.75,0.25,0.25,0.25,0.5,0.5,0.25,0.5,0.25,0.5,0.5,0.75,0.25,0.5,0.25,0.25,0.25,0.25,1.0,0.25,0.5,0.25,0.25,0.25,0.75,0.5,0.25,0.5,0.5,0.25,0.25,0.25,0.5,0.5,0.5,0.25,0.25,0.25,0.25,0.25,0.25,0.25,0.5,0.25,0.25,0.25,0.5,0.25,0.5,0.25,0.25,0.25,0.25,0.75,0.25,0.5,0.5,0.25,0.5,0.5,0.5,0.25,0.25,0.5,0.5,0.5,0.25,0.25,0.25,0.25,0.25,0.5,0.25,0.25,0.25,0.5,0.25,0.25,0.25,0.25,0.5,0.25,0.5,0.5,0.25,0.25,0.25,0.5,0.5,0.5,0.5,0.25,0.5,0.25,0.25,0.25,0.25,0.25,0.25,0.5,0.25,0.25,0.75,0.5,0.5,0.25,0.25,0.25,0.25,0.25,0.25,0.25,0.25,0.25,0.5,0.25,0.5,0.25,0.5,0.25,0.25,0.25,0.5,0.25,0.5,0.5,0.25,0.5,0.25,0.5,0.25,1.0,0.25,0.25,0.25,0.5,0.25,0.25,0.25,0.5,0.25,0.25,0.75,0.25,0.25,0.25,0.25,0.25,0.5,0.25,0.25,0.25,0.25,0.25,0.25,0.25,0.25,0.5,0.5,0.5,0.75,0.25,0.5,0.5,0.5,0.25,0.25,0.25,0.5,0.25,0.25,0.25,0.25,0.25,0.5,0.5,0.5,0.25,0.25,0.25,0.75,0.25,0.5,0.75,0.25,0.5,0.25,0.25,0.5,0.25,0.75,0.5,0.25,0.25,0.25,0.25,0.5,0.25,1.0,0.5,0.25,0.25,0.5,0.5,0.25,0.5,1.0,0.5,0.25,0.5,0.25,0.25,0.25,0.25,0.5,0.5,0.25,0.5,0.5,0.75,0.5,0.25,0.25,0.5,0.25,0.5,0.25,0.5,0.5,0.5,0.25,0.25,0.5,0.25,0.25,0.25,0.25,0.5,0.25,0.25,0.25,0.75,0.25,0.5,0.25,0.25,0.25,0.25,0.5,0.25,0.25,0.25,0.25,0.25,0.5,0.5,0.25,0.5,0.25,0.75,0.25,0.5,0.25,0.25,0.5,0.25,0.25,0.5,0.25,0.25,0.25,0.5,0.25,0.5,0.25,0.25,0.25,0.25,0.75,0.25,0.5,0.5,0.5,0.25,0.5,0.25,0.25,0.25,0.25,0.25,0.25,0.75,0.25,0.25,0.25,0.25,0.25,0.25,0.25,0.25,0.5,0.25,0.5,1.0,0.25,0.25,0.25,0.5,0.5,0.25,0.5,0.25,0.25,0.25,0.5,0.5,0.25,0.5,1.0,0.25,0.25,0.25,0.25,0.25,0.75,0.5,0.25,0.5,0.25,0.25,0.25,0.25,0.25,0.25,0.25,0.25,0.25,0.25,0.25,0.75,0.25,0.25],\"coloraxis\":\"coloraxis\"},\"mode\":\"markers\",\"name\":\"\",\"showlegend\":false,\"subplot\":\"mapbox\",\"type\":\"scattermapbox\"}],                        {\"template\":{\"data\":{\"histogram2dcontour\":[{\"type\":\"histogram2dcontour\",\"colorbar\":{\"outlinewidth\":0,\"ticks\":\"\"},\"colorscale\":[[0.0,\"#0d0887\"],[0.1111111111111111,\"#46039f\"],[0.2222222222222222,\"#7201a8\"],[0.3333333333333333,\"#9c179e\"],[0.4444444444444444,\"#bd3786\"],[0.5555555555555556,\"#d8576b\"],[0.6666666666666666,\"#ed7953\"],[0.7777777777777778,\"#fb9f3a\"],[0.8888888888888888,\"#fdca26\"],[1.0,\"#f0f921\"]]}],\"choropleth\":[{\"type\":\"choropleth\",\"colorbar\":{\"outlinewidth\":0,\"ticks\":\"\"}}],\"histogram2d\":[{\"type\":\"histogram2d\",\"colorbar\":{\"outlinewidth\":0,\"ticks\":\"\"},\"colorscale\":[[0.0,\"#0d0887\"],[0.1111111111111111,\"#46039f\"],[0.2222222222222222,\"#7201a8\"],[0.3333333333333333,\"#9c179e\"],[0.4444444444444444,\"#bd3786\"],[0.5555555555555556,\"#d8576b\"],[0.6666666666666666,\"#ed7953\"],[0.7777777777777778,\"#fb9f3a\"],[0.8888888888888888,\"#fdca26\"],[1.0,\"#f0f921\"]]}],\"heatmap\":[{\"type\":\"heatmap\",\"colorbar\":{\"outlinewidth\":0,\"ticks\":\"\"},\"colorscale\":[[0.0,\"#0d0887\"],[0.1111111111111111,\"#46039f\"],[0.2222222222222222,\"#7201a8\"],[0.3333333333333333,\"#9c179e\"],[0.4444444444444444,\"#bd3786\"],[0.5555555555555556,\"#d8576b\"],[0.6666666666666666,\"#ed7953\"],[0.7777777777777778,\"#fb9f3a\"],[0.8888888888888888,\"#fdca26\"],[1.0,\"#f0f921\"]]}],\"heatmapgl\":[{\"type\":\"heatmapgl\",\"colorbar\":{\"outlinewidth\":0,\"ticks\":\"\"},\"colorscale\":[[0.0,\"#0d0887\"],[0.1111111111111111,\"#46039f\"],[0.2222222222222222,\"#7201a8\"],[0.3333333333333333,\"#9c179e\"],[0.4444444444444444,\"#bd3786\"],[0.5555555555555556,\"#d8576b\"],[0.6666666666666666,\"#ed7953\"],[0.7777777777777778,\"#fb9f3a\"],[0.8888888888888888,\"#fdca26\"],[1.0,\"#f0f921\"]]}],\"contourcarpet\":[{\"type\":\"contourcarpet\",\"colorbar\":{\"outlinewidth\":0,\"ticks\":\"\"}}],\"contour\":[{\"type\":\"contour\",\"colorbar\":{\"outlinewidth\":0,\"ticks\":\"\"},\"colorscale\":[[0.0,\"#0d0887\"],[0.1111111111111111,\"#46039f\"],[0.2222222222222222,\"#7201a8\"],[0.3333333333333333,\"#9c179e\"],[0.4444444444444444,\"#bd3786\"],[0.5555555555555556,\"#d8576b\"],[0.6666666666666666,\"#ed7953\"],[0.7777777777777778,\"#fb9f3a\"],[0.8888888888888888,\"#fdca26\"],[1.0,\"#f0f921\"]]}],\"surface\":[{\"type\":\"surface\",\"colorbar\":{\"outlinewidth\":0,\"ticks\":\"\"},\"colorscale\":[[0.0,\"#0d0887\"],[0.1111111111111111,\"#46039f\"],[0.2222222222222222,\"#7201a8\"],[0.3333333333333333,\"#9c179e\"],[0.4444444444444444,\"#bd3786\"],[0.5555555555555556,\"#d8576b\"],[0.6666666666666666,\"#ed7953\"],[0.7777777777777778,\"#fb9f3a\"],[0.8888888888888888,\"#fdca26\"],[1.0,\"#f0f921\"]]}],\"mesh3d\":[{\"type\":\"mesh3d\",\"colorbar\":{\"outlinewidth\":0,\"ticks\":\"\"}}],\"scatter\":[{\"fillpattern\":{\"fillmode\":\"overlay\",\"size\":10,\"solidity\":0.2},\"type\":\"scatter\"}],\"parcoords\":[{\"type\":\"parcoords\",\"line\":{\"colorbar\":{\"outlinewidth\":0,\"ticks\":\"\"}}}],\"scatterpolargl\":[{\"type\":\"scatterpolargl\",\"marker\":{\"colorbar\":{\"outlinewidth\":0,\"ticks\":\"\"}}}],\"bar\":[{\"error_x\":{\"color\":\"#2a3f5f\"},\"error_y\":{\"color\":\"#2a3f5f\"},\"marker\":{\"line\":{\"color\":\"#E5ECF6\",\"width\":0.5},\"pattern\":{\"fillmode\":\"overlay\",\"size\":10,\"solidity\":0.2}},\"type\":\"bar\"}],\"scattergeo\":[{\"type\":\"scattergeo\",\"marker\":{\"colorbar\":{\"outlinewidth\":0,\"ticks\":\"\"}}}],\"scatterpolar\":[{\"type\":\"scatterpolar\",\"marker\":{\"colorbar\":{\"outlinewidth\":0,\"ticks\":\"\"}}}],\"histogram\":[{\"marker\":{\"pattern\":{\"fillmode\":\"overlay\",\"size\":10,\"solidity\":0.2}},\"type\":\"histogram\"}],\"scattergl\":[{\"type\":\"scattergl\",\"marker\":{\"colorbar\":{\"outlinewidth\":0,\"ticks\":\"\"}}}],\"scatter3d\":[{\"type\":\"scatter3d\",\"line\":{\"colorbar\":{\"outlinewidth\":0,\"ticks\":\"\"}},\"marker\":{\"colorbar\":{\"outlinewidth\":0,\"ticks\":\"\"}}}],\"scattermapbox\":[{\"type\":\"scattermapbox\",\"marker\":{\"colorbar\":{\"outlinewidth\":0,\"ticks\":\"\"}}}],\"scatterternary\":[{\"type\":\"scatterternary\",\"marker\":{\"colorbar\":{\"outlinewidth\":0,\"ticks\":\"\"}}}],\"scattercarpet\":[{\"type\":\"scattercarpet\",\"marker\":{\"colorbar\":{\"outlinewidth\":0,\"ticks\":\"\"}}}],\"carpet\":[{\"aaxis\":{\"endlinecolor\":\"#2a3f5f\",\"gridcolor\":\"white\",\"linecolor\":\"white\",\"minorgridcolor\":\"white\",\"startlinecolor\":\"#2a3f5f\"},\"baxis\":{\"endlinecolor\":\"#2a3f5f\",\"gridcolor\":\"white\",\"linecolor\":\"white\",\"minorgridcolor\":\"white\",\"startlinecolor\":\"#2a3f5f\"},\"type\":\"carpet\"}],\"table\":[{\"cells\":{\"fill\":{\"color\":\"#EBF0F8\"},\"line\":{\"color\":\"white\"}},\"header\":{\"fill\":{\"color\":\"#C8D4E3\"},\"line\":{\"color\":\"white\"}},\"type\":\"table\"}],\"barpolar\":[{\"marker\":{\"line\":{\"color\":\"#E5ECF6\",\"width\":0.5},\"pattern\":{\"fillmode\":\"overlay\",\"size\":10,\"solidity\":0.2}},\"type\":\"barpolar\"}],\"pie\":[{\"automargin\":true,\"type\":\"pie\"}]},\"layout\":{\"autotypenumbers\":\"strict\",\"colorway\":[\"#636efa\",\"#EF553B\",\"#00cc96\",\"#ab63fa\",\"#FFA15A\",\"#19d3f3\",\"#FF6692\",\"#B6E880\",\"#FF97FF\",\"#FECB52\"],\"font\":{\"color\":\"#2a3f5f\"},\"hovermode\":\"closest\",\"hoverlabel\":{\"align\":\"left\"},\"paper_bgcolor\":\"white\",\"plot_bgcolor\":\"#E5ECF6\",\"polar\":{\"bgcolor\":\"#E5ECF6\",\"angularaxis\":{\"gridcolor\":\"white\",\"linecolor\":\"white\",\"ticks\":\"\"},\"radialaxis\":{\"gridcolor\":\"white\",\"linecolor\":\"white\",\"ticks\":\"\"}},\"ternary\":{\"bgcolor\":\"#E5ECF6\",\"aaxis\":{\"gridcolor\":\"white\",\"linecolor\":\"white\",\"ticks\":\"\"},\"baxis\":{\"gridcolor\":\"white\",\"linecolor\":\"white\",\"ticks\":\"\"},\"caxis\":{\"gridcolor\":\"white\",\"linecolor\":\"white\",\"ticks\":\"\"}},\"coloraxis\":{\"colorbar\":{\"outlinewidth\":0,\"ticks\":\"\"}},\"colorscale\":{\"sequential\":[[0.0,\"#0d0887\"],[0.1111111111111111,\"#46039f\"],[0.2222222222222222,\"#7201a8\"],[0.3333333333333333,\"#9c179e\"],[0.4444444444444444,\"#bd3786\"],[0.5555555555555556,\"#d8576b\"],[0.6666666666666666,\"#ed7953\"],[0.7777777777777778,\"#fb9f3a\"],[0.8888888888888888,\"#fdca26\"],[1.0,\"#f0f921\"]],\"sequentialminus\":[[0.0,\"#0d0887\"],[0.1111111111111111,\"#46039f\"],[0.2222222222222222,\"#7201a8\"],[0.3333333333333333,\"#9c179e\"],[0.4444444444444444,\"#bd3786\"],[0.5555555555555556,\"#d8576b\"],[0.6666666666666666,\"#ed7953\"],[0.7777777777777778,\"#fb9f3a\"],[0.8888888888888888,\"#fdca26\"],[1.0,\"#f0f921\"]],\"diverging\":[[0,\"#8e0152\"],[0.1,\"#c51b7d\"],[0.2,\"#de77ae\"],[0.3,\"#f1b6da\"],[0.4,\"#fde0ef\"],[0.5,\"#f7f7f7\"],[0.6,\"#e6f5d0\"],[0.7,\"#b8e186\"],[0.8,\"#7fbc41\"],[0.9,\"#4d9221\"],[1,\"#276419\"]]},\"xaxis\":{\"gridcolor\":\"white\",\"linecolor\":\"white\",\"ticks\":\"\",\"title\":{\"standoff\":15},\"zerolinecolor\":\"white\",\"automargin\":true,\"zerolinewidth\":2},\"yaxis\":{\"gridcolor\":\"white\",\"linecolor\":\"white\",\"ticks\":\"\",\"title\":{\"standoff\":15},\"zerolinecolor\":\"white\",\"automargin\":true,\"zerolinewidth\":2},\"scene\":{\"xaxis\":{\"backgroundcolor\":\"#E5ECF6\",\"gridcolor\":\"white\",\"linecolor\":\"white\",\"showbackground\":true,\"ticks\":\"\",\"zerolinecolor\":\"white\",\"gridwidth\":2},\"yaxis\":{\"backgroundcolor\":\"#E5ECF6\",\"gridcolor\":\"white\",\"linecolor\":\"white\",\"showbackground\":true,\"ticks\":\"\",\"zerolinecolor\":\"white\",\"gridwidth\":2},\"zaxis\":{\"backgroundcolor\":\"#E5ECF6\",\"gridcolor\":\"white\",\"linecolor\":\"white\",\"showbackground\":true,\"ticks\":\"\",\"zerolinecolor\":\"white\",\"gridwidth\":2}},\"shapedefaults\":{\"line\":{\"color\":\"#2a3f5f\"}},\"annotationdefaults\":{\"arrowcolor\":\"#2a3f5f\",\"arrowhead\":0,\"arrowwidth\":1},\"geo\":{\"bgcolor\":\"white\",\"landcolor\":\"#E5ECF6\",\"subunitcolor\":\"white\",\"showland\":true,\"showlakes\":true,\"lakecolor\":\"white\"},\"title\":{\"x\":0.05},\"mapbox\":{\"style\":\"light\"}}},\"mapbox\":{\"domain\":{\"x\":[0.0,1.0],\"y\":[0.0,1.0]},\"center\":{\"lat\":36.366390878991595,\"lon\":-119.87218649831932},\"zoom\":8,\"style\":\"open-street-map\"},\"coloraxis\":{\"colorbar\":{\"title\":{\"text\":\"churn_rate\"}},\"colorscale\":[[0.0,\"#0d0887\"],[0.1111111111111111,\"#46039f\"],[0.2222222222222222,\"#7201a8\"],[0.3333333333333333,\"#9c179e\"],[0.4444444444444444,\"#bd3786\"],[0.5555555555555556,\"#d8576b\"],[0.6666666666666666,\"#ed7953\"],[0.7777777777777778,\"#fb9f3a\"],[0.8888888888888888,\"#fdca26\"],[1.0,\"#f0f921\"]]},\"legend\":{\"tracegroupgap\":0},\"margin\":{\"t\":60}},                        {\"responsive\": true}                    ).then(function(){\n",
       "                            \n",
       "var gd = document.getElementById('996f5b8e-bb55-420b-86f1-146aa29c988d');\n",
       "var x = new MutationObserver(function (mutations, observer) {{\n",
       "        var display = window.getComputedStyle(gd).display;\n",
       "        if (!display || display === 'none') {{\n",
       "            console.log([gd, 'removed!']);\n",
       "            Plotly.purge(gd);\n",
       "            observer.disconnect();\n",
       "        }}\n",
       "}});\n",
       "\n",
       "// Listen for the removal of the full notebook cells\n",
       "var notebookContainer = gd.closest('#notebook-container');\n",
       "if (notebookContainer) {{\n",
       "    x.observe(notebookContainer, {childList: true});\n",
       "}}\n",
       "\n",
       "// Listen for the clearing of the current output cell\n",
       "var outputEl = gd.closest('.output');\n",
       "if (outputEl) {{\n",
       "    x.observe(outputEl, {childList: true});\n",
       "}}\n",
       "\n",
       "                        })                };                });            </script>        </div>"
      ]
     },
     "metadata": {},
     "output_type": "display_data"
    }
   ],
   "source": [
    "fig = px.scatter_mapbox(loc_ChurnLabel,\n",
    "                        lat=\"Latitude\", lon='Longitude',\n",
    "                        hover_data= ['churn_rate'], mapbox_style='open-street-map',\n",
    "                        color=\"churn_rate\"\n",
    "        )\n",
    "fig.show()"
   ]
  },
  {
   "cell_type": "markdown",
   "id": "254c978d",
   "metadata": {
    "papermill": {
     "duration": 0.018395,
     "end_time": "2023-11-14T14:42:27.901516",
     "exception": false,
     "start_time": "2023-11-14T14:42:27.883121",
     "status": "completed"
    },
    "tags": []
   },
   "source": [
    "## Tenure Months"
   ]
  },
  {
   "cell_type": "code",
   "execution_count": 23,
   "id": "8f1c55ad",
   "metadata": {
    "execution": {
     "iopub.execute_input": "2023-11-14T14:42:27.940394Z",
     "iopub.status.busy": "2023-11-14T14:42:27.939954Z",
     "iopub.status.idle": "2023-11-14T14:42:28.041300Z",
     "shell.execute_reply": "2023-11-14T14:42:28.038899Z"
    },
    "papermill": {
     "duration": 0.123688,
     "end_time": "2023-11-14T14:42:28.043903",
     "exception": false,
     "start_time": "2023-11-14T14:42:27.920215",
     "status": "completed"
    },
    "tags": []
   },
   "outputs": [
    {
     "data": {
      "text/html": [
       "<div>                            <div id=\"9784255f-ff56-4566-90b7-5c8afb86a631\" class=\"plotly-graph-div\" style=\"height:525px; width:100%;\"></div>            <script type=\"text/javascript\">                require([\"plotly\"], function(Plotly) {                    window.PLOTLYENV=window.PLOTLYENV || {};                                    if (document.getElementById(\"9784255f-ff56-4566-90b7-5c8afb86a631\")) {                    Plotly.newPlot(                        \"9784255f-ff56-4566-90b7-5c8afb86a631\",                        [{\"alignmentgroup\":\"True\",\"bingroup\":\"x\",\"hovertemplate\":\"Churn Label=Yes\\u003cbr\\u003eTenure Months=%{x}\\u003cbr\\u003ecount=%{y}\\u003cextra\\u003e\\u003c\\u002fextra\\u003e\",\"legendgroup\":\"Yes\",\"marker\":{\"color\":\"#636efa\",\"pattern\":{\"shape\":\"\"}},\"name\":\"Yes\",\"offsetgroup\":\"Yes\",\"orientation\":\"v\",\"showlegend\":true,\"x\":[2,2,8,28,49,10,1,1,47,1,17,5,34,11,2,15,8,18,9,1,7,12,5,25,68,55,37,10,3,27,25,1,2,1,8,1,7,20,4,58,2,53,15,7,1,8,13,1,6,1,19,2,4,4,1,1,2,11,15,1,2,1,2,3,13,59,16,1,1,5,52,18,1,8,10,24,1,4,32,5,38,24,54,2,7,2,68,43,63,2,4,21,10,27,5,2,25,1,1,11,55,34,69,1,1,3,22,1,61,12,60,1,28,4,7,13,1,1,24,5,15,48,8,1,2,22,5,12,20,2,6,5,40,27,23,34,1,10,13,39,32,35,56,12,1,4,1,12,65,9,9,7,49,43,65,56,10,43,1,20,1,2,3,1,8,2,4,2,4,1,52,2,1,2,3,3,25,1,4,3,33,30,45,10,20,15,22,3,15,1,5,33,2,2,1,46,62,10,6,40,1,58,70,2,21,16,7,60,50,4,1,55,12,1,62,1,20,3,22,4,59,60,15,10,6,63,50,1,12,9,17,9,10,1,3,13,4,6,3,35,2,1,1,8,7,2,1,44,71,1,62,1,33,35,34,4,7,27,18,2,32,18,12,8,26,3,8,38,14,32,1,12,5,40,5,10,2,23,23,49,2,2,7,41,2,13,11,17,25,3,4,37,19,39,7,14,11,1,2,13,3,1,12,60,1,6,15,21,1,7,53,1,1,17,11,19,3,24,2,1,16,34,3,16,1,15,11,1,1,7,2,46,68,59,7,8,6,11,15,70,16,18,34,47,39,1,4,1,59,1,2,1,66,3,14,10,18,9,13,4,4,59,10,1,5,1,22,34,41,64,4,18,1,2,15,9,15,1,12,2,5,4,16,1,5,4,37,13,24,61,41,22,2,19,8,15,1,17,1,2,29,2,14,8,5,63,1,53,1,16,1,10,3,66,17,7,12,42,2,1,30,15,13,67,23,35,56,9,17,48,17,34,42,11,1,1,3,50,5,51,46,1,41,29,26,1,3,66,21,1,4,9,1,1,9,1,1,2,3,14,41,13,2,18,1,4,38,12,19,10,1,23,32,32,31,19,57,1,24,1,65,10,2,1,1,1,38,19,52,1,3,1,2,35,16,1,1,30,5,56,44,1,49,47,31,3,8,2,65,1,1,24,69,7,11,1,58,14,12,25,58,16,1,1,2,23,57,24,49,5,2,4,5,47,10,1,67,5,67,15,1,26,22,21,47,2,22,7,1,49,43,1,1,1,32,17,4,1,1,37,8,3,1,5,40,1,51,1,33,30,2,2,29,13,7,30,2,24,1,1,7,67,57,7,1,14,28,17,10,34,1,3,2,6,12,1,3,23,1,65,16,66,1,53,69,13,4,12,1,54,48,2,29,15,17,56,21,1,1,1,35,32,33,1,8,5,2,42,40,57,1,38,2,8,7,31,18,14,28,15,5,1,1,4,53,59,46,14,31,13,35,2,1,25,16,1,36,1,9,8,45,25,13,46,25,18,60,30,1,39,1,31,3,1,7,61,39,10,1,67,6,1,33,2,7,1,52,22,47,33,18,24,1,4,2,1,19,22,4,4,4,7,19,5,8,1,2,3,13,28,15,10,5,2,1,5,1,4,31,1,1,10,15,17,53,16,9,25,4,50,9,3,10,32,9,66,3,29,1,41,8,12,1,4,1,7,6,14,25,22,61,70,1,1,47,1,22,48,1,25,20,18,1,9,28,11,12,53,41,20,7,7,22,3,51,5,62,28,10,69,12,27,1,14,32,3,22,16,5,23,1,50,1,71,46,2,1,32,3,5,49,17,23,6,6,2,4,4,3,8,1,1,30,5,1,72,13,32,16,29,38,17,1,2,2,1,4,5,9,18,25,17,52,3,1,8,43,22,54,1,1,7,12,54,1,23,3,10,37,31,34,29,12,1,33,4,35,19,1,1,31,4,1,10,2,9,4,38,51,1,41,12,5,10,11,1,16,1,4,1,13,1,21,11,2,2,1,6,4,12,4,4,3,53,68,1,10,1,51,24,18,72,4,1,26,7,5,42,4,2,8,9,1,43,1,3,70,11,50,5,1,16,15,46,8,31,32,1,20,26,5,1,14,36,9,5,9,2,1,8,2,3,51,2,39,12,26,18,2,4,1,9,2,29,1,9,50,1,54,42,1,1,9,46,1,13,19,1,24,67,6,20,20,46,11,2,1,16,3,57,5,4,7,1,2,4,1,7,4,1,1,1,1,41,66,35,10,54,2,26,15,31,18,61,1,24,3,1,43,4,25,57,4,36,1,35,4,58,30,21,3,41,21,1,11,1,72,3,1,47,18,1,20,6,1,48,3,2,1,1,3,9,49,6,6,16,7,25,20,4,28,1,11,4,54,28,2,1,1,14,1,4,20,14,30,3,40,2,1,10,1,14,58,22,1,49,68,1,7,9,1,24,2,27,57,1,13,1,63,25,35,71,6,15,9,37,2,29,5,28,11,55,24,1,6,4,3,1,11,1,5,8,22,29,13,43,3,2,66,62,17,56,31,2,66,3,1,31,14,35,37,7,24,1,32,1,17,19,2,8,1,1,1,9,3,49,2,55,21,69,1,39,6,17,1,58,1,19,3,3,3,30,15,10,1,38,1,16,1,12,4,15,41,1,1,7,42,1,12,55,17,1,72,11,8,1,23,39,9,15,30,1,3,67,1,1,12,22,2,27,10,1,22,1,21,6,72,54,3,8,5,1,2,1,65,33,15,30,2,4,2,25,25,43,10,2,9,27,69,22,56,66,24,1,36,1,1,1,39,5,24,2,5,11,4,1,1,2,3,44,24,18,1,65,53,1,15,4,9,22,38,53,1,8,16,1,7,9,37,5,3,31,2,37,38,48,10,8,2,3,4,37,1,5,28,30,36,1,4,17,3,4,4,26,5,4,1,1,8,1,50,26,6,3,3,1,14,61,40,58,18,7,2,19,11,39,15,5,1,10,6,16,2,2,19,1,66,36,39,21,2,4,35,33,45,7,6,3,11,1,40,47,7,1,7,15,11,67,8,44,24,15,17,1,9,7,36,3,34,1,22,47,24,53,8,2,8,48,43,16,8,20,2,27,5,52,37,69,40,6,11,6,3,5,8,1,28,1,29,19,6,1,1,6,15,25,10,13,49,1,37,26,12,10,5,18,3,54,10,1,2,32,36,53,1,12,1,5,6,26,1,64,13,9,10,2,20,9,32,70,1,1,1,13,7,1,7,54,5,1,33,55,6,8,11,49,1,15,16,44,5,4,30,1,9,1,1,61,59,3,3,1,13,18,3,1,1,70,68,26,11,1,1,46,4,22,9,7,1,40,29,3,1,3,23,13,1,39,1,14,1,1,1,1,1,42,7,1,10,17,1,8,1,39,58,6,22,70,21,71,1,20,4,32,6,27,1,13,1,19,10,13,1,68,39,1,1,36,15,5,13,5,2,17,1,9,1,1,1,9,20,70,3,20,21,17,2,21,5,24,1,10,1,53,3,46,49,11,45,37,49,14,1,47,13,5,3,26,8,9,1,12,42,33,31,18,42,4,12,15,7,14,3,16,65,42,6,53,5,68,3,12,43,68,25,66,70,27,1,3,29,36,1,2,12,1,1,59,3,1,1,2,29,52,2,13,19,47,5,52,42,25,9,16,5,3,31,1,1,10,4,43,4,11,47,1,4,17,43,21,42,46,5,6,1,7,2,1,5,22,1,1,3,1,1,33,1,2,2,3,26,67,71,1,5,9,26,54,2,1,30,4,17,60,1,13,38,1,50,65,1,7,2,45,1,1,13,10,4,1,41,71,3,69,32,51,72,6,1,1,31,58,47,44,2,1,1,1,5,1,1,1,1,40,1,3,13,58,42,1,29,1,1,2,10,49,6,2,35,70,2,15,42,9,1,21,2,1,16,14,15,1,2,55,7,13,3,66,38,1,22,1,1,43,1,2,1,12,6,34,1,10,16,7,27,1,9,48,3,2,2,14,3,57,3,64,2,12,40,12,54,4,1,51,4,35,1,38,37,3,61,11,1,19,56,2,14,4,15,1,64,1,55,18,32,66,7,6,13,11,9,1,54,25,37,14,4,3,1,13,45,1,6,3,12,8,6,3,1,1,41,9,43,33,1,56,3,1,5,1,70,48,13,24,27,25,22,1,4,18,56,16,30,8,50,41,3,3,40,3,23,1,4,1,12,9,1,67,4],\"xaxis\":\"x\",\"yaxis\":\"y\",\"type\":\"histogram\"},{\"alignmentgroup\":\"True\",\"bingroup\":\"x\",\"hovertemplate\":\"Churn Label=No\\u003cbr\\u003eTenure Months=%{x}\\u003cbr\\u003ecount=%{y}\\u003cextra\\u003e\\u003c\\u002fextra\\u003e\",\"legendgroup\":\"No\",\"marker\":{\"color\":\"#EF553B\",\"pattern\":{\"shape\":\"\"}},\"name\":\"No\",\"offsetgroup\":\"No\",\"orientation\":\"v\",\"showlegend\":true,\"x\":[1,34,45,22,10,62,13,16,58,25,69,52,71,21,12,58,49,30,72,71,2,27,1,1,72,46,10,70,17,63,13,49,2,52,69,43,25,60,63,66,34,72,47,60,72,18,3,47,31,50,10,1,52,64,62,3,56,46,8,30,45,11,42,49,9,35,48,46,29,30,1,66,65,72,71,52,1,1,38,66,5,72,32,43,72,52,43,64,3,36,41,27,56,6,7,4,33,72,1,71,13,67,43,23,64,57,72,61,64,71,65,3,30,15,8,70,62,6,14,22,22,16,10,13,2,53,11,69,72,16,43,14,32,34,15,61,1,33,20,3,13,40,43,69,72,59,20,24,59,72,1,27,14,71,13,44,33,72,64,1,61,29,23,57,72,66,65,8,71,1,12,24,31,30,47,54,50,72,29,10,18,16,72,72,41,65,13,4,41,42,51,32,10,67,61,50,29,57,31,45,61,50,19,71,57,20,21,14,5,6,10,1,68,22,20,35,23,6,12,1,71,35,40,23,4,68,38,52,29,38,48,1,22,43,5,51,71,35,72,1,9,69,52,11,28,17,35,8,46,68,36,32,71,66,63,41,1,70,23,64,37,17,7,16,64,42,5,41,58,47,18,23,1,71,72,33,24,56,37,43,1,61,17,41,72,48,42,44,1,27,27,2,19,42,66,33,33,23,32,11,68,20,72,60,32,46,29,51,48,16,70,40,5,7,29,44,10,55,52,10,18,68,72,2,41,26,36,72,35,1,16,49,54,18,36,52,8,72,64,22,60,61,24,28,30,2,1,6,24,72,70,64,72,44,17,9,24,35,7,11,20,72,72,15,72,0,63,2,61,1,28,70,34,71,70,52,69,11,1,20,61,56,30,28,5,12,67,29,55,52,72,58,35,56,24,70,2,68,12,63,33,69,60,72,11,1,34,65,50,15,72,72,55,23,56,1,38,11,1,56,3,7,59,7,71,15,71,11,60,47,11,28,61,31,9,35,2,1,3,52,5,72,71,72,46,63,30,1,16,4,51,65,16,2,66,46,32,72,38,51,72,66,44,50,15,8,66,57,7,10,62,40,20,25,23,66,72,46,72,10,40,31,68,68,49,15,50,24,35,17,10,68,45,37,10,1,65,57,3,49,70,53,53,22,65,48,3,45,61,3,40,1,1,51,52,51,1,31,47,22,1,72,47,72,66,35,29,2,4,65,27,29,29,20,58,14,72,46,71,32,26,68,2,61,9,22,5,65,5,25,72,27,32,30,70,42,72,47,2,61,5,72,72,3,48,63,27,70,7,0,2,66,3,72,1,72,65,11,22,14,41,17,11,72,3,59,71,5,27,63,72,34,24,72,60,68,8,34,6,2,31,20,1,70,39,46,72,18,71,42,34,5,25,55,70,61,43,47,5,62,14,34,38,70,37,60,62,36,44,72,13,15,65,12,72,72,72,52,2,5,68,72,66,72,26,64,62,5,3,72,57,66,45,3,51,60,33,26,67,49,1,7,27,37,31,32,63,30,71,53,50,2,56,67,4,19,8,71,15,72,12,72,23,72,26,21,60,12,16,63,22,32,68,30,16,33,72,12,4,0,65,15,24,13,24,72,54,4,32,35,8,22,15,22,71,4,25,32,7,17,8,56,3,71,49,58,59,11,35,20,40,39,72,12,1,27,34,56,58,22,10,13,72,2,4,37,21,53,23,3,71,9,1,71,64,4,23,39,28,5,45,37,60,47,50,27,62,71,66,68,13,56,16,14,8,43,52,3,29,16,40,36,26,72,34,10,14,47,24,20,22,1,59,58,59,3,32,46,0,52,32,16,51,29,70,71,41,1,7,67,5,15,20,54,42,9,63,69,69,40,60,71,32,39,38,52,48,70,20,50,25,12,23,27,47,26,2,26,72,63,71,11,14,13,6,11,18,32,29,3,41,1,7,52,45,70,53,62,60,23,67,71,25,5,26,1,70,72,32,14,13,46,43,39,57,53,18,58,71,35,3,38,35,47,14,20,66,15,42,17,37,12,60,18,3,9,56,7,69,54,62,62,17,9,64,72,30,49,61,47,20,70,54,61,13,3,25,30,21,23,45,24,56,1,55,72,45,47,2,2,12,69,56,4,64,62,63,53,5,49,62,55,71,72,36,25,72,36,1,72,59,1,30,64,63,72,62,67,70,20,5,24,72,66,45,69,28,36,42,48,11,7,3,8,32,60,10,71,43,23,72,22,1,69,50,15,31,0,8,64,28,57,19,51,67,11,72,66,9,9,48,10,72,51,61,54,33,27,23,1,45,39,72,58,70,61,2,46,48,64,72,12,72,29,33,1,62,4,24,14,3,8,35,66,8,71,43,29,65,35,64,58,18,67,63,60,70,48,12,71,44,45,23,43,35,9,65,27,40,8,58,52,3,41,20,1,23,6,8,18,52,31,29,36,42,60,22,36,9,1,12,23,62,8,31,45,69,2,44,39,72,13,51,71,56,1,23,66,1,11,52,3,51,64,37,13,49,45,18,68,54,23,71,67,14,63,41,17,56,5,3,37,8,63,7,3,72,19,59,35,14,69,7,69,72,4,63,72,46,30,63,60,25,6,22,31,39,26,12,2,39,7,4,55,72,10,11,15,23,1,47,15,68,21,21,56,6,65,42,68,48,50,7,63,17,4,62,2,48,27,70,46,69,65,72,17,51,51,72,34,67,49,53,27,69,2,46,54,20,11,30,68,38,1,63,3,48,66,68,7,72,29,37,59,60,27,17,58,1,53,35,68,47,65,9,8,14,45,8,66,72,23,4,6,67,7,56,72,72,23,35,27,12,40,7,70,60,39,72,54,63,71,42,47,11,55,69,3,30,5,71,29,52,68,46,8,72,17,3,2,51,6,3,17,30,31,45,64,61,1,72,7,66,40,16,67,41,56,72,54,52,50,27,72,62,12,44,54,68,20,50,58,35,2,63,58,27,71,63,71,68,1,65,72,28,72,2,60,26,68,42,57,54,44,42,72,71,23,30,35,1,22,7,36,34,72,36,71,23,17,1,12,72,1,72,60,61,6,72,32,65,45,42,8,32,22,1,1,54,4,56,45,71,59,69,19,55,38,47,46,65,71,52,6,26,48,64,1,72,1,51,41,72,43,72,47,72,3,26,29,27,24,67,23,14,4,16,46,68,38,17,4,12,72,3,41,40,7,69,7,5,72,44,65,3,24,72,24,22,70,25,37,22,59,1,3,53,1,20,51,51,13,1,1,63,3,46,1,71,55,70,67,14,20,49,72,46,24,5,33,42,23,8,66,24,53,60,20,23,72,21,31,57,45,10,14,27,69,35,45,17,22,67,67,9,5,54,70,53,31,13,28,38,52,62,16,12,72,71,24,15,2,5,41,43,1,1,71,7,28,16,7,69,1,3,69,71,69,48,45,51,72,37,71,66,51,30,34,64,65,47,67,39,14,56,14,16,70,72,23,21,36,50,48,50,72,10,18,9,2,40,69,18,11,55,33,46,34,3,30,33,45,40,71,72,22,46,55,1,12,31,67,1,41,42,23,1,56,15,12,54,7,16,21,30,3,11,62,18,6,46,21,68,1,25,24,51,57,15,72,28,70,13,59,62,21,2,1,4,19,67,72,53,5,71,50,56,2,46,71,29,69,71,56,56,28,19,66,17,52,19,36,72,34,8,69,50,10,12,70,64,66,71,20,72,71,38,33,23,58,70,4,45,36,54,23,41,5,27,1,67,72,56,44,66,69,40,30,11,15,11,64,72,72,1,15,60,56,8,49,70,52,72,40,40,1,30,44,7,72,8,3,8,5,72,54,72,1,69,48,8,71,67,34,3,9,71,57,72,48,18,43,72,35,4,49,71,11,63,65,49,4,72,26,35,57,28,25,47,57,16,5,72,48,68,30,3,14,4,71,8,61,72,5,49,8,3,9,67,46,67,55,33,62,49,1,14,18,72,64,69,1,71,66,2,71,11,47,60,11,29,21,48,3,43,5,1,71,8,8,20,71,31,38,2,12,9,11,6,71,42,45,28,43,60,7,25,27,10,27,11,4,68,1,18,26,17,59,30,50,9,3,14,31,7,17,32,2,72,27,7,11,72,4,71,47,57,50,8,48,70,1,8,60,49,29,67,67,6,47,53,69,3,4,56,61,2,12,28,24,68,39,42,6,38,18,4,27,41,50,72,70,44,34,72,71,64,72,29,23,52,64,24,2,34,53,47,72,72,7,71,41,67,69,70,72,34,65,70,72,35,12,62,25,52,8,2,56,12,47,2,18,8,45,3,38,72,71,66,13,65,15,72,42,71,35,53,48,30,10,12,57,58,37,44,27,8,25,57,12,62,65,71,21,71,7,72,1,72,64,72,29,13,31,14,72,25,18,71,28,2,17,56,60,33,1,63,55,65,63,70,36,22,5,1,56,2,35,64,15,1,70,39,29,14,61,13,66,59,62,33,66,72,51,63,27,4,42,29,30,71,46,69,72,28,72,7,22,72,8,52,68,71,2,34,35,61,1,53,72,41,24,8,1,54,41,19,72,62,56,32,21,62,2,27,25,49,63,4,1,11,52,60,64,43,61,66,67,42,31,7,34,3,19,3,46,69,5,1,26,25,64,30,13,64,46,12,13,67,24,6,10,13,7,38,43,25,27,72,71,24,57,15,4,28,55,55,20,62,43,60,58,7,2,37,65,39,68,62,72,41,4,53,39,63,15,13,1,1,60,40,66,42,66,49,41,41,23,3,4,52,11,2,26,24,12,60,64,66,60,17,42,1,47,10,70,67,1,4,66,12,24,26,57,42,64,19,22,12,31,11,68,72,67,60,58,1,37,13,43,6,71,72,6,12,21,6,43,35,32,52,32,72,51,68,8,49,72,54,50,69,1,68,40,31,33,55,68,12,71,40,64,53,72,46,40,12,9,51,49,56,4,20,26,51,4,1,27,12,34,24,14,59,3,65,59,72,3,19,1,24,57,72,67,52,71,26,35,55,33,72,1,37,12,1,62,1,18,2,19,9,27,24,11,1,38,9,54,29,44,59,18,67,33,5,2,72,9,67,8,17,68,25,67,32,67,72,1,48,61,2,71,37,65,67,50,25,64,25,24,37,21,1,10,51,10,6,47,61,52,35,71,45,2,51,60,9,17,46,68,4,28,39,11,71,2,17,55,58,9,26,50,72,43,56,1,72,36,5,44,70,44,69,68,16,68,4,26,5,70,24,72,1,70,36,41,14,13,6,15,47,8,17,15,26,23,4,29,25,3,69,14,19,39,31,24,14,64,50,52,28,21,17,58,51,72,27,3,64,45,71,58,34,15,66,12,58,3,9,3,40,68,50,1,72,40,72,6,5,48,64,17,40,41,51,41,2,68,24,70,3,2,3,13,7,12,53,63,15,36,4,24,61,16,65,26,16,5,19,10,72,10,11,17,36,17,66,61,22,1,6,68,52,10,72,47,24,65,4,34,14,13,65,23,55,49,60,69,40,67,13,41,4,24,5,5,72,24,42,4,68,33,69,38,3,48,15,25,48,1,1,37,66,26,63,18,64,28,1,66,1,18,0,12,12,55,7,68,49,40,16,72,2,23,71,12,54,68,27,21,64,57,19,31,52,46,11,53,57,71,1,68,72,2,41,72,58,7,65,1,56,4,58,62,26,62,58,68,61,42,18,56,4,35,64,31,67,70,2,29,47,12,8,54,69,26,72,70,28,21,53,53,70,61,11,2,25,41,71,34,29,40,36,46,58,39,52,70,65,1,70,29,67,1,30,48,55,37,31,4,72,1,15,8,35,56,65,2,65,18,23,70,4,19,18,38,47,52,9,26,44,3,2,25,2,58,59,44,66,68,9,19,4,70,1,8,53,51,11,60,17,1,43,16,57,37,72,2,17,16,10,64,1,25,71,72,49,29,72,50,71,70,71,61,68,62,7,6,33,28,27,7,30,63,53,21,17,16,35,32,28,1,59,72,40,40,63,3,40,8,34,9,31,50,9,25,1,45,55,38,38,34,70,13,61,41,21,55,69,69,47,72,33,72,37,62,71,23,16,9,17,24,1,72,72,11,60,49,30,53,39,9,39,8,51,71,71,70,38,28,32,49,37,10,67,7,51,9,4,71,24,22,44,33,1,30,1,16,71,43,50,41,40,3,37,32,32,59,30,27,9,68,69,26,69,11,1,10,55,44,69,11,29,57,28,42,23,18,62,67,62,2,23,25,72,2,8,35,24,2,72,41,26,4,48,12,60,55,1,1,42,1,3,72,15,11,5,72,55,40,57,52,43,47,3,55,29,12,66,27,58,9,6,9,8,12,43,42,66,1,10,18,3,50,1,2,17,69,72,50,53,58,46,72,6,72,4,52,0,2,65,51,12,24,64,26,15,64,27,8,10,2,51,46,1,46,50,53,61,5,47,54,19,26,70,17,1,19,26,50,68,9,51,9,22,71,26,71,4,12,18,3,72,13,42,17,7,68,56,38,72,48,52,35,67,1,53,34,19,60,11,60,72,39,59,2,71,24,67,37,11,18,50,67,25,9,10,70,9,4,2,19,7,1,9,5,56,18,70,72,17,29,63,59,3,8,68,68,52,72,32,72,1,42,45,43,37,63,3,66,8,71,72,16,66,51,8,14,70,70,24,69,42,39,45,72,38,72,72,55,51,63,1,23,2,52,36,1,28,7,72,10,42,7,72,63,56,5,72,68,67,8,52,18,59,60,7,59,46,5,59,70,44,64,58,46,58,72,11,34,54,72,54,14,1,56,68,14,68,55,16,9,53,70,14,10,29,30,72,10,1,20,1,29,1,3,20,64,6,50,6,7,72,8,67,72,33,70,22,59,36,51,53,20,63,40,35,26,53,34,19,43,6,56,34,10,56,55,36,47,12,24,35,67,21,13,71,29,7,57,65,27,72,1,11,39,59,26,2,72,65,72,6,32,50,61,72,1,12,61,18,21,68,12,62,1,1,62,36,69,63,23,10,71,45,70,22,52,65,72,10,7,5,24,72,21,69,44,61,72,72,14,7,48,55,1,45,3,71,8,69,72,71,33,16,56,1,57,56,1,40,46,63,68,69,56,10,63,24,19,22,70,49,42,57,72,46,72,35,72,28,45,1,6,48,25,64,50,52,4,32,45,9,54,64,12,67,45,10,29,24,66,51,45,49,29,40,25,22,72,33,23,69,3,56,65,71,14,2,40,1,7,15,71,54,31,11,18,72,71,5,38,5,52,68,69,42,50,33,7,64,59,6,3,15,13,23,31,29,49,56,63,63,24,36,21,13,1,25,71,66,45,22,67,68,0,4,63,21,1,17,30,22,9,1,19,72,70,66,7,46,32,24,37,8,72,71,16,57,66,21,66,17,8,27,34,30,33,14,16,49,70,32,18,37,4,16,17,19,60,51,28,43,42,1,63,68,60,45,70,4,68,22,18,29,31,48,50,7,68,26,57,3,19,3,59,42,67,1,66,61,4,64,54,1,54,18,3,72,60,11,61,39,37,72,72,8,22,38,17,70,28,15,72,57,46,30,10,32,13,44,9,67,71,1,17,1,32,41,1,62,17,72,56,9,72,20,19,53,6,9,8,71,71,68,34,26,7,20,60,72,72,4,16,62,10,31,71,58,70,71,69,72,26,33,10,57,10,39,11,68,18,18,52,56,45,67,3,65,63,11,1,55,25,72,65,7,72,21,2,4,72,6,52,69,8,63,60,12,13,22,72,2,40,44,71,26,1,3,13,1,4,2,72,37,23,42,32,22,42,8,65,70,22,67,25,20,2,51,46,13,26,19,72,18,24,46,72,70,2,31,16,52,13,35,59,72,49,2,21,54,1,6,49,56,56,6,32,50,58,65,64,66,38,20,64,60,50,72,60,46,69,31,19,71,12,44,56,72,11,15,72,56,64,34,35,22,9,23,68,33,31,56,66,72,34,58,37,71,1,71,35,6,69,53,5,2,62,19,9,53,5,71,1,72,4,59,31,3,49,2,55,72,36,10,72,28,38,61,52,67,34,54,1,46,55,1,64,58,56,72,72,22,39,12,54,18,32,41,67,65,25,67,43,24,69,37,20,7,41,54,69,53,18,64,20,57,63,13,48,57,71,7,16,34,16,48,58,72,7,30,31,46,50,28,66,41,72,7,38,44,47,53,4,20,57,44,24,15,24,33,58,72,71,51,72,14,72,22,2,15,51,70,71,39,61,52,64,62,30,63,1,15,27,4,72,45,45,36,1,16,71,10,20,4,29,2,29,13,59,18,17,47,19,68,2,7,18,71,13,72,66,24,56,22,42,72,12,71,26,7,6,51,72,47,62,16,6,69,64,25,6,66,61,43,12,23,71,34,41,72,14,41,23,71,72,6,23,72,7,9,12,1,48,20,10,20,20,19,22,35,1,39,54,56,18,16,68,53,72,9,30,18,55,33,44,30,71,1,23,22,49,42,7,67,15,67,53,21,40,22,39,2,57,8,7,49,65,55,71,35,17,72,28,18,52,47,23,66,8,71,50,46,66,42,5,29,27,25,57,47,13,71,1,2,55,71,50,1,5,66,49,3,66,11,28,65,62,2,2,55,41,30,17,16,72,9,1,23,8,19,7,61,57,15,1,12,54,4,20,26,53,68,72,12,68,50,41,30,1,29,23,60,72,72,66,72,51,70,9,59,3,38,37,37,14,72,72,17,10,0,1,29,65,8,61,45,72,12,7,9,58,2,40,9,41,26,33,68,65,55,19,45,70,12,72,12,71,35,70,31,30,33,54,59,55,69,66,37,9,69,10,13,69,66,46,56,70,33,72,19,71,1,61,71,68,46,33,53,50,57,54,60,10,43,13,43,1,69,61,43,56,70,49,32,72,37,69,26,58,24,5,30,55,44,47,64,1,20,37,30,38,52,71,66,72,25,69,53,26,21,1,48,26,60,18,4,65,70,62,66,65,34,16,50,71,18,4,58,56,56,4,10,4,51,6,63,48,35,2,50,33,31,9,54,46,34,71,63,51,64,61,15,18,57,14,18,72,70,38,68,65,30,51,31,72,37,55,33,46,1,19,61,26,45,62,3,41,67,71,37,60,6,11,10,34,62,64,25,26,10,53,33,71,29,24,20,1,72,52,9,1,69,1,54,33,45,11,6,21,65,43,60,17,35,12,1,28,70,18,70,9,67,1,18,71,1,55,59,7,45,54,51,72,44,2,66,68,31,21,21,55,71,22,67,14,21,4,70,21,20,22,63,70,5,72,13,61,1,56,4,35,72,49,44,37,61,70,41,70,51,42,48,48,27,46,25,13,31,23,2,65,55,35,6,17,10,15,13,58,45,72,68,38,2,11,20,72,40,62,22,11,7,3,58,6,22,64,6,39,20,64,46,28,33,39,1,70,65,1,18,24,63,44,4,37,34,35,4,39,43,61,49,4,64,3,1,40,34,1,45,43,41,5,72,4,9,72,33,72,15,29,15,72,19,1,2,11,12,70,23,49,2,69,24,32,27,58,18,47,70,36,67,10,19,71,72,48,1,18,67,69,72,38,40,61,32,21,59,47,69,2,22,15,53,28,22,16,48,30,3,57,23,65,44,71,37,12,69,35,5,58,72,72,1,53,27,18,46,72,4,25,40,63,14,72,39,47,19,17,34,42,71,19,57,72,6,61,48,16,3,65,70,60,69,35,22,66,34,72,31,30,19,65,30,6,2,53,7,61,13,35,2,3,62,72,63,35,62,15,55,11,61,71,35,17,47,3,3,44,1,44,18,65,3,33,34,14,13,23,47,17,59,69,10,12,39,71,71,33,67,9,52,70,1,1,52,6,7,26,25,69,72,4,59,67,26,27,72,6,62,20,6,51,61,62,72,13,38,34,18,56,36,57,70,68,1,37,4,1,20,72,11,33,62,1,16,22,49,36,31,5,66,64,10,29,57,46,53,17,38,15,22,57,11,1,12,36,2,72,62,6,48,35,52,1,71,67,60,23,39,15,24,37,50,54,3,5,33,41,34,13,20,51,41,13,35,4,12,7,53,63,5,37,12,38,9,13,47,61,16,41,43,6,58,19,11,39,8,26,53,70,59,7,59,61,72,13,64,10,65,62,55,25,1,64,36,61,26,68,72,71,57,4,1,72,21,71,69,64,16,4,1,18,2,19,40,66,21,8,72,48,69,72,14,6,8,17,65,57,56,14,52,58,67,2,6,71,46,67,3,3,50,23,67,39,69,1,32,60,72,26,2,2,36,7,60,19,45,4,47,1,59,35,32,54,66,61,72,44,41,50,8,18,72,42,18,13,68,69,25,59,5,69,13,52,61,29,25,15,19,44,58,62,70,10,26,66,51,72,65,70,72,1,3,58,33,54,72,72,72,54,59,54,60,60,3,69,1,50,56,60,69,3,60,13,62,45,25,44,2,22,35,29,27,54,57,62,15,70,21,23,6,4,23,26,8,2,59,39,21,48,31,64,46,52,67,67,71,71,32,2,71,60,55,6,48,63,12,54,30,40,9,62,28,70,46,23,47,68,67,14,57,55,1,23,47,38,2,15,26,35,3,42,10,61,68,10,72,55,7,2,9,27,64,70,67,24,4,44,72,66,65,1,38,23,10,72,35,58,70,38,60,26,8,36,54,55,72,54,72,52,60,39,15,43,63,2,72,40,58,67,31,69,32,21,52,72,52,41,41,67,16,17,35,58,52,70,19,35,32,17,67,9,4,58,60,1,27,66,15,41,59,50,17,6,51,49,59,50,59,18,10,14,35,8,18,60,6,19,53,72,60,13,5,13,37,64,61,26,24,17,26,52,1,21,67,44,70,56,46,63,11,15,72,6,63,18,43,15,55,70,63,25,18,28,53,1,26,34,19,62,24,68,31,63,61,18,6,33,56,23,9,5,61,70,15,8,8,4,34,68,45,9,22,2,70,10,72,49,54,71,22,50,43,45,64,23,68,26,14,71,64,57,72,40,14,2,5,29,3,71,9,48,26,9,46,64,59,7,72,16,25,24,10,69,57,50,28,25,3,61,2,51,71,20,6,6,29,36,28,63,48,49,72,72,47,1,36,43,27,38,35,0,59,27,2,7,36,41,13,19,60,69,43,11,45,72,12,67,37,39,41,25,8,71,5,30,40,54,72,28,18,59,22,1,72,50,48,49,28,68,13,11,72,70,49,67,46,37,13,72,68,15,24,24,27,71,67,63,1,4,52,10,68,52,70,43,52,12,56,0,42,22,27,51,1,71,69,14,57,72,48,4,31,1,57,62,3,72,29,13,11,21,19,35,25,67,72,43,55,27,13,70,19,20,43,5,70,40,6,39,45,57,72,72,3,59,4,27,4,60,8,8,35,53,18,15,67,6,1,5,13,29,1,18,2,30,66,38,44,2,42,58,58,71,48,8,67,49,52,63,68,31,64,62,21,72,32,71,34,35,3,3,53,4,48,54,62,22,51,30,56,35,64,30,25,1,70,57,9,69,72,44,72,54,27,54,3,53,15,5,48,25,58,10,71,65,28,67,35,72,61,68,3,48,68,47,32,5,49,15,12,67,9,13,38,42,9,49,61,50,53,51,24,62,24,70,1,8,72,23,31,37,35,23,20,36,71,43,57,27,13,67,64,26,38,23,72,62,40,41,34,1,51,39,12,72,63,44,18,13,68,6,2,55,38,19,12,72,24,72,11,66],\"xaxis\":\"x\",\"yaxis\":\"y\",\"type\":\"histogram\"}],                        {\"template\":{\"data\":{\"histogram2dcontour\":[{\"type\":\"histogram2dcontour\",\"colorbar\":{\"outlinewidth\":0,\"ticks\":\"\"},\"colorscale\":[[0.0,\"#0d0887\"],[0.1111111111111111,\"#46039f\"],[0.2222222222222222,\"#7201a8\"],[0.3333333333333333,\"#9c179e\"],[0.4444444444444444,\"#bd3786\"],[0.5555555555555556,\"#d8576b\"],[0.6666666666666666,\"#ed7953\"],[0.7777777777777778,\"#fb9f3a\"],[0.8888888888888888,\"#fdca26\"],[1.0,\"#f0f921\"]]}],\"choropleth\":[{\"type\":\"choropleth\",\"colorbar\":{\"outlinewidth\":0,\"ticks\":\"\"}}],\"histogram2d\":[{\"type\":\"histogram2d\",\"colorbar\":{\"outlinewidth\":0,\"ticks\":\"\"},\"colorscale\":[[0.0,\"#0d0887\"],[0.1111111111111111,\"#46039f\"],[0.2222222222222222,\"#7201a8\"],[0.3333333333333333,\"#9c179e\"],[0.4444444444444444,\"#bd3786\"],[0.5555555555555556,\"#d8576b\"],[0.6666666666666666,\"#ed7953\"],[0.7777777777777778,\"#fb9f3a\"],[0.8888888888888888,\"#fdca26\"],[1.0,\"#f0f921\"]]}],\"heatmap\":[{\"type\":\"heatmap\",\"colorbar\":{\"outlinewidth\":0,\"ticks\":\"\"},\"colorscale\":[[0.0,\"#0d0887\"],[0.1111111111111111,\"#46039f\"],[0.2222222222222222,\"#7201a8\"],[0.3333333333333333,\"#9c179e\"],[0.4444444444444444,\"#bd3786\"],[0.5555555555555556,\"#d8576b\"],[0.6666666666666666,\"#ed7953\"],[0.7777777777777778,\"#fb9f3a\"],[0.8888888888888888,\"#fdca26\"],[1.0,\"#f0f921\"]]}],\"heatmapgl\":[{\"type\":\"heatmapgl\",\"colorbar\":{\"outlinewidth\":0,\"ticks\":\"\"},\"colorscale\":[[0.0,\"#0d0887\"],[0.1111111111111111,\"#46039f\"],[0.2222222222222222,\"#7201a8\"],[0.3333333333333333,\"#9c179e\"],[0.4444444444444444,\"#bd3786\"],[0.5555555555555556,\"#d8576b\"],[0.6666666666666666,\"#ed7953\"],[0.7777777777777778,\"#fb9f3a\"],[0.8888888888888888,\"#fdca26\"],[1.0,\"#f0f921\"]]}],\"contourcarpet\":[{\"type\":\"contourcarpet\",\"colorbar\":{\"outlinewidth\":0,\"ticks\":\"\"}}],\"contour\":[{\"type\":\"contour\",\"colorbar\":{\"outlinewidth\":0,\"ticks\":\"\"},\"colorscale\":[[0.0,\"#0d0887\"],[0.1111111111111111,\"#46039f\"],[0.2222222222222222,\"#7201a8\"],[0.3333333333333333,\"#9c179e\"],[0.4444444444444444,\"#bd3786\"],[0.5555555555555556,\"#d8576b\"],[0.6666666666666666,\"#ed7953\"],[0.7777777777777778,\"#fb9f3a\"],[0.8888888888888888,\"#fdca26\"],[1.0,\"#f0f921\"]]}],\"surface\":[{\"type\":\"surface\",\"colorbar\":{\"outlinewidth\":0,\"ticks\":\"\"},\"colorscale\":[[0.0,\"#0d0887\"],[0.1111111111111111,\"#46039f\"],[0.2222222222222222,\"#7201a8\"],[0.3333333333333333,\"#9c179e\"],[0.4444444444444444,\"#bd3786\"],[0.5555555555555556,\"#d8576b\"],[0.6666666666666666,\"#ed7953\"],[0.7777777777777778,\"#fb9f3a\"],[0.8888888888888888,\"#fdca26\"],[1.0,\"#f0f921\"]]}],\"mesh3d\":[{\"type\":\"mesh3d\",\"colorbar\":{\"outlinewidth\":0,\"ticks\":\"\"}}],\"scatter\":[{\"fillpattern\":{\"fillmode\":\"overlay\",\"size\":10,\"solidity\":0.2},\"type\":\"scatter\"}],\"parcoords\":[{\"type\":\"parcoords\",\"line\":{\"colorbar\":{\"outlinewidth\":0,\"ticks\":\"\"}}}],\"scatterpolargl\":[{\"type\":\"scatterpolargl\",\"marker\":{\"colorbar\":{\"outlinewidth\":0,\"ticks\":\"\"}}}],\"bar\":[{\"error_x\":{\"color\":\"#2a3f5f\"},\"error_y\":{\"color\":\"#2a3f5f\"},\"marker\":{\"line\":{\"color\":\"#E5ECF6\",\"width\":0.5},\"pattern\":{\"fillmode\":\"overlay\",\"size\":10,\"solidity\":0.2}},\"type\":\"bar\"}],\"scattergeo\":[{\"type\":\"scattergeo\",\"marker\":{\"colorbar\":{\"outlinewidth\":0,\"ticks\":\"\"}}}],\"scatterpolar\":[{\"type\":\"scatterpolar\",\"marker\":{\"colorbar\":{\"outlinewidth\":0,\"ticks\":\"\"}}}],\"histogram\":[{\"marker\":{\"pattern\":{\"fillmode\":\"overlay\",\"size\":10,\"solidity\":0.2}},\"type\":\"histogram\"}],\"scattergl\":[{\"type\":\"scattergl\",\"marker\":{\"colorbar\":{\"outlinewidth\":0,\"ticks\":\"\"}}}],\"scatter3d\":[{\"type\":\"scatter3d\",\"line\":{\"colorbar\":{\"outlinewidth\":0,\"ticks\":\"\"}},\"marker\":{\"colorbar\":{\"outlinewidth\":0,\"ticks\":\"\"}}}],\"scattermapbox\":[{\"type\":\"scattermapbox\",\"marker\":{\"colorbar\":{\"outlinewidth\":0,\"ticks\":\"\"}}}],\"scatterternary\":[{\"type\":\"scatterternary\",\"marker\":{\"colorbar\":{\"outlinewidth\":0,\"ticks\":\"\"}}}],\"scattercarpet\":[{\"type\":\"scattercarpet\",\"marker\":{\"colorbar\":{\"outlinewidth\":0,\"ticks\":\"\"}}}],\"carpet\":[{\"aaxis\":{\"endlinecolor\":\"#2a3f5f\",\"gridcolor\":\"white\",\"linecolor\":\"white\",\"minorgridcolor\":\"white\",\"startlinecolor\":\"#2a3f5f\"},\"baxis\":{\"endlinecolor\":\"#2a3f5f\",\"gridcolor\":\"white\",\"linecolor\":\"white\",\"minorgridcolor\":\"white\",\"startlinecolor\":\"#2a3f5f\"},\"type\":\"carpet\"}],\"table\":[{\"cells\":{\"fill\":{\"color\":\"#EBF0F8\"},\"line\":{\"color\":\"white\"}},\"header\":{\"fill\":{\"color\":\"#C8D4E3\"},\"line\":{\"color\":\"white\"}},\"type\":\"table\"}],\"barpolar\":[{\"marker\":{\"line\":{\"color\":\"#E5ECF6\",\"width\":0.5},\"pattern\":{\"fillmode\":\"overlay\",\"size\":10,\"solidity\":0.2}},\"type\":\"barpolar\"}],\"pie\":[{\"automargin\":true,\"type\":\"pie\"}]},\"layout\":{\"autotypenumbers\":\"strict\",\"colorway\":[\"#636efa\",\"#EF553B\",\"#00cc96\",\"#ab63fa\",\"#FFA15A\",\"#19d3f3\",\"#FF6692\",\"#B6E880\",\"#FF97FF\",\"#FECB52\"],\"font\":{\"color\":\"#2a3f5f\"},\"hovermode\":\"closest\",\"hoverlabel\":{\"align\":\"left\"},\"paper_bgcolor\":\"white\",\"plot_bgcolor\":\"#E5ECF6\",\"polar\":{\"bgcolor\":\"#E5ECF6\",\"angularaxis\":{\"gridcolor\":\"white\",\"linecolor\":\"white\",\"ticks\":\"\"},\"radialaxis\":{\"gridcolor\":\"white\",\"linecolor\":\"white\",\"ticks\":\"\"}},\"ternary\":{\"bgcolor\":\"#E5ECF6\",\"aaxis\":{\"gridcolor\":\"white\",\"linecolor\":\"white\",\"ticks\":\"\"},\"baxis\":{\"gridcolor\":\"white\",\"linecolor\":\"white\",\"ticks\":\"\"},\"caxis\":{\"gridcolor\":\"white\",\"linecolor\":\"white\",\"ticks\":\"\"}},\"coloraxis\":{\"colorbar\":{\"outlinewidth\":0,\"ticks\":\"\"}},\"colorscale\":{\"sequential\":[[0.0,\"#0d0887\"],[0.1111111111111111,\"#46039f\"],[0.2222222222222222,\"#7201a8\"],[0.3333333333333333,\"#9c179e\"],[0.4444444444444444,\"#bd3786\"],[0.5555555555555556,\"#d8576b\"],[0.6666666666666666,\"#ed7953\"],[0.7777777777777778,\"#fb9f3a\"],[0.8888888888888888,\"#fdca26\"],[1.0,\"#f0f921\"]],\"sequentialminus\":[[0.0,\"#0d0887\"],[0.1111111111111111,\"#46039f\"],[0.2222222222222222,\"#7201a8\"],[0.3333333333333333,\"#9c179e\"],[0.4444444444444444,\"#bd3786\"],[0.5555555555555556,\"#d8576b\"],[0.6666666666666666,\"#ed7953\"],[0.7777777777777778,\"#fb9f3a\"],[0.8888888888888888,\"#fdca26\"],[1.0,\"#f0f921\"]],\"diverging\":[[0,\"#8e0152\"],[0.1,\"#c51b7d\"],[0.2,\"#de77ae\"],[0.3,\"#f1b6da\"],[0.4,\"#fde0ef\"],[0.5,\"#f7f7f7\"],[0.6,\"#e6f5d0\"],[0.7,\"#b8e186\"],[0.8,\"#7fbc41\"],[0.9,\"#4d9221\"],[1,\"#276419\"]]},\"xaxis\":{\"gridcolor\":\"white\",\"linecolor\":\"white\",\"ticks\":\"\",\"title\":{\"standoff\":15},\"zerolinecolor\":\"white\",\"automargin\":true,\"zerolinewidth\":2},\"yaxis\":{\"gridcolor\":\"white\",\"linecolor\":\"white\",\"ticks\":\"\",\"title\":{\"standoff\":15},\"zerolinecolor\":\"white\",\"automargin\":true,\"zerolinewidth\":2},\"scene\":{\"xaxis\":{\"backgroundcolor\":\"#E5ECF6\",\"gridcolor\":\"white\",\"linecolor\":\"white\",\"showbackground\":true,\"ticks\":\"\",\"zerolinecolor\":\"white\",\"gridwidth\":2},\"yaxis\":{\"backgroundcolor\":\"#E5ECF6\",\"gridcolor\":\"white\",\"linecolor\":\"white\",\"showbackground\":true,\"ticks\":\"\",\"zerolinecolor\":\"white\",\"gridwidth\":2},\"zaxis\":{\"backgroundcolor\":\"#E5ECF6\",\"gridcolor\":\"white\",\"linecolor\":\"white\",\"showbackground\":true,\"ticks\":\"\",\"zerolinecolor\":\"white\",\"gridwidth\":2}},\"shapedefaults\":{\"line\":{\"color\":\"#2a3f5f\"}},\"annotationdefaults\":{\"arrowcolor\":\"#2a3f5f\",\"arrowhead\":0,\"arrowwidth\":1},\"geo\":{\"bgcolor\":\"white\",\"landcolor\":\"#E5ECF6\",\"subunitcolor\":\"white\",\"showland\":true,\"showlakes\":true,\"lakecolor\":\"white\"},\"title\":{\"x\":0.05},\"mapbox\":{\"style\":\"light\"}}},\"xaxis\":{\"anchor\":\"y\",\"domain\":[0.0,1.0],\"title\":{\"text\":\"Tenure Months\"}},\"yaxis\":{\"anchor\":\"x\",\"domain\":[0.0,1.0],\"title\":{\"text\":\"count\"}},\"legend\":{\"title\":{\"text\":\"Churn Label\"},\"tracegroupgap\":0},\"margin\":{\"t\":60},\"barmode\":\"relative\"},                        {\"responsive\": true}                    ).then(function(){\n",
       "                            \n",
       "var gd = document.getElementById('9784255f-ff56-4566-90b7-5c8afb86a631');\n",
       "var x = new MutationObserver(function (mutations, observer) {{\n",
       "        var display = window.getComputedStyle(gd).display;\n",
       "        if (!display || display === 'none') {{\n",
       "            console.log([gd, 'removed!']);\n",
       "            Plotly.purge(gd);\n",
       "            observer.disconnect();\n",
       "        }}\n",
       "}});\n",
       "\n",
       "// Listen for the removal of the full notebook cells\n",
       "var notebookContainer = gd.closest('#notebook-container');\n",
       "if (notebookContainer) {{\n",
       "    x.observe(notebookContainer, {childList: true});\n",
       "}}\n",
       "\n",
       "// Listen for the clearing of the current output cell\n",
       "var outputEl = gd.closest('.output');\n",
       "if (outputEl) {{\n",
       "    x.observe(outputEl, {childList: true});\n",
       "}}\n",
       "\n",
       "                        })                };                });            </script>        </div>"
      ]
     },
     "metadata": {},
     "output_type": "display_data"
    }
   ],
   "source": [
    "fig = px.histogram(df, x=\"Tenure Months\", color=\"Churn Label\" )\n",
    "fig.show()"
   ]
  },
  {
   "cell_type": "markdown",
   "id": "0715de8c",
   "metadata": {
    "papermill": {
     "duration": 0.025031,
     "end_time": "2023-11-14T14:42:28.093915",
     "exception": false,
     "start_time": "2023-11-14T14:42:28.068884",
     "status": "completed"
    },
    "tags": []
   },
   "source": [
    "**The number of clients in the churn ceases to decline sharply after 5 months in the service.**"
   ]
  },
  {
   "cell_type": "code",
   "execution_count": 24,
   "id": "ebdbd073",
   "metadata": {
    "execution": {
     "iopub.execute_input": "2023-11-14T14:42:28.139255Z",
     "iopub.status.busy": "2023-11-14T14:42:28.138381Z",
     "iopub.status.idle": "2023-11-14T14:42:28.213084Z",
     "shell.execute_reply": "2023-11-14T14:42:28.211889Z"
    },
    "papermill": {
     "duration": 0.097616,
     "end_time": "2023-11-14T14:42:28.215367",
     "exception": false,
     "start_time": "2023-11-14T14:42:28.117751",
     "status": "completed"
    },
    "tags": []
   },
   "outputs": [
    {
     "data": {
      "text/html": [
       "<div>                            <div id=\"0bf3b1f1-81fa-4117-9699-563599ef8baa\" class=\"plotly-graph-div\" style=\"height:525px; width:100%;\"></div>            <script type=\"text/javascript\">                require([\"plotly\"], function(Plotly) {                    window.PLOTLYENV=window.PLOTLYENV || {};                                    if (document.getElementById(\"0bf3b1f1-81fa-4117-9699-563599ef8baa\")) {                    Plotly.newPlot(                        \"0bf3b1f1-81fa-4117-9699-563599ef8baa\",                        [{\"alignmentgroup\":\"True\",\"hovertemplate\":\"Churn Label=No\\u003cbr\\u003elevel_1=%{x}\\u003cbr\\u003eTenure Months=%{text}\\u003cextra\\u003e\\u003c\\u002fextra\\u003e\",\"legendgroup\":\"No\",\"marker\":{\"color\":\"#636efa\",\"pattern\":{\"shape\":\"\"}},\"name\":\"No\",\"offsetgroup\":\"No\",\"orientation\":\"v\",\"showlegend\":true,\"text\":[38.0,61.0,71.0,72.0],\"textposition\":\"auto\",\"x\":[\"0.5\",\"0.75\",\"0.9\",\"0.95\"],\"xaxis\":\"x\",\"y\":[38.0,61.0,71.0,72.0],\"yaxis\":\"y\",\"type\":\"bar\"},{\"alignmentgroup\":\"True\",\"hovertemplate\":\"Churn Label=Yes\\u003cbr\\u003elevel_1=%{x}\\u003cbr\\u003eTenure Months=%{text}\\u003cextra\\u003e\\u003c\\u002fextra\\u003e\",\"legendgroup\":\"Yes\",\"marker\":{\"color\":\"#EF553B\",\"pattern\":{\"shape\":\"\"}},\"name\":\"Yes\",\"offsetgroup\":\"Yes\",\"orientation\":\"v\",\"showlegend\":true,\"text\":[10.0,29.0,51.0,60.0],\"textposition\":\"auto\",\"x\":[\"0.5\",\"0.75\",\"0.9\",\"0.95\"],\"xaxis\":\"x\",\"y\":[10.0,29.0,51.0,60.0],\"yaxis\":\"y\",\"type\":\"bar\"}],                        {\"template\":{\"data\":{\"histogram2dcontour\":[{\"type\":\"histogram2dcontour\",\"colorbar\":{\"outlinewidth\":0,\"ticks\":\"\"},\"colorscale\":[[0.0,\"#0d0887\"],[0.1111111111111111,\"#46039f\"],[0.2222222222222222,\"#7201a8\"],[0.3333333333333333,\"#9c179e\"],[0.4444444444444444,\"#bd3786\"],[0.5555555555555556,\"#d8576b\"],[0.6666666666666666,\"#ed7953\"],[0.7777777777777778,\"#fb9f3a\"],[0.8888888888888888,\"#fdca26\"],[1.0,\"#f0f921\"]]}],\"choropleth\":[{\"type\":\"choropleth\",\"colorbar\":{\"outlinewidth\":0,\"ticks\":\"\"}}],\"histogram2d\":[{\"type\":\"histogram2d\",\"colorbar\":{\"outlinewidth\":0,\"ticks\":\"\"},\"colorscale\":[[0.0,\"#0d0887\"],[0.1111111111111111,\"#46039f\"],[0.2222222222222222,\"#7201a8\"],[0.3333333333333333,\"#9c179e\"],[0.4444444444444444,\"#bd3786\"],[0.5555555555555556,\"#d8576b\"],[0.6666666666666666,\"#ed7953\"],[0.7777777777777778,\"#fb9f3a\"],[0.8888888888888888,\"#fdca26\"],[1.0,\"#f0f921\"]]}],\"heatmap\":[{\"type\":\"heatmap\",\"colorbar\":{\"outlinewidth\":0,\"ticks\":\"\"},\"colorscale\":[[0.0,\"#0d0887\"],[0.1111111111111111,\"#46039f\"],[0.2222222222222222,\"#7201a8\"],[0.3333333333333333,\"#9c179e\"],[0.4444444444444444,\"#bd3786\"],[0.5555555555555556,\"#d8576b\"],[0.6666666666666666,\"#ed7953\"],[0.7777777777777778,\"#fb9f3a\"],[0.8888888888888888,\"#fdca26\"],[1.0,\"#f0f921\"]]}],\"heatmapgl\":[{\"type\":\"heatmapgl\",\"colorbar\":{\"outlinewidth\":0,\"ticks\":\"\"},\"colorscale\":[[0.0,\"#0d0887\"],[0.1111111111111111,\"#46039f\"],[0.2222222222222222,\"#7201a8\"],[0.3333333333333333,\"#9c179e\"],[0.4444444444444444,\"#bd3786\"],[0.5555555555555556,\"#d8576b\"],[0.6666666666666666,\"#ed7953\"],[0.7777777777777778,\"#fb9f3a\"],[0.8888888888888888,\"#fdca26\"],[1.0,\"#f0f921\"]]}],\"contourcarpet\":[{\"type\":\"contourcarpet\",\"colorbar\":{\"outlinewidth\":0,\"ticks\":\"\"}}],\"contour\":[{\"type\":\"contour\",\"colorbar\":{\"outlinewidth\":0,\"ticks\":\"\"},\"colorscale\":[[0.0,\"#0d0887\"],[0.1111111111111111,\"#46039f\"],[0.2222222222222222,\"#7201a8\"],[0.3333333333333333,\"#9c179e\"],[0.4444444444444444,\"#bd3786\"],[0.5555555555555556,\"#d8576b\"],[0.6666666666666666,\"#ed7953\"],[0.7777777777777778,\"#fb9f3a\"],[0.8888888888888888,\"#fdca26\"],[1.0,\"#f0f921\"]]}],\"surface\":[{\"type\":\"surface\",\"colorbar\":{\"outlinewidth\":0,\"ticks\":\"\"},\"colorscale\":[[0.0,\"#0d0887\"],[0.1111111111111111,\"#46039f\"],[0.2222222222222222,\"#7201a8\"],[0.3333333333333333,\"#9c179e\"],[0.4444444444444444,\"#bd3786\"],[0.5555555555555556,\"#d8576b\"],[0.6666666666666666,\"#ed7953\"],[0.7777777777777778,\"#fb9f3a\"],[0.8888888888888888,\"#fdca26\"],[1.0,\"#f0f921\"]]}],\"mesh3d\":[{\"type\":\"mesh3d\",\"colorbar\":{\"outlinewidth\":0,\"ticks\":\"\"}}],\"scatter\":[{\"fillpattern\":{\"fillmode\":\"overlay\",\"size\":10,\"solidity\":0.2},\"type\":\"scatter\"}],\"parcoords\":[{\"type\":\"parcoords\",\"line\":{\"colorbar\":{\"outlinewidth\":0,\"ticks\":\"\"}}}],\"scatterpolargl\":[{\"type\":\"scatterpolargl\",\"marker\":{\"colorbar\":{\"outlinewidth\":0,\"ticks\":\"\"}}}],\"bar\":[{\"error_x\":{\"color\":\"#2a3f5f\"},\"error_y\":{\"color\":\"#2a3f5f\"},\"marker\":{\"line\":{\"color\":\"#E5ECF6\",\"width\":0.5},\"pattern\":{\"fillmode\":\"overlay\",\"size\":10,\"solidity\":0.2}},\"type\":\"bar\"}],\"scattergeo\":[{\"type\":\"scattergeo\",\"marker\":{\"colorbar\":{\"outlinewidth\":0,\"ticks\":\"\"}}}],\"scatterpolar\":[{\"type\":\"scatterpolar\",\"marker\":{\"colorbar\":{\"outlinewidth\":0,\"ticks\":\"\"}}}],\"histogram\":[{\"marker\":{\"pattern\":{\"fillmode\":\"overlay\",\"size\":10,\"solidity\":0.2}},\"type\":\"histogram\"}],\"scattergl\":[{\"type\":\"scattergl\",\"marker\":{\"colorbar\":{\"outlinewidth\":0,\"ticks\":\"\"}}}],\"scatter3d\":[{\"type\":\"scatter3d\",\"line\":{\"colorbar\":{\"outlinewidth\":0,\"ticks\":\"\"}},\"marker\":{\"colorbar\":{\"outlinewidth\":0,\"ticks\":\"\"}}}],\"scattermapbox\":[{\"type\":\"scattermapbox\",\"marker\":{\"colorbar\":{\"outlinewidth\":0,\"ticks\":\"\"}}}],\"scatterternary\":[{\"type\":\"scatterternary\",\"marker\":{\"colorbar\":{\"outlinewidth\":0,\"ticks\":\"\"}}}],\"scattercarpet\":[{\"type\":\"scattercarpet\",\"marker\":{\"colorbar\":{\"outlinewidth\":0,\"ticks\":\"\"}}}],\"carpet\":[{\"aaxis\":{\"endlinecolor\":\"#2a3f5f\",\"gridcolor\":\"white\",\"linecolor\":\"white\",\"minorgridcolor\":\"white\",\"startlinecolor\":\"#2a3f5f\"},\"baxis\":{\"endlinecolor\":\"#2a3f5f\",\"gridcolor\":\"white\",\"linecolor\":\"white\",\"minorgridcolor\":\"white\",\"startlinecolor\":\"#2a3f5f\"},\"type\":\"carpet\"}],\"table\":[{\"cells\":{\"fill\":{\"color\":\"#EBF0F8\"},\"line\":{\"color\":\"white\"}},\"header\":{\"fill\":{\"color\":\"#C8D4E3\"},\"line\":{\"color\":\"white\"}},\"type\":\"table\"}],\"barpolar\":[{\"marker\":{\"line\":{\"color\":\"#E5ECF6\",\"width\":0.5},\"pattern\":{\"fillmode\":\"overlay\",\"size\":10,\"solidity\":0.2}},\"type\":\"barpolar\"}],\"pie\":[{\"automargin\":true,\"type\":\"pie\"}]},\"layout\":{\"autotypenumbers\":\"strict\",\"colorway\":[\"#636efa\",\"#EF553B\",\"#00cc96\",\"#ab63fa\",\"#FFA15A\",\"#19d3f3\",\"#FF6692\",\"#B6E880\",\"#FF97FF\",\"#FECB52\"],\"font\":{\"color\":\"#2a3f5f\"},\"hovermode\":\"closest\",\"hoverlabel\":{\"align\":\"left\"},\"paper_bgcolor\":\"white\",\"plot_bgcolor\":\"#E5ECF6\",\"polar\":{\"bgcolor\":\"#E5ECF6\",\"angularaxis\":{\"gridcolor\":\"white\",\"linecolor\":\"white\",\"ticks\":\"\"},\"radialaxis\":{\"gridcolor\":\"white\",\"linecolor\":\"white\",\"ticks\":\"\"}},\"ternary\":{\"bgcolor\":\"#E5ECF6\",\"aaxis\":{\"gridcolor\":\"white\",\"linecolor\":\"white\",\"ticks\":\"\"},\"baxis\":{\"gridcolor\":\"white\",\"linecolor\":\"white\",\"ticks\":\"\"},\"caxis\":{\"gridcolor\":\"white\",\"linecolor\":\"white\",\"ticks\":\"\"}},\"coloraxis\":{\"colorbar\":{\"outlinewidth\":0,\"ticks\":\"\"}},\"colorscale\":{\"sequential\":[[0.0,\"#0d0887\"],[0.1111111111111111,\"#46039f\"],[0.2222222222222222,\"#7201a8\"],[0.3333333333333333,\"#9c179e\"],[0.4444444444444444,\"#bd3786\"],[0.5555555555555556,\"#d8576b\"],[0.6666666666666666,\"#ed7953\"],[0.7777777777777778,\"#fb9f3a\"],[0.8888888888888888,\"#fdca26\"],[1.0,\"#f0f921\"]],\"sequentialminus\":[[0.0,\"#0d0887\"],[0.1111111111111111,\"#46039f\"],[0.2222222222222222,\"#7201a8\"],[0.3333333333333333,\"#9c179e\"],[0.4444444444444444,\"#bd3786\"],[0.5555555555555556,\"#d8576b\"],[0.6666666666666666,\"#ed7953\"],[0.7777777777777778,\"#fb9f3a\"],[0.8888888888888888,\"#fdca26\"],[1.0,\"#f0f921\"]],\"diverging\":[[0,\"#8e0152\"],[0.1,\"#c51b7d\"],[0.2,\"#de77ae\"],[0.3,\"#f1b6da\"],[0.4,\"#fde0ef\"],[0.5,\"#f7f7f7\"],[0.6,\"#e6f5d0\"],[0.7,\"#b8e186\"],[0.8,\"#7fbc41\"],[0.9,\"#4d9221\"],[1,\"#276419\"]]},\"xaxis\":{\"gridcolor\":\"white\",\"linecolor\":\"white\",\"ticks\":\"\",\"title\":{\"standoff\":15},\"zerolinecolor\":\"white\",\"automargin\":true,\"zerolinewidth\":2},\"yaxis\":{\"gridcolor\":\"white\",\"linecolor\":\"white\",\"ticks\":\"\",\"title\":{\"standoff\":15},\"zerolinecolor\":\"white\",\"automargin\":true,\"zerolinewidth\":2},\"scene\":{\"xaxis\":{\"backgroundcolor\":\"#E5ECF6\",\"gridcolor\":\"white\",\"linecolor\":\"white\",\"showbackground\":true,\"ticks\":\"\",\"zerolinecolor\":\"white\",\"gridwidth\":2},\"yaxis\":{\"backgroundcolor\":\"#E5ECF6\",\"gridcolor\":\"white\",\"linecolor\":\"white\",\"showbackground\":true,\"ticks\":\"\",\"zerolinecolor\":\"white\",\"gridwidth\":2},\"zaxis\":{\"backgroundcolor\":\"#E5ECF6\",\"gridcolor\":\"white\",\"linecolor\":\"white\",\"showbackground\":true,\"ticks\":\"\",\"zerolinecolor\":\"white\",\"gridwidth\":2}},\"shapedefaults\":{\"line\":{\"color\":\"#2a3f5f\"}},\"annotationdefaults\":{\"arrowcolor\":\"#2a3f5f\",\"arrowhead\":0,\"arrowwidth\":1},\"geo\":{\"bgcolor\":\"white\",\"landcolor\":\"#E5ECF6\",\"subunitcolor\":\"white\",\"showland\":true,\"showlakes\":true,\"lakecolor\":\"white\"},\"title\":{\"x\":0.05},\"mapbox\":{\"style\":\"light\"}}},\"xaxis\":{\"anchor\":\"y\",\"domain\":[0.0,1.0],\"title\":{\"text\":\"Quantiles\"}},\"yaxis\":{\"anchor\":\"x\",\"domain\":[0.0,1.0],\"title\":{\"text\":\"Tenure Months\"}},\"legend\":{\"title\":{\"text\":\"Churn Label\"},\"tracegroupgap\":0},\"margin\":{\"t\":60},\"barmode\":\"group\"},                        {\"responsive\": true}                    ).then(function(){\n",
       "                            \n",
       "var gd = document.getElementById('0bf3b1f1-81fa-4117-9699-563599ef8baa');\n",
       "var x = new MutationObserver(function (mutations, observer) {{\n",
       "        var display = window.getComputedStyle(gd).display;\n",
       "        if (!display || display === 'none') {{\n",
       "            console.log([gd, 'removed!']);\n",
       "            Plotly.purge(gd);\n",
       "            observer.disconnect();\n",
       "        }}\n",
       "}});\n",
       "\n",
       "// Listen for the removal of the full notebook cells\n",
       "var notebookContainer = gd.closest('#notebook-container');\n",
       "if (notebookContainer) {{\n",
       "    x.observe(notebookContainer, {childList: true});\n",
       "}}\n",
       "\n",
       "// Listen for the clearing of the current output cell\n",
       "var outputEl = gd.closest('.output');\n",
       "if (outputEl) {{\n",
       "    x.observe(outputEl, {childList: true});\n",
       "}}\n",
       "\n",
       "                        })                };                });            </script>        </div>"
      ]
     },
     "metadata": {},
     "output_type": "display_data"
    }
   ],
   "source": [
    "TenureMonths= df.groupby('Churn Label')['Tenure Months'].quantile([.50,.75,.90,.95]).reset_index()\n",
    "TenureMonths['level_1']=TenureMonths['level_1'].astype(str)\n",
    "\n",
    "fig = px.bar(TenureMonths, x='level_1', y= 'Tenure Months',\n",
    "             color= 'Churn Label', barmode=\"group\", text = 'Tenure Months' )\n",
    "\n",
    "fig.update_xaxes(title=\"Quantiles\")\n",
    "fig.show()"
   ]
  },
  {
   "cell_type": "markdown",
   "id": "8b207272",
   "metadata": {
    "papermill": {
     "duration": 0.021505,
     "end_time": "2023-11-14T14:42:28.262256",
     "exception": false,
     "start_time": "2023-11-14T14:42:28.240751",
     "status": "completed"
    },
    "tags": []
   },
   "source": [
    "**`50%` of the customers who left the service did so in the first 10 months.**"
   ]
  },
  {
   "cell_type": "markdown",
   "id": "21f097ca",
   "metadata": {
    "papermill": {
     "duration": 0.019325,
     "end_time": "2023-11-14T14:42:28.301599",
     "exception": false,
     "start_time": "2023-11-14T14:42:28.282274",
     "status": "completed"
    },
    "tags": []
   },
   "source": [
    "## Contract type"
   ]
  },
  {
   "cell_type": "code",
   "execution_count": 25,
   "id": "cfa88ca4",
   "metadata": {
    "execution": {
     "iopub.execute_input": "2023-11-14T14:42:28.346031Z",
     "iopub.status.busy": "2023-11-14T14:42:28.345663Z",
     "iopub.status.idle": "2023-11-14T14:42:28.391150Z",
     "shell.execute_reply": "2023-11-14T14:42:28.390150Z"
    },
    "papermill": {
     "duration": 0.072199,
     "end_time": "2023-11-14T14:42:28.393406",
     "exception": false,
     "start_time": "2023-11-14T14:42:28.321207",
     "status": "completed"
    },
    "tags": []
   },
   "outputs": [
    {
     "data": {
      "text/html": [
       "<div>                            <div id=\"5d060edc-5f4c-4e7f-92af-5e992c99f782\" class=\"plotly-graph-div\" style=\"height:525px; width:100%;\"></div>            <script type=\"text/javascript\">                require([\"plotly\"], function(Plotly) {                    window.PLOTLYENV=window.PLOTLYENV || {};                                    if (document.getElementById(\"5d060edc-5f4c-4e7f-92af-5e992c99f782\")) {                    Plotly.newPlot(                        \"5d060edc-5f4c-4e7f-92af-5e992c99f782\",                        [{\"domain\":{\"x\":[0.0,1.0],\"y\":[0.0,1.0]},\"hovertemplate\":\"label=%{label}\\u003cbr\\u003evalue=%{value}\\u003cextra\\u003e\\u003c\\u002fextra\\u003e\",\"labels\":[\"Month-to-month\",\"Two year\",\"One year\"],\"legendgroup\":\"\",\"name\":\"\",\"showlegend\":true,\"values\":[3875,1695,1473],\"type\":\"pie\"}],                        {\"template\":{\"data\":{\"histogram2dcontour\":[{\"type\":\"histogram2dcontour\",\"colorbar\":{\"outlinewidth\":0,\"ticks\":\"\"},\"colorscale\":[[0.0,\"#0d0887\"],[0.1111111111111111,\"#46039f\"],[0.2222222222222222,\"#7201a8\"],[0.3333333333333333,\"#9c179e\"],[0.4444444444444444,\"#bd3786\"],[0.5555555555555556,\"#d8576b\"],[0.6666666666666666,\"#ed7953\"],[0.7777777777777778,\"#fb9f3a\"],[0.8888888888888888,\"#fdca26\"],[1.0,\"#f0f921\"]]}],\"choropleth\":[{\"type\":\"choropleth\",\"colorbar\":{\"outlinewidth\":0,\"ticks\":\"\"}}],\"histogram2d\":[{\"type\":\"histogram2d\",\"colorbar\":{\"outlinewidth\":0,\"ticks\":\"\"},\"colorscale\":[[0.0,\"#0d0887\"],[0.1111111111111111,\"#46039f\"],[0.2222222222222222,\"#7201a8\"],[0.3333333333333333,\"#9c179e\"],[0.4444444444444444,\"#bd3786\"],[0.5555555555555556,\"#d8576b\"],[0.6666666666666666,\"#ed7953\"],[0.7777777777777778,\"#fb9f3a\"],[0.8888888888888888,\"#fdca26\"],[1.0,\"#f0f921\"]]}],\"heatmap\":[{\"type\":\"heatmap\",\"colorbar\":{\"outlinewidth\":0,\"ticks\":\"\"},\"colorscale\":[[0.0,\"#0d0887\"],[0.1111111111111111,\"#46039f\"],[0.2222222222222222,\"#7201a8\"],[0.3333333333333333,\"#9c179e\"],[0.4444444444444444,\"#bd3786\"],[0.5555555555555556,\"#d8576b\"],[0.6666666666666666,\"#ed7953\"],[0.7777777777777778,\"#fb9f3a\"],[0.8888888888888888,\"#fdca26\"],[1.0,\"#f0f921\"]]}],\"heatmapgl\":[{\"type\":\"heatmapgl\",\"colorbar\":{\"outlinewidth\":0,\"ticks\":\"\"},\"colorscale\":[[0.0,\"#0d0887\"],[0.1111111111111111,\"#46039f\"],[0.2222222222222222,\"#7201a8\"],[0.3333333333333333,\"#9c179e\"],[0.4444444444444444,\"#bd3786\"],[0.5555555555555556,\"#d8576b\"],[0.6666666666666666,\"#ed7953\"],[0.7777777777777778,\"#fb9f3a\"],[0.8888888888888888,\"#fdca26\"],[1.0,\"#f0f921\"]]}],\"contourcarpet\":[{\"type\":\"contourcarpet\",\"colorbar\":{\"outlinewidth\":0,\"ticks\":\"\"}}],\"contour\":[{\"type\":\"contour\",\"colorbar\":{\"outlinewidth\":0,\"ticks\":\"\"},\"colorscale\":[[0.0,\"#0d0887\"],[0.1111111111111111,\"#46039f\"],[0.2222222222222222,\"#7201a8\"],[0.3333333333333333,\"#9c179e\"],[0.4444444444444444,\"#bd3786\"],[0.5555555555555556,\"#d8576b\"],[0.6666666666666666,\"#ed7953\"],[0.7777777777777778,\"#fb9f3a\"],[0.8888888888888888,\"#fdca26\"],[1.0,\"#f0f921\"]]}],\"surface\":[{\"type\":\"surface\",\"colorbar\":{\"outlinewidth\":0,\"ticks\":\"\"},\"colorscale\":[[0.0,\"#0d0887\"],[0.1111111111111111,\"#46039f\"],[0.2222222222222222,\"#7201a8\"],[0.3333333333333333,\"#9c179e\"],[0.4444444444444444,\"#bd3786\"],[0.5555555555555556,\"#d8576b\"],[0.6666666666666666,\"#ed7953\"],[0.7777777777777778,\"#fb9f3a\"],[0.8888888888888888,\"#fdca26\"],[1.0,\"#f0f921\"]]}],\"mesh3d\":[{\"type\":\"mesh3d\",\"colorbar\":{\"outlinewidth\":0,\"ticks\":\"\"}}],\"scatter\":[{\"fillpattern\":{\"fillmode\":\"overlay\",\"size\":10,\"solidity\":0.2},\"type\":\"scatter\"}],\"parcoords\":[{\"type\":\"parcoords\",\"line\":{\"colorbar\":{\"outlinewidth\":0,\"ticks\":\"\"}}}],\"scatterpolargl\":[{\"type\":\"scatterpolargl\",\"marker\":{\"colorbar\":{\"outlinewidth\":0,\"ticks\":\"\"}}}],\"bar\":[{\"error_x\":{\"color\":\"#2a3f5f\"},\"error_y\":{\"color\":\"#2a3f5f\"},\"marker\":{\"line\":{\"color\":\"#E5ECF6\",\"width\":0.5},\"pattern\":{\"fillmode\":\"overlay\",\"size\":10,\"solidity\":0.2}},\"type\":\"bar\"}],\"scattergeo\":[{\"type\":\"scattergeo\",\"marker\":{\"colorbar\":{\"outlinewidth\":0,\"ticks\":\"\"}}}],\"scatterpolar\":[{\"type\":\"scatterpolar\",\"marker\":{\"colorbar\":{\"outlinewidth\":0,\"ticks\":\"\"}}}],\"histogram\":[{\"marker\":{\"pattern\":{\"fillmode\":\"overlay\",\"size\":10,\"solidity\":0.2}},\"type\":\"histogram\"}],\"scattergl\":[{\"type\":\"scattergl\",\"marker\":{\"colorbar\":{\"outlinewidth\":0,\"ticks\":\"\"}}}],\"scatter3d\":[{\"type\":\"scatter3d\",\"line\":{\"colorbar\":{\"outlinewidth\":0,\"ticks\":\"\"}},\"marker\":{\"colorbar\":{\"outlinewidth\":0,\"ticks\":\"\"}}}],\"scattermapbox\":[{\"type\":\"scattermapbox\",\"marker\":{\"colorbar\":{\"outlinewidth\":0,\"ticks\":\"\"}}}],\"scatterternary\":[{\"type\":\"scatterternary\",\"marker\":{\"colorbar\":{\"outlinewidth\":0,\"ticks\":\"\"}}}],\"scattercarpet\":[{\"type\":\"scattercarpet\",\"marker\":{\"colorbar\":{\"outlinewidth\":0,\"ticks\":\"\"}}}],\"carpet\":[{\"aaxis\":{\"endlinecolor\":\"#2a3f5f\",\"gridcolor\":\"white\",\"linecolor\":\"white\",\"minorgridcolor\":\"white\",\"startlinecolor\":\"#2a3f5f\"},\"baxis\":{\"endlinecolor\":\"#2a3f5f\",\"gridcolor\":\"white\",\"linecolor\":\"white\",\"minorgridcolor\":\"white\",\"startlinecolor\":\"#2a3f5f\"},\"type\":\"carpet\"}],\"table\":[{\"cells\":{\"fill\":{\"color\":\"#EBF0F8\"},\"line\":{\"color\":\"white\"}},\"header\":{\"fill\":{\"color\":\"#C8D4E3\"},\"line\":{\"color\":\"white\"}},\"type\":\"table\"}],\"barpolar\":[{\"marker\":{\"line\":{\"color\":\"#E5ECF6\",\"width\":0.5},\"pattern\":{\"fillmode\":\"overlay\",\"size\":10,\"solidity\":0.2}},\"type\":\"barpolar\"}],\"pie\":[{\"automargin\":true,\"type\":\"pie\"}]},\"layout\":{\"autotypenumbers\":\"strict\",\"colorway\":[\"#636efa\",\"#EF553B\",\"#00cc96\",\"#ab63fa\",\"#FFA15A\",\"#19d3f3\",\"#FF6692\",\"#B6E880\",\"#FF97FF\",\"#FECB52\"],\"font\":{\"color\":\"#2a3f5f\"},\"hovermode\":\"closest\",\"hoverlabel\":{\"align\":\"left\"},\"paper_bgcolor\":\"white\",\"plot_bgcolor\":\"#E5ECF6\",\"polar\":{\"bgcolor\":\"#E5ECF6\",\"angularaxis\":{\"gridcolor\":\"white\",\"linecolor\":\"white\",\"ticks\":\"\"},\"radialaxis\":{\"gridcolor\":\"white\",\"linecolor\":\"white\",\"ticks\":\"\"}},\"ternary\":{\"bgcolor\":\"#E5ECF6\",\"aaxis\":{\"gridcolor\":\"white\",\"linecolor\":\"white\",\"ticks\":\"\"},\"baxis\":{\"gridcolor\":\"white\",\"linecolor\":\"white\",\"ticks\":\"\"},\"caxis\":{\"gridcolor\":\"white\",\"linecolor\":\"white\",\"ticks\":\"\"}},\"coloraxis\":{\"colorbar\":{\"outlinewidth\":0,\"ticks\":\"\"}},\"colorscale\":{\"sequential\":[[0.0,\"#0d0887\"],[0.1111111111111111,\"#46039f\"],[0.2222222222222222,\"#7201a8\"],[0.3333333333333333,\"#9c179e\"],[0.4444444444444444,\"#bd3786\"],[0.5555555555555556,\"#d8576b\"],[0.6666666666666666,\"#ed7953\"],[0.7777777777777778,\"#fb9f3a\"],[0.8888888888888888,\"#fdca26\"],[1.0,\"#f0f921\"]],\"sequentialminus\":[[0.0,\"#0d0887\"],[0.1111111111111111,\"#46039f\"],[0.2222222222222222,\"#7201a8\"],[0.3333333333333333,\"#9c179e\"],[0.4444444444444444,\"#bd3786\"],[0.5555555555555556,\"#d8576b\"],[0.6666666666666666,\"#ed7953\"],[0.7777777777777778,\"#fb9f3a\"],[0.8888888888888888,\"#fdca26\"],[1.0,\"#f0f921\"]],\"diverging\":[[0,\"#8e0152\"],[0.1,\"#c51b7d\"],[0.2,\"#de77ae\"],[0.3,\"#f1b6da\"],[0.4,\"#fde0ef\"],[0.5,\"#f7f7f7\"],[0.6,\"#e6f5d0\"],[0.7,\"#b8e186\"],[0.8,\"#7fbc41\"],[0.9,\"#4d9221\"],[1,\"#276419\"]]},\"xaxis\":{\"gridcolor\":\"white\",\"linecolor\":\"white\",\"ticks\":\"\",\"title\":{\"standoff\":15},\"zerolinecolor\":\"white\",\"automargin\":true,\"zerolinewidth\":2},\"yaxis\":{\"gridcolor\":\"white\",\"linecolor\":\"white\",\"ticks\":\"\",\"title\":{\"standoff\":15},\"zerolinecolor\":\"white\",\"automargin\":true,\"zerolinewidth\":2},\"scene\":{\"xaxis\":{\"backgroundcolor\":\"#E5ECF6\",\"gridcolor\":\"white\",\"linecolor\":\"white\",\"showbackground\":true,\"ticks\":\"\",\"zerolinecolor\":\"white\",\"gridwidth\":2},\"yaxis\":{\"backgroundcolor\":\"#E5ECF6\",\"gridcolor\":\"white\",\"linecolor\":\"white\",\"showbackground\":true,\"ticks\":\"\",\"zerolinecolor\":\"white\",\"gridwidth\":2},\"zaxis\":{\"backgroundcolor\":\"#E5ECF6\",\"gridcolor\":\"white\",\"linecolor\":\"white\",\"showbackground\":true,\"ticks\":\"\",\"zerolinecolor\":\"white\",\"gridwidth\":2}},\"shapedefaults\":{\"line\":{\"color\":\"#2a3f5f\"}},\"annotationdefaults\":{\"arrowcolor\":\"#2a3f5f\",\"arrowhead\":0,\"arrowwidth\":1},\"geo\":{\"bgcolor\":\"white\",\"landcolor\":\"#E5ECF6\",\"subunitcolor\":\"white\",\"showland\":true,\"showlakes\":true,\"lakecolor\":\"white\"},\"title\":{\"x\":0.05},\"mapbox\":{\"style\":\"light\"}}},\"legend\":{\"tracegroupgap\":0},\"title\":{\"text\":\"Contract Distribution\"}},                        {\"responsive\": true}                    ).then(function(){\n",
       "                            \n",
       "var gd = document.getElementById('5d060edc-5f4c-4e7f-92af-5e992c99f782');\n",
       "var x = new MutationObserver(function (mutations, observer) {{\n",
       "        var display = window.getComputedStyle(gd).display;\n",
       "        if (!display || display === 'none') {{\n",
       "            console.log([gd, 'removed!']);\n",
       "            Plotly.purge(gd);\n",
       "            observer.disconnect();\n",
       "        }}\n",
       "}});\n",
       "\n",
       "// Listen for the removal of the full notebook cells\n",
       "var notebookContainer = gd.closest('#notebook-container');\n",
       "if (notebookContainer) {{\n",
       "    x.observe(notebookContainer, {childList: true});\n",
       "}}\n",
       "\n",
       "// Listen for the clearing of the current output cell\n",
       "var outputEl = gd.closest('.output');\n",
       "if (outputEl) {{\n",
       "    x.observe(outputEl, {childList: true});\n",
       "}}\n",
       "\n",
       "                        })                };                });            </script>        </div>"
      ]
     },
     "metadata": {},
     "output_type": "display_data"
    }
   ],
   "source": [
    "Contract_Label_counts= df['Contract'].value_counts()\n",
    "fig1 = px.pie(names= Contract_Label_counts.keys(), values= Contract_Label_counts.values, title='Contract Distribution')\n",
    "fig1.show()"
   ]
  },
  {
   "cell_type": "code",
   "execution_count": 26,
   "id": "dbc663bb",
   "metadata": {
    "execution": {
     "iopub.execute_input": "2023-11-14T14:42:28.436126Z",
     "iopub.status.busy": "2023-11-14T14:42:28.435173Z",
     "iopub.status.idle": "2023-11-14T14:42:28.452047Z",
     "shell.execute_reply": "2023-11-14T14:42:28.451315Z"
    },
    "papermill": {
     "duration": 0.039081,
     "end_time": "2023-11-14T14:42:28.453765",
     "exception": false,
     "start_time": "2023-11-14T14:42:28.414684",
     "status": "completed"
    },
    "tags": []
   },
   "outputs": [
    {
     "data": {
      "text/html": [
       "<div>\n",
       "<style scoped>\n",
       "    .dataframe tbody tr th:only-of-type {\n",
       "        vertical-align: middle;\n",
       "    }\n",
       "\n",
       "    .dataframe tbody tr th {\n",
       "        vertical-align: top;\n",
       "    }\n",
       "\n",
       "    .dataframe thead th {\n",
       "        text-align: right;\n",
       "    }\n",
       "</style>\n",
       "<table border=\"1\" class=\"dataframe\">\n",
       "  <thead>\n",
       "    <tr style=\"text-align: right;\">\n",
       "      <th></th>\n",
       "      <th>Contract</th>\n",
       "      <th>Churn Label</th>\n",
       "      <th>normalized_count</th>\n",
       "    </tr>\n",
       "  </thead>\n",
       "  <tbody>\n",
       "    <tr>\n",
       "      <th>0</th>\n",
       "      <td>Month-to-month</td>\n",
       "      <td>No</td>\n",
       "      <td>0.57</td>\n",
       "    </tr>\n",
       "    <tr>\n",
       "      <th>1</th>\n",
       "      <td>Month-to-month</td>\n",
       "      <td>Yes</td>\n",
       "      <td>0.43</td>\n",
       "    </tr>\n",
       "    <tr>\n",
       "      <th>2</th>\n",
       "      <td>One year</td>\n",
       "      <td>No</td>\n",
       "      <td>0.89</td>\n",
       "    </tr>\n",
       "    <tr>\n",
       "      <th>3</th>\n",
       "      <td>One year</td>\n",
       "      <td>Yes</td>\n",
       "      <td>0.11</td>\n",
       "    </tr>\n",
       "    <tr>\n",
       "      <th>4</th>\n",
       "      <td>Two year</td>\n",
       "      <td>No</td>\n",
       "      <td>0.97</td>\n",
       "    </tr>\n",
       "    <tr>\n",
       "      <th>5</th>\n",
       "      <td>Two year</td>\n",
       "      <td>Yes</td>\n",
       "      <td>0.03</td>\n",
       "    </tr>\n",
       "  </tbody>\n",
       "</table>\n",
       "</div>"
      ],
      "text/plain": [
       "         Contract Churn Label  normalized_count\n",
       "0  Month-to-month          No              0.57\n",
       "1  Month-to-month         Yes              0.43\n",
       "2        One year          No              0.89\n",
       "3        One year         Yes              0.11\n",
       "4        Two year          No              0.97\n",
       "5        Two year         Yes              0.03"
      ]
     },
     "execution_count": 26,
     "metadata": {},
     "output_type": "execute_result"
    }
   ],
   "source": [
    "# Group by 'Contract' and 'Churn Label' and count the occurrences\n",
    "grouped = df.groupby(['Contract', 'Churn Label'])['CustomerID'].count()\n",
    "total_counts = grouped.groupby('Contract').transform('sum')\n",
    "normalized_count = round(grouped / total_counts,2)\n",
    "Contract_ChurnLabel = pd.DataFrame({'normalized_count': normalized_count}).reset_index()\n",
    "\n",
    "Contract_ChurnLabel"
   ]
  },
  {
   "cell_type": "code",
   "execution_count": 27,
   "id": "5d347b6d",
   "metadata": {
    "execution": {
     "iopub.execute_input": "2023-11-14T14:42:28.495335Z",
     "iopub.status.busy": "2023-11-14T14:42:28.494769Z",
     "iopub.status.idle": "2023-11-14T14:42:28.551920Z",
     "shell.execute_reply": "2023-11-14T14:42:28.551018Z"
    },
    "papermill": {
     "duration": 0.080576,
     "end_time": "2023-11-14T14:42:28.553736",
     "exception": false,
     "start_time": "2023-11-14T14:42:28.473160",
     "status": "completed"
    },
    "tags": []
   },
   "outputs": [
    {
     "data": {
      "text/html": [
       "<div>                            <div id=\"7e039ab2-41c4-4365-8059-e981e6a8b180\" class=\"plotly-graph-div\" style=\"height:525px; width:100%;\"></div>            <script type=\"text/javascript\">                require([\"plotly\"], function(Plotly) {                    window.PLOTLYENV=window.PLOTLYENV || {};                                    if (document.getElementById(\"7e039ab2-41c4-4365-8059-e981e6a8b180\")) {                    Plotly.newPlot(                        \"7e039ab2-41c4-4365-8059-e981e6a8b180\",                        [{\"alignmentgroup\":\"True\",\"hovertemplate\":\"Churn Label=No\\u003cbr\\u003ePercentage=%{text}\\u003cbr\\u003eContract=%{y}\\u003cextra\\u003e\\u003c\\u002fextra\\u003e\",\"legendgroup\":\"No\",\"marker\":{\"color\":\"#636efa\",\"pattern\":{\"shape\":\"\"}},\"name\":\"No\",\"offsetgroup\":\"No\",\"orientation\":\"h\",\"showlegend\":true,\"text\":[0.57,0.89,0.97],\"textposition\":\"auto\",\"x\":[0.57,0.89,0.97],\"xaxis\":\"x\",\"y\":[\"Month-to-month\",\"One year\",\"Two year\"],\"yaxis\":\"y\",\"type\":\"bar\"},{\"alignmentgroup\":\"True\",\"hovertemplate\":\"Churn Label=Yes\\u003cbr\\u003ePercentage=%{text}\\u003cbr\\u003eContract=%{y}\\u003cextra\\u003e\\u003c\\u002fextra\\u003e\",\"legendgroup\":\"Yes\",\"marker\":{\"color\":\"#EF553B\",\"pattern\":{\"shape\":\"\"}},\"name\":\"Yes\",\"offsetgroup\":\"Yes\",\"orientation\":\"h\",\"showlegend\":true,\"text\":[0.43,0.11,0.03],\"textposition\":\"auto\",\"x\":[0.43,0.11,0.03],\"xaxis\":\"x\",\"y\":[\"Month-to-month\",\"One year\",\"Two year\"],\"yaxis\":\"y\",\"type\":\"bar\"}],                        {\"template\":{\"data\":{\"histogram2dcontour\":[{\"type\":\"histogram2dcontour\",\"colorbar\":{\"outlinewidth\":0,\"ticks\":\"\"},\"colorscale\":[[0.0,\"#0d0887\"],[0.1111111111111111,\"#46039f\"],[0.2222222222222222,\"#7201a8\"],[0.3333333333333333,\"#9c179e\"],[0.4444444444444444,\"#bd3786\"],[0.5555555555555556,\"#d8576b\"],[0.6666666666666666,\"#ed7953\"],[0.7777777777777778,\"#fb9f3a\"],[0.8888888888888888,\"#fdca26\"],[1.0,\"#f0f921\"]]}],\"choropleth\":[{\"type\":\"choropleth\",\"colorbar\":{\"outlinewidth\":0,\"ticks\":\"\"}}],\"histogram2d\":[{\"type\":\"histogram2d\",\"colorbar\":{\"outlinewidth\":0,\"ticks\":\"\"},\"colorscale\":[[0.0,\"#0d0887\"],[0.1111111111111111,\"#46039f\"],[0.2222222222222222,\"#7201a8\"],[0.3333333333333333,\"#9c179e\"],[0.4444444444444444,\"#bd3786\"],[0.5555555555555556,\"#d8576b\"],[0.6666666666666666,\"#ed7953\"],[0.7777777777777778,\"#fb9f3a\"],[0.8888888888888888,\"#fdca26\"],[1.0,\"#f0f921\"]]}],\"heatmap\":[{\"type\":\"heatmap\",\"colorbar\":{\"outlinewidth\":0,\"ticks\":\"\"},\"colorscale\":[[0.0,\"#0d0887\"],[0.1111111111111111,\"#46039f\"],[0.2222222222222222,\"#7201a8\"],[0.3333333333333333,\"#9c179e\"],[0.4444444444444444,\"#bd3786\"],[0.5555555555555556,\"#d8576b\"],[0.6666666666666666,\"#ed7953\"],[0.7777777777777778,\"#fb9f3a\"],[0.8888888888888888,\"#fdca26\"],[1.0,\"#f0f921\"]]}],\"heatmapgl\":[{\"type\":\"heatmapgl\",\"colorbar\":{\"outlinewidth\":0,\"ticks\":\"\"},\"colorscale\":[[0.0,\"#0d0887\"],[0.1111111111111111,\"#46039f\"],[0.2222222222222222,\"#7201a8\"],[0.3333333333333333,\"#9c179e\"],[0.4444444444444444,\"#bd3786\"],[0.5555555555555556,\"#d8576b\"],[0.6666666666666666,\"#ed7953\"],[0.7777777777777778,\"#fb9f3a\"],[0.8888888888888888,\"#fdca26\"],[1.0,\"#f0f921\"]]}],\"contourcarpet\":[{\"type\":\"contourcarpet\",\"colorbar\":{\"outlinewidth\":0,\"ticks\":\"\"}}],\"contour\":[{\"type\":\"contour\",\"colorbar\":{\"outlinewidth\":0,\"ticks\":\"\"},\"colorscale\":[[0.0,\"#0d0887\"],[0.1111111111111111,\"#46039f\"],[0.2222222222222222,\"#7201a8\"],[0.3333333333333333,\"#9c179e\"],[0.4444444444444444,\"#bd3786\"],[0.5555555555555556,\"#d8576b\"],[0.6666666666666666,\"#ed7953\"],[0.7777777777777778,\"#fb9f3a\"],[0.8888888888888888,\"#fdca26\"],[1.0,\"#f0f921\"]]}],\"surface\":[{\"type\":\"surface\",\"colorbar\":{\"outlinewidth\":0,\"ticks\":\"\"},\"colorscale\":[[0.0,\"#0d0887\"],[0.1111111111111111,\"#46039f\"],[0.2222222222222222,\"#7201a8\"],[0.3333333333333333,\"#9c179e\"],[0.4444444444444444,\"#bd3786\"],[0.5555555555555556,\"#d8576b\"],[0.6666666666666666,\"#ed7953\"],[0.7777777777777778,\"#fb9f3a\"],[0.8888888888888888,\"#fdca26\"],[1.0,\"#f0f921\"]]}],\"mesh3d\":[{\"type\":\"mesh3d\",\"colorbar\":{\"outlinewidth\":0,\"ticks\":\"\"}}],\"scatter\":[{\"fillpattern\":{\"fillmode\":\"overlay\",\"size\":10,\"solidity\":0.2},\"type\":\"scatter\"}],\"parcoords\":[{\"type\":\"parcoords\",\"line\":{\"colorbar\":{\"outlinewidth\":0,\"ticks\":\"\"}}}],\"scatterpolargl\":[{\"type\":\"scatterpolargl\",\"marker\":{\"colorbar\":{\"outlinewidth\":0,\"ticks\":\"\"}}}],\"bar\":[{\"error_x\":{\"color\":\"#2a3f5f\"},\"error_y\":{\"color\":\"#2a3f5f\"},\"marker\":{\"line\":{\"color\":\"#E5ECF6\",\"width\":0.5},\"pattern\":{\"fillmode\":\"overlay\",\"size\":10,\"solidity\":0.2}},\"type\":\"bar\"}],\"scattergeo\":[{\"type\":\"scattergeo\",\"marker\":{\"colorbar\":{\"outlinewidth\":0,\"ticks\":\"\"}}}],\"scatterpolar\":[{\"type\":\"scatterpolar\",\"marker\":{\"colorbar\":{\"outlinewidth\":0,\"ticks\":\"\"}}}],\"histogram\":[{\"marker\":{\"pattern\":{\"fillmode\":\"overlay\",\"size\":10,\"solidity\":0.2}},\"type\":\"histogram\"}],\"scattergl\":[{\"type\":\"scattergl\",\"marker\":{\"colorbar\":{\"outlinewidth\":0,\"ticks\":\"\"}}}],\"scatter3d\":[{\"type\":\"scatter3d\",\"line\":{\"colorbar\":{\"outlinewidth\":0,\"ticks\":\"\"}},\"marker\":{\"colorbar\":{\"outlinewidth\":0,\"ticks\":\"\"}}}],\"scattermapbox\":[{\"type\":\"scattermapbox\",\"marker\":{\"colorbar\":{\"outlinewidth\":0,\"ticks\":\"\"}}}],\"scatterternary\":[{\"type\":\"scatterternary\",\"marker\":{\"colorbar\":{\"outlinewidth\":0,\"ticks\":\"\"}}}],\"scattercarpet\":[{\"type\":\"scattercarpet\",\"marker\":{\"colorbar\":{\"outlinewidth\":0,\"ticks\":\"\"}}}],\"carpet\":[{\"aaxis\":{\"endlinecolor\":\"#2a3f5f\",\"gridcolor\":\"white\",\"linecolor\":\"white\",\"minorgridcolor\":\"white\",\"startlinecolor\":\"#2a3f5f\"},\"baxis\":{\"endlinecolor\":\"#2a3f5f\",\"gridcolor\":\"white\",\"linecolor\":\"white\",\"minorgridcolor\":\"white\",\"startlinecolor\":\"#2a3f5f\"},\"type\":\"carpet\"}],\"table\":[{\"cells\":{\"fill\":{\"color\":\"#EBF0F8\"},\"line\":{\"color\":\"white\"}},\"header\":{\"fill\":{\"color\":\"#C8D4E3\"},\"line\":{\"color\":\"white\"}},\"type\":\"table\"}],\"barpolar\":[{\"marker\":{\"line\":{\"color\":\"#E5ECF6\",\"width\":0.5},\"pattern\":{\"fillmode\":\"overlay\",\"size\":10,\"solidity\":0.2}},\"type\":\"barpolar\"}],\"pie\":[{\"automargin\":true,\"type\":\"pie\"}]},\"layout\":{\"autotypenumbers\":\"strict\",\"colorway\":[\"#636efa\",\"#EF553B\",\"#00cc96\",\"#ab63fa\",\"#FFA15A\",\"#19d3f3\",\"#FF6692\",\"#B6E880\",\"#FF97FF\",\"#FECB52\"],\"font\":{\"color\":\"#2a3f5f\"},\"hovermode\":\"closest\",\"hoverlabel\":{\"align\":\"left\"},\"paper_bgcolor\":\"white\",\"plot_bgcolor\":\"#E5ECF6\",\"polar\":{\"bgcolor\":\"#E5ECF6\",\"angularaxis\":{\"gridcolor\":\"white\",\"linecolor\":\"white\",\"ticks\":\"\"},\"radialaxis\":{\"gridcolor\":\"white\",\"linecolor\":\"white\",\"ticks\":\"\"}},\"ternary\":{\"bgcolor\":\"#E5ECF6\",\"aaxis\":{\"gridcolor\":\"white\",\"linecolor\":\"white\",\"ticks\":\"\"},\"baxis\":{\"gridcolor\":\"white\",\"linecolor\":\"white\",\"ticks\":\"\"},\"caxis\":{\"gridcolor\":\"white\",\"linecolor\":\"white\",\"ticks\":\"\"}},\"coloraxis\":{\"colorbar\":{\"outlinewidth\":0,\"ticks\":\"\"}},\"colorscale\":{\"sequential\":[[0.0,\"#0d0887\"],[0.1111111111111111,\"#46039f\"],[0.2222222222222222,\"#7201a8\"],[0.3333333333333333,\"#9c179e\"],[0.4444444444444444,\"#bd3786\"],[0.5555555555555556,\"#d8576b\"],[0.6666666666666666,\"#ed7953\"],[0.7777777777777778,\"#fb9f3a\"],[0.8888888888888888,\"#fdca26\"],[1.0,\"#f0f921\"]],\"sequentialminus\":[[0.0,\"#0d0887\"],[0.1111111111111111,\"#46039f\"],[0.2222222222222222,\"#7201a8\"],[0.3333333333333333,\"#9c179e\"],[0.4444444444444444,\"#bd3786\"],[0.5555555555555556,\"#d8576b\"],[0.6666666666666666,\"#ed7953\"],[0.7777777777777778,\"#fb9f3a\"],[0.8888888888888888,\"#fdca26\"],[1.0,\"#f0f921\"]],\"diverging\":[[0,\"#8e0152\"],[0.1,\"#c51b7d\"],[0.2,\"#de77ae\"],[0.3,\"#f1b6da\"],[0.4,\"#fde0ef\"],[0.5,\"#f7f7f7\"],[0.6,\"#e6f5d0\"],[0.7,\"#b8e186\"],[0.8,\"#7fbc41\"],[0.9,\"#4d9221\"],[1,\"#276419\"]]},\"xaxis\":{\"gridcolor\":\"white\",\"linecolor\":\"white\",\"ticks\":\"\",\"title\":{\"standoff\":15},\"zerolinecolor\":\"white\",\"automargin\":true,\"zerolinewidth\":2},\"yaxis\":{\"gridcolor\":\"white\",\"linecolor\":\"white\",\"ticks\":\"\",\"title\":{\"standoff\":15},\"zerolinecolor\":\"white\",\"automargin\":true,\"zerolinewidth\":2},\"scene\":{\"xaxis\":{\"backgroundcolor\":\"#E5ECF6\",\"gridcolor\":\"white\",\"linecolor\":\"white\",\"showbackground\":true,\"ticks\":\"\",\"zerolinecolor\":\"white\",\"gridwidth\":2},\"yaxis\":{\"backgroundcolor\":\"#E5ECF6\",\"gridcolor\":\"white\",\"linecolor\":\"white\",\"showbackground\":true,\"ticks\":\"\",\"zerolinecolor\":\"white\",\"gridwidth\":2},\"zaxis\":{\"backgroundcolor\":\"#E5ECF6\",\"gridcolor\":\"white\",\"linecolor\":\"white\",\"showbackground\":true,\"ticks\":\"\",\"zerolinecolor\":\"white\",\"gridwidth\":2}},\"shapedefaults\":{\"line\":{\"color\":\"#2a3f5f\"}},\"annotationdefaults\":{\"arrowcolor\":\"#2a3f5f\",\"arrowhead\":0,\"arrowwidth\":1},\"geo\":{\"bgcolor\":\"white\",\"landcolor\":\"#E5ECF6\",\"subunitcolor\":\"white\",\"showland\":true,\"showlakes\":true,\"lakecolor\":\"white\"},\"title\":{\"x\":0.05},\"mapbox\":{\"style\":\"light\"}}},\"xaxis\":{\"anchor\":\"y\",\"domain\":[0.0,1.0],\"title\":{\"text\":\"Percentage\"}},\"yaxis\":{\"anchor\":\"x\",\"domain\":[0.0,1.0],\"title\":{\"text\":\"Contract\"}},\"legend\":{\"title\":{\"text\":\"Churn Label\"},\"tracegroupgap\":0},\"title\":{\"text\":\"100% Stacked Bar Chart by Contract and Churn Label\"},\"barmode\":\"relative\"},                        {\"responsive\": true}                    ).then(function(){\n",
       "                            \n",
       "var gd = document.getElementById('7e039ab2-41c4-4365-8059-e981e6a8b180');\n",
       "var x = new MutationObserver(function (mutations, observer) {{\n",
       "        var display = window.getComputedStyle(gd).display;\n",
       "        if (!display || display === 'none') {{\n",
       "            console.log([gd, 'removed!']);\n",
       "            Plotly.purge(gd);\n",
       "            observer.disconnect();\n",
       "        }}\n",
       "}});\n",
       "\n",
       "// Listen for the removal of the full notebook cells\n",
       "var notebookContainer = gd.closest('#notebook-container');\n",
       "if (notebookContainer) {{\n",
       "    x.observe(notebookContainer, {childList: true});\n",
       "}}\n",
       "\n",
       "// Listen for the clearing of the current output cell\n",
       "var outputEl = gd.closest('.output');\n",
       "if (outputEl) {{\n",
       "    x.observe(outputEl, {childList: true});\n",
       "}}\n",
       "\n",
       "                        })                };                });            </script>        </div>"
      ]
     },
     "metadata": {},
     "output_type": "display_data"
    }
   ],
   "source": [
    "fig = px.bar(Contract_ChurnLabel, x='normalized_count', y='Contract', color='Churn Label',\n",
    "             title='100% Stacked Bar Chart by Contract and Churn Label', text= 'normalized_count',\n",
    "             labels={'normalized_count': 'Percentage'})\n",
    "\n",
    "fig.update_layout(barmode='relative')  # Make the bar chart 100% stacked\n",
    "\n",
    "fig.show()"
   ]
  },
  {
   "cell_type": "markdown",
   "id": "b380a518",
   "metadata": {
    "papermill": {
     "duration": 0.019705,
     "end_time": "2023-11-14T14:42:28.593040",
     "exception": false,
     "start_time": "2023-11-14T14:42:28.573335",
     "status": "completed"
    },
    "tags": []
   },
   "source": [
    "**Churn rate is highest for month-to-month contracts at `43%` that's mean `43%` of customers who had a Month-to-month contract type left the service. The churn rate is lower for one-year contracts, at `11%`, and even lower for two-year contracts, at `3%`.**\n"
   ]
  },
  {
   "cell_type": "code",
   "execution_count": 28,
   "id": "a337b294",
   "metadata": {
    "execution": {
     "iopub.execute_input": "2023-11-14T14:42:28.634428Z",
     "iopub.status.busy": "2023-11-14T14:42:28.634088Z",
     "iopub.status.idle": "2023-11-14T14:42:28.707121Z",
     "shell.execute_reply": "2023-11-14T14:42:28.706241Z"
    },
    "papermill": {
     "duration": 0.09593,
     "end_time": "2023-11-14T14:42:28.709008",
     "exception": false,
     "start_time": "2023-11-14T14:42:28.613078",
     "status": "completed"
    },
    "tags": []
   },
   "outputs": [
    {
     "data": {
      "text/html": [
       "<div>                            <div id=\"09dc4d0a-815d-4604-9815-989332617085\" class=\"plotly-graph-div\" style=\"height:525px; width:100%;\"></div>            <script type=\"text/javascript\">                require([\"plotly\"], function(Plotly) {                    window.PLOTLYENV=window.PLOTLYENV || {};                                    if (document.getElementById(\"09dc4d0a-815d-4604-9815-989332617085\")) {                    Plotly.newPlot(                        \"09dc4d0a-815d-4604-9815-989332617085\",                        [{\"domain\":{\"x\":[0.0,0.49],\"y\":[0.0,1.0]},\"hovertemplate\":\"Churn Label=No\\u003cbr\\u003eContract=%{label}\\u003cbr\\u003eCustomerID=%{value}\\u003cextra\\u003e\\u003c\\u002fextra\\u003e\",\"labels\":[\"Month-to-month\",\"One year\",\"Two year\"],\"legendgroup\":\"\",\"name\":\"\",\"showlegend\":true,\"values\":[2220,1307,1647],\"type\":\"pie\"},{\"domain\":{\"x\":[0.51,1.0],\"y\":[0.0,1.0]},\"hovertemplate\":\"Churn Label=Yes\\u003cbr\\u003eContract=%{label}\\u003cbr\\u003eCustomerID=%{value}\\u003cextra\\u003e\\u003c\\u002fextra\\u003e\",\"labels\":[\"Month-to-month\",\"One year\",\"Two year\"],\"legendgroup\":\"\",\"name\":\"\",\"showlegend\":true,\"values\":[1655,166,48],\"type\":\"pie\"}],                        {\"template\":{\"data\":{\"histogram2dcontour\":[{\"type\":\"histogram2dcontour\",\"colorbar\":{\"outlinewidth\":0,\"ticks\":\"\"},\"colorscale\":[[0.0,\"#0d0887\"],[0.1111111111111111,\"#46039f\"],[0.2222222222222222,\"#7201a8\"],[0.3333333333333333,\"#9c179e\"],[0.4444444444444444,\"#bd3786\"],[0.5555555555555556,\"#d8576b\"],[0.6666666666666666,\"#ed7953\"],[0.7777777777777778,\"#fb9f3a\"],[0.8888888888888888,\"#fdca26\"],[1.0,\"#f0f921\"]]}],\"choropleth\":[{\"type\":\"choropleth\",\"colorbar\":{\"outlinewidth\":0,\"ticks\":\"\"}}],\"histogram2d\":[{\"type\":\"histogram2d\",\"colorbar\":{\"outlinewidth\":0,\"ticks\":\"\"},\"colorscale\":[[0.0,\"#0d0887\"],[0.1111111111111111,\"#46039f\"],[0.2222222222222222,\"#7201a8\"],[0.3333333333333333,\"#9c179e\"],[0.4444444444444444,\"#bd3786\"],[0.5555555555555556,\"#d8576b\"],[0.6666666666666666,\"#ed7953\"],[0.7777777777777778,\"#fb9f3a\"],[0.8888888888888888,\"#fdca26\"],[1.0,\"#f0f921\"]]}],\"heatmap\":[{\"type\":\"heatmap\",\"colorbar\":{\"outlinewidth\":0,\"ticks\":\"\"},\"colorscale\":[[0.0,\"#0d0887\"],[0.1111111111111111,\"#46039f\"],[0.2222222222222222,\"#7201a8\"],[0.3333333333333333,\"#9c179e\"],[0.4444444444444444,\"#bd3786\"],[0.5555555555555556,\"#d8576b\"],[0.6666666666666666,\"#ed7953\"],[0.7777777777777778,\"#fb9f3a\"],[0.8888888888888888,\"#fdca26\"],[1.0,\"#f0f921\"]]}],\"heatmapgl\":[{\"type\":\"heatmapgl\",\"colorbar\":{\"outlinewidth\":0,\"ticks\":\"\"},\"colorscale\":[[0.0,\"#0d0887\"],[0.1111111111111111,\"#46039f\"],[0.2222222222222222,\"#7201a8\"],[0.3333333333333333,\"#9c179e\"],[0.4444444444444444,\"#bd3786\"],[0.5555555555555556,\"#d8576b\"],[0.6666666666666666,\"#ed7953\"],[0.7777777777777778,\"#fb9f3a\"],[0.8888888888888888,\"#fdca26\"],[1.0,\"#f0f921\"]]}],\"contourcarpet\":[{\"type\":\"contourcarpet\",\"colorbar\":{\"outlinewidth\":0,\"ticks\":\"\"}}],\"contour\":[{\"type\":\"contour\",\"colorbar\":{\"outlinewidth\":0,\"ticks\":\"\"},\"colorscale\":[[0.0,\"#0d0887\"],[0.1111111111111111,\"#46039f\"],[0.2222222222222222,\"#7201a8\"],[0.3333333333333333,\"#9c179e\"],[0.4444444444444444,\"#bd3786\"],[0.5555555555555556,\"#d8576b\"],[0.6666666666666666,\"#ed7953\"],[0.7777777777777778,\"#fb9f3a\"],[0.8888888888888888,\"#fdca26\"],[1.0,\"#f0f921\"]]}],\"surface\":[{\"type\":\"surface\",\"colorbar\":{\"outlinewidth\":0,\"ticks\":\"\"},\"colorscale\":[[0.0,\"#0d0887\"],[0.1111111111111111,\"#46039f\"],[0.2222222222222222,\"#7201a8\"],[0.3333333333333333,\"#9c179e\"],[0.4444444444444444,\"#bd3786\"],[0.5555555555555556,\"#d8576b\"],[0.6666666666666666,\"#ed7953\"],[0.7777777777777778,\"#fb9f3a\"],[0.8888888888888888,\"#fdca26\"],[1.0,\"#f0f921\"]]}],\"mesh3d\":[{\"type\":\"mesh3d\",\"colorbar\":{\"outlinewidth\":0,\"ticks\":\"\"}}],\"scatter\":[{\"fillpattern\":{\"fillmode\":\"overlay\",\"size\":10,\"solidity\":0.2},\"type\":\"scatter\"}],\"parcoords\":[{\"type\":\"parcoords\",\"line\":{\"colorbar\":{\"outlinewidth\":0,\"ticks\":\"\"}}}],\"scatterpolargl\":[{\"type\":\"scatterpolargl\",\"marker\":{\"colorbar\":{\"outlinewidth\":0,\"ticks\":\"\"}}}],\"bar\":[{\"error_x\":{\"color\":\"#2a3f5f\"},\"error_y\":{\"color\":\"#2a3f5f\"},\"marker\":{\"line\":{\"color\":\"#E5ECF6\",\"width\":0.5},\"pattern\":{\"fillmode\":\"overlay\",\"size\":10,\"solidity\":0.2}},\"type\":\"bar\"}],\"scattergeo\":[{\"type\":\"scattergeo\",\"marker\":{\"colorbar\":{\"outlinewidth\":0,\"ticks\":\"\"}}}],\"scatterpolar\":[{\"type\":\"scatterpolar\",\"marker\":{\"colorbar\":{\"outlinewidth\":0,\"ticks\":\"\"}}}],\"histogram\":[{\"marker\":{\"pattern\":{\"fillmode\":\"overlay\",\"size\":10,\"solidity\":0.2}},\"type\":\"histogram\"}],\"scattergl\":[{\"type\":\"scattergl\",\"marker\":{\"colorbar\":{\"outlinewidth\":0,\"ticks\":\"\"}}}],\"scatter3d\":[{\"type\":\"scatter3d\",\"line\":{\"colorbar\":{\"outlinewidth\":0,\"ticks\":\"\"}},\"marker\":{\"colorbar\":{\"outlinewidth\":0,\"ticks\":\"\"}}}],\"scattermapbox\":[{\"type\":\"scattermapbox\",\"marker\":{\"colorbar\":{\"outlinewidth\":0,\"ticks\":\"\"}}}],\"scatterternary\":[{\"type\":\"scatterternary\",\"marker\":{\"colorbar\":{\"outlinewidth\":0,\"ticks\":\"\"}}}],\"scattercarpet\":[{\"type\":\"scattercarpet\",\"marker\":{\"colorbar\":{\"outlinewidth\":0,\"ticks\":\"\"}}}],\"carpet\":[{\"aaxis\":{\"endlinecolor\":\"#2a3f5f\",\"gridcolor\":\"white\",\"linecolor\":\"white\",\"minorgridcolor\":\"white\",\"startlinecolor\":\"#2a3f5f\"},\"baxis\":{\"endlinecolor\":\"#2a3f5f\",\"gridcolor\":\"white\",\"linecolor\":\"white\",\"minorgridcolor\":\"white\",\"startlinecolor\":\"#2a3f5f\"},\"type\":\"carpet\"}],\"table\":[{\"cells\":{\"fill\":{\"color\":\"#EBF0F8\"},\"line\":{\"color\":\"white\"}},\"header\":{\"fill\":{\"color\":\"#C8D4E3\"},\"line\":{\"color\":\"white\"}},\"type\":\"table\"}],\"barpolar\":[{\"marker\":{\"line\":{\"color\":\"#E5ECF6\",\"width\":0.5},\"pattern\":{\"fillmode\":\"overlay\",\"size\":10,\"solidity\":0.2}},\"type\":\"barpolar\"}],\"pie\":[{\"automargin\":true,\"type\":\"pie\"}]},\"layout\":{\"autotypenumbers\":\"strict\",\"colorway\":[\"#636efa\",\"#EF553B\",\"#00cc96\",\"#ab63fa\",\"#FFA15A\",\"#19d3f3\",\"#FF6692\",\"#B6E880\",\"#FF97FF\",\"#FECB52\"],\"font\":{\"color\":\"#2a3f5f\"},\"hovermode\":\"closest\",\"hoverlabel\":{\"align\":\"left\"},\"paper_bgcolor\":\"white\",\"plot_bgcolor\":\"#E5ECF6\",\"polar\":{\"bgcolor\":\"#E5ECF6\",\"angularaxis\":{\"gridcolor\":\"white\",\"linecolor\":\"white\",\"ticks\":\"\"},\"radialaxis\":{\"gridcolor\":\"white\",\"linecolor\":\"white\",\"ticks\":\"\"}},\"ternary\":{\"bgcolor\":\"#E5ECF6\",\"aaxis\":{\"gridcolor\":\"white\",\"linecolor\":\"white\",\"ticks\":\"\"},\"baxis\":{\"gridcolor\":\"white\",\"linecolor\":\"white\",\"ticks\":\"\"},\"caxis\":{\"gridcolor\":\"white\",\"linecolor\":\"white\",\"ticks\":\"\"}},\"coloraxis\":{\"colorbar\":{\"outlinewidth\":0,\"ticks\":\"\"}},\"colorscale\":{\"sequential\":[[0.0,\"#0d0887\"],[0.1111111111111111,\"#46039f\"],[0.2222222222222222,\"#7201a8\"],[0.3333333333333333,\"#9c179e\"],[0.4444444444444444,\"#bd3786\"],[0.5555555555555556,\"#d8576b\"],[0.6666666666666666,\"#ed7953\"],[0.7777777777777778,\"#fb9f3a\"],[0.8888888888888888,\"#fdca26\"],[1.0,\"#f0f921\"]],\"sequentialminus\":[[0.0,\"#0d0887\"],[0.1111111111111111,\"#46039f\"],[0.2222222222222222,\"#7201a8\"],[0.3333333333333333,\"#9c179e\"],[0.4444444444444444,\"#bd3786\"],[0.5555555555555556,\"#d8576b\"],[0.6666666666666666,\"#ed7953\"],[0.7777777777777778,\"#fb9f3a\"],[0.8888888888888888,\"#fdca26\"],[1.0,\"#f0f921\"]],\"diverging\":[[0,\"#8e0152\"],[0.1,\"#c51b7d\"],[0.2,\"#de77ae\"],[0.3,\"#f1b6da\"],[0.4,\"#fde0ef\"],[0.5,\"#f7f7f7\"],[0.6,\"#e6f5d0\"],[0.7,\"#b8e186\"],[0.8,\"#7fbc41\"],[0.9,\"#4d9221\"],[1,\"#276419\"]]},\"xaxis\":{\"gridcolor\":\"white\",\"linecolor\":\"white\",\"ticks\":\"\",\"title\":{\"standoff\":15},\"zerolinecolor\":\"white\",\"automargin\":true,\"zerolinewidth\":2},\"yaxis\":{\"gridcolor\":\"white\",\"linecolor\":\"white\",\"ticks\":\"\",\"title\":{\"standoff\":15},\"zerolinecolor\":\"white\",\"automargin\":true,\"zerolinewidth\":2},\"scene\":{\"xaxis\":{\"backgroundcolor\":\"#E5ECF6\",\"gridcolor\":\"white\",\"linecolor\":\"white\",\"showbackground\":true,\"ticks\":\"\",\"zerolinecolor\":\"white\",\"gridwidth\":2},\"yaxis\":{\"backgroundcolor\":\"#E5ECF6\",\"gridcolor\":\"white\",\"linecolor\":\"white\",\"showbackground\":true,\"ticks\":\"\",\"zerolinecolor\":\"white\",\"gridwidth\":2},\"zaxis\":{\"backgroundcolor\":\"#E5ECF6\",\"gridcolor\":\"white\",\"linecolor\":\"white\",\"showbackground\":true,\"ticks\":\"\",\"zerolinecolor\":\"white\",\"gridwidth\":2}},\"shapedefaults\":{\"line\":{\"color\":\"#2a3f5f\"}},\"annotationdefaults\":{\"arrowcolor\":\"#2a3f5f\",\"arrowhead\":0,\"arrowwidth\":1},\"geo\":{\"bgcolor\":\"white\",\"landcolor\":\"#E5ECF6\",\"subunitcolor\":\"white\",\"showland\":true,\"showlakes\":true,\"lakecolor\":\"white\"},\"title\":{\"x\":0.05},\"mapbox\":{\"style\":\"light\"}}},\"annotations\":[{\"font\":{},\"showarrow\":false,\"text\":\"Churn Label=No\",\"x\":0.245,\"xanchor\":\"center\",\"xref\":\"paper\",\"y\":1.0,\"yanchor\":\"bottom\",\"yref\":\"paper\"},{\"font\":{},\"showarrow\":false,\"text\":\"Churn Label=Yes\",\"x\":0.755,\"xanchor\":\"center\",\"xref\":\"paper\",\"y\":1.0,\"yanchor\":\"bottom\",\"yref\":\"paper\"}],\"legend\":{\"tracegroupgap\":0},\"title\":{\"text\":\"Churn rate by contract type\"}},                        {\"responsive\": true}                    ).then(function(){\n",
       "                            \n",
       "var gd = document.getElementById('09dc4d0a-815d-4604-9815-989332617085');\n",
       "var x = new MutationObserver(function (mutations, observer) {{\n",
       "        var display = window.getComputedStyle(gd).display;\n",
       "        if (!display || display === 'none') {{\n",
       "            console.log([gd, 'removed!']);\n",
       "            Plotly.purge(gd);\n",
       "            observer.disconnect();\n",
       "        }}\n",
       "}});\n",
       "\n",
       "// Listen for the removal of the full notebook cells\n",
       "var notebookContainer = gd.closest('#notebook-container');\n",
       "if (notebookContainer) {{\n",
       "    x.observe(notebookContainer, {childList: true});\n",
       "}}\n",
       "\n",
       "// Listen for the clearing of the current output cell\n",
       "var outputEl = gd.closest('.output');\n",
       "if (outputEl) {{\n",
       "    x.observe(outputEl, {childList: true});\n",
       "}}\n",
       "\n",
       "                        })                };                });            </script>        </div>"
      ]
     },
     "metadata": {},
     "output_type": "display_data"
    }
   ],
   "source": [
    "fig = px.pie(df.groupby(['Contract','Churn Label'])['CustomerID'].count().reset_index(), \n",
    "             values='CustomerID', \n",
    "            names='Contract',\n",
    "            facet_col = 'Churn Label',\n",
    "            title = 'Churn rate by contract type')\n",
    "            \n",
    "fig.show()"
   ]
  },
  {
   "cell_type": "markdown",
   "id": "beab7469",
   "metadata": {
    "papermill": {
     "duration": 0.019538,
     "end_time": "2023-11-14T14:42:28.748580",
     "exception": false,
     "start_time": "2023-11-14T14:42:28.729042",
     "status": "completed"
    },
    "tags": []
   },
   "source": [
    "**`88.7%` of customers who left the service had a Month-to-month contract type and only `2.57%`  of customers who left the service had a two-year contract**"
   ]
  },
  {
   "cell_type": "markdown",
   "id": "d9ece3b1",
   "metadata": {
    "papermill": {
     "duration": 0.019786,
     "end_time": "2023-11-14T14:42:28.788289",
     "exception": false,
     "start_time": "2023-11-14T14:42:28.768503",
     "status": "completed"
    },
    "tags": []
   },
   "source": [
    "## Gender"
   ]
  },
  {
   "cell_type": "code",
   "execution_count": 29,
   "id": "ceb4df81",
   "metadata": {
    "execution": {
     "iopub.execute_input": "2023-11-14T14:42:28.832667Z",
     "iopub.status.busy": "2023-11-14T14:42:28.832034Z",
     "iopub.status.idle": "2023-11-14T14:42:28.840843Z",
     "shell.execute_reply": "2023-11-14T14:42:28.839798Z"
    },
    "papermill": {
     "duration": 0.03443,
     "end_time": "2023-11-14T14:42:28.842610",
     "exception": false,
     "start_time": "2023-11-14T14:42:28.808180",
     "status": "completed"
    },
    "tags": []
   },
   "outputs": [
    {
     "data": {
      "text/plain": [
       "Gender\n",
       "Male      0.504756\n",
       "Female    0.495244\n",
       "Name: proportion, dtype: float64"
      ]
     },
     "execution_count": 29,
     "metadata": {},
     "output_type": "execute_result"
    }
   ],
   "source": [
    "df['Gender'].value_counts(normalize=True)"
   ]
  },
  {
   "cell_type": "markdown",
   "id": "761441e2",
   "metadata": {
    "papermill": {
     "duration": 0.019645,
     "end_time": "2023-11-14T14:42:28.882305",
     "exception": false,
     "start_time": "2023-11-14T14:42:28.862660",
     "status": "completed"
    },
    "tags": []
   },
   "source": [
    "**Gender distribution seems balanced between males and females**"
   ]
  },
  {
   "cell_type": "code",
   "execution_count": 30,
   "id": "6f61cb18",
   "metadata": {
    "execution": {
     "iopub.execute_input": "2023-11-14T14:42:28.924263Z",
     "iopub.status.busy": "2023-11-14T14:42:28.923649Z",
     "iopub.status.idle": "2023-11-14T14:42:28.938293Z",
     "shell.execute_reply": "2023-11-14T14:42:28.937292Z"
    },
    "papermill": {
     "duration": 0.038594,
     "end_time": "2023-11-14T14:42:28.940640",
     "exception": false,
     "start_time": "2023-11-14T14:42:28.902046",
     "status": "completed"
    },
    "tags": []
   },
   "outputs": [
    {
     "data": {
      "text/html": [
       "<div>\n",
       "<style scoped>\n",
       "    .dataframe tbody tr th:only-of-type {\n",
       "        vertical-align: middle;\n",
       "    }\n",
       "\n",
       "    .dataframe tbody tr th {\n",
       "        vertical-align: top;\n",
       "    }\n",
       "\n",
       "    .dataframe thead th {\n",
       "        text-align: right;\n",
       "    }\n",
       "</style>\n",
       "<table border=\"1\" class=\"dataframe\">\n",
       "  <thead>\n",
       "    <tr style=\"text-align: right;\">\n",
       "      <th></th>\n",
       "      <th>Gender</th>\n",
       "      <th>Churn Label</th>\n",
       "      <th>rate</th>\n",
       "    </tr>\n",
       "  </thead>\n",
       "  <tbody>\n",
       "    <tr>\n",
       "      <th>0</th>\n",
       "      <td>Female</td>\n",
       "      <td>No</td>\n",
       "      <td>0.73</td>\n",
       "    </tr>\n",
       "    <tr>\n",
       "      <th>1</th>\n",
       "      <td>Female</td>\n",
       "      <td>Yes</td>\n",
       "      <td>0.27</td>\n",
       "    </tr>\n",
       "    <tr>\n",
       "      <th>2</th>\n",
       "      <td>Male</td>\n",
       "      <td>No</td>\n",
       "      <td>0.74</td>\n",
       "    </tr>\n",
       "    <tr>\n",
       "      <th>3</th>\n",
       "      <td>Male</td>\n",
       "      <td>Yes</td>\n",
       "      <td>0.26</td>\n",
       "    </tr>\n",
       "  </tbody>\n",
       "</table>\n",
       "</div>"
      ],
      "text/plain": [
       "   Gender Churn Label  rate\n",
       "0  Female          No  0.73\n",
       "1  Female         Yes  0.27\n",
       "2    Male          No  0.74\n",
       "3    Male         Yes  0.26"
      ]
     },
     "execution_count": 30,
     "metadata": {},
     "output_type": "execute_result"
    }
   ],
   "source": [
    "# Group by 'Contract' and 'Churn Label' and count the occurrences\n",
    "grouped = df.groupby(['Gender', 'Churn Label'])['CustomerID'].count()\n",
    "total_counts = grouped.groupby('Gender').transform('sum')\n",
    "normalized_count = round(grouped / total_counts,2)\n",
    "Gender_ChurnLabel = pd.DataFrame({'rate': normalized_count}).reset_index()\n",
    "\n",
    "Gender_ChurnLabel"
   ]
  },
  {
   "cell_type": "code",
   "execution_count": 31,
   "id": "deff6c73",
   "metadata": {
    "execution": {
     "iopub.execute_input": "2023-11-14T14:42:28.982265Z",
     "iopub.status.busy": "2023-11-14T14:42:28.981939Z",
     "iopub.status.idle": "2023-11-14T14:42:29.039071Z",
     "shell.execute_reply": "2023-11-14T14:42:29.037736Z"
    },
    "papermill": {
     "duration": 0.080131,
     "end_time": "2023-11-14T14:42:29.040987",
     "exception": false,
     "start_time": "2023-11-14T14:42:28.960856",
     "status": "completed"
    },
    "tags": []
   },
   "outputs": [
    {
     "data": {
      "text/html": [
       "<div>                            <div id=\"dddccffd-741b-4a37-80a1-94788c4fcc85\" class=\"plotly-graph-div\" style=\"height:525px; width:100%;\"></div>            <script type=\"text/javascript\">                require([\"plotly\"], function(Plotly) {                    window.PLOTLYENV=window.PLOTLYENV || {};                                    if (document.getElementById(\"dddccffd-741b-4a37-80a1-94788c4fcc85\")) {                    Plotly.newPlot(                        \"dddccffd-741b-4a37-80a1-94788c4fcc85\",                        [{\"alignmentgroup\":\"True\",\"hovertemplate\":\"Churn Label=No\\u003cbr\\u003ePercentage=%{text}\\u003cbr\\u003eGender=%{y}\\u003cextra\\u003e\\u003c\\u002fextra\\u003e\",\"legendgroup\":\"No\",\"marker\":{\"color\":\"#636efa\",\"pattern\":{\"shape\":\"\"}},\"name\":\"No\",\"offsetgroup\":\"No\",\"orientation\":\"h\",\"showlegend\":true,\"text\":[0.73,0.74],\"textposition\":\"auto\",\"x\":[0.73,0.74],\"xaxis\":\"x\",\"y\":[\"Female\",\"Male\"],\"yaxis\":\"y\",\"type\":\"bar\"},{\"alignmentgroup\":\"True\",\"hovertemplate\":\"Churn Label=Yes\\u003cbr\\u003ePercentage=%{text}\\u003cbr\\u003eGender=%{y}\\u003cextra\\u003e\\u003c\\u002fextra\\u003e\",\"legendgroup\":\"Yes\",\"marker\":{\"color\":\"#EF553B\",\"pattern\":{\"shape\":\"\"}},\"name\":\"Yes\",\"offsetgroup\":\"Yes\",\"orientation\":\"h\",\"showlegend\":true,\"text\":[0.27,0.26],\"textposition\":\"auto\",\"x\":[0.27,0.26],\"xaxis\":\"x\",\"y\":[\"Female\",\"Male\"],\"yaxis\":\"y\",\"type\":\"bar\"}],                        {\"template\":{\"data\":{\"histogram2dcontour\":[{\"type\":\"histogram2dcontour\",\"colorbar\":{\"outlinewidth\":0,\"ticks\":\"\"},\"colorscale\":[[0.0,\"#0d0887\"],[0.1111111111111111,\"#46039f\"],[0.2222222222222222,\"#7201a8\"],[0.3333333333333333,\"#9c179e\"],[0.4444444444444444,\"#bd3786\"],[0.5555555555555556,\"#d8576b\"],[0.6666666666666666,\"#ed7953\"],[0.7777777777777778,\"#fb9f3a\"],[0.8888888888888888,\"#fdca26\"],[1.0,\"#f0f921\"]]}],\"choropleth\":[{\"type\":\"choropleth\",\"colorbar\":{\"outlinewidth\":0,\"ticks\":\"\"}}],\"histogram2d\":[{\"type\":\"histogram2d\",\"colorbar\":{\"outlinewidth\":0,\"ticks\":\"\"},\"colorscale\":[[0.0,\"#0d0887\"],[0.1111111111111111,\"#46039f\"],[0.2222222222222222,\"#7201a8\"],[0.3333333333333333,\"#9c179e\"],[0.4444444444444444,\"#bd3786\"],[0.5555555555555556,\"#d8576b\"],[0.6666666666666666,\"#ed7953\"],[0.7777777777777778,\"#fb9f3a\"],[0.8888888888888888,\"#fdca26\"],[1.0,\"#f0f921\"]]}],\"heatmap\":[{\"type\":\"heatmap\",\"colorbar\":{\"outlinewidth\":0,\"ticks\":\"\"},\"colorscale\":[[0.0,\"#0d0887\"],[0.1111111111111111,\"#46039f\"],[0.2222222222222222,\"#7201a8\"],[0.3333333333333333,\"#9c179e\"],[0.4444444444444444,\"#bd3786\"],[0.5555555555555556,\"#d8576b\"],[0.6666666666666666,\"#ed7953\"],[0.7777777777777778,\"#fb9f3a\"],[0.8888888888888888,\"#fdca26\"],[1.0,\"#f0f921\"]]}],\"heatmapgl\":[{\"type\":\"heatmapgl\",\"colorbar\":{\"outlinewidth\":0,\"ticks\":\"\"},\"colorscale\":[[0.0,\"#0d0887\"],[0.1111111111111111,\"#46039f\"],[0.2222222222222222,\"#7201a8\"],[0.3333333333333333,\"#9c179e\"],[0.4444444444444444,\"#bd3786\"],[0.5555555555555556,\"#d8576b\"],[0.6666666666666666,\"#ed7953\"],[0.7777777777777778,\"#fb9f3a\"],[0.8888888888888888,\"#fdca26\"],[1.0,\"#f0f921\"]]}],\"contourcarpet\":[{\"type\":\"contourcarpet\",\"colorbar\":{\"outlinewidth\":0,\"ticks\":\"\"}}],\"contour\":[{\"type\":\"contour\",\"colorbar\":{\"outlinewidth\":0,\"ticks\":\"\"},\"colorscale\":[[0.0,\"#0d0887\"],[0.1111111111111111,\"#46039f\"],[0.2222222222222222,\"#7201a8\"],[0.3333333333333333,\"#9c179e\"],[0.4444444444444444,\"#bd3786\"],[0.5555555555555556,\"#d8576b\"],[0.6666666666666666,\"#ed7953\"],[0.7777777777777778,\"#fb9f3a\"],[0.8888888888888888,\"#fdca26\"],[1.0,\"#f0f921\"]]}],\"surface\":[{\"type\":\"surface\",\"colorbar\":{\"outlinewidth\":0,\"ticks\":\"\"},\"colorscale\":[[0.0,\"#0d0887\"],[0.1111111111111111,\"#46039f\"],[0.2222222222222222,\"#7201a8\"],[0.3333333333333333,\"#9c179e\"],[0.4444444444444444,\"#bd3786\"],[0.5555555555555556,\"#d8576b\"],[0.6666666666666666,\"#ed7953\"],[0.7777777777777778,\"#fb9f3a\"],[0.8888888888888888,\"#fdca26\"],[1.0,\"#f0f921\"]]}],\"mesh3d\":[{\"type\":\"mesh3d\",\"colorbar\":{\"outlinewidth\":0,\"ticks\":\"\"}}],\"scatter\":[{\"fillpattern\":{\"fillmode\":\"overlay\",\"size\":10,\"solidity\":0.2},\"type\":\"scatter\"}],\"parcoords\":[{\"type\":\"parcoords\",\"line\":{\"colorbar\":{\"outlinewidth\":0,\"ticks\":\"\"}}}],\"scatterpolargl\":[{\"type\":\"scatterpolargl\",\"marker\":{\"colorbar\":{\"outlinewidth\":0,\"ticks\":\"\"}}}],\"bar\":[{\"error_x\":{\"color\":\"#2a3f5f\"},\"error_y\":{\"color\":\"#2a3f5f\"},\"marker\":{\"line\":{\"color\":\"#E5ECF6\",\"width\":0.5},\"pattern\":{\"fillmode\":\"overlay\",\"size\":10,\"solidity\":0.2}},\"type\":\"bar\"}],\"scattergeo\":[{\"type\":\"scattergeo\",\"marker\":{\"colorbar\":{\"outlinewidth\":0,\"ticks\":\"\"}}}],\"scatterpolar\":[{\"type\":\"scatterpolar\",\"marker\":{\"colorbar\":{\"outlinewidth\":0,\"ticks\":\"\"}}}],\"histogram\":[{\"marker\":{\"pattern\":{\"fillmode\":\"overlay\",\"size\":10,\"solidity\":0.2}},\"type\":\"histogram\"}],\"scattergl\":[{\"type\":\"scattergl\",\"marker\":{\"colorbar\":{\"outlinewidth\":0,\"ticks\":\"\"}}}],\"scatter3d\":[{\"type\":\"scatter3d\",\"line\":{\"colorbar\":{\"outlinewidth\":0,\"ticks\":\"\"}},\"marker\":{\"colorbar\":{\"outlinewidth\":0,\"ticks\":\"\"}}}],\"scattermapbox\":[{\"type\":\"scattermapbox\",\"marker\":{\"colorbar\":{\"outlinewidth\":0,\"ticks\":\"\"}}}],\"scatterternary\":[{\"type\":\"scatterternary\",\"marker\":{\"colorbar\":{\"outlinewidth\":0,\"ticks\":\"\"}}}],\"scattercarpet\":[{\"type\":\"scattercarpet\",\"marker\":{\"colorbar\":{\"outlinewidth\":0,\"ticks\":\"\"}}}],\"carpet\":[{\"aaxis\":{\"endlinecolor\":\"#2a3f5f\",\"gridcolor\":\"white\",\"linecolor\":\"white\",\"minorgridcolor\":\"white\",\"startlinecolor\":\"#2a3f5f\"},\"baxis\":{\"endlinecolor\":\"#2a3f5f\",\"gridcolor\":\"white\",\"linecolor\":\"white\",\"minorgridcolor\":\"white\",\"startlinecolor\":\"#2a3f5f\"},\"type\":\"carpet\"}],\"table\":[{\"cells\":{\"fill\":{\"color\":\"#EBF0F8\"},\"line\":{\"color\":\"white\"}},\"header\":{\"fill\":{\"color\":\"#C8D4E3\"},\"line\":{\"color\":\"white\"}},\"type\":\"table\"}],\"barpolar\":[{\"marker\":{\"line\":{\"color\":\"#E5ECF6\",\"width\":0.5},\"pattern\":{\"fillmode\":\"overlay\",\"size\":10,\"solidity\":0.2}},\"type\":\"barpolar\"}],\"pie\":[{\"automargin\":true,\"type\":\"pie\"}]},\"layout\":{\"autotypenumbers\":\"strict\",\"colorway\":[\"#636efa\",\"#EF553B\",\"#00cc96\",\"#ab63fa\",\"#FFA15A\",\"#19d3f3\",\"#FF6692\",\"#B6E880\",\"#FF97FF\",\"#FECB52\"],\"font\":{\"color\":\"#2a3f5f\"},\"hovermode\":\"closest\",\"hoverlabel\":{\"align\":\"left\"},\"paper_bgcolor\":\"white\",\"plot_bgcolor\":\"#E5ECF6\",\"polar\":{\"bgcolor\":\"#E5ECF6\",\"angularaxis\":{\"gridcolor\":\"white\",\"linecolor\":\"white\",\"ticks\":\"\"},\"radialaxis\":{\"gridcolor\":\"white\",\"linecolor\":\"white\",\"ticks\":\"\"}},\"ternary\":{\"bgcolor\":\"#E5ECF6\",\"aaxis\":{\"gridcolor\":\"white\",\"linecolor\":\"white\",\"ticks\":\"\"},\"baxis\":{\"gridcolor\":\"white\",\"linecolor\":\"white\",\"ticks\":\"\"},\"caxis\":{\"gridcolor\":\"white\",\"linecolor\":\"white\",\"ticks\":\"\"}},\"coloraxis\":{\"colorbar\":{\"outlinewidth\":0,\"ticks\":\"\"}},\"colorscale\":{\"sequential\":[[0.0,\"#0d0887\"],[0.1111111111111111,\"#46039f\"],[0.2222222222222222,\"#7201a8\"],[0.3333333333333333,\"#9c179e\"],[0.4444444444444444,\"#bd3786\"],[0.5555555555555556,\"#d8576b\"],[0.6666666666666666,\"#ed7953\"],[0.7777777777777778,\"#fb9f3a\"],[0.8888888888888888,\"#fdca26\"],[1.0,\"#f0f921\"]],\"sequentialminus\":[[0.0,\"#0d0887\"],[0.1111111111111111,\"#46039f\"],[0.2222222222222222,\"#7201a8\"],[0.3333333333333333,\"#9c179e\"],[0.4444444444444444,\"#bd3786\"],[0.5555555555555556,\"#d8576b\"],[0.6666666666666666,\"#ed7953\"],[0.7777777777777778,\"#fb9f3a\"],[0.8888888888888888,\"#fdca26\"],[1.0,\"#f0f921\"]],\"diverging\":[[0,\"#8e0152\"],[0.1,\"#c51b7d\"],[0.2,\"#de77ae\"],[0.3,\"#f1b6da\"],[0.4,\"#fde0ef\"],[0.5,\"#f7f7f7\"],[0.6,\"#e6f5d0\"],[0.7,\"#b8e186\"],[0.8,\"#7fbc41\"],[0.9,\"#4d9221\"],[1,\"#276419\"]]},\"xaxis\":{\"gridcolor\":\"white\",\"linecolor\":\"white\",\"ticks\":\"\",\"title\":{\"standoff\":15},\"zerolinecolor\":\"white\",\"automargin\":true,\"zerolinewidth\":2},\"yaxis\":{\"gridcolor\":\"white\",\"linecolor\":\"white\",\"ticks\":\"\",\"title\":{\"standoff\":15},\"zerolinecolor\":\"white\",\"automargin\":true,\"zerolinewidth\":2},\"scene\":{\"xaxis\":{\"backgroundcolor\":\"#E5ECF6\",\"gridcolor\":\"white\",\"linecolor\":\"white\",\"showbackground\":true,\"ticks\":\"\",\"zerolinecolor\":\"white\",\"gridwidth\":2},\"yaxis\":{\"backgroundcolor\":\"#E5ECF6\",\"gridcolor\":\"white\",\"linecolor\":\"white\",\"showbackground\":true,\"ticks\":\"\",\"zerolinecolor\":\"white\",\"gridwidth\":2},\"zaxis\":{\"backgroundcolor\":\"#E5ECF6\",\"gridcolor\":\"white\",\"linecolor\":\"white\",\"showbackground\":true,\"ticks\":\"\",\"zerolinecolor\":\"white\",\"gridwidth\":2}},\"shapedefaults\":{\"line\":{\"color\":\"#2a3f5f\"}},\"annotationdefaults\":{\"arrowcolor\":\"#2a3f5f\",\"arrowhead\":0,\"arrowwidth\":1},\"geo\":{\"bgcolor\":\"white\",\"landcolor\":\"#E5ECF6\",\"subunitcolor\":\"white\",\"showland\":true,\"showlakes\":true,\"lakecolor\":\"white\"},\"title\":{\"x\":0.05},\"mapbox\":{\"style\":\"light\"}}},\"xaxis\":{\"anchor\":\"y\",\"domain\":[0.0,1.0],\"title\":{\"text\":\"Percentage\"}},\"yaxis\":{\"anchor\":\"x\",\"domain\":[0.0,1.0],\"title\":{\"text\":\"Gender\"}},\"legend\":{\"title\":{\"text\":\"Churn Label\"},\"tracegroupgap\":0},\"title\":{\"text\":\"100% Stacked Bar Chart by Contract and Churn Label\"},\"barmode\":\"relative\"},                        {\"responsive\": true}                    ).then(function(){\n",
       "                            \n",
       "var gd = document.getElementById('dddccffd-741b-4a37-80a1-94788c4fcc85');\n",
       "var x = new MutationObserver(function (mutations, observer) {{\n",
       "        var display = window.getComputedStyle(gd).display;\n",
       "        if (!display || display === 'none') {{\n",
       "            console.log([gd, 'removed!']);\n",
       "            Plotly.purge(gd);\n",
       "            observer.disconnect();\n",
       "        }}\n",
       "}});\n",
       "\n",
       "// Listen for the removal of the full notebook cells\n",
       "var notebookContainer = gd.closest('#notebook-container');\n",
       "if (notebookContainer) {{\n",
       "    x.observe(notebookContainer, {childList: true});\n",
       "}}\n",
       "\n",
       "// Listen for the clearing of the current output cell\n",
       "var outputEl = gd.closest('.output');\n",
       "if (outputEl) {{\n",
       "    x.observe(outputEl, {childList: true});\n",
       "}}\n",
       "\n",
       "                        })                };                });            </script>        </div>"
      ]
     },
     "metadata": {},
     "output_type": "display_data"
    }
   ],
   "source": [
    "fig = px.bar(Gender_ChurnLabel, x='rate', y='Gender', color='Churn Label',\n",
    "             title='100% Stacked Bar Chart by Contract and Churn Label', text= 'rate',\n",
    "             labels={'rate': 'Percentage'})\n",
    "\n",
    "fig.update_layout(barmode='relative')  # Make the bar chart 100% stacked\n",
    "\n",
    "fig.show()"
   ]
  },
  {
   "cell_type": "markdown",
   "id": "3dc15ecc",
   "metadata": {
    "papermill": {
     "duration": 0.019272,
     "end_time": "2023-11-14T14:42:29.080124",
     "exception": false,
     "start_time": "2023-11-14T14:42:29.060852",
     "status": "completed"
    },
    "tags": []
   },
   "source": [
    "**We don't see much difference. That's mean the Gender of customer don't related with churn label.**"
   ]
  },
  {
   "cell_type": "markdown",
   "id": "207b8976",
   "metadata": {
    "papermill": {
     "duration": 0.019331,
     "end_time": "2023-11-14T14:42:29.119398",
     "exception": false,
     "start_time": "2023-11-14T14:42:29.100067",
     "status": "completed"
    },
    "tags": []
   },
   "source": [
    "## Payment Method"
   ]
  },
  {
   "cell_type": "code",
   "execution_count": 32,
   "id": "428da4f6",
   "metadata": {
    "execution": {
     "iopub.execute_input": "2023-11-14T14:42:29.160548Z",
     "iopub.status.busy": "2023-11-14T14:42:29.160235Z",
     "iopub.status.idle": "2023-11-14T14:42:29.168037Z",
     "shell.execute_reply": "2023-11-14T14:42:29.167008Z"
    },
    "papermill": {
     "duration": 0.031411,
     "end_time": "2023-11-14T14:42:29.170463",
     "exception": false,
     "start_time": "2023-11-14T14:42:29.139052",
     "status": "completed"
    },
    "tags": []
   },
   "outputs": [
    {
     "data": {
      "text/plain": [
       "Payment Method\n",
       "Electronic check             2365\n",
       "Mailed check                 1612\n",
       "Bank transfer (automatic)    1544\n",
       "Credit card (automatic)      1522\n",
       "Name: count, dtype: int64"
      ]
     },
     "execution_count": 32,
     "metadata": {},
     "output_type": "execute_result"
    }
   ],
   "source": [
    "df['Payment Method'].value_counts()"
   ]
  },
  {
   "cell_type": "code",
   "execution_count": 33,
   "id": "81569121",
   "metadata": {
    "execution": {
     "iopub.execute_input": "2023-11-14T14:42:29.214466Z",
     "iopub.status.busy": "2023-11-14T14:42:29.213015Z",
     "iopub.status.idle": "2023-11-14T14:42:29.257781Z",
     "shell.execute_reply": "2023-11-14T14:42:29.256271Z"
    },
    "papermill": {
     "duration": 0.069361,
     "end_time": "2023-11-14T14:42:29.260354",
     "exception": false,
     "start_time": "2023-11-14T14:42:29.190993",
     "status": "completed"
    },
    "tags": []
   },
   "outputs": [
    {
     "data": {
      "text/html": [
       "<div>                            <div id=\"e02fd79c-4303-4fb9-b34e-280a26a4a640\" class=\"plotly-graph-div\" style=\"height:525px; width:100%;\"></div>            <script type=\"text/javascript\">                require([\"plotly\"], function(Plotly) {                    window.PLOTLYENV=window.PLOTLYENV || {};                                    if (document.getElementById(\"e02fd79c-4303-4fb9-b34e-280a26a4a640\")) {                    Plotly.newPlot(                        \"e02fd79c-4303-4fb9-b34e-280a26a4a640\",                        [{\"domain\":{\"x\":[0.0,1.0],\"y\":[0.0,1.0]},\"hovertemplate\":\"label=%{label}\\u003cbr\\u003evalue=%{value}\\u003cextra\\u003e\\u003c\\u002fextra\\u003e\",\"labels\":[\"Electronic check\",\"Mailed check\",\"Bank transfer (automatic)\",\"Credit card (automatic)\"],\"legendgroup\":\"\",\"name\":\"\",\"showlegend\":true,\"values\":[2365,1612,1544,1522],\"type\":\"pie\"}],                        {\"template\":{\"data\":{\"histogram2dcontour\":[{\"type\":\"histogram2dcontour\",\"colorbar\":{\"outlinewidth\":0,\"ticks\":\"\"},\"colorscale\":[[0.0,\"#0d0887\"],[0.1111111111111111,\"#46039f\"],[0.2222222222222222,\"#7201a8\"],[0.3333333333333333,\"#9c179e\"],[0.4444444444444444,\"#bd3786\"],[0.5555555555555556,\"#d8576b\"],[0.6666666666666666,\"#ed7953\"],[0.7777777777777778,\"#fb9f3a\"],[0.8888888888888888,\"#fdca26\"],[1.0,\"#f0f921\"]]}],\"choropleth\":[{\"type\":\"choropleth\",\"colorbar\":{\"outlinewidth\":0,\"ticks\":\"\"}}],\"histogram2d\":[{\"type\":\"histogram2d\",\"colorbar\":{\"outlinewidth\":0,\"ticks\":\"\"},\"colorscale\":[[0.0,\"#0d0887\"],[0.1111111111111111,\"#46039f\"],[0.2222222222222222,\"#7201a8\"],[0.3333333333333333,\"#9c179e\"],[0.4444444444444444,\"#bd3786\"],[0.5555555555555556,\"#d8576b\"],[0.6666666666666666,\"#ed7953\"],[0.7777777777777778,\"#fb9f3a\"],[0.8888888888888888,\"#fdca26\"],[1.0,\"#f0f921\"]]}],\"heatmap\":[{\"type\":\"heatmap\",\"colorbar\":{\"outlinewidth\":0,\"ticks\":\"\"},\"colorscale\":[[0.0,\"#0d0887\"],[0.1111111111111111,\"#46039f\"],[0.2222222222222222,\"#7201a8\"],[0.3333333333333333,\"#9c179e\"],[0.4444444444444444,\"#bd3786\"],[0.5555555555555556,\"#d8576b\"],[0.6666666666666666,\"#ed7953\"],[0.7777777777777778,\"#fb9f3a\"],[0.8888888888888888,\"#fdca26\"],[1.0,\"#f0f921\"]]}],\"heatmapgl\":[{\"type\":\"heatmapgl\",\"colorbar\":{\"outlinewidth\":0,\"ticks\":\"\"},\"colorscale\":[[0.0,\"#0d0887\"],[0.1111111111111111,\"#46039f\"],[0.2222222222222222,\"#7201a8\"],[0.3333333333333333,\"#9c179e\"],[0.4444444444444444,\"#bd3786\"],[0.5555555555555556,\"#d8576b\"],[0.6666666666666666,\"#ed7953\"],[0.7777777777777778,\"#fb9f3a\"],[0.8888888888888888,\"#fdca26\"],[1.0,\"#f0f921\"]]}],\"contourcarpet\":[{\"type\":\"contourcarpet\",\"colorbar\":{\"outlinewidth\":0,\"ticks\":\"\"}}],\"contour\":[{\"type\":\"contour\",\"colorbar\":{\"outlinewidth\":0,\"ticks\":\"\"},\"colorscale\":[[0.0,\"#0d0887\"],[0.1111111111111111,\"#46039f\"],[0.2222222222222222,\"#7201a8\"],[0.3333333333333333,\"#9c179e\"],[0.4444444444444444,\"#bd3786\"],[0.5555555555555556,\"#d8576b\"],[0.6666666666666666,\"#ed7953\"],[0.7777777777777778,\"#fb9f3a\"],[0.8888888888888888,\"#fdca26\"],[1.0,\"#f0f921\"]]}],\"surface\":[{\"type\":\"surface\",\"colorbar\":{\"outlinewidth\":0,\"ticks\":\"\"},\"colorscale\":[[0.0,\"#0d0887\"],[0.1111111111111111,\"#46039f\"],[0.2222222222222222,\"#7201a8\"],[0.3333333333333333,\"#9c179e\"],[0.4444444444444444,\"#bd3786\"],[0.5555555555555556,\"#d8576b\"],[0.6666666666666666,\"#ed7953\"],[0.7777777777777778,\"#fb9f3a\"],[0.8888888888888888,\"#fdca26\"],[1.0,\"#f0f921\"]]}],\"mesh3d\":[{\"type\":\"mesh3d\",\"colorbar\":{\"outlinewidth\":0,\"ticks\":\"\"}}],\"scatter\":[{\"fillpattern\":{\"fillmode\":\"overlay\",\"size\":10,\"solidity\":0.2},\"type\":\"scatter\"}],\"parcoords\":[{\"type\":\"parcoords\",\"line\":{\"colorbar\":{\"outlinewidth\":0,\"ticks\":\"\"}}}],\"scatterpolargl\":[{\"type\":\"scatterpolargl\",\"marker\":{\"colorbar\":{\"outlinewidth\":0,\"ticks\":\"\"}}}],\"bar\":[{\"error_x\":{\"color\":\"#2a3f5f\"},\"error_y\":{\"color\":\"#2a3f5f\"},\"marker\":{\"line\":{\"color\":\"#E5ECF6\",\"width\":0.5},\"pattern\":{\"fillmode\":\"overlay\",\"size\":10,\"solidity\":0.2}},\"type\":\"bar\"}],\"scattergeo\":[{\"type\":\"scattergeo\",\"marker\":{\"colorbar\":{\"outlinewidth\":0,\"ticks\":\"\"}}}],\"scatterpolar\":[{\"type\":\"scatterpolar\",\"marker\":{\"colorbar\":{\"outlinewidth\":0,\"ticks\":\"\"}}}],\"histogram\":[{\"marker\":{\"pattern\":{\"fillmode\":\"overlay\",\"size\":10,\"solidity\":0.2}},\"type\":\"histogram\"}],\"scattergl\":[{\"type\":\"scattergl\",\"marker\":{\"colorbar\":{\"outlinewidth\":0,\"ticks\":\"\"}}}],\"scatter3d\":[{\"type\":\"scatter3d\",\"line\":{\"colorbar\":{\"outlinewidth\":0,\"ticks\":\"\"}},\"marker\":{\"colorbar\":{\"outlinewidth\":0,\"ticks\":\"\"}}}],\"scattermapbox\":[{\"type\":\"scattermapbox\",\"marker\":{\"colorbar\":{\"outlinewidth\":0,\"ticks\":\"\"}}}],\"scatterternary\":[{\"type\":\"scatterternary\",\"marker\":{\"colorbar\":{\"outlinewidth\":0,\"ticks\":\"\"}}}],\"scattercarpet\":[{\"type\":\"scattercarpet\",\"marker\":{\"colorbar\":{\"outlinewidth\":0,\"ticks\":\"\"}}}],\"carpet\":[{\"aaxis\":{\"endlinecolor\":\"#2a3f5f\",\"gridcolor\":\"white\",\"linecolor\":\"white\",\"minorgridcolor\":\"white\",\"startlinecolor\":\"#2a3f5f\"},\"baxis\":{\"endlinecolor\":\"#2a3f5f\",\"gridcolor\":\"white\",\"linecolor\":\"white\",\"minorgridcolor\":\"white\",\"startlinecolor\":\"#2a3f5f\"},\"type\":\"carpet\"}],\"table\":[{\"cells\":{\"fill\":{\"color\":\"#EBF0F8\"},\"line\":{\"color\":\"white\"}},\"header\":{\"fill\":{\"color\":\"#C8D4E3\"},\"line\":{\"color\":\"white\"}},\"type\":\"table\"}],\"barpolar\":[{\"marker\":{\"line\":{\"color\":\"#E5ECF6\",\"width\":0.5},\"pattern\":{\"fillmode\":\"overlay\",\"size\":10,\"solidity\":0.2}},\"type\":\"barpolar\"}],\"pie\":[{\"automargin\":true,\"type\":\"pie\"}]},\"layout\":{\"autotypenumbers\":\"strict\",\"colorway\":[\"#636efa\",\"#EF553B\",\"#00cc96\",\"#ab63fa\",\"#FFA15A\",\"#19d3f3\",\"#FF6692\",\"#B6E880\",\"#FF97FF\",\"#FECB52\"],\"font\":{\"color\":\"#2a3f5f\"},\"hovermode\":\"closest\",\"hoverlabel\":{\"align\":\"left\"},\"paper_bgcolor\":\"white\",\"plot_bgcolor\":\"#E5ECF6\",\"polar\":{\"bgcolor\":\"#E5ECF6\",\"angularaxis\":{\"gridcolor\":\"white\",\"linecolor\":\"white\",\"ticks\":\"\"},\"radialaxis\":{\"gridcolor\":\"white\",\"linecolor\":\"white\",\"ticks\":\"\"}},\"ternary\":{\"bgcolor\":\"#E5ECF6\",\"aaxis\":{\"gridcolor\":\"white\",\"linecolor\":\"white\",\"ticks\":\"\"},\"baxis\":{\"gridcolor\":\"white\",\"linecolor\":\"white\",\"ticks\":\"\"},\"caxis\":{\"gridcolor\":\"white\",\"linecolor\":\"white\",\"ticks\":\"\"}},\"coloraxis\":{\"colorbar\":{\"outlinewidth\":0,\"ticks\":\"\"}},\"colorscale\":{\"sequential\":[[0.0,\"#0d0887\"],[0.1111111111111111,\"#46039f\"],[0.2222222222222222,\"#7201a8\"],[0.3333333333333333,\"#9c179e\"],[0.4444444444444444,\"#bd3786\"],[0.5555555555555556,\"#d8576b\"],[0.6666666666666666,\"#ed7953\"],[0.7777777777777778,\"#fb9f3a\"],[0.8888888888888888,\"#fdca26\"],[1.0,\"#f0f921\"]],\"sequentialminus\":[[0.0,\"#0d0887\"],[0.1111111111111111,\"#46039f\"],[0.2222222222222222,\"#7201a8\"],[0.3333333333333333,\"#9c179e\"],[0.4444444444444444,\"#bd3786\"],[0.5555555555555556,\"#d8576b\"],[0.6666666666666666,\"#ed7953\"],[0.7777777777777778,\"#fb9f3a\"],[0.8888888888888888,\"#fdca26\"],[1.0,\"#f0f921\"]],\"diverging\":[[0,\"#8e0152\"],[0.1,\"#c51b7d\"],[0.2,\"#de77ae\"],[0.3,\"#f1b6da\"],[0.4,\"#fde0ef\"],[0.5,\"#f7f7f7\"],[0.6,\"#e6f5d0\"],[0.7,\"#b8e186\"],[0.8,\"#7fbc41\"],[0.9,\"#4d9221\"],[1,\"#276419\"]]},\"xaxis\":{\"gridcolor\":\"white\",\"linecolor\":\"white\",\"ticks\":\"\",\"title\":{\"standoff\":15},\"zerolinecolor\":\"white\",\"automargin\":true,\"zerolinewidth\":2},\"yaxis\":{\"gridcolor\":\"white\",\"linecolor\":\"white\",\"ticks\":\"\",\"title\":{\"standoff\":15},\"zerolinecolor\":\"white\",\"automargin\":true,\"zerolinewidth\":2},\"scene\":{\"xaxis\":{\"backgroundcolor\":\"#E5ECF6\",\"gridcolor\":\"white\",\"linecolor\":\"white\",\"showbackground\":true,\"ticks\":\"\",\"zerolinecolor\":\"white\",\"gridwidth\":2},\"yaxis\":{\"backgroundcolor\":\"#E5ECF6\",\"gridcolor\":\"white\",\"linecolor\":\"white\",\"showbackground\":true,\"ticks\":\"\",\"zerolinecolor\":\"white\",\"gridwidth\":2},\"zaxis\":{\"backgroundcolor\":\"#E5ECF6\",\"gridcolor\":\"white\",\"linecolor\":\"white\",\"showbackground\":true,\"ticks\":\"\",\"zerolinecolor\":\"white\",\"gridwidth\":2}},\"shapedefaults\":{\"line\":{\"color\":\"#2a3f5f\"}},\"annotationdefaults\":{\"arrowcolor\":\"#2a3f5f\",\"arrowhead\":0,\"arrowwidth\":1},\"geo\":{\"bgcolor\":\"white\",\"landcolor\":\"#E5ECF6\",\"subunitcolor\":\"white\",\"showland\":true,\"showlakes\":true,\"lakecolor\":\"white\"},\"title\":{\"x\":0.05},\"mapbox\":{\"style\":\"light\"}}},\"legend\":{\"tracegroupgap\":0},\"title\":{\"text\":\"Payment Method Distribution\"}},                        {\"responsive\": true}                    ).then(function(){\n",
       "                            \n",
       "var gd = document.getElementById('e02fd79c-4303-4fb9-b34e-280a26a4a640');\n",
       "var x = new MutationObserver(function (mutations, observer) {{\n",
       "        var display = window.getComputedStyle(gd).display;\n",
       "        if (!display || display === 'none') {{\n",
       "            console.log([gd, 'removed!']);\n",
       "            Plotly.purge(gd);\n",
       "            observer.disconnect();\n",
       "        }}\n",
       "}});\n",
       "\n",
       "// Listen for the removal of the full notebook cells\n",
       "var notebookContainer = gd.closest('#notebook-container');\n",
       "if (notebookContainer) {{\n",
       "    x.observe(notebookContainer, {childList: true});\n",
       "}}\n",
       "\n",
       "// Listen for the clearing of the current output cell\n",
       "var outputEl = gd.closest('.output');\n",
       "if (outputEl) {{\n",
       "    x.observe(outputEl, {childList: true});\n",
       "}}\n",
       "\n",
       "                        })                };                });            </script>        </div>"
      ]
     },
     "metadata": {},
     "output_type": "display_data"
    }
   ],
   "source": [
    "Payment_Method_counts= df['Payment Method'].value_counts()\n",
    "fig = px.pie(names= Payment_Method_counts.keys(), values= Payment_Method_counts.values, title='Payment Method Distribution')\n",
    "fig.show()"
   ]
  },
  {
   "cell_type": "markdown",
   "id": "61a9e895",
   "metadata": {
    "papermill": {
     "duration": 0.020467,
     "end_time": "2023-11-14T14:42:29.301587",
     "exception": false,
     "start_time": "2023-11-14T14:42:29.281120",
     "status": "completed"
    },
    "tags": []
   },
   "source": [
    "**Most of customers use electronic check as a payment method about `33.6%`**"
   ]
  },
  {
   "cell_type": "code",
   "execution_count": 34,
   "id": "f6da092a",
   "metadata": {
    "execution": {
     "iopub.execute_input": "2023-11-14T14:42:29.344781Z",
     "iopub.status.busy": "2023-11-14T14:42:29.344416Z",
     "iopub.status.idle": "2023-11-14T14:42:29.406684Z",
     "shell.execute_reply": "2023-11-14T14:42:29.405760Z"
    },
    "papermill": {
     "duration": 0.086242,
     "end_time": "2023-11-14T14:42:29.408612",
     "exception": false,
     "start_time": "2023-11-14T14:42:29.322370",
     "status": "completed"
    },
    "tags": []
   },
   "outputs": [
    {
     "data": {
      "text/html": [
       "<div>                            <div id=\"82c59755-bbd8-4eb7-8a5f-7c62e3b1e31b\" class=\"plotly-graph-div\" style=\"height:525px; width:100%;\"></div>            <script type=\"text/javascript\">                require([\"plotly\"], function(Plotly) {                    window.PLOTLYENV=window.PLOTLYENV || {};                                    if (document.getElementById(\"82c59755-bbd8-4eb7-8a5f-7c62e3b1e31b\")) {                    Plotly.newPlot(                        \"82c59755-bbd8-4eb7-8a5f-7c62e3b1e31b\",                        [{\"alignmentgroup\":\"True\",\"hovertemplate\":\"Churn Label=No\\u003cbr\\u003ePercentage=%{text}\\u003cbr\\u003ePayment Method=%{y}\\u003cextra\\u003e\\u003c\\u002fextra\\u003e\",\"legendgroup\":\"No\",\"marker\":{\"color\":\"#636efa\",\"pattern\":{\"shape\":\"\"}},\"name\":\"No\",\"offsetgroup\":\"No\",\"orientation\":\"h\",\"showlegend\":true,\"text\":[0.83,0.85,0.55,0.81],\"textposition\":\"auto\",\"x\":[0.83,0.85,0.55,0.81],\"xaxis\":\"x\",\"y\":[\"Bank transfer (automatic)\",\"Credit card (automatic)\",\"Electronic check\",\"Mailed check\"],\"yaxis\":\"y\",\"type\":\"bar\"},{\"alignmentgroup\":\"True\",\"hovertemplate\":\"Churn Label=Yes\\u003cbr\\u003ePercentage=%{text}\\u003cbr\\u003ePayment Method=%{y}\\u003cextra\\u003e\\u003c\\u002fextra\\u003e\",\"legendgroup\":\"Yes\",\"marker\":{\"color\":\"#EF553B\",\"pattern\":{\"shape\":\"\"}},\"name\":\"Yes\",\"offsetgroup\":\"Yes\",\"orientation\":\"h\",\"showlegend\":true,\"text\":[0.17,0.15,0.45,0.19],\"textposition\":\"auto\",\"x\":[0.17,0.15,0.45,0.19],\"xaxis\":\"x\",\"y\":[\"Bank transfer (automatic)\",\"Credit card (automatic)\",\"Electronic check\",\"Mailed check\"],\"yaxis\":\"y\",\"type\":\"bar\"}],                        {\"template\":{\"data\":{\"histogram2dcontour\":[{\"type\":\"histogram2dcontour\",\"colorbar\":{\"outlinewidth\":0,\"ticks\":\"\"},\"colorscale\":[[0.0,\"#0d0887\"],[0.1111111111111111,\"#46039f\"],[0.2222222222222222,\"#7201a8\"],[0.3333333333333333,\"#9c179e\"],[0.4444444444444444,\"#bd3786\"],[0.5555555555555556,\"#d8576b\"],[0.6666666666666666,\"#ed7953\"],[0.7777777777777778,\"#fb9f3a\"],[0.8888888888888888,\"#fdca26\"],[1.0,\"#f0f921\"]]}],\"choropleth\":[{\"type\":\"choropleth\",\"colorbar\":{\"outlinewidth\":0,\"ticks\":\"\"}}],\"histogram2d\":[{\"type\":\"histogram2d\",\"colorbar\":{\"outlinewidth\":0,\"ticks\":\"\"},\"colorscale\":[[0.0,\"#0d0887\"],[0.1111111111111111,\"#46039f\"],[0.2222222222222222,\"#7201a8\"],[0.3333333333333333,\"#9c179e\"],[0.4444444444444444,\"#bd3786\"],[0.5555555555555556,\"#d8576b\"],[0.6666666666666666,\"#ed7953\"],[0.7777777777777778,\"#fb9f3a\"],[0.8888888888888888,\"#fdca26\"],[1.0,\"#f0f921\"]]}],\"heatmap\":[{\"type\":\"heatmap\",\"colorbar\":{\"outlinewidth\":0,\"ticks\":\"\"},\"colorscale\":[[0.0,\"#0d0887\"],[0.1111111111111111,\"#46039f\"],[0.2222222222222222,\"#7201a8\"],[0.3333333333333333,\"#9c179e\"],[0.4444444444444444,\"#bd3786\"],[0.5555555555555556,\"#d8576b\"],[0.6666666666666666,\"#ed7953\"],[0.7777777777777778,\"#fb9f3a\"],[0.8888888888888888,\"#fdca26\"],[1.0,\"#f0f921\"]]}],\"heatmapgl\":[{\"type\":\"heatmapgl\",\"colorbar\":{\"outlinewidth\":0,\"ticks\":\"\"},\"colorscale\":[[0.0,\"#0d0887\"],[0.1111111111111111,\"#46039f\"],[0.2222222222222222,\"#7201a8\"],[0.3333333333333333,\"#9c179e\"],[0.4444444444444444,\"#bd3786\"],[0.5555555555555556,\"#d8576b\"],[0.6666666666666666,\"#ed7953\"],[0.7777777777777778,\"#fb9f3a\"],[0.8888888888888888,\"#fdca26\"],[1.0,\"#f0f921\"]]}],\"contourcarpet\":[{\"type\":\"contourcarpet\",\"colorbar\":{\"outlinewidth\":0,\"ticks\":\"\"}}],\"contour\":[{\"type\":\"contour\",\"colorbar\":{\"outlinewidth\":0,\"ticks\":\"\"},\"colorscale\":[[0.0,\"#0d0887\"],[0.1111111111111111,\"#46039f\"],[0.2222222222222222,\"#7201a8\"],[0.3333333333333333,\"#9c179e\"],[0.4444444444444444,\"#bd3786\"],[0.5555555555555556,\"#d8576b\"],[0.6666666666666666,\"#ed7953\"],[0.7777777777777778,\"#fb9f3a\"],[0.8888888888888888,\"#fdca26\"],[1.0,\"#f0f921\"]]}],\"surface\":[{\"type\":\"surface\",\"colorbar\":{\"outlinewidth\":0,\"ticks\":\"\"},\"colorscale\":[[0.0,\"#0d0887\"],[0.1111111111111111,\"#46039f\"],[0.2222222222222222,\"#7201a8\"],[0.3333333333333333,\"#9c179e\"],[0.4444444444444444,\"#bd3786\"],[0.5555555555555556,\"#d8576b\"],[0.6666666666666666,\"#ed7953\"],[0.7777777777777778,\"#fb9f3a\"],[0.8888888888888888,\"#fdca26\"],[1.0,\"#f0f921\"]]}],\"mesh3d\":[{\"type\":\"mesh3d\",\"colorbar\":{\"outlinewidth\":0,\"ticks\":\"\"}}],\"scatter\":[{\"fillpattern\":{\"fillmode\":\"overlay\",\"size\":10,\"solidity\":0.2},\"type\":\"scatter\"}],\"parcoords\":[{\"type\":\"parcoords\",\"line\":{\"colorbar\":{\"outlinewidth\":0,\"ticks\":\"\"}}}],\"scatterpolargl\":[{\"type\":\"scatterpolargl\",\"marker\":{\"colorbar\":{\"outlinewidth\":0,\"ticks\":\"\"}}}],\"bar\":[{\"error_x\":{\"color\":\"#2a3f5f\"},\"error_y\":{\"color\":\"#2a3f5f\"},\"marker\":{\"line\":{\"color\":\"#E5ECF6\",\"width\":0.5},\"pattern\":{\"fillmode\":\"overlay\",\"size\":10,\"solidity\":0.2}},\"type\":\"bar\"}],\"scattergeo\":[{\"type\":\"scattergeo\",\"marker\":{\"colorbar\":{\"outlinewidth\":0,\"ticks\":\"\"}}}],\"scatterpolar\":[{\"type\":\"scatterpolar\",\"marker\":{\"colorbar\":{\"outlinewidth\":0,\"ticks\":\"\"}}}],\"histogram\":[{\"marker\":{\"pattern\":{\"fillmode\":\"overlay\",\"size\":10,\"solidity\":0.2}},\"type\":\"histogram\"}],\"scattergl\":[{\"type\":\"scattergl\",\"marker\":{\"colorbar\":{\"outlinewidth\":0,\"ticks\":\"\"}}}],\"scatter3d\":[{\"type\":\"scatter3d\",\"line\":{\"colorbar\":{\"outlinewidth\":0,\"ticks\":\"\"}},\"marker\":{\"colorbar\":{\"outlinewidth\":0,\"ticks\":\"\"}}}],\"scattermapbox\":[{\"type\":\"scattermapbox\",\"marker\":{\"colorbar\":{\"outlinewidth\":0,\"ticks\":\"\"}}}],\"scatterternary\":[{\"type\":\"scatterternary\",\"marker\":{\"colorbar\":{\"outlinewidth\":0,\"ticks\":\"\"}}}],\"scattercarpet\":[{\"type\":\"scattercarpet\",\"marker\":{\"colorbar\":{\"outlinewidth\":0,\"ticks\":\"\"}}}],\"carpet\":[{\"aaxis\":{\"endlinecolor\":\"#2a3f5f\",\"gridcolor\":\"white\",\"linecolor\":\"white\",\"minorgridcolor\":\"white\",\"startlinecolor\":\"#2a3f5f\"},\"baxis\":{\"endlinecolor\":\"#2a3f5f\",\"gridcolor\":\"white\",\"linecolor\":\"white\",\"minorgridcolor\":\"white\",\"startlinecolor\":\"#2a3f5f\"},\"type\":\"carpet\"}],\"table\":[{\"cells\":{\"fill\":{\"color\":\"#EBF0F8\"},\"line\":{\"color\":\"white\"}},\"header\":{\"fill\":{\"color\":\"#C8D4E3\"},\"line\":{\"color\":\"white\"}},\"type\":\"table\"}],\"barpolar\":[{\"marker\":{\"line\":{\"color\":\"#E5ECF6\",\"width\":0.5},\"pattern\":{\"fillmode\":\"overlay\",\"size\":10,\"solidity\":0.2}},\"type\":\"barpolar\"}],\"pie\":[{\"automargin\":true,\"type\":\"pie\"}]},\"layout\":{\"autotypenumbers\":\"strict\",\"colorway\":[\"#636efa\",\"#EF553B\",\"#00cc96\",\"#ab63fa\",\"#FFA15A\",\"#19d3f3\",\"#FF6692\",\"#B6E880\",\"#FF97FF\",\"#FECB52\"],\"font\":{\"color\":\"#2a3f5f\"},\"hovermode\":\"closest\",\"hoverlabel\":{\"align\":\"left\"},\"paper_bgcolor\":\"white\",\"plot_bgcolor\":\"#E5ECF6\",\"polar\":{\"bgcolor\":\"#E5ECF6\",\"angularaxis\":{\"gridcolor\":\"white\",\"linecolor\":\"white\",\"ticks\":\"\"},\"radialaxis\":{\"gridcolor\":\"white\",\"linecolor\":\"white\",\"ticks\":\"\"}},\"ternary\":{\"bgcolor\":\"#E5ECF6\",\"aaxis\":{\"gridcolor\":\"white\",\"linecolor\":\"white\",\"ticks\":\"\"},\"baxis\":{\"gridcolor\":\"white\",\"linecolor\":\"white\",\"ticks\":\"\"},\"caxis\":{\"gridcolor\":\"white\",\"linecolor\":\"white\",\"ticks\":\"\"}},\"coloraxis\":{\"colorbar\":{\"outlinewidth\":0,\"ticks\":\"\"}},\"colorscale\":{\"sequential\":[[0.0,\"#0d0887\"],[0.1111111111111111,\"#46039f\"],[0.2222222222222222,\"#7201a8\"],[0.3333333333333333,\"#9c179e\"],[0.4444444444444444,\"#bd3786\"],[0.5555555555555556,\"#d8576b\"],[0.6666666666666666,\"#ed7953\"],[0.7777777777777778,\"#fb9f3a\"],[0.8888888888888888,\"#fdca26\"],[1.0,\"#f0f921\"]],\"sequentialminus\":[[0.0,\"#0d0887\"],[0.1111111111111111,\"#46039f\"],[0.2222222222222222,\"#7201a8\"],[0.3333333333333333,\"#9c179e\"],[0.4444444444444444,\"#bd3786\"],[0.5555555555555556,\"#d8576b\"],[0.6666666666666666,\"#ed7953\"],[0.7777777777777778,\"#fb9f3a\"],[0.8888888888888888,\"#fdca26\"],[1.0,\"#f0f921\"]],\"diverging\":[[0,\"#8e0152\"],[0.1,\"#c51b7d\"],[0.2,\"#de77ae\"],[0.3,\"#f1b6da\"],[0.4,\"#fde0ef\"],[0.5,\"#f7f7f7\"],[0.6,\"#e6f5d0\"],[0.7,\"#b8e186\"],[0.8,\"#7fbc41\"],[0.9,\"#4d9221\"],[1,\"#276419\"]]},\"xaxis\":{\"gridcolor\":\"white\",\"linecolor\":\"white\",\"ticks\":\"\",\"title\":{\"standoff\":15},\"zerolinecolor\":\"white\",\"automargin\":true,\"zerolinewidth\":2},\"yaxis\":{\"gridcolor\":\"white\",\"linecolor\":\"white\",\"ticks\":\"\",\"title\":{\"standoff\":15},\"zerolinecolor\":\"white\",\"automargin\":true,\"zerolinewidth\":2},\"scene\":{\"xaxis\":{\"backgroundcolor\":\"#E5ECF6\",\"gridcolor\":\"white\",\"linecolor\":\"white\",\"showbackground\":true,\"ticks\":\"\",\"zerolinecolor\":\"white\",\"gridwidth\":2},\"yaxis\":{\"backgroundcolor\":\"#E5ECF6\",\"gridcolor\":\"white\",\"linecolor\":\"white\",\"showbackground\":true,\"ticks\":\"\",\"zerolinecolor\":\"white\",\"gridwidth\":2},\"zaxis\":{\"backgroundcolor\":\"#E5ECF6\",\"gridcolor\":\"white\",\"linecolor\":\"white\",\"showbackground\":true,\"ticks\":\"\",\"zerolinecolor\":\"white\",\"gridwidth\":2}},\"shapedefaults\":{\"line\":{\"color\":\"#2a3f5f\"}},\"annotationdefaults\":{\"arrowcolor\":\"#2a3f5f\",\"arrowhead\":0,\"arrowwidth\":1},\"geo\":{\"bgcolor\":\"white\",\"landcolor\":\"#E5ECF6\",\"subunitcolor\":\"white\",\"showland\":true,\"showlakes\":true,\"lakecolor\":\"white\"},\"title\":{\"x\":0.05},\"mapbox\":{\"style\":\"light\"}}},\"xaxis\":{\"anchor\":\"y\",\"domain\":[0.0,1.0],\"title\":{\"text\":\"Percentage\"}},\"yaxis\":{\"anchor\":\"x\",\"domain\":[0.0,1.0],\"title\":{\"text\":\"Payment Method\"}},\"legend\":{\"title\":{\"text\":\"Churn Label\"},\"tracegroupgap\":0},\"title\":{\"text\":\"100% Stacked Bar Chart by Payment Method and Churn Label\"},\"barmode\":\"relative\"},                        {\"responsive\": true}                    ).then(function(){\n",
       "                            \n",
       "var gd = document.getElementById('82c59755-bbd8-4eb7-8a5f-7c62e3b1e31b');\n",
       "var x = new MutationObserver(function (mutations, observer) {{\n",
       "        var display = window.getComputedStyle(gd).display;\n",
       "        if (!display || display === 'none') {{\n",
       "            console.log([gd, 'removed!']);\n",
       "            Plotly.purge(gd);\n",
       "            observer.disconnect();\n",
       "        }}\n",
       "}});\n",
       "\n",
       "// Listen for the removal of the full notebook cells\n",
       "var notebookContainer = gd.closest('#notebook-container');\n",
       "if (notebookContainer) {{\n",
       "    x.observe(notebookContainer, {childList: true});\n",
       "}}\n",
       "\n",
       "// Listen for the clearing of the current output cell\n",
       "var outputEl = gd.closest('.output');\n",
       "if (outputEl) {{\n",
       "    x.observe(outputEl, {childList: true});\n",
       "}}\n",
       "\n",
       "                        })                };                });            </script>        </div>"
      ]
     },
     "metadata": {},
     "output_type": "display_data"
    }
   ],
   "source": [
    "# Group by 'Contract' and 'Churn Label' and count the occurrences\n",
    "grouped = df.groupby(['Payment Method', 'Churn Label'])['CustomerID'].count()\n",
    "total_counts = grouped.groupby('Payment Method').transform('sum')\n",
    "normalized_count = round(grouped / total_counts,2)\n",
    "Payment_Method_ChurnLabel = pd.DataFrame({'rate': normalized_count}).reset_index()\n",
    "\n",
    "fig = px.bar(Payment_Method_ChurnLabel, x='rate', y='Payment Method', color='Churn Label',\n",
    "             title='100% Stacked Bar Chart by Payment Method and Churn Label', text= 'rate',\n",
    "             labels={'rate': 'Percentage'})\n",
    "\n",
    "fig.update_layout(barmode='relative')  # Make the bar chart 100% stacked\n",
    "\n",
    "fig.show()"
   ]
  },
  {
   "cell_type": "markdown",
   "id": "eaca4fee",
   "metadata": {
    "papermill": {
     "duration": 0.020226,
     "end_time": "2023-11-14T14:42:29.449389",
     "exception": false,
     "start_time": "2023-11-14T14:42:29.429163",
     "status": "completed"
    },
    "tags": []
   },
   "source": [
    "**It looks like for customers with an electronic check as a payment method with 45% churn rate.** \n",
    "**Credit card payment method has the least churn rate about `15%`**"
   ]
  },
  {
   "cell_type": "markdown",
   "id": "f14f7ab6",
   "metadata": {
    "papermill": {
     "duration": 0.019881,
     "end_time": "2023-11-14T14:42:29.489905",
     "exception": false,
     "start_time": "2023-11-14T14:42:29.470024",
     "status": "completed"
    },
    "tags": []
   },
   "source": [
    "## Internet Service"
   ]
  },
  {
   "cell_type": "code",
   "execution_count": 35,
   "id": "41b05600",
   "metadata": {
    "execution": {
     "iopub.execute_input": "2023-11-14T14:42:29.531602Z",
     "iopub.status.busy": "2023-11-14T14:42:29.531242Z",
     "iopub.status.idle": "2023-11-14T14:42:29.538507Z",
     "shell.execute_reply": "2023-11-14T14:42:29.537878Z"
    },
    "papermill": {
     "duration": 0.030788,
     "end_time": "2023-11-14T14:42:29.540900",
     "exception": false,
     "start_time": "2023-11-14T14:42:29.510112",
     "status": "completed"
    },
    "tags": []
   },
   "outputs": [
    {
     "data": {
      "text/plain": [
       "Internet Service\n",
       "Fiber optic    3096\n",
       "DSL            2421\n",
       "No             1526\n",
       "Name: count, dtype: int64"
      ]
     },
     "execution_count": 35,
     "metadata": {},
     "output_type": "execute_result"
    }
   ],
   "source": [
    "df['Internet Service'].value_counts()"
   ]
  },
  {
   "cell_type": "code",
   "execution_count": 36,
   "id": "86dfb109",
   "metadata": {
    "execution": {
     "iopub.execute_input": "2023-11-14T14:42:29.585560Z",
     "iopub.status.busy": "2023-11-14T14:42:29.585185Z",
     "iopub.status.idle": "2023-11-14T14:42:29.649566Z",
     "shell.execute_reply": "2023-11-14T14:42:29.648014Z"
    },
    "papermill": {
     "duration": 0.089644,
     "end_time": "2023-11-14T14:42:29.652049",
     "exception": false,
     "start_time": "2023-11-14T14:42:29.562405",
     "status": "completed"
    },
    "tags": []
   },
   "outputs": [
    {
     "data": {
      "text/html": [
       "<div>                            <div id=\"de78e4cb-02bb-4f9f-a5ca-067a3d487467\" class=\"plotly-graph-div\" style=\"height:525px; width:100%;\"></div>            <script type=\"text/javascript\">                require([\"plotly\"], function(Plotly) {                    window.PLOTLYENV=window.PLOTLYENV || {};                                    if (document.getElementById(\"de78e4cb-02bb-4f9f-a5ca-067a3d487467\")) {                    Plotly.newPlot(                        \"de78e4cb-02bb-4f9f-a5ca-067a3d487467\",                        [{\"alignmentgroup\":\"True\",\"hovertemplate\":\"Churn Label=No\\u003cbr\\u003ePercentage=%{text}\\u003cbr\\u003eInternet Service=%{y}\\u003cextra\\u003e\\u003c\\u002fextra\\u003e\",\"legendgroup\":\"No\",\"marker\":{\"color\":\"#636efa\",\"pattern\":{\"shape\":\"\"}},\"name\":\"No\",\"offsetgroup\":\"No\",\"orientation\":\"h\",\"showlegend\":true,\"text\":[0.81,0.58,0.93],\"textposition\":\"auto\",\"x\":[0.81,0.58,0.93],\"xaxis\":\"x\",\"y\":[\"DSL\",\"Fiber optic\",\"No\"],\"yaxis\":\"y\",\"type\":\"bar\"},{\"alignmentgroup\":\"True\",\"hovertemplate\":\"Churn Label=Yes\\u003cbr\\u003ePercentage=%{text}\\u003cbr\\u003eInternet Service=%{y}\\u003cextra\\u003e\\u003c\\u002fextra\\u003e\",\"legendgroup\":\"Yes\",\"marker\":{\"color\":\"#EF553B\",\"pattern\":{\"shape\":\"\"}},\"name\":\"Yes\",\"offsetgroup\":\"Yes\",\"orientation\":\"h\",\"showlegend\":true,\"text\":[0.19,0.42,0.07],\"textposition\":\"auto\",\"x\":[0.19,0.42,0.07],\"xaxis\":\"x\",\"y\":[\"DSL\",\"Fiber optic\",\"No\"],\"yaxis\":\"y\",\"type\":\"bar\"}],                        {\"template\":{\"data\":{\"histogram2dcontour\":[{\"type\":\"histogram2dcontour\",\"colorbar\":{\"outlinewidth\":0,\"ticks\":\"\"},\"colorscale\":[[0.0,\"#0d0887\"],[0.1111111111111111,\"#46039f\"],[0.2222222222222222,\"#7201a8\"],[0.3333333333333333,\"#9c179e\"],[0.4444444444444444,\"#bd3786\"],[0.5555555555555556,\"#d8576b\"],[0.6666666666666666,\"#ed7953\"],[0.7777777777777778,\"#fb9f3a\"],[0.8888888888888888,\"#fdca26\"],[1.0,\"#f0f921\"]]}],\"choropleth\":[{\"type\":\"choropleth\",\"colorbar\":{\"outlinewidth\":0,\"ticks\":\"\"}}],\"histogram2d\":[{\"type\":\"histogram2d\",\"colorbar\":{\"outlinewidth\":0,\"ticks\":\"\"},\"colorscale\":[[0.0,\"#0d0887\"],[0.1111111111111111,\"#46039f\"],[0.2222222222222222,\"#7201a8\"],[0.3333333333333333,\"#9c179e\"],[0.4444444444444444,\"#bd3786\"],[0.5555555555555556,\"#d8576b\"],[0.6666666666666666,\"#ed7953\"],[0.7777777777777778,\"#fb9f3a\"],[0.8888888888888888,\"#fdca26\"],[1.0,\"#f0f921\"]]}],\"heatmap\":[{\"type\":\"heatmap\",\"colorbar\":{\"outlinewidth\":0,\"ticks\":\"\"},\"colorscale\":[[0.0,\"#0d0887\"],[0.1111111111111111,\"#46039f\"],[0.2222222222222222,\"#7201a8\"],[0.3333333333333333,\"#9c179e\"],[0.4444444444444444,\"#bd3786\"],[0.5555555555555556,\"#d8576b\"],[0.6666666666666666,\"#ed7953\"],[0.7777777777777778,\"#fb9f3a\"],[0.8888888888888888,\"#fdca26\"],[1.0,\"#f0f921\"]]}],\"heatmapgl\":[{\"type\":\"heatmapgl\",\"colorbar\":{\"outlinewidth\":0,\"ticks\":\"\"},\"colorscale\":[[0.0,\"#0d0887\"],[0.1111111111111111,\"#46039f\"],[0.2222222222222222,\"#7201a8\"],[0.3333333333333333,\"#9c179e\"],[0.4444444444444444,\"#bd3786\"],[0.5555555555555556,\"#d8576b\"],[0.6666666666666666,\"#ed7953\"],[0.7777777777777778,\"#fb9f3a\"],[0.8888888888888888,\"#fdca26\"],[1.0,\"#f0f921\"]]}],\"contourcarpet\":[{\"type\":\"contourcarpet\",\"colorbar\":{\"outlinewidth\":0,\"ticks\":\"\"}}],\"contour\":[{\"type\":\"contour\",\"colorbar\":{\"outlinewidth\":0,\"ticks\":\"\"},\"colorscale\":[[0.0,\"#0d0887\"],[0.1111111111111111,\"#46039f\"],[0.2222222222222222,\"#7201a8\"],[0.3333333333333333,\"#9c179e\"],[0.4444444444444444,\"#bd3786\"],[0.5555555555555556,\"#d8576b\"],[0.6666666666666666,\"#ed7953\"],[0.7777777777777778,\"#fb9f3a\"],[0.8888888888888888,\"#fdca26\"],[1.0,\"#f0f921\"]]}],\"surface\":[{\"type\":\"surface\",\"colorbar\":{\"outlinewidth\":0,\"ticks\":\"\"},\"colorscale\":[[0.0,\"#0d0887\"],[0.1111111111111111,\"#46039f\"],[0.2222222222222222,\"#7201a8\"],[0.3333333333333333,\"#9c179e\"],[0.4444444444444444,\"#bd3786\"],[0.5555555555555556,\"#d8576b\"],[0.6666666666666666,\"#ed7953\"],[0.7777777777777778,\"#fb9f3a\"],[0.8888888888888888,\"#fdca26\"],[1.0,\"#f0f921\"]]}],\"mesh3d\":[{\"type\":\"mesh3d\",\"colorbar\":{\"outlinewidth\":0,\"ticks\":\"\"}}],\"scatter\":[{\"fillpattern\":{\"fillmode\":\"overlay\",\"size\":10,\"solidity\":0.2},\"type\":\"scatter\"}],\"parcoords\":[{\"type\":\"parcoords\",\"line\":{\"colorbar\":{\"outlinewidth\":0,\"ticks\":\"\"}}}],\"scatterpolargl\":[{\"type\":\"scatterpolargl\",\"marker\":{\"colorbar\":{\"outlinewidth\":0,\"ticks\":\"\"}}}],\"bar\":[{\"error_x\":{\"color\":\"#2a3f5f\"},\"error_y\":{\"color\":\"#2a3f5f\"},\"marker\":{\"line\":{\"color\":\"#E5ECF6\",\"width\":0.5},\"pattern\":{\"fillmode\":\"overlay\",\"size\":10,\"solidity\":0.2}},\"type\":\"bar\"}],\"scattergeo\":[{\"type\":\"scattergeo\",\"marker\":{\"colorbar\":{\"outlinewidth\":0,\"ticks\":\"\"}}}],\"scatterpolar\":[{\"type\":\"scatterpolar\",\"marker\":{\"colorbar\":{\"outlinewidth\":0,\"ticks\":\"\"}}}],\"histogram\":[{\"marker\":{\"pattern\":{\"fillmode\":\"overlay\",\"size\":10,\"solidity\":0.2}},\"type\":\"histogram\"}],\"scattergl\":[{\"type\":\"scattergl\",\"marker\":{\"colorbar\":{\"outlinewidth\":0,\"ticks\":\"\"}}}],\"scatter3d\":[{\"type\":\"scatter3d\",\"line\":{\"colorbar\":{\"outlinewidth\":0,\"ticks\":\"\"}},\"marker\":{\"colorbar\":{\"outlinewidth\":0,\"ticks\":\"\"}}}],\"scattermapbox\":[{\"type\":\"scattermapbox\",\"marker\":{\"colorbar\":{\"outlinewidth\":0,\"ticks\":\"\"}}}],\"scatterternary\":[{\"type\":\"scatterternary\",\"marker\":{\"colorbar\":{\"outlinewidth\":0,\"ticks\":\"\"}}}],\"scattercarpet\":[{\"type\":\"scattercarpet\",\"marker\":{\"colorbar\":{\"outlinewidth\":0,\"ticks\":\"\"}}}],\"carpet\":[{\"aaxis\":{\"endlinecolor\":\"#2a3f5f\",\"gridcolor\":\"white\",\"linecolor\":\"white\",\"minorgridcolor\":\"white\",\"startlinecolor\":\"#2a3f5f\"},\"baxis\":{\"endlinecolor\":\"#2a3f5f\",\"gridcolor\":\"white\",\"linecolor\":\"white\",\"minorgridcolor\":\"white\",\"startlinecolor\":\"#2a3f5f\"},\"type\":\"carpet\"}],\"table\":[{\"cells\":{\"fill\":{\"color\":\"#EBF0F8\"},\"line\":{\"color\":\"white\"}},\"header\":{\"fill\":{\"color\":\"#C8D4E3\"},\"line\":{\"color\":\"white\"}},\"type\":\"table\"}],\"barpolar\":[{\"marker\":{\"line\":{\"color\":\"#E5ECF6\",\"width\":0.5},\"pattern\":{\"fillmode\":\"overlay\",\"size\":10,\"solidity\":0.2}},\"type\":\"barpolar\"}],\"pie\":[{\"automargin\":true,\"type\":\"pie\"}]},\"layout\":{\"autotypenumbers\":\"strict\",\"colorway\":[\"#636efa\",\"#EF553B\",\"#00cc96\",\"#ab63fa\",\"#FFA15A\",\"#19d3f3\",\"#FF6692\",\"#B6E880\",\"#FF97FF\",\"#FECB52\"],\"font\":{\"color\":\"#2a3f5f\"},\"hovermode\":\"closest\",\"hoverlabel\":{\"align\":\"left\"},\"paper_bgcolor\":\"white\",\"plot_bgcolor\":\"#E5ECF6\",\"polar\":{\"bgcolor\":\"#E5ECF6\",\"angularaxis\":{\"gridcolor\":\"white\",\"linecolor\":\"white\",\"ticks\":\"\"},\"radialaxis\":{\"gridcolor\":\"white\",\"linecolor\":\"white\",\"ticks\":\"\"}},\"ternary\":{\"bgcolor\":\"#E5ECF6\",\"aaxis\":{\"gridcolor\":\"white\",\"linecolor\":\"white\",\"ticks\":\"\"},\"baxis\":{\"gridcolor\":\"white\",\"linecolor\":\"white\",\"ticks\":\"\"},\"caxis\":{\"gridcolor\":\"white\",\"linecolor\":\"white\",\"ticks\":\"\"}},\"coloraxis\":{\"colorbar\":{\"outlinewidth\":0,\"ticks\":\"\"}},\"colorscale\":{\"sequential\":[[0.0,\"#0d0887\"],[0.1111111111111111,\"#46039f\"],[0.2222222222222222,\"#7201a8\"],[0.3333333333333333,\"#9c179e\"],[0.4444444444444444,\"#bd3786\"],[0.5555555555555556,\"#d8576b\"],[0.6666666666666666,\"#ed7953\"],[0.7777777777777778,\"#fb9f3a\"],[0.8888888888888888,\"#fdca26\"],[1.0,\"#f0f921\"]],\"sequentialminus\":[[0.0,\"#0d0887\"],[0.1111111111111111,\"#46039f\"],[0.2222222222222222,\"#7201a8\"],[0.3333333333333333,\"#9c179e\"],[0.4444444444444444,\"#bd3786\"],[0.5555555555555556,\"#d8576b\"],[0.6666666666666666,\"#ed7953\"],[0.7777777777777778,\"#fb9f3a\"],[0.8888888888888888,\"#fdca26\"],[1.0,\"#f0f921\"]],\"diverging\":[[0,\"#8e0152\"],[0.1,\"#c51b7d\"],[0.2,\"#de77ae\"],[0.3,\"#f1b6da\"],[0.4,\"#fde0ef\"],[0.5,\"#f7f7f7\"],[0.6,\"#e6f5d0\"],[0.7,\"#b8e186\"],[0.8,\"#7fbc41\"],[0.9,\"#4d9221\"],[1,\"#276419\"]]},\"xaxis\":{\"gridcolor\":\"white\",\"linecolor\":\"white\",\"ticks\":\"\",\"title\":{\"standoff\":15},\"zerolinecolor\":\"white\",\"automargin\":true,\"zerolinewidth\":2},\"yaxis\":{\"gridcolor\":\"white\",\"linecolor\":\"white\",\"ticks\":\"\",\"title\":{\"standoff\":15},\"zerolinecolor\":\"white\",\"automargin\":true,\"zerolinewidth\":2},\"scene\":{\"xaxis\":{\"backgroundcolor\":\"#E5ECF6\",\"gridcolor\":\"white\",\"linecolor\":\"white\",\"showbackground\":true,\"ticks\":\"\",\"zerolinecolor\":\"white\",\"gridwidth\":2},\"yaxis\":{\"backgroundcolor\":\"#E5ECF6\",\"gridcolor\":\"white\",\"linecolor\":\"white\",\"showbackground\":true,\"ticks\":\"\",\"zerolinecolor\":\"white\",\"gridwidth\":2},\"zaxis\":{\"backgroundcolor\":\"#E5ECF6\",\"gridcolor\":\"white\",\"linecolor\":\"white\",\"showbackground\":true,\"ticks\":\"\",\"zerolinecolor\":\"white\",\"gridwidth\":2}},\"shapedefaults\":{\"line\":{\"color\":\"#2a3f5f\"}},\"annotationdefaults\":{\"arrowcolor\":\"#2a3f5f\",\"arrowhead\":0,\"arrowwidth\":1},\"geo\":{\"bgcolor\":\"white\",\"landcolor\":\"#E5ECF6\",\"subunitcolor\":\"white\",\"showland\":true,\"showlakes\":true,\"lakecolor\":\"white\"},\"title\":{\"x\":0.05},\"mapbox\":{\"style\":\"light\"}}},\"xaxis\":{\"anchor\":\"y\",\"domain\":[0.0,1.0],\"title\":{\"text\":\"Percentage\"}},\"yaxis\":{\"anchor\":\"x\",\"domain\":[0.0,1.0],\"title\":{\"text\":\"Internet Service\"}},\"legend\":{\"title\":{\"text\":\"Churn Label\"},\"tracegroupgap\":0},\"title\":{\"text\":\"100% Stacked Bar Chart by Internet Service and Churn Label\"},\"barmode\":\"relative\"},                        {\"responsive\": true}                    ).then(function(){\n",
       "                            \n",
       "var gd = document.getElementById('de78e4cb-02bb-4f9f-a5ca-067a3d487467');\n",
       "var x = new MutationObserver(function (mutations, observer) {{\n",
       "        var display = window.getComputedStyle(gd).display;\n",
       "        if (!display || display === 'none') {{\n",
       "            console.log([gd, 'removed!']);\n",
       "            Plotly.purge(gd);\n",
       "            observer.disconnect();\n",
       "        }}\n",
       "}});\n",
       "\n",
       "// Listen for the removal of the full notebook cells\n",
       "var notebookContainer = gd.closest('#notebook-container');\n",
       "if (notebookContainer) {{\n",
       "    x.observe(notebookContainer, {childList: true});\n",
       "}}\n",
       "\n",
       "// Listen for the clearing of the current output cell\n",
       "var outputEl = gd.closest('.output');\n",
       "if (outputEl) {{\n",
       "    x.observe(outputEl, {childList: true});\n",
       "}}\n",
       "\n",
       "                        })                };                });            </script>        </div>"
      ]
     },
     "metadata": {},
     "output_type": "display_data"
    }
   ],
   "source": [
    "# Group by 'Internet Service' and 'Churn Label' and count the occurrences\n",
    "grouped = df.groupby(['Internet Service', 'Churn Label'])['CustomerID'].count()\n",
    "total_counts = grouped.groupby('Internet Service').transform('sum')\n",
    "normalized_count = round(grouped / total_counts,2)\n",
    "Internet_Service_ChurnLabel = pd.DataFrame({'rate': normalized_count}).reset_index()\n",
    "\n",
    "fig = px.bar(Internet_Service_ChurnLabel, x='rate', y='Internet Service', color='Churn Label',\n",
    "             title='100% Stacked Bar Chart by Internet Service and Churn Label', text= 'rate',\n",
    "             labels={'rate': 'Percentage'})\n",
    "\n",
    "fig.update_layout(barmode='relative')  # Make the bar chart 100% stacked\n",
    "\n",
    "fig.show()"
   ]
  },
  {
   "cell_type": "markdown",
   "id": "11d7363b",
   "metadata": {
    "papermill": {
     "duration": 0.020754,
     "end_time": "2023-11-14T14:42:29.693800",
     "exception": false,
     "start_time": "2023-11-14T14:42:29.673046",
     "status": "completed"
    },
    "tags": []
   },
   "source": [
    "**Customers with optical fiber Internet have the highest churn rate about `42%` and the least churn rate by clients with no internet service about `7%`**"
   ]
  },
  {
   "cell_type": "markdown",
   "id": "1d43fc19",
   "metadata": {
    "papermill": {
     "duration": 0.021219,
     "end_time": "2023-11-14T14:42:29.735858",
     "exception": false,
     "start_time": "2023-11-14T14:42:29.714639",
     "status": "completed"
    },
    "tags": []
   },
   "source": [
    "## Payment Method and Internet Service"
   ]
  },
  {
   "cell_type": "code",
   "execution_count": 37,
   "id": "9c4c764e",
   "metadata": {
    "execution": {
     "iopub.execute_input": "2023-11-14T14:42:29.778855Z",
     "iopub.status.busy": "2023-11-14T14:42:29.778466Z",
     "iopub.status.idle": "2023-11-14T14:42:29.805279Z",
     "shell.execute_reply": "2023-11-14T14:42:29.804384Z"
    },
    "papermill": {
     "duration": 0.050246,
     "end_time": "2023-11-14T14:42:29.807118",
     "exception": false,
     "start_time": "2023-11-14T14:42:29.756872",
     "status": "completed"
    },
    "tags": []
   },
   "outputs": [
    {
     "data": {
      "text/html": [
       "<div>\n",
       "<style scoped>\n",
       "    .dataframe tbody tr th:only-of-type {\n",
       "        vertical-align: middle;\n",
       "    }\n",
       "\n",
       "    .dataframe tbody tr th {\n",
       "        vertical-align: top;\n",
       "    }\n",
       "\n",
       "    .dataframe thead th {\n",
       "        text-align: right;\n",
       "    }\n",
       "</style>\n",
       "<table border=\"1\" class=\"dataframe\">\n",
       "  <thead>\n",
       "    <tr style=\"text-align: right;\">\n",
       "      <th></th>\n",
       "      <th>Payment Method</th>\n",
       "      <th>Internet Service</th>\n",
       "      <th>churn_rate</th>\n",
       "      <th>count</th>\n",
       "    </tr>\n",
       "  </thead>\n",
       "  <tbody>\n",
       "    <tr>\n",
       "      <th>15</th>\n",
       "      <td>Electronic check</td>\n",
       "      <td>Fiber optic</td>\n",
       "      <td>0.53</td>\n",
       "      <td>1595</td>\n",
       "    </tr>\n",
       "    <tr>\n",
       "      <th>23</th>\n",
       "      <td>Mailed check</td>\n",
       "      <td>No</td>\n",
       "      <td>0.10</td>\n",
       "      <td>741</td>\n",
       "    </tr>\n",
       "    <tr>\n",
       "      <th>13</th>\n",
       "      <td>Electronic check</td>\n",
       "      <td>DSL</td>\n",
       "      <td>0.32</td>\n",
       "      <td>648</td>\n",
       "    </tr>\n",
       "    <tr>\n",
       "      <th>3</th>\n",
       "      <td>Bank transfer (automatic)</td>\n",
       "      <td>Fiber optic</td>\n",
       "      <td>0.29</td>\n",
       "      <td>646</td>\n",
       "    </tr>\n",
       "    <tr>\n",
       "      <th>19</th>\n",
       "      <td>Mailed check</td>\n",
       "      <td>DSL</td>\n",
       "      <td>0.21</td>\n",
       "      <td>613</td>\n",
       "    </tr>\n",
       "    <tr>\n",
       "      <th>9</th>\n",
       "      <td>Credit card (automatic)</td>\n",
       "      <td>Fiber optic</td>\n",
       "      <td>0.25</td>\n",
       "      <td>597</td>\n",
       "    </tr>\n",
       "    <tr>\n",
       "      <th>7</th>\n",
       "      <td>Credit card (automatic)</td>\n",
       "      <td>DSL</td>\n",
       "      <td>0.12</td>\n",
       "      <td>594</td>\n",
       "    </tr>\n",
       "    <tr>\n",
       "      <th>1</th>\n",
       "      <td>Bank transfer (automatic)</td>\n",
       "      <td>DSL</td>\n",
       "      <td>0.09</td>\n",
       "      <td>566</td>\n",
       "    </tr>\n",
       "    <tr>\n",
       "      <th>5</th>\n",
       "      <td>Bank transfer (automatic)</td>\n",
       "      <td>No</td>\n",
       "      <td>0.05</td>\n",
       "      <td>332</td>\n",
       "    </tr>\n",
       "    <tr>\n",
       "      <th>11</th>\n",
       "      <td>Credit card (automatic)</td>\n",
       "      <td>No</td>\n",
       "      <td>0.03</td>\n",
       "      <td>331</td>\n",
       "    </tr>\n",
       "    <tr>\n",
       "      <th>21</th>\n",
       "      <td>Mailed check</td>\n",
       "      <td>Fiber optic</td>\n",
       "      <td>0.43</td>\n",
       "      <td>258</td>\n",
       "    </tr>\n",
       "    <tr>\n",
       "      <th>17</th>\n",
       "      <td>Electronic check</td>\n",
       "      <td>No</td>\n",
       "      <td>0.12</td>\n",
       "      <td>122</td>\n",
       "    </tr>\n",
       "  </tbody>\n",
       "</table>\n",
       "</div>"
      ],
      "text/plain": [
       "               Payment Method Internet Service  churn_rate  count\n",
       "15           Electronic check      Fiber optic        0.53   1595\n",
       "23               Mailed check               No        0.10    741\n",
       "13           Electronic check              DSL        0.32    648\n",
       "3   Bank transfer (automatic)      Fiber optic        0.29    646\n",
       "19               Mailed check              DSL        0.21    613\n",
       "9     Credit card (automatic)      Fiber optic        0.25    597\n",
       "7     Credit card (automatic)              DSL        0.12    594\n",
       "1   Bank transfer (automatic)              DSL        0.09    566\n",
       "5   Bank transfer (automatic)               No        0.05    332\n",
       "11    Credit card (automatic)               No        0.03    331\n",
       "21               Mailed check      Fiber optic        0.43    258\n",
       "17           Electronic check               No        0.12    122"
      ]
     },
     "execution_count": 37,
     "metadata": {},
     "output_type": "execute_result"
    }
   ],
   "source": [
    "# Group by 'Payment Method','Internet Service' and 'Churn Label' and count the occurrences\n",
    "grouped = df.groupby(['Payment Method','Internet Service', 'Churn Label'])['CustomerID'].count()\n",
    "total_counts = grouped.groupby(['Payment Method','Internet Service']).transform('sum')\n",
    "churn_rate = round(grouped / total_counts, 2)\n",
    "Payment_InternetService_ChurnLabel = pd.DataFrame({'churn_rate': churn_rate}).reset_index()\n",
    "\n",
    "# Create a DataFrame with the total count per city\n",
    "Payment_InternetService_counts = df.groupby(['Payment Method','Internet Service'])['CustomerID'].count().reset_index()\n",
    "Payment_InternetService_counts.rename(columns={'CustomerID': 'count'}, inplace=True)\n",
    "\n",
    "# Merge the City_ChurnLabel and city_counts DataFrames\n",
    "Payment_InternetService_ChurnLabel = Payment_InternetService_ChurnLabel.merge(Payment_InternetService_counts, on=['Payment Method','Internet Service'])\n",
    "\n",
    "# Filter out the rows where 'Churn Label' is 'No' and sort dataframe by count\n",
    "Payment_InternetService_ChurnLabel = Payment_InternetService_ChurnLabel[Payment_InternetService_ChurnLabel['Churn Label'] == 'Yes']\n",
    "Payment_InternetService_ChurnLabel = Payment_InternetService_ChurnLabel.sort_values(by='count', ascending=False)\n",
    "Payment_InternetService_ChurnLabel.drop(columns='Churn Label', inplace=True)\n",
    "\n",
    "Payment_InternetService_ChurnLabel"
   ]
  },
  {
   "cell_type": "code",
   "execution_count": 38,
   "id": "11f56642",
   "metadata": {
    "execution": {
     "iopub.execute_input": "2023-11-14T14:42:29.851226Z",
     "iopub.status.busy": "2023-11-14T14:42:29.850601Z",
     "iopub.status.idle": "2023-11-14T14:42:29.950781Z",
     "shell.execute_reply": "2023-11-14T14:42:29.949581Z"
    },
    "papermill": {
     "duration": 0.124212,
     "end_time": "2023-11-14T14:42:29.952847",
     "exception": false,
     "start_time": "2023-11-14T14:42:29.828635",
     "status": "completed"
    },
    "tags": []
   },
   "outputs": [
    {
     "data": {
      "text/html": [
       "<div>                            <div id=\"9475b7a2-cc64-4f93-adfc-98a050234fa7\" class=\"plotly-graph-div\" style=\"height:525px; width:100%;\"></div>            <script type=\"text/javascript\">                require([\"plotly\"], function(Plotly) {                    window.PLOTLYENV=window.PLOTLYENV || {};                                    if (document.getElementById(\"9475b7a2-cc64-4f93-adfc-98a050234fa7\")) {                    Plotly.newPlot(                        \"9475b7a2-cc64-4f93-adfc-98a050234fa7\",                        [{\"branchvalues\":\"total\",\"customdata\":[[\"No\"],[\"Fiber optic\"],[\"DSL\"],[\"Fiber optic\"],[\"DSL\"],[\"DSL\"],[\"No\"],[\"Fiber optic\"],[\"Fiber optic\"],[\"No\"],[\"DSL\"],[\"No\"],[\"DSL\"],[\"Fiber optic\"],[\"No\"]],\"domain\":{\"x\":[0.0,1.0],\"y\":[0.0,1.0]},\"hovertemplate\":\"labels=%{label}\\u003cbr\\u003ecount=%{value}\\u003cbr\\u003eparent=%{parent}\\u003cbr\\u003eid=%{id}\\u003cbr\\u003eInternet Service=%{customdata[0]}\\u003cextra\\u003e\\u003c\\u002fextra\\u003e\",\"ids\":[\"No\\u002fBank transfer (automatic)\",\"Fiber optic\\u002fCredit card (automatic)\",\"DSL\\u002fElectronic check\",\"Fiber optic\\u002fElectronic check\",\"DSL\\u002fBank transfer (automatic)\",\"DSL\\u002fCredit card (automatic)\",\"No\\u002fCredit card (automatic)\",\"Fiber optic\\u002fMailed check\",\"Fiber optic\\u002fBank transfer (automatic)\",\"No\\u002fElectronic check\",\"DSL\\u002fMailed check\",\"No\\u002fMailed check\",\"DSL\",\"Fiber optic\",\"No\"],\"labels\":[\"Bank transfer (automatic)\",\"Credit card (automatic)\",\"Electronic check\",\"Electronic check\",\"Bank transfer (automatic)\",\"Credit card (automatic)\",\"Credit card (automatic)\",\"Mailed check\",\"Bank transfer (automatic)\",\"Electronic check\",\"Mailed check\",\"Mailed check\",\"DSL\",\"Fiber optic\",\"No\"],\"marker\":{\"colors\":[\"#636efa\",\"#EF553B\",\"#00cc96\",\"#EF553B\",\"#00cc96\",\"#00cc96\",\"#636efa\",\"#EF553B\",\"#EF553B\",\"#636efa\",\"#00cc96\",\"#636efa\",\"#00cc96\",\"#EF553B\",\"#636efa\"]},\"name\":\"\",\"parents\":[\"No\",\"Fiber optic\",\"DSL\",\"Fiber optic\",\"DSL\",\"DSL\",\"No\",\"Fiber optic\",\"Fiber optic\",\"No\",\"DSL\",\"No\",\"\",\"\",\"\"],\"values\":[332,597,648,1595,566,594,331,258,646,122,613,741,2421,3096,1526],\"type\":\"sunburst\"}],                        {\"template\":{\"data\":{\"histogram2dcontour\":[{\"type\":\"histogram2dcontour\",\"colorbar\":{\"outlinewidth\":0,\"ticks\":\"\"},\"colorscale\":[[0.0,\"#0d0887\"],[0.1111111111111111,\"#46039f\"],[0.2222222222222222,\"#7201a8\"],[0.3333333333333333,\"#9c179e\"],[0.4444444444444444,\"#bd3786\"],[0.5555555555555556,\"#d8576b\"],[0.6666666666666666,\"#ed7953\"],[0.7777777777777778,\"#fb9f3a\"],[0.8888888888888888,\"#fdca26\"],[1.0,\"#f0f921\"]]}],\"choropleth\":[{\"type\":\"choropleth\",\"colorbar\":{\"outlinewidth\":0,\"ticks\":\"\"}}],\"histogram2d\":[{\"type\":\"histogram2d\",\"colorbar\":{\"outlinewidth\":0,\"ticks\":\"\"},\"colorscale\":[[0.0,\"#0d0887\"],[0.1111111111111111,\"#46039f\"],[0.2222222222222222,\"#7201a8\"],[0.3333333333333333,\"#9c179e\"],[0.4444444444444444,\"#bd3786\"],[0.5555555555555556,\"#d8576b\"],[0.6666666666666666,\"#ed7953\"],[0.7777777777777778,\"#fb9f3a\"],[0.8888888888888888,\"#fdca26\"],[1.0,\"#f0f921\"]]}],\"heatmap\":[{\"type\":\"heatmap\",\"colorbar\":{\"outlinewidth\":0,\"ticks\":\"\"},\"colorscale\":[[0.0,\"#0d0887\"],[0.1111111111111111,\"#46039f\"],[0.2222222222222222,\"#7201a8\"],[0.3333333333333333,\"#9c179e\"],[0.4444444444444444,\"#bd3786\"],[0.5555555555555556,\"#d8576b\"],[0.6666666666666666,\"#ed7953\"],[0.7777777777777778,\"#fb9f3a\"],[0.8888888888888888,\"#fdca26\"],[1.0,\"#f0f921\"]]}],\"heatmapgl\":[{\"type\":\"heatmapgl\",\"colorbar\":{\"outlinewidth\":0,\"ticks\":\"\"},\"colorscale\":[[0.0,\"#0d0887\"],[0.1111111111111111,\"#46039f\"],[0.2222222222222222,\"#7201a8\"],[0.3333333333333333,\"#9c179e\"],[0.4444444444444444,\"#bd3786\"],[0.5555555555555556,\"#d8576b\"],[0.6666666666666666,\"#ed7953\"],[0.7777777777777778,\"#fb9f3a\"],[0.8888888888888888,\"#fdca26\"],[1.0,\"#f0f921\"]]}],\"contourcarpet\":[{\"type\":\"contourcarpet\",\"colorbar\":{\"outlinewidth\":0,\"ticks\":\"\"}}],\"contour\":[{\"type\":\"contour\",\"colorbar\":{\"outlinewidth\":0,\"ticks\":\"\"},\"colorscale\":[[0.0,\"#0d0887\"],[0.1111111111111111,\"#46039f\"],[0.2222222222222222,\"#7201a8\"],[0.3333333333333333,\"#9c179e\"],[0.4444444444444444,\"#bd3786\"],[0.5555555555555556,\"#d8576b\"],[0.6666666666666666,\"#ed7953\"],[0.7777777777777778,\"#fb9f3a\"],[0.8888888888888888,\"#fdca26\"],[1.0,\"#f0f921\"]]}],\"surface\":[{\"type\":\"surface\",\"colorbar\":{\"outlinewidth\":0,\"ticks\":\"\"},\"colorscale\":[[0.0,\"#0d0887\"],[0.1111111111111111,\"#46039f\"],[0.2222222222222222,\"#7201a8\"],[0.3333333333333333,\"#9c179e\"],[0.4444444444444444,\"#bd3786\"],[0.5555555555555556,\"#d8576b\"],[0.6666666666666666,\"#ed7953\"],[0.7777777777777778,\"#fb9f3a\"],[0.8888888888888888,\"#fdca26\"],[1.0,\"#f0f921\"]]}],\"mesh3d\":[{\"type\":\"mesh3d\",\"colorbar\":{\"outlinewidth\":0,\"ticks\":\"\"}}],\"scatter\":[{\"fillpattern\":{\"fillmode\":\"overlay\",\"size\":10,\"solidity\":0.2},\"type\":\"scatter\"}],\"parcoords\":[{\"type\":\"parcoords\",\"line\":{\"colorbar\":{\"outlinewidth\":0,\"ticks\":\"\"}}}],\"scatterpolargl\":[{\"type\":\"scatterpolargl\",\"marker\":{\"colorbar\":{\"outlinewidth\":0,\"ticks\":\"\"}}}],\"bar\":[{\"error_x\":{\"color\":\"#2a3f5f\"},\"error_y\":{\"color\":\"#2a3f5f\"},\"marker\":{\"line\":{\"color\":\"#E5ECF6\",\"width\":0.5},\"pattern\":{\"fillmode\":\"overlay\",\"size\":10,\"solidity\":0.2}},\"type\":\"bar\"}],\"scattergeo\":[{\"type\":\"scattergeo\",\"marker\":{\"colorbar\":{\"outlinewidth\":0,\"ticks\":\"\"}}}],\"scatterpolar\":[{\"type\":\"scatterpolar\",\"marker\":{\"colorbar\":{\"outlinewidth\":0,\"ticks\":\"\"}}}],\"histogram\":[{\"marker\":{\"pattern\":{\"fillmode\":\"overlay\",\"size\":10,\"solidity\":0.2}},\"type\":\"histogram\"}],\"scattergl\":[{\"type\":\"scattergl\",\"marker\":{\"colorbar\":{\"outlinewidth\":0,\"ticks\":\"\"}}}],\"scatter3d\":[{\"type\":\"scatter3d\",\"line\":{\"colorbar\":{\"outlinewidth\":0,\"ticks\":\"\"}},\"marker\":{\"colorbar\":{\"outlinewidth\":0,\"ticks\":\"\"}}}],\"scattermapbox\":[{\"type\":\"scattermapbox\",\"marker\":{\"colorbar\":{\"outlinewidth\":0,\"ticks\":\"\"}}}],\"scatterternary\":[{\"type\":\"scatterternary\",\"marker\":{\"colorbar\":{\"outlinewidth\":0,\"ticks\":\"\"}}}],\"scattercarpet\":[{\"type\":\"scattercarpet\",\"marker\":{\"colorbar\":{\"outlinewidth\":0,\"ticks\":\"\"}}}],\"carpet\":[{\"aaxis\":{\"endlinecolor\":\"#2a3f5f\",\"gridcolor\":\"white\",\"linecolor\":\"white\",\"minorgridcolor\":\"white\",\"startlinecolor\":\"#2a3f5f\"},\"baxis\":{\"endlinecolor\":\"#2a3f5f\",\"gridcolor\":\"white\",\"linecolor\":\"white\",\"minorgridcolor\":\"white\",\"startlinecolor\":\"#2a3f5f\"},\"type\":\"carpet\"}],\"table\":[{\"cells\":{\"fill\":{\"color\":\"#EBF0F8\"},\"line\":{\"color\":\"white\"}},\"header\":{\"fill\":{\"color\":\"#C8D4E3\"},\"line\":{\"color\":\"white\"}},\"type\":\"table\"}],\"barpolar\":[{\"marker\":{\"line\":{\"color\":\"#E5ECF6\",\"width\":0.5},\"pattern\":{\"fillmode\":\"overlay\",\"size\":10,\"solidity\":0.2}},\"type\":\"barpolar\"}],\"pie\":[{\"automargin\":true,\"type\":\"pie\"}]},\"layout\":{\"autotypenumbers\":\"strict\",\"colorway\":[\"#636efa\",\"#EF553B\",\"#00cc96\",\"#ab63fa\",\"#FFA15A\",\"#19d3f3\",\"#FF6692\",\"#B6E880\",\"#FF97FF\",\"#FECB52\"],\"font\":{\"color\":\"#2a3f5f\"},\"hovermode\":\"closest\",\"hoverlabel\":{\"align\":\"left\"},\"paper_bgcolor\":\"white\",\"plot_bgcolor\":\"#E5ECF6\",\"polar\":{\"bgcolor\":\"#E5ECF6\",\"angularaxis\":{\"gridcolor\":\"white\",\"linecolor\":\"white\",\"ticks\":\"\"},\"radialaxis\":{\"gridcolor\":\"white\",\"linecolor\":\"white\",\"ticks\":\"\"}},\"ternary\":{\"bgcolor\":\"#E5ECF6\",\"aaxis\":{\"gridcolor\":\"white\",\"linecolor\":\"white\",\"ticks\":\"\"},\"baxis\":{\"gridcolor\":\"white\",\"linecolor\":\"white\",\"ticks\":\"\"},\"caxis\":{\"gridcolor\":\"white\",\"linecolor\":\"white\",\"ticks\":\"\"}},\"coloraxis\":{\"colorbar\":{\"outlinewidth\":0,\"ticks\":\"\"}},\"colorscale\":{\"sequential\":[[0.0,\"#0d0887\"],[0.1111111111111111,\"#46039f\"],[0.2222222222222222,\"#7201a8\"],[0.3333333333333333,\"#9c179e\"],[0.4444444444444444,\"#bd3786\"],[0.5555555555555556,\"#d8576b\"],[0.6666666666666666,\"#ed7953\"],[0.7777777777777778,\"#fb9f3a\"],[0.8888888888888888,\"#fdca26\"],[1.0,\"#f0f921\"]],\"sequentialminus\":[[0.0,\"#0d0887\"],[0.1111111111111111,\"#46039f\"],[0.2222222222222222,\"#7201a8\"],[0.3333333333333333,\"#9c179e\"],[0.4444444444444444,\"#bd3786\"],[0.5555555555555556,\"#d8576b\"],[0.6666666666666666,\"#ed7953\"],[0.7777777777777778,\"#fb9f3a\"],[0.8888888888888888,\"#fdca26\"],[1.0,\"#f0f921\"]],\"diverging\":[[0,\"#8e0152\"],[0.1,\"#c51b7d\"],[0.2,\"#de77ae\"],[0.3,\"#f1b6da\"],[0.4,\"#fde0ef\"],[0.5,\"#f7f7f7\"],[0.6,\"#e6f5d0\"],[0.7,\"#b8e186\"],[0.8,\"#7fbc41\"],[0.9,\"#4d9221\"],[1,\"#276419\"]]},\"xaxis\":{\"gridcolor\":\"white\",\"linecolor\":\"white\",\"ticks\":\"\",\"title\":{\"standoff\":15},\"zerolinecolor\":\"white\",\"automargin\":true,\"zerolinewidth\":2},\"yaxis\":{\"gridcolor\":\"white\",\"linecolor\":\"white\",\"ticks\":\"\",\"title\":{\"standoff\":15},\"zerolinecolor\":\"white\",\"automargin\":true,\"zerolinewidth\":2},\"scene\":{\"xaxis\":{\"backgroundcolor\":\"#E5ECF6\",\"gridcolor\":\"white\",\"linecolor\":\"white\",\"showbackground\":true,\"ticks\":\"\",\"zerolinecolor\":\"white\",\"gridwidth\":2},\"yaxis\":{\"backgroundcolor\":\"#E5ECF6\",\"gridcolor\":\"white\",\"linecolor\":\"white\",\"showbackground\":true,\"ticks\":\"\",\"zerolinecolor\":\"white\",\"gridwidth\":2},\"zaxis\":{\"backgroundcolor\":\"#E5ECF6\",\"gridcolor\":\"white\",\"linecolor\":\"white\",\"showbackground\":true,\"ticks\":\"\",\"zerolinecolor\":\"white\",\"gridwidth\":2}},\"shapedefaults\":{\"line\":{\"color\":\"#2a3f5f\"}},\"annotationdefaults\":{\"arrowcolor\":\"#2a3f5f\",\"arrowhead\":0,\"arrowwidth\":1},\"geo\":{\"bgcolor\":\"white\",\"landcolor\":\"#E5ECF6\",\"subunitcolor\":\"white\",\"showland\":true,\"showlakes\":true,\"lakecolor\":\"white\"},\"title\":{\"x\":0.05},\"mapbox\":{\"style\":\"light\"}}},\"legend\":{\"tracegroupgap\":0},\"title\":{\"text\":\"Count of customer by Payment Method and Internet Service\"}},                        {\"responsive\": true}                    ).then(function(){\n",
       "                            \n",
       "var gd = document.getElementById('9475b7a2-cc64-4f93-adfc-98a050234fa7');\n",
       "var x = new MutationObserver(function (mutations, observer) {{\n",
       "        var display = window.getComputedStyle(gd).display;\n",
       "        if (!display || display === 'none') {{\n",
       "            console.log([gd, 'removed!']);\n",
       "            Plotly.purge(gd);\n",
       "            observer.disconnect();\n",
       "        }}\n",
       "}});\n",
       "\n",
       "// Listen for the removal of the full notebook cells\n",
       "var notebookContainer = gd.closest('#notebook-container');\n",
       "if (notebookContainer) {{\n",
       "    x.observe(notebookContainer, {childList: true});\n",
       "}}\n",
       "\n",
       "// Listen for the clearing of the current output cell\n",
       "var outputEl = gd.closest('.output');\n",
       "if (outputEl) {{\n",
       "    x.observe(outputEl, {childList: true});\n",
       "}}\n",
       "\n",
       "                        })                };                });            </script>        </div>"
      ]
     },
     "metadata": {},
     "output_type": "display_data"
    }
   ],
   "source": [
    "#Creating Sunburst chart based on air, ground or naval unit type\n",
    "fig = px.sunburst(Payment_InternetService_ChurnLabel, path=['Internet Service', 'Payment Method'], values='count',\n",
    "                  color='Internet Service', \n",
    "                  title=\"Count of customer by Payment Method and Internet Service\")\n",
    "\n",
    "fig.show()"
   ]
  },
  {
   "cell_type": "markdown",
   "id": "b2b452d1",
   "metadata": {
    "papermill": {
     "duration": 0.02125,
     "end_time": "2023-11-14T14:42:29.995664",
     "exception": false,
     "start_time": "2023-11-14T14:42:29.974414",
     "status": "completed"
    },
    "tags": []
   },
   "source": [
    "**Among the customers with optical fiber Internet, most of the customers used an electronic receipt as a means of payment.**"
   ]
  },
  {
   "cell_type": "code",
   "execution_count": 39,
   "id": "c95bbdee",
   "metadata": {
    "execution": {
     "iopub.execute_input": "2023-11-14T14:42:30.041783Z",
     "iopub.status.busy": "2023-11-14T14:42:30.041411Z",
     "iopub.status.idle": "2023-11-14T14:42:30.223327Z",
     "shell.execute_reply": "2023-11-14T14:42:30.222199Z"
    },
    "papermill": {
     "duration": 0.20876,
     "end_time": "2023-11-14T14:42:30.225395",
     "exception": false,
     "start_time": "2023-11-14T14:42:30.016635",
     "status": "completed"
    },
    "tags": []
   },
   "outputs": [
    {
     "data": {
      "text/html": [
       "<div>                            <div id=\"a9116aa7-89fc-4b5b-afd7-96de5ab41e73\" class=\"plotly-graph-div\" style=\"height:525px; width:100%;\"></div>            <script type=\"text/javascript\">                require([\"plotly\"], function(Plotly) {                    window.PLOTLYENV=window.PLOTLYENV || {};                                    if (document.getElementById(\"a9116aa7-89fc-4b5b-afd7-96de5ab41e73\")) {                    Plotly.newPlot(                        \"a9116aa7-89fc-4b5b-afd7-96de5ab41e73\",                        [{\"alignmentgroup\":\"True\",\"hovertemplate\":\"Internet Service=Fiber optic\\u003cbr\\u003ePayment Method=%{x}\\u003cbr\\u003ecount=%{text}\\u003cextra\\u003e\\u003c\\u002fextra\\u003e\",\"legendgroup\":\"Fiber optic\",\"marker\":{\"color\":\"#636efa\",\"pattern\":{\"shape\":\"\"}},\"name\":\"Fiber optic\",\"offsetgroup\":\"Fiber optic\",\"orientation\":\"v\",\"showlegend\":true,\"text\":[1595.0,646.0,597.0,258.0],\"textposition\":\"auto\",\"x\":[\"Electronic check\",\"Bank transfer (automatic)\",\"Credit card (automatic)\",\"Mailed check\"],\"xaxis\":\"x\",\"y\":[1595,646,597,258],\"yaxis\":\"y\",\"type\":\"bar\"},{\"alignmentgroup\":\"True\",\"hovertemplate\":\"Internet Service=No\\u003cbr\\u003ePayment Method=%{x}\\u003cbr\\u003ecount=%{text}\\u003cextra\\u003e\\u003c\\u002fextra\\u003e\",\"legendgroup\":\"No\",\"marker\":{\"color\":\"#EF553B\",\"pattern\":{\"shape\":\"\"}},\"name\":\"No\",\"offsetgroup\":\"No\",\"orientation\":\"v\",\"showlegend\":true,\"text\":[741.0,332.0,331.0,122.0],\"textposition\":\"auto\",\"x\":[\"Mailed check\",\"Bank transfer (automatic)\",\"Credit card (automatic)\",\"Electronic check\"],\"xaxis\":\"x\",\"y\":[741,332,331,122],\"yaxis\":\"y\",\"type\":\"bar\"},{\"alignmentgroup\":\"True\",\"hovertemplate\":\"Internet Service=DSL\\u003cbr\\u003ePayment Method=%{x}\\u003cbr\\u003ecount=%{text}\\u003cextra\\u003e\\u003c\\u002fextra\\u003e\",\"legendgroup\":\"DSL\",\"marker\":{\"color\":\"#00cc96\",\"pattern\":{\"shape\":\"\"}},\"name\":\"DSL\",\"offsetgroup\":\"DSL\",\"orientation\":\"v\",\"showlegend\":true,\"text\":[648.0,613.0,594.0,566.0],\"textposition\":\"auto\",\"x\":[\"Electronic check\",\"Mailed check\",\"Credit card (automatic)\",\"Bank transfer (automatic)\"],\"xaxis\":\"x\",\"y\":[648,613,594,566],\"yaxis\":\"y\",\"type\":\"bar\"}],                        {\"template\":{\"data\":{\"histogram2dcontour\":[{\"type\":\"histogram2dcontour\",\"colorbar\":{\"outlinewidth\":0,\"ticks\":\"\"},\"colorscale\":[[0.0,\"#0d0887\"],[0.1111111111111111,\"#46039f\"],[0.2222222222222222,\"#7201a8\"],[0.3333333333333333,\"#9c179e\"],[0.4444444444444444,\"#bd3786\"],[0.5555555555555556,\"#d8576b\"],[0.6666666666666666,\"#ed7953\"],[0.7777777777777778,\"#fb9f3a\"],[0.8888888888888888,\"#fdca26\"],[1.0,\"#f0f921\"]]}],\"choropleth\":[{\"type\":\"choropleth\",\"colorbar\":{\"outlinewidth\":0,\"ticks\":\"\"}}],\"histogram2d\":[{\"type\":\"histogram2d\",\"colorbar\":{\"outlinewidth\":0,\"ticks\":\"\"},\"colorscale\":[[0.0,\"#0d0887\"],[0.1111111111111111,\"#46039f\"],[0.2222222222222222,\"#7201a8\"],[0.3333333333333333,\"#9c179e\"],[0.4444444444444444,\"#bd3786\"],[0.5555555555555556,\"#d8576b\"],[0.6666666666666666,\"#ed7953\"],[0.7777777777777778,\"#fb9f3a\"],[0.8888888888888888,\"#fdca26\"],[1.0,\"#f0f921\"]]}],\"heatmap\":[{\"type\":\"heatmap\",\"colorbar\":{\"outlinewidth\":0,\"ticks\":\"\"},\"colorscale\":[[0.0,\"#0d0887\"],[0.1111111111111111,\"#46039f\"],[0.2222222222222222,\"#7201a8\"],[0.3333333333333333,\"#9c179e\"],[0.4444444444444444,\"#bd3786\"],[0.5555555555555556,\"#d8576b\"],[0.6666666666666666,\"#ed7953\"],[0.7777777777777778,\"#fb9f3a\"],[0.8888888888888888,\"#fdca26\"],[1.0,\"#f0f921\"]]}],\"heatmapgl\":[{\"type\":\"heatmapgl\",\"colorbar\":{\"outlinewidth\":0,\"ticks\":\"\"},\"colorscale\":[[0.0,\"#0d0887\"],[0.1111111111111111,\"#46039f\"],[0.2222222222222222,\"#7201a8\"],[0.3333333333333333,\"#9c179e\"],[0.4444444444444444,\"#bd3786\"],[0.5555555555555556,\"#d8576b\"],[0.6666666666666666,\"#ed7953\"],[0.7777777777777778,\"#fb9f3a\"],[0.8888888888888888,\"#fdca26\"],[1.0,\"#f0f921\"]]}],\"contourcarpet\":[{\"type\":\"contourcarpet\",\"colorbar\":{\"outlinewidth\":0,\"ticks\":\"\"}}],\"contour\":[{\"type\":\"contour\",\"colorbar\":{\"outlinewidth\":0,\"ticks\":\"\"},\"colorscale\":[[0.0,\"#0d0887\"],[0.1111111111111111,\"#46039f\"],[0.2222222222222222,\"#7201a8\"],[0.3333333333333333,\"#9c179e\"],[0.4444444444444444,\"#bd3786\"],[0.5555555555555556,\"#d8576b\"],[0.6666666666666666,\"#ed7953\"],[0.7777777777777778,\"#fb9f3a\"],[0.8888888888888888,\"#fdca26\"],[1.0,\"#f0f921\"]]}],\"surface\":[{\"type\":\"surface\",\"colorbar\":{\"outlinewidth\":0,\"ticks\":\"\"},\"colorscale\":[[0.0,\"#0d0887\"],[0.1111111111111111,\"#46039f\"],[0.2222222222222222,\"#7201a8\"],[0.3333333333333333,\"#9c179e\"],[0.4444444444444444,\"#bd3786\"],[0.5555555555555556,\"#d8576b\"],[0.6666666666666666,\"#ed7953\"],[0.7777777777777778,\"#fb9f3a\"],[0.8888888888888888,\"#fdca26\"],[1.0,\"#f0f921\"]]}],\"mesh3d\":[{\"type\":\"mesh3d\",\"colorbar\":{\"outlinewidth\":0,\"ticks\":\"\"}}],\"scatter\":[{\"fillpattern\":{\"fillmode\":\"overlay\",\"size\":10,\"solidity\":0.2},\"type\":\"scatter\"}],\"parcoords\":[{\"type\":\"parcoords\",\"line\":{\"colorbar\":{\"outlinewidth\":0,\"ticks\":\"\"}}}],\"scatterpolargl\":[{\"type\":\"scatterpolargl\",\"marker\":{\"colorbar\":{\"outlinewidth\":0,\"ticks\":\"\"}}}],\"bar\":[{\"error_x\":{\"color\":\"#2a3f5f\"},\"error_y\":{\"color\":\"#2a3f5f\"},\"marker\":{\"line\":{\"color\":\"#E5ECF6\",\"width\":0.5},\"pattern\":{\"fillmode\":\"overlay\",\"size\":10,\"solidity\":0.2}},\"type\":\"bar\"}],\"scattergeo\":[{\"type\":\"scattergeo\",\"marker\":{\"colorbar\":{\"outlinewidth\":0,\"ticks\":\"\"}}}],\"scatterpolar\":[{\"type\":\"scatterpolar\",\"marker\":{\"colorbar\":{\"outlinewidth\":0,\"ticks\":\"\"}}}],\"histogram\":[{\"marker\":{\"pattern\":{\"fillmode\":\"overlay\",\"size\":10,\"solidity\":0.2}},\"type\":\"histogram\"}],\"scattergl\":[{\"type\":\"scattergl\",\"marker\":{\"colorbar\":{\"outlinewidth\":0,\"ticks\":\"\"}}}],\"scatter3d\":[{\"type\":\"scatter3d\",\"line\":{\"colorbar\":{\"outlinewidth\":0,\"ticks\":\"\"}},\"marker\":{\"colorbar\":{\"outlinewidth\":0,\"ticks\":\"\"}}}],\"scattermapbox\":[{\"type\":\"scattermapbox\",\"marker\":{\"colorbar\":{\"outlinewidth\":0,\"ticks\":\"\"}}}],\"scatterternary\":[{\"type\":\"scatterternary\",\"marker\":{\"colorbar\":{\"outlinewidth\":0,\"ticks\":\"\"}}}],\"scattercarpet\":[{\"type\":\"scattercarpet\",\"marker\":{\"colorbar\":{\"outlinewidth\":0,\"ticks\":\"\"}}}],\"carpet\":[{\"aaxis\":{\"endlinecolor\":\"#2a3f5f\",\"gridcolor\":\"white\",\"linecolor\":\"white\",\"minorgridcolor\":\"white\",\"startlinecolor\":\"#2a3f5f\"},\"baxis\":{\"endlinecolor\":\"#2a3f5f\",\"gridcolor\":\"white\",\"linecolor\":\"white\",\"minorgridcolor\":\"white\",\"startlinecolor\":\"#2a3f5f\"},\"type\":\"carpet\"}],\"table\":[{\"cells\":{\"fill\":{\"color\":\"#EBF0F8\"},\"line\":{\"color\":\"white\"}},\"header\":{\"fill\":{\"color\":\"#C8D4E3\"},\"line\":{\"color\":\"white\"}},\"type\":\"table\"}],\"barpolar\":[{\"marker\":{\"line\":{\"color\":\"#E5ECF6\",\"width\":0.5},\"pattern\":{\"fillmode\":\"overlay\",\"size\":10,\"solidity\":0.2}},\"type\":\"barpolar\"}],\"pie\":[{\"automargin\":true,\"type\":\"pie\"}]},\"layout\":{\"autotypenumbers\":\"strict\",\"colorway\":[\"#636efa\",\"#EF553B\",\"#00cc96\",\"#ab63fa\",\"#FFA15A\",\"#19d3f3\",\"#FF6692\",\"#B6E880\",\"#FF97FF\",\"#FECB52\"],\"font\":{\"color\":\"#2a3f5f\"},\"hovermode\":\"closest\",\"hoverlabel\":{\"align\":\"left\"},\"paper_bgcolor\":\"white\",\"plot_bgcolor\":\"#E5ECF6\",\"polar\":{\"bgcolor\":\"#E5ECF6\",\"angularaxis\":{\"gridcolor\":\"white\",\"linecolor\":\"white\",\"ticks\":\"\"},\"radialaxis\":{\"gridcolor\":\"white\",\"linecolor\":\"white\",\"ticks\":\"\"}},\"ternary\":{\"bgcolor\":\"#E5ECF6\",\"aaxis\":{\"gridcolor\":\"white\",\"linecolor\":\"white\",\"ticks\":\"\"},\"baxis\":{\"gridcolor\":\"white\",\"linecolor\":\"white\",\"ticks\":\"\"},\"caxis\":{\"gridcolor\":\"white\",\"linecolor\":\"white\",\"ticks\":\"\"}},\"coloraxis\":{\"colorbar\":{\"outlinewidth\":0,\"ticks\":\"\"}},\"colorscale\":{\"sequential\":[[0.0,\"#0d0887\"],[0.1111111111111111,\"#46039f\"],[0.2222222222222222,\"#7201a8\"],[0.3333333333333333,\"#9c179e\"],[0.4444444444444444,\"#bd3786\"],[0.5555555555555556,\"#d8576b\"],[0.6666666666666666,\"#ed7953\"],[0.7777777777777778,\"#fb9f3a\"],[0.8888888888888888,\"#fdca26\"],[1.0,\"#f0f921\"]],\"sequentialminus\":[[0.0,\"#0d0887\"],[0.1111111111111111,\"#46039f\"],[0.2222222222222222,\"#7201a8\"],[0.3333333333333333,\"#9c179e\"],[0.4444444444444444,\"#bd3786\"],[0.5555555555555556,\"#d8576b\"],[0.6666666666666666,\"#ed7953\"],[0.7777777777777778,\"#fb9f3a\"],[0.8888888888888888,\"#fdca26\"],[1.0,\"#f0f921\"]],\"diverging\":[[0,\"#8e0152\"],[0.1,\"#c51b7d\"],[0.2,\"#de77ae\"],[0.3,\"#f1b6da\"],[0.4,\"#fde0ef\"],[0.5,\"#f7f7f7\"],[0.6,\"#e6f5d0\"],[0.7,\"#b8e186\"],[0.8,\"#7fbc41\"],[0.9,\"#4d9221\"],[1,\"#276419\"]]},\"xaxis\":{\"gridcolor\":\"white\",\"linecolor\":\"white\",\"ticks\":\"\",\"title\":{\"standoff\":15},\"zerolinecolor\":\"white\",\"automargin\":true,\"zerolinewidth\":2},\"yaxis\":{\"gridcolor\":\"white\",\"linecolor\":\"white\",\"ticks\":\"\",\"title\":{\"standoff\":15},\"zerolinecolor\":\"white\",\"automargin\":true,\"zerolinewidth\":2},\"scene\":{\"xaxis\":{\"backgroundcolor\":\"#E5ECF6\",\"gridcolor\":\"white\",\"linecolor\":\"white\",\"showbackground\":true,\"ticks\":\"\",\"zerolinecolor\":\"white\",\"gridwidth\":2},\"yaxis\":{\"backgroundcolor\":\"#E5ECF6\",\"gridcolor\":\"white\",\"linecolor\":\"white\",\"showbackground\":true,\"ticks\":\"\",\"zerolinecolor\":\"white\",\"gridwidth\":2},\"zaxis\":{\"backgroundcolor\":\"#E5ECF6\",\"gridcolor\":\"white\",\"linecolor\":\"white\",\"showbackground\":true,\"ticks\":\"\",\"zerolinecolor\":\"white\",\"gridwidth\":2}},\"shapedefaults\":{\"line\":{\"color\":\"#2a3f5f\"}},\"annotationdefaults\":{\"arrowcolor\":\"#2a3f5f\",\"arrowhead\":0,\"arrowwidth\":1},\"geo\":{\"bgcolor\":\"white\",\"landcolor\":\"#E5ECF6\",\"subunitcolor\":\"white\",\"showland\":true,\"showlakes\":true,\"lakecolor\":\"white\"},\"title\":{\"x\":0.05},\"mapbox\":{\"style\":\"light\"}}},\"xaxis\":{\"anchor\":\"y\",\"domain\":[0.0,1.0],\"title\":{\"text\":\"Payment Method\"}},\"yaxis\":{\"anchor\":\"x\",\"domain\":[0.0,1.0],\"title\":{\"text\":\"count\"}},\"legend\":{\"title\":{\"text\":\"Internet Service\"},\"tracegroupgap\":0},\"margin\":{\"t\":60},\"barmode\":\"group\"},                        {\"responsive\": true}                    ).then(function(){\n",
       "                            \n",
       "var gd = document.getElementById('a9116aa7-89fc-4b5b-afd7-96de5ab41e73');\n",
       "var x = new MutationObserver(function (mutations, observer) {{\n",
       "        var display = window.getComputedStyle(gd).display;\n",
       "        if (!display || display === 'none') {{\n",
       "            console.log([gd, 'removed!']);\n",
       "            Plotly.purge(gd);\n",
       "            observer.disconnect();\n",
       "        }}\n",
       "}});\n",
       "\n",
       "// Listen for the removal of the full notebook cells\n",
       "var notebookContainer = gd.closest('#notebook-container');\n",
       "if (notebookContainer) {{\n",
       "    x.observe(notebookContainer, {childList: true});\n",
       "}}\n",
       "\n",
       "// Listen for the clearing of the current output cell\n",
       "var outputEl = gd.closest('.output');\n",
       "if (outputEl) {{\n",
       "    x.observe(outputEl, {childList: true});\n",
       "}}\n",
       "\n",
       "                        })                };                });            </script>        </div>"
      ]
     },
     "metadata": {},
     "output_type": "display_data"
    }
   ],
   "source": [
    "fig = px.bar(Payment_InternetService_ChurnLabel, x='Payment Method', y='count', color='Internet Service',\n",
    "             barmode=\"group\", text='count'\n",
    "            )\n",
    "fig.show()"
   ]
  },
  {
   "cell_type": "markdown",
   "id": "161c7103",
   "metadata": {
    "papermill": {
     "duration": 0.022429,
     "end_time": "2023-11-14T14:42:30.269486",
     "exception": false,
     "start_time": "2023-11-14T14:42:30.247057",
     "status": "completed"
    },
    "tags": []
   },
   "source": [
    "**Most of customers who used electronic check Payment Method with fiber Internet counted `1595`  but only `122` customers with no internet service**"
   ]
  },
  {
   "cell_type": "code",
   "execution_count": 40,
   "id": "8ebea391",
   "metadata": {
    "execution": {
     "iopub.execute_input": "2023-11-14T14:42:30.313635Z",
     "iopub.status.busy": "2023-11-14T14:42:30.312683Z",
     "iopub.status.idle": "2023-11-14T14:42:30.377168Z",
     "shell.execute_reply": "2023-11-14T14:42:30.376161Z"
    },
    "papermill": {
     "duration": 0.088354,
     "end_time": "2023-11-14T14:42:30.379073",
     "exception": false,
     "start_time": "2023-11-14T14:42:30.290719",
     "status": "completed"
    },
    "tags": []
   },
   "outputs": [
    {
     "data": {
      "text/html": [
       "<div>                            <div id=\"9a291b65-2940-4c42-9d69-a54970d19542\" class=\"plotly-graph-div\" style=\"height:525px; width:100%;\"></div>            <script type=\"text/javascript\">                require([\"plotly\"], function(Plotly) {                    window.PLOTLYENV=window.PLOTLYENV || {};                                    if (document.getElementById(\"9a291b65-2940-4c42-9d69-a54970d19542\")) {                    Plotly.newPlot(                        \"9a291b65-2940-4c42-9d69-a54970d19542\",                        [{\"branchvalues\":\"total\",\"customdata\":[[\"No\"],[\"Fiber optic\"],[\"DSL\"],[\"Fiber optic\"],[\"DSL\"],[\"DSL\"],[\"No\"],[\"Fiber optic\"],[\"Fiber optic\"],[\"No\"],[\"DSL\"],[\"No\"],[\"DSL\"],[\"Fiber optic\"],[\"No\"]],\"domain\":{\"x\":[0.0,1.0],\"y\":[0.0,1.0]},\"hovertemplate\":\"labels=%{label}\\u003cbr\\u003echurn_rate=%{value}\\u003cbr\\u003eparent=%{parent}\\u003cbr\\u003eid=%{id}\\u003cbr\\u003eInternet Service=%{customdata[0]}\\u003cextra\\u003e\\u003c\\u002fextra\\u003e\",\"ids\":[\"No\\u002fBank transfer (automatic)\",\"Fiber optic\\u002fCredit card (automatic)\",\"DSL\\u002fElectronic check\",\"Fiber optic\\u002fElectronic check\",\"DSL\\u002fBank transfer (automatic)\",\"DSL\\u002fCredit card (automatic)\",\"No\\u002fCredit card (automatic)\",\"Fiber optic\\u002fMailed check\",\"Fiber optic\\u002fBank transfer (automatic)\",\"No\\u002fElectronic check\",\"DSL\\u002fMailed check\",\"No\\u002fMailed check\",\"DSL\",\"Fiber optic\",\"No\"],\"labels\":[\"Bank transfer (automatic)\",\"Credit card (automatic)\",\"Electronic check\",\"Electronic check\",\"Bank transfer (automatic)\",\"Credit card (automatic)\",\"Credit card (automatic)\",\"Mailed check\",\"Bank transfer (automatic)\",\"Electronic check\",\"Mailed check\",\"Mailed check\",\"DSL\",\"Fiber optic\",\"No\"],\"marker\":{\"colors\":[\"#636efa\",\"#EF553B\",\"#00cc96\",\"#EF553B\",\"#00cc96\",\"#00cc96\",\"#636efa\",\"#EF553B\",\"#EF553B\",\"#636efa\",\"#00cc96\",\"#636efa\",\"#00cc96\",\"#EF553B\",\"#636efa\"]},\"name\":\"\",\"parents\":[\"No\",\"Fiber optic\",\"DSL\",\"Fiber optic\",\"DSL\",\"DSL\",\"No\",\"Fiber optic\",\"Fiber optic\",\"No\",\"DSL\",\"No\",\"\",\"\",\"\"],\"values\":[0.05,0.25,0.32,0.53,0.09,0.12,0.03,0.43,0.29,0.12,0.21,0.1,0.74,1.5,0.3],\"type\":\"sunburst\"}],                        {\"template\":{\"data\":{\"histogram2dcontour\":[{\"type\":\"histogram2dcontour\",\"colorbar\":{\"outlinewidth\":0,\"ticks\":\"\"},\"colorscale\":[[0.0,\"#0d0887\"],[0.1111111111111111,\"#46039f\"],[0.2222222222222222,\"#7201a8\"],[0.3333333333333333,\"#9c179e\"],[0.4444444444444444,\"#bd3786\"],[0.5555555555555556,\"#d8576b\"],[0.6666666666666666,\"#ed7953\"],[0.7777777777777778,\"#fb9f3a\"],[0.8888888888888888,\"#fdca26\"],[1.0,\"#f0f921\"]]}],\"choropleth\":[{\"type\":\"choropleth\",\"colorbar\":{\"outlinewidth\":0,\"ticks\":\"\"}}],\"histogram2d\":[{\"type\":\"histogram2d\",\"colorbar\":{\"outlinewidth\":0,\"ticks\":\"\"},\"colorscale\":[[0.0,\"#0d0887\"],[0.1111111111111111,\"#46039f\"],[0.2222222222222222,\"#7201a8\"],[0.3333333333333333,\"#9c179e\"],[0.4444444444444444,\"#bd3786\"],[0.5555555555555556,\"#d8576b\"],[0.6666666666666666,\"#ed7953\"],[0.7777777777777778,\"#fb9f3a\"],[0.8888888888888888,\"#fdca26\"],[1.0,\"#f0f921\"]]}],\"heatmap\":[{\"type\":\"heatmap\",\"colorbar\":{\"outlinewidth\":0,\"ticks\":\"\"},\"colorscale\":[[0.0,\"#0d0887\"],[0.1111111111111111,\"#46039f\"],[0.2222222222222222,\"#7201a8\"],[0.3333333333333333,\"#9c179e\"],[0.4444444444444444,\"#bd3786\"],[0.5555555555555556,\"#d8576b\"],[0.6666666666666666,\"#ed7953\"],[0.7777777777777778,\"#fb9f3a\"],[0.8888888888888888,\"#fdca26\"],[1.0,\"#f0f921\"]]}],\"heatmapgl\":[{\"type\":\"heatmapgl\",\"colorbar\":{\"outlinewidth\":0,\"ticks\":\"\"},\"colorscale\":[[0.0,\"#0d0887\"],[0.1111111111111111,\"#46039f\"],[0.2222222222222222,\"#7201a8\"],[0.3333333333333333,\"#9c179e\"],[0.4444444444444444,\"#bd3786\"],[0.5555555555555556,\"#d8576b\"],[0.6666666666666666,\"#ed7953\"],[0.7777777777777778,\"#fb9f3a\"],[0.8888888888888888,\"#fdca26\"],[1.0,\"#f0f921\"]]}],\"contourcarpet\":[{\"type\":\"contourcarpet\",\"colorbar\":{\"outlinewidth\":0,\"ticks\":\"\"}}],\"contour\":[{\"type\":\"contour\",\"colorbar\":{\"outlinewidth\":0,\"ticks\":\"\"},\"colorscale\":[[0.0,\"#0d0887\"],[0.1111111111111111,\"#46039f\"],[0.2222222222222222,\"#7201a8\"],[0.3333333333333333,\"#9c179e\"],[0.4444444444444444,\"#bd3786\"],[0.5555555555555556,\"#d8576b\"],[0.6666666666666666,\"#ed7953\"],[0.7777777777777778,\"#fb9f3a\"],[0.8888888888888888,\"#fdca26\"],[1.0,\"#f0f921\"]]}],\"surface\":[{\"type\":\"surface\",\"colorbar\":{\"outlinewidth\":0,\"ticks\":\"\"},\"colorscale\":[[0.0,\"#0d0887\"],[0.1111111111111111,\"#46039f\"],[0.2222222222222222,\"#7201a8\"],[0.3333333333333333,\"#9c179e\"],[0.4444444444444444,\"#bd3786\"],[0.5555555555555556,\"#d8576b\"],[0.6666666666666666,\"#ed7953\"],[0.7777777777777778,\"#fb9f3a\"],[0.8888888888888888,\"#fdca26\"],[1.0,\"#f0f921\"]]}],\"mesh3d\":[{\"type\":\"mesh3d\",\"colorbar\":{\"outlinewidth\":0,\"ticks\":\"\"}}],\"scatter\":[{\"fillpattern\":{\"fillmode\":\"overlay\",\"size\":10,\"solidity\":0.2},\"type\":\"scatter\"}],\"parcoords\":[{\"type\":\"parcoords\",\"line\":{\"colorbar\":{\"outlinewidth\":0,\"ticks\":\"\"}}}],\"scatterpolargl\":[{\"type\":\"scatterpolargl\",\"marker\":{\"colorbar\":{\"outlinewidth\":0,\"ticks\":\"\"}}}],\"bar\":[{\"error_x\":{\"color\":\"#2a3f5f\"},\"error_y\":{\"color\":\"#2a3f5f\"},\"marker\":{\"line\":{\"color\":\"#E5ECF6\",\"width\":0.5},\"pattern\":{\"fillmode\":\"overlay\",\"size\":10,\"solidity\":0.2}},\"type\":\"bar\"}],\"scattergeo\":[{\"type\":\"scattergeo\",\"marker\":{\"colorbar\":{\"outlinewidth\":0,\"ticks\":\"\"}}}],\"scatterpolar\":[{\"type\":\"scatterpolar\",\"marker\":{\"colorbar\":{\"outlinewidth\":0,\"ticks\":\"\"}}}],\"histogram\":[{\"marker\":{\"pattern\":{\"fillmode\":\"overlay\",\"size\":10,\"solidity\":0.2}},\"type\":\"histogram\"}],\"scattergl\":[{\"type\":\"scattergl\",\"marker\":{\"colorbar\":{\"outlinewidth\":0,\"ticks\":\"\"}}}],\"scatter3d\":[{\"type\":\"scatter3d\",\"line\":{\"colorbar\":{\"outlinewidth\":0,\"ticks\":\"\"}},\"marker\":{\"colorbar\":{\"outlinewidth\":0,\"ticks\":\"\"}}}],\"scattermapbox\":[{\"type\":\"scattermapbox\",\"marker\":{\"colorbar\":{\"outlinewidth\":0,\"ticks\":\"\"}}}],\"scatterternary\":[{\"type\":\"scatterternary\",\"marker\":{\"colorbar\":{\"outlinewidth\":0,\"ticks\":\"\"}}}],\"scattercarpet\":[{\"type\":\"scattercarpet\",\"marker\":{\"colorbar\":{\"outlinewidth\":0,\"ticks\":\"\"}}}],\"carpet\":[{\"aaxis\":{\"endlinecolor\":\"#2a3f5f\",\"gridcolor\":\"white\",\"linecolor\":\"white\",\"minorgridcolor\":\"white\",\"startlinecolor\":\"#2a3f5f\"},\"baxis\":{\"endlinecolor\":\"#2a3f5f\",\"gridcolor\":\"white\",\"linecolor\":\"white\",\"minorgridcolor\":\"white\",\"startlinecolor\":\"#2a3f5f\"},\"type\":\"carpet\"}],\"table\":[{\"cells\":{\"fill\":{\"color\":\"#EBF0F8\"},\"line\":{\"color\":\"white\"}},\"header\":{\"fill\":{\"color\":\"#C8D4E3\"},\"line\":{\"color\":\"white\"}},\"type\":\"table\"}],\"barpolar\":[{\"marker\":{\"line\":{\"color\":\"#E5ECF6\",\"width\":0.5},\"pattern\":{\"fillmode\":\"overlay\",\"size\":10,\"solidity\":0.2}},\"type\":\"barpolar\"}],\"pie\":[{\"automargin\":true,\"type\":\"pie\"}]},\"layout\":{\"autotypenumbers\":\"strict\",\"colorway\":[\"#636efa\",\"#EF553B\",\"#00cc96\",\"#ab63fa\",\"#FFA15A\",\"#19d3f3\",\"#FF6692\",\"#B6E880\",\"#FF97FF\",\"#FECB52\"],\"font\":{\"color\":\"#2a3f5f\"},\"hovermode\":\"closest\",\"hoverlabel\":{\"align\":\"left\"},\"paper_bgcolor\":\"white\",\"plot_bgcolor\":\"#E5ECF6\",\"polar\":{\"bgcolor\":\"#E5ECF6\",\"angularaxis\":{\"gridcolor\":\"white\",\"linecolor\":\"white\",\"ticks\":\"\"},\"radialaxis\":{\"gridcolor\":\"white\",\"linecolor\":\"white\",\"ticks\":\"\"}},\"ternary\":{\"bgcolor\":\"#E5ECF6\",\"aaxis\":{\"gridcolor\":\"white\",\"linecolor\":\"white\",\"ticks\":\"\"},\"baxis\":{\"gridcolor\":\"white\",\"linecolor\":\"white\",\"ticks\":\"\"},\"caxis\":{\"gridcolor\":\"white\",\"linecolor\":\"white\",\"ticks\":\"\"}},\"coloraxis\":{\"colorbar\":{\"outlinewidth\":0,\"ticks\":\"\"}},\"colorscale\":{\"sequential\":[[0.0,\"#0d0887\"],[0.1111111111111111,\"#46039f\"],[0.2222222222222222,\"#7201a8\"],[0.3333333333333333,\"#9c179e\"],[0.4444444444444444,\"#bd3786\"],[0.5555555555555556,\"#d8576b\"],[0.6666666666666666,\"#ed7953\"],[0.7777777777777778,\"#fb9f3a\"],[0.8888888888888888,\"#fdca26\"],[1.0,\"#f0f921\"]],\"sequentialminus\":[[0.0,\"#0d0887\"],[0.1111111111111111,\"#46039f\"],[0.2222222222222222,\"#7201a8\"],[0.3333333333333333,\"#9c179e\"],[0.4444444444444444,\"#bd3786\"],[0.5555555555555556,\"#d8576b\"],[0.6666666666666666,\"#ed7953\"],[0.7777777777777778,\"#fb9f3a\"],[0.8888888888888888,\"#fdca26\"],[1.0,\"#f0f921\"]],\"diverging\":[[0,\"#8e0152\"],[0.1,\"#c51b7d\"],[0.2,\"#de77ae\"],[0.3,\"#f1b6da\"],[0.4,\"#fde0ef\"],[0.5,\"#f7f7f7\"],[0.6,\"#e6f5d0\"],[0.7,\"#b8e186\"],[0.8,\"#7fbc41\"],[0.9,\"#4d9221\"],[1,\"#276419\"]]},\"xaxis\":{\"gridcolor\":\"white\",\"linecolor\":\"white\",\"ticks\":\"\",\"title\":{\"standoff\":15},\"zerolinecolor\":\"white\",\"automargin\":true,\"zerolinewidth\":2},\"yaxis\":{\"gridcolor\":\"white\",\"linecolor\":\"white\",\"ticks\":\"\",\"title\":{\"standoff\":15},\"zerolinecolor\":\"white\",\"automargin\":true,\"zerolinewidth\":2},\"scene\":{\"xaxis\":{\"backgroundcolor\":\"#E5ECF6\",\"gridcolor\":\"white\",\"linecolor\":\"white\",\"showbackground\":true,\"ticks\":\"\",\"zerolinecolor\":\"white\",\"gridwidth\":2},\"yaxis\":{\"backgroundcolor\":\"#E5ECF6\",\"gridcolor\":\"white\",\"linecolor\":\"white\",\"showbackground\":true,\"ticks\":\"\",\"zerolinecolor\":\"white\",\"gridwidth\":2},\"zaxis\":{\"backgroundcolor\":\"#E5ECF6\",\"gridcolor\":\"white\",\"linecolor\":\"white\",\"showbackground\":true,\"ticks\":\"\",\"zerolinecolor\":\"white\",\"gridwidth\":2}},\"shapedefaults\":{\"line\":{\"color\":\"#2a3f5f\"}},\"annotationdefaults\":{\"arrowcolor\":\"#2a3f5f\",\"arrowhead\":0,\"arrowwidth\":1},\"geo\":{\"bgcolor\":\"white\",\"landcolor\":\"#E5ECF6\",\"subunitcolor\":\"white\",\"showland\":true,\"showlakes\":true,\"lakecolor\":\"white\"},\"title\":{\"x\":0.05},\"mapbox\":{\"style\":\"light\"}}},\"legend\":{\"tracegroupgap\":0},\"title\":{\"text\":\"churn rate of customer by Payment Method and Internet Service\"}},                        {\"responsive\": true}                    ).then(function(){\n",
       "                            \n",
       "var gd = document.getElementById('9a291b65-2940-4c42-9d69-a54970d19542');\n",
       "var x = new MutationObserver(function (mutations, observer) {{\n",
       "        var display = window.getComputedStyle(gd).display;\n",
       "        if (!display || display === 'none') {{\n",
       "            console.log([gd, 'removed!']);\n",
       "            Plotly.purge(gd);\n",
       "            observer.disconnect();\n",
       "        }}\n",
       "}});\n",
       "\n",
       "// Listen for the removal of the full notebook cells\n",
       "var notebookContainer = gd.closest('#notebook-container');\n",
       "if (notebookContainer) {{\n",
       "    x.observe(notebookContainer, {childList: true});\n",
       "}}\n",
       "\n",
       "// Listen for the clearing of the current output cell\n",
       "var outputEl = gd.closest('.output');\n",
       "if (outputEl) {{\n",
       "    x.observe(outputEl, {childList: true});\n",
       "}}\n",
       "\n",
       "                        })                };                });            </script>        </div>"
      ]
     },
     "metadata": {},
     "output_type": "display_data"
    }
   ],
   "source": [
    "#Creating Sunburst chart based on air, ground or naval unit type\n",
    "fig = px.sunburst(Payment_InternetService_ChurnLabel, path=['Internet Service', 'Payment Method'], values='churn_rate',\n",
    "                  color='Internet Service', \n",
    "                  title=\"churn rate of customer by Payment Method and Internet Service\")\n",
    "\n",
    "fig.show()"
   ]
  },
  {
   "cell_type": "code",
   "execution_count": 41,
   "id": "3752e6a4",
   "metadata": {
    "execution": {
     "iopub.execute_input": "2023-11-14T14:42:30.424492Z",
     "iopub.status.busy": "2023-11-14T14:42:30.424138Z",
     "iopub.status.idle": "2023-11-14T14:42:30.487035Z",
     "shell.execute_reply": "2023-11-14T14:42:30.485595Z"
    },
    "papermill": {
     "duration": 0.088113,
     "end_time": "2023-11-14T14:42:30.489093",
     "exception": false,
     "start_time": "2023-11-14T14:42:30.400980",
     "status": "completed"
    },
    "tags": []
   },
   "outputs": [
    {
     "data": {
      "text/html": [
       "<div>                            <div id=\"bcda8d94-fc62-4bf0-a084-1c972a411b0a\" class=\"plotly-graph-div\" style=\"height:525px; width:100%;\"></div>            <script type=\"text/javascript\">                require([\"plotly\"], function(Plotly) {                    window.PLOTLYENV=window.PLOTLYENV || {};                                    if (document.getElementById(\"bcda8d94-fc62-4bf0-a084-1c972a411b0a\")) {                    Plotly.newPlot(                        \"bcda8d94-fc62-4bf0-a084-1c972a411b0a\",                        [{\"alignmentgroup\":\"True\",\"hovertemplate\":\"Internet Service=Fiber optic\\u003cbr\\u003ePayment Method=%{x}\\u003cbr\\u003echurn_rate=%{text}\\u003cextra\\u003e\\u003c\\u002fextra\\u003e\",\"legendgroup\":\"Fiber optic\",\"marker\":{\"color\":\"#636efa\",\"pattern\":{\"shape\":\"\"}},\"name\":\"Fiber optic\",\"offsetgroup\":\"Fiber optic\",\"orientation\":\"v\",\"showlegend\":true,\"text\":[0.53,0.29,0.25,0.43],\"textposition\":\"auto\",\"x\":[\"Electronic check\",\"Bank transfer (automatic)\",\"Credit card (automatic)\",\"Mailed check\"],\"xaxis\":\"x\",\"y\":[0.53,0.29,0.25,0.43],\"yaxis\":\"y\",\"type\":\"bar\"},{\"alignmentgroup\":\"True\",\"hovertemplate\":\"Internet Service=No\\u003cbr\\u003ePayment Method=%{x}\\u003cbr\\u003echurn_rate=%{text}\\u003cextra\\u003e\\u003c\\u002fextra\\u003e\",\"legendgroup\":\"No\",\"marker\":{\"color\":\"#EF553B\",\"pattern\":{\"shape\":\"\"}},\"name\":\"No\",\"offsetgroup\":\"No\",\"orientation\":\"v\",\"showlegend\":true,\"text\":[0.1,0.05,0.03,0.12],\"textposition\":\"auto\",\"x\":[\"Mailed check\",\"Bank transfer (automatic)\",\"Credit card (automatic)\",\"Electronic check\"],\"xaxis\":\"x\",\"y\":[0.1,0.05,0.03,0.12],\"yaxis\":\"y\",\"type\":\"bar\"},{\"alignmentgroup\":\"True\",\"hovertemplate\":\"Internet Service=DSL\\u003cbr\\u003ePayment Method=%{x}\\u003cbr\\u003echurn_rate=%{text}\\u003cextra\\u003e\\u003c\\u002fextra\\u003e\",\"legendgroup\":\"DSL\",\"marker\":{\"color\":\"#00cc96\",\"pattern\":{\"shape\":\"\"}},\"name\":\"DSL\",\"offsetgroup\":\"DSL\",\"orientation\":\"v\",\"showlegend\":true,\"text\":[0.32,0.21,0.12,0.09],\"textposition\":\"auto\",\"x\":[\"Electronic check\",\"Mailed check\",\"Credit card (automatic)\",\"Bank transfer (automatic)\"],\"xaxis\":\"x\",\"y\":[0.32,0.21,0.12,0.09],\"yaxis\":\"y\",\"type\":\"bar\"}],                        {\"template\":{\"data\":{\"histogram2dcontour\":[{\"type\":\"histogram2dcontour\",\"colorbar\":{\"outlinewidth\":0,\"ticks\":\"\"},\"colorscale\":[[0.0,\"#0d0887\"],[0.1111111111111111,\"#46039f\"],[0.2222222222222222,\"#7201a8\"],[0.3333333333333333,\"#9c179e\"],[0.4444444444444444,\"#bd3786\"],[0.5555555555555556,\"#d8576b\"],[0.6666666666666666,\"#ed7953\"],[0.7777777777777778,\"#fb9f3a\"],[0.8888888888888888,\"#fdca26\"],[1.0,\"#f0f921\"]]}],\"choropleth\":[{\"type\":\"choropleth\",\"colorbar\":{\"outlinewidth\":0,\"ticks\":\"\"}}],\"histogram2d\":[{\"type\":\"histogram2d\",\"colorbar\":{\"outlinewidth\":0,\"ticks\":\"\"},\"colorscale\":[[0.0,\"#0d0887\"],[0.1111111111111111,\"#46039f\"],[0.2222222222222222,\"#7201a8\"],[0.3333333333333333,\"#9c179e\"],[0.4444444444444444,\"#bd3786\"],[0.5555555555555556,\"#d8576b\"],[0.6666666666666666,\"#ed7953\"],[0.7777777777777778,\"#fb9f3a\"],[0.8888888888888888,\"#fdca26\"],[1.0,\"#f0f921\"]]}],\"heatmap\":[{\"type\":\"heatmap\",\"colorbar\":{\"outlinewidth\":0,\"ticks\":\"\"},\"colorscale\":[[0.0,\"#0d0887\"],[0.1111111111111111,\"#46039f\"],[0.2222222222222222,\"#7201a8\"],[0.3333333333333333,\"#9c179e\"],[0.4444444444444444,\"#bd3786\"],[0.5555555555555556,\"#d8576b\"],[0.6666666666666666,\"#ed7953\"],[0.7777777777777778,\"#fb9f3a\"],[0.8888888888888888,\"#fdca26\"],[1.0,\"#f0f921\"]]}],\"heatmapgl\":[{\"type\":\"heatmapgl\",\"colorbar\":{\"outlinewidth\":0,\"ticks\":\"\"},\"colorscale\":[[0.0,\"#0d0887\"],[0.1111111111111111,\"#46039f\"],[0.2222222222222222,\"#7201a8\"],[0.3333333333333333,\"#9c179e\"],[0.4444444444444444,\"#bd3786\"],[0.5555555555555556,\"#d8576b\"],[0.6666666666666666,\"#ed7953\"],[0.7777777777777778,\"#fb9f3a\"],[0.8888888888888888,\"#fdca26\"],[1.0,\"#f0f921\"]]}],\"contourcarpet\":[{\"type\":\"contourcarpet\",\"colorbar\":{\"outlinewidth\":0,\"ticks\":\"\"}}],\"contour\":[{\"type\":\"contour\",\"colorbar\":{\"outlinewidth\":0,\"ticks\":\"\"},\"colorscale\":[[0.0,\"#0d0887\"],[0.1111111111111111,\"#46039f\"],[0.2222222222222222,\"#7201a8\"],[0.3333333333333333,\"#9c179e\"],[0.4444444444444444,\"#bd3786\"],[0.5555555555555556,\"#d8576b\"],[0.6666666666666666,\"#ed7953\"],[0.7777777777777778,\"#fb9f3a\"],[0.8888888888888888,\"#fdca26\"],[1.0,\"#f0f921\"]]}],\"surface\":[{\"type\":\"surface\",\"colorbar\":{\"outlinewidth\":0,\"ticks\":\"\"},\"colorscale\":[[0.0,\"#0d0887\"],[0.1111111111111111,\"#46039f\"],[0.2222222222222222,\"#7201a8\"],[0.3333333333333333,\"#9c179e\"],[0.4444444444444444,\"#bd3786\"],[0.5555555555555556,\"#d8576b\"],[0.6666666666666666,\"#ed7953\"],[0.7777777777777778,\"#fb9f3a\"],[0.8888888888888888,\"#fdca26\"],[1.0,\"#f0f921\"]]}],\"mesh3d\":[{\"type\":\"mesh3d\",\"colorbar\":{\"outlinewidth\":0,\"ticks\":\"\"}}],\"scatter\":[{\"fillpattern\":{\"fillmode\":\"overlay\",\"size\":10,\"solidity\":0.2},\"type\":\"scatter\"}],\"parcoords\":[{\"type\":\"parcoords\",\"line\":{\"colorbar\":{\"outlinewidth\":0,\"ticks\":\"\"}}}],\"scatterpolargl\":[{\"type\":\"scatterpolargl\",\"marker\":{\"colorbar\":{\"outlinewidth\":0,\"ticks\":\"\"}}}],\"bar\":[{\"error_x\":{\"color\":\"#2a3f5f\"},\"error_y\":{\"color\":\"#2a3f5f\"},\"marker\":{\"line\":{\"color\":\"#E5ECF6\",\"width\":0.5},\"pattern\":{\"fillmode\":\"overlay\",\"size\":10,\"solidity\":0.2}},\"type\":\"bar\"}],\"scattergeo\":[{\"type\":\"scattergeo\",\"marker\":{\"colorbar\":{\"outlinewidth\":0,\"ticks\":\"\"}}}],\"scatterpolar\":[{\"type\":\"scatterpolar\",\"marker\":{\"colorbar\":{\"outlinewidth\":0,\"ticks\":\"\"}}}],\"histogram\":[{\"marker\":{\"pattern\":{\"fillmode\":\"overlay\",\"size\":10,\"solidity\":0.2}},\"type\":\"histogram\"}],\"scattergl\":[{\"type\":\"scattergl\",\"marker\":{\"colorbar\":{\"outlinewidth\":0,\"ticks\":\"\"}}}],\"scatter3d\":[{\"type\":\"scatter3d\",\"line\":{\"colorbar\":{\"outlinewidth\":0,\"ticks\":\"\"}},\"marker\":{\"colorbar\":{\"outlinewidth\":0,\"ticks\":\"\"}}}],\"scattermapbox\":[{\"type\":\"scattermapbox\",\"marker\":{\"colorbar\":{\"outlinewidth\":0,\"ticks\":\"\"}}}],\"scatterternary\":[{\"type\":\"scatterternary\",\"marker\":{\"colorbar\":{\"outlinewidth\":0,\"ticks\":\"\"}}}],\"scattercarpet\":[{\"type\":\"scattercarpet\",\"marker\":{\"colorbar\":{\"outlinewidth\":0,\"ticks\":\"\"}}}],\"carpet\":[{\"aaxis\":{\"endlinecolor\":\"#2a3f5f\",\"gridcolor\":\"white\",\"linecolor\":\"white\",\"minorgridcolor\":\"white\",\"startlinecolor\":\"#2a3f5f\"},\"baxis\":{\"endlinecolor\":\"#2a3f5f\",\"gridcolor\":\"white\",\"linecolor\":\"white\",\"minorgridcolor\":\"white\",\"startlinecolor\":\"#2a3f5f\"},\"type\":\"carpet\"}],\"table\":[{\"cells\":{\"fill\":{\"color\":\"#EBF0F8\"},\"line\":{\"color\":\"white\"}},\"header\":{\"fill\":{\"color\":\"#C8D4E3\"},\"line\":{\"color\":\"white\"}},\"type\":\"table\"}],\"barpolar\":[{\"marker\":{\"line\":{\"color\":\"#E5ECF6\",\"width\":0.5},\"pattern\":{\"fillmode\":\"overlay\",\"size\":10,\"solidity\":0.2}},\"type\":\"barpolar\"}],\"pie\":[{\"automargin\":true,\"type\":\"pie\"}]},\"layout\":{\"autotypenumbers\":\"strict\",\"colorway\":[\"#636efa\",\"#EF553B\",\"#00cc96\",\"#ab63fa\",\"#FFA15A\",\"#19d3f3\",\"#FF6692\",\"#B6E880\",\"#FF97FF\",\"#FECB52\"],\"font\":{\"color\":\"#2a3f5f\"},\"hovermode\":\"closest\",\"hoverlabel\":{\"align\":\"left\"},\"paper_bgcolor\":\"white\",\"plot_bgcolor\":\"#E5ECF6\",\"polar\":{\"bgcolor\":\"#E5ECF6\",\"angularaxis\":{\"gridcolor\":\"white\",\"linecolor\":\"white\",\"ticks\":\"\"},\"radialaxis\":{\"gridcolor\":\"white\",\"linecolor\":\"white\",\"ticks\":\"\"}},\"ternary\":{\"bgcolor\":\"#E5ECF6\",\"aaxis\":{\"gridcolor\":\"white\",\"linecolor\":\"white\",\"ticks\":\"\"},\"baxis\":{\"gridcolor\":\"white\",\"linecolor\":\"white\",\"ticks\":\"\"},\"caxis\":{\"gridcolor\":\"white\",\"linecolor\":\"white\",\"ticks\":\"\"}},\"coloraxis\":{\"colorbar\":{\"outlinewidth\":0,\"ticks\":\"\"}},\"colorscale\":{\"sequential\":[[0.0,\"#0d0887\"],[0.1111111111111111,\"#46039f\"],[0.2222222222222222,\"#7201a8\"],[0.3333333333333333,\"#9c179e\"],[0.4444444444444444,\"#bd3786\"],[0.5555555555555556,\"#d8576b\"],[0.6666666666666666,\"#ed7953\"],[0.7777777777777778,\"#fb9f3a\"],[0.8888888888888888,\"#fdca26\"],[1.0,\"#f0f921\"]],\"sequentialminus\":[[0.0,\"#0d0887\"],[0.1111111111111111,\"#46039f\"],[0.2222222222222222,\"#7201a8\"],[0.3333333333333333,\"#9c179e\"],[0.4444444444444444,\"#bd3786\"],[0.5555555555555556,\"#d8576b\"],[0.6666666666666666,\"#ed7953\"],[0.7777777777777778,\"#fb9f3a\"],[0.8888888888888888,\"#fdca26\"],[1.0,\"#f0f921\"]],\"diverging\":[[0,\"#8e0152\"],[0.1,\"#c51b7d\"],[0.2,\"#de77ae\"],[0.3,\"#f1b6da\"],[0.4,\"#fde0ef\"],[0.5,\"#f7f7f7\"],[0.6,\"#e6f5d0\"],[0.7,\"#b8e186\"],[0.8,\"#7fbc41\"],[0.9,\"#4d9221\"],[1,\"#276419\"]]},\"xaxis\":{\"gridcolor\":\"white\",\"linecolor\":\"white\",\"ticks\":\"\",\"title\":{\"standoff\":15},\"zerolinecolor\":\"white\",\"automargin\":true,\"zerolinewidth\":2},\"yaxis\":{\"gridcolor\":\"white\",\"linecolor\":\"white\",\"ticks\":\"\",\"title\":{\"standoff\":15},\"zerolinecolor\":\"white\",\"automargin\":true,\"zerolinewidth\":2},\"scene\":{\"xaxis\":{\"backgroundcolor\":\"#E5ECF6\",\"gridcolor\":\"white\",\"linecolor\":\"white\",\"showbackground\":true,\"ticks\":\"\",\"zerolinecolor\":\"white\",\"gridwidth\":2},\"yaxis\":{\"backgroundcolor\":\"#E5ECF6\",\"gridcolor\":\"white\",\"linecolor\":\"white\",\"showbackground\":true,\"ticks\":\"\",\"zerolinecolor\":\"white\",\"gridwidth\":2},\"zaxis\":{\"backgroundcolor\":\"#E5ECF6\",\"gridcolor\":\"white\",\"linecolor\":\"white\",\"showbackground\":true,\"ticks\":\"\",\"zerolinecolor\":\"white\",\"gridwidth\":2}},\"shapedefaults\":{\"line\":{\"color\":\"#2a3f5f\"}},\"annotationdefaults\":{\"arrowcolor\":\"#2a3f5f\",\"arrowhead\":0,\"arrowwidth\":1},\"geo\":{\"bgcolor\":\"white\",\"landcolor\":\"#E5ECF6\",\"subunitcolor\":\"white\",\"showland\":true,\"showlakes\":true,\"lakecolor\":\"white\"},\"title\":{\"x\":0.05},\"mapbox\":{\"style\":\"light\"}}},\"xaxis\":{\"anchor\":\"y\",\"domain\":[0.0,1.0],\"title\":{\"text\":\"Payment Method\"}},\"yaxis\":{\"anchor\":\"x\",\"domain\":[0.0,1.0],\"title\":{\"text\":\"churn_rate\"}},\"legend\":{\"title\":{\"text\":\"Internet Service\"},\"tracegroupgap\":0},\"margin\":{\"t\":60},\"barmode\":\"group\"},                        {\"responsive\": true}                    ).then(function(){\n",
       "                            \n",
       "var gd = document.getElementById('bcda8d94-fc62-4bf0-a084-1c972a411b0a');\n",
       "var x = new MutationObserver(function (mutations, observer) {{\n",
       "        var display = window.getComputedStyle(gd).display;\n",
       "        if (!display || display === 'none') {{\n",
       "            console.log([gd, 'removed!']);\n",
       "            Plotly.purge(gd);\n",
       "            observer.disconnect();\n",
       "        }}\n",
       "}});\n",
       "\n",
       "// Listen for the removal of the full notebook cells\n",
       "var notebookContainer = gd.closest('#notebook-container');\n",
       "if (notebookContainer) {{\n",
       "    x.observe(notebookContainer, {childList: true});\n",
       "}}\n",
       "\n",
       "// Listen for the clearing of the current output cell\n",
       "var outputEl = gd.closest('.output');\n",
       "if (outputEl) {{\n",
       "    x.observe(outputEl, {childList: true});\n",
       "}}\n",
       "\n",
       "                        })                };                });            </script>        </div>"
      ]
     },
     "metadata": {},
     "output_type": "display_data"
    }
   ],
   "source": [
    "fig = px.bar(Payment_InternetService_ChurnLabel, x='Payment Method', y='churn_rate', color='Internet Service',\n",
    "             barmode=\"group\", text='churn_rate'\n",
    "            )\n",
    "fig.show()"
   ]
  },
  {
   "cell_type": "markdown",
   "id": "b2a66020",
   "metadata": {
    "papermill": {
     "duration": 0.02139,
     "end_time": "2023-11-14T14:42:30.532636",
     "exception": false,
     "start_time": "2023-11-14T14:42:30.511246",
     "status": "completed"
    },
    "tags": []
   },
   "source": [
    "**For all payment methods especially for electronic and mailed checks, fiber optic internet with highest churn rates opposite no internet service** "
   ]
  },
  {
   "cell_type": "code",
   "execution_count": 42,
   "id": "5acad93e",
   "metadata": {
    "execution": {
     "iopub.execute_input": "2023-11-14T14:42:30.577880Z",
     "iopub.status.busy": "2023-11-14T14:42:30.577494Z",
     "iopub.status.idle": "2023-11-14T14:42:30.701273Z",
     "shell.execute_reply": "2023-11-14T14:42:30.700183Z"
    },
    "papermill": {
     "duration": 0.149529,
     "end_time": "2023-11-14T14:42:30.703945",
     "exception": false,
     "start_time": "2023-11-14T14:42:30.554416",
     "status": "completed"
    },
    "tags": []
   },
   "outputs": [
    {
     "data": {
      "text/html": [
       "<div>                            <div id=\"b0f24911-c81f-4a78-9527-d4ce6e23618e\" class=\"plotly-graph-div\" style=\"height:525px; width:100%;\"></div>            <script type=\"text/javascript\">                require([\"plotly\"], function(Plotly) {                    window.PLOTLYENV=window.PLOTLYENV || {};                                    if (document.getElementById(\"b0f24911-c81f-4a78-9527-d4ce6e23618e\")) {                    Plotly.newPlot(                        \"b0f24911-c81f-4a78-9527-d4ce6e23618e\",                        [{\"alignmentgroup\":\"True\",\"bingroup\":\"x\",\"hovertemplate\":\"Churn Label=Yes\\u003cbr\\u003eTotal Charges=%{x}\\u003cbr\\u003ecount=%{y}\\u003cextra\\u003e\\u003c\\u002fextra\\u003e\",\"legendgroup\":\"Yes\",\"marker\":{\"color\":\"#636efa\",\"pattern\":{\"shape\":\"\"}},\"name\":\"Yes\",\"offsetgroup\":\"Yes\",\"orientation\":\"v\",\"showlegend\":true,\"x\":[108.15,151.65,820.5,3046.05,5036.3,528.35,39.65,20.15,4749.15,30.2,1093.1,316.9,3549.25,1105.4,144.15,1426.4,633.3,1752.55,857.25,79.35,496.9,927.35,113.85,2514.5,7611.85,5238.9,2868.15,1064.65,229.55,2135.5,1502.65,35.45,81.25,70.45,563.65,45.65,655.5,1592.35,273.0,2651.2,242.8,5000.2,1145.7,503.6,29.95,662.65,1111.65,24.8,531.0,79.9,1934.45,84.5,268.35,179.35,55.2,84.6,114.1,1120.3,1074.3,48.55,147.15,40.2,80.55,132.2,1364.3,1099.6,1511.2,24.8,70.6,401.1,5624.85,1779.95,70.0,606.55,435.4,1712.7,73.6,396.1,2303.35,415.55,3058.65,2231.05,4350.1,139.05,511.25,155.8,5293.95,4759.85,6603.0,168.2,371.9,840.1,846.0,805.1,492.55,181.5,2566.5,50.65,90.85,214.75,4874.7,2524.45,7007.6,19.9,19.6,233.7,1845.9,75.3,1182.55,518.9,6396.45,69.55,2227.1,385.9,673.25,734.35,55.0,74.7,1861.5,453.4,994.8,2145.0,680.05,74.35,139.4,903.6,131.05,1238.45,1782.4,167.5,502.85,334.8,4131.95,1929.35,1758.6,3480.0,85.0,834.1,597.0,3266.0,2596.15,3527.6,5614.45,233.55,75.3,346.2,85.7,713.75,6786.4,248.95,663.05,137.6,4547.25,4687.9,6985.65,5794.65,855.3,2499.3,89.55,1899.65,45.7,161.5,222.3,74.6,164.3,35.9,96.05,145.15,191.05,75.05,2550.9,62.25,80.0,91.1,270.7,168.15,2015.35,19.55,381.3,141.5,3105.55,2758.15,3941.7,1008.55,1842.8,1269.55,1907.85,208.85,1444.65,19.9,454.15,3036.75,184.65,89.5,52.2,4874.8,6125.4,1058.25,489.45,4113.1,69.55,6017.65,7250.15,178.7,2317.1,1430.25,644.35,5453.4,5610.7,292.8,44.4,5509.3,229.6,89.9,6413.65,50.8,1463.5,307.4,2104.55,319.15,5084.65,3027.4,1582.75,1043.3,497.55,6215.35,5017.9,24.6,1120.95,923.5,1625.65,918.6,688.65,73.55,205.05,952.3,360.1,434.5,215.8,3395.8,85.15,44.7,45.7,832.35,112.3,174.8,90.55,1359.7,7532.15,69.9,6383.35,86.6,2656.5,2917.5,2416.1,424.45,660.9,1893.95,1612.75,119.75,3204.65,990.85,696.35,819.4,2070.6,273.75,729.95,3013.05,1266.1,2347.9,19.65,526.95,210.75,3706.95,412.5,832.05,185.55,1943.2,2169.8,4853.75,144.55,91.1,713.0,4527.45,171.15,940.35,1047.7,1622.45,2178.6,168.15,387.2,2839.65,893.55,4284.8,544.55,941.0,1133.65,35.55,196.9,1162.85,224.05,31.35,1052.4,5610.25,19.85,669.45,1553.95,1236.15,60.15,593.45,4867.95,74.9,80.25,1149.65,740.8,1532.45,250.05,2282.55,143.35,45.85,810.2,2564.3,228.4,1529.2,45.3,289.3,987.95,45.05,75.8,523.15,59.05,4424.2,6127.6,6448.05,676.7,632.95,270.95,483.7,1345.55,8127.6,1281.0,1553.9,3207.55,5124.55,3474.45,19.45,76.35,69.25,5961.1,25.2,96.45,20.15,7133.25,169.45,1258.6,857.2,1639.3,889.9,1290.0,330.05,237.95,2452.7,813.85,79.2,347.4,49.95,1554.0,3217.55,3001.2,6254.2,442.85,553.0,76.0,170.85,1308.4,732.5,1504.05,50.45,1132.75,193.6,349.65,332.45,1534.75,20.55,424.15,281.0,3475.55,896.75,2407.3,6547.7,4346.4,2082.95,102.75,1775.8,145.0,1146.65,74.7,1313.55,25.8,72.4,1970.5,190.05,1025.95,819.55,330.15,6873.75,45.85,5769.75,91.7,1555.65,74.95,898.35,127.1,6710.5,1704.95,415.95,950.2,3384.0,165.4,88.8,2755.35,994.55,1169.35,5918.8,2293.6,3029.1,5508.35,655.9,1463.45,5082.8,770.6,3587.25,3541.35,868.5,85.8,79.1,134.5,5341.8,324.6,4812.75,4399.5,50.15,4594.95,2384.15,1616.15,34.7,264.8,6615.15,2200.25,99.75,299.7,639.65,59.85,69.6,418.8,19.5,69.9,183.75,264.85,1178.4,4689.5,1201.15,143.65,390.85,71.65,77.5,3264.5,947.3,1761.05,973.25,76.35,1676.95,2642.05,2661.1,2697.4,1424.5,2572.95,45.1,2122.45,20.05,6937.95,402.6,68.75,46.2,45.15,43.3,2250.65,1441.1,4338.6,45.95,247.25,70.05,165.45,3653.35,1194.3,21.0,45.1,1527.5,378.4,5124.6,3862.55,50.9,4872.45,5118.95,658.95,246.5,215.2,159.45,5940.85,75.35,75.45,1210.4,5356.45,576.65,825.7,93.55,5885.4,1259.0,309.1,2257.75,6287.25,1350.15,45.7,69.95,97.1,1710.45,5464.65,2165.05,4941.8,223.15,181.1,341.45,357.75,4533.7,830.85,45.3,7040.85,371.65,6056.15,1390.6,20.2,2361.8,1730.35,2030.3,4065.0,106.55,1742.75,340.25,95.6,2934.3,4600.7,71.35,20.15,69.75,2931.0,1400.85,137.85,79.95,19.3,3754.6,627.4,242.0,54.35,100.4,1716.45,75.3,4837.6,70.55,2745.7,2624.25,184.1,160.75,3004.15,1233.65,527.9,2555.9,179.25,1338.15,91.3,79.5,467.55,7482.1,5427.05,587.1,100.8,1180.95,2625.55,1233.4,740.0,2088.75,102.45,217.55,146.05,567.45,1384.75,70.9,220.95,2331.3,74.5,6941.2,1043.35,6822.15,71.55,5029.2,7318.2,633.4,321.65,1253.9,25.15,5893.15,5037.55,92.45,2933.2,1258.3,1214.05,5510.65,1973.75,45.95,70.15,85.55,2416.55,3520.75,3467.0,88.35,777.3,512.45,141.45,1445.3,3640.45,6465.0,35.9,3777.15,47.5,847.3,546.95,3186.65,1527.35,1531.4,2847.4,1133.9,461.7,77.15,35.25,201.0,5149.5,5574.75,4541.2,1072.0,1715.65,706.85,2636.05,189.2,74.25,2187.55,1581.2,69.5,3132.75,19.4,803.3,679.3,2791.5,676.35,1230.25,4154.8,2655.25,1425.45,5742.9,2866.45,54.75,3759.05,94.6,2911.3,231.8,69.75,279.25,6281.45,1131.3,738.2,80.2,6341.45,260.8,19.6,3655.45,140.7,665.45,84.8,5426.85,1127.35,4045.65,2757.85,600.0,2238.5,90.75,365.65,90.35,19.75,1789.25,2317.1,266.9,301.4,206.6,604.7,1471.75,412.1,583.45,50.1,151.8,293.65,1308.1,2598.95,765.5,793.55,462.8,169.8,44.4,477.7,86.05,174.3,1077.5,95.65,20.95,329.8,297.3,1515.1,3229.65,1178.25,758.6,1863.8,396.3,5551.15,622.9,329.95,1048.85,3351.55,259.8,6890.0,262.05,2649.15,74.4,3326.2,560.85,1060.2,20.5,347.65,81.95,451.1,455.3,1235.55,2362.1,1873.7,6010.05,7101.5,45.05,71.0,3309.25,79.7,1254.7,2896.4,69.25,1767.35,1820.45,1742.95,73.5,829.1,2602.9,824.75,1029.75,2854.55,4259.3,2239.65,480.75,635.6,2095.0,95.05,4242.35,331.9,6283.3,2659.4,298.45,6143.15,1059.55,2180.55,89.15,1036.75,2276.95,196.15,1206.05,1378.25,219.0,1067.15,79.55,3444.85,84.5,7690.9,1380.1,78.65,45.4,2585.95,58.85,425.9,3678.3,937.5,2483.5,556.35,389.1,187.45,261.25,299.2,323.25,762.1,53.5,25.1,2365.15,308.25,19.45,7372.65,1058.6,2628.6,1023.9,856.35,3734.25,1144.5,45.3,75.6,180.25,19.8,333.6,465.05,431.0,878.35,2448.75,1329.2,4348.65,93.7,25.05,365.55,2342.2,1498.2,5278.15,93.85,50.45,521.1,1046.1,5763.3,20.1,1900.25,159.15,856.65,4056.75,2435.15,2874.15,1974.8,1218.55,81.7,2171.15,317.25,3474.05,1875.55,69.1,69.6,3066.45,305.55,78.45,255.25,146.9,762.5,338.9,2497.35,4913.3,46.3,4443.45,1095.65,446.05,811.8,1056.95,44.15,834.15,85.45,239.55,59.2,1060.6,54.9,2254.2,180.3,158.4,104.2,95.1,438.0,325.45,1148.1,355.2,151.3,188.7,5549.4,5685.8,50.6,863.1,69.8,4750.95,2391.8,1687.95,7689.95,229.55,90.55,2274.35,602.55,449.75,4512.7,196.95,131.05,415.05,754.65,75.35,3198.6,20.9,123.65,7534.65,906.85,4888.7,237.25,74.6,342.4,892.65,4822.85,438.4,3019.5,3183.4,79.6,1734.5,2088.8,502.6,50.75,1208.35,2498.4,651.4,223.45,919.4,181.65,45.65,551.35,115.95,165.2,4146.05,81.0,3017.65,1164.3,2710.25,810.7,36.55,85.5,49.55,178.5,115.1,2745.2,25.25,416.45,4116.15,75.1,3715.65,4273.45,45.8,20.1,328.95,4680.05,69.1,999.45,1888.65,71.15,1240.25,7156.2,270.8,374.5,1520.9,3605.2,1145.35,38.7,70.8,1448.6,291.9,5921.35,249.95,219.65,669.0,68.95,196.75,318.9,24.45,631.85,307.4,55.8,79.05,95.0,25.2,4187.75,5154.6,3496.3,914.3,6110.2,28.3,2351.8,679.55,1994.3,1505.85,5638.3,71.65,2542.45,210.3,74.2,4388.4,420.2,2177.45,3913.3,443.9,3436.1,70.85,3110.1,280.85,6144.55,2983.8,1565.7,298.35,4534.9,1157.05,45.75,815.5,80.15,8109.8,108.95,78.8,5127.95,874.8,69.1,1776.55,536.4,80.85,4029.95,51.15,149.55,78.65,42.9,139.35,539.85,4718.25,434.1,545.2,1284.2,646.85,692.1,1727.5,86.6,2979.5,24.25,837.95,362.2,5373.1,2068.55,131.65,24.05,50.55,1415.55,20.5,321.9,482.8,914.0,1172.95,155.35,3303.05,134.35,70.5,953.45,19.75,937.6,5812.6,1544.05,69.6,4059.35,6851.65,78.05,520.0,706.6,20.2,2264.05,56.35,2510.2,2111.45,20.25,300.8,85.45,6137.0,2043.45,2576.2,3515.25,469.8,1457.25,185.6,973.55,41.85,2862.75,343.95,2890.65,1222.05,5743.05,2496.7,90.6,288.05,368.1,256.6,68.5,791.75,69.95,346.4,773.65,1422.05,2467.1,989.45,4830.25,59.75,94.55,6871.9,6529.25,1454.15,1327.15,2404.15,114.7,6975.25,257.05,40.1,2217.15,1129.1,2568.55,3580.3,293.3,2440.15,79.55,2781.85,89.1,1607.2,1490.95,92.65,606.25,19.1,80.3,74.9,751.65,66.95,4515.85,165.0,3046.4,1808.7,7446.9,25.1,1880.85,477.55,1496.9,70.45,3563.8,24.75,2012.7,242.05,63.75,260.9,2967.35,939.7,1037.75,50.45,3624.3,100.25,1422.1,69.85,858.6,324.3,399.6,3273.55,20.9,69.4,541.15,3229.4,70.1,909.25,5283.95,1617.5,84.3,6440.25,1131.2,585.95,19.95,2186.4,3201.55,661.25,1111.85,3046.15,69.35,272.2,5293.4,50.55,80.55,916.9,1855.65,116.65,2287.25,830.7,20.0,1054.6,85.05,2110.15,547.65,8684.8,4370.25,251.75,740.3,452.7,19.45,166.3,70.0,4820.15,3409.6,1270.2,1561.5,31.55,321.75,147.15,2387.75,2660.2,4211.55,990.9,193.8,790.15,2467.75,7262.0,1914.9,5688.05,5265.1,1772.25,44.45,3067.2,20.25,74.35,62.05,3182.95,541.9,971.3,162.45,216.9,245.2,302.75,60.1,78.95,98.5,244.65,2375.4,2431.35,1451.9,71.1,6979.8,1021.8,94.0,1424.95,193.6,620.55,1993.8,2597.6,1052.35,53.95,829.55,1312.15,69.8,545.15,494.05,2841.55,486.85,204.7,2995.45,137.95,3762.0,3233.6,5438.9,1081.45,221.9,74.9,58.9,333.55,3171.15,74.7,455.5,3152.5,2530.4,3186.7,35.75,181.6,1539.45,58.15,225.6,340.85,2515.3,305.95,365.4,90.85,69.4,742.95,20.15,4816.7,1834.95,305.1,155.65,108.7,44.1,712.75,6405.0,1637.4,6145.85,1740.7,552.95,93.7,1046.5,834.2,4134.85,899.8,108.05,70.3,851.75,575.45,1375.15,152.7,195.05,1660.0,20.2,6981.35,3615.6,2184.35,1852.85,77.15,338.1,3030.6,3124.5,930.45,673.1,208.7,237.75,221.35,75.3,4062.2,4042.3,164.85,70.4,331.3,1147.45,1078.9,7804.15,226.45,4364.1,2433.9,1217.25,1743.5,69.65,713.1,526.7,3021.6,191.35,2718.3,36.45,2001.5,3825.85,933.3,3184.25,764.95,145.4,156.25,1604.5,4533.9,1587.55,842.9,1761.45,164.5,2724.6,318.5,4990.25,3744.05,7220.35,2139.2,521.3,608.0,577.6,292.85,198.0,609.9,79.65,2812.2,80.05,2698.35,1465.75,146.3,51.25,45.6,267.35,288.05,853.0,934.1,1222.8,5293.2,74.45,2345.2,2335.3,1115.15,291.4,453.75,1597.25,235.5,5639.05,799.65,50.8,144.55,2447.95,3050.15,4517.25,19.9,1200.15,70.6,389.6,523.5,2277.65,24.8,6903.1,1008.7,853.1,794.25,160.8,1174.35,741.7,3019.25,4759.75,19.65,84.65,69.55,347.25,354.05,44.35,586.05,3092.65,415.55,73.65,2405.05,4458.15,474.9,668.4,926.25,2541.25,46.0,1156.1,1167.8,3912.9,221.7,201.1,2838.7,70.15,296.1,81.1,20.55,6428.4,6252.9,240.45,315.3,55.7,973.45,669.85,267.4,69.85,53.55,6579.05,7856.0,2169.75,896.9,19.3,49.65,2460.15,370.65,1910.6,890.6,529.5,48.6,2109.35,2265.25,220.6,20.2,229.5,2470.1,1244.5,20.05,3994.45,19.9,667.7,19.95,79.6,75.9,76.2,19.25,3588.4,522.95,70.25,865.55,409.9,60.0,649.65,20.85,2011.4,6205.5,503.6,1152.7,7674.55,2157.95,7548.1,75.7,1951.0,384.5,3432.9,463.05,2867.75,71.35,1132.35,20.6,1931.75,818.05,916.75,70.15,6581.9,3692.85,69.65,89.3,3078.1,1426.75,474.8,446.1,416.3,35.85,1451.6,71.0,746.5,44.4,70.3,79.35,809.75,1470.95,3264.45,246.3,1389.2,1474.75,1460.65,153.05,2119.5,135.0,1400.55,69.65,1060.2,86.0,5785.5,79.45,2816.65,4783.5,470.6,4740.0,1448.8,4254.85,1101.85,20.2,3969.35,1237.85,498.1,294.45,2381.55,613.4,442.2,84.85,654.85,3160.55,740.3,2806.9,1422.65,4138.05,102.5,872.65,757.1,608.8,1139.2,279.55,1483.25,4653.85,4400.75,460.25,5485.5,404.2,7176.55,242.95,866.45,2076.2,7299.65,2291.2,7491.75,7723.9,1032.0,70.75,130.75,2653.65,3457.9,45.3,178.1,480.6,23.45,29.7,6039.9,151.3,55.4,90.6,156.35,2952.85,5916.45,113.35,1359.0,1777.9,4504.55,259.8,5568.35,2203.65,2369.05,672.55,1573.7,126.05,64.55,3243.45,79.25,44.9,659.65,118.5,3365.85,195.3,997.65,5275.8,80.5,305.55,900.5,3856.75,1625.0,3959.35,3969.4,470.95,560.6,25.7,506.9,80.35,76.4,514.0,880.2,69.95,93.3,169.05,35.05,73.0,2716.3,70.1,142.35,33.2,287.4,2254.2,7752.3,6585.35,19.7,413.65,714.15,2497.2,5643.4,197.7,79.15,655.85,303.15,1574.45,6441.4,49.9,1358.85,2869.85,49.25,5071.05,5769.6,20.3,700.85,181.7,4016.85,74.3,44.65,1095.3,788.8,364.55,20.4,4213.35,7723.7,154.65,7348.8,2954.5,3807.35,3937.45,418.4,50.5,74.4,2587.7,6219.6,4871.05,4398.15,167.3,94.4,55.0,101.45,350.3,69.5,18.85,69.2,69.65,4086.3,82.3,267.6,1115.2,5435.6,4186.3,25.05,712.85,48.95,45.3,167.3,930.4,5069.65,324.25,156.4,3626.1,7968.85,152.45,1130.85,4323.45,703.55,56.25,2249.95,159.4,68.65,327.45,1369.8,1107.25,70.85,134.7,2978.3,450.8,1215.6,91.7,7432.05,4026.4,25.3,1193.05,20.1,69.9,4528.0,80.8,118.3,76.45,1094.5,573.75,2274.9,74.5,1068.85,762.25,582.5,2122.05,69.15,723.4,4627.85,289.1,172.85,85.5,1096.25,228.0,5746.15,209.1,4481.0,154.85,593.75,3233.85,1062.1,5440.9,235.1,85.0,3014.65,184.4,2010.55,69.2,2354.8,3473.4,220.1,6876.05,501.0,20.2,733.35,1334.0,113.55,1348.9,308.7,438.25,50.35,3147.5,70.3,5617.75,1776.95,2483.05,5224.35,620.35,519.15,1301.7,1129.75,865.8,79.55,6014.85,2368.4,3545.35,1301.0,372.45,77.75,95.45,1135.7,2319.8,69.7,573.3,99.75,871.4,780.5,365.35,334.65,43.95,45.1,2868.05,449.75,4414.3,3361.05,69.35,4092.85,216.75,69.6,385.0,30.5,6859.5,5121.3,1127.2,1747.85,2754.45,2196.15,1692.6,20.5,265.35,1836.25,6418.9,679.85,2804.45,778.1,4367.35,2728.6,106.85,130.1,4036.85,256.25,1917.1,74.45,272.15,70.65,727.8,403.35,75.75,6886.25,306.6],\"xaxis\":\"x\",\"yaxis\":\"y\",\"type\":\"histogram\"},{\"alignmentgroup\":\"True\",\"hovertemplate\":\"Churn Label=Yes\\u003cbr\\u003eTotal Charges=%{x}\\u003cextra\\u003e\\u003c\\u002fextra\\u003e\",\"legendgroup\":\"Yes\",\"marker\":{\"color\":\"#636efa\"},\"name\":\"Yes\",\"notched\":true,\"offsetgroup\":\"Yes\",\"showlegend\":false,\"x\":[108.15,151.65,820.5,3046.05,5036.3,528.35,39.65,20.15,4749.15,30.2,1093.1,316.9,3549.25,1105.4,144.15,1426.4,633.3,1752.55,857.25,79.35,496.9,927.35,113.85,2514.5,7611.85,5238.9,2868.15,1064.65,229.55,2135.5,1502.65,35.45,81.25,70.45,563.65,45.65,655.5,1592.35,273.0,2651.2,242.8,5000.2,1145.7,503.6,29.95,662.65,1111.65,24.8,531.0,79.9,1934.45,84.5,268.35,179.35,55.2,84.6,114.1,1120.3,1074.3,48.55,147.15,40.2,80.55,132.2,1364.3,1099.6,1511.2,24.8,70.6,401.1,5624.85,1779.95,70.0,606.55,435.4,1712.7,73.6,396.1,2303.35,415.55,3058.65,2231.05,4350.1,139.05,511.25,155.8,5293.95,4759.85,6603.0,168.2,371.9,840.1,846.0,805.1,492.55,181.5,2566.5,50.65,90.85,214.75,4874.7,2524.45,7007.6,19.9,19.6,233.7,1845.9,75.3,1182.55,518.9,6396.45,69.55,2227.1,385.9,673.25,734.35,55.0,74.7,1861.5,453.4,994.8,2145.0,680.05,74.35,139.4,903.6,131.05,1238.45,1782.4,167.5,502.85,334.8,4131.95,1929.35,1758.6,3480.0,85.0,834.1,597.0,3266.0,2596.15,3527.6,5614.45,233.55,75.3,346.2,85.7,713.75,6786.4,248.95,663.05,137.6,4547.25,4687.9,6985.65,5794.65,855.3,2499.3,89.55,1899.65,45.7,161.5,222.3,74.6,164.3,35.9,96.05,145.15,191.05,75.05,2550.9,62.25,80.0,91.1,270.7,168.15,2015.35,19.55,381.3,141.5,3105.55,2758.15,3941.7,1008.55,1842.8,1269.55,1907.85,208.85,1444.65,19.9,454.15,3036.75,184.65,89.5,52.2,4874.8,6125.4,1058.25,489.45,4113.1,69.55,6017.65,7250.15,178.7,2317.1,1430.25,644.35,5453.4,5610.7,292.8,44.4,5509.3,229.6,89.9,6413.65,50.8,1463.5,307.4,2104.55,319.15,5084.65,3027.4,1582.75,1043.3,497.55,6215.35,5017.9,24.6,1120.95,923.5,1625.65,918.6,688.65,73.55,205.05,952.3,360.1,434.5,215.8,3395.8,85.15,44.7,45.7,832.35,112.3,174.8,90.55,1359.7,7532.15,69.9,6383.35,86.6,2656.5,2917.5,2416.1,424.45,660.9,1893.95,1612.75,119.75,3204.65,990.85,696.35,819.4,2070.6,273.75,729.95,3013.05,1266.1,2347.9,19.65,526.95,210.75,3706.95,412.5,832.05,185.55,1943.2,2169.8,4853.75,144.55,91.1,713.0,4527.45,171.15,940.35,1047.7,1622.45,2178.6,168.15,387.2,2839.65,893.55,4284.8,544.55,941.0,1133.65,35.55,196.9,1162.85,224.05,31.35,1052.4,5610.25,19.85,669.45,1553.95,1236.15,60.15,593.45,4867.95,74.9,80.25,1149.65,740.8,1532.45,250.05,2282.55,143.35,45.85,810.2,2564.3,228.4,1529.2,45.3,289.3,987.95,45.05,75.8,523.15,59.05,4424.2,6127.6,6448.05,676.7,632.95,270.95,483.7,1345.55,8127.6,1281.0,1553.9,3207.55,5124.55,3474.45,19.45,76.35,69.25,5961.1,25.2,96.45,20.15,7133.25,169.45,1258.6,857.2,1639.3,889.9,1290.0,330.05,237.95,2452.7,813.85,79.2,347.4,49.95,1554.0,3217.55,3001.2,6254.2,442.85,553.0,76.0,170.85,1308.4,732.5,1504.05,50.45,1132.75,193.6,349.65,332.45,1534.75,20.55,424.15,281.0,3475.55,896.75,2407.3,6547.7,4346.4,2082.95,102.75,1775.8,145.0,1146.65,74.7,1313.55,25.8,72.4,1970.5,190.05,1025.95,819.55,330.15,6873.75,45.85,5769.75,91.7,1555.65,74.95,898.35,127.1,6710.5,1704.95,415.95,950.2,3384.0,165.4,88.8,2755.35,994.55,1169.35,5918.8,2293.6,3029.1,5508.35,655.9,1463.45,5082.8,770.6,3587.25,3541.35,868.5,85.8,79.1,134.5,5341.8,324.6,4812.75,4399.5,50.15,4594.95,2384.15,1616.15,34.7,264.8,6615.15,2200.25,99.75,299.7,639.65,59.85,69.6,418.8,19.5,69.9,183.75,264.85,1178.4,4689.5,1201.15,143.65,390.85,71.65,77.5,3264.5,947.3,1761.05,973.25,76.35,1676.95,2642.05,2661.1,2697.4,1424.5,2572.95,45.1,2122.45,20.05,6937.95,402.6,68.75,46.2,45.15,43.3,2250.65,1441.1,4338.6,45.95,247.25,70.05,165.45,3653.35,1194.3,21.0,45.1,1527.5,378.4,5124.6,3862.55,50.9,4872.45,5118.95,658.95,246.5,215.2,159.45,5940.85,75.35,75.45,1210.4,5356.45,576.65,825.7,93.55,5885.4,1259.0,309.1,2257.75,6287.25,1350.15,45.7,69.95,97.1,1710.45,5464.65,2165.05,4941.8,223.15,181.1,341.45,357.75,4533.7,830.85,45.3,7040.85,371.65,6056.15,1390.6,20.2,2361.8,1730.35,2030.3,4065.0,106.55,1742.75,340.25,95.6,2934.3,4600.7,71.35,20.15,69.75,2931.0,1400.85,137.85,79.95,19.3,3754.6,627.4,242.0,54.35,100.4,1716.45,75.3,4837.6,70.55,2745.7,2624.25,184.1,160.75,3004.15,1233.65,527.9,2555.9,179.25,1338.15,91.3,79.5,467.55,7482.1,5427.05,587.1,100.8,1180.95,2625.55,1233.4,740.0,2088.75,102.45,217.55,146.05,567.45,1384.75,70.9,220.95,2331.3,74.5,6941.2,1043.35,6822.15,71.55,5029.2,7318.2,633.4,321.65,1253.9,25.15,5893.15,5037.55,92.45,2933.2,1258.3,1214.05,5510.65,1973.75,45.95,70.15,85.55,2416.55,3520.75,3467.0,88.35,777.3,512.45,141.45,1445.3,3640.45,6465.0,35.9,3777.15,47.5,847.3,546.95,3186.65,1527.35,1531.4,2847.4,1133.9,461.7,77.15,35.25,201.0,5149.5,5574.75,4541.2,1072.0,1715.65,706.85,2636.05,189.2,74.25,2187.55,1581.2,69.5,3132.75,19.4,803.3,679.3,2791.5,676.35,1230.25,4154.8,2655.25,1425.45,5742.9,2866.45,54.75,3759.05,94.6,2911.3,231.8,69.75,279.25,6281.45,1131.3,738.2,80.2,6341.45,260.8,19.6,3655.45,140.7,665.45,84.8,5426.85,1127.35,4045.65,2757.85,600.0,2238.5,90.75,365.65,90.35,19.75,1789.25,2317.1,266.9,301.4,206.6,604.7,1471.75,412.1,583.45,50.1,151.8,293.65,1308.1,2598.95,765.5,793.55,462.8,169.8,44.4,477.7,86.05,174.3,1077.5,95.65,20.95,329.8,297.3,1515.1,3229.65,1178.25,758.6,1863.8,396.3,5551.15,622.9,329.95,1048.85,3351.55,259.8,6890.0,262.05,2649.15,74.4,3326.2,560.85,1060.2,20.5,347.65,81.95,451.1,455.3,1235.55,2362.1,1873.7,6010.05,7101.5,45.05,71.0,3309.25,79.7,1254.7,2896.4,69.25,1767.35,1820.45,1742.95,73.5,829.1,2602.9,824.75,1029.75,2854.55,4259.3,2239.65,480.75,635.6,2095.0,95.05,4242.35,331.9,6283.3,2659.4,298.45,6143.15,1059.55,2180.55,89.15,1036.75,2276.95,196.15,1206.05,1378.25,219.0,1067.15,79.55,3444.85,84.5,7690.9,1380.1,78.65,45.4,2585.95,58.85,425.9,3678.3,937.5,2483.5,556.35,389.1,187.45,261.25,299.2,323.25,762.1,53.5,25.1,2365.15,308.25,19.45,7372.65,1058.6,2628.6,1023.9,856.35,3734.25,1144.5,45.3,75.6,180.25,19.8,333.6,465.05,431.0,878.35,2448.75,1329.2,4348.65,93.7,25.05,365.55,2342.2,1498.2,5278.15,93.85,50.45,521.1,1046.1,5763.3,20.1,1900.25,159.15,856.65,4056.75,2435.15,2874.15,1974.8,1218.55,81.7,2171.15,317.25,3474.05,1875.55,69.1,69.6,3066.45,305.55,78.45,255.25,146.9,762.5,338.9,2497.35,4913.3,46.3,4443.45,1095.65,446.05,811.8,1056.95,44.15,834.15,85.45,239.55,59.2,1060.6,54.9,2254.2,180.3,158.4,104.2,95.1,438.0,325.45,1148.1,355.2,151.3,188.7,5549.4,5685.8,50.6,863.1,69.8,4750.95,2391.8,1687.95,7689.95,229.55,90.55,2274.35,602.55,449.75,4512.7,196.95,131.05,415.05,754.65,75.35,3198.6,20.9,123.65,7534.65,906.85,4888.7,237.25,74.6,342.4,892.65,4822.85,438.4,3019.5,3183.4,79.6,1734.5,2088.8,502.6,50.75,1208.35,2498.4,651.4,223.45,919.4,181.65,45.65,551.35,115.95,165.2,4146.05,81.0,3017.65,1164.3,2710.25,810.7,36.55,85.5,49.55,178.5,115.1,2745.2,25.25,416.45,4116.15,75.1,3715.65,4273.45,45.8,20.1,328.95,4680.05,69.1,999.45,1888.65,71.15,1240.25,7156.2,270.8,374.5,1520.9,3605.2,1145.35,38.7,70.8,1448.6,291.9,5921.35,249.95,219.65,669.0,68.95,196.75,318.9,24.45,631.85,307.4,55.8,79.05,95.0,25.2,4187.75,5154.6,3496.3,914.3,6110.2,28.3,2351.8,679.55,1994.3,1505.85,5638.3,71.65,2542.45,210.3,74.2,4388.4,420.2,2177.45,3913.3,443.9,3436.1,70.85,3110.1,280.85,6144.55,2983.8,1565.7,298.35,4534.9,1157.05,45.75,815.5,80.15,8109.8,108.95,78.8,5127.95,874.8,69.1,1776.55,536.4,80.85,4029.95,51.15,149.55,78.65,42.9,139.35,539.85,4718.25,434.1,545.2,1284.2,646.85,692.1,1727.5,86.6,2979.5,24.25,837.95,362.2,5373.1,2068.55,131.65,24.05,50.55,1415.55,20.5,321.9,482.8,914.0,1172.95,155.35,3303.05,134.35,70.5,953.45,19.75,937.6,5812.6,1544.05,69.6,4059.35,6851.65,78.05,520.0,706.6,20.2,2264.05,56.35,2510.2,2111.45,20.25,300.8,85.45,6137.0,2043.45,2576.2,3515.25,469.8,1457.25,185.6,973.55,41.85,2862.75,343.95,2890.65,1222.05,5743.05,2496.7,90.6,288.05,368.1,256.6,68.5,791.75,69.95,346.4,773.65,1422.05,2467.1,989.45,4830.25,59.75,94.55,6871.9,6529.25,1454.15,1327.15,2404.15,114.7,6975.25,257.05,40.1,2217.15,1129.1,2568.55,3580.3,293.3,2440.15,79.55,2781.85,89.1,1607.2,1490.95,92.65,606.25,19.1,80.3,74.9,751.65,66.95,4515.85,165.0,3046.4,1808.7,7446.9,25.1,1880.85,477.55,1496.9,70.45,3563.8,24.75,2012.7,242.05,63.75,260.9,2967.35,939.7,1037.75,50.45,3624.3,100.25,1422.1,69.85,858.6,324.3,399.6,3273.55,20.9,69.4,541.15,3229.4,70.1,909.25,5283.95,1617.5,84.3,6440.25,1131.2,585.95,19.95,2186.4,3201.55,661.25,1111.85,3046.15,69.35,272.2,5293.4,50.55,80.55,916.9,1855.65,116.65,2287.25,830.7,20.0,1054.6,85.05,2110.15,547.65,8684.8,4370.25,251.75,740.3,452.7,19.45,166.3,70.0,4820.15,3409.6,1270.2,1561.5,31.55,321.75,147.15,2387.75,2660.2,4211.55,990.9,193.8,790.15,2467.75,7262.0,1914.9,5688.05,5265.1,1772.25,44.45,3067.2,20.25,74.35,62.05,3182.95,541.9,971.3,162.45,216.9,245.2,302.75,60.1,78.95,98.5,244.65,2375.4,2431.35,1451.9,71.1,6979.8,1021.8,94.0,1424.95,193.6,620.55,1993.8,2597.6,1052.35,53.95,829.55,1312.15,69.8,545.15,494.05,2841.55,486.85,204.7,2995.45,137.95,3762.0,3233.6,5438.9,1081.45,221.9,74.9,58.9,333.55,3171.15,74.7,455.5,3152.5,2530.4,3186.7,35.75,181.6,1539.45,58.15,225.6,340.85,2515.3,305.95,365.4,90.85,69.4,742.95,20.15,4816.7,1834.95,305.1,155.65,108.7,44.1,712.75,6405.0,1637.4,6145.85,1740.7,552.95,93.7,1046.5,834.2,4134.85,899.8,108.05,70.3,851.75,575.45,1375.15,152.7,195.05,1660.0,20.2,6981.35,3615.6,2184.35,1852.85,77.15,338.1,3030.6,3124.5,930.45,673.1,208.7,237.75,221.35,75.3,4062.2,4042.3,164.85,70.4,331.3,1147.45,1078.9,7804.15,226.45,4364.1,2433.9,1217.25,1743.5,69.65,713.1,526.7,3021.6,191.35,2718.3,36.45,2001.5,3825.85,933.3,3184.25,764.95,145.4,156.25,1604.5,4533.9,1587.55,842.9,1761.45,164.5,2724.6,318.5,4990.25,3744.05,7220.35,2139.2,521.3,608.0,577.6,292.85,198.0,609.9,79.65,2812.2,80.05,2698.35,1465.75,146.3,51.25,45.6,267.35,288.05,853.0,934.1,1222.8,5293.2,74.45,2345.2,2335.3,1115.15,291.4,453.75,1597.25,235.5,5639.05,799.65,50.8,144.55,2447.95,3050.15,4517.25,19.9,1200.15,70.6,389.6,523.5,2277.65,24.8,6903.1,1008.7,853.1,794.25,160.8,1174.35,741.7,3019.25,4759.75,19.65,84.65,69.55,347.25,354.05,44.35,586.05,3092.65,415.55,73.65,2405.05,4458.15,474.9,668.4,926.25,2541.25,46.0,1156.1,1167.8,3912.9,221.7,201.1,2838.7,70.15,296.1,81.1,20.55,6428.4,6252.9,240.45,315.3,55.7,973.45,669.85,267.4,69.85,53.55,6579.05,7856.0,2169.75,896.9,19.3,49.65,2460.15,370.65,1910.6,890.6,529.5,48.6,2109.35,2265.25,220.6,20.2,229.5,2470.1,1244.5,20.05,3994.45,19.9,667.7,19.95,79.6,75.9,76.2,19.25,3588.4,522.95,70.25,865.55,409.9,60.0,649.65,20.85,2011.4,6205.5,503.6,1152.7,7674.55,2157.95,7548.1,75.7,1951.0,384.5,3432.9,463.05,2867.75,71.35,1132.35,20.6,1931.75,818.05,916.75,70.15,6581.9,3692.85,69.65,89.3,3078.1,1426.75,474.8,446.1,416.3,35.85,1451.6,71.0,746.5,44.4,70.3,79.35,809.75,1470.95,3264.45,246.3,1389.2,1474.75,1460.65,153.05,2119.5,135.0,1400.55,69.65,1060.2,86.0,5785.5,79.45,2816.65,4783.5,470.6,4740.0,1448.8,4254.85,1101.85,20.2,3969.35,1237.85,498.1,294.45,2381.55,613.4,442.2,84.85,654.85,3160.55,740.3,2806.9,1422.65,4138.05,102.5,872.65,757.1,608.8,1139.2,279.55,1483.25,4653.85,4400.75,460.25,5485.5,404.2,7176.55,242.95,866.45,2076.2,7299.65,2291.2,7491.75,7723.9,1032.0,70.75,130.75,2653.65,3457.9,45.3,178.1,480.6,23.45,29.7,6039.9,151.3,55.4,90.6,156.35,2952.85,5916.45,113.35,1359.0,1777.9,4504.55,259.8,5568.35,2203.65,2369.05,672.55,1573.7,126.05,64.55,3243.45,79.25,44.9,659.65,118.5,3365.85,195.3,997.65,5275.8,80.5,305.55,900.5,3856.75,1625.0,3959.35,3969.4,470.95,560.6,25.7,506.9,80.35,76.4,514.0,880.2,69.95,93.3,169.05,35.05,73.0,2716.3,70.1,142.35,33.2,287.4,2254.2,7752.3,6585.35,19.7,413.65,714.15,2497.2,5643.4,197.7,79.15,655.85,303.15,1574.45,6441.4,49.9,1358.85,2869.85,49.25,5071.05,5769.6,20.3,700.85,181.7,4016.85,74.3,44.65,1095.3,788.8,364.55,20.4,4213.35,7723.7,154.65,7348.8,2954.5,3807.35,3937.45,418.4,50.5,74.4,2587.7,6219.6,4871.05,4398.15,167.3,94.4,55.0,101.45,350.3,69.5,18.85,69.2,69.65,4086.3,82.3,267.6,1115.2,5435.6,4186.3,25.05,712.85,48.95,45.3,167.3,930.4,5069.65,324.25,156.4,3626.1,7968.85,152.45,1130.85,4323.45,703.55,56.25,2249.95,159.4,68.65,327.45,1369.8,1107.25,70.85,134.7,2978.3,450.8,1215.6,91.7,7432.05,4026.4,25.3,1193.05,20.1,69.9,4528.0,80.8,118.3,76.45,1094.5,573.75,2274.9,74.5,1068.85,762.25,582.5,2122.05,69.15,723.4,4627.85,289.1,172.85,85.5,1096.25,228.0,5746.15,209.1,4481.0,154.85,593.75,3233.85,1062.1,5440.9,235.1,85.0,3014.65,184.4,2010.55,69.2,2354.8,3473.4,220.1,6876.05,501.0,20.2,733.35,1334.0,113.55,1348.9,308.7,438.25,50.35,3147.5,70.3,5617.75,1776.95,2483.05,5224.35,620.35,519.15,1301.7,1129.75,865.8,79.55,6014.85,2368.4,3545.35,1301.0,372.45,77.75,95.45,1135.7,2319.8,69.7,573.3,99.75,871.4,780.5,365.35,334.65,43.95,45.1,2868.05,449.75,4414.3,3361.05,69.35,4092.85,216.75,69.6,385.0,30.5,6859.5,5121.3,1127.2,1747.85,2754.45,2196.15,1692.6,20.5,265.35,1836.25,6418.9,679.85,2804.45,778.1,4367.35,2728.6,106.85,130.1,4036.85,256.25,1917.1,74.45,272.15,70.65,727.8,403.35,75.75,6886.25,306.6],\"xaxis\":\"x2\",\"yaxis\":\"y2\",\"type\":\"box\"},{\"alignmentgroup\":\"True\",\"bingroup\":\"x\",\"hovertemplate\":\"Churn Label=No\\u003cbr\\u003eTotal Charges=%{x}\\u003cbr\\u003ecount=%{y}\\u003cextra\\u003e\\u003c\\u002fextra\\u003e\",\"legendgroup\":\"No\",\"marker\":{\"color\":\"#EF553B\",\"pattern\":{\"shape\":\"\"}},\"name\":\"No\",\"offsetgroup\":\"No\",\"orientation\":\"v\",\"showlegend\":true,\"x\":[29.85,1889.5,1840.75,1949.4,301.9,3487.95,587.45,326.8,5681.1,2686.05,7895.15,1022.95,7382.25,1862.9,202.25,3505.1,2970.3,1530.6,6369.45,6766.95,181.65,1874.45,20.2,45.25,7251.7,3548.3,475.7,4872.35,418.25,4861.45,981.45,3906.7,97.0,4217.8,4254.1,3838.75,1752.65,4456.35,6311.2,7076.35,894.3,7853.7,4707.1,5450.7,2962.0,957.1,244.1,3650.35,2497.2,930.9,887.35,49.05,1090.65,7099.0,1424.6,177.4,6139.5,2688.85,482.25,2111.3,1216.6,565.35,4327.5,973.35,918.75,2215.45,1057.0,927.1,1009.25,2570.2,74.7,5714.25,7107.0,7459.05,4748.7,1107.2,20.2,19.45,3605.6,3027.25,100.2,7303.05,927.65,3921.3,1363.25,3042.25,3954.1,3423.5,248.4,1126.35,835.15,2151.6,5515.45,112.75,350.35,62.9,3027.65,1723.95,19.75,3985.35,1215.65,3260.1,1188.2,1778.5,1277.75,1170.55,6425.65,5971.25,5289.05,1756.2,6416.7,61.35,1929.95,1071.4,564.35,7930.55,5215.25,113.5,1152.8,1821.95,419.9,1024.0,251.6,764.55,135.2,3958.25,233.9,1363.45,6254.45,321.4,3539.25,1181.75,654.55,780.2,1559.25,1252.0,45.3,2453.3,1023.85,82.15,244.8,2379.1,3173.35,1375.4,8129.3,1192.7,1901.65,587.4,6519.75,8041.65,20.75,2681.15,1112.3,7405.5,1033.95,2958.95,2684.85,4179.2,6654.1,25.25,1124.2,540.05,1975.85,3437.45,3139.8,3789.2,5324.5,624.6,1836.9,20.2,219.35,1288.75,2545.75,2723.15,4107.25,5760.65,4747.5,1566.9,702.0,299.05,1305.95,284.35,6350.5,7878.3,3187.65,6126.15,731.3,273.4,2531.8,4298.45,4619.55,2633.3,193.05,4103.9,7008.15,5791.1,1228.65,4925.35,1520.1,5032.25,5526.75,1195.25,2007.25,1732.95,3450.15,2172.05,1339.8,771.95,244.75,322.9,498.25,25.4,3687.75,1783.6,927.15,2021.2,1940.8,567.8,220.35,20.25,5436.45,3437.5,3015.75,1509.8,356.65,4109.0,3141.7,1229.1,2054.4,3741.85,3682.45,19.25,1886.25,4895.1,341.6,5686.4,1355.1,3236.35,4264.0,44.8,422.3,4176.7,5138.1,880.05,973.65,1470.05,739.35,161.95,4422.95,6148.45,3565.65,1830.1,6223.8,4508.65,1328.15,865.0,72.1,1303.5,996.85,6430.9,2278.75,681.4,574.35,889.0,6823.4,4016.75,83.75,3959.15,2878.55,945.7,1373.05,1406.0,19.15,6962.85,8126.65,690.25,830.8,5608.4,3646.8,3662.25,25.35,5308.7,1410.25,3339.05,4732.35,5067.45,2348.45,4063.0,44.0,2595.25,2309.55,89.3,367.55,3944.5,5965.95,3694.7,1803.7,415.1,624.15,237.7,3848.8,419.4,1468.75,5812.0,2861.45,1066.15,2149.05,4473.0,3545.05,1195.75,6858.9,1024.7,132.25,515.45,2830.45,1110.5,449.3,2838.55,5376.4,858.6,1395.05,3975.7,4784.45,119.5,899.45,1183.8,720.05,8468.2,3161.2,55.05,1882.55,5070.4,6049.5,1166.7,2937.65,1270.25,759.55,7611.55,1642.75,1545.4,3582.4,1417.9,2494.65,2768.35,2369.3,38.0,75.1,100.9,1614.05,8404.9,2799.75,6538.45,6588.95,868.1,330.6,564.4,1315.35,2747.2,554.05,225.75,1671.6,8003.8,6130.85,1415.0,6201.95,0.0,6597.25,114.15,3902.6,20.4,1785.65,1397.65,3899.05,5676.0,4543.15,4326.8,5502.55,851.8,19.85,1818.3,6300.15,5916.95,2852.4,1546.3,302.6,265.45,6989.45,1442.0,4713.4,4738.3,8399.15,5430.35,686.95,5706.3,490.65,1360.25,174.45,7379.8,1021.75,5029.05,1955.4,6744.2,4946.7,8248.5,601.6,19.55,2647.2,6744.25,5265.5,311.6,7966.9,8220.4,1153.25,514.75,3808.0,19.9,2708.2,760.05,49.3,6033.3,89.05,516.15,5861.75,445.95,4973.4,1667.25,5357.75,422.6,1103.25,2754.0,697.25,3204.4,4747.65,3082.1,597.9,3365.4,38.8,19.0,61.7,3342.45,85.1,7422.1,6668.05,8071.05,1174.8,5435.0,2438.6,45.6,916.15,237.2,4614.55,1414.45,1170.5,47.7,4859.25,4903.2,3608.0,6094.25,3084.9,2356.75,8306.05,1357.1,4860.35,3418.2,631.4,186.3,6976.75,4884.85,522.95,362.6,5755.8,3355.65,406.95,2395.7,1968.1,6819.45,7943.45,2473.95,6562.9,176.3,2236.2,3109.9,4911.35,1620.2,4287.2,394.85,3442.15,1732.6,655.3,475.25,865.1,6132.7,3597.5,697.65,428.7,20.05,4459.15,1167.6,238.1,1453.1,4039.3,1039.45,1336.1,493.4,7246.15,1203.95,313.6,3775.85,4616.05,195.65,4188.4,71.1,49.9,1266.4,1623.4,4149.45,20.45,2344.5,1013.05,417.0,20.65,6316.2,4018.05,4811.6,4189.7,2848.45,2516.2,33.6,208.45,3739.8,2964.0,2263.4,2211.8,1683.7,1519.0,1164.05,1710.9,4245.55,4145.9,2664.3,1277.5,5589.3,34.75,1305.95,204.55,605.9,356.1,4805.65,92.75,1901.05,5730.7,2423.4,1653.45,3327.05,7085.5,3344.1,6697.35,2879.9,137.1,1551.6,202.15,7882.25,8196.4,202.9,855.1,5817.0,1652.95,5600.15,515.75,0.0,190.5,1253.8,57.2,6563.4,20.8,4758.8,1292.6,363.15,1600.25,275.7,3089.1,1175.6,237.3,8065.65,92.5,6152.3,5154.5,220.45,1510.3,2588.95,3983.6,2003.6,1832.4,4908.25,3590.2,5023.0,146.6,2339.3,298.7,143.65,2548.65,507.4,20.0,5411.4,903.8,3009.5,5468.45,1058.1,7616.0,1108.2,938.65,94.15,2088.05,5656.75,5986.45,6751.35,3566.6,4889.3,318.1,1563.95,372.45,1442.6,963.95,5222.3,3340.55,5774.55,4487.3,2854.95,905.55,7589.8,394.1,295.95,5459.2,444.75,6782.15,6510.45,8476.5,4461.85,62.0,352.65,1424.9,6309.65,5898.6,4719.75,457.3,5822.3,2337.45,104.3,121.25,7015.9,5598.0,1269.1,4634.35,113.95,3077.0,4039.5,1665.2,504.2,7511.65,1782.0,20.05,609.65,2857.6,3247.55,2823.0,2619.25,4965.1,2679.7,8310.55,5682.25,4914.9,27.55,6068.65,5398.6,234.85,1231.85,170.9,7984.15,1288.3,7848.5,267.0,1798.9,1643.55,4807.45,2193.0,2239.4,1505.9,255.35,1189.4,4786.15,1820.9,2404.15,7039.45,2538.05,1212.85,2651.1,1304.8,435.45,308.05,0.0,7118.9,320.45,531.55,382.2,2001.0,4919.7,5645.8,77.6,2896.55,759.35,535.55,1253.15,955.15,2162.6,1813.35,245.15,2028.8,2723.75,220.45,365.8,551.95,4054.2,60.65,5550.1,4733.1,4048.95,4542.35,888.65,1916.0,413.0,808.95,1886.4,1679.25,540.95,19.75,537.35,678.8,4513.65,1423.85,555.4,225.55,268.45,1492.1,132.4,284.9,784.25,417.7,5016.25,485.2,160.85,4145.25,827.45,49.5,5585.4,1601.2,162.45,470.2,2066.0,1426.45,392.5,3861.45,2552.9,6668.35,4615.25,3557.7,1957.1,1416.75,5924.4,1697.7,7849.85,649.4,4557.5,360.35,1046.5,447.75,4209.95,3877.65,152.3,572.2,552.7,3208.65,620.75,505.9,8046.85,1815.3,612.95,795.15,973.1,2210.2,1055.9,1304.85,21.1,5580.8,1497.9,4590.35,200.2,614.45,4564.9,0.0,1012.4,2766.4,1129.35,5680.9,2243.9,4523.25,7159.7,2839.95,80.55,580.1,6038.55,259.4,324.15,417.65,5637.85,839.4,769.1,6253.0,1641.8,1678.05,2058.5,2424.5,6293.45,3145.9,2200.7,914.4,4577.75,4997.5,4144.8,1493.55,4179.1,1611.0,593.05,1533.8,529.8,3865.6,515.75,48.35,2070.05,8333.95,1209.25,1396.25,723.35,228.65,1161.75,98.35,775.3,1074.65,2324.7,1072.6,170.5,1677.85,18.85,370.4,3410.6,1138.8,5264.25,1005.7,5936.55,5475.9,2326.05,4991.5,5831.2,510.8,283.95,1295.4,19.65,3011.65,8093.15,3217.65,773.2,1029.35,3593.8,3953.15,1971.15,3196.0,4872.2,1500.5,3478.75,7413.55,3532.0,256.75,3887.25,2490.15,3510.3,765.45,1259.35,5538.35,340.85,844.45,1348.95,3778.0,611.65,1505.05,467.85,194.2,571.45,5253.95,521.35,1412.65,1090.6,1446.8,4300.45,1111.2,190.1,4447.75,1830.05,2820.65,4847.35,4729.3,4017.45,1398.6,1685.9,5826.65,6066.55,270.2,168.6,536.35,1888.45,629.35,2117.25,4730.9,2033.05,5744.35,19.45,4805.3,6110.75,1596.6,1046.2,92.75,194.55,612.1,6671.7,5264.3,303.7,4818.8,7159.05,1574.5,2879.2,86.05,4159.45,6638.35,3112.05,7168.25,1326.25,2234.55,495.15,8317.95,679.8,62.8,7544.0,1188.25,74.1,3242.5,1240.15,4111.35,5899.85,5193.2,7530.8,5460.2,1614.2,402.5,1367.75,7962.2,3810.8,3533.6,1396.9,1646.45,2680.15,2049.05,3629.2,202.3,147.5,86.35,579.0,3131.55,3928.3,187.75,1710.15,2151.6,1221.55,1496.45,1292.2,25.15,1713.1,1748.9,1114.55,609.1,0.0,141.6,4688.65,563.05,5985.0,373.5,2553.35,4322.85,250.8,4549.05,1359.5,178.85,633.85,5315.1,735.5,6474.4,4421.95,4904.85,4484.05,2033.85,538.2,2192.9,19.85,3858.05,854.8,5815.15,3970.4,3058.15,6145.2,129.2,1165.9,4904.25,5632.55,1643.25,740.55,4888.2,2440.25,620.55,20.35,6840.95,319.6,1938.05,294.5,58.3,546.45,797.1,1673.8,343.45,7412.25,4039.0,2948.6,6078.75,3418.2,6603.8,3166.9,865.75,6373.1,1177.05,5985.75,7869.05,936.7,741.4,6585.2,3122.4,1088.25,615.35,2908.2,739.9,593.85,7227.45,1291.35,2023.55,153.95,5458.8,5244.45,154.55,4507.15,2031.95,50.05,473.9,106.8,152.6,1199.4,2555.05,2979.2,654.85,3834.4,4586.15,5941.05,2234.95,666.75,547.8,74.6,571.15,1756.6,5731.45,156.85,2683.2,4456.65,6998.95,36.8,2265.0,1309.15,4754.3,1235.55,3562.5,7213.75,5914.4,51.25,1282.85,4738.85,19.55,795.65,4993.4,61.45,4018.55,6081.4,1478.85,243.65,2633.95,4735.35,1247.75,3794.5,1008.7,2130.55,5727.15,1372.9,1203.9,1215.1,2877.05,1579.7,5514.95,96.1,55.25,2443.3,335.4,7002.95,158.95,293.15,1493.75,1093.4,1057.85,882.55,300.4,1436.95,475.0,5388.15,5730.15,217.1,4896.35,1434.1,937.1,1474.9,6536.5,1128.1,2199.05,457.1,566.5,2471.6,3107.3,518.3,832.3,45.3,1790.6,246.6,261.65,4509.5,5480.25,653.15,1183.05,639.45,478.75,20.05,4391.45,270.6,3975.9,1497.05,780.15,3512.15,273.25,3517.9,3375.9,7508.55,1245.05,5347.95,493.65,1263.85,385.55,84.2,1638.7,120.25,4473.45,520.55,5717.85,4312.5,6511.25,1218.65,7447.7,279.5,5720.35,3121.45,6468.6,675.6,3521.7,923.1,1110.35,1611.65,5553.25,44.75,3231.05,5129.45,1191.2,866.4,2627.2,4741.45,4009.2,43.8,3707.6,220.45,1133.7,1983.15,5746.75,134.05,6230.1,573.05,3419.3,3801.3,4859.1,1439.35,592.75,1185.95,18.8,4921.2,901.25,4859.95,1139.2,7082.45,663.55,174.65,321.7,5125.5,548.9,7031.3,5016.65,611.45,319.85,153.3,7035.6,344.2,1431.65,1849.2,6083.1,426.65,1655.35,1943.9,314.95,804.85,465.7,6669.05,1161.75,947.75,8375.05,3770.0,4707.85,6152.4,958.1,943.0,425.1,5044.8,6743.55,196.4,2093.9,417.75,1725.4,1620.2,3169.55,5233.25,967.85,438.05,1421.9,323.15,318.6,163.7,2928.5,100.35,273.2,1608.15,1441.95,2168.15,3618.7,5692.65,5969.3,19.05,8100.55,313.45,6130.95,745.3,1212.1,1583.5,4162.05,1119.9,8013.55,1102.4,5832.0,4304.5,1421.75,6827.5,4698.05,654.5,3268.05,4362.05,1386.9,415.4,2614.1,1513.6,3161.6,80.95,4676.7,6526.65,583.3,8078.1,3503.5,6669.45,1292.65,48.75,7108.2,1802.55,1505.15,1859.1,168.5,6339.45,1652.4,6392.85,4599.15,1134.25,1621.35,2722.2,3058.3,1769.6,6293.75,1642.75,578.5,954.9,43.85,1490.4,280.0,1901.25,716.4,4720.0,930.95,6770.85,1835.3,1588.25,75.5,258.35,1502.25,19.2,6929.4,4453.3,3244.4,323.45,1401.15,1739.6,5931.0,2333.85,949.85,572.45,696.8,1381.8,47.95,45.0,4931.8,116.95,1261.7,3273.8,1415.85,3958.2,2492.25,279.2,1083.0,755.5,3252.0,936.85,3857.1,1378.45,2566.3,171.0,1597.4,4744.35,6721.6,44.05,1734.65,45.55,4539.35,804.25,5011.15,3574.5,8086.4,4563.0,6362.35,67.1,1156.55,1834.15,1477.65,1706.45,3953.7,1327.85,419.7,207.35,1083.7,2007.85,5882.75,2657.55,1612.2,76.65,260.7,6441.85,266.8,962.25,1382.9,571.05,1399.35,150.0,167.2,7657.4,865.05,6153.85,174.2,1269.6,6352.4,1348.5,471.55,5931.75,1404.65,726.1,1961.6,4194.85,81.05,76.95,5809.75,20.2,415.9,996.95,3145.15,265.3,20.9,21.05,4576.3,189.1,908.15,49.8,1500.95,5099.15,6385.95,6885.75,668.85,1916.2,4613.95,7261.25,2459.8,2048.8,163.55,2888.7,2421.6,2292.75,553.4,3465.7,1291.3,5200.8,3237.05,433.75,1868.4,5728.55,390.4,2845.15,3894.4,886.4,1021.55,268.4,2204.35,6398.05,1662.05,3600.65,1329.15,422.5,4627.65,6717.9,637.4,117.95,2460.55,5731.85,4616.1,589.25,750.1,1410.25,743.5,3865.45,6825.65,1340.1,1184.0,8477.7,7382.85,456.85,331.6,134.6,125.5,2511.3,2737.05,74.3,70.6,6404.0,165.35,1867.6,1043.3,128.6,7455.45,24.7,206.15,5869.4,3377.8,1346.2,4946.05,4964.7,4085.75,6224.8,3415.25,6325.25,1683.6,3966.3,608.5,2896.6,1514.85,6792.45,4669.2,6302.8,779.2,283.75,5594.0,772.85,857.8,7554.05,5981.65,1702.9,467.15,1941.5,1932.75,1423.05,970.85,5810.9,223.9,391.7,811.65,174.75,3126.85,6841.45,1406.65,834.7,3157.0,3092.0,2168.9,980.35,65.95,711.9,1952.8,4368.85,2647.1,8477.6,4528.0,1790.65,845.6,1210.3,20.45,854.45,2429.1,5229.45,44.45,3023.55,2032.3,436.9,20.15,5893.95,1430.05,313.0,3871.85,458.1,341.35,1336.8,2181.75,147.75,818.45,7133.45,348.8,128.6,4674.4,1737.45,1498.85,50.1,1797.75,498.1,5498.8,4845.4,369.1,6096.9,2684.35,6994.8,273.25,5483.9,4985.9,1258.35,111.4,43.95,308.1,383.65,1284.2,7550.3,1110.05,99.6,6707.15,4164.4,5873.75,109.25,862.4,8564.75,926.2,1718.2,5956.85,4824.45,1238.65,672.2,382.2,4264.6,1070.7,1345.85,1045.25,3003.55,7537.5,3343.15,161.15,7028.5,5232.9,225.85,274.7,3370.2,7111.3,5958.85,5999.85,1648.45,5753.25,4492.9,3956.7,1309.0,813.45,1108.8,7349.35,294.2,929.2,754.5,3883.3,1414.2,3211.2,371.6,1246.4,95.85,2545.7,6448.85,1468.9,1013.6,6690.75,7240.65,830.25,1588.7,829.3,302.45,712.25,1336.65,5360.75,6735.05,51.2,1010.0,4847.05,3019.7,161.65,2583.75,7711.25,5481.25,8124.2,827.3,3673.6,49.85,576.65,4495.65,340.35,1789.9,908.55,157.55,581.7,420.45,7576.7,4965.0,6151.9,45.2,5420.65,2627.35,743.75,6589.6,6733.15,3410.0,199.85,593.3,7288.4,5229.8,4464.8,5068.05,401.85,4451.85,6688.95,2661.1,73.05,1211.65,7030.65,1020.2,5597.65,6223.3,1024.65,82.9,7789.6,2067.0,3452.55,5468.95,1802.15,733.55,3021.45,3687.85,1391.15,274.35,1322.85,2196.3,7843.55,3211.9,130.15,692.35,85.5,6849.4,203.95,2117.2,6565.85,424.75,3306.85,168.9,253.8,197.4,3838.2,2065.15,5064.45,1140.05,2447.45,1263.9,1838.15,44.75,1185.0,1743.9,8529.5,6549.45,7806.5,25.7,6287.3,3251.85,50.6,7904.25,729.95,2654.05,5969.95,226.8,1082.75,565.75,4370.75,90.05,2169.4,550.6,55.45,6300.85,160.05,436.6,1781.35,5552.5,2835.5,3591.25,63.75,617.15,870.25,601.25,111.65,6046.1,3923.8,892.15,1682.05,3398.9,4984.85,305.55,507.9,2673.45,389.8,2401.05,651.55,156.1,2796.35,70.05,407.05,511.25,646.05,4903.15,1653.85,1306.3,463.6,60.65,824.85,2094.65,438.9,329.75,674.55,162.55,7887.25,1972.35,490.55,683.25,8058.85,294.45,1719.15,1160.45,5199.8,5163.3,162.3,883.35,1341.5,70.45,659.45,1205.05,4917.9,599.3,1733.15,4677.1,119.3,4849.1,5424.25,5878.9,244.85,220.75,4261.2,1501.75,89.75,255.5,2509.25,1440.75,5333.35,3895.35,869.9,512.25,814.75,388.6,93.45,1389.85,2894.55,4025.6,1354.4,1856.4,926.0,682.1,1778.7,1816.2,7069.25,1841.2,2656.7,1689.45,1054.75,7334.05,2404.85,171.45,2839.45,3942.45,873.4,1529.65,6991.6,715.0,1681.6,4016.2,3281.65,7317.1,6474.45,8164.1,1325.85,1654.85,7795.95,3952.45,2495.15,876.75,4263.45,1992.95,1982.1,562.7,33.7,1090.1,227.45,1250.85,37.2,892.7,487.75,3713.95,141.7,678.2,8425.3,7061.65,3364.55,332.5,5963.95,278.85,1871.85,4303.65,1753.0,617.65,5935.1,982.95,2974.5,198.7,1275.65,4003.0,3791.6,813.3,780.25,552.9,408.25,2191.15,5611.7,246.25,1296.15,7082.85,5662.25,1215.45,7854.15,525.0,5265.2,70.1,7129.45,7266.95,8496.7,2878.75,261.3,3205.6,1137.05,6697.2,505.45,1299.8,5564.85,1381.8,188.1,1077.05,4922.4,2911.5,826.1,83.4,5377.8,3617.1,6643.5,1559.3,7987.6,1547.35,2142.8,287.85,19.8,4534.45,40.9,2094.9,1584.8,1302.65,55.55,5437.75,2209.15,1912.15,255.55,5175.3,670.65,3177.25,6557.75,5791.85,3055.5,5196.1,8405.0,5000.05,6713.2,562.6,91.45,828.85,617.35,625.05,6029.9,1842.7,7386.05,7334.05,2626.15,8277.05,369.25,1049.05,1414.8,169.75,4354.45,2719.2,6365.35,51.6,3190.25,812.5,1143.8,44.0,3297.0,1887.0,2215.4,482.8,216.45,20.45,5064.85,996.45,839.65,6733.0,2618.3,4084.35,613.95,402.85,1244.8,46.4,581.85,1540.2,5168.1,6780.1,94.5,55.3,208.0,3829.75,5294.6,6889.8,3254.35,6383.9,4447.55,7321.05,4135.0,697.7,168.65,2753.8,69.25,434.8,107.25,851.2,5848.6,109.8,19.65,595.5,2513.5,5135.35,2000.2,931.75,7396.15,3958.85,260.9,816.8,4868.4,688.0,288.35,185.4,966.25,265.8,3297.0,4107.3,2809.05,1567.55,1851.45,6028.95,2072.75,4317.35,736.8,336.15,1522.65,4959.6,1001.5,442.6,6703.5,779.25,3483.45,4890.5,136.75,184.15,1315.0,6767.1,757.95,1657.4,3008.55,8165.1,875.55,220.65,1301.9,790.0,1237.65,378.6,592.65,50.15,20.45,3638.25,2921.75,4017.45,854.9,4174.35,4920.55,810.3,772.4,1936.85,79.8,202.25,1070.5,999.9,113.1,2015.8,1454.25,246.7,6017.9,5817.45,5595.3,4765.0,1201.65,867.3,50.15,3007.25,252.75,6306.5,6841.05,44.6,226.2,7082.5,1017.35,527.35,2146.5,5969.85,1014.25,1225.65,386.5,1850.65,1043.4,1910.75,716.1,1686.15,6716.45,7839.85,6236.75,2919.85,20.45,717.5,253.8,1110.05,348.8,3888.65,6843.15,450.9,432.25,1742.45,297.35,2444.25,949.8,2970.8,3334.95,2010.95,4684.3,2181.55,1303.25,371.4,2409.9,6155.4,4667.0,5153.5,8182.85,69.9,6683.4,1564.05,755.6,3465.05,6292.7,1664.3,198.1,6045.9,4108.15,5980.75,5043.2,7114.25,907.05,973.95,605.75,661.55,4116.9,4494.65,3282.75,55.7,1274.45,493.95,5038.15,324.2,19.55,2793.55,648.65,917.15,1346.9,672.7,6561.25,268.45,7337.55,5194.05,4478.85,196.9,439.2,19.5,2107.15,3035.8,1866.45,1430.95,1071.6,6457.15,684.05,3914.05,3842.6,670.35,7880.25,19.2,3371.75,442.45,20.4,2345.55,25.25,1156.35,144.8,414.95,181.8,2212.55,459.95,211.95,25.0,3162.65,210.65,3566.7,2080.1,4040.2,5186.0,1087.45,1672.15,1113.95,107.05,38.15,6339.3,184.1,1688.9,137.6,369.05,7553.6,1813.1,3321.35,707.5,7112.15,4641.1,49.9,3094.65,6518.35,82.7,6342.7,2030.75,6700.05,7244.7,3486.65,411.15,1559.15,970.4,828.2,3810.55,1493.2,45.8,777.3,4911.05,187.35,307.6,4318.35,4820.55,3038.55,2136.9,7472.15,2296.25,38.45,3043.6,1506.4,163.7,1640.0,3846.35,5646.6,79.05,1516.6,2224.5,888.75,4310.35,42.9,353.65,5073.1,4526.85,678.45,1237.3,1023.95,8182.75,4532.3,1444.05,19.1,7325.1,3474.2,392.65,3990.75,7475.85,835.5,1718.35,1193.55,1205.5,5776.45,78.9,1025.15,122.0,6602.9,1712.9,5682.25,74.3,3635.15,702.9,4454.25,1117.55,930.05,110.15,1669.4,3545.1,504.05,440.2,1151.55,2475.35,1249.25,317.75,535.05,461.3,335.75,3121.4,324.8,1394.55,3413.25,3143.65,439.75,664.4,4759.55,1033.0,3482.85,2688.45,435.25,307.0,2689.35,1281.25,3527.0,561.15,63.6,5129.3,4285.8,5894.5,1160.75,3091.75,272.95,3632.0,381.2,1035.5,52.0,653.9,71.2,4178.65,1821.8,4024.2,55.25,6520.8,854.9,8308.9,109.2,92.05,3420.5,4068.0,337.9,3168.75,1412.4,3974.7,3439.0,42.45,5461.45,571.75,5498.2,96.85,111.05,94.4,923.85,141.1,628.65,5576.3,1245.6,1287.85,1939.35,118.25,452.55,2696.55,875.35,1267.05,494.9,799.0,106.9,710.05,568.2,8012.75,551.3,184.95,1096.65,3684.95,1752.45,7210.85,5264.5,2157.3,24.4,433.95,5607.75,4433.3,964.35,1460.85,951.55,1821.2,1600.95,399.25,3634.8,292.4,218.55,5071.9,1423.35,3068.6,4690.65,6157.6,1442.65,3369.05,4671.65,272.35,3645.05,135.75,1319.85,229.4,370.25,5714.2,1233.25,3571.6,83.3,8035.95,579.4,7634.25,3653.0,241.3,3870.3,387.9,527.5,2104.55,20.3,19.2,3019.1,7051.95,1190.5,4448.8,1011.05,1714.95,535.35,75.55,6273.4,70.25,908.75,0.0,212.3,316.2,1079.05,564.65,6161.9,2106.05,2511.55,318.6,7323.15,186.05,454.0,7521.95,999.8,2369.7,6297.65,1461.45,416.4,4869.35,3265.95,358.15,2939.8,4652.4,4408.45,580.8,2495.2,5913.95,1389.35,19.4,1629.2,6033.1,44.4,3320.75,1867.7,3972.25,155.9,3673.15,70.6,1126.75,73.45,2413.05,6912.7,1581.95,5586.45,5846.65,6424.7,6018.65,3373.4,1537.9,1080.55,82.85,2016.45,5327.25,683.25,1263.05,7714.65,130.5,2621.75,1875.25,837.5,401.5,6118.95,6480.9,1800.05,7104.2,4214.25,1992.2,1948.35,1007.9,5036.9,6859.05,6521.9,617.85,157.75,516.3,2364.0,6239.05,2042.05,2807.1,4116.8,1317.95,4594.65,6332.75,3213.75,4976.15,7308.95,4555.2,44.95,6982.5,1025.15,5714.2,19.5,789.55,4834.0,3131.8,3369.25,2674.15,199.75,1790.8,19.7,1400.3,411.6,741.0,5841.35,5688.45,31.9,6674.65,1345.75,1843.05,1433.8,214.55,865.85,1358.6,3147.15,4535.85,1078.75,542.4,2312.55,3250.45,98.5,87.9,1952.25,153.8,5610.15,4519.5,2440.25,6860.6,1377.7,190.25,1651.95,78.3,7939.25,44.9,576.7,1279.0,1260.7,267.35,6586.85,934.15,19.45,3645.6,314.45,3053.0,677.05,7965.95,140.1,1108.0,295.55,198.25,6741.15,79.15,1355.45,7209.0,7726.35,2070.75,1636.95,7581.5,4729.75,6126.1,6333.4,6687.85,4158.25,7149.35,1429.65,472.65,113.5,1884.65,2568.15,470.0,278.4,2595.85,5825.5,4449.75,1956.4,310.6,290.55,2096.1,2665.0,543.8,20.35,3005.8,1623.15,2586.0,3292.3,4674.55,232.35,2448.5,658.1,3128.8,653.95,1825.5,943.1,359.4,2338.35,46.3,3541.1,1087.25,2522.4,717.3,1734.2,7069.3,742.9,6423.0,4220.35,1558.7,2743.45,4055.5,6055.55,2538.2,6129.2,1750.85,6652.45,2575.45,6019.35,1379.6,1284.2,296.15,653.25,412.6,1928.7,71.25,7845.8,1750.7,216.2,6029.0,3721.9,3121.1,990.45,1004.35,157.65,3219.75,572.85,4554.85,1847.55,1766.75,1462.05,2193.2,2433.5,641.15,2398.4,861.85,583.0,7332.4,249.55,4475.9,788.6,202.3,6994.6,2263.45,1374.35,4915.15,838.5,20.5,2044.75,30.55,1398.25,3778.2,3161.4,2188.45,3990.6,2635.0,235.0,2347.85,3089.6,2901.8,4949.1,2198.9,761.95,190.25,5163.0,4059.85,2281.6,1356.7,231.45,50.75,242.4,4264.25,2774.55,4069.9,874.2,1323.7,5497.05,534.7,2455.05,947.4,357.0,1476.25,5903.15,1201.65,146.65,1759.4,844.45,7774.05,134.05,140.95,1701.65,592.65,135.75,7732.65,4282.4,2018.1,224.85,3771.5,943.85,6572.85,3175.85,29.15,20.05,2762.75,49.55,232.5,5919.35,749.25,245.15,134.75,8240.85,4266.4,1077.5,1115.6,4079.55,2391.15,890.5,137.25,3119.9,529.5,966.55,6936.85,1929.0,5817.7,178.8,435.0,186.15,445.85,912.0,3581.6,4222.95,5930.05,20.0,797.25,1359.45,54.7,989.05,44.55,87.3,351.55,7297.75,6301.7,3822.45,1048.45,6393.65,1489.3,8061.5,518.75,5763.15,238.5,1031.7,0.0,34.8,1319.95,3950.85,827.05,533.5,3756.45,2599.95,284.3,1740.8,2462.55,411.75,198.6,103.7,4089.45,864.2,19.65,3249.4,5405.8,3363.8,7132.15,93.55,4138.9,5121.75,566.1,2715.3,1782.05,1742.5,24.0,485.9,1905.7,4858.7,3723.65,970.45,1782.0,405.7,2415.95,8297.5,2083.1,4681.75,176.2,1001.2,1594.75,212.4,7677.4,259.65,2386.85,340.35,419.35,7990.05,1402.25,749.35,8425.15,1171.5,5647.95,708.8,7567.2,29.9,4348.1,635.9,1682.4,6925.9,223.15,6758.45,1874.3,791.15,4639.45,143.9,6172.0,1559.45,6079.0,2658.4,383.55,1745.5,2230.85,7281.6,1837.7,180.7,411.45,1328.35,576.95,68.45,123.05,468.35,174.7,44.0,172.35,300.4,4968.0,992.7,5536.5,7806.6,1563.9,1332.4,6296.75,3645.5,161.45,226.95,1441.65,7511.3,5621.85,7919.8,593.2,1423.65,69.95,2763.35,2298.55,2640.55,2911.8,6705.7,237.65,1672.35,695.75,1654.6,1857.85,825.1,6424.25,4126.2,330.8,1337.45,5991.05,4891.5,487.05,4131.2,2301.15,4036.0,4900.65,5727.45,743.05,4804.65,1414.65,1443.65,2898.95,5309.5,20.4,451.55,117.05,5839.3,1893.5,45.35,1654.45,477.05,4546.0,163.2,849.9,189.95,8058.55,7049.75,2560.1,286.8,7982.5,5683.6,3994.05,369.15,4631.7,401.95,1534.05,1093.0,701.3,1980.3,2893.4,262.3,3886.85,5917.55,2139.1,5948.7,3624.35,4753.85,5780.7,6869.7,662.95,1765.95,2431.95,1859.2,3409.1,709.5,50.15,3665.55,5515.8,272.0,6668.0,4052.4,664.4,718.55,2546.85,6944.5,1346.3,765.15,692.55,1187.05,5401.9,247.0,49.9,1370.35,20.25,2215.25,74.0,214.4,1871.15,6171.2,161.45,1013.2,336.7,333.65,6511.8,393.45,7009.5,6921.7,600.25,4664.15,1441.8,5623.7,695.85,1028.75,4155.95,395.6,6330.4,2971.7,638.0,2034.25,3419.5,2427.35,1760.25,3551.65,122.9,1424.2,2909.95,374.0,5581.05,5676.65,3379.25,942.95,232.4,2088.45,1434.6,3870.0,2215.0,842.25,1901.0,601.6,605.45,3094.05,4929.55,595.05,8436.25,19.75,492.0,987.95,5496.9,1908.35,107.1,4575.35,4309.55,7922.75,522.35,587.7,3876.2,3778.85,8349.45,19.5,1066.9,1226.45,342.3,985.05,3948.45,828.05,6164.7,33.6,20.7,6590.5,717.95,4885.85,6871.7,405.6,208.25,1801.9,3062.45,1764.75,1816.75,1255.1,3921.1,1463.45,189.45,96.8,408.5,1846.65,8456.75,1011.5,4263.4,2549.1,3965.05,7840.6,6632.75,1013.35,152.95,3772.65,1026.35,19.3,5031.85,220.4,1416.5,158.35,5542.55,8443.7,5708.2,2016.3,326.65,5471.75,19.95,1061.6,1971.5,19.75,2460.35,856.5,1275.85,7467.5,7261.75,5116.6,660.05,6590.8,1208.15,1033.9,1885.15,2006.95,5025.0,3088.25,3134.7,8312.4,4863.85,6637.9,3165.6,6786.1,543.0,867.3,25.75,109.5,4692.95,546.85,1274.05,1782.4,5301.1,280.35,2897.95,3371.0,801.3,1079.45,6997.3,979.05,4119.4,3349.1,492.1,1718.95,605.25,1344.5,4267.15,1121.05,918.7,521.8,4469.1,1729.35,1073.3,4566.5,2603.1,1783.75,6322.1,57.4,4284.65,7138.65,1539.75,1058.1,123.8,2731.0,20.75,497.3,711.15,1898.1,3273.95,2929.75,838.7,1443.65,7746.7,6951.15,214.75,2669.45,235.2,3103.25,5330.2,1403.1,2727.8,5038.45,1462.6,150.6,5960.5,1192.3,314.55,56.0,330.8,877.35,2249.1,2807.65,1696.2,1032.05,4902.8,4995.35,5034.05,1857.75,1992.85,1714.95,343.6,20.15,520.1,1387.45,7383.7,4483.95,1706.45,1327.4,5974.3,0.0,179.85,5040.2,422.7,20.25,358.05,2936.25,1271.8,530.05,19.2,1144.6,7556.9,4858.7,6595.0,149.05,4972.1,2045.55,2187.15,2976.95,178.7,5025.85,3353.4,1461.15,2782.4,1699.15,452.2,4428.45,1322.55,139.75,1927.3,3000.25,3021.3,2245.4,944.65,1264.2,4917.75,5743.3,1864.65,1221.65,1390.85,302.35,1374.9,1336.9,1297.8,6067.4,1222.25,487.95,2548.55,835.5,44.75,6218.45,7320.9,6333.8,4200.25,5950.2,93.4,1614.9,1573.95,1468.75,2607.6,1523.4,3435.6,4549.45,322.5,5375.15,2510.7,3090.05,61.05,955.6,140.4,1493.1,1626.05,1784.9,70.35,6075.9,5500.6,73.1,3399.85,6431.05,19.75,1230.9,454.65,235.05,6595.9,5867.0,196.35,6449.15,762.45,785.75,1776.0,5396.25,574.5,400.3,2656.3,1445.95,5212.65,2244.95,1130.0,6463.15,6252.7,2062.15,587.1,720.45,2979.3,956.65,3973.2,447.9,1335.2,7555.0,49.0,836.35,20.95,2570.0,798.2,44.15,6487.2,1556.85,1988.05,5432.2,147.55,8424.9,2203.7,387.4,3045.75,130.5,767.9,446.8,8100.25,4689.15,6754.35,3540.65,2184.6,130.55,1540.35,6411.25,1432.55,7629.85,101.9,313.4,6312.9,629.55,2640.55,1372.45,1212.25,6237.05,6310.9,5031.0,8672.45,2196.45,3008.15,220.8,5779.6,222.65,914.6,246.3,5560.0,1633.0,969.85,2610.65,6567.9,4747.85,1759.55,101.1,6496.15,4234.15,300.7,59.55,4323.35,1466.1,1776.45,2933.95,144.35,4804.75,1125.2,39.85,422.4,8332.15,314.6,4331.4,6382.0,600.15,5538.8,7049.5,690.5,279.3,1427.55,1709.15,53.15,777.35,860.85,5012.1,2404.1,24.4,209.9,610.75,70.7,155.35,144.0,7875.0,911.6,478.1,761.85,2282.95,1615.1,1097.15,369.3,6725.3,6293.2,432.5,2434.45,532.1,375.25,125.95,1042.65,1620.25,659.35,1285.8,377.55,6058.95,964.9,2322.85,4854.3,7748.75,6470.1,57.4,2019.8,1522.7,1334.5,252.0,700.45,5655.45,6747.35,5174.35,105.6,2271.85,2966.95,61.15,494.95,5290.45,3346.8,5219.65,217.5,607.7,5431.4,6004.85,5957.9,5442.05,4370.25,4428.6,416.45,6688.1,4224.7,4042.2,3580.95,1198.8,1755.35,3772.5,2877.95,357.7,1397.3,959.9,3704.15,4620.4,8312.75,929.3,1285.05,1521.2,3389.25,1198.05,3414.65,754.0,467.15,373.0,481.1,1728.2,2964.05,2156.25,1051.9,5013.0,1738.9,2275.1,5511.65,1316.9,7993.3,19.85,1388.45,666.0,94.45,4134.7,4862.5,351.5,106.2,1413.0,1743.05,657.5,1050.5,426.35,4982.5,19.55,7634.8,235.05,3116.15,2633.4,49.65,4920.8,46.35,5276.1,8289.2,2659.45,196.75,5824.75,1517.5,3479.05,7365.7,1331.05,1195.95,3946.9,4299.95,20.3,4391.25,4213.9,19.9,5017.7,4916.4,2959.8,7559.55,7133.1,1799.3,1597.05,524.35,4191.45,711.95,2201.75,806.95,1620.45,6812.95,1837.9,7344.45,1500.25,2283.15,1376.5,755.4,825.4,488.65,2075.1,5299.65,1356.3,5042.75,812.4,6605.55,505.95,3509.4,6991.9,590.35,2789.7,1123.15,7953.25,349.8,1067.05,3527.3,1248.9,3035.35,4300.8,6065.3,144.95,2308.6,1882.8,3255.35,1067.65,2065.4,4136.4,3848.0,8022.85,173.15,781.25,4510.8,5317.8,4779.45,250.1,1745.2,4140.1,3670.5,1167.8,469.65,1381.2,3645.5,1158.85,6954.15,1672.1,4307.1,6141.65,1054.8,5430.65,849.9,151.75,299.4,1086.75,2692.75,1389.6,3767.4,3641.5,2535.55,6880.85,3753.2,637.55,5329.55,44.55,1539.8,2209.75,223.75,7751.7,1174.35,4385.05,2606.35,18.9,1261.35,5969.3,253.9,400.0,227.35,2357.75,198.5,554.25,251.65,5597.65,768.05,1215.8,3522.65,910.45,3656.25,52.0,150.85,389.25,1873.7,1261.0,7346.2,3708.4,469.65,1385.85,548.8,2536.55,6042.7,958.25,1730.65,459.6,201.95,285.2,1529.45,4664.5,3496.3,7053.35,301.55,312.7,2960.1,6953.4,541.5,116.85,7942.15,5321.25,4156.8,223.6,768.45,3765.05,2157.5,1391.65,1379.8,1273.3,810.45,1810.85,7782.85,1797.1,377.85,445.3,7624.2,355.1,906.85,1057.55,19.4,1388.75,1641.3,185.2,1826.7,417.5,344.5,2180.55,2835.9,45.15,2730.85,5437.1,5794.45,747.2,1267.95,3674.95,1275.6,5893.9,724.65,1536.75,607.3,4154.55,847.8,2390.45,1923.5,1493.2,75.35,2184.85,1031.4,921.3,3875.4,144.15,6689.0,1451.1,6368.2,3729.6,350.1,2847.2,452.35,1494.5,41.85,1272.05,475.1,150.75,3199.0,5844.65,2462.6,6263.8,3403.4,1672.1,7881.2,2320.8,370.5,3043.7,2723.4,1081.25,4097.05,632.2,8166.8,4113.7,3047.15,4193.4,3729.75,399.45,1964.6,1336.15,486.05,5925.75,4747.2,1028.9,4692.55,19.75,154.3,6382.55,7623.2,1261.45,89.25,86.05,6779.05,4345.0,82.85,1714.55,893.2,810.85,6347.55,1123.65,43.15,35.1,1388.0,3851.45,2638.1,946.95,1114.85,1777.6,684.85,74.35,1312.45,159.2,610.2,404.35,6363.45,4124.65,950.75,19.65,505.95,1149.65,169.65,393.15,1147.0,5718.2,4539.6,6397.6,280.4,5711.05,3478.15,4133.95,2917.65,54.3,2964.8,2198.3,1189.9,1914.5,5336.35,7238.6,7998.8,5703.25,7397.0,164.6,6555.2,225.65,955.75,3382.3,2313.8,780.85,7852.4,2763.0,1614.7,270.15,0.0,20.6,1734.5,7047.5,573.15,1538.6,4459.8,7459.0,306.05,639.7,348.15,5563.65,40.25,4228.55,784.45,3729.75,1406.9,1857.3,7322.5,6725.5,3627.3,1725.95,4192.15,1411.2,264.55,4671.7,1173.55,7713.55,2471.25,7842.3,2227.8,2351.45,2989.6,6077.75,4070.95,2479.05,2134.3,6000.1,2203.1,183.15,6194.1,638.95,831.75,1337.5,7181.95,2560.1,5953.0,1790.15,2531.4,4760.3,953.65,5705.05,20.55,6993.65,4122.65,5762.95,1537.85,2603.3,5566.4,5431.9,2258.25,1092.35,6401.25,616.9,1912.85,849.1,3460.3,90.1,5555.3,1278.8,2907.35,4952.95,4504.9,4520.15,2316.85,8075.35,2302.35,7251.9,2078.55,6225.4,1242.25,99.45,599.25,3462.1,2375.2,2813.05,6314.35,19.1,1003.05,1593.1,2509.95,3187.65,3330.1,5522.7,4798.4,8594.4,970.55,7665.8,3686.05,2537.0,1393.6,89.35,4445.3,978.6,1258.15,331.35,84.75,1715.1,1715.15,1250.1,3996.8,5215.1,673.2,1442.2,5222.35,7291.75,424.5,249.4,4415.75,5270.6,2884.9,253.0,436.2,118.4,3649.6,255.6,2395.05,5083.55,644.5,39.3,989.05,2406.1,638.55,191.1,4524.05,4664.2,3470.8,6910.3,4014.2,1288.0,6375.8,5251.75,1505.45,913.3,5535.8,815.55,1411.65,5602.25,8244.3,741.5,4375.8,5968.4,3096.9,3901.25,2613.4,5661.7,695.05,5552.05,3275.15,4236.6,54.5,962.9,1498.35,1233.15,4882.8,5411.65,148.05,3930.55,6895.5,6856.95,2658.8,3766.2,129.55,581.7,929.45,679.0,3846.75,4480.7,499.4,1553.2,219.5,5311.85,2576.8,6435.25,1993.25,1923.85,939.8,84.6,5986.55,5487.0,651.5,45.4,6856.45,50.75,4735.2,682.15,4525.8,321.05,335.65,1424.4,1748.55,1077.95,3694.45,382.8,746.75,368.85,20.2,1654.7,1940.85,1794.65,5289.8,501.2,6140.85,48.45,309.25,6179.35,55.7,4589.85,3735.45,477.55,2553.7,1342.15,1216.35,7578.05,2603.95,42.7,6056.9,2983.65,689.35,2025.1,1747.2,4657.95,8016.6,433.5,5883.85,1043.8,1857.25,146.4,1724.15,429.55,356.15,488.25,1298.7,1378.75,384.25,8543.25,389.95,5731.85,20.65,4275.75,84.5,1924.1,5784.3,5166.2,4060.55,3532.85,4914.8,5315.8,775.6,5445.95,1007.8,833.55,1004.5,1183.05,501.35,4126.35,477.6,265.75,2424.45,1849.95,61.05,1698.55,998.1,1383.6,493.4,1207.0,563.5,864.55,701.05,5749.8,2796.45,5165.7,5696.6,2076.05,44.2,215.25,1859.5,7470.1,2092.9,5629.55,469.85,733.95,485.25,78.25,1131.5,184.05,1178.75,5629.15,109.3,958.45,403.15,4392.5,3168.0,1096.6,669.45,2343.85,48.6,7511.9,1725.0,49.75,1691.9,2248.05,4479.2,3471.1,63.0,3314.15,852.7,1930.9,91.4,3949.15,4304.0,1554.9,3472.05,117.8,3210.35,207.4,19.75,3132.75,2106.3,35.0,903.7,3882.3,879.8,383.65,4390.25,68.2,452.8,5329.0,1758.9,5737.6,1219.85,2414.55,1155.6,1809.35,1564.4,19.65,84.4,864.85,228.75,7752.05,470.6,4060.9,108.65,3952.65,494.05,3416.85,1498.65,4807.35,471.35,1041.8,7689.8,1815.0,1311.3,199.45,1637.3,1326.35,6376.55,935.9,20.05,1611.15,6989.7,2779.5,8331.95,735.9,2283.3,1445.2,2333.05,1992.55,5890.0,1029.8,1796.55,33.7,454.05,1392.25,1049.6,734.6,475.1,1540.05,1978.65,3181.8,229.7,5625.55,1347.15,3808.2,3974.15,7661.8,2479.25,266.6,5601.4,1982.6,339.9,4828.05,5980.55,4808.7,20.3,1068.15,2383.6,1438.05,917.45,6096.45,99.95,475.2,2036.55,6444.05,767.55,7932.5,4040.65,2768.65,1672.35,1345.65,2425.4,2077.95,1663.5,1286.05,1094.35,7719.5,514.6,4932.5,5443.65,330.25,122.7,6631.85,8250.0,3561.15,1763.55,2419.0,470.2,5234.95,3097.0,1709.1,1848.8,723.3,577.15,6914.95,602.9,124.4,96.8,3827.9,533.05,2961.4,995.35,2815.25,154.8,257.6,5757.2,7517.7,1234.8,3836.3,6001.45,720.1,2832.75,472.25,1336.35,6388.65,677.9,1165.6,921.55,72.0,68.35,847.25,44.0,4295.35,1380.4,4386.2,52.05,2018.4,2727.3,263.65,275.4,538.5,948.9,846.8,2997.45,5897.4,524.5,269.65,2341.5,1789.65,1626.4,800.3,5060.85,466.6,4627.8,6838.6,85.0,44.3,4297.6,414.1,256.6,2274.1,1296.8,1268.85,8192.6,59.25,1147.85,4361.55,2006.1,2078.95,7609.75,487.05,1218.45,1416.2,483.3,1234.6,1311.6,5618.3,6185.15,788.35,756.4,3625.2,550.35,4793.8,1267.2,5567.45,5706.2,3085.35,24.7,3541.4,84.2,50.7,1165.55,4855.35,608.15,641.35,4959.15,35.9,1321.3,1663.75,3024.15,2188.5,2724.25,413.25,1374.2,6692.65,218.5,1004.75,1125.6,3847.6,978.0,1387.35,746.05,304.6,1098.85,4368.95,827.7,20.35,262.05,3512.5,151.75,8033.1,1253.65,552.65,1036.0,4025.5,928.4,24.9,6506.15,5598.3,4374.55,678.75,2191.7,239.75,609.05,683.75,5189.75,5060.9,233.65,291.45,689.75,3263.9,1993.2,254.5,347.65,967.9,1841.9,232.1,809.25,360.55,355.9,129.15,5835.5,7031.45,109.6,727.8,893.0,763.1,781.4,902.25,1016.7,5943.65,275.7,3126.45,1070.15,340.4,4299.2,1093.2,521.9,1630.4,713.6,1265.65,4003.85,1401.4,1510.5,264.8,4541.9,4976.15,7542.25,251.25,1595.5,685.55,3874.1,6891.4,4916.95,1373.0,49.8,1548.65,3440.25,4226.7,1023.75,7074.4,6849.75,3263.6,1252.85,67.55,70.2,5750.0,1549.75,1810.55,7467.55,5484.4,294.9,97.5,19.95,476.8,101.65,1130.85,3532.25,6891.45,1570.7,520.95,7854.9,3581.4,1447.9,8547.15,727.85,357.6,159.35,280.85,6069.25,3274.35,6109.65,1122.4,2020.9,3795.45,3579.15,49.7,276.5,8175.9,890.35,5588.8,50.6,58.0,938.95,2024.1,3623.95,3877.95,4577.9,25.85,2871.5,1270.55,7711.45,2193.65,31.2,38.25,3348.1,533.6,2907.55,1620.8,3480.35,293.85,4137.2,19.4,5348.65,3180.5,3023.85,1031.1,6471.85,6241.35,6501.35,2317.1,2237.55,5231.3,165.5,358.5,6614.9,2421.75,1294.6,1299.1,5733.4,7430.75,630.6,1222.65,374.8,7234.8,331.85,5088.4,4860.85,788.05,1266.35,688.2,387.7,845.25,4230.25,4983.05,4113.15,521.0,471.85,5976.9,4299.75,7548.6,1654.75,4551.5,6227.5,20.05,57.5,1474.35,3270.25,3919.15,7285.7,7658.3,5959.3,5295.7,4693.2,3512.9,5231.2,3603.45,217.45,6875.35,19.25,2021.35,2564.95,5611.75,7610.1,45.75,4543.95,450.4,1297.35,4442.75,1423.15,4378.35,74.2,450.65,1175.85,558.8,2220.1,3283.05,4939.25,4237.5,335.95,7188.5,926.25,1119.35,116.6,68.8,2341.55,1362.85,163.6,145.15,4786.1,3835.55,397.0,1027.25,1580.1,7222.75,3769.7,4233.95,1680.25,3725.5,7707.7,8309.55,601.55,139.25,1888.25,2773.9,5409.75,401.3,3238.4,1573.05,235.8,1364.75,1985.15,4335.2,647.5,2748.7,2483.65,6367.2,4904.2,2044.95,1794.8,7173.15,7039.05,921.4,4018.35,5448.6,20.25,2085.45,5135.15,730.1,118.25,1108.6,1815.65,730.4,75.45,4014.6,568.85,5860.7,7279.35,1064.95,5886.85,4238.45,418.3,136.05,708.2,788.55,4378.8,3442.8,7171.7,553.0,96.85,4122.9,1482.3,1240.8,6578.55,19.55,2802.3,857.75,184.4,6093.3,1861.1,1079.65,7475.1,2862.55,3069.45,2349.8,469.25,3301.05,3529.95,4144.9,4265.0,3246.45,8337.45,5731.4,6176.6,1905.4,931.9,776.25,5243.05,141.65,7679.65,1006.9,2540.1,3097.2,2484.0,5785.65,2619.15,1524.85,2790.65,1784.5,2276.1,2029.05,802.35,4653.25,275.9,343.45,2130.45,1191.4,2554.0,5589.45,467.7,3756.45,3334.9,920.5,3431.75,150.35,367.95,5125.75,4801.1,19.55,550.1,7862.25,1242.2,3190.65,2666.75,3533.6,792.15,295.65,1459.35,4297.95,4096.9,3454.6,1286.0,1387.0,786.3,641.25,705.45,345.5,345.9,5811.8,124.45,1375.6,3491.55,7920.7,6640.7,718.1,320.4,1334.45,3358.65,4764.0,5703.0,525.55,483.15,934.8,786.5,5364.8,20.3,770.4,6816.95,2419.55,4138.7,3457.45,4630.2,3221.25,688.5,867.1,4746.05,355.1,5764.7,428.45,1505.35,693.45,1177.95,1458.1,2298.9,1679.65,369.6,2998.0,5206.55,24.4,1959.5,2053.05,398.55,3425.35,1275.7,2965.75,1647.0,6109.75,3751.15,411.25,105.5,3320.6,5669.5,465.45,704.3,95.55,6375.2,8152.3,1566.75,130.25,162.15,110.05,1885.15,6302.85,2264.5,816.8,1253.5,41.2,5265.55,693.3,5997.1,3824.2,3886.05,7283.25,412.55,1070.25,817.95,1171.3,6548.65,625.65,1911.5,1507.0,299.3,5832.65,5567.55,4166.35,7898.45,3915.4,979.5,90.05,398.55,1958.45,63.15,1301.1,484.05,3887.85,2208.75,238.15,958.15,3845.45,1267.0,633.45,6129.65,1218.25,1405.3,533.9,676.15,3804.4,1118.8,5236.4,1386.8,1902.0,239.05,5673.7,39.8,997.75,5574.35,406.05,138.85,123.65,1801.1,689.0,790.7,1618.2,1173.35,900.9,6719.9,3784.0,1798.65,54.65,3886.45,1224.05,2310.2,3988.5,3554.6,0.0,6034.85,531.6,85.1,173.0,2511.95,3893.6,357.15,467.5,2288.7,6460.55,1931.3,402.6,2221.55,7758.9,224.5,7388.45,3460.95,1700.9,3090.65,1293.8,645.8,5224.95,500.1,2427.1,3488.15,1035.7,7565.35,2799.0,1601.5,6256.2,1232.9,19.9,1937.4,5059.75,3023.65,4889.2,2289.9,6503.2,1313.25,990.3,1864.2,5979.7,3902.45,7142.5,902.0,805.2,528.45,8349.7,4953.25,332.65,470.2,2259.35,1411.35,6328.7,1411.9,6841.4,20.35,238.5,4016.3,226.55,7110.75,1958.95,5528.9,1463.7,1025.05,552.1,3815.4,0.0,3313.4,1938.9,460.25,4839.15,19.9,5139.65,1673.4,309.35,3171.6,8670.1,916.0,299.75,702.05,19.65,4438.2,4819.75,92.25,1567.0,1242.45,559.2,531.15,1183.2,465.85,3782.4,460.2,1790.35,7767.25,876.15,4600.95,1793.25,886.7,7737.55,1686.85,1879.25,4013.8,434.5,7195.35,780.1,107.6,3801.7,3778.1,5438.95,5102.35,1872.2,213.35,5386.5,235.65,2272.8,83.75,4663.4,201.7,125.0,684.4,1146.05,1806.35,603.0,5798.3,497.6,19.3,266.95,257.0,2623.65,45.85,1082.8,147.8,2570.2,4378.9,3616.25,2924.05,32.7,2882.25,1509.9,5305.05,7985.9,2985.25,564.35,1311.75,3720.35,5025.8,5224.5,6185.8,1498.55,1208.6,6613.65,1818.9,1787.35,1051.05,7181.25,3688.6,821.6,239.45,244.45,3357.9,129.6,4977.2,2424.05,4981.15,2090.25,4905.75,2038.7,4014.0,2441.7,2751.0,1307.8,383.65,53.55,7882.5,1087.7,791.7,7493.05,6841.3,819.95,6052.25,4869.5,509.3,4308.25,221.1,3833.95,294.95,316.9,2651.2,471.7,5720.95,503.25,7365.3,7245.9,961.4,4615.9,3251.3,3880.05,3088.75,1396.0,53.05,2108.35,6770.5,4730.6,1151.05,232.55,1022.6,309.4,523.1,4250.1,770.5,246.7,3342.0,3930.6,897.75,2780.6,5895.45,2208.05,4871.45,4947.55,1558.65,4284.2,1218.25,5617.95,24.2,554.45,5237.4,2032.3,789.2,1525.35,3726.15,1652.1,1588.75,3366.05,7113.75,993.15,5012.35,2093.4,1011.8,1343.4,6794.75,1022.5,3691.2,486.2,4685.55,5150.55,3756.4,3645.75,2874.45,49.95,1020.75,826.0,239.0,7544.3,6479.4,3626.35,1679.4,931.55,4326.25,263.05,39.25,3316.1,2625.25,1495.1,743.3,1419.4,1990.5,7362.9,346.45,6844.5],\"xaxis\":\"x\",\"yaxis\":\"y\",\"type\":\"histogram\"},{\"alignmentgroup\":\"True\",\"hovertemplate\":\"Churn Label=No\\u003cbr\\u003eTotal Charges=%{x}\\u003cextra\\u003e\\u003c\\u002fextra\\u003e\",\"legendgroup\":\"No\",\"marker\":{\"color\":\"#EF553B\"},\"name\":\"No\",\"notched\":true,\"offsetgroup\":\"No\",\"showlegend\":false,\"x\":[29.85,1889.5,1840.75,1949.4,301.9,3487.95,587.45,326.8,5681.1,2686.05,7895.15,1022.95,7382.25,1862.9,202.25,3505.1,2970.3,1530.6,6369.45,6766.95,181.65,1874.45,20.2,45.25,7251.7,3548.3,475.7,4872.35,418.25,4861.45,981.45,3906.7,97.0,4217.8,4254.1,3838.75,1752.65,4456.35,6311.2,7076.35,894.3,7853.7,4707.1,5450.7,2962.0,957.1,244.1,3650.35,2497.2,930.9,887.35,49.05,1090.65,7099.0,1424.6,177.4,6139.5,2688.85,482.25,2111.3,1216.6,565.35,4327.5,973.35,918.75,2215.45,1057.0,927.1,1009.25,2570.2,74.7,5714.25,7107.0,7459.05,4748.7,1107.2,20.2,19.45,3605.6,3027.25,100.2,7303.05,927.65,3921.3,1363.25,3042.25,3954.1,3423.5,248.4,1126.35,835.15,2151.6,5515.45,112.75,350.35,62.9,3027.65,1723.95,19.75,3985.35,1215.65,3260.1,1188.2,1778.5,1277.75,1170.55,6425.65,5971.25,5289.05,1756.2,6416.7,61.35,1929.95,1071.4,564.35,7930.55,5215.25,113.5,1152.8,1821.95,419.9,1024.0,251.6,764.55,135.2,3958.25,233.9,1363.45,6254.45,321.4,3539.25,1181.75,654.55,780.2,1559.25,1252.0,45.3,2453.3,1023.85,82.15,244.8,2379.1,3173.35,1375.4,8129.3,1192.7,1901.65,587.4,6519.75,8041.65,20.75,2681.15,1112.3,7405.5,1033.95,2958.95,2684.85,4179.2,6654.1,25.25,1124.2,540.05,1975.85,3437.45,3139.8,3789.2,5324.5,624.6,1836.9,20.2,219.35,1288.75,2545.75,2723.15,4107.25,5760.65,4747.5,1566.9,702.0,299.05,1305.95,284.35,6350.5,7878.3,3187.65,6126.15,731.3,273.4,2531.8,4298.45,4619.55,2633.3,193.05,4103.9,7008.15,5791.1,1228.65,4925.35,1520.1,5032.25,5526.75,1195.25,2007.25,1732.95,3450.15,2172.05,1339.8,771.95,244.75,322.9,498.25,25.4,3687.75,1783.6,927.15,2021.2,1940.8,567.8,220.35,20.25,5436.45,3437.5,3015.75,1509.8,356.65,4109.0,3141.7,1229.1,2054.4,3741.85,3682.45,19.25,1886.25,4895.1,341.6,5686.4,1355.1,3236.35,4264.0,44.8,422.3,4176.7,5138.1,880.05,973.65,1470.05,739.35,161.95,4422.95,6148.45,3565.65,1830.1,6223.8,4508.65,1328.15,865.0,72.1,1303.5,996.85,6430.9,2278.75,681.4,574.35,889.0,6823.4,4016.75,83.75,3959.15,2878.55,945.7,1373.05,1406.0,19.15,6962.85,8126.65,690.25,830.8,5608.4,3646.8,3662.25,25.35,5308.7,1410.25,3339.05,4732.35,5067.45,2348.45,4063.0,44.0,2595.25,2309.55,89.3,367.55,3944.5,5965.95,3694.7,1803.7,415.1,624.15,237.7,3848.8,419.4,1468.75,5812.0,2861.45,1066.15,2149.05,4473.0,3545.05,1195.75,6858.9,1024.7,132.25,515.45,2830.45,1110.5,449.3,2838.55,5376.4,858.6,1395.05,3975.7,4784.45,119.5,899.45,1183.8,720.05,8468.2,3161.2,55.05,1882.55,5070.4,6049.5,1166.7,2937.65,1270.25,759.55,7611.55,1642.75,1545.4,3582.4,1417.9,2494.65,2768.35,2369.3,38.0,75.1,100.9,1614.05,8404.9,2799.75,6538.45,6588.95,868.1,330.6,564.4,1315.35,2747.2,554.05,225.75,1671.6,8003.8,6130.85,1415.0,6201.95,0.0,6597.25,114.15,3902.6,20.4,1785.65,1397.65,3899.05,5676.0,4543.15,4326.8,5502.55,851.8,19.85,1818.3,6300.15,5916.95,2852.4,1546.3,302.6,265.45,6989.45,1442.0,4713.4,4738.3,8399.15,5430.35,686.95,5706.3,490.65,1360.25,174.45,7379.8,1021.75,5029.05,1955.4,6744.2,4946.7,8248.5,601.6,19.55,2647.2,6744.25,5265.5,311.6,7966.9,8220.4,1153.25,514.75,3808.0,19.9,2708.2,760.05,49.3,6033.3,89.05,516.15,5861.75,445.95,4973.4,1667.25,5357.75,422.6,1103.25,2754.0,697.25,3204.4,4747.65,3082.1,597.9,3365.4,38.8,19.0,61.7,3342.45,85.1,7422.1,6668.05,8071.05,1174.8,5435.0,2438.6,45.6,916.15,237.2,4614.55,1414.45,1170.5,47.7,4859.25,4903.2,3608.0,6094.25,3084.9,2356.75,8306.05,1357.1,4860.35,3418.2,631.4,186.3,6976.75,4884.85,522.95,362.6,5755.8,3355.65,406.95,2395.7,1968.1,6819.45,7943.45,2473.95,6562.9,176.3,2236.2,3109.9,4911.35,1620.2,4287.2,394.85,3442.15,1732.6,655.3,475.25,865.1,6132.7,3597.5,697.65,428.7,20.05,4459.15,1167.6,238.1,1453.1,4039.3,1039.45,1336.1,493.4,7246.15,1203.95,313.6,3775.85,4616.05,195.65,4188.4,71.1,49.9,1266.4,1623.4,4149.45,20.45,2344.5,1013.05,417.0,20.65,6316.2,4018.05,4811.6,4189.7,2848.45,2516.2,33.6,208.45,3739.8,2964.0,2263.4,2211.8,1683.7,1519.0,1164.05,1710.9,4245.55,4145.9,2664.3,1277.5,5589.3,34.75,1305.95,204.55,605.9,356.1,4805.65,92.75,1901.05,5730.7,2423.4,1653.45,3327.05,7085.5,3344.1,6697.35,2879.9,137.1,1551.6,202.15,7882.25,8196.4,202.9,855.1,5817.0,1652.95,5600.15,515.75,0.0,190.5,1253.8,57.2,6563.4,20.8,4758.8,1292.6,363.15,1600.25,275.7,3089.1,1175.6,237.3,8065.65,92.5,6152.3,5154.5,220.45,1510.3,2588.95,3983.6,2003.6,1832.4,4908.25,3590.2,5023.0,146.6,2339.3,298.7,143.65,2548.65,507.4,20.0,5411.4,903.8,3009.5,5468.45,1058.1,7616.0,1108.2,938.65,94.15,2088.05,5656.75,5986.45,6751.35,3566.6,4889.3,318.1,1563.95,372.45,1442.6,963.95,5222.3,3340.55,5774.55,4487.3,2854.95,905.55,7589.8,394.1,295.95,5459.2,444.75,6782.15,6510.45,8476.5,4461.85,62.0,352.65,1424.9,6309.65,5898.6,4719.75,457.3,5822.3,2337.45,104.3,121.25,7015.9,5598.0,1269.1,4634.35,113.95,3077.0,4039.5,1665.2,504.2,7511.65,1782.0,20.05,609.65,2857.6,3247.55,2823.0,2619.25,4965.1,2679.7,8310.55,5682.25,4914.9,27.55,6068.65,5398.6,234.85,1231.85,170.9,7984.15,1288.3,7848.5,267.0,1798.9,1643.55,4807.45,2193.0,2239.4,1505.9,255.35,1189.4,4786.15,1820.9,2404.15,7039.45,2538.05,1212.85,2651.1,1304.8,435.45,308.05,0.0,7118.9,320.45,531.55,382.2,2001.0,4919.7,5645.8,77.6,2896.55,759.35,535.55,1253.15,955.15,2162.6,1813.35,245.15,2028.8,2723.75,220.45,365.8,551.95,4054.2,60.65,5550.1,4733.1,4048.95,4542.35,888.65,1916.0,413.0,808.95,1886.4,1679.25,540.95,19.75,537.35,678.8,4513.65,1423.85,555.4,225.55,268.45,1492.1,132.4,284.9,784.25,417.7,5016.25,485.2,160.85,4145.25,827.45,49.5,5585.4,1601.2,162.45,470.2,2066.0,1426.45,392.5,3861.45,2552.9,6668.35,4615.25,3557.7,1957.1,1416.75,5924.4,1697.7,7849.85,649.4,4557.5,360.35,1046.5,447.75,4209.95,3877.65,152.3,572.2,552.7,3208.65,620.75,505.9,8046.85,1815.3,612.95,795.15,973.1,2210.2,1055.9,1304.85,21.1,5580.8,1497.9,4590.35,200.2,614.45,4564.9,0.0,1012.4,2766.4,1129.35,5680.9,2243.9,4523.25,7159.7,2839.95,80.55,580.1,6038.55,259.4,324.15,417.65,5637.85,839.4,769.1,6253.0,1641.8,1678.05,2058.5,2424.5,6293.45,3145.9,2200.7,914.4,4577.75,4997.5,4144.8,1493.55,4179.1,1611.0,593.05,1533.8,529.8,3865.6,515.75,48.35,2070.05,8333.95,1209.25,1396.25,723.35,228.65,1161.75,98.35,775.3,1074.65,2324.7,1072.6,170.5,1677.85,18.85,370.4,3410.6,1138.8,5264.25,1005.7,5936.55,5475.9,2326.05,4991.5,5831.2,510.8,283.95,1295.4,19.65,3011.65,8093.15,3217.65,773.2,1029.35,3593.8,3953.15,1971.15,3196.0,4872.2,1500.5,3478.75,7413.55,3532.0,256.75,3887.25,2490.15,3510.3,765.45,1259.35,5538.35,340.85,844.45,1348.95,3778.0,611.65,1505.05,467.85,194.2,571.45,5253.95,521.35,1412.65,1090.6,1446.8,4300.45,1111.2,190.1,4447.75,1830.05,2820.65,4847.35,4729.3,4017.45,1398.6,1685.9,5826.65,6066.55,270.2,168.6,536.35,1888.45,629.35,2117.25,4730.9,2033.05,5744.35,19.45,4805.3,6110.75,1596.6,1046.2,92.75,194.55,612.1,6671.7,5264.3,303.7,4818.8,7159.05,1574.5,2879.2,86.05,4159.45,6638.35,3112.05,7168.25,1326.25,2234.55,495.15,8317.95,679.8,62.8,7544.0,1188.25,74.1,3242.5,1240.15,4111.35,5899.85,5193.2,7530.8,5460.2,1614.2,402.5,1367.75,7962.2,3810.8,3533.6,1396.9,1646.45,2680.15,2049.05,3629.2,202.3,147.5,86.35,579.0,3131.55,3928.3,187.75,1710.15,2151.6,1221.55,1496.45,1292.2,25.15,1713.1,1748.9,1114.55,609.1,0.0,141.6,4688.65,563.05,5985.0,373.5,2553.35,4322.85,250.8,4549.05,1359.5,178.85,633.85,5315.1,735.5,6474.4,4421.95,4904.85,4484.05,2033.85,538.2,2192.9,19.85,3858.05,854.8,5815.15,3970.4,3058.15,6145.2,129.2,1165.9,4904.25,5632.55,1643.25,740.55,4888.2,2440.25,620.55,20.35,6840.95,319.6,1938.05,294.5,58.3,546.45,797.1,1673.8,343.45,7412.25,4039.0,2948.6,6078.75,3418.2,6603.8,3166.9,865.75,6373.1,1177.05,5985.75,7869.05,936.7,741.4,6585.2,3122.4,1088.25,615.35,2908.2,739.9,593.85,7227.45,1291.35,2023.55,153.95,5458.8,5244.45,154.55,4507.15,2031.95,50.05,473.9,106.8,152.6,1199.4,2555.05,2979.2,654.85,3834.4,4586.15,5941.05,2234.95,666.75,547.8,74.6,571.15,1756.6,5731.45,156.85,2683.2,4456.65,6998.95,36.8,2265.0,1309.15,4754.3,1235.55,3562.5,7213.75,5914.4,51.25,1282.85,4738.85,19.55,795.65,4993.4,61.45,4018.55,6081.4,1478.85,243.65,2633.95,4735.35,1247.75,3794.5,1008.7,2130.55,5727.15,1372.9,1203.9,1215.1,2877.05,1579.7,5514.95,96.1,55.25,2443.3,335.4,7002.95,158.95,293.15,1493.75,1093.4,1057.85,882.55,300.4,1436.95,475.0,5388.15,5730.15,217.1,4896.35,1434.1,937.1,1474.9,6536.5,1128.1,2199.05,457.1,566.5,2471.6,3107.3,518.3,832.3,45.3,1790.6,246.6,261.65,4509.5,5480.25,653.15,1183.05,639.45,478.75,20.05,4391.45,270.6,3975.9,1497.05,780.15,3512.15,273.25,3517.9,3375.9,7508.55,1245.05,5347.95,493.65,1263.85,385.55,84.2,1638.7,120.25,4473.45,520.55,5717.85,4312.5,6511.25,1218.65,7447.7,279.5,5720.35,3121.45,6468.6,675.6,3521.7,923.1,1110.35,1611.65,5553.25,44.75,3231.05,5129.45,1191.2,866.4,2627.2,4741.45,4009.2,43.8,3707.6,220.45,1133.7,1983.15,5746.75,134.05,6230.1,573.05,3419.3,3801.3,4859.1,1439.35,592.75,1185.95,18.8,4921.2,901.25,4859.95,1139.2,7082.45,663.55,174.65,321.7,5125.5,548.9,7031.3,5016.65,611.45,319.85,153.3,7035.6,344.2,1431.65,1849.2,6083.1,426.65,1655.35,1943.9,314.95,804.85,465.7,6669.05,1161.75,947.75,8375.05,3770.0,4707.85,6152.4,958.1,943.0,425.1,5044.8,6743.55,196.4,2093.9,417.75,1725.4,1620.2,3169.55,5233.25,967.85,438.05,1421.9,323.15,318.6,163.7,2928.5,100.35,273.2,1608.15,1441.95,2168.15,3618.7,5692.65,5969.3,19.05,8100.55,313.45,6130.95,745.3,1212.1,1583.5,4162.05,1119.9,8013.55,1102.4,5832.0,4304.5,1421.75,6827.5,4698.05,654.5,3268.05,4362.05,1386.9,415.4,2614.1,1513.6,3161.6,80.95,4676.7,6526.65,583.3,8078.1,3503.5,6669.45,1292.65,48.75,7108.2,1802.55,1505.15,1859.1,168.5,6339.45,1652.4,6392.85,4599.15,1134.25,1621.35,2722.2,3058.3,1769.6,6293.75,1642.75,578.5,954.9,43.85,1490.4,280.0,1901.25,716.4,4720.0,930.95,6770.85,1835.3,1588.25,75.5,258.35,1502.25,19.2,6929.4,4453.3,3244.4,323.45,1401.15,1739.6,5931.0,2333.85,949.85,572.45,696.8,1381.8,47.95,45.0,4931.8,116.95,1261.7,3273.8,1415.85,3958.2,2492.25,279.2,1083.0,755.5,3252.0,936.85,3857.1,1378.45,2566.3,171.0,1597.4,4744.35,6721.6,44.05,1734.65,45.55,4539.35,804.25,5011.15,3574.5,8086.4,4563.0,6362.35,67.1,1156.55,1834.15,1477.65,1706.45,3953.7,1327.85,419.7,207.35,1083.7,2007.85,5882.75,2657.55,1612.2,76.65,260.7,6441.85,266.8,962.25,1382.9,571.05,1399.35,150.0,167.2,7657.4,865.05,6153.85,174.2,1269.6,6352.4,1348.5,471.55,5931.75,1404.65,726.1,1961.6,4194.85,81.05,76.95,5809.75,20.2,415.9,996.95,3145.15,265.3,20.9,21.05,4576.3,189.1,908.15,49.8,1500.95,5099.15,6385.95,6885.75,668.85,1916.2,4613.95,7261.25,2459.8,2048.8,163.55,2888.7,2421.6,2292.75,553.4,3465.7,1291.3,5200.8,3237.05,433.75,1868.4,5728.55,390.4,2845.15,3894.4,886.4,1021.55,268.4,2204.35,6398.05,1662.05,3600.65,1329.15,422.5,4627.65,6717.9,637.4,117.95,2460.55,5731.85,4616.1,589.25,750.1,1410.25,743.5,3865.45,6825.65,1340.1,1184.0,8477.7,7382.85,456.85,331.6,134.6,125.5,2511.3,2737.05,74.3,70.6,6404.0,165.35,1867.6,1043.3,128.6,7455.45,24.7,206.15,5869.4,3377.8,1346.2,4946.05,4964.7,4085.75,6224.8,3415.25,6325.25,1683.6,3966.3,608.5,2896.6,1514.85,6792.45,4669.2,6302.8,779.2,283.75,5594.0,772.85,857.8,7554.05,5981.65,1702.9,467.15,1941.5,1932.75,1423.05,970.85,5810.9,223.9,391.7,811.65,174.75,3126.85,6841.45,1406.65,834.7,3157.0,3092.0,2168.9,980.35,65.95,711.9,1952.8,4368.85,2647.1,8477.6,4528.0,1790.65,845.6,1210.3,20.45,854.45,2429.1,5229.45,44.45,3023.55,2032.3,436.9,20.15,5893.95,1430.05,313.0,3871.85,458.1,341.35,1336.8,2181.75,147.75,818.45,7133.45,348.8,128.6,4674.4,1737.45,1498.85,50.1,1797.75,498.1,5498.8,4845.4,369.1,6096.9,2684.35,6994.8,273.25,5483.9,4985.9,1258.35,111.4,43.95,308.1,383.65,1284.2,7550.3,1110.05,99.6,6707.15,4164.4,5873.75,109.25,862.4,8564.75,926.2,1718.2,5956.85,4824.45,1238.65,672.2,382.2,4264.6,1070.7,1345.85,1045.25,3003.55,7537.5,3343.15,161.15,7028.5,5232.9,225.85,274.7,3370.2,7111.3,5958.85,5999.85,1648.45,5753.25,4492.9,3956.7,1309.0,813.45,1108.8,7349.35,294.2,929.2,754.5,3883.3,1414.2,3211.2,371.6,1246.4,95.85,2545.7,6448.85,1468.9,1013.6,6690.75,7240.65,830.25,1588.7,829.3,302.45,712.25,1336.65,5360.75,6735.05,51.2,1010.0,4847.05,3019.7,161.65,2583.75,7711.25,5481.25,8124.2,827.3,3673.6,49.85,576.65,4495.65,340.35,1789.9,908.55,157.55,581.7,420.45,7576.7,4965.0,6151.9,45.2,5420.65,2627.35,743.75,6589.6,6733.15,3410.0,199.85,593.3,7288.4,5229.8,4464.8,5068.05,401.85,4451.85,6688.95,2661.1,73.05,1211.65,7030.65,1020.2,5597.65,6223.3,1024.65,82.9,7789.6,2067.0,3452.55,5468.95,1802.15,733.55,3021.45,3687.85,1391.15,274.35,1322.85,2196.3,7843.55,3211.9,130.15,692.35,85.5,6849.4,203.95,2117.2,6565.85,424.75,3306.85,168.9,253.8,197.4,3838.2,2065.15,5064.45,1140.05,2447.45,1263.9,1838.15,44.75,1185.0,1743.9,8529.5,6549.45,7806.5,25.7,6287.3,3251.85,50.6,7904.25,729.95,2654.05,5969.95,226.8,1082.75,565.75,4370.75,90.05,2169.4,550.6,55.45,6300.85,160.05,436.6,1781.35,5552.5,2835.5,3591.25,63.75,617.15,870.25,601.25,111.65,6046.1,3923.8,892.15,1682.05,3398.9,4984.85,305.55,507.9,2673.45,389.8,2401.05,651.55,156.1,2796.35,70.05,407.05,511.25,646.05,4903.15,1653.85,1306.3,463.6,60.65,824.85,2094.65,438.9,329.75,674.55,162.55,7887.25,1972.35,490.55,683.25,8058.85,294.45,1719.15,1160.45,5199.8,5163.3,162.3,883.35,1341.5,70.45,659.45,1205.05,4917.9,599.3,1733.15,4677.1,119.3,4849.1,5424.25,5878.9,244.85,220.75,4261.2,1501.75,89.75,255.5,2509.25,1440.75,5333.35,3895.35,869.9,512.25,814.75,388.6,93.45,1389.85,2894.55,4025.6,1354.4,1856.4,926.0,682.1,1778.7,1816.2,7069.25,1841.2,2656.7,1689.45,1054.75,7334.05,2404.85,171.45,2839.45,3942.45,873.4,1529.65,6991.6,715.0,1681.6,4016.2,3281.65,7317.1,6474.45,8164.1,1325.85,1654.85,7795.95,3952.45,2495.15,876.75,4263.45,1992.95,1982.1,562.7,33.7,1090.1,227.45,1250.85,37.2,892.7,487.75,3713.95,141.7,678.2,8425.3,7061.65,3364.55,332.5,5963.95,278.85,1871.85,4303.65,1753.0,617.65,5935.1,982.95,2974.5,198.7,1275.65,4003.0,3791.6,813.3,780.25,552.9,408.25,2191.15,5611.7,246.25,1296.15,7082.85,5662.25,1215.45,7854.15,525.0,5265.2,70.1,7129.45,7266.95,8496.7,2878.75,261.3,3205.6,1137.05,6697.2,505.45,1299.8,5564.85,1381.8,188.1,1077.05,4922.4,2911.5,826.1,83.4,5377.8,3617.1,6643.5,1559.3,7987.6,1547.35,2142.8,287.85,19.8,4534.45,40.9,2094.9,1584.8,1302.65,55.55,5437.75,2209.15,1912.15,255.55,5175.3,670.65,3177.25,6557.75,5791.85,3055.5,5196.1,8405.0,5000.05,6713.2,562.6,91.45,828.85,617.35,625.05,6029.9,1842.7,7386.05,7334.05,2626.15,8277.05,369.25,1049.05,1414.8,169.75,4354.45,2719.2,6365.35,51.6,3190.25,812.5,1143.8,44.0,3297.0,1887.0,2215.4,482.8,216.45,20.45,5064.85,996.45,839.65,6733.0,2618.3,4084.35,613.95,402.85,1244.8,46.4,581.85,1540.2,5168.1,6780.1,94.5,55.3,208.0,3829.75,5294.6,6889.8,3254.35,6383.9,4447.55,7321.05,4135.0,697.7,168.65,2753.8,69.25,434.8,107.25,851.2,5848.6,109.8,19.65,595.5,2513.5,5135.35,2000.2,931.75,7396.15,3958.85,260.9,816.8,4868.4,688.0,288.35,185.4,966.25,265.8,3297.0,4107.3,2809.05,1567.55,1851.45,6028.95,2072.75,4317.35,736.8,336.15,1522.65,4959.6,1001.5,442.6,6703.5,779.25,3483.45,4890.5,136.75,184.15,1315.0,6767.1,757.95,1657.4,3008.55,8165.1,875.55,220.65,1301.9,790.0,1237.65,378.6,592.65,50.15,20.45,3638.25,2921.75,4017.45,854.9,4174.35,4920.55,810.3,772.4,1936.85,79.8,202.25,1070.5,999.9,113.1,2015.8,1454.25,246.7,6017.9,5817.45,5595.3,4765.0,1201.65,867.3,50.15,3007.25,252.75,6306.5,6841.05,44.6,226.2,7082.5,1017.35,527.35,2146.5,5969.85,1014.25,1225.65,386.5,1850.65,1043.4,1910.75,716.1,1686.15,6716.45,7839.85,6236.75,2919.85,20.45,717.5,253.8,1110.05,348.8,3888.65,6843.15,450.9,432.25,1742.45,297.35,2444.25,949.8,2970.8,3334.95,2010.95,4684.3,2181.55,1303.25,371.4,2409.9,6155.4,4667.0,5153.5,8182.85,69.9,6683.4,1564.05,755.6,3465.05,6292.7,1664.3,198.1,6045.9,4108.15,5980.75,5043.2,7114.25,907.05,973.95,605.75,661.55,4116.9,4494.65,3282.75,55.7,1274.45,493.95,5038.15,324.2,19.55,2793.55,648.65,917.15,1346.9,672.7,6561.25,268.45,7337.55,5194.05,4478.85,196.9,439.2,19.5,2107.15,3035.8,1866.45,1430.95,1071.6,6457.15,684.05,3914.05,3842.6,670.35,7880.25,19.2,3371.75,442.45,20.4,2345.55,25.25,1156.35,144.8,414.95,181.8,2212.55,459.95,211.95,25.0,3162.65,210.65,3566.7,2080.1,4040.2,5186.0,1087.45,1672.15,1113.95,107.05,38.15,6339.3,184.1,1688.9,137.6,369.05,7553.6,1813.1,3321.35,707.5,7112.15,4641.1,49.9,3094.65,6518.35,82.7,6342.7,2030.75,6700.05,7244.7,3486.65,411.15,1559.15,970.4,828.2,3810.55,1493.2,45.8,777.3,4911.05,187.35,307.6,4318.35,4820.55,3038.55,2136.9,7472.15,2296.25,38.45,3043.6,1506.4,163.7,1640.0,3846.35,5646.6,79.05,1516.6,2224.5,888.75,4310.35,42.9,353.65,5073.1,4526.85,678.45,1237.3,1023.95,8182.75,4532.3,1444.05,19.1,7325.1,3474.2,392.65,3990.75,7475.85,835.5,1718.35,1193.55,1205.5,5776.45,78.9,1025.15,122.0,6602.9,1712.9,5682.25,74.3,3635.15,702.9,4454.25,1117.55,930.05,110.15,1669.4,3545.1,504.05,440.2,1151.55,2475.35,1249.25,317.75,535.05,461.3,335.75,3121.4,324.8,1394.55,3413.25,3143.65,439.75,664.4,4759.55,1033.0,3482.85,2688.45,435.25,307.0,2689.35,1281.25,3527.0,561.15,63.6,5129.3,4285.8,5894.5,1160.75,3091.75,272.95,3632.0,381.2,1035.5,52.0,653.9,71.2,4178.65,1821.8,4024.2,55.25,6520.8,854.9,8308.9,109.2,92.05,3420.5,4068.0,337.9,3168.75,1412.4,3974.7,3439.0,42.45,5461.45,571.75,5498.2,96.85,111.05,94.4,923.85,141.1,628.65,5576.3,1245.6,1287.85,1939.35,118.25,452.55,2696.55,875.35,1267.05,494.9,799.0,106.9,710.05,568.2,8012.75,551.3,184.95,1096.65,3684.95,1752.45,7210.85,5264.5,2157.3,24.4,433.95,5607.75,4433.3,964.35,1460.85,951.55,1821.2,1600.95,399.25,3634.8,292.4,218.55,5071.9,1423.35,3068.6,4690.65,6157.6,1442.65,3369.05,4671.65,272.35,3645.05,135.75,1319.85,229.4,370.25,5714.2,1233.25,3571.6,83.3,8035.95,579.4,7634.25,3653.0,241.3,3870.3,387.9,527.5,2104.55,20.3,19.2,3019.1,7051.95,1190.5,4448.8,1011.05,1714.95,535.35,75.55,6273.4,70.25,908.75,0.0,212.3,316.2,1079.05,564.65,6161.9,2106.05,2511.55,318.6,7323.15,186.05,454.0,7521.95,999.8,2369.7,6297.65,1461.45,416.4,4869.35,3265.95,358.15,2939.8,4652.4,4408.45,580.8,2495.2,5913.95,1389.35,19.4,1629.2,6033.1,44.4,3320.75,1867.7,3972.25,155.9,3673.15,70.6,1126.75,73.45,2413.05,6912.7,1581.95,5586.45,5846.65,6424.7,6018.65,3373.4,1537.9,1080.55,82.85,2016.45,5327.25,683.25,1263.05,7714.65,130.5,2621.75,1875.25,837.5,401.5,6118.95,6480.9,1800.05,7104.2,4214.25,1992.2,1948.35,1007.9,5036.9,6859.05,6521.9,617.85,157.75,516.3,2364.0,6239.05,2042.05,2807.1,4116.8,1317.95,4594.65,6332.75,3213.75,4976.15,7308.95,4555.2,44.95,6982.5,1025.15,5714.2,19.5,789.55,4834.0,3131.8,3369.25,2674.15,199.75,1790.8,19.7,1400.3,411.6,741.0,5841.35,5688.45,31.9,6674.65,1345.75,1843.05,1433.8,214.55,865.85,1358.6,3147.15,4535.85,1078.75,542.4,2312.55,3250.45,98.5,87.9,1952.25,153.8,5610.15,4519.5,2440.25,6860.6,1377.7,190.25,1651.95,78.3,7939.25,44.9,576.7,1279.0,1260.7,267.35,6586.85,934.15,19.45,3645.6,314.45,3053.0,677.05,7965.95,140.1,1108.0,295.55,198.25,6741.15,79.15,1355.45,7209.0,7726.35,2070.75,1636.95,7581.5,4729.75,6126.1,6333.4,6687.85,4158.25,7149.35,1429.65,472.65,113.5,1884.65,2568.15,470.0,278.4,2595.85,5825.5,4449.75,1956.4,310.6,290.55,2096.1,2665.0,543.8,20.35,3005.8,1623.15,2586.0,3292.3,4674.55,232.35,2448.5,658.1,3128.8,653.95,1825.5,943.1,359.4,2338.35,46.3,3541.1,1087.25,2522.4,717.3,1734.2,7069.3,742.9,6423.0,4220.35,1558.7,2743.45,4055.5,6055.55,2538.2,6129.2,1750.85,6652.45,2575.45,6019.35,1379.6,1284.2,296.15,653.25,412.6,1928.7,71.25,7845.8,1750.7,216.2,6029.0,3721.9,3121.1,990.45,1004.35,157.65,3219.75,572.85,4554.85,1847.55,1766.75,1462.05,2193.2,2433.5,641.15,2398.4,861.85,583.0,7332.4,249.55,4475.9,788.6,202.3,6994.6,2263.45,1374.35,4915.15,838.5,20.5,2044.75,30.55,1398.25,3778.2,3161.4,2188.45,3990.6,2635.0,235.0,2347.85,3089.6,2901.8,4949.1,2198.9,761.95,190.25,5163.0,4059.85,2281.6,1356.7,231.45,50.75,242.4,4264.25,2774.55,4069.9,874.2,1323.7,5497.05,534.7,2455.05,947.4,357.0,1476.25,5903.15,1201.65,146.65,1759.4,844.45,7774.05,134.05,140.95,1701.65,592.65,135.75,7732.65,4282.4,2018.1,224.85,3771.5,943.85,6572.85,3175.85,29.15,20.05,2762.75,49.55,232.5,5919.35,749.25,245.15,134.75,8240.85,4266.4,1077.5,1115.6,4079.55,2391.15,890.5,137.25,3119.9,529.5,966.55,6936.85,1929.0,5817.7,178.8,435.0,186.15,445.85,912.0,3581.6,4222.95,5930.05,20.0,797.25,1359.45,54.7,989.05,44.55,87.3,351.55,7297.75,6301.7,3822.45,1048.45,6393.65,1489.3,8061.5,518.75,5763.15,238.5,1031.7,0.0,34.8,1319.95,3950.85,827.05,533.5,3756.45,2599.95,284.3,1740.8,2462.55,411.75,198.6,103.7,4089.45,864.2,19.65,3249.4,5405.8,3363.8,7132.15,93.55,4138.9,5121.75,566.1,2715.3,1782.05,1742.5,24.0,485.9,1905.7,4858.7,3723.65,970.45,1782.0,405.7,2415.95,8297.5,2083.1,4681.75,176.2,1001.2,1594.75,212.4,7677.4,259.65,2386.85,340.35,419.35,7990.05,1402.25,749.35,8425.15,1171.5,5647.95,708.8,7567.2,29.9,4348.1,635.9,1682.4,6925.9,223.15,6758.45,1874.3,791.15,4639.45,143.9,6172.0,1559.45,6079.0,2658.4,383.55,1745.5,2230.85,7281.6,1837.7,180.7,411.45,1328.35,576.95,68.45,123.05,468.35,174.7,44.0,172.35,300.4,4968.0,992.7,5536.5,7806.6,1563.9,1332.4,6296.75,3645.5,161.45,226.95,1441.65,7511.3,5621.85,7919.8,593.2,1423.65,69.95,2763.35,2298.55,2640.55,2911.8,6705.7,237.65,1672.35,695.75,1654.6,1857.85,825.1,6424.25,4126.2,330.8,1337.45,5991.05,4891.5,487.05,4131.2,2301.15,4036.0,4900.65,5727.45,743.05,4804.65,1414.65,1443.65,2898.95,5309.5,20.4,451.55,117.05,5839.3,1893.5,45.35,1654.45,477.05,4546.0,163.2,849.9,189.95,8058.55,7049.75,2560.1,286.8,7982.5,5683.6,3994.05,369.15,4631.7,401.95,1534.05,1093.0,701.3,1980.3,2893.4,262.3,3886.85,5917.55,2139.1,5948.7,3624.35,4753.85,5780.7,6869.7,662.95,1765.95,2431.95,1859.2,3409.1,709.5,50.15,3665.55,5515.8,272.0,6668.0,4052.4,664.4,718.55,2546.85,6944.5,1346.3,765.15,692.55,1187.05,5401.9,247.0,49.9,1370.35,20.25,2215.25,74.0,214.4,1871.15,6171.2,161.45,1013.2,336.7,333.65,6511.8,393.45,7009.5,6921.7,600.25,4664.15,1441.8,5623.7,695.85,1028.75,4155.95,395.6,6330.4,2971.7,638.0,2034.25,3419.5,2427.35,1760.25,3551.65,122.9,1424.2,2909.95,374.0,5581.05,5676.65,3379.25,942.95,232.4,2088.45,1434.6,3870.0,2215.0,842.25,1901.0,601.6,605.45,3094.05,4929.55,595.05,8436.25,19.75,492.0,987.95,5496.9,1908.35,107.1,4575.35,4309.55,7922.75,522.35,587.7,3876.2,3778.85,8349.45,19.5,1066.9,1226.45,342.3,985.05,3948.45,828.05,6164.7,33.6,20.7,6590.5,717.95,4885.85,6871.7,405.6,208.25,1801.9,3062.45,1764.75,1816.75,1255.1,3921.1,1463.45,189.45,96.8,408.5,1846.65,8456.75,1011.5,4263.4,2549.1,3965.05,7840.6,6632.75,1013.35,152.95,3772.65,1026.35,19.3,5031.85,220.4,1416.5,158.35,5542.55,8443.7,5708.2,2016.3,326.65,5471.75,19.95,1061.6,1971.5,19.75,2460.35,856.5,1275.85,7467.5,7261.75,5116.6,660.05,6590.8,1208.15,1033.9,1885.15,2006.95,5025.0,3088.25,3134.7,8312.4,4863.85,6637.9,3165.6,6786.1,543.0,867.3,25.75,109.5,4692.95,546.85,1274.05,1782.4,5301.1,280.35,2897.95,3371.0,801.3,1079.45,6997.3,979.05,4119.4,3349.1,492.1,1718.95,605.25,1344.5,4267.15,1121.05,918.7,521.8,4469.1,1729.35,1073.3,4566.5,2603.1,1783.75,6322.1,57.4,4284.65,7138.65,1539.75,1058.1,123.8,2731.0,20.75,497.3,711.15,1898.1,3273.95,2929.75,838.7,1443.65,7746.7,6951.15,214.75,2669.45,235.2,3103.25,5330.2,1403.1,2727.8,5038.45,1462.6,150.6,5960.5,1192.3,314.55,56.0,330.8,877.35,2249.1,2807.65,1696.2,1032.05,4902.8,4995.35,5034.05,1857.75,1992.85,1714.95,343.6,20.15,520.1,1387.45,7383.7,4483.95,1706.45,1327.4,5974.3,0.0,179.85,5040.2,422.7,20.25,358.05,2936.25,1271.8,530.05,19.2,1144.6,7556.9,4858.7,6595.0,149.05,4972.1,2045.55,2187.15,2976.95,178.7,5025.85,3353.4,1461.15,2782.4,1699.15,452.2,4428.45,1322.55,139.75,1927.3,3000.25,3021.3,2245.4,944.65,1264.2,4917.75,5743.3,1864.65,1221.65,1390.85,302.35,1374.9,1336.9,1297.8,6067.4,1222.25,487.95,2548.55,835.5,44.75,6218.45,7320.9,6333.8,4200.25,5950.2,93.4,1614.9,1573.95,1468.75,2607.6,1523.4,3435.6,4549.45,322.5,5375.15,2510.7,3090.05,61.05,955.6,140.4,1493.1,1626.05,1784.9,70.35,6075.9,5500.6,73.1,3399.85,6431.05,19.75,1230.9,454.65,235.05,6595.9,5867.0,196.35,6449.15,762.45,785.75,1776.0,5396.25,574.5,400.3,2656.3,1445.95,5212.65,2244.95,1130.0,6463.15,6252.7,2062.15,587.1,720.45,2979.3,956.65,3973.2,447.9,1335.2,7555.0,49.0,836.35,20.95,2570.0,798.2,44.15,6487.2,1556.85,1988.05,5432.2,147.55,8424.9,2203.7,387.4,3045.75,130.5,767.9,446.8,8100.25,4689.15,6754.35,3540.65,2184.6,130.55,1540.35,6411.25,1432.55,7629.85,101.9,313.4,6312.9,629.55,2640.55,1372.45,1212.25,6237.05,6310.9,5031.0,8672.45,2196.45,3008.15,220.8,5779.6,222.65,914.6,246.3,5560.0,1633.0,969.85,2610.65,6567.9,4747.85,1759.55,101.1,6496.15,4234.15,300.7,59.55,4323.35,1466.1,1776.45,2933.95,144.35,4804.75,1125.2,39.85,422.4,8332.15,314.6,4331.4,6382.0,600.15,5538.8,7049.5,690.5,279.3,1427.55,1709.15,53.15,777.35,860.85,5012.1,2404.1,24.4,209.9,610.75,70.7,155.35,144.0,7875.0,911.6,478.1,761.85,2282.95,1615.1,1097.15,369.3,6725.3,6293.2,432.5,2434.45,532.1,375.25,125.95,1042.65,1620.25,659.35,1285.8,377.55,6058.95,964.9,2322.85,4854.3,7748.75,6470.1,57.4,2019.8,1522.7,1334.5,252.0,700.45,5655.45,6747.35,5174.35,105.6,2271.85,2966.95,61.15,494.95,5290.45,3346.8,5219.65,217.5,607.7,5431.4,6004.85,5957.9,5442.05,4370.25,4428.6,416.45,6688.1,4224.7,4042.2,3580.95,1198.8,1755.35,3772.5,2877.95,357.7,1397.3,959.9,3704.15,4620.4,8312.75,929.3,1285.05,1521.2,3389.25,1198.05,3414.65,754.0,467.15,373.0,481.1,1728.2,2964.05,2156.25,1051.9,5013.0,1738.9,2275.1,5511.65,1316.9,7993.3,19.85,1388.45,666.0,94.45,4134.7,4862.5,351.5,106.2,1413.0,1743.05,657.5,1050.5,426.35,4982.5,19.55,7634.8,235.05,3116.15,2633.4,49.65,4920.8,46.35,5276.1,8289.2,2659.45,196.75,5824.75,1517.5,3479.05,7365.7,1331.05,1195.95,3946.9,4299.95,20.3,4391.25,4213.9,19.9,5017.7,4916.4,2959.8,7559.55,7133.1,1799.3,1597.05,524.35,4191.45,711.95,2201.75,806.95,1620.45,6812.95,1837.9,7344.45,1500.25,2283.15,1376.5,755.4,825.4,488.65,2075.1,5299.65,1356.3,5042.75,812.4,6605.55,505.95,3509.4,6991.9,590.35,2789.7,1123.15,7953.25,349.8,1067.05,3527.3,1248.9,3035.35,4300.8,6065.3,144.95,2308.6,1882.8,3255.35,1067.65,2065.4,4136.4,3848.0,8022.85,173.15,781.25,4510.8,5317.8,4779.45,250.1,1745.2,4140.1,3670.5,1167.8,469.65,1381.2,3645.5,1158.85,6954.15,1672.1,4307.1,6141.65,1054.8,5430.65,849.9,151.75,299.4,1086.75,2692.75,1389.6,3767.4,3641.5,2535.55,6880.85,3753.2,637.55,5329.55,44.55,1539.8,2209.75,223.75,7751.7,1174.35,4385.05,2606.35,18.9,1261.35,5969.3,253.9,400.0,227.35,2357.75,198.5,554.25,251.65,5597.65,768.05,1215.8,3522.65,910.45,3656.25,52.0,150.85,389.25,1873.7,1261.0,7346.2,3708.4,469.65,1385.85,548.8,2536.55,6042.7,958.25,1730.65,459.6,201.95,285.2,1529.45,4664.5,3496.3,7053.35,301.55,312.7,2960.1,6953.4,541.5,116.85,7942.15,5321.25,4156.8,223.6,768.45,3765.05,2157.5,1391.65,1379.8,1273.3,810.45,1810.85,7782.85,1797.1,377.85,445.3,7624.2,355.1,906.85,1057.55,19.4,1388.75,1641.3,185.2,1826.7,417.5,344.5,2180.55,2835.9,45.15,2730.85,5437.1,5794.45,747.2,1267.95,3674.95,1275.6,5893.9,724.65,1536.75,607.3,4154.55,847.8,2390.45,1923.5,1493.2,75.35,2184.85,1031.4,921.3,3875.4,144.15,6689.0,1451.1,6368.2,3729.6,350.1,2847.2,452.35,1494.5,41.85,1272.05,475.1,150.75,3199.0,5844.65,2462.6,6263.8,3403.4,1672.1,7881.2,2320.8,370.5,3043.7,2723.4,1081.25,4097.05,632.2,8166.8,4113.7,3047.15,4193.4,3729.75,399.45,1964.6,1336.15,486.05,5925.75,4747.2,1028.9,4692.55,19.75,154.3,6382.55,7623.2,1261.45,89.25,86.05,6779.05,4345.0,82.85,1714.55,893.2,810.85,6347.55,1123.65,43.15,35.1,1388.0,3851.45,2638.1,946.95,1114.85,1777.6,684.85,74.35,1312.45,159.2,610.2,404.35,6363.45,4124.65,950.75,19.65,505.95,1149.65,169.65,393.15,1147.0,5718.2,4539.6,6397.6,280.4,5711.05,3478.15,4133.95,2917.65,54.3,2964.8,2198.3,1189.9,1914.5,5336.35,7238.6,7998.8,5703.25,7397.0,164.6,6555.2,225.65,955.75,3382.3,2313.8,780.85,7852.4,2763.0,1614.7,270.15,0.0,20.6,1734.5,7047.5,573.15,1538.6,4459.8,7459.0,306.05,639.7,348.15,5563.65,40.25,4228.55,784.45,3729.75,1406.9,1857.3,7322.5,6725.5,3627.3,1725.95,4192.15,1411.2,264.55,4671.7,1173.55,7713.55,2471.25,7842.3,2227.8,2351.45,2989.6,6077.75,4070.95,2479.05,2134.3,6000.1,2203.1,183.15,6194.1,638.95,831.75,1337.5,7181.95,2560.1,5953.0,1790.15,2531.4,4760.3,953.65,5705.05,20.55,6993.65,4122.65,5762.95,1537.85,2603.3,5566.4,5431.9,2258.25,1092.35,6401.25,616.9,1912.85,849.1,3460.3,90.1,5555.3,1278.8,2907.35,4952.95,4504.9,4520.15,2316.85,8075.35,2302.35,7251.9,2078.55,6225.4,1242.25,99.45,599.25,3462.1,2375.2,2813.05,6314.35,19.1,1003.05,1593.1,2509.95,3187.65,3330.1,5522.7,4798.4,8594.4,970.55,7665.8,3686.05,2537.0,1393.6,89.35,4445.3,978.6,1258.15,331.35,84.75,1715.1,1715.15,1250.1,3996.8,5215.1,673.2,1442.2,5222.35,7291.75,424.5,249.4,4415.75,5270.6,2884.9,253.0,436.2,118.4,3649.6,255.6,2395.05,5083.55,644.5,39.3,989.05,2406.1,638.55,191.1,4524.05,4664.2,3470.8,6910.3,4014.2,1288.0,6375.8,5251.75,1505.45,913.3,5535.8,815.55,1411.65,5602.25,8244.3,741.5,4375.8,5968.4,3096.9,3901.25,2613.4,5661.7,695.05,5552.05,3275.15,4236.6,54.5,962.9,1498.35,1233.15,4882.8,5411.65,148.05,3930.55,6895.5,6856.95,2658.8,3766.2,129.55,581.7,929.45,679.0,3846.75,4480.7,499.4,1553.2,219.5,5311.85,2576.8,6435.25,1993.25,1923.85,939.8,84.6,5986.55,5487.0,651.5,45.4,6856.45,50.75,4735.2,682.15,4525.8,321.05,335.65,1424.4,1748.55,1077.95,3694.45,382.8,746.75,368.85,20.2,1654.7,1940.85,1794.65,5289.8,501.2,6140.85,48.45,309.25,6179.35,55.7,4589.85,3735.45,477.55,2553.7,1342.15,1216.35,7578.05,2603.95,42.7,6056.9,2983.65,689.35,2025.1,1747.2,4657.95,8016.6,433.5,5883.85,1043.8,1857.25,146.4,1724.15,429.55,356.15,488.25,1298.7,1378.75,384.25,8543.25,389.95,5731.85,20.65,4275.75,84.5,1924.1,5784.3,5166.2,4060.55,3532.85,4914.8,5315.8,775.6,5445.95,1007.8,833.55,1004.5,1183.05,501.35,4126.35,477.6,265.75,2424.45,1849.95,61.05,1698.55,998.1,1383.6,493.4,1207.0,563.5,864.55,701.05,5749.8,2796.45,5165.7,5696.6,2076.05,44.2,215.25,1859.5,7470.1,2092.9,5629.55,469.85,733.95,485.25,78.25,1131.5,184.05,1178.75,5629.15,109.3,958.45,403.15,4392.5,3168.0,1096.6,669.45,2343.85,48.6,7511.9,1725.0,49.75,1691.9,2248.05,4479.2,3471.1,63.0,3314.15,852.7,1930.9,91.4,3949.15,4304.0,1554.9,3472.05,117.8,3210.35,207.4,19.75,3132.75,2106.3,35.0,903.7,3882.3,879.8,383.65,4390.25,68.2,452.8,5329.0,1758.9,5737.6,1219.85,2414.55,1155.6,1809.35,1564.4,19.65,84.4,864.85,228.75,7752.05,470.6,4060.9,108.65,3952.65,494.05,3416.85,1498.65,4807.35,471.35,1041.8,7689.8,1815.0,1311.3,199.45,1637.3,1326.35,6376.55,935.9,20.05,1611.15,6989.7,2779.5,8331.95,735.9,2283.3,1445.2,2333.05,1992.55,5890.0,1029.8,1796.55,33.7,454.05,1392.25,1049.6,734.6,475.1,1540.05,1978.65,3181.8,229.7,5625.55,1347.15,3808.2,3974.15,7661.8,2479.25,266.6,5601.4,1982.6,339.9,4828.05,5980.55,4808.7,20.3,1068.15,2383.6,1438.05,917.45,6096.45,99.95,475.2,2036.55,6444.05,767.55,7932.5,4040.65,2768.65,1672.35,1345.65,2425.4,2077.95,1663.5,1286.05,1094.35,7719.5,514.6,4932.5,5443.65,330.25,122.7,6631.85,8250.0,3561.15,1763.55,2419.0,470.2,5234.95,3097.0,1709.1,1848.8,723.3,577.15,6914.95,602.9,124.4,96.8,3827.9,533.05,2961.4,995.35,2815.25,154.8,257.6,5757.2,7517.7,1234.8,3836.3,6001.45,720.1,2832.75,472.25,1336.35,6388.65,677.9,1165.6,921.55,72.0,68.35,847.25,44.0,4295.35,1380.4,4386.2,52.05,2018.4,2727.3,263.65,275.4,538.5,948.9,846.8,2997.45,5897.4,524.5,269.65,2341.5,1789.65,1626.4,800.3,5060.85,466.6,4627.8,6838.6,85.0,44.3,4297.6,414.1,256.6,2274.1,1296.8,1268.85,8192.6,59.25,1147.85,4361.55,2006.1,2078.95,7609.75,487.05,1218.45,1416.2,483.3,1234.6,1311.6,5618.3,6185.15,788.35,756.4,3625.2,550.35,4793.8,1267.2,5567.45,5706.2,3085.35,24.7,3541.4,84.2,50.7,1165.55,4855.35,608.15,641.35,4959.15,35.9,1321.3,1663.75,3024.15,2188.5,2724.25,413.25,1374.2,6692.65,218.5,1004.75,1125.6,3847.6,978.0,1387.35,746.05,304.6,1098.85,4368.95,827.7,20.35,262.05,3512.5,151.75,8033.1,1253.65,552.65,1036.0,4025.5,928.4,24.9,6506.15,5598.3,4374.55,678.75,2191.7,239.75,609.05,683.75,5189.75,5060.9,233.65,291.45,689.75,3263.9,1993.2,254.5,347.65,967.9,1841.9,232.1,809.25,360.55,355.9,129.15,5835.5,7031.45,109.6,727.8,893.0,763.1,781.4,902.25,1016.7,5943.65,275.7,3126.45,1070.15,340.4,4299.2,1093.2,521.9,1630.4,713.6,1265.65,4003.85,1401.4,1510.5,264.8,4541.9,4976.15,7542.25,251.25,1595.5,685.55,3874.1,6891.4,4916.95,1373.0,49.8,1548.65,3440.25,4226.7,1023.75,7074.4,6849.75,3263.6,1252.85,67.55,70.2,5750.0,1549.75,1810.55,7467.55,5484.4,294.9,97.5,19.95,476.8,101.65,1130.85,3532.25,6891.45,1570.7,520.95,7854.9,3581.4,1447.9,8547.15,727.85,357.6,159.35,280.85,6069.25,3274.35,6109.65,1122.4,2020.9,3795.45,3579.15,49.7,276.5,8175.9,890.35,5588.8,50.6,58.0,938.95,2024.1,3623.95,3877.95,4577.9,25.85,2871.5,1270.55,7711.45,2193.65,31.2,38.25,3348.1,533.6,2907.55,1620.8,3480.35,293.85,4137.2,19.4,5348.65,3180.5,3023.85,1031.1,6471.85,6241.35,6501.35,2317.1,2237.55,5231.3,165.5,358.5,6614.9,2421.75,1294.6,1299.1,5733.4,7430.75,630.6,1222.65,374.8,7234.8,331.85,5088.4,4860.85,788.05,1266.35,688.2,387.7,845.25,4230.25,4983.05,4113.15,521.0,471.85,5976.9,4299.75,7548.6,1654.75,4551.5,6227.5,20.05,57.5,1474.35,3270.25,3919.15,7285.7,7658.3,5959.3,5295.7,4693.2,3512.9,5231.2,3603.45,217.45,6875.35,19.25,2021.35,2564.95,5611.75,7610.1,45.75,4543.95,450.4,1297.35,4442.75,1423.15,4378.35,74.2,450.65,1175.85,558.8,2220.1,3283.05,4939.25,4237.5,335.95,7188.5,926.25,1119.35,116.6,68.8,2341.55,1362.85,163.6,145.15,4786.1,3835.55,397.0,1027.25,1580.1,7222.75,3769.7,4233.95,1680.25,3725.5,7707.7,8309.55,601.55,139.25,1888.25,2773.9,5409.75,401.3,3238.4,1573.05,235.8,1364.75,1985.15,4335.2,647.5,2748.7,2483.65,6367.2,4904.2,2044.95,1794.8,7173.15,7039.05,921.4,4018.35,5448.6,20.25,2085.45,5135.15,730.1,118.25,1108.6,1815.65,730.4,75.45,4014.6,568.85,5860.7,7279.35,1064.95,5886.85,4238.45,418.3,136.05,708.2,788.55,4378.8,3442.8,7171.7,553.0,96.85,4122.9,1482.3,1240.8,6578.55,19.55,2802.3,857.75,184.4,6093.3,1861.1,1079.65,7475.1,2862.55,3069.45,2349.8,469.25,3301.05,3529.95,4144.9,4265.0,3246.45,8337.45,5731.4,6176.6,1905.4,931.9,776.25,5243.05,141.65,7679.65,1006.9,2540.1,3097.2,2484.0,5785.65,2619.15,1524.85,2790.65,1784.5,2276.1,2029.05,802.35,4653.25,275.9,343.45,2130.45,1191.4,2554.0,5589.45,467.7,3756.45,3334.9,920.5,3431.75,150.35,367.95,5125.75,4801.1,19.55,550.1,7862.25,1242.2,3190.65,2666.75,3533.6,792.15,295.65,1459.35,4297.95,4096.9,3454.6,1286.0,1387.0,786.3,641.25,705.45,345.5,345.9,5811.8,124.45,1375.6,3491.55,7920.7,6640.7,718.1,320.4,1334.45,3358.65,4764.0,5703.0,525.55,483.15,934.8,786.5,5364.8,20.3,770.4,6816.95,2419.55,4138.7,3457.45,4630.2,3221.25,688.5,867.1,4746.05,355.1,5764.7,428.45,1505.35,693.45,1177.95,1458.1,2298.9,1679.65,369.6,2998.0,5206.55,24.4,1959.5,2053.05,398.55,3425.35,1275.7,2965.75,1647.0,6109.75,3751.15,411.25,105.5,3320.6,5669.5,465.45,704.3,95.55,6375.2,8152.3,1566.75,130.25,162.15,110.05,1885.15,6302.85,2264.5,816.8,1253.5,41.2,5265.55,693.3,5997.1,3824.2,3886.05,7283.25,412.55,1070.25,817.95,1171.3,6548.65,625.65,1911.5,1507.0,299.3,5832.65,5567.55,4166.35,7898.45,3915.4,979.5,90.05,398.55,1958.45,63.15,1301.1,484.05,3887.85,2208.75,238.15,958.15,3845.45,1267.0,633.45,6129.65,1218.25,1405.3,533.9,676.15,3804.4,1118.8,5236.4,1386.8,1902.0,239.05,5673.7,39.8,997.75,5574.35,406.05,138.85,123.65,1801.1,689.0,790.7,1618.2,1173.35,900.9,6719.9,3784.0,1798.65,54.65,3886.45,1224.05,2310.2,3988.5,3554.6,0.0,6034.85,531.6,85.1,173.0,2511.95,3893.6,357.15,467.5,2288.7,6460.55,1931.3,402.6,2221.55,7758.9,224.5,7388.45,3460.95,1700.9,3090.65,1293.8,645.8,5224.95,500.1,2427.1,3488.15,1035.7,7565.35,2799.0,1601.5,6256.2,1232.9,19.9,1937.4,5059.75,3023.65,4889.2,2289.9,6503.2,1313.25,990.3,1864.2,5979.7,3902.45,7142.5,902.0,805.2,528.45,8349.7,4953.25,332.65,470.2,2259.35,1411.35,6328.7,1411.9,6841.4,20.35,238.5,4016.3,226.55,7110.75,1958.95,5528.9,1463.7,1025.05,552.1,3815.4,0.0,3313.4,1938.9,460.25,4839.15,19.9,5139.65,1673.4,309.35,3171.6,8670.1,916.0,299.75,702.05,19.65,4438.2,4819.75,92.25,1567.0,1242.45,559.2,531.15,1183.2,465.85,3782.4,460.2,1790.35,7767.25,876.15,4600.95,1793.25,886.7,7737.55,1686.85,1879.25,4013.8,434.5,7195.35,780.1,107.6,3801.7,3778.1,5438.95,5102.35,1872.2,213.35,5386.5,235.65,2272.8,83.75,4663.4,201.7,125.0,684.4,1146.05,1806.35,603.0,5798.3,497.6,19.3,266.95,257.0,2623.65,45.85,1082.8,147.8,2570.2,4378.9,3616.25,2924.05,32.7,2882.25,1509.9,5305.05,7985.9,2985.25,564.35,1311.75,3720.35,5025.8,5224.5,6185.8,1498.55,1208.6,6613.65,1818.9,1787.35,1051.05,7181.25,3688.6,821.6,239.45,244.45,3357.9,129.6,4977.2,2424.05,4981.15,2090.25,4905.75,2038.7,4014.0,2441.7,2751.0,1307.8,383.65,53.55,7882.5,1087.7,791.7,7493.05,6841.3,819.95,6052.25,4869.5,509.3,4308.25,221.1,3833.95,294.95,316.9,2651.2,471.7,5720.95,503.25,7365.3,7245.9,961.4,4615.9,3251.3,3880.05,3088.75,1396.0,53.05,2108.35,6770.5,4730.6,1151.05,232.55,1022.6,309.4,523.1,4250.1,770.5,246.7,3342.0,3930.6,897.75,2780.6,5895.45,2208.05,4871.45,4947.55,1558.65,4284.2,1218.25,5617.95,24.2,554.45,5237.4,2032.3,789.2,1525.35,3726.15,1652.1,1588.75,3366.05,7113.75,993.15,5012.35,2093.4,1011.8,1343.4,6794.75,1022.5,3691.2,486.2,4685.55,5150.55,3756.4,3645.75,2874.45,49.95,1020.75,826.0,239.0,7544.3,6479.4,3626.35,1679.4,931.55,4326.25,263.05,39.25,3316.1,2625.25,1495.1,743.3,1419.4,1990.5,7362.9,346.45,6844.5],\"xaxis\":\"x2\",\"yaxis\":\"y2\",\"type\":\"box\"}],                        {\"template\":{\"data\":{\"histogram2dcontour\":[{\"type\":\"histogram2dcontour\",\"colorbar\":{\"outlinewidth\":0,\"ticks\":\"\"},\"colorscale\":[[0.0,\"#0d0887\"],[0.1111111111111111,\"#46039f\"],[0.2222222222222222,\"#7201a8\"],[0.3333333333333333,\"#9c179e\"],[0.4444444444444444,\"#bd3786\"],[0.5555555555555556,\"#d8576b\"],[0.6666666666666666,\"#ed7953\"],[0.7777777777777778,\"#fb9f3a\"],[0.8888888888888888,\"#fdca26\"],[1.0,\"#f0f921\"]]}],\"choropleth\":[{\"type\":\"choropleth\",\"colorbar\":{\"outlinewidth\":0,\"ticks\":\"\"}}],\"histogram2d\":[{\"type\":\"histogram2d\",\"colorbar\":{\"outlinewidth\":0,\"ticks\":\"\"},\"colorscale\":[[0.0,\"#0d0887\"],[0.1111111111111111,\"#46039f\"],[0.2222222222222222,\"#7201a8\"],[0.3333333333333333,\"#9c179e\"],[0.4444444444444444,\"#bd3786\"],[0.5555555555555556,\"#d8576b\"],[0.6666666666666666,\"#ed7953\"],[0.7777777777777778,\"#fb9f3a\"],[0.8888888888888888,\"#fdca26\"],[1.0,\"#f0f921\"]]}],\"heatmap\":[{\"type\":\"heatmap\",\"colorbar\":{\"outlinewidth\":0,\"ticks\":\"\"},\"colorscale\":[[0.0,\"#0d0887\"],[0.1111111111111111,\"#46039f\"],[0.2222222222222222,\"#7201a8\"],[0.3333333333333333,\"#9c179e\"],[0.4444444444444444,\"#bd3786\"],[0.5555555555555556,\"#d8576b\"],[0.6666666666666666,\"#ed7953\"],[0.7777777777777778,\"#fb9f3a\"],[0.8888888888888888,\"#fdca26\"],[1.0,\"#f0f921\"]]}],\"heatmapgl\":[{\"type\":\"heatmapgl\",\"colorbar\":{\"outlinewidth\":0,\"ticks\":\"\"},\"colorscale\":[[0.0,\"#0d0887\"],[0.1111111111111111,\"#46039f\"],[0.2222222222222222,\"#7201a8\"],[0.3333333333333333,\"#9c179e\"],[0.4444444444444444,\"#bd3786\"],[0.5555555555555556,\"#d8576b\"],[0.6666666666666666,\"#ed7953\"],[0.7777777777777778,\"#fb9f3a\"],[0.8888888888888888,\"#fdca26\"],[1.0,\"#f0f921\"]]}],\"contourcarpet\":[{\"type\":\"contourcarpet\",\"colorbar\":{\"outlinewidth\":0,\"ticks\":\"\"}}],\"contour\":[{\"type\":\"contour\",\"colorbar\":{\"outlinewidth\":0,\"ticks\":\"\"},\"colorscale\":[[0.0,\"#0d0887\"],[0.1111111111111111,\"#46039f\"],[0.2222222222222222,\"#7201a8\"],[0.3333333333333333,\"#9c179e\"],[0.4444444444444444,\"#bd3786\"],[0.5555555555555556,\"#d8576b\"],[0.6666666666666666,\"#ed7953\"],[0.7777777777777778,\"#fb9f3a\"],[0.8888888888888888,\"#fdca26\"],[1.0,\"#f0f921\"]]}],\"surface\":[{\"type\":\"surface\",\"colorbar\":{\"outlinewidth\":0,\"ticks\":\"\"},\"colorscale\":[[0.0,\"#0d0887\"],[0.1111111111111111,\"#46039f\"],[0.2222222222222222,\"#7201a8\"],[0.3333333333333333,\"#9c179e\"],[0.4444444444444444,\"#bd3786\"],[0.5555555555555556,\"#d8576b\"],[0.6666666666666666,\"#ed7953\"],[0.7777777777777778,\"#fb9f3a\"],[0.8888888888888888,\"#fdca26\"],[1.0,\"#f0f921\"]]}],\"mesh3d\":[{\"type\":\"mesh3d\",\"colorbar\":{\"outlinewidth\":0,\"ticks\":\"\"}}],\"scatter\":[{\"fillpattern\":{\"fillmode\":\"overlay\",\"size\":10,\"solidity\":0.2},\"type\":\"scatter\"}],\"parcoords\":[{\"type\":\"parcoords\",\"line\":{\"colorbar\":{\"outlinewidth\":0,\"ticks\":\"\"}}}],\"scatterpolargl\":[{\"type\":\"scatterpolargl\",\"marker\":{\"colorbar\":{\"outlinewidth\":0,\"ticks\":\"\"}}}],\"bar\":[{\"error_x\":{\"color\":\"#2a3f5f\"},\"error_y\":{\"color\":\"#2a3f5f\"},\"marker\":{\"line\":{\"color\":\"#E5ECF6\",\"width\":0.5},\"pattern\":{\"fillmode\":\"overlay\",\"size\":10,\"solidity\":0.2}},\"type\":\"bar\"}],\"scattergeo\":[{\"type\":\"scattergeo\",\"marker\":{\"colorbar\":{\"outlinewidth\":0,\"ticks\":\"\"}}}],\"scatterpolar\":[{\"type\":\"scatterpolar\",\"marker\":{\"colorbar\":{\"outlinewidth\":0,\"ticks\":\"\"}}}],\"histogram\":[{\"marker\":{\"pattern\":{\"fillmode\":\"overlay\",\"size\":10,\"solidity\":0.2}},\"type\":\"histogram\"}],\"scattergl\":[{\"type\":\"scattergl\",\"marker\":{\"colorbar\":{\"outlinewidth\":0,\"ticks\":\"\"}}}],\"scatter3d\":[{\"type\":\"scatter3d\",\"line\":{\"colorbar\":{\"outlinewidth\":0,\"ticks\":\"\"}},\"marker\":{\"colorbar\":{\"outlinewidth\":0,\"ticks\":\"\"}}}],\"scattermapbox\":[{\"type\":\"scattermapbox\",\"marker\":{\"colorbar\":{\"outlinewidth\":0,\"ticks\":\"\"}}}],\"scatterternary\":[{\"type\":\"scatterternary\",\"marker\":{\"colorbar\":{\"outlinewidth\":0,\"ticks\":\"\"}}}],\"scattercarpet\":[{\"type\":\"scattercarpet\",\"marker\":{\"colorbar\":{\"outlinewidth\":0,\"ticks\":\"\"}}}],\"carpet\":[{\"aaxis\":{\"endlinecolor\":\"#2a3f5f\",\"gridcolor\":\"white\",\"linecolor\":\"white\",\"minorgridcolor\":\"white\",\"startlinecolor\":\"#2a3f5f\"},\"baxis\":{\"endlinecolor\":\"#2a3f5f\",\"gridcolor\":\"white\",\"linecolor\":\"white\",\"minorgridcolor\":\"white\",\"startlinecolor\":\"#2a3f5f\"},\"type\":\"carpet\"}],\"table\":[{\"cells\":{\"fill\":{\"color\":\"#EBF0F8\"},\"line\":{\"color\":\"white\"}},\"header\":{\"fill\":{\"color\":\"#C8D4E3\"},\"line\":{\"color\":\"white\"}},\"type\":\"table\"}],\"barpolar\":[{\"marker\":{\"line\":{\"color\":\"#E5ECF6\",\"width\":0.5},\"pattern\":{\"fillmode\":\"overlay\",\"size\":10,\"solidity\":0.2}},\"type\":\"barpolar\"}],\"pie\":[{\"automargin\":true,\"type\":\"pie\"}]},\"layout\":{\"autotypenumbers\":\"strict\",\"colorway\":[\"#636efa\",\"#EF553B\",\"#00cc96\",\"#ab63fa\",\"#FFA15A\",\"#19d3f3\",\"#FF6692\",\"#B6E880\",\"#FF97FF\",\"#FECB52\"],\"font\":{\"color\":\"#2a3f5f\"},\"hovermode\":\"closest\",\"hoverlabel\":{\"align\":\"left\"},\"paper_bgcolor\":\"white\",\"plot_bgcolor\":\"#E5ECF6\",\"polar\":{\"bgcolor\":\"#E5ECF6\",\"angularaxis\":{\"gridcolor\":\"white\",\"linecolor\":\"white\",\"ticks\":\"\"},\"radialaxis\":{\"gridcolor\":\"white\",\"linecolor\":\"white\",\"ticks\":\"\"}},\"ternary\":{\"bgcolor\":\"#E5ECF6\",\"aaxis\":{\"gridcolor\":\"white\",\"linecolor\":\"white\",\"ticks\":\"\"},\"baxis\":{\"gridcolor\":\"white\",\"linecolor\":\"white\",\"ticks\":\"\"},\"caxis\":{\"gridcolor\":\"white\",\"linecolor\":\"white\",\"ticks\":\"\"}},\"coloraxis\":{\"colorbar\":{\"outlinewidth\":0,\"ticks\":\"\"}},\"colorscale\":{\"sequential\":[[0.0,\"#0d0887\"],[0.1111111111111111,\"#46039f\"],[0.2222222222222222,\"#7201a8\"],[0.3333333333333333,\"#9c179e\"],[0.4444444444444444,\"#bd3786\"],[0.5555555555555556,\"#d8576b\"],[0.6666666666666666,\"#ed7953\"],[0.7777777777777778,\"#fb9f3a\"],[0.8888888888888888,\"#fdca26\"],[1.0,\"#f0f921\"]],\"sequentialminus\":[[0.0,\"#0d0887\"],[0.1111111111111111,\"#46039f\"],[0.2222222222222222,\"#7201a8\"],[0.3333333333333333,\"#9c179e\"],[0.4444444444444444,\"#bd3786\"],[0.5555555555555556,\"#d8576b\"],[0.6666666666666666,\"#ed7953\"],[0.7777777777777778,\"#fb9f3a\"],[0.8888888888888888,\"#fdca26\"],[1.0,\"#f0f921\"]],\"diverging\":[[0,\"#8e0152\"],[0.1,\"#c51b7d\"],[0.2,\"#de77ae\"],[0.3,\"#f1b6da\"],[0.4,\"#fde0ef\"],[0.5,\"#f7f7f7\"],[0.6,\"#e6f5d0\"],[0.7,\"#b8e186\"],[0.8,\"#7fbc41\"],[0.9,\"#4d9221\"],[1,\"#276419\"]]},\"xaxis\":{\"gridcolor\":\"white\",\"linecolor\":\"white\",\"ticks\":\"\",\"title\":{\"standoff\":15},\"zerolinecolor\":\"white\",\"automargin\":true,\"zerolinewidth\":2},\"yaxis\":{\"gridcolor\":\"white\",\"linecolor\":\"white\",\"ticks\":\"\",\"title\":{\"standoff\":15},\"zerolinecolor\":\"white\",\"automargin\":true,\"zerolinewidth\":2},\"scene\":{\"xaxis\":{\"backgroundcolor\":\"#E5ECF6\",\"gridcolor\":\"white\",\"linecolor\":\"white\",\"showbackground\":true,\"ticks\":\"\",\"zerolinecolor\":\"white\",\"gridwidth\":2},\"yaxis\":{\"backgroundcolor\":\"#E5ECF6\",\"gridcolor\":\"white\",\"linecolor\":\"white\",\"showbackground\":true,\"ticks\":\"\",\"zerolinecolor\":\"white\",\"gridwidth\":2},\"zaxis\":{\"backgroundcolor\":\"#E5ECF6\",\"gridcolor\":\"white\",\"linecolor\":\"white\",\"showbackground\":true,\"ticks\":\"\",\"zerolinecolor\":\"white\",\"gridwidth\":2}},\"shapedefaults\":{\"line\":{\"color\":\"#2a3f5f\"}},\"annotationdefaults\":{\"arrowcolor\":\"#2a3f5f\",\"arrowhead\":0,\"arrowwidth\":1},\"geo\":{\"bgcolor\":\"white\",\"landcolor\":\"#E5ECF6\",\"subunitcolor\":\"white\",\"showland\":true,\"showlakes\":true,\"lakecolor\":\"white\"},\"title\":{\"x\":0.05},\"mapbox\":{\"style\":\"light\"}}},\"xaxis\":{\"anchor\":\"y\",\"domain\":[0.0,1.0],\"title\":{\"text\":\"Total Charges\"}},\"yaxis\":{\"anchor\":\"x\",\"domain\":[0.0,0.7326],\"title\":{\"text\":\"count\"}},\"xaxis2\":{\"anchor\":\"y2\",\"domain\":[0.0,1.0],\"matches\":\"x\",\"showticklabels\":false,\"showgrid\":true},\"yaxis2\":{\"anchor\":\"x2\",\"domain\":[0.7426,1.0],\"matches\":\"y2\",\"showticklabels\":false,\"showline\":false,\"ticks\":\"\",\"showgrid\":false},\"legend\":{\"title\":{\"text\":\"Churn Label\"},\"tracegroupgap\":0},\"margin\":{\"t\":60},\"barmode\":\"relative\"},                        {\"responsive\": true}                    ).then(function(){\n",
       "                            \n",
       "var gd = document.getElementById('b0f24911-c81f-4a78-9527-d4ce6e23618e');\n",
       "var x = new MutationObserver(function (mutations, observer) {{\n",
       "        var display = window.getComputedStyle(gd).display;\n",
       "        if (!display || display === 'none') {{\n",
       "            console.log([gd, 'removed!']);\n",
       "            Plotly.purge(gd);\n",
       "            observer.disconnect();\n",
       "        }}\n",
       "}});\n",
       "\n",
       "// Listen for the removal of the full notebook cells\n",
       "var notebookContainer = gd.closest('#notebook-container');\n",
       "if (notebookContainer) {{\n",
       "    x.observe(notebookContainer, {childList: true});\n",
       "}}\n",
       "\n",
       "// Listen for the clearing of the current output cell\n",
       "var outputEl = gd.closest('.output');\n",
       "if (outputEl) {{\n",
       "    x.observe(outputEl, {childList: true});\n",
       "}}\n",
       "\n",
       "                        })                };                });            </script>        </div>"
      ]
     },
     "metadata": {},
     "output_type": "display_data"
    }
   ],
   "source": [
    "fig = px.histogram(df, x=\"Total Charges\", color=\"Churn Label\", marginal=\"box\")\n",
    "fig.show()"
   ]
  },
  {
   "cell_type": "markdown",
   "id": "5a618ecb",
   "metadata": {
    "papermill": {
     "duration": 0.021812,
     "end_time": "2023-11-14T14:42:30.748225",
     "exception": false,
     "start_time": "2023-11-14T14:42:30.726413",
     "status": "completed"
    },
    "tags": []
   },
   "source": [
    "**The median charges of churned customers are lower than the median charges of non-churned customers more than 2 times.**\n",
    "\n",
    "**Total charges go downhill sharply**"
   ]
  },
  {
   "cell_type": "markdown",
   "id": "cfe6e5e6",
   "metadata": {
    "papermill": {
     "duration": 0.021937,
     "end_time": "2023-11-14T14:42:30.792288",
     "exception": false,
     "start_time": "2023-11-14T14:42:30.770351",
     "status": "completed"
    },
    "tags": []
   },
   "source": [
    "## Tech Support"
   ]
  },
  {
   "cell_type": "code",
   "execution_count": 43,
   "id": "3c9416d7",
   "metadata": {
    "execution": {
     "iopub.execute_input": "2023-11-14T14:42:30.837714Z",
     "iopub.status.busy": "2023-11-14T14:42:30.837351Z",
     "iopub.status.idle": "2023-11-14T14:42:30.892404Z",
     "shell.execute_reply": "2023-11-14T14:42:30.891354Z"
    },
    "papermill": {
     "duration": 0.079949,
     "end_time": "2023-11-14T14:42:30.894366",
     "exception": false,
     "start_time": "2023-11-14T14:42:30.814417",
     "status": "completed"
    },
    "tags": []
   },
   "outputs": [
    {
     "data": {
      "text/html": [
       "<div>                            <div id=\"0e2e533c-b34b-4523-a2f7-37712b1733b7\" class=\"plotly-graph-div\" style=\"height:525px; width:100%;\"></div>            <script type=\"text/javascript\">                require([\"plotly\"], function(Plotly) {                    window.PLOTLYENV=window.PLOTLYENV || {};                                    if (document.getElementById(\"0e2e533c-b34b-4523-a2f7-37712b1733b7\")) {                    Plotly.newPlot(                        \"0e2e533c-b34b-4523-a2f7-37712b1733b7\",                        [{\"domain\":{\"x\":[0.0,0.49],\"y\":[0.0,1.0]},\"hovertemplate\":\"Churn Label=No\\u003cbr\\u003eTech Support=%{label}\\u003cbr\\u003eCustomerID=%{value}\\u003cextra\\u003e\\u003c\\u002fextra\\u003e\",\"labels\":[\"No\",\"No internet service\",\"Yes\"],\"legendgroup\":\"\",\"name\":\"\",\"showlegend\":true,\"values\":[2027,1413,1734],\"type\":\"pie\"},{\"domain\":{\"x\":[0.51,1.0],\"y\":[0.0,1.0]},\"hovertemplate\":\"Churn Label=Yes\\u003cbr\\u003eTech Support=%{label}\\u003cbr\\u003eCustomerID=%{value}\\u003cextra\\u003e\\u003c\\u002fextra\\u003e\",\"labels\":[\"No\",\"No internet service\",\"Yes\"],\"legendgroup\":\"\",\"name\":\"\",\"showlegend\":true,\"values\":[1446,113,310],\"type\":\"pie\"}],                        {\"template\":{\"data\":{\"histogram2dcontour\":[{\"type\":\"histogram2dcontour\",\"colorbar\":{\"outlinewidth\":0,\"ticks\":\"\"},\"colorscale\":[[0.0,\"#0d0887\"],[0.1111111111111111,\"#46039f\"],[0.2222222222222222,\"#7201a8\"],[0.3333333333333333,\"#9c179e\"],[0.4444444444444444,\"#bd3786\"],[0.5555555555555556,\"#d8576b\"],[0.6666666666666666,\"#ed7953\"],[0.7777777777777778,\"#fb9f3a\"],[0.8888888888888888,\"#fdca26\"],[1.0,\"#f0f921\"]]}],\"choropleth\":[{\"type\":\"choropleth\",\"colorbar\":{\"outlinewidth\":0,\"ticks\":\"\"}}],\"histogram2d\":[{\"type\":\"histogram2d\",\"colorbar\":{\"outlinewidth\":0,\"ticks\":\"\"},\"colorscale\":[[0.0,\"#0d0887\"],[0.1111111111111111,\"#46039f\"],[0.2222222222222222,\"#7201a8\"],[0.3333333333333333,\"#9c179e\"],[0.4444444444444444,\"#bd3786\"],[0.5555555555555556,\"#d8576b\"],[0.6666666666666666,\"#ed7953\"],[0.7777777777777778,\"#fb9f3a\"],[0.8888888888888888,\"#fdca26\"],[1.0,\"#f0f921\"]]}],\"heatmap\":[{\"type\":\"heatmap\",\"colorbar\":{\"outlinewidth\":0,\"ticks\":\"\"},\"colorscale\":[[0.0,\"#0d0887\"],[0.1111111111111111,\"#46039f\"],[0.2222222222222222,\"#7201a8\"],[0.3333333333333333,\"#9c179e\"],[0.4444444444444444,\"#bd3786\"],[0.5555555555555556,\"#d8576b\"],[0.6666666666666666,\"#ed7953\"],[0.7777777777777778,\"#fb9f3a\"],[0.8888888888888888,\"#fdca26\"],[1.0,\"#f0f921\"]]}],\"heatmapgl\":[{\"type\":\"heatmapgl\",\"colorbar\":{\"outlinewidth\":0,\"ticks\":\"\"},\"colorscale\":[[0.0,\"#0d0887\"],[0.1111111111111111,\"#46039f\"],[0.2222222222222222,\"#7201a8\"],[0.3333333333333333,\"#9c179e\"],[0.4444444444444444,\"#bd3786\"],[0.5555555555555556,\"#d8576b\"],[0.6666666666666666,\"#ed7953\"],[0.7777777777777778,\"#fb9f3a\"],[0.8888888888888888,\"#fdca26\"],[1.0,\"#f0f921\"]]}],\"contourcarpet\":[{\"type\":\"contourcarpet\",\"colorbar\":{\"outlinewidth\":0,\"ticks\":\"\"}}],\"contour\":[{\"type\":\"contour\",\"colorbar\":{\"outlinewidth\":0,\"ticks\":\"\"},\"colorscale\":[[0.0,\"#0d0887\"],[0.1111111111111111,\"#46039f\"],[0.2222222222222222,\"#7201a8\"],[0.3333333333333333,\"#9c179e\"],[0.4444444444444444,\"#bd3786\"],[0.5555555555555556,\"#d8576b\"],[0.6666666666666666,\"#ed7953\"],[0.7777777777777778,\"#fb9f3a\"],[0.8888888888888888,\"#fdca26\"],[1.0,\"#f0f921\"]]}],\"surface\":[{\"type\":\"surface\",\"colorbar\":{\"outlinewidth\":0,\"ticks\":\"\"},\"colorscale\":[[0.0,\"#0d0887\"],[0.1111111111111111,\"#46039f\"],[0.2222222222222222,\"#7201a8\"],[0.3333333333333333,\"#9c179e\"],[0.4444444444444444,\"#bd3786\"],[0.5555555555555556,\"#d8576b\"],[0.6666666666666666,\"#ed7953\"],[0.7777777777777778,\"#fb9f3a\"],[0.8888888888888888,\"#fdca26\"],[1.0,\"#f0f921\"]]}],\"mesh3d\":[{\"type\":\"mesh3d\",\"colorbar\":{\"outlinewidth\":0,\"ticks\":\"\"}}],\"scatter\":[{\"fillpattern\":{\"fillmode\":\"overlay\",\"size\":10,\"solidity\":0.2},\"type\":\"scatter\"}],\"parcoords\":[{\"type\":\"parcoords\",\"line\":{\"colorbar\":{\"outlinewidth\":0,\"ticks\":\"\"}}}],\"scatterpolargl\":[{\"type\":\"scatterpolargl\",\"marker\":{\"colorbar\":{\"outlinewidth\":0,\"ticks\":\"\"}}}],\"bar\":[{\"error_x\":{\"color\":\"#2a3f5f\"},\"error_y\":{\"color\":\"#2a3f5f\"},\"marker\":{\"line\":{\"color\":\"#E5ECF6\",\"width\":0.5},\"pattern\":{\"fillmode\":\"overlay\",\"size\":10,\"solidity\":0.2}},\"type\":\"bar\"}],\"scattergeo\":[{\"type\":\"scattergeo\",\"marker\":{\"colorbar\":{\"outlinewidth\":0,\"ticks\":\"\"}}}],\"scatterpolar\":[{\"type\":\"scatterpolar\",\"marker\":{\"colorbar\":{\"outlinewidth\":0,\"ticks\":\"\"}}}],\"histogram\":[{\"marker\":{\"pattern\":{\"fillmode\":\"overlay\",\"size\":10,\"solidity\":0.2}},\"type\":\"histogram\"}],\"scattergl\":[{\"type\":\"scattergl\",\"marker\":{\"colorbar\":{\"outlinewidth\":0,\"ticks\":\"\"}}}],\"scatter3d\":[{\"type\":\"scatter3d\",\"line\":{\"colorbar\":{\"outlinewidth\":0,\"ticks\":\"\"}},\"marker\":{\"colorbar\":{\"outlinewidth\":0,\"ticks\":\"\"}}}],\"scattermapbox\":[{\"type\":\"scattermapbox\",\"marker\":{\"colorbar\":{\"outlinewidth\":0,\"ticks\":\"\"}}}],\"scatterternary\":[{\"type\":\"scatterternary\",\"marker\":{\"colorbar\":{\"outlinewidth\":0,\"ticks\":\"\"}}}],\"scattercarpet\":[{\"type\":\"scattercarpet\",\"marker\":{\"colorbar\":{\"outlinewidth\":0,\"ticks\":\"\"}}}],\"carpet\":[{\"aaxis\":{\"endlinecolor\":\"#2a3f5f\",\"gridcolor\":\"white\",\"linecolor\":\"white\",\"minorgridcolor\":\"white\",\"startlinecolor\":\"#2a3f5f\"},\"baxis\":{\"endlinecolor\":\"#2a3f5f\",\"gridcolor\":\"white\",\"linecolor\":\"white\",\"minorgridcolor\":\"white\",\"startlinecolor\":\"#2a3f5f\"},\"type\":\"carpet\"}],\"table\":[{\"cells\":{\"fill\":{\"color\":\"#EBF0F8\"},\"line\":{\"color\":\"white\"}},\"header\":{\"fill\":{\"color\":\"#C8D4E3\"},\"line\":{\"color\":\"white\"}},\"type\":\"table\"}],\"barpolar\":[{\"marker\":{\"line\":{\"color\":\"#E5ECF6\",\"width\":0.5},\"pattern\":{\"fillmode\":\"overlay\",\"size\":10,\"solidity\":0.2}},\"type\":\"barpolar\"}],\"pie\":[{\"automargin\":true,\"type\":\"pie\"}]},\"layout\":{\"autotypenumbers\":\"strict\",\"colorway\":[\"#636efa\",\"#EF553B\",\"#00cc96\",\"#ab63fa\",\"#FFA15A\",\"#19d3f3\",\"#FF6692\",\"#B6E880\",\"#FF97FF\",\"#FECB52\"],\"font\":{\"color\":\"#2a3f5f\"},\"hovermode\":\"closest\",\"hoverlabel\":{\"align\":\"left\"},\"paper_bgcolor\":\"white\",\"plot_bgcolor\":\"#E5ECF6\",\"polar\":{\"bgcolor\":\"#E5ECF6\",\"angularaxis\":{\"gridcolor\":\"white\",\"linecolor\":\"white\",\"ticks\":\"\"},\"radialaxis\":{\"gridcolor\":\"white\",\"linecolor\":\"white\",\"ticks\":\"\"}},\"ternary\":{\"bgcolor\":\"#E5ECF6\",\"aaxis\":{\"gridcolor\":\"white\",\"linecolor\":\"white\",\"ticks\":\"\"},\"baxis\":{\"gridcolor\":\"white\",\"linecolor\":\"white\",\"ticks\":\"\"},\"caxis\":{\"gridcolor\":\"white\",\"linecolor\":\"white\",\"ticks\":\"\"}},\"coloraxis\":{\"colorbar\":{\"outlinewidth\":0,\"ticks\":\"\"}},\"colorscale\":{\"sequential\":[[0.0,\"#0d0887\"],[0.1111111111111111,\"#46039f\"],[0.2222222222222222,\"#7201a8\"],[0.3333333333333333,\"#9c179e\"],[0.4444444444444444,\"#bd3786\"],[0.5555555555555556,\"#d8576b\"],[0.6666666666666666,\"#ed7953\"],[0.7777777777777778,\"#fb9f3a\"],[0.8888888888888888,\"#fdca26\"],[1.0,\"#f0f921\"]],\"sequentialminus\":[[0.0,\"#0d0887\"],[0.1111111111111111,\"#46039f\"],[0.2222222222222222,\"#7201a8\"],[0.3333333333333333,\"#9c179e\"],[0.4444444444444444,\"#bd3786\"],[0.5555555555555556,\"#d8576b\"],[0.6666666666666666,\"#ed7953\"],[0.7777777777777778,\"#fb9f3a\"],[0.8888888888888888,\"#fdca26\"],[1.0,\"#f0f921\"]],\"diverging\":[[0,\"#8e0152\"],[0.1,\"#c51b7d\"],[0.2,\"#de77ae\"],[0.3,\"#f1b6da\"],[0.4,\"#fde0ef\"],[0.5,\"#f7f7f7\"],[0.6,\"#e6f5d0\"],[0.7,\"#b8e186\"],[0.8,\"#7fbc41\"],[0.9,\"#4d9221\"],[1,\"#276419\"]]},\"xaxis\":{\"gridcolor\":\"white\",\"linecolor\":\"white\",\"ticks\":\"\",\"title\":{\"standoff\":15},\"zerolinecolor\":\"white\",\"automargin\":true,\"zerolinewidth\":2},\"yaxis\":{\"gridcolor\":\"white\",\"linecolor\":\"white\",\"ticks\":\"\",\"title\":{\"standoff\":15},\"zerolinecolor\":\"white\",\"automargin\":true,\"zerolinewidth\":2},\"scene\":{\"xaxis\":{\"backgroundcolor\":\"#E5ECF6\",\"gridcolor\":\"white\",\"linecolor\":\"white\",\"showbackground\":true,\"ticks\":\"\",\"zerolinecolor\":\"white\",\"gridwidth\":2},\"yaxis\":{\"backgroundcolor\":\"#E5ECF6\",\"gridcolor\":\"white\",\"linecolor\":\"white\",\"showbackground\":true,\"ticks\":\"\",\"zerolinecolor\":\"white\",\"gridwidth\":2},\"zaxis\":{\"backgroundcolor\":\"#E5ECF6\",\"gridcolor\":\"white\",\"linecolor\":\"white\",\"showbackground\":true,\"ticks\":\"\",\"zerolinecolor\":\"white\",\"gridwidth\":2}},\"shapedefaults\":{\"line\":{\"color\":\"#2a3f5f\"}},\"annotationdefaults\":{\"arrowcolor\":\"#2a3f5f\",\"arrowhead\":0,\"arrowwidth\":1},\"geo\":{\"bgcolor\":\"white\",\"landcolor\":\"#E5ECF6\",\"subunitcolor\":\"white\",\"showland\":true,\"showlakes\":true,\"lakecolor\":\"white\"},\"title\":{\"x\":0.05},\"mapbox\":{\"style\":\"light\"}}},\"annotations\":[{\"font\":{},\"showarrow\":false,\"text\":\"Churn Label=No\",\"x\":0.245,\"xanchor\":\"center\",\"xref\":\"paper\",\"y\":1.0,\"yanchor\":\"bottom\",\"yref\":\"paper\"},{\"font\":{},\"showarrow\":false,\"text\":\"Churn Label=Yes\",\"x\":0.755,\"xanchor\":\"center\",\"xref\":\"paper\",\"y\":1.0,\"yanchor\":\"bottom\",\"yref\":\"paper\"}],\"legend\":{\"tracegroupgap\":0},\"title\":{\"text\":\"Tech support option and churn\"}},                        {\"responsive\": true}                    ).then(function(){\n",
       "                            \n",
       "var gd = document.getElementById('0e2e533c-b34b-4523-a2f7-37712b1733b7');\n",
       "var x = new MutationObserver(function (mutations, observer) {{\n",
       "        var display = window.getComputedStyle(gd).display;\n",
       "        if (!display || display === 'none') {{\n",
       "            console.log([gd, 'removed!']);\n",
       "            Plotly.purge(gd);\n",
       "            observer.disconnect();\n",
       "        }}\n",
       "}});\n",
       "\n",
       "// Listen for the removal of the full notebook cells\n",
       "var notebookContainer = gd.closest('#notebook-container');\n",
       "if (notebookContainer) {{\n",
       "    x.observe(notebookContainer, {childList: true});\n",
       "}}\n",
       "\n",
       "// Listen for the clearing of the current output cell\n",
       "var outputEl = gd.closest('.output');\n",
       "if (outputEl) {{\n",
       "    x.observe(outputEl, {childList: true});\n",
       "}}\n",
       "\n",
       "                        })                };                });            </script>        </div>"
      ]
     },
     "metadata": {},
     "output_type": "display_data"
    }
   ],
   "source": [
    "grouped = df.groupby(['Tech Support', 'Churn Label'])['CustomerID'].count()\n",
    "fig = px.pie(grouped.reset_index(), values='CustomerID', facet_col = 'Churn Label',\n",
    "             names='Tech Support',\n",
    "             title = 'Tech support option and churn')\n",
    "fig.show()"
   ]
  },
  {
   "cell_type": "markdown",
   "id": "740c450e",
   "metadata": {
    "papermill": {
     "duration": 0.022726,
     "end_time": "2023-11-14T14:42:30.940381",
     "exception": false,
     "start_time": "2023-11-14T14:42:30.917655",
     "status": "completed"
    },
    "tags": []
   },
   "source": [
    "**`77,4%` of the customers who left the service did not have the tech support option enabled.**"
   ]
  },
  {
   "cell_type": "code",
   "execution_count": 44,
   "id": "63660bd5",
   "metadata": {
    "execution": {
     "iopub.execute_input": "2023-11-14T14:42:30.988311Z",
     "iopub.status.busy": "2023-11-14T14:42:30.987337Z",
     "iopub.status.idle": "2023-11-14T14:42:31.051130Z",
     "shell.execute_reply": "2023-11-14T14:42:31.050105Z"
    },
    "papermill": {
     "duration": 0.089619,
     "end_time": "2023-11-14T14:42:31.052994",
     "exception": false,
     "start_time": "2023-11-14T14:42:30.963375",
     "status": "completed"
    },
    "tags": []
   },
   "outputs": [
    {
     "data": {
      "text/html": [
       "<div>                            <div id=\"28222419-481b-48f0-84a3-5d59f0dad642\" class=\"plotly-graph-div\" style=\"height:525px; width:100%;\"></div>            <script type=\"text/javascript\">                require([\"plotly\"], function(Plotly) {                    window.PLOTLYENV=window.PLOTLYENV || {};                                    if (document.getElementById(\"28222419-481b-48f0-84a3-5d59f0dad642\")) {                    Plotly.newPlot(                        \"28222419-481b-48f0-84a3-5d59f0dad642\",                        [{\"alignmentgroup\":\"True\",\"hovertemplate\":\"Churn Label=No\\u003cbr\\u003ePercentage=%{text}\\u003cbr\\u003eTech Support=%{y}\\u003cextra\\u003e\\u003c\\u002fextra\\u003e\",\"legendgroup\":\"No\",\"marker\":{\"color\":\"#636efa\",\"pattern\":{\"shape\":\"\"}},\"name\":\"No\",\"offsetgroup\":\"No\",\"orientation\":\"h\",\"showlegend\":true,\"text\":[0.58,0.93,0.85],\"textposition\":\"auto\",\"x\":[0.58,0.93,0.85],\"xaxis\":\"x\",\"y\":[\"No\",\"No internet service\",\"Yes\"],\"yaxis\":\"y\",\"type\":\"bar\"},{\"alignmentgroup\":\"True\",\"hovertemplate\":\"Churn Label=Yes\\u003cbr\\u003ePercentage=%{text}\\u003cbr\\u003eTech Support=%{y}\\u003cextra\\u003e\\u003c\\u002fextra\\u003e\",\"legendgroup\":\"Yes\",\"marker\":{\"color\":\"#EF553B\",\"pattern\":{\"shape\":\"\"}},\"name\":\"Yes\",\"offsetgroup\":\"Yes\",\"orientation\":\"h\",\"showlegend\":true,\"text\":[0.42,0.07,0.15],\"textposition\":\"auto\",\"x\":[0.42,0.07,0.15],\"xaxis\":\"x\",\"y\":[\"No\",\"No internet service\",\"Yes\"],\"yaxis\":\"y\",\"type\":\"bar\"}],                        {\"template\":{\"data\":{\"histogram2dcontour\":[{\"type\":\"histogram2dcontour\",\"colorbar\":{\"outlinewidth\":0,\"ticks\":\"\"},\"colorscale\":[[0.0,\"#0d0887\"],[0.1111111111111111,\"#46039f\"],[0.2222222222222222,\"#7201a8\"],[0.3333333333333333,\"#9c179e\"],[0.4444444444444444,\"#bd3786\"],[0.5555555555555556,\"#d8576b\"],[0.6666666666666666,\"#ed7953\"],[0.7777777777777778,\"#fb9f3a\"],[0.8888888888888888,\"#fdca26\"],[1.0,\"#f0f921\"]]}],\"choropleth\":[{\"type\":\"choropleth\",\"colorbar\":{\"outlinewidth\":0,\"ticks\":\"\"}}],\"histogram2d\":[{\"type\":\"histogram2d\",\"colorbar\":{\"outlinewidth\":0,\"ticks\":\"\"},\"colorscale\":[[0.0,\"#0d0887\"],[0.1111111111111111,\"#46039f\"],[0.2222222222222222,\"#7201a8\"],[0.3333333333333333,\"#9c179e\"],[0.4444444444444444,\"#bd3786\"],[0.5555555555555556,\"#d8576b\"],[0.6666666666666666,\"#ed7953\"],[0.7777777777777778,\"#fb9f3a\"],[0.8888888888888888,\"#fdca26\"],[1.0,\"#f0f921\"]]}],\"heatmap\":[{\"type\":\"heatmap\",\"colorbar\":{\"outlinewidth\":0,\"ticks\":\"\"},\"colorscale\":[[0.0,\"#0d0887\"],[0.1111111111111111,\"#46039f\"],[0.2222222222222222,\"#7201a8\"],[0.3333333333333333,\"#9c179e\"],[0.4444444444444444,\"#bd3786\"],[0.5555555555555556,\"#d8576b\"],[0.6666666666666666,\"#ed7953\"],[0.7777777777777778,\"#fb9f3a\"],[0.8888888888888888,\"#fdca26\"],[1.0,\"#f0f921\"]]}],\"heatmapgl\":[{\"type\":\"heatmapgl\",\"colorbar\":{\"outlinewidth\":0,\"ticks\":\"\"},\"colorscale\":[[0.0,\"#0d0887\"],[0.1111111111111111,\"#46039f\"],[0.2222222222222222,\"#7201a8\"],[0.3333333333333333,\"#9c179e\"],[0.4444444444444444,\"#bd3786\"],[0.5555555555555556,\"#d8576b\"],[0.6666666666666666,\"#ed7953\"],[0.7777777777777778,\"#fb9f3a\"],[0.8888888888888888,\"#fdca26\"],[1.0,\"#f0f921\"]]}],\"contourcarpet\":[{\"type\":\"contourcarpet\",\"colorbar\":{\"outlinewidth\":0,\"ticks\":\"\"}}],\"contour\":[{\"type\":\"contour\",\"colorbar\":{\"outlinewidth\":0,\"ticks\":\"\"},\"colorscale\":[[0.0,\"#0d0887\"],[0.1111111111111111,\"#46039f\"],[0.2222222222222222,\"#7201a8\"],[0.3333333333333333,\"#9c179e\"],[0.4444444444444444,\"#bd3786\"],[0.5555555555555556,\"#d8576b\"],[0.6666666666666666,\"#ed7953\"],[0.7777777777777778,\"#fb9f3a\"],[0.8888888888888888,\"#fdca26\"],[1.0,\"#f0f921\"]]}],\"surface\":[{\"type\":\"surface\",\"colorbar\":{\"outlinewidth\":0,\"ticks\":\"\"},\"colorscale\":[[0.0,\"#0d0887\"],[0.1111111111111111,\"#46039f\"],[0.2222222222222222,\"#7201a8\"],[0.3333333333333333,\"#9c179e\"],[0.4444444444444444,\"#bd3786\"],[0.5555555555555556,\"#d8576b\"],[0.6666666666666666,\"#ed7953\"],[0.7777777777777778,\"#fb9f3a\"],[0.8888888888888888,\"#fdca26\"],[1.0,\"#f0f921\"]]}],\"mesh3d\":[{\"type\":\"mesh3d\",\"colorbar\":{\"outlinewidth\":0,\"ticks\":\"\"}}],\"scatter\":[{\"fillpattern\":{\"fillmode\":\"overlay\",\"size\":10,\"solidity\":0.2},\"type\":\"scatter\"}],\"parcoords\":[{\"type\":\"parcoords\",\"line\":{\"colorbar\":{\"outlinewidth\":0,\"ticks\":\"\"}}}],\"scatterpolargl\":[{\"type\":\"scatterpolargl\",\"marker\":{\"colorbar\":{\"outlinewidth\":0,\"ticks\":\"\"}}}],\"bar\":[{\"error_x\":{\"color\":\"#2a3f5f\"},\"error_y\":{\"color\":\"#2a3f5f\"},\"marker\":{\"line\":{\"color\":\"#E5ECF6\",\"width\":0.5},\"pattern\":{\"fillmode\":\"overlay\",\"size\":10,\"solidity\":0.2}},\"type\":\"bar\"}],\"scattergeo\":[{\"type\":\"scattergeo\",\"marker\":{\"colorbar\":{\"outlinewidth\":0,\"ticks\":\"\"}}}],\"scatterpolar\":[{\"type\":\"scatterpolar\",\"marker\":{\"colorbar\":{\"outlinewidth\":0,\"ticks\":\"\"}}}],\"histogram\":[{\"marker\":{\"pattern\":{\"fillmode\":\"overlay\",\"size\":10,\"solidity\":0.2}},\"type\":\"histogram\"}],\"scattergl\":[{\"type\":\"scattergl\",\"marker\":{\"colorbar\":{\"outlinewidth\":0,\"ticks\":\"\"}}}],\"scatter3d\":[{\"type\":\"scatter3d\",\"line\":{\"colorbar\":{\"outlinewidth\":0,\"ticks\":\"\"}},\"marker\":{\"colorbar\":{\"outlinewidth\":0,\"ticks\":\"\"}}}],\"scattermapbox\":[{\"type\":\"scattermapbox\",\"marker\":{\"colorbar\":{\"outlinewidth\":0,\"ticks\":\"\"}}}],\"scatterternary\":[{\"type\":\"scatterternary\",\"marker\":{\"colorbar\":{\"outlinewidth\":0,\"ticks\":\"\"}}}],\"scattercarpet\":[{\"type\":\"scattercarpet\",\"marker\":{\"colorbar\":{\"outlinewidth\":0,\"ticks\":\"\"}}}],\"carpet\":[{\"aaxis\":{\"endlinecolor\":\"#2a3f5f\",\"gridcolor\":\"white\",\"linecolor\":\"white\",\"minorgridcolor\":\"white\",\"startlinecolor\":\"#2a3f5f\"},\"baxis\":{\"endlinecolor\":\"#2a3f5f\",\"gridcolor\":\"white\",\"linecolor\":\"white\",\"minorgridcolor\":\"white\",\"startlinecolor\":\"#2a3f5f\"},\"type\":\"carpet\"}],\"table\":[{\"cells\":{\"fill\":{\"color\":\"#EBF0F8\"},\"line\":{\"color\":\"white\"}},\"header\":{\"fill\":{\"color\":\"#C8D4E3\"},\"line\":{\"color\":\"white\"}},\"type\":\"table\"}],\"barpolar\":[{\"marker\":{\"line\":{\"color\":\"#E5ECF6\",\"width\":0.5},\"pattern\":{\"fillmode\":\"overlay\",\"size\":10,\"solidity\":0.2}},\"type\":\"barpolar\"}],\"pie\":[{\"automargin\":true,\"type\":\"pie\"}]},\"layout\":{\"autotypenumbers\":\"strict\",\"colorway\":[\"#636efa\",\"#EF553B\",\"#00cc96\",\"#ab63fa\",\"#FFA15A\",\"#19d3f3\",\"#FF6692\",\"#B6E880\",\"#FF97FF\",\"#FECB52\"],\"font\":{\"color\":\"#2a3f5f\"},\"hovermode\":\"closest\",\"hoverlabel\":{\"align\":\"left\"},\"paper_bgcolor\":\"white\",\"plot_bgcolor\":\"#E5ECF6\",\"polar\":{\"bgcolor\":\"#E5ECF6\",\"angularaxis\":{\"gridcolor\":\"white\",\"linecolor\":\"white\",\"ticks\":\"\"},\"radialaxis\":{\"gridcolor\":\"white\",\"linecolor\":\"white\",\"ticks\":\"\"}},\"ternary\":{\"bgcolor\":\"#E5ECF6\",\"aaxis\":{\"gridcolor\":\"white\",\"linecolor\":\"white\",\"ticks\":\"\"},\"baxis\":{\"gridcolor\":\"white\",\"linecolor\":\"white\",\"ticks\":\"\"},\"caxis\":{\"gridcolor\":\"white\",\"linecolor\":\"white\",\"ticks\":\"\"}},\"coloraxis\":{\"colorbar\":{\"outlinewidth\":0,\"ticks\":\"\"}},\"colorscale\":{\"sequential\":[[0.0,\"#0d0887\"],[0.1111111111111111,\"#46039f\"],[0.2222222222222222,\"#7201a8\"],[0.3333333333333333,\"#9c179e\"],[0.4444444444444444,\"#bd3786\"],[0.5555555555555556,\"#d8576b\"],[0.6666666666666666,\"#ed7953\"],[0.7777777777777778,\"#fb9f3a\"],[0.8888888888888888,\"#fdca26\"],[1.0,\"#f0f921\"]],\"sequentialminus\":[[0.0,\"#0d0887\"],[0.1111111111111111,\"#46039f\"],[0.2222222222222222,\"#7201a8\"],[0.3333333333333333,\"#9c179e\"],[0.4444444444444444,\"#bd3786\"],[0.5555555555555556,\"#d8576b\"],[0.6666666666666666,\"#ed7953\"],[0.7777777777777778,\"#fb9f3a\"],[0.8888888888888888,\"#fdca26\"],[1.0,\"#f0f921\"]],\"diverging\":[[0,\"#8e0152\"],[0.1,\"#c51b7d\"],[0.2,\"#de77ae\"],[0.3,\"#f1b6da\"],[0.4,\"#fde0ef\"],[0.5,\"#f7f7f7\"],[0.6,\"#e6f5d0\"],[0.7,\"#b8e186\"],[0.8,\"#7fbc41\"],[0.9,\"#4d9221\"],[1,\"#276419\"]]},\"xaxis\":{\"gridcolor\":\"white\",\"linecolor\":\"white\",\"ticks\":\"\",\"title\":{\"standoff\":15},\"zerolinecolor\":\"white\",\"automargin\":true,\"zerolinewidth\":2},\"yaxis\":{\"gridcolor\":\"white\",\"linecolor\":\"white\",\"ticks\":\"\",\"title\":{\"standoff\":15},\"zerolinecolor\":\"white\",\"automargin\":true,\"zerolinewidth\":2},\"scene\":{\"xaxis\":{\"backgroundcolor\":\"#E5ECF6\",\"gridcolor\":\"white\",\"linecolor\":\"white\",\"showbackground\":true,\"ticks\":\"\",\"zerolinecolor\":\"white\",\"gridwidth\":2},\"yaxis\":{\"backgroundcolor\":\"#E5ECF6\",\"gridcolor\":\"white\",\"linecolor\":\"white\",\"showbackground\":true,\"ticks\":\"\",\"zerolinecolor\":\"white\",\"gridwidth\":2},\"zaxis\":{\"backgroundcolor\":\"#E5ECF6\",\"gridcolor\":\"white\",\"linecolor\":\"white\",\"showbackground\":true,\"ticks\":\"\",\"zerolinecolor\":\"white\",\"gridwidth\":2}},\"shapedefaults\":{\"line\":{\"color\":\"#2a3f5f\"}},\"annotationdefaults\":{\"arrowcolor\":\"#2a3f5f\",\"arrowhead\":0,\"arrowwidth\":1},\"geo\":{\"bgcolor\":\"white\",\"landcolor\":\"#E5ECF6\",\"subunitcolor\":\"white\",\"showland\":true,\"showlakes\":true,\"lakecolor\":\"white\"},\"title\":{\"x\":0.05},\"mapbox\":{\"style\":\"light\"}}},\"xaxis\":{\"anchor\":\"y\",\"domain\":[0.0,1.0],\"title\":{\"text\":\"Percentage\"}},\"yaxis\":{\"anchor\":\"x\",\"domain\":[0.0,1.0],\"title\":{\"text\":\"Tech Support\"}},\"legend\":{\"title\":{\"text\":\"Churn Label\"},\"tracegroupgap\":0},\"title\":{\"text\":\"100% Stacked Bar Chart by Tech Support and Churn Label\"},\"barmode\":\"relative\"},                        {\"responsive\": true}                    ).then(function(){\n",
       "                            \n",
       "var gd = document.getElementById('28222419-481b-48f0-84a3-5d59f0dad642');\n",
       "var x = new MutationObserver(function (mutations, observer) {{\n",
       "        var display = window.getComputedStyle(gd).display;\n",
       "        if (!display || display === 'none') {{\n",
       "            console.log([gd, 'removed!']);\n",
       "            Plotly.purge(gd);\n",
       "            observer.disconnect();\n",
       "        }}\n",
       "}});\n",
       "\n",
       "// Listen for the removal of the full notebook cells\n",
       "var notebookContainer = gd.closest('#notebook-container');\n",
       "if (notebookContainer) {{\n",
       "    x.observe(notebookContainer, {childList: true});\n",
       "}}\n",
       "\n",
       "// Listen for the clearing of the current output cell\n",
       "var outputEl = gd.closest('.output');\n",
       "if (outputEl) {{\n",
       "    x.observe(outputEl, {childList: true});\n",
       "}}\n",
       "\n",
       "                        })                };                });            </script>        </div>"
      ]
     },
     "metadata": {},
     "output_type": "display_data"
    }
   ],
   "source": [
    "total_counts = grouped.groupby('Tech Support').transform('sum')\n",
    "normalized_count = round(grouped / total_counts,2)\n",
    "Internet_Service_ChurnLabel = pd.DataFrame({'rate': normalized_count}).reset_index()\n",
    "\n",
    "fig = px.bar(Internet_Service_ChurnLabel, x='rate', y='Tech Support', color='Churn Label',\n",
    "             title='100% Stacked Bar Chart by Tech Support and Churn Label', text= 'rate',\n",
    "             labels={'rate': 'Percentage'})\n",
    "\n",
    "fig.update_layout(barmode='relative')  # Make the bar chart 100% stacked\n",
    "\n",
    "fig.show()"
   ]
  },
  {
   "cell_type": "markdown",
   "id": "fe544e00",
   "metadata": {
    "papermill": {
     "duration": 0.021879,
     "end_time": "2023-11-14T14:42:31.097426",
     "exception": false,
     "start_time": "2023-11-14T14:42:31.075547",
     "status": "completed"
    },
    "tags": []
   },
   "source": [
    "**Costumers don't have Tech Support have the highest churn rate about `42%`** "
   ]
  },
  {
   "cell_type": "markdown",
   "id": "cf8d9fa9",
   "metadata": {
    "papermill": {
     "duration": 0.022303,
     "end_time": "2023-11-14T14:42:31.142541",
     "exception": false,
     "start_time": "2023-11-14T14:42:31.120238",
     "status": "completed"
    },
    "tags": []
   },
   "source": [
    "# Conclusion"
   ]
  },
  {
   "cell_type": "markdown",
   "id": "1766b7c0",
   "metadata": {
    "papermill": {
     "duration": 0.022055,
     "end_time": "2023-11-14T14:42:31.187342",
     "exception": false,
     "start_time": "2023-11-14T14:42:31.165287",
     "status": "completed"
    },
    "tags": []
   },
   "source": [
    "# UPVOTE if you find it good analysis and visualization "
   ]
  }
 ],
 "metadata": {
  "kernelspec": {
   "display_name": "Python 3",
   "language": "python",
   "name": "python3"
  },
  "language_info": {
   "codemirror_mode": {
    "name": "ipython",
    "version": 3
   },
   "file_extension": ".py",
   "mimetype": "text/x-python",
   "name": "python",
   "nbconvert_exporter": "python",
   "pygments_lexer": "ipython3",
   "version": "3.10.12"
  },
  "papermill": {
   "default_parameters": {},
   "duration": 16.625519,
   "end_time": "2023-11-14T14:42:31.932696",
   "environment_variables": {},
   "exception": null,
   "input_path": "__notebook__.ipynb",
   "output_path": "__notebook__.ipynb",
   "parameters": {},
   "start_time": "2023-11-14T14:42:15.307177",
   "version": "2.4.0"
  }
 },
 "nbformat": 4,
 "nbformat_minor": 5
}
